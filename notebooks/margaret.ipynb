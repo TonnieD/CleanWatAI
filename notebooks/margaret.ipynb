{
 "cells": [
  {
   "cell_type": "code",
   "execution_count": 3,
   "id": "f232e399",
   "metadata": {},
   "outputs": [],
   "source": [
    "%load_ext autoreload\n",
    "%autoreload 2"
   ]
  },
  {
   "cell_type": "markdown",
   "id": "30716b18",
   "metadata": {},
   "source": [
    "# GEMS(Chemical Water Quality)"
   ]
  },
  {
   "cell_type": "markdown",
   "id": "02302b9b",
   "metadata": {},
   "source": [
    "### Variables"
   ]
  },
  {
   "cell_type": "markdown",
   "id": "71afb5e7",
   "metadata": {},
   "source": [
    "\n",
    "- Dissolved Oxygen (DO)\n",
    "\n",
    "- Nitrogen (likely multiple: Nitrate, Nitrite, Ammonia)\n",
    "\n",
    "- Phosphorus\n",
    "\n",
    "- pH"
   ]
  },
  {
   "cell_type": "markdown",
   "id": "a5cc928e",
   "metadata": {},
   "source": [
    "### Domain Understanding"
   ]
  },
  {
   "cell_type": "markdown",
   "metadata": {},
   "source": [
    "- Low DO (< 4 mg/L) indicates poor oxygenation which leads to contamination risk.\n",
    "\n",
    "- High Nitrogen/Phosphorus signify fertilizer/sewage runoff which contributes to eutrophication.\n",
    "\n",
    "- pH extremes (< 6.5 or > 8.5) indicates corrosiveness/unsuitable for life.\n",
    "\n"
   ]
  },
  {
   "cell_type": "markdown",
   "id": "0f421df2",
   "metadata": {},
   "source": [
    "### Feature Engineering"
   ]
  },
  {
   "cell_type": "markdown",
   "id": "564cd6bd",
   "metadata": {},
   "source": [
    "- do_risk = 1 if DO < 4 mg/L else 0\n",
    "- n_risk = normalized_score(N_total) (log or z-scaled)\n",
    "- p_risk = normalized_score(P_total)\n",
    "- ph_deviation = abs(pH - 7)\n",
    "- Final chemical_risk_score = weighted_sum([do_risk, n_risk, p_risk,\n",
    "ph_deviation])"
   ]
  },
  {
   "cell_type": "markdown",
   "id": "83a561fd",
   "metadata": {},
   "source": [
    "### Mercury data"
   ]
  },
  {
   "cell_type": "code",
   "execution_count": 4,
   "id": "a3bc770b",
   "metadata": {},
   "outputs": [],
   "source": [
    "import pandas as pd"
   ]
  },
  {
   "cell_type": "code",
   "execution_count": 5,
   "id": "b367c149",
   "metadata": {},
   "outputs": [
    {
     "data": {
      "text/html": [
       "<div>\n",
       "<style scoped>\n",
       "    .dataframe tbody tr th:only-of-type {\n",
       "        vertical-align: middle;\n",
       "    }\n",
       "\n",
       "    .dataframe tbody tr th {\n",
       "        vertical-align: top;\n",
       "    }\n",
       "\n",
       "    .dataframe thead th {\n",
       "        text-align: right;\n",
       "    }\n",
       "</style>\n",
       "<table border=\"1\" class=\"dataframe\">\n",
       "  <thead>\n",
       "    <tr style=\"text-align: right;\">\n",
       "      <th></th>\n",
       "      <th>GEMS.Station.Number</th>\n",
       "      <th>Sample.Date</th>\n",
       "      <th>Sample.Time</th>\n",
       "      <th>Depth</th>\n",
       "      <th>Parameter.Code</th>\n",
       "      <th>Analysis.Method.Code</th>\n",
       "      <th>Value.Flags</th>\n",
       "      <th>Value</th>\n",
       "      <th>Unit</th>\n",
       "      <th>Data.Quality</th>\n",
       "    </tr>\n",
       "  </thead>\n",
       "  <tbody>\n",
       "    <tr>\n",
       "      <th>0</th>\n",
       "      <td>ARG00014</td>\n",
       "      <td>2011-09-06</td>\n",
       "      <td>11:30</td>\n",
       "      <td>0.3</td>\n",
       "      <td>Hg-Dis</td>\n",
       "      <td>0</td>\n",
       "      <td>&lt;</td>\n",
       "      <td>0.040</td>\n",
       "      <td>µg/l</td>\n",
       "      <td>Fair</td>\n",
       "    </tr>\n",
       "    <tr>\n",
       "      <th>1</th>\n",
       "      <td>ARG00014</td>\n",
       "      <td>2011-09-06</td>\n",
       "      <td>11:30</td>\n",
       "      <td>0.3</td>\n",
       "      <td>Hg-Tot</td>\n",
       "      <td>0</td>\n",
       "      <td>&lt;</td>\n",
       "      <td>0.040</td>\n",
       "      <td>µg/l</td>\n",
       "      <td>Fair</td>\n",
       "    </tr>\n",
       "    <tr>\n",
       "      <th>2</th>\n",
       "      <td>ARG00014</td>\n",
       "      <td>2012-03-14</td>\n",
       "      <td>12:20</td>\n",
       "      <td>0.3</td>\n",
       "      <td>Hg-Dis</td>\n",
       "      <td>0</td>\n",
       "      <td>NaN</td>\n",
       "      <td>0.044</td>\n",
       "      <td>µg/l</td>\n",
       "      <td>Fair</td>\n",
       "    </tr>\n",
       "    <tr>\n",
       "      <th>3</th>\n",
       "      <td>ARG00014</td>\n",
       "      <td>2012-03-14</td>\n",
       "      <td>12:20</td>\n",
       "      <td>0.3</td>\n",
       "      <td>Hg-Tot</td>\n",
       "      <td>0</td>\n",
       "      <td>NaN</td>\n",
       "      <td>0.348</td>\n",
       "      <td>µg/l</td>\n",
       "      <td>Fair</td>\n",
       "    </tr>\n",
       "    <tr>\n",
       "      <th>4</th>\n",
       "      <td>ARG00014</td>\n",
       "      <td>2012-06-06</td>\n",
       "      <td>13:20</td>\n",
       "      <td>0.3</td>\n",
       "      <td>Hg-Dis</td>\n",
       "      <td>0</td>\n",
       "      <td>&lt;</td>\n",
       "      <td>0.040</td>\n",
       "      <td>µg/l</td>\n",
       "      <td>Fair</td>\n",
       "    </tr>\n",
       "  </tbody>\n",
       "</table>\n",
       "</div>"
      ],
      "text/plain": [
       "  GEMS.Station.Number Sample.Date Sample.Time  Depth Parameter.Code  \\\n",
       "0            ARG00014  2011-09-06       11:30    0.3         Hg-Dis   \n",
       "1            ARG00014  2011-09-06       11:30    0.3         Hg-Tot   \n",
       "2            ARG00014  2012-03-14       12:20    0.3         Hg-Dis   \n",
       "3            ARG00014  2012-03-14       12:20    0.3         Hg-Tot   \n",
       "4            ARG00014  2012-06-06       13:20    0.3         Hg-Dis   \n",
       "\n",
       "  Analysis.Method.Code Value.Flags  Value  Unit Data.Quality  \n",
       "0                    0           <  0.040  µg/l         Fair  \n",
       "1                    0           <  0.040  µg/l         Fair  \n",
       "2                    0         NaN  0.044  µg/l         Fair  \n",
       "3                    0         NaN  0.348  µg/l         Fair  \n",
       "4                    0           <  0.040  µg/l         Fair  "
      ]
     },
     "execution_count": 5,
     "metadata": {},
     "output_type": "execute_result"
    }
   ],
   "source": [
    "mercury_df= pd.read_csv('/home/margaret/Capstone-Project/CleanWatAI/data/GFQA_v2/Mercury.csv', sep=';',encoding='ISO-8859-1', quotechar='\"',  low_memory=False)\n",
    "\n",
    "mercury_df.head()\n"
   ]
  },
  {
   "cell_type": "markdown",
   "id": "02d619cf",
   "metadata": {},
   "source": [
    "### Data cleaning and exploration"
   ]
  },
  {
   "cell_type": "code",
   "execution_count": 6,
   "id": "bfa972c6",
   "metadata": {},
   "outputs": [
    {
     "name": "stdout",
     "output_type": "stream",
     "text": [
      "<class 'pandas.core.frame.DataFrame'>\n",
      "RangeIndex: 229612 entries, 0 to 229611\n",
      "Data columns (total 10 columns):\n",
      " #   Column                Non-Null Count   Dtype  \n",
      "---  ------                --------------   -----  \n",
      " 0   GEMS.Station.Number   229612 non-null  object \n",
      " 1   Sample.Date           229612 non-null  object \n",
      " 2   Sample.Time           229612 non-null  object \n",
      " 3   Depth                 229612 non-null  float64\n",
      " 4   Parameter.Code        229612 non-null  object \n",
      " 5   Analysis.Method.Code  229612 non-null  object \n",
      " 6   Value.Flags           121229 non-null  object \n",
      " 7   Value                 229612 non-null  float64\n",
      " 8   Unit                  229612 non-null  object \n",
      " 9   Data.Quality          229612 non-null  object \n",
      "dtypes: float64(2), object(8)\n",
      "memory usage: 17.5+ MB\n"
     ]
    }
   ],
   "source": [
    "mercury_df.info()  #summary of the data types and nulls"
   ]
  },
  {
   "cell_type": "code",
   "execution_count": 7,
   "id": "fb9137d1",
   "metadata": {},
   "outputs": [
    {
     "data": {
      "text/html": [
       "<div>\n",
       "<style scoped>\n",
       "    .dataframe tbody tr th:only-of-type {\n",
       "        vertical-align: middle;\n",
       "    }\n",
       "\n",
       "    .dataframe tbody tr th {\n",
       "        vertical-align: top;\n",
       "    }\n",
       "\n",
       "    .dataframe thead th {\n",
       "        text-align: right;\n",
       "    }\n",
       "</style>\n",
       "<table border=\"1\" class=\"dataframe\">\n",
       "  <thead>\n",
       "    <tr style=\"text-align: right;\">\n",
       "      <th></th>\n",
       "      <th>Depth</th>\n",
       "      <th>Value</th>\n",
       "    </tr>\n",
       "  </thead>\n",
       "  <tbody>\n",
       "    <tr>\n",
       "      <th>count</th>\n",
       "      <td>229612.000000</td>\n",
       "      <td>229612.000000</td>\n",
       "    </tr>\n",
       "    <tr>\n",
       "      <th>mean</th>\n",
       "      <td>0.480535</td>\n",
       "      <td>4.890419</td>\n",
       "    </tr>\n",
       "    <tr>\n",
       "      <th>std</th>\n",
       "      <td>5.924055</td>\n",
       "      <td>123.446453</td>\n",
       "    </tr>\n",
       "    <tr>\n",
       "      <th>min</th>\n",
       "      <td>0.000000</td>\n",
       "      <td>0.000000</td>\n",
       "    </tr>\n",
       "    <tr>\n",
       "      <th>25%</th>\n",
       "      <td>0.300000</td>\n",
       "      <td>0.020000</td>\n",
       "    </tr>\n",
       "    <tr>\n",
       "      <th>50%</th>\n",
       "      <td>0.300000</td>\n",
       "      <td>0.090000</td>\n",
       "    </tr>\n",
       "    <tr>\n",
       "      <th>75%</th>\n",
       "      <td>0.300000</td>\n",
       "      <td>0.100000</td>\n",
       "    </tr>\n",
       "    <tr>\n",
       "      <th>max</th>\n",
       "      <td>350.000000</td>\n",
       "      <td>22000.000000</td>\n",
       "    </tr>\n",
       "  </tbody>\n",
       "</table>\n",
       "</div>"
      ],
      "text/plain": [
       "               Depth          Value\n",
       "count  229612.000000  229612.000000\n",
       "mean        0.480535       4.890419\n",
       "std         5.924055     123.446453\n",
       "min         0.000000       0.000000\n",
       "25%         0.300000       0.020000\n",
       "50%         0.300000       0.090000\n",
       "75%         0.300000       0.100000\n",
       "max       350.000000   22000.000000"
      ]
     },
     "execution_count": 7,
     "metadata": {},
     "output_type": "execute_result"
    }
   ],
   "source": [
    "mercury_df.describe() ##checking summary stastics"
   ]
  },
  {
   "cell_type": "code",
   "execution_count": 8,
   "id": "7d32ffeb",
   "metadata": {},
   "outputs": [
    {
     "data": {
      "text/plain": [
       "GEMS.Station.Number          0\n",
       "Sample.Date                  0\n",
       "Sample.Time                  0\n",
       "Depth                        0\n",
       "Parameter.Code               0\n",
       "Analysis.Method.Code         0\n",
       "Value.Flags             108383\n",
       "Value                        0\n",
       "Unit                         0\n",
       "Data.Quality                 0\n",
       "dtype: int64"
      ]
     },
     "execution_count": 8,
     "metadata": {},
     "output_type": "execute_result"
    }
   ],
   "source": [
    "mercury_df.isnull().sum()\n"
   ]
  },
  {
   "cell_type": "markdown",
   "id": "1e17bd67",
   "metadata": {},
   "source": [
    "We have 108383 missing values in Value.Flags column"
   ]
  },
  {
   "cell_type": "markdown",
   "id": "93bea57d",
   "metadata": {},
   "source": [
    "### Handling missing values"
   ]
  },
  {
   "cell_type": "code",
   "execution_count": 9,
   "id": "e7913ad8",
   "metadata": {},
   "outputs": [
    {
     "data": {
      "text/plain": [
       "GEMS.Station.Number     0\n",
       "Sample.Date             0\n",
       "Sample.Time             0\n",
       "Depth                   0\n",
       "Parameter.Code          0\n",
       "Analysis.Method.Code    0\n",
       "Value.Flags             0\n",
       "Value                   0\n",
       "Unit                    0\n",
       "Data.Quality            0\n",
       "dtype: int64"
      ]
     },
     "execution_count": 9,
     "metadata": {},
     "output_type": "execute_result"
    }
   ],
   "source": [
    "mercury_df =mercury_df.dropna(subset=[\"Value.Flags\"])\n",
    "mercury_df.isnull().sum()\n",
    "\n"
   ]
  },
  {
   "cell_type": "markdown",
   "id": "7d314dfc",
   "metadata": {},
   "source": [
    "## EDA"
   ]
  },
  {
   "cell_type": "code",
   "execution_count": 10,
   "id": "12a02896",
   "metadata": {},
   "outputs": [
    {
     "data": {
      "image/png": "[encoded data removed]",
      "text/plain": [
       "<Figure size 640x480 with 1 Axes>"
      ]
     },
     "metadata": {},
     "output_type": "display_data"
    }
   ],
   "source": [
    "import matplotlib.pyplot as plt\n",
    "import seaborn as sns\n",
    "\n",
    "# Histogram \n",
    "sns.histplot(mercury_df['Value'], bins=100, kde=True)\n",
    "plt.title(\"Distribution of Mercury Values\")\n",
    "plt.xlabel(\"Contaminant Level\")\n",
    "plt.ylabel(\"Frequency\")\n",
    "plt.show()\n"
   ]
  },
  {
   "cell_type": "markdown",
   "id": "069a7dfb",
   "metadata": {},
   "source": [
    "### Looking for the revelant variables"
   ]
  },
  {
   "cell_type": "code",
   "execution_count": 11,
   "id": "586911b5",
   "metadata": {},
   "outputs": [],
   "source": [
    "import os"
   ]
  },
  {
   "cell_type": "code",
   "execution_count": 12,
   "id": "8968a6d3",
   "metadata": {},
   "outputs": [
    {
     "name": "stdout",
     "output_type": "stream",
     "text": [
      "Platinum.csv has parameters: ['Pt-Tot' 'Pt-Ext' 'Pt-Dis']\n",
      "Pharmaceuticals.csv has parameters: ['SMX' 'TMP' 'AZITHROMYCIN' 'DICLOFENAC' 'ERYTHROMYCIN' 'ATENOLOL'\n",
      " 'BEZAFIBRATE' 'CARBAMAZEPINE' 'NAPROXEN' 'IBUPROFEN']\n"
     ]
    },
    {
     "name": "stderr",
     "output_type": "stream",
     "text": [
      "/tmp/ipykernel_14822/3012381163.py:6: DtypeWarning: Columns (5,6) have mixed types. Specify dtype option on import or set low_memory=False.\n",
      "  df = pd.read_csv(os.path.join(folder_path, file), sep=';', encoding='latin1')\n"
     ]
    },
    {
     "name": "stdout",
     "output_type": "stream",
     "text": [
      "Optical.csv has parameters: ['TURB' 'TRANS' 'COL-True' 'COL-App' 'A340']\n",
      "Boron.csv has parameters: ['B-Dis' 'B-Tot' 'B-Ext']\n"
     ]
    },
    {
     "name": "stderr",
     "output_type": "stream",
     "text": [
      "/tmp/ipykernel_14822/3012381163.py:6: DtypeWarning: Columns (5) have mixed types. Specify dtype option on import or set low_memory=False.\n",
      "  df = pd.read_csv(os.path.join(folder_path, file), sep=';', encoding='latin1')\n"
     ]
    },
    {
     "name": "stdout",
     "output_type": "stream",
     "text": [
      "Pesticides_E_to_L.csv has parameters: ['ISOPROTURON' 'ISODRIN' 'LINURON' 'HEPTACHLOREPOX' 'ETHOFUMESATE'\n",
      " 'LENACIL' 'FENITROTHION' 'IOXYNIL' 'GLYPHOSATE' 'FENTHION' 'FLUFENACET'\n",
      " 'GUTHION' 'HEXAZINONE' 'IMIDACLOPRID' 'ETHALFLURALIN' 'IMAZETHAPYR'\n",
      " 'FENOXAPROP-ETHYL' 'FLUMETSULAM' 'FOMESAFEN' 'FORAMSULFURON'\n",
      " 'GLUFOSINATE' 'IMAZAMOX' 'IMAZAPHYR' 'FLONICAMID' 'FLUPYRADIFURONE'\n",
      " 'FLUDIOXONIL' 'ETHION' 'EPOXICONAZOLE' 'FENPROPIMORPH' 'FLUQUINCONAZOLE'\n",
      " 'HCCPD' 'FLUTRIAFOL' 'FLURTAMONE' 'IPRODIONE' 'FIPRONIL' 'IMAZALIL'\n",
      " 'HALOXYFOP-METHYL']\n"
     ]
    },
    {
     "name": "stderr",
     "output_type": "stream",
     "text": [
      "/tmp/ipykernel_14822/3012381163.py:6: DtypeWarning: Columns (5,6) have mixed types. Specify dtype option on import or set low_memory=False.\n",
      "  df = pd.read_csv(os.path.join(folder_path, file), sep=';', encoding='latin1')\n"
     ]
    },
    {
     "name": "stdout",
     "output_type": "stream",
     "text": [
      "Electrical_Conductance.csv has parameters: ['EC']\n",
      "Gallium.csv has parameters: ['Ga-Ext' 'Ga-Tot' 'Ga-Dis']\n"
     ]
    },
    {
     "name": "stderr",
     "output_type": "stream",
     "text": [
      "/tmp/ipykernel_14822/3012381163.py:6: DtypeWarning: Columns (5,6) have mixed types. Specify dtype option on import or set low_memory=False.\n",
      "  df = pd.read_csv(os.path.join(folder_path, file), sep=';', encoding='latin1')\n"
     ]
    },
    {
     "name": "stdout",
     "output_type": "stream",
     "text": [
      "Temperature.csv has parameters: ['TEMP' 'TEMP-Air']\n"
     ]
    },
    {
     "name": "stderr",
     "output_type": "stream",
     "text": [
      "/tmp/ipykernel_14822/3012381163.py:6: DtypeWarning: Columns (5,6) have mixed types. Specify dtype option on import or set low_memory=False.\n",
      "  df = pd.read_csv(os.path.join(folder_path, file), sep=';', encoding='latin1')\n"
     ]
    },
    {
     "name": "stdout",
     "output_type": "stream",
     "text": [
      "Calcium.csv has parameters: ['Ca-Dis' 'Ca-Tot' 'Ca-Ext']\n"
     ]
    },
    {
     "name": "stderr",
     "output_type": "stream",
     "text": [
      "/tmp/ipykernel_14822/3012381163.py:6: DtypeWarning: Columns (5) have mixed types. Specify dtype option on import or set low_memory=False.\n",
      "  df = pd.read_csv(os.path.join(folder_path, file), sep=';', encoding='latin1')\n"
     ]
    },
    {
     "name": "stdout",
     "output_type": "stream",
     "text": [
      "Arsenic.csv has parameters: ['As-Dis' 'As-Tot' 'As-Sus']\n",
      "Vanadium.csv has parameters: ['V-Tot' 'V-Dis' 'V-Ext']\n",
      "Cobalt.csv has parameters: ['Co-Dis' 'Co-Ext' 'Co-Tot' 'Co-Sus']\n",
      "Tin.csv has parameters: ['Sn-Tot' 'Sn-Ext' 'Sn-Dis']\n",
      "Strontium.csv has parameters: ['Sr-Tot' 'Sr-Ext' 'Sr-Dis']\n"
     ]
    },
    {
     "name": "stderr",
     "output_type": "stream",
     "text": [
      "/tmp/ipykernel_14822/3012381163.py:6: DtypeWarning: Columns (5,6) have mixed types. Specify dtype option on import or set low_memory=False.\n",
      "  df = pd.read_csv(os.path.join(folder_path, file), sep=';', encoding='latin1')\n"
     ]
    },
    {
     "name": "stdout",
     "output_type": "stream",
     "text": [
      "Potassium.csv has parameters: ['K-Dis' 'K-Tot' 'K-Ext']\n",
      "Selenium.csv has parameters: ['Se-Dis' 'Se-Tot' 'Se-Ext']\n",
      "Antimony.csv has parameters: ['Sb-Tot' 'Sb-Ext' 'Sb-Dis']\n",
      "Phenyl.csv has parameters: ['4TOTPHL' 'CLPHENOL' '24DCP' 'PHLH' 'PHLHs' 'BIPHENYL' '26DCPHL' 'TCS'\n",
      " '4NPHENOL' '4CMPHL' '4BPPE' 'NITROBENZENE' 'BENZIDINE' 'HYDRAZOBENZENE'\n",
      " '2NITROPHENOL' '23DCP' '24DNP']\n",
      "Bismuth.csv has parameters: ['Bi-Tot' 'Bi-Ext' 'Bi-Dis']\n",
      "Aluminium.csv has parameters: ['Al-Tot' 'Al-Dis' 'Al-Ext']\n",
      "Fluoride.csv has parameters: ['F-Tot' 'F-Dis']\n",
      "Molybdenum.csv has parameters: ['Mo-Tot' 'Mo-Ext' 'Mo-Dis']\n",
      "Zinc.csv has parameters: ['Zn-Dis' 'Zn-Tot' 'Zn-Ext' 'Zn-Sus']\n"
     ]
    },
    {
     "name": "stderr",
     "output_type": "stream",
     "text": [
      "/tmp/ipykernel_14822/3012381163.py:6: DtypeWarning: Columns (5) have mixed types. Specify dtype option on import or set low_memory=False.\n",
      "  df = pd.read_csv(os.path.join(folder_path, file), sep=';', encoding='latin1')\n"
     ]
    },
    {
     "name": "stdout",
     "output_type": "stream",
     "text": [
      "Surfactant.csv has parameters: ['4NNPHL' '4NNPHLBRA' '4OPHLH' 'DETERGENTS' 'MBAS']\n"
     ]
    },
    {
     "name": "stderr",
     "output_type": "stream",
     "text": [
      "/tmp/ipykernel_14822/3012381163.py:6: DtypeWarning: Columns (5,6) have mixed types. Specify dtype option on import or set low_memory=False.\n",
      "  df = pd.read_csv(os.path.join(folder_path, file), sep=';', encoding='latin1')\n"
     ]
    },
    {
     "name": "stdout",
     "output_type": "stream",
     "text": [
      "Magnesium.csv has parameters: ['Mg-Dis' 'Mg-Tot' 'Mg-Ext' 'Mg-Sus']\n",
      "Flux.csv has parameters: ['Q-Inst']\n",
      "PFAS.csv has parameters: ['PFOS' 'PFOA']\n"
     ]
    },
    {
     "name": "stderr",
     "output_type": "stream",
     "text": [
      "/tmp/ipykernel_14822/3012381163.py:6: DtypeWarning: Columns (5,6) have mixed types. Specify dtype option on import or set low_memory=False.\n",
      "  df = pd.read_csv(os.path.join(folder_path, file), sep=';', encoding='latin1')\n"
     ]
    },
    {
     "name": "stdout",
     "output_type": "stream",
     "text": [
      "Oxidized_Nitrogen.csv has parameters: ['NOxN' 'NO2N' 'NO3N']\n",
      "Phytoplankton.csv has parameters: ['Phyt-B']\n"
     ]
    },
    {
     "name": "stderr",
     "output_type": "stream",
     "text": [
      "/tmp/ipykernel_14822/3012381163.py:6: DtypeWarning: Columns (5,6) have mixed types. Specify dtype option on import or set low_memory=False.\n",
      "  df = pd.read_csv(os.path.join(folder_path, file), sep=';', encoding='latin1')\n"
     ]
    },
    {
     "name": "stdout",
     "output_type": "stream",
     "text": [
      "Alkalinity.csv has parameters: ['Alk-Tot' 'Alk-Phen']\n"
     ]
    },
    {
     "name": "stderr",
     "output_type": "stream",
     "text": [
      "/tmp/ipykernel_14822/3012381163.py:6: DtypeWarning: Columns (5,6) have mixed types. Specify dtype option on import or set low_memory=False.\n",
      "  df = pd.read_csv(os.path.join(folder_path, file), sep=';', encoding='latin1')\n"
     ]
    },
    {
     "name": "stdout",
     "output_type": "stream",
     "text": [
      "Chloride.csv has parameters: ['Cl-Tot' 'Cl-Dis']\n"
     ]
    },
    {
     "name": "stderr",
     "output_type": "stream",
     "text": [
      "/tmp/ipykernel_14822/3012381163.py:6: DtypeWarning: Columns (5,6) have mixed types. Specify dtype option on import or set low_memory=False.\n",
      "  df = pd.read_csv(os.path.join(folder_path, file), sep=';', encoding='latin1')\n"
     ]
    },
    {
     "name": "stdout",
     "output_type": "stream",
     "text": [
      "Carbon.csv has parameters: ['DOC' 'TOC' 'DIC' 'TIC' 'CO3' 'DC' 'POC' 'TC']\n",
      "Iron.csv has parameters: ['Fe-Dis' 'Fe-Tot' 'Fe-Ext']\n",
      "Thallium.csv has parameters: ['Tl-Tot' 'Tl-Dis']\n"
     ]
    },
    {
     "name": "stderr",
     "output_type": "stream",
     "text": [
      "/tmp/ipykernel_14822/3012381163.py:6: DtypeWarning: Columns (5,6) have mixed types. Specify dtype option on import or set low_memory=False.\n",
      "  df = pd.read_csv(os.path.join(folder_path, file), sep=';', encoding='latin1')\n"
     ]
    },
    {
     "name": "stdout",
     "output_type": "stream",
     "text": [
      "Hardness.csv has parameters: ['H-T' 'H-NC' 'H-Ca' 'H-Mg']\n",
      "Cerium.csv has parameters: ['Ce-Tot' 'Ce-Ext' 'Ce-Dis']\n"
     ]
    },
    {
     "name": "stderr",
     "output_type": "stream",
     "text": [
      "/tmp/ipykernel_14822/3012381163.py:6: DtypeWarning: Columns (5) have mixed types. Specify dtype option on import or set low_memory=False.\n",
      "  df = pd.read_csv(os.path.join(folder_path, file), sep=';', encoding='latin1')\n"
     ]
    },
    {
     "name": "stdout",
     "output_type": "stream",
     "text": [
      "Other_Nitrogen.csv has parameters: ['NH4N' 'NH3N' 'DKN' 'TN' 'TKN' 'TDN' 'TON' 'PN' 'PON' 'DIN' 'TIN' 'DON']\n"
     ]
    },
    {
     "name": "stderr",
     "output_type": "stream",
     "text": [
      "/tmp/ipykernel_14822/3012381163.py:6: DtypeWarning: Columns (5,6) have mixed types. Specify dtype option on import or set low_memory=False.\n",
      "  df = pd.read_csv(os.path.join(folder_path, file), sep=';', encoding='latin1')\n"
     ]
    },
    {
     "name": "stdout",
     "output_type": "stream",
     "text": [
      "Volatile_Organic_Compounds.csv has parameters: ['BENZENE' 'EDC' 'MECL' '124TCBZ' 'TCB-Tot' '123TCBZ' '135TCBZ' 'CCl4'\n",
      " 'PCE' 'TCE' 'TOLH' 'XYLTOT' '111TCA' 'ETBZ' '112TCA' 'MTBE' 'CBZH'\n",
      " 'DETPTHAL8' 'DMP' 'IPBZ' 'MDCB' 'MPXYLS' 'ODCB' 'OXYL' 'PDCB' 'STYRENE'\n",
      " 'VCM' '11DCA' '12DCPA' '2CT' 'DIBTPTHAL8' 'MXYL' 'PXYL' '24DNT' 'MUSKXYL'\n",
      " 'TCFMA' 'TCACETICACID' 'DCDFMA' 'ACRYLONITRILE' '2CVE'\n",
      " 'CL-ISOPROPYLETHER' 'DCEE' 'DEHA' 'HEXACHLORETHANE' 'NDMA' 'NDPA' 'NDPHA'\n",
      " '26DNT']\n",
      "Hydroxide.csv has parameters: ['OH']\n",
      "Bromine.csv has parameters: ['Br-Tot' 'Br-Dis' 'Br2-Dis']\n",
      "Caesium.csv has parameters: ['Cs-Tot' 'Cs-Ext' 'Cs-Dis']\n",
      "Lead.csv has parameters: ['Pb-Dis' 'Pb-Tot' 'Pb-Ext' 'Pb-Sus']\n",
      "Manganese.csv has parameters: ['Mn-Dis' 'Mn-Tot' 'Mn-Ext']\n",
      "Silver.csv has parameters: ['Ag-Dis' 'Ag-Tot' 'Ag-Ext']\n",
      "Berillium.csv has parameters: ['Be-Tot' 'Be-Ext' 'Be-Dis']\n",
      "Lithium.csv has parameters: ['Li-Ext' 'Li-Tot' 'Li-Dis' 'Li-Sus']\n",
      "Pigment.csv has parameters: ['Chl-a']\n",
      "❌ Error reading GEMStat_methods_metadata.csv: 'Parameter.Code'\n",
      "Cyanide.csv has parameters: ['CN-Tot' 'CN-Free']\n"
     ]
    },
    {
     "name": "stderr",
     "output_type": "stream",
     "text": [
      "/tmp/ipykernel_14822/3012381163.py:6: DtypeWarning: Columns (5) have mixed types. Specify dtype option on import or set low_memory=False.\n",
      "  df = pd.read_csv(os.path.join(folder_path, file), sep=';', encoding='latin1')\n"
     ]
    },
    {
     "name": "stdout",
     "output_type": "stream",
     "text": [
      "Chromium.csv has parameters: ['Cr-Dis' 'Cr-Tot' 'Cr-Ext' 'Cr-VI']\n"
     ]
    },
    {
     "name": "stderr",
     "output_type": "stream",
     "text": [
      "/tmp/ipykernel_14822/3012381163.py:6: DtypeWarning: Columns (5,6) have mixed types. Specify dtype option on import or set low_memory=False.\n",
      "  df = pd.read_csv(os.path.join(folder_path, file), sep=';', encoding='latin1')\n"
     ]
    },
    {
     "name": "stdout",
     "output_type": "stream",
     "text": [
      "Dissolved_Gas.csv has parameters: ['O2-Dis' 'O2-Dis-Sat' 'CO2' 'H2S']\n"
     ]
    },
    {
     "name": "stderr",
     "output_type": "stream",
     "text": [
      "/tmp/ipykernel_14822/3012381163.py:6: DtypeWarning: Columns (5) have mixed types. Specify dtype option on import or set low_memory=False.\n",
      "  df = pd.read_csv(os.path.join(folder_path, file), sep=';', encoding='latin1')\n"
     ]
    },
    {
     "name": "stdout",
     "output_type": "stream",
     "text": [
      "Mercury.csv has parameters: ['Hg-Dis' 'Hg-Tot' 'Hg-Ext' 'Hg-Sus']\n"
     ]
    },
    {
     "name": "stderr",
     "output_type": "stream",
     "text": [
      "/tmp/ipykernel_14822/3012381163.py:6: DtypeWarning: Columns (5) have mixed types. Specify dtype option on import or set low_memory=False.\n",
      "  df = pd.read_csv(os.path.join(folder_path, file), sep=';', encoding='latin1')\n"
     ]
    },
    {
     "name": "stdout",
     "output_type": "stream",
     "text": [
      "Pesticide_A_B.csv has parameters: ['ALACHLOR' 'ATRAZINE' 'ACETAMIPRID' 'AMETRYN' 'ATRAZINEDESET' 'BENTAZON'\n",
      " 'BROMACIL' 'BAM' 'BROMOXYNIL' 'AMPA' 'ACLONIFEN' 'AZINPHOS-ETHYL'\n",
      " 'BIFENOX' 'BENZOYLPROP-ETHYL' 'BUTYLATE' 'ACIFLUORFEN' 'ALDICARB'\n",
      " 'BENSULFURON' 'BENDIOCARB' 'ACETOCHLOR' 'AZOXYSTROBIN' 'ACROLEIN'\n",
      " 'BIFENTHRIN' 'ALPHACYPERMETHRIN' 'ATTAINA']\n",
      "Nickel.csv has parameters: ['Ni-Dis' 'Ni-Tot' 'Ni-Ext' 'Ni-Sus']\n"
     ]
    },
    {
     "name": "stderr",
     "output_type": "stream",
     "text": [
      "/tmp/ipykernel_14822/3012381163.py:6: DtypeWarning: Columns (5) have mixed types. Specify dtype option on import or set low_memory=False.\n",
      "  df = pd.read_csv(os.path.join(folder_path, file), sep=';', encoding='latin1')\n"
     ]
    },
    {
     "name": "stdout",
     "output_type": "stream",
     "text": [
      "Indicator_Organism.csv has parameters: ['FECALCOLI' 'ECOLI' 'TOTCOLI' 'FECALSTREP' 'ENTCOCC' 'TOTMESO']\n",
      "Silicon.csv has parameters: ['SiO2-Tot' 'SiO2-Dis' 'Si-Dis' 'Si-Ext' 'SiO2-Rea' 'Si-Tot']\n",
      "❌ Error reading GEMStat_station_metadata.csv: 'Parameter.Code'\n"
     ]
    },
    {
     "name": "stderr",
     "output_type": "stream",
     "text": [
      "/tmp/ipykernel_14822/3012381163.py:6: DtypeWarning: Columns (5) have mixed types. Specify dtype option on import or set low_memory=False.\n",
      "  df = pd.read_csv(os.path.join(folder_path, file), sep=';', encoding='latin1')\n"
     ]
    },
    {
     "name": "stdout",
     "output_type": "stream",
     "text": [
      "Halocarbon.csv has parameters: ['TCMA' 'BDCMA' 'BROMOFORM' 'CHLORODIBROMOMETHANE' 'cis-DCE' 'DCE'\n",
      " 'trans-DCE' '11DCE' '1112TTCETA' '1122TTCETA' 'METHYLBROMIDE'\n",
      " 'CHLOROBROMOMETHANE' 'METHYLCHLORIDE' 'DCB' 'THMs']\n",
      "Lanthanum.csv has parameters: ['La-Ext' 'La-Tot' 'La-Dis']\n",
      "Salinity.csv has parameters: ['Sal']\n"
     ]
    },
    {
     "name": "stderr",
     "output_type": "stream",
     "text": [
      "/tmp/ipykernel_14822/3012381163.py:6: DtypeWarning: Columns (5) have mixed types. Specify dtype option on import or set low_memory=False.\n",
      "  df = pd.read_csv(os.path.join(folder_path, file), sep=';', encoding='latin1')\n"
     ]
    },
    {
     "name": "stdout",
     "output_type": "stream",
     "text": [
      "Persistent_Organic_Pesticides.csv has parameters: ['BHC-gamma' 'SCCP' 'ALDRIN' 'DIELDRIN' 'ENDRIN' 'PCP' 'PECBZ' 'BHC' 'HCB'\n",
      " 'ENDOSULFAN' 'BHC-alpha' 'BHC-beta' 'ENDOSULFANI' 'PCB' 'DDT' 'PCB-101'\n",
      " 'PCB-138' 'PCB-153' 'PCB-180' 'PCB-28' 'PCB-52' 'HEPTACHLOR' 'PCB-118'\n",
      " 'BHC-delta' 'CHLORDANE' 'ENDOSULFANII' 'BHC-epsilon' 'CNONACHLOR' 'MIREX'\n",
      " 'TNONACHLOR' 'DECABDE' 'HeptaBDE' 'HexaBDE' 'OctaBDE' 'PentaBDE'\n",
      " 'TetraBDE' 'PBDE-Sum' 'KEPONE' '123TCPA' 'PCB-194' 'TOXAPHENE' 'PCN']\n",
      "Rubidium.csv has parameters: ['Rb-Ext' 'Rb-Tot' 'Rb-Dis']\n",
      "❌ Error reading GEMStat_parameter_metadata.csv: 'Parameter.Code'\n"
     ]
    },
    {
     "name": "stderr",
     "output_type": "stream",
     "text": [
      "/tmp/ipykernel_14822/3012381163.py:6: DtypeWarning: Columns (5,6) have mixed types. Specify dtype option on import or set low_memory=False.\n",
      "  df = pd.read_csv(os.path.join(folder_path, file), sep=';', encoding='latin1')\n"
     ]
    },
    {
     "name": "stdout",
     "output_type": "stream",
     "text": [
      "Sulfur.csv has parameters: ['SO4-Tot' 'SO4-Dis' 'S-Tot' 'S-Sus' 'S-Dis']\n"
     ]
    },
    {
     "name": "stderr",
     "output_type": "stream",
     "text": [
      "/tmp/ipykernel_14822/3012381163.py:6: DtypeWarning: Columns (5,6) have mixed types. Specify dtype option on import or set low_memory=False.\n",
      "  df = pd.read_csv(os.path.join(folder_path, file), sep=';', encoding='latin1')\n"
     ]
    },
    {
     "name": "stdout",
     "output_type": "stream",
     "text": [
      "Sodium.csv has parameters: ['Na-Dis' 'Na-Tot' 'Na-Ext' 'SAR']\n",
      "Titanium.csv has parameters: ['Ti-Tot' 'Ti-Ext' 'Ti-Dis']\n",
      "Uranium.csv has parameters: ['U-Dis' 'U-Tot' 'U-Ext']\n"
     ]
    },
    {
     "name": "stderr",
     "output_type": "stream",
     "text": [
      "/tmp/ipykernel_14822/3012381163.py:6: DtypeWarning: Columns (5) have mixed types. Specify dtype option on import or set low_memory=False.\n",
      "  df = pd.read_csv(os.path.join(folder_path, file), sep=';', encoding='latin1')\n"
     ]
    },
    {
     "name": "stdout",
     "output_type": "stream",
     "text": [
      "Water.csv has parameters: ['TDS' 'TS' 'TSS' 'FSS' 'FS' 'VS' 'VSS' 'VDS' 'FDS']\n"
     ]
    },
    {
     "name": "stderr",
     "output_type": "stream",
     "text": [
      "/tmp/ipykernel_14822/3012381163.py:6: DtypeWarning: Columns (5) have mixed types. Specify dtype option on import or set low_memory=False.\n",
      "  df = pd.read_csv(os.path.join(folder_path, file), sep=';', encoding='latin1')\n"
     ]
    },
    {
     "name": "stdout",
     "output_type": "stream",
     "text": [
      "Pesticides_S_to_Z.csv has parameters: ['SIMAZINE' 'THIACLOPRID' 'TMX' 'TRIALLATE' 'TRIFLURALIN' 'TBT-Cation'\n",
      " 'TERBUTHYLAZINE' 'TERBUTRYN' '245T' 'SEBUTHYLAZINE' 'TCP'\n",
      " 'TERBUTYLAZINE-DESETHYL' 'TRICLOPYR' '245TCPHL' '245TP' '246TCPHL'\n",
      " 'TEBUCONAZOLE' 'THIFENSULFURON' 'TRIBENURON' 'TCMTB' 'TEBUTHIURON'\n",
      " 'TERBUFOS' 'TRIFLOXYSTROBIN' 'STIROFOS' 'SPIRODICLOFEN' 'SPIROTETRAMAT'\n",
      " 'SULFOXAFLOR' 'SULCOTRIONE' 'TRICYCLAZOLE']\n"
     ]
    },
    {
     "name": "stderr",
     "output_type": "stream",
     "text": [
      "/tmp/ipykernel_14822/3012381163.py:6: DtypeWarning: Columns (5,6) have mixed types. Specify dtype option on import or set low_memory=False.\n",
      "  df = pd.read_csv(os.path.join(folder_path, file), sep=';', encoding='latin1')\n"
     ]
    },
    {
     "name": "stdout",
     "output_type": "stream",
     "text": [
      "Pesticides_C_D.csv has parameters: ['DCMU' 'CLOTHIANIDINE' 'CHLORPYRIFOS' 'DICHLORVOS' 'DIMOXYSTROBIN'\n",
      " 'DIMETHOATE' 'CHLORFENVINPHOS' '44DDT' '24DDT' '44DDD' '44DDE'\n",
      " 'DIMPYLATE' 'DINOSEB' '24D' '24DB' 'CARBOFURAN' 'CYANAZINE' 'DCBN'\n",
      " 'DEISOPROPYLATRAZINE' '24DP' 'CHLORIDAZON' '36DCP' 'DIFLUFENICAN' '24DDE'\n",
      " 'CHLORTOLURON' 'ACHLORDANE' 'BCHLORDANE' 'CARBETAMIDE' 'CP' 'CYBUTRYNE'\n",
      " 'DICAMBA' 'DIMETHENAMID' 'DIMETHOMORPH' '24DDD' 'DICLOFOP-METHYL'\n",
      " 'GCHLORDANE' 'CARBARYL' 'CHLORIMURON' 'CHLORSULFURON' 'CLOMAZONE'\n",
      " 'DINOTEFURAN' 'CAPTAFOL' 'CAPTAN' 'CHLOROXURON' 'CYHALOTHRIN'\n",
      " 'DISULFOTON' 'DYPHONATE' 'CHLORANTRANILIPROLE' 'CPSM' 'DIMETHACHLOR'\n",
      " 'DSM' 'DDD' 'DESMETRYN' 'DALAPON' 'DBCP' 'DNOC' 'DEET' 'CYPROCONAZOLE'\n",
      " 'LAMBDA-CYHALOTHRIN']\n",
      "Tungsten.csv has parameters: ['W-Tot' 'W-Ext' 'W-Dis']\n"
     ]
    },
    {
     "name": "stderr",
     "output_type": "stream",
     "text": [
      "/tmp/ipykernel_14822/3012381163.py:6: DtypeWarning: Columns (5) have mixed types. Specify dtype option on import or set low_memory=False.\n",
      "  df = pd.read_csv(os.path.join(folder_path, file), sep=';', encoding='latin1')\n"
     ]
    },
    {
     "name": "stdout",
     "output_type": "stream",
     "text": [
      "PAH.csv has parameters: ['BAP' 'BZBFLA' 'BZGHIPYL' 'BZKFLA' 'FLAH' 'IDN123CDPYR' 'ANTHRACENE'\n",
      " 'NPTH' 'ANTH' 'ANTL' 'BZAATR' 'CRYH' 'DBA' 'FLRH' 'PHNH' 'PYRENE' 'PAH'\n",
      " 'BTBZLPTHAL8' 'DICOFOL' 'BEP' 'INDENE' 'PYL' 'TETRALIN' '1MNPT' '2MNPT'\n",
      " 'MCA' 'DBA-Sus' 'NAPHTHOL' 'BENZATHRENE' '2CLNAPHTHALENE']\n"
     ]
    },
    {
     "name": "stderr",
     "output_type": "stream",
     "text": [
      "/tmp/ipykernel_14822/3012381163.py:6: DtypeWarning: Columns (5) have mixed types. Specify dtype option on import or set low_memory=False.\n",
      "  df = pd.read_csv(os.path.join(folder_path, file), sep=';', encoding='latin1')\n"
     ]
    },
    {
     "name": "stdout",
     "output_type": "stream",
     "text": [
      "Phosphorus.csv has parameters: ['DRP' 'DIP' 'TDP' 'TP' 'TIP' 'TRP' 'TPP']\n",
      "Cadmium.csv has parameters: ['Cd-Dis' 'Cd-Tot' 'Cd-Ext' 'Cd-Sus']\n"
     ]
    },
    {
     "name": "stderr",
     "output_type": "stream",
     "text": [
      "/tmp/ipykernel_14822/3012381163.py:6: DtypeWarning: Columns (5,6) have mixed types. Specify dtype option on import or set low_memory=False.\n",
      "  df = pd.read_csv(os.path.join(folder_path, file), sep=';', encoding='latin1')\n"
     ]
    },
    {
     "name": "stdout",
     "output_type": "stream",
     "text": [
      "Bicarbonate.csv has parameters: ['HCO3']\n",
      "Yttrium.csv has parameters: ['Y-Tot' 'Y-Ext' 'Y-Dis']\n"
     ]
    },
    {
     "name": "stderr",
     "output_type": "stream",
     "text": [
      "/tmp/ipykernel_14822/3012381163.py:6: DtypeWarning: Columns (5,6) have mixed types. Specify dtype option on import or set low_memory=False.\n",
      "  df = pd.read_csv(os.path.join(folder_path, file), sep=';', encoding='latin1')\n"
     ]
    },
    {
     "name": "stdout",
     "output_type": "stream",
     "text": [
      "Pesticides_M_to_R.csv has parameters: ['METHIOCARB' 'MCPA' 'MCPPACID' 'QUINOXYFEN' 'MCPB' 'PROMETRYN'\n",
      " 'METAMITRON' 'METAPHOS' 'METOLACHOR' 'METRIBUZIN' 'PARATHION' 'PROPAZINE'\n",
      " 'PENDIMETHALIN' 'MALATHION' 'METHOMYL' 'METSULFURON-METHYL' 'MBC'\n",
      " 'METAZACHLOR' 'METHABENZTHIAZURON' 'METOBROMURON' 'MEVINPHOS'\n",
      " 'MONOLINURON' 'MXCHLOR' 'PIRIMICARB' 'PICLORAM' 'METALAXYL'\n",
      " 'NICOSULFURON' 'OXAMYL' 'PRIMISULFURON' 'PROSULFURON' 'RIMSULFURON'\n",
      " 'METHIDATHION' 'MYCLOBUTANIL' 'NAPROPAMIDE' 'PHORATE' 'PHOSALONE'\n",
      " 'PROPOXUR' 'PYRACLOSTROBIN' 'PHOSMET' '2MPHL' 'OMETHOATE' 'PECNBZ'\n",
      " 'PIRIMIPHOSMETHYL' 'PROPICONAZOLE' 'PRONAMIDE' 'METHAMIDOPHOS'\n",
      " '1CLNAPHTHALENE' 'PICOLINAFEN' 'METHOXYFENOZIDE' 'PYRIMETHANIL'\n",
      " 'PROTHIOCONAZOLE' 'PERMETHRIN']\n"
     ]
    },
    {
     "name": "stderr",
     "output_type": "stream",
     "text": [
      "/tmp/ipykernel_14822/3012381163.py:6: DtypeWarning: Columns (5,6) have mixed types. Specify dtype option on import or set low_memory=False.\n",
      "  df = pd.read_csv(os.path.join(folder_path, file), sep=';', encoding='latin1')\n"
     ]
    },
    {
     "name": "stdout",
     "output_type": "stream",
     "text": [
      "pH.csv has parameters: ['pH']\n",
      "Organic.csv has parameters: ['HC-Tot' 'DEHP' 'TPHC' 'CARBAZOLE' '34DCA' 'ONCB' 'PNCB' 'OG' 'IP' 'AOX']\n",
      "Barium.csv has parameters: ['Ba-Tot' 'Ba-Ext' 'Ba-Dis']\n",
      "Niobium.csv has parameters: ['Nb-Tot' 'Nb-Ext' 'Nb-Dis']\n"
     ]
    },
    {
     "name": "stderr",
     "output_type": "stream",
     "text": [
      "/tmp/ipykernel_14822/3012381163.py:6: DtypeWarning: Columns (5,6) have mixed types. Specify dtype option on import or set low_memory=False.\n",
      "  df = pd.read_csv(os.path.join(folder_path, file), sep=';', encoding='latin1')\n"
     ]
    },
    {
     "name": "stdout",
     "output_type": "stream",
     "text": [
      "Oxygen_Demand.csv has parameters: ['BOD' 'COD' 'PV']\n",
      "Copper.csv has parameters: ['Cu-Dis' 'Cu-Tot' 'Cu-Ext' 'Cu-Sus']\n"
     ]
    }
   ],
   "source": [
    "folder_path = '/home/margaret/Capstone-Project/CleanWatAI/data/GFQA_v2'\n",
    "gems_files = [f for f in os.listdir(folder_path) if f.endswith('.csv')]\n",
    "\n",
    "for file in gems_files:\n",
    "    try:\n",
    "        df = pd.read_csv(os.path.join(folder_path, file), sep=';', encoding='latin1')\n",
    "        unique_params = df['Parameter.Code'].unique()\n",
    "        print(f\"{file} has parameters: {unique_params}\")\n",
    "    except Exception as e:\n",
    "        print(f\"❌ Error reading {file}: {e}\")\n"
   ]
  },
  {
   "cell_type": "markdown",
   "id": "1e642827",
   "metadata": {},
   "source": [
    "### Modeling"
   ]
  },
  {
   "cell_type": "code",
   "execution_count": 13,
   "id": "6482c9e9",
   "metadata": {},
   "outputs": [
    {
     "data": {
      "text/html": [
       "<div>\n",
       "<style scoped>\n",
       "    .dataframe tbody tr th:only-of-type {\n",
       "        vertical-align: middle;\n",
       "    }\n",
       "\n",
       "    .dataframe tbody tr th {\n",
       "        vertical-align: top;\n",
       "    }\n",
       "\n",
       "    .dataframe thead th {\n",
       "        text-align: right;\n",
       "    }\n",
       "</style>\n",
       "<table border=\"1\" class=\"dataframe\">\n",
       "  <thead>\n",
       "    <tr style=\"text-align: right;\">\n",
       "      <th></th>\n",
       "      <th>GEMS.Station.Number</th>\n",
       "      <th>Sample.Date</th>\n",
       "      <th>pH</th>\n",
       "      <th>NO2N</th>\n",
       "      <th>NO3N</th>\n",
       "      <th>DRP</th>\n",
       "    </tr>\n",
       "  </thead>\n",
       "  <tbody>\n",
       "    <tr>\n",
       "      <th>0</th>\n",
       "      <td>ARG00003</td>\n",
       "      <td>2018-11-15</td>\n",
       "      <td>7.16</td>\n",
       "      <td>0.01000</td>\n",
       "      <td>0.05</td>\n",
       "      <td>1.30000</td>\n",
       "    </tr>\n",
       "    <tr>\n",
       "      <th>1</th>\n",
       "      <td>ARG00003</td>\n",
       "      <td>2019-05-08</td>\n",
       "      <td>7.10</td>\n",
       "      <td>0.01000</td>\n",
       "      <td>0.10</td>\n",
       "      <td>0.05000</td>\n",
       "    </tr>\n",
       "    <tr>\n",
       "      <th>2</th>\n",
       "      <td>ARG00003</td>\n",
       "      <td>2019-11-06</td>\n",
       "      <td>7.47</td>\n",
       "      <td>0.01000</td>\n",
       "      <td>0.05</td>\n",
       "      <td>0.05000</td>\n",
       "    </tr>\n",
       "    <tr>\n",
       "      <th>3</th>\n",
       "      <td>ARG00003</td>\n",
       "      <td>2020-02-26</td>\n",
       "      <td>8.15</td>\n",
       "      <td>0.01000</td>\n",
       "      <td>0.11</td>\n",
       "      <td>0.70000</td>\n",
       "    </tr>\n",
       "    <tr>\n",
       "      <th>4</th>\n",
       "      <td>ARG00003</td>\n",
       "      <td>2020-11-04</td>\n",
       "      <td>8.10</td>\n",
       "      <td>0.00075</td>\n",
       "      <td>0.23</td>\n",
       "      <td>0.00165</td>\n",
       "    </tr>\n",
       "  </tbody>\n",
       "</table>\n",
       "</div>"
      ],
      "text/plain": [
       "  GEMS.Station.Number Sample.Date    pH     NO2N  NO3N      DRP\n",
       "0            ARG00003  2018-11-15  7.16  0.01000  0.05  1.30000\n",
       "1            ARG00003  2019-05-08  7.10  0.01000  0.10  0.05000\n",
       "2            ARG00003  2019-11-06  7.47  0.01000  0.05  0.05000\n",
       "3            ARG00003  2020-02-26  8.15  0.01000  0.11  0.70000\n",
       "4            ARG00003  2020-11-04  8.10  0.00075  0.23  0.00165"
      ]
     },
     "execution_count": 13,
     "metadata": {},
     "output_type": "execute_result"
    }
   ],
   "source": [
    "df = pd.read_csv('/home/margaret/Capstone-Project/CleanWatAI/data/processed/gems.csv')\n",
    "df.head()"
   ]
  },
  {
   "cell_type": "code",
   "execution_count": 14,
   "id": "969ad626",
   "metadata": {},
   "outputs": [
    {
     "data": {
      "text/plain": [
       "<bound method DataFrame.info of       GEMS.Station.Number Sample.Date    pH     NO2N    NO3N      DRP\n",
       "0                ARG00003  2018-11-15  7.16  0.01000  0.0500  1.30000\n",
       "1                ARG00003  2019-05-08  7.10  0.01000  0.1000  0.05000\n",
       "2                ARG00003  2019-11-06  7.47  0.01000  0.0500  0.05000\n",
       "3                ARG00003  2020-02-26  8.15  0.01000  0.1100  0.70000\n",
       "4                ARG00003  2020-11-04  8.10  0.00075  0.2300  0.00165\n",
       "...                   ...         ...   ...      ...     ...      ...\n",
       "39430            USA00532  2005-06-07  8.10  0.01400  0.8625  0.00300\n",
       "39431            USA00532  2005-06-24  8.00  0.02200  0.8495  0.00300\n",
       "39432            USA00532  2005-07-13  8.00  0.03200  0.8220  0.00700\n",
       "39433            USA00532  2005-08-09  8.10  0.02600  0.5350  0.00300\n",
       "39434            USA00532  2005-09-22  6.20  0.11600  0.8135  0.01100\n",
       "\n",
       "[39435 rows x 6 columns]>"
      ]
     },
     "execution_count": 14,
     "metadata": {},
     "output_type": "execute_result"
    }
   ],
   "source": [
    "df.info"
   ]
  },
  {
   "cell_type": "code",
   "execution_count": 15,
   "id": "62076fbb",
   "metadata": {},
   "outputs": [
    {
     "data": {
      "text/html": [
       "<div>\n",
       "<style scoped>\n",
       "    .dataframe tbody tr th:only-of-type {\n",
       "        vertical-align: middle;\n",
       "    }\n",
       "\n",
       "    .dataframe tbody tr th {\n",
       "        vertical-align: top;\n",
       "    }\n",
       "\n",
       "    .dataframe thead th {\n",
       "        text-align: right;\n",
       "    }\n",
       "</style>\n",
       "<table border=\"1\" class=\"dataframe\">\n",
       "  <thead>\n",
       "    <tr style=\"text-align: right;\">\n",
       "      <th></th>\n",
       "      <th>pH</th>\n",
       "      <th>NO2N</th>\n",
       "      <th>NO3N</th>\n",
       "      <th>DRP</th>\n",
       "    </tr>\n",
       "  </thead>\n",
       "  <tbody>\n",
       "    <tr>\n",
       "      <th>count</th>\n",
       "      <td>39435.000000</td>\n",
       "      <td>39435.000000</td>\n",
       "      <td>39435.000000</td>\n",
       "      <td>39435.000000</td>\n",
       "    </tr>\n",
       "    <tr>\n",
       "      <th>mean</th>\n",
       "      <td>7.956184</td>\n",
       "      <td>0.067340</td>\n",
       "      <td>1.488265</td>\n",
       "      <td>0.174718</td>\n",
       "    </tr>\n",
       "    <tr>\n",
       "      <th>std</th>\n",
       "      <td>1.475497</td>\n",
       "      <td>0.300511</td>\n",
       "      <td>3.561116</td>\n",
       "      <td>0.665418</td>\n",
       "    </tr>\n",
       "    <tr>\n",
       "      <th>min</th>\n",
       "      <td>2.000000</td>\n",
       "      <td>0.000000</td>\n",
       "      <td>0.000000</td>\n",
       "      <td>0.000000</td>\n",
       "    </tr>\n",
       "    <tr>\n",
       "      <th>25%</th>\n",
       "      <td>7.680000</td>\n",
       "      <td>0.000000</td>\n",
       "      <td>0.180000</td>\n",
       "      <td>0.010334</td>\n",
       "    </tr>\n",
       "    <tr>\n",
       "      <th>50%</th>\n",
       "      <td>8.010000</td>\n",
       "      <td>0.010000</td>\n",
       "      <td>0.504432</td>\n",
       "      <td>0.041332</td>\n",
       "    </tr>\n",
       "    <tr>\n",
       "      <th>75%</th>\n",
       "      <td>8.300000</td>\n",
       "      <td>0.030000</td>\n",
       "      <td>1.370000</td>\n",
       "      <td>0.124008</td>\n",
       "    </tr>\n",
       "    <tr>\n",
       "      <th>max</th>\n",
       "      <td>282.700000</td>\n",
       "      <td>9.660000</td>\n",
       "      <td>145.080000</td>\n",
       "      <td>40.000000</td>\n",
       "    </tr>\n",
       "  </tbody>\n",
       "</table>\n",
       "</div>"
      ],
      "text/plain": [
       "                 pH          NO2N          NO3N           DRP\n",
       "count  39435.000000  39435.000000  39435.000000  39435.000000\n",
       "mean       7.956184      0.067340      1.488265      0.174718\n",
       "std        1.475497      0.300511      3.561116      0.665418\n",
       "min        2.000000      0.000000      0.000000      0.000000\n",
       "25%        7.680000      0.000000      0.180000      0.010334\n",
       "50%        8.010000      0.010000      0.504432      0.041332\n",
       "75%        8.300000      0.030000      1.370000      0.124008\n",
       "max      282.700000      9.660000    145.080000     40.000000"
      ]
     },
     "execution_count": 15,
     "metadata": {},
     "output_type": "execute_result"
    }
   ],
   "source": [
    "df.describe()"
   ]
  },
  {
   "cell_type": "code",
   "execution_count": 16,
   "id": "6409c7bb",
   "metadata": {},
   "outputs": [
    {
     "name": "stdout",
     "output_type": "stream",
     "text": [
      "['GEMS.Station.Number', 'Sample.Date', 'pH', 'NO2N', 'NO3N', 'DRP']\n"
     ]
    }
   ],
   "source": [
    "print(df.columns.tolist())"
   ]
  },
  {
   "cell_type": "code",
   "execution_count": 17,
   "id": "ff1e0c7e",
   "metadata": {},
   "outputs": [],
   "source": [
    "# Basic thresholds (for demonstration; use real thresholds if known)\n",
    "df['pH_flag'] = df['pH'].between(6.5, 8.5)\n",
    "df['NO3N_flag'] = df['NO3N'] <= 10  # mg/L nitrate-N\n",
    "df['NO2N_flag'] = df['NO2N'] <= 1   # conservative nitrite\n",
    "df['DRP_flag'] = df['DRP'] <= 0.1   # threshold for phosphorus\n",
    "\n",
    "# Water is safe only if all are True\n",
    "df['Safe'] = (df['pH_flag'] & df['NO3N_flag'] & df['NO2N_flag'] & df['DRP_flag']).astype(int)\n"
   ]
  },
  {
   "cell_type": "code",
   "execution_count": 18,
   "id": "db57b036",
   "metadata": {},
   "outputs": [
    {
     "name": "stdout",
     "output_type": "stream",
     "text": [
      "['GEMS.Station.Number', 'Sample.Date', 'pH', 'NO2N', 'NO3N', 'DRP', 'pH_flag', 'NO3N_flag', 'NO2N_flag', 'DRP_flag', 'Safe']\n"
     ]
    }
   ],
   "source": [
    "print(df.columns.tolist())\n"
   ]
  },
  {
   "cell_type": "code",
   "execution_count": 19,
   "id": "5b82dcb6",
   "metadata": {},
   "outputs": [],
   "source": [
    "import seaborn as sns\n",
    "import matplotlib.pyplot as plt\n",
    "from sklearn.metrics import confusion_matrix\n",
    "from sklearn.linear_model import LogisticRegression\n",
    "from sklearn.model_selection import train_test_split\n",
    "from sklearn.preprocessing import StandardScaler\n",
    "from sklearn.metrics import classification_report, confusion_matrix"
   ]
  },
  {
   "cell_type": "code",
   "execution_count": 20,
   "id": "73baa1cb",
   "metadata": {},
   "outputs": [],
   "source": [
    "X = df[['pH', 'NO3N', 'NO2N', 'DRP']]\n",
    "y = df['Safe']\n"
   ]
  },
  {
   "cell_type": "code",
   "execution_count": 21,
   "id": "ea7f6769",
   "metadata": {},
   "outputs": [],
   "source": [
    "X_train, X_test, y_train, y_test = train_test_split(X, y, test_size=0.2, random_state=42)\n"
   ]
  },
  {
   "cell_type": "code",
   "execution_count": 22,
   "id": "18189228",
   "metadata": {},
   "outputs": [],
   "source": [
    "# Normalize features\n",
    "scaler = StandardScaler()\n",
    "X_train_scaled = scaler.fit_transform(X_train)\n",
    "X_test_scaled = scaler.transform(X_test)"
   ]
  },
  {
   "cell_type": "markdown",
   "id": "4b2d82cb",
   "metadata": {},
   "source": [
    "### Logistic Regression"
   ]
  },
  {
   "cell_type": "code",
   "execution_count": 23,
   "id": "7873568a",
   "metadata": {},
   "outputs": [
    {
     "name": "stdout",
     "output_type": "stream",
     "text": [
      "Training complete\n"
     ]
    }
   ],
   "source": [
    "logreg = LogisticRegression(random_state=42)\n",
    "logreg.fit(X_train_scaled, y_train)\n",
    "print(\"Training complete\")\n",
    "y_pred = logreg.predict(X_test_scaled)\n"
   ]
  },
  {
   "cell_type": "code",
   "execution_count": 24,
   "id": "bd8db79e",
   "metadata": {},
   "outputs": [
    {
     "name": "stdout",
     "output_type": "stream",
     "text": [
      "Classification Report:\n",
      "               precision    recall  f1-score   support\n",
      "\n",
      "           0       0.92      0.77      0.84      2971\n",
      "           1       0.88      0.96      0.92      4916\n",
      "\n",
      "    accuracy                           0.89      7887\n",
      "   macro avg       0.90      0.87      0.88      7887\n",
      "weighted avg       0.89      0.89      0.89      7887\n",
      "\n"
     ]
    }
   ],
   "source": [
    "print(\"Classification Report:\\n\", classification_report(y_test, y_pred))\n"
   ]
  },
  {
   "cell_type": "code",
   "execution_count": 25,
   "id": "3872e7f0",
   "metadata": {},
   "outputs": [
    {
     "data": {
      "image/png": "[encoded data removed]",
      "text/plain": [
       "<Figure size 600x500 with 2 Axes>"
      ]
     },
     "metadata": {},
     "output_type": "display_data"
    }
   ],
   "source": [
    "\n",
    "cm = confusion_matrix(y_test, y_pred)\n",
    "plt.figure(figsize=(6, 5))\n",
    "sns.heatmap(cm, annot=True, fmt=\"d\", cmap=\"Blues\", \n",
    "            xticklabels=[\"Predicted Unsafe\", \"Predicted Safe\"],\n",
    "            yticklabels=[\"Actual Unsafe\", \"Actual Safe\"])\n",
    "plt.xlabel(\"Predicted\")\n",
    "plt.ylabel(\"Actual\")\n",
    "plt.title(\"Confusion Matrix\")\n",
    "plt.tight_layout()\n",
    "plt.show()"
   ]
  },
  {
   "cell_type": "markdown",
   "id": "64a48ac0",
   "metadata": {},
   "source": [
    " I used a confusion matrix to evaluate how well the model is distinguishing between safe and unsafe water conditions"
   ]
  },
  {
   "cell_type": "code",
   "execution_count": 26,
   "id": "367630e5",
   "metadata": {},
   "outputs": [
    {
     "name": "stdout",
     "output_type": "stream",
     "text": [
      "ROC-AUC Score: 0.9343589605952195\n"
     ]
    }
   ],
   "source": [
    "from sklearn.metrics import roc_auc_score\n",
    "\n",
    "y_proba = logreg.predict_proba(X_test_scaled)[:, 1]\n",
    "print(\"ROC-AUC Score:\", roc_auc_score(y_test, y_proba))\n"
   ]
  },
  {
   "cell_type": "markdown",
   "id": "03a16037",
   "metadata": {},
   "source": [
    "A ROC-AUC score of 0.93 is strong hence the model is performing well."
   ]
  },
  {
   "cell_type": "markdown",
   "id": "393f3719",
   "metadata": {},
   "source": [
    "### Random Forest "
   ]
  },
  {
   "cell_type": "code",
   "execution_count": 27,
   "id": "3d9dc901",
   "metadata": {},
   "outputs": [],
   "source": [
    "from sklearn.ensemble import RandomForestClassifier\n",
    "from sklearn.metrics import classification_report, confusion_matrix, roc_auc_score"
   ]
  },
  {
   "cell_type": "code",
   "execution_count": 28,
   "id": "bba4b9d9",
   "metadata": {},
   "outputs": [],
   "source": [
    "rf = RandomForestClassifier(random_state=42)\n",
    "rf.fit(X_train, y_train)\n",
    "#Predicting\n",
    "y_pred_rf = rf.predict(X_test)\n",
    "y_prob_rf = rf.predict_proba(X_test)[:, 1]"
   ]
  },
  {
   "cell_type": "code",
   "execution_count": 29,
   "id": "3e0a51dd",
   "metadata": {},
   "outputs": [
    {
     "name": "stdout",
     "output_type": "stream",
     "text": [
      "Classification Report (Random Forest):\n",
      "              precision    recall  f1-score   support\n",
      "\n",
      "           0       1.00      1.00      1.00      2971\n",
      "           1       1.00      1.00      1.00      4916\n",
      "\n",
      "    accuracy                           1.00      7887\n",
      "   macro avg       1.00      1.00      1.00      7887\n",
      "weighted avg       1.00      1.00      1.00      7887\n",
      "\n"
     ]
    }
   ],
   "source": [
    "\n",
    "print(\"Classification Report (Random Forest):\")\n",
    "print(classification_report(y_test, y_pred_rf))"
   ]
  },
  {
   "cell_type": "markdown",
   "id": "7f9b42f9",
   "metadata": {},
   "source": [
    "### Hyperparameter Tuning"
   ]
  },
  {
   "cell_type": "code",
   "execution_count": 30,
   "id": "af7fa6da",
   "metadata": {},
   "outputs": [],
   "source": [
    "from sklearn.model_selection import GridSearchCV"
   ]
  },
  {
   "cell_type": "code",
   "execution_count": 31,
   "id": "8c5b51fb",
   "metadata": {},
   "outputs": [],
   "source": [
    "\n",
    "param_grid = {\n",
    "    'n_estimators': [100, 200],\n",
    "    'max_depth': [5, 10, None],\n",
    "    'min_samples_split': [2, 5],\n",
    "    'min_samples_leaf': [1, 2],\n",
    "    'bootstrap': [True, False]\n",
    "}"
   ]
  },
  {
   "cell_type": "code",
   "execution_count": 32,
   "id": "2f653e71",
   "metadata": {},
   "outputs": [
    {
     "name": "stdout",
     "output_type": "stream",
     "text": [
      "Best Parameters: {'bootstrap': True, 'max_depth': 5, 'min_samples_leaf': 1, 'min_samples_split': 2, 'n_estimators': 100}\n"
     ]
    }
   ],
   "source": [
    "\n",
    "grid_search = GridSearchCV(RandomForestClassifier(random_state=42), param_grid, cv=3, n_jobs=-1, scoring='f1')\n",
    "grid_search.fit(X_train, y_train)\n",
    "\n",
    "print(\"Best Parameters:\", grid_search.best_params_)\n",
    "best_rf = grid_search.best_estimator_"
   ]
  },
  {
   "cell_type": "code",
   "execution_count": 33,
   "id": "f0d5d0b8",
   "metadata": {},
   "outputs": [
    {
     "name": "stdout",
     "output_type": "stream",
     "text": [
      "Classification Report (Tuned RF):\n",
      "              precision    recall  f1-score   support\n",
      "\n",
      "           0       1.00      1.00      1.00      2971\n",
      "           1       1.00      1.00      1.00      4916\n",
      "\n",
      "    accuracy                           1.00      7887\n",
      "   macro avg       1.00      1.00      1.00      7887\n",
      "weighted avg       1.00      1.00      1.00      7887\n",
      "\n"
     ]
    }
   ],
   "source": [
    "\n",
    "y_pred_best = best_rf.predict(X_test)\n",
    "print(\"Classification Report (Tuned RF):\")\n",
    "print(classification_report(y_test, y_pred_best))"
   ]
  },
  {
   "cell_type": "markdown",
   "id": "e81ea8f2",
   "metadata": {},
   "source": [
    "While the models performed well using pH, nitrate, nitrite, and phosphorus, the absence of Dissolved Oxygen has contributed to very high accuracy. Including DO could enhance the model’s ability to detect unsafe conditions, especially those related to oxygen depletion in aquatic environments."
   ]
  },
  {
   "cell_type": "code",
   "execution_count": 34,
   "id": "d3dd45d3",
   "metadata": {},
   "outputs": [
    {
     "data": {
      "text/html": [
       "<div>\n",
       "<style scoped>\n",
       "    .dataframe tbody tr th:only-of-type {\n",
       "        vertical-align: middle;\n",
       "    }\n",
       "\n",
       "    .dataframe tbody tr th {\n",
       "        vertical-align: top;\n",
       "    }\n",
       "\n",
       "    .dataframe thead th {\n",
       "        text-align: right;\n",
       "    }\n",
       "</style>\n",
       "<table border=\"1\" class=\"dataframe\">\n",
       "  <thead>\n",
       "    <tr style=\"text-align: right;\">\n",
       "      <th></th>\n",
       "      <th>GEMS.Station.Number</th>\n",
       "      <th>Sample.Date</th>\n",
       "      <th>pH</th>\n",
       "      <th>NO2N</th>\n",
       "      <th>NO3N</th>\n",
       "      <th>TP</th>\n",
       "      <th>O2-Dis</th>\n",
       "      <th>NH4N</th>\n",
       "    </tr>\n",
       "  </thead>\n",
       "  <tbody>\n",
       "    <tr>\n",
       "      <th>0</th>\n",
       "      <td>AUT00009</td>\n",
       "      <td>2021-01-12</td>\n",
       "      <td>7.8</td>\n",
       "      <td>0.002003</td>\n",
       "      <td>0.613585</td>\n",
       "      <td>0.007</td>\n",
       "      <td>14.3</td>\n",
       "      <td>0.004000</td>\n",
       "    </tr>\n",
       "    <tr>\n",
       "      <th>1</th>\n",
       "      <td>AUT00009</td>\n",
       "      <td>2021-02-01</td>\n",
       "      <td>8.0</td>\n",
       "      <td>0.002003</td>\n",
       "      <td>0.623578</td>\n",
       "      <td>0.008</td>\n",
       "      <td>12.7</td>\n",
       "      <td>0.004000</td>\n",
       "    </tr>\n",
       "    <tr>\n",
       "      <th>2</th>\n",
       "      <td>AUT00009</td>\n",
       "      <td>2021-03-01</td>\n",
       "      <td>8.1</td>\n",
       "      <td>0.002003</td>\n",
       "      <td>0.666549</td>\n",
       "      <td>0.010</td>\n",
       "      <td>13.5</td>\n",
       "      <td>0.004000</td>\n",
       "    </tr>\n",
       "    <tr>\n",
       "      <th>3</th>\n",
       "      <td>AUT00009</td>\n",
       "      <td>2021-04-06</td>\n",
       "      <td>8.0</td>\n",
       "      <td>0.002003</td>\n",
       "      <td>0.599595</td>\n",
       "      <td>0.007</td>\n",
       "      <td>12.3</td>\n",
       "      <td>0.006001</td>\n",
       "    </tr>\n",
       "    <tr>\n",
       "      <th>4</th>\n",
       "      <td>AUT00009</td>\n",
       "      <td>2021-05-03</td>\n",
       "      <td>8.0</td>\n",
       "      <td>0.002003</td>\n",
       "      <td>0.517650</td>\n",
       "      <td>0.018</td>\n",
       "      <td>12.3</td>\n",
       "      <td>0.006001</td>\n",
       "    </tr>\n",
       "  </tbody>\n",
       "</table>\n",
       "</div>"
      ],
      "text/plain": [
       "  GEMS.Station.Number Sample.Date   pH      NO2N      NO3N     TP  O2-Dis  \\\n",
       "0            AUT00009  2021-01-12  7.8  0.002003  0.613585  0.007    14.3   \n",
       "1            AUT00009  2021-02-01  8.0  0.002003  0.623578  0.008    12.7   \n",
       "2            AUT00009  2021-03-01  8.1  0.002003  0.666549  0.010    13.5   \n",
       "3            AUT00009  2021-04-06  8.0  0.002003  0.599595  0.007    12.3   \n",
       "4            AUT00009  2021-05-03  8.0  0.002003  0.517650  0.018    12.3   \n",
       "\n",
       "       NH4N  \n",
       "0  0.004000  \n",
       "1  0.004000  \n",
       "2  0.004000  \n",
       "3  0.006001  \n",
       "4  0.006001  "
      ]
     },
     "execution_count": 34,
     "metadata": {},
     "output_type": "execute_result"
    }
   ],
   "source": [
    "water_quality =pd.read_csv('/home/margaret/Capstone-Project/CleanWatAI/data/processed/water_quality_complete.csv')\n",
    "water_quality.head()"
   ]
  },
  {
   "cell_type": "code",
   "execution_count": 35,
   "id": "e855c550",
   "metadata": {},
   "outputs": [
    {
     "name": "stdout",
     "output_type": "stream",
     "text": [
      "<class 'pandas.core.frame.DataFrame'>\n",
      "RangeIndex: 45328 entries, 0 to 45327\n",
      "Data columns (total 8 columns):\n",
      " #   Column               Non-Null Count  Dtype  \n",
      "---  ------               --------------  -----  \n",
      " 0   GEMS.Station.Number  45328 non-null  object \n",
      " 1   Sample.Date          45328 non-null  object \n",
      " 2   pH                   45328 non-null  float64\n",
      " 3   NO2N                 45328 non-null  float64\n",
      " 4   NO3N                 45328 non-null  float64\n",
      " 5   TP                   45328 non-null  float64\n",
      " 6   O2-Dis               45328 non-null  float64\n",
      " 7   NH4N                 45328 non-null  float64\n",
      "dtypes: float64(6), object(2)\n",
      "memory usage: 2.8+ MB\n"
     ]
    }
   ],
   "source": [
    "water_quality.info()"
   ]
  },
  {
   "cell_type": "markdown",
   "id": "fa3a03a6",
   "metadata": {},
   "source": [
    "### Modeling 2"
   ]
  },
  {
   "cell_type": "code",
   "execution_count": 36,
   "id": "0c2848c5",
   "metadata": {},
   "outputs": [],
   "source": [
    "from sklearn.linear_model import LinearRegression\n",
    "from sklearn.model_selection import train_test_split\n",
    "from sklearn.metrics import mean_squared_error, r2_score\n",
    "from sklearn.metrics import classification_report"
   ]
  },
  {
   "cell_type": "code",
   "execution_count": 39,
   "id": "07d6ca30",
   "metadata": {},
   "outputs": [],
   "source": [
    "df.columns = df.columns.str.strip().str.upper()\n"
   ]
  },
  {
   "cell_type": "code",
   "execution_count": 42,
   "id": "113ad8e7",
   "metadata": {},
   "outputs": [
    {
     "name": "stdout",
     "output_type": "stream",
     "text": [
      "['GEMS.STATION.NUMBER', 'SAMPLE.DATE', 'PH', 'NO2N', 'NO3N', 'DRP', 'PH_FLAG', 'NO3N_FLAG', 'NO2N_FLAG', 'DRP_FLAG', 'SAFE']\n"
     ]
    }
   ],
   "source": [
    "print(df.columns.tolist())\n"
   ]
  },
  {
   "cell_type": "code",
   "execution_count": 46,
   "id": "711ea33f",
   "metadata": {},
   "outputs": [],
   "source": [
    "feature_cols = ['PH', 'NO2N', 'NO3N', 'DRP']\n",
    "target= ['SAFE']"
   ]
  },
  {
   "cell_type": "code",
   "execution_count": 47,
   "id": "eb79e0de",
   "metadata": {},
   "outputs": [],
   "source": [
    "X = df[feature_cols]\n",
    "y = df[target]\n"
   ]
  },
  {
   "cell_type": "code",
   "execution_count": 48,
   "id": "ce1163ed",
   "metadata": {},
   "outputs": [],
   "source": [
    "X_train, X_test, y_train, y_test = train_test_split(X, y, test_size=0.2, random_state=42)\n"
   ]
  },
  {
   "cell_type": "code",
   "execution_count": 49,
   "id": "7248bc93",
   "metadata": {},
   "outputs": [
    {
     "name": "stdout",
     "output_type": "stream",
     "text": [
      "MSE: 0.20028264256230718\n",
      "R^2 Score: 0.14699324858923168\n"
     ]
    }
   ],
   "source": [
    "lr = LinearRegression()\n",
    "lr.fit(X_train, y_train)\n",
    "\n",
    "# Predict\n",
    "y_pred = lr.predict(X_test)\n",
    "\n",
    "# Evaluate\n",
    "print(\"MSE:\", mean_squared_error(y_test, y_pred))\n",
    "print(\"R^2 Score:\", r2_score(y_test, y_pred))"
   ]
  },
  {
   "cell_type": "code",
   "execution_count": 50,
   "id": "38b9cae8",
   "metadata": {},
   "outputs": [
    {
     "name": "stdout",
     "output_type": "stream",
     "text": [
      "Classification Report:\n",
      "               precision    recall  f1-score   support\n",
      "\n",
      "           0       0.94      0.23      0.37      2971\n",
      "           1       0.68      0.99      0.81      4916\n",
      "\n",
      "    accuracy                           0.70      7887\n",
      "   macro avg       0.81      0.61      0.59      7887\n",
      "weighted avg       0.78      0.70      0.64      7887\n",
      "\n"
     ]
    }
   ],
   "source": [
    "# Convert float predictions to binary\n",
    "y_pred_binary = (y_pred >= 0.5).astype(int)\n",
    "\n",
    "print(\"Classification Report:\\n\", classification_report(y_test, y_pred_binary))\n"
   ]
  },
  {
   "cell_type": "code",
   "execution_count": 51,
   "id": "bf50d515",
   "metadata": {},
   "outputs": [
    {
     "name": "stdout",
     "output_type": "stream",
     "text": [
      "Accuracy: 0.7036896158235071\n"
     ]
    }
   ],
   "source": [
    "from sklearn.metrics import accuracy_score\n",
    "\n",
    "y_pred_class = (y_pred >= 0.5).astype(int)\n",
    "print(\"Accuracy:\", accuracy_score(y_test, y_pred_class))\n"
   ]
  },
  {
   "cell_type": "code",
   "execution_count": null,
   "id": "d60216b2",
   "metadata": {},
   "outputs": [
    {
     "data": {
      "image/png": "[encoded data removed]",
      "text/plain": [
       "<Figure size 640x480 with 2 Axes>"
      ]
     },
     "metadata": {},
     "output_type": "display_data"
    }
   ],
   "source": [
    "from sklearn.metrics import confusion_matrix, ConfusionMatrixDisplay\n",
    "import matplotlib.pyplot as plt\n",
    "\n",
    "y_pred_binary = (y_pred >= 0.5).astype(int)\n",
    "cm = confusion_matrix(y_test, y_pred_binary)\n",
    "\n",
    "# Plotting\n",
    "disp = ConfusionMatrixDisplay(confusion_matrix=cm, display_labels=[\"Unsafe\", \"Safe\"])\n",
    "disp.plot(cmap=plt.cm.Blues)\n",
    "\n",
    "plt.title(\"Confusion Matrix\")\n",
    "plt.show()\n"
   ]
  },
  {
   "cell_type": "code",
   "execution_count": null,
   "id": "264a59ae",
   "metadata": {},
   "outputs": [],
   "source": []
  }
 ],
 "metadata": {
  "kernelspec": {
   "display_name": "base",
   "language": "python",
   "name": "python3"
  },
  "language_info": {
   "codemirror_mode": {
    "name": "ipython",
    "version": 3
   },
   "file_extension": ".py",
   "mimetype": "text/x-python",
   "name": "python",
   "nbconvert_exporter": "python",
   "pygments_lexer": "ipython3",
   "version": "3.12.7"
  }
 },
 "nbformat": 4,
 "nbformat_minor": 5
}
