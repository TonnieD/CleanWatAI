{
 "cells": [
  {
   "cell_type": "markdown",
   "id": "1c41b5df",
   "metadata": {},
   "source": [
    "#  NLP Classification Project: CleanWatAI\n",
    "\n",
    "\n",
    "##  Project Overview\n",
    "\n",
    "The CleanWatAI project aims to classify water-related news excerpts using Natural Language Processing (NLP) techniques. \n",
    "By leveraging both structured and unstructured data, our objective is to detect early signs of water contamination, supply risk, and infrastructure vulnerability in different regions.\n",
    "\n",
    "This notebook follows a structured data science workflow inspired by the CRISP-DM methodology, enriched with textual insights from NLP feature engineering and model optimization. \n",
    "\n",
    "**Project Goals:**\n",
    "- Clean and explore the dataset (both structured and textual).\n",
    "- Engineer meaningful features, especially from text.\n",
    "- Apply various NLP models to classify excerpts based on contamination risk.\n",
    "- Evaluate and interpret model performance with emphasis on explainability.\n"
   ]
  },
  {
   "cell_type": "markdown",
   "id": "525515c2",
   "metadata": {},
   "source": [
    "## Data Loading and Initial Exploration\n"
   ]
  },
  {
   "cell_type": "markdown",
   "id": "1321c3a2",
   "metadata": {},
   "source": [
    "\n",
    "In this section, we will:\n",
    "- Load the dataset\n",
    "- Display basic structure and size\n",
    "- Check column types and missing values\n"
   ]
  },
  {
   "cell_type": "code",
   "execution_count": 13,
   "id": "1328181a",
   "metadata": {},
   "outputs": [
    {
     "data": {
      "text/html": [
       "<div>\n",
       "<style scoped>\n",
       "    .dataframe tbody tr th:only-of-type {\n",
       "        vertical-align: middle;\n",
       "    }\n",
       "\n",
       "    .dataframe tbody tr th {\n",
       "        vertical-align: top;\n",
       "    }\n",
       "\n",
       "    .dataframe thead th {\n",
       "        text-align: right;\n",
       "    }\n",
       "</style>\n",
       "<table border=\"1\" class=\"dataframe\">\n",
       "  <thead>\n",
       "    <tr style=\"text-align: right;\">\n",
       "      <th></th>\n",
       "      <th>entry_id</th>\n",
       "      <th>country</th>\n",
       "      <th>source_title</th>\n",
       "      <th>excerpt</th>\n",
       "      <th>geo_location</th>\n",
       "      <th>water_source</th>\n",
       "      <th>sanitation_type</th>\n",
       "      <th>sector</th>\n",
       "      <th>gender</th>\n",
       "      <th>age_group</th>\n",
       "      <th>...</th>\n",
       "      <th>water_color</th>\n",
       "      <th>water_clarity</th>\n",
       "      <th>water_odor</th>\n",
       "      <th>recent_rain</th>\n",
       "      <th>nearby_activities</th>\n",
       "      <th>nearby_infrastructure</th>\n",
       "      <th>vegetation_near_source</th>\n",
       "      <th>waste_disposal_nearby</th>\n",
       "      <th>animal_access</th>\n",
       "      <th>water_flow_rate</th>\n",
       "    </tr>\n",
       "  </thead>\n",
       "  <tbody>\n",
       "    <tr>\n",
       "      <th>0</th>\n",
       "      <td>81a69ab1-6070-4643-ab31-062dabbe355d</td>\n",
       "      <td>Haiti</td>\n",
       "      <td>Skill may certainly off sing.</td>\n",
       "      <td>Health inspectors on site found that improper ...</td>\n",
       "      <td>5.937200</td>\n",
       "      <td>River</td>\n",
       "      <td>Open Defecation</td>\n",
       "      <td>Health</td>\n",
       "      <td>Female</td>\n",
       "      <td>Youth</td>\n",
       "      <td>...</td>\n",
       "      <td>clear</td>\n",
       "      <td>clear</td>\n",
       "      <td>chemical</td>\n",
       "      <td>no</td>\n",
       "      <td>farming</td>\n",
       "      <td>waste facilities</td>\n",
       "      <td>lush</td>\n",
       "      <td>managed sites</td>\n",
       "      <td>no</td>\n",
       "      <td>slow</td>\n",
       "    </tr>\n",
       "    <tr>\n",
       "      <th>1</th>\n",
       "      <td>e4774c0e-38ca-48bc-a62d-56ad7dc2ebf1</td>\n",
       "      <td>Ethiopia</td>\n",
       "      <td>Cup movie than fund artist.</td>\n",
       "      <td>The latest sanitation review indicated that im...</td>\n",
       "      <td>34.615215</td>\n",
       "      <td>Borehole</td>\n",
       "      <td>Composting Toilet</td>\n",
       "      <td>Public Infrastructure</td>\n",
       "      <td>Male</td>\n",
       "      <td>Youth</td>\n",
       "      <td>...</td>\n",
       "      <td>murky</td>\n",
       "      <td>turbid</td>\n",
       "      <td>sewage</td>\n",
       "      <td>yes</td>\n",
       "      <td>farming</td>\n",
       "      <td>waste facilities</td>\n",
       "      <td>sparse</td>\n",
       "      <td>none</td>\n",
       "      <td>yes</td>\n",
       "      <td>stagnant</td>\n",
       "    </tr>\n",
       "    <tr>\n",
       "      <th>2</th>\n",
       "      <td>ed103eee-2e27-4be4-b6fe-59e1b095a507</td>\n",
       "      <td>Nepal</td>\n",
       "      <td>Note Congress day million everybody environmen...</td>\n",
       "      <td>According to recent field observations, waste ...</td>\n",
       "      <td>-68.387244</td>\n",
       "      <td>Truck Delivery</td>\n",
       "      <td>Pit Latrine</td>\n",
       "      <td>Health</td>\n",
       "      <td>Female</td>\n",
       "      <td>Adult</td>\n",
       "      <td>...</td>\n",
       "      <td>green</td>\n",
       "      <td>clear</td>\n",
       "      <td>sewage</td>\n",
       "      <td>no</td>\n",
       "      <td>mining</td>\n",
       "      <td>waste facilities</td>\n",
       "      <td>dead</td>\n",
       "      <td>managed sites</td>\n",
       "      <td>yes</td>\n",
       "      <td>flowing</td>\n",
       "    </tr>\n",
       "    <tr>\n",
       "      <th>3</th>\n",
       "      <td>4d8e529d-08cd-428b-b4a8-e4c4cbadeb33</td>\n",
       "      <td>India</td>\n",
       "      <td>Summer today southern.</td>\n",
       "      <td>The latest sanitation review indicated that ef...</td>\n",
       "      <td>-71.814776</td>\n",
       "      <td>Rainwater</td>\n",
       "      <td>Composting Toilet</td>\n",
       "      <td>Education</td>\n",
       "      <td>Male</td>\n",
       "      <td>Elderly</td>\n",
       "      <td>...</td>\n",
       "      <td>brown</td>\n",
       "      <td>turbid</td>\n",
       "      <td>sewage</td>\n",
       "      <td>no</td>\n",
       "      <td>mining</td>\n",
       "      <td>sewage lines</td>\n",
       "      <td>dead</td>\n",
       "      <td>managed sites</td>\n",
       "      <td>yes</td>\n",
       "      <td>slow</td>\n",
       "    </tr>\n",
       "    <tr>\n",
       "      <th>4</th>\n",
       "      <td>8396148f-36a8-4ee9-af7f-653b8d06aa9c</td>\n",
       "      <td>Kenya</td>\n",
       "      <td>Region sea nation fast shake born.</td>\n",
       "      <td>A comprehensive report issued by the agency no...</td>\n",
       "      <td>-10.132914</td>\n",
       "      <td>Borehole</td>\n",
       "      <td>Composting Toilet</td>\n",
       "      <td>Public Infrastructure</td>\n",
       "      <td>Female</td>\n",
       "      <td>Youth</td>\n",
       "      <td>...</td>\n",
       "      <td>murky</td>\n",
       "      <td>cloudy</td>\n",
       "      <td>none</td>\n",
       "      <td>no</td>\n",
       "      <td>none</td>\n",
       "      <td>waste facilities</td>\n",
       "      <td>lush</td>\n",
       "      <td>open dumping</td>\n",
       "      <td>no</td>\n",
       "      <td>stagnant</td>\n",
       "    </tr>\n",
       "  </tbody>\n",
       "</table>\n",
       "<p>5 rows × 29 columns</p>\n",
       "</div>"
      ],
      "text/plain": [
       "                               entry_id   country  \\\n",
       "0  81a69ab1-6070-4643-ab31-062dabbe355d     Haiti   \n",
       "1  e4774c0e-38ca-48bc-a62d-56ad7dc2ebf1  Ethiopia   \n",
       "2  ed103eee-2e27-4be4-b6fe-59e1b095a507     Nepal   \n",
       "3  4d8e529d-08cd-428b-b4a8-e4c4cbadeb33     India   \n",
       "4  8396148f-36a8-4ee9-af7f-653b8d06aa9c     Kenya   \n",
       "\n",
       "                                        source_title  \\\n",
       "0                      Skill may certainly off sing.   \n",
       "1                        Cup movie than fund artist.   \n",
       "2  Note Congress day million everybody environmen...   \n",
       "3                             Summer today southern.   \n",
       "4                 Region sea nation fast shake born.   \n",
       "\n",
       "                                             excerpt  geo_location  \\\n",
       "0  Health inspectors on site found that improper ...      5.937200   \n",
       "1  The latest sanitation review indicated that im...     34.615215   \n",
       "2  According to recent field observations, waste ...    -68.387244   \n",
       "3  The latest sanitation review indicated that ef...    -71.814776   \n",
       "4  A comprehensive report issued by the agency no...    -10.132914   \n",
       "\n",
       "     water_source    sanitation_type                 sector  gender age_group  \\\n",
       "0           River    Open Defecation                 Health  Female     Youth   \n",
       "1        Borehole  Composting Toilet  Public Infrastructure    Male     Youth   \n",
       "2  Truck Delivery        Pit Latrine                 Health  Female     Adult   \n",
       "3       Rainwater  Composting Toilet              Education    Male   Elderly   \n",
       "4        Borehole  Composting Toilet  Public Infrastructure  Female     Youth   \n",
       "\n",
       "   ... water_color water_clarity water_odor recent_rain  nearby_activities  \\\n",
       "0  ...       clear         clear   chemical          no            farming   \n",
       "1  ...       murky        turbid     sewage         yes            farming   \n",
       "2  ...       green         clear     sewage          no             mining   \n",
       "3  ...       brown        turbid     sewage          no             mining   \n",
       "4  ...       murky        cloudy       none          no               none   \n",
       "\n",
       "  nearby_infrastructure vegetation_near_source waste_disposal_nearby  \\\n",
       "0      waste facilities                   lush         managed sites   \n",
       "1      waste facilities                 sparse                  none   \n",
       "2      waste facilities                   dead         managed sites   \n",
       "3          sewage lines                   dead         managed sites   \n",
       "4      waste facilities                   lush          open dumping   \n",
       "\n",
       "  animal_access water_flow_rate  \n",
       "0            no            slow  \n",
       "1           yes        stagnant  \n",
       "2           yes         flowing  \n",
       "3           yes            slow  \n",
       "4            no        stagnant  \n",
       "\n",
       "[5 rows x 29 columns]"
      ]
     },
     "execution_count": 13,
     "metadata": {},
     "output_type": "execute_result"
    }
   ],
   "source": [
    "# Load necessary libraries\n",
    "import pandas as pd\n",
    "import numpy as np\n",
    "import matplotlib.pyplot as plt\n",
    "import seaborn as sns\n",
    "import warnings\n",
    "warnings.filterwarnings('ignore')\n",
    "\n",
    "# Load the dataset\n",
    "df = pd.read_csv(r'C:\\Users\\USER\\Documents\\Flatiron\\Capstone Project\\CleanWatAI\\data\\raw\\water_sanitation.csv')\n",
    "df.head()"
   ]
  },
  {
   "cell_type": "markdown",
   "id": "aa24beab",
   "metadata": {},
   "source": [
    "##  Exploratory Data Analysis (EDA)\n",
    "\n",
    "In this section, we will explore the structure and quality of the dataset.  \n",
    "We aim to:\n",
    "- Understand the types of features (structured vs. unstructured)\n",
    "- Identify any missing or duplicate values\n",
    "- Examine the distribution of the target variable\n",
    "- Begin understanding patterns in the text\n",
    "\n",
    "> EDA helps us spot problems early and form hypotheses for modeling.\n"
   ]
  },
  {
   "cell_type": "code",
   "execution_count": 14,
   "id": "ed24c7cc",
   "metadata": {},
   "outputs": [
    {
     "name": "stdout",
     "output_type": "stream",
     "text": [
      "Index(['entry_id', 'country', 'source_title', 'excerpt', 'geo_location',\n",
      "       'water_source', 'sanitation_type', 'sector', 'gender', 'age_group',\n",
      "       'income_level', 'infrastructure_type', 'population_density',\n",
      "       'climate_zone', 'year', 'organization', 'source_type',\n",
      "       'special_needs_group', 'severity', 'water_color', 'water_clarity',\n",
      "       'water_odor', 'recent_rain', 'nearby_activities',\n",
      "       'nearby_infrastructure', 'vegetation_near_source',\n",
      "       'waste_disposal_nearby', 'animal_access', 'water_flow_rate'],\n",
      "      dtype='object')\n"
     ]
    }
   ],
   "source": [
    "print(df.columns)"
   ]
  },
  {
   "cell_type": "code",
   "execution_count": 15,
   "id": "11a1a5e4",
   "metadata": {},
   "outputs": [
    {
     "name": "stdout",
     "output_type": "stream",
     "text": [
      "<class 'pandas.core.frame.DataFrame'>\n",
      "RangeIndex: 4157 entries, 0 to 4156\n",
      "Data columns (total 29 columns):\n",
      " #   Column                  Non-Null Count  Dtype  \n",
      "---  ------                  --------------  -----  \n",
      " 0   entry_id                4157 non-null   object \n",
      " 1   country                 4157 non-null   object \n",
      " 2   source_title            4157 non-null   object \n",
      " 3   excerpt                 4157 non-null   object \n",
      " 4   geo_location            4157 non-null   float64\n",
      " 5   water_source            4157 non-null   object \n",
      " 6   sanitation_type         4157 non-null   object \n",
      " 7   sector                  4157 non-null   object \n",
      " 8   gender                  4157 non-null   object \n",
      " 9   age_group               4157 non-null   object \n",
      " 10  income_level            4157 non-null   object \n",
      " 11  infrastructure_type     4157 non-null   object \n",
      " 12  population_density      4157 non-null   object \n",
      " 13  climate_zone            4157 non-null   object \n",
      " 14  year                    4157 non-null   int64  \n",
      " 15  organization            4157 non-null   object \n",
      " 16  source_type             4157 non-null   object \n",
      " 17  special_needs_group     3378 non-null   object \n",
      " 18  severity                4157 non-null   object \n",
      " 19  water_color             4157 non-null   object \n",
      " 20  water_clarity           4157 non-null   object \n",
      " 21  water_odor              4157 non-null   object \n",
      " 22  recent_rain             4157 non-null   object \n",
      " 23  nearby_activities       4157 non-null   object \n",
      " 24  nearby_infrastructure   4157 non-null   object \n",
      " 25  vegetation_near_source  4157 non-null   object \n",
      " 26  waste_disposal_nearby   4157 non-null   object \n",
      " 27  animal_access           4157 non-null   object \n",
      " 28  water_flow_rate         4157 non-null   object \n",
      "dtypes: float64(1), int64(1), object(27)\n",
      "memory usage: 941.9+ KB\n"
     ]
    }
   ],
   "source": [
    "# dataset overview\n",
    "df.info()"
   ]
  },
  {
   "cell_type": "code",
   "execution_count": 16,
   "id": "4700a150",
   "metadata": {},
   "outputs": [
    {
     "data": {
      "text/plain": [
       "special_needs_group    779\n",
       "dtype: int64"
      ]
     },
     "execution_count": 16,
     "metadata": {},
     "output_type": "execute_result"
    }
   ],
   "source": [
    "# Missing value analysis\n",
    "missing = df.isnull().sum().sort_values(ascending=False)\n",
    "missing[missing > 0]"
   ]
  },
  {
   "cell_type": "code",
   "execution_count": 17,
   "id": "0061049c",
   "metadata": {},
   "outputs": [
    {
     "data": {
      "text/plain": [
       "1157"
      ]
     },
     "execution_count": 17,
     "metadata": {},
     "output_type": "execute_result"
    }
   ],
   "source": [
    "# Checking for duplicates\n",
    "df.duplicated().sum()"
   ]
  },
  {
   "cell_type": "code",
   "execution_count": 18,
   "id": "0e14ff2a",
   "metadata": {},
   "outputs": [
    {
     "data": {
      "text/plain": [
       "10    Field workers have documented that access to p...\n",
       "11    Water availability remains a key concern where...\n",
       "12    Field workers have documented that waste manag...\n",
       "13    A comprehensive report issued by the agency no...\n",
       "14    A comprehensive report issued by the agency no...\n",
       "15    A comprehensive report issued by the agency no...\n",
       "16    Field workers have documented that access to p...\n",
       "17    According to joint analysis from stakeholders,...\n",
       "18    In the most affected zones, chlorination units...\n",
       "19    A comprehensive report issued by the agency no...\n",
       "Name: excerpt, dtype: object"
      ]
     },
     "execution_count": 18,
     "metadata": {},
     "output_type": "execute_result"
    }
   ],
   "source": [
    "df['excerpt'][10:20]"
   ]
  },
  {
   "cell_type": "code",
   "execution_count": 19,
   "id": "d2ca0157",
   "metadata": {},
   "outputs": [
    {
     "data": {
      "image/png": "[encoded data removed]",
      "text/plain": [
       "<Figure size 600x400 with 1 Axes>"
      ]
     },
     "metadata": {},
     "output_type": "display_data"
    }
   ],
   "source": [
    "# Visualize target variable distribution\n",
    "plt.figure(figsize=(6, 4))\n",
    "sns.countplot(x='severity', data=df)\n",
    "plt.title(\"Distribution of Target Classes\")\n",
    "plt.xlabel(\"Class Label\")\n",
    "plt.ylabel(\"Count\")\n",
    "plt.show()\n"
   ]
  },
  {
   "cell_type": "code",
   "execution_count": 20,
   "id": "a48dbcde",
   "metadata": {},
   "outputs": [
    {
     "data": {
      "text/plain": [
       "<Figure size 600x400 with 0 Axes>"
      ]
     },
     "metadata": {},
     "output_type": "display_data"
    },
    {
     "data": {
      "image/png": "[encoded data removed]",
      "text/plain": [
       "<Figure size 800x500 with 1 Axes>"
      ]
     },
     "metadata": {},
     "output_type": "display_data"
    }
   ],
   "source": [
    "# Visualize target variable distribution\n",
    "plt.figure(figsize=(6, 4))\n",
    "plt.figure(figsize=(8, 5))\n",
    "sns.countplot(x='severity', hue='gender', data=df, palette='Set2')\n",
    "plt.title(\"Severity by Gender\")\n",
    "plt.xlabel(\"Severity\")\n",
    "plt.ylabel(\"Count\")\n",
    "plt.legend(title=\"Gender\")\n",
    "plt.show()"
   ]
  },
  {
   "cell_type": "markdown",
   "id": "daa64f85",
   "metadata": {},
   "source": [
    "##  Data Cleaning\n",
    "\n",
    "In this section, we will perform essential cleaning tasks to ensure data quality and consistency.  \n",
    "This includes:\n",
    "- Dropping duplicates\n",
    "- Handling missing values\n",
    "- Normalizing inconsistent entries\n",
    "- Filtering irrelevant rows if applicable\n"
   ]
  },
  {
   "cell_type": "code",
   "execution_count": 21,
   "id": "e0865503",
   "metadata": {},
   "outputs": [
    {
     "name": "stdout",
     "output_type": "stream",
     "text": [
      "special_needs_group : 779\n"
     ]
    }
   ],
   "source": [
    "# Viewing missing values and null values\n",
    "for col in  df.columns:\n",
    "    if df[col].isna().sum() > 0:\n",
    "        print(f'{col} : {df[col].isna().sum()}')"
   ]
  },
  {
   "cell_type": "code",
   "execution_count": 22,
   "id": "558dafad",
   "metadata": {},
   "outputs": [
    {
     "data": {
      "text/plain": [
       "special_needs_group\n",
       "Children Under 5    891\n",
       "Elderly             834\n",
       "Disabled            831\n",
       "Pregnant Women      822\n",
       "none                779\n",
       "Name: count, dtype: int64"
      ]
     },
     "execution_count": 22,
     "metadata": {},
     "output_type": "execute_result"
    }
   ],
   "source": [
    "# Replacing actual NaN values\n",
    "df['special_needs_group'] = df['special_needs_group'].fillna('none')\n",
    "\n",
    "# Also replacing string \"None\" values if they exist\n",
    "df['special_needs_group'] = df['special_needs_group'].replace('None', 'none')\n",
    "df['special_needs_group'].value_counts()"
   ]
  },
  {
   "cell_type": "code",
   "execution_count": 23,
   "id": "b721940d",
   "metadata": {},
   "outputs": [
    {
     "name": "stdout",
     "output_type": "stream",
     "text": [
      "Dropped 1157 duplicate rows.\n",
      "Duplicated entries : 0\n"
     ]
    }
   ],
   "source": [
    "# Dropping duplicate rows\n",
    "initial_shape = df.shape\n",
    "df = df.drop_duplicates()\n",
    "print(f\"Dropped {initial_shape[0] - df.shape[0]} duplicate rows.\")\n",
    "print(f'Duplicated entries : {df.duplicated().sum()}')"
   ]
  },
  {
   "cell_type": "markdown",
   "id": "8d525f69",
   "metadata": {},
   "source": [
    "**Enriching Location Data**\n",
    "\n",
    "To support rich geographical analysis and live visualizations, we will enhance our `geo_location` and `country` columns.\n",
    "\n",
    "We aim to:\n",
    "- Convert `geo_location` (text) into **latitude & longitude**\n",
    "- Break down `country` into **county, constituency, area, and location** \n",
    "- Enable mapping tools like **Plotly**, **Folium**, or **Tableau** to interact with enriched data"
   ]
  },
  {
   "cell_type": "code",
   "execution_count": 24,
   "id": "6d7a80a6",
   "metadata": {},
   "outputs": [
    {
     "ename": "ModuleNotFoundError",
     "evalue": "No module named 'geopy'",
     "output_type": "error",
     "traceback": [
      "\u001b[1;31m---------------------------------------------------------------------------\u001b[0m",
      "\u001b[1;31mModuleNotFoundError\u001b[0m                       Traceback (most recent call last)",
      "Cell \u001b[1;32mIn[24], line 1\u001b[0m\n\u001b[1;32m----> 1\u001b[0m \u001b[38;5;28;01mfrom\u001b[39;00m\u001b[38;5;250m \u001b[39m\u001b[38;5;21;01mgeopy\u001b[39;00m\u001b[38;5;21;01m.\u001b[39;00m\u001b[38;5;21;01mgeocoders\u001b[39;00m\u001b[38;5;250m \u001b[39m\u001b[38;5;28;01mimport\u001b[39;00m Nominatim\n\u001b[0;32m      2\u001b[0m \u001b[38;5;28;01mimport\u001b[39;00m\u001b[38;5;250m \u001b[39m\u001b[38;5;21;01mtime\u001b[39;00m\n\u001b[0;32m      3\u001b[0m \u001b[38;5;28;01mimport\u001b[39;00m\u001b[38;5;250m \u001b[39m\u001b[38;5;21;01mpycountry\u001b[39;00m\n",
      "\u001b[1;31mModuleNotFoundError\u001b[0m: No module named 'geopy'"
     ]
    }
   ],
   "source": [
    "from geopy.geocoders import Nominatim\n",
    "import time\n",
    "import pycountry\n",
    "\n",
    "# Initialize geolocator\n",
    "geolocator = Nominatim(user_agent=\"cleanwatAI_geolocator\")\n",
    "\n",
    "# Standardize country names using pycountry\n",
    "def standardize_country(name):\n",
    "    try:\n",
    "        return pycountry.countries.lookup(name).name\n",
    "    except:\n",
    "        return name\n",
    "\n",
    "# Get lat/lon using geopy\n",
    "def get_lat_lon(country_name):\n",
    "    try:\n",
    "        location = geolocator.geocode(country_name)\n",
    "        if location:\n",
    "            return pd.Series([location.latitude, location.longitude])\n",
    "        else:\n",
    "            return pd.Series([None, None])\n",
    "    except:\n",
    "        return pd.Series([None, None])\n",
    "\n",
    "df['country_standardized'] = df['country'].apply(standardize_country)\n",
    "country_coords = df['country_standardized'].dropna().unique()\n",
    "coord_map = {}\n",
    "\n",
    "for country in country_coords:\n",
    "    lat_lon = get_lat_lon(country)\n",
    "    coord_map[country] = lat_lon\n",
    "    time.sleep(1)\n",
    "\n",
    "# Map coordinates back to DataFrame\n",
    "df[['latitude', 'longitude']] = df['country_standardized'].map(coord_map).apply(pd.Series)\n"
   ]
  },
  {
   "cell_type": "code",
   "execution_count": null,
   "id": "c4dd1d98",
   "metadata": {},
   "outputs": [],
   "source": [
    "import geopandas as gpd\n",
    "\n",
    "url = \"https://naciscdn.org/naturalearth/110m/cultural/ne_110m_admin_0_countries.zip\"\n",
    "world = gpd.read_file(url)"
   ]
  },
  {
   "cell_type": "code",
   "execution_count": null,
   "id": "53c560ee",
   "metadata": {},
   "outputs": [],
   "source": [
    "from shapely.geometry import Point\n",
    "\n",
    "# Drop rows with missing coordinates\n",
    "df_clean = df.dropna(subset=['latitude', 'longitude'])\n",
    "\n",
    "# Create geometry column\n",
    "df_clean['geometry'] = df_clean.apply(lambda r: Point(float(r['longitude']), float(r['latitude'])), axis=1)\n",
    "\n",
    "# Convert to GeoDataFrame\n",
    "gdf = gpd.GeoDataFrame(df_clean, geometry='geometry', crs=\"EPSG:4326\")"
   ]
  },
  {
   "cell_type": "code",
   "execution_count": null,
   "id": "04f2522f",
   "metadata": {},
   "outputs": [],
   "source": [
    "gdf = gpd.sjoin(gdf, world[['geometry', 'NAME', 'CONTINENT']], how='left', predicate='within')\n",
    "df['country'] = gdf['NAME']\n",
    "df['continent'] = gdf['CONTINENT']"
   ]
  },
  {
   "cell_type": "code",
   "execution_count": null,
   "id": "5484cf14",
   "metadata": {},
   "outputs": [],
   "source": [
    "admin1_path = r\"C:\\Users\\USER\\Documents\\Flatiron\\Capstone Project\\CleanWatAI\\reports\\Admin\\ne_10m_admin_1_states_provinces.shp\"\n",
    "admin1 = gpd.read_file(admin1_path)\n",
    "\n",
    "if 'index_right' in gdf.columns:\n",
    "    gdf = gdf.drop(columns=['index_right'])\n",
    "\n",
    "if 'index_right' in admin1.columns:\n",
    "    admin1 = admin1.drop(columns=['index_right'])\n",
    "\n",
    "gdf = gpd.sjoin(gdf, admin1[['name', 'iso_a2', 'geometry']], how='left', predicate='within')\n",
    "\n",
    "# 2. Rename columns FIRST\n",
    "gdf = gdf.rename(columns={'name': 'admin_region', 'iso_a2': 'country_code'})\n",
    "\n",
    "# 3. Assign to your original DataFrame\n",
    "df['admin_region'] = gdf['admin_region']\n",
    "df['country_code'] = gdf['country_code']"
   ]
  },
  {
   "cell_type": "code",
   "execution_count": null,
   "id": "fc32b2ff",
   "metadata": {},
   "outputs": [],
   "source": [
    "# Define colors for each severity level\n",
    "severity_colors = {\n",
    "    'Unsafe': 'red',\n",
    "    'Moderate': 'orange',\n",
    "    'safe': 'green'\n",
    "}\n"
   ]
  },
  {
   "cell_type": "code",
   "execution_count": null,
   "id": "38250660",
   "metadata": {},
   "outputs": [],
   "source": [
    "import folium\n",
    "from folium.plugins import MarkerCluster\n",
    "\n",
    "# marker color based on severity\n",
    "def get_marker_color(severity):\n",
    "    if severity == 'Safe':\n",
    "        return 'green'\n",
    "    elif severity == 'Moderate':\n",
    "        return 'orange'\n",
    "    elif severity == 'Unsafe':\n",
    "        return 'red'\n",
    "    else:\n",
    "        return 'gray'\n",
    "\n",
    "# Base map centered on mean coordinates\n",
    "map_center = [df['latitude'].mean(), df['longitude'].mean()]\n",
    "m = folium.Map(location=map_center, zoom_start=3, tiles='cartodbpositron')\n",
    "\n",
    "# Add marker cluster to group nearby points\n",
    "marker_cluster = MarkerCluster().add_to(m)\n",
    "\n",
    "# Add markers with popups and color-coded severity\n",
    "for _, row in df.dropna(subset=['latitude', 'longitude', 'severity']).iterrows():\n",
    "    color = get_marker_color(row['severity'])\n",
    "\n",
    "    # Prepare popup HTML\n",
    "    popup_html = f\"\"\"\n",
    "    <b>Country:</b> {row['country']}<br>\n",
    "    <b>Region:</b> {row['admin_region']}<br>\n",
    "    <b>Water Source:</b> {row['water_source']}<br>\n",
    "    <b>Severity:</b> {row['severity']}<br>\n",
    "    <b>Title:</b> {row['source_title']}\n",
    "    \"\"\"\n",
    "\n",
    "    # Add CircleMarker to cluster\n",
    "    folium.CircleMarker(\n",
    "        location=[row['latitude'], row['longitude']],\n",
    "        radius=6,\n",
    "        color=color,\n",
    "        fill=True,\n",
    "        fill_color=color,\n",
    "        fill_opacity=0.7,\n",
    "        popup=folium.Popup(popup_html, max_width=250)\n",
    "    ).add_to(marker_cluster)\n",
    "\n",
    "# visualizethe map\n",
    "m\n"
   ]
  },
  {
   "cell_type": "code",
   "execution_count": null,
   "id": "264256bb",
   "metadata": {},
   "outputs": [],
   "source": [
    "severity_map = {\n",
    "    'Safe': 0,\n",
    "    'Moderate': 1,\n",
    "    'Unsafe': 2\n",
    "}\n",
    "\n",
    "# Create a numeric severity column\n",
    "df['severity_score'] = df['severity'].map(severity_map)\n",
    "\n",
    "# Now you can group and plot the mean severity\n",
    "fig, ax = plt.subplots(figsize=(10, 5))\n",
    "df.groupby('year')['severity_score'].mean().plot(ax=ax, color='teal', marker='o')\n",
    "\n",
    "ax.set_title('Average Water Contamination Severity Over Time', weight='bold')\n",
    "ax.set_xlabel('Year')\n",
    "ax.set_ylabel('Severity Score (0=Safe, 2=Unsafe)')\n",
    "plt.grid(True)\n",
    "plt.tight_layout()\n",
    "plt.show()"
   ]
  },
  {
   "cell_type": "code",
   "execution_count": null,
   "id": "4ff7b2c7",
   "metadata": {},
   "outputs": [],
   "source": [
    "fig, ax = plt.subplots(figsize=(10, 5))\n",
    "\n",
    "sns.lineplot(data=df.groupby(['year', 'age_group']).size().reset_index(name='count'),\n",
    "             x='year', y='count', hue='age_group', palette='rainbow', ax=ax)\n",
    "\n",
    "ax.set_title('Age Group Distribution Over the Years', weight='bold')\n",
    "ax.grid(axis='y')\n",
    "ax.spines[['top', 'right', 'left']].set_visible(False)\n",
    "ax.tick_params(axis='x', rotation=45)\n",
    "\n",
    "plt.tight_layout()\n",
    "plt.show()"
   ]
  },
  {
   "cell_type": "code",
   "execution_count": null,
   "id": "0a25e147",
   "metadata": {},
   "outputs": [],
   "source": [
    "# Drop missing or invalid data\n",
    "df_clean = df.dropna(subset=['country', 'year'])\n",
    "df_clean['year'] = df_clean['year'].astype(str)\n",
    "\n",
    "# Count reports per (country, year)\n",
    "heatmap_data = df_clean.groupby(['country', 'year']).size().unstack(fill_value=0)\n",
    "\n",
    "top_countries = heatmap_data.sum(axis=1).sort_values(ascending=False).head(20).index\n",
    "heatmap_top = heatmap_data.loc[top_countries]\n",
    "\n",
    "plt.figure(figsize=(14, 8))\n",
    "sns.heatmap(heatmap_top, cmap=\"YlOrBr\", annot=True, fmt='d', linewidths=.5, cbar_kws={'label': 'Number of Reports'})\n",
    "    \n",
    "plt.title(\"Water-Related Reports by Country and Year\", fontsize=16)\n",
    "plt.xlabel(\"Year\", fontsize=12)\n",
    "plt.ylabel(\"Country\", fontsize=12)\n",
    "plt.xticks(rotation=45)\n",
    "plt.tight_layout()\n",
    "plt.show()\n"
   ]
  },
  {
   "cell_type": "code",
   "execution_count": null,
   "id": "d5e53de1",
   "metadata": {},
   "outputs": [],
   "source": [
    "severity_map = {\n",
    "    'Safe': 1,\n",
    "    'Moderate': 2,\n",
    "    'Unsafe': 3\n",
    "}\n",
    "df_clean['severity_score'] = df_clean['severity'].map(severity_map)\n",
    "severity_heatmap = df_clean.groupby(['country', 'year'])['severity_score'].mean().unstack()\n",
    "top_countries = df_clean['country'].value_counts().head(15).index\n",
    "severity_heatmap_top = severity_heatmap.loc[top_countries]\n"
   ]
  },
  {
   "cell_type": "code",
   "execution_count": null,
   "id": "9aa92f0b",
   "metadata": {},
   "outputs": [],
   "source": [
    "from matplotlib.colors import LinearSegmentedColormap\n",
    "\n",
    "# Custom colormap: green (safe) → orange (moderate) → red (unsafe)\n",
    "cmap = LinearSegmentedColormap.from_list(\"severity\", ['green', 'orange', 'red'])\n",
    "\n",
    "plt.figure(figsize=(14, 8))\n",
    "sns.heatmap(\n",
    "    severity_heatmap_top,\n",
    "    cmap=cmap,\n",
    "    annot=True,\n",
    "    fmt='.1f',\n",
    "    linewidths=.5,\n",
    "    cbar_kws={'label': 'Average Severity (1=Safe, 3=Unsafe)'}\n",
    ")\n",
    "\n",
    "plt.title(\"Average Severity of Water-Related Reports by Country and Year\", fontsize=16)\n",
    "plt.xlabel(\"Year\", fontsize=12)\n",
    "plt.ylabel(\"Country\", fontsize=12)\n",
    "plt.xticks(rotation=45)\n",
    "plt.tight_layout()\n",
    "plt.show()\n"
   ]
  },
  {
   "cell_type": "markdown",
   "id": "95a33d06",
   "metadata": {},
   "source": [
    "#### **Heatmap Visualizations Summary**\n",
    "\n",
    "#### Water-Related Reports by Country and Year\n",
    "This heatmap shows the **number of water-related reports** recorded across countries from **2015 to 2025**.\n",
    "\n",
    "- **Darker shades** indicate **more reports**.\n",
    "- Countries like **Nepal**, **Nigeria**, and **Ethiopia** show high reporting activity.\n",
    "- Highlights trends in reporting, possibly due to increased awareness or worsening conditions in certain years.\n",
    "\n",
    "#### Average Severity of Reports by Country and Year\n",
    "This heatmap presents the **average severity score** (on a scale of **1 = Safe** to **3 = Unsafe**) for water-related reports.\n",
    "\n",
    "- **Green** indicates **lower average severity** (safer), while **red** indicates **higher severity** (more unsafe).\n",
    "- Most averages are between **2.6 and 3**, suggesting generally **moderate to high severity** levels.\n",
    "- A few **green cells** (e.g., Uganda 2016, Ethiopia 2016) reflect **less severe years**, but these are rare.\n",
    "\n",
    "These visualizations provide insight into both the **volume** and **intensity** of water-related issues over time and geography.\n"
   ]
  },
  {
   "cell_type": "code",
   "execution_count": null,
   "id": "022fe18f",
   "metadata": {},
   "outputs": [],
   "source": [
    "# Select categorical water quality features\n",
    "features_to_plot = [\n",
    "    'water_color', 'water_clarity', 'water_odor', 'recent_rain',\n",
    "    'nearby_activities', 'nearby_infrastructure', 'vegetation_near_source',\n",
    "    'waste_disposal_nearby', 'animal_access', 'water_flow_rate'\n",
    "]\n",
    "\n",
    "# Set up subplot grid\n",
    "fig, axes = plt.subplots(nrows=5, ncols=2, figsize=(15, 18))\n",
    "axes = axes.flatten()\n",
    "\n",
    "# Plot count plots for each feature colored by severity\n",
    "for i, feature in enumerate(features_to_plot):\n",
    "    # Group by feature and severity, count occurrences\n",
    "    df_grouped = df.groupby([feature, 'severity']).size().unstack(fill_value=0)\n",
    "\n",
    "    # Plot stacked bar chart\n",
    "    df_grouped.plot(kind='bar', stacked=True, ax=axes[i], colormap='Set1')\n",
    "    axes[i].set_title(f'{feature.replace(\"_\", \" \").title()} vs Severity')\n",
    "    axes[i].set_xlabel(feature.replace(\"_\", \" \").title())\n",
    "    axes[i].set_ylabel(\"Count\")\n",
    "    axes[i].legend(title='Severity')\n",
    "\n",
    "# Adjust layout\n",
    "plt.tight_layout()\n"
   ]
  },
  {
   "cell_type": "code",
   "execution_count": null,
   "id": "b12a586c",
   "metadata": {},
   "outputs": [],
   "source": [
    "source_df = pd.crosstab(df['organization'], df['source_type'])\n",
    "source_df"
   ]
  },
  {
   "cell_type": "code",
   "execution_count": null,
   "id": "fc8c7441",
   "metadata": {},
   "outputs": [],
   "source": [
    "fig, ax = plt.subplots(figsize=(12, 6))\n",
    "source_df.plot.bar(stacked=False, ax=ax, colormap='tab20')\n",
    "\n",
    "ax.set_title('Organizations Source', weight='bold')\n",
    "ax.set_xlabel('Name')\n",
    "ax.set_ylabel('Count')\n",
    "ax.tick_params(axis='x', rotation=45)\n",
    "ax.grid(axis='y', linestyle='--', alpha=0.5)\n",
    "\n",
    "# Hide spines\n",
    "for spine in ['top', 'right', 'left']:\n",
    "    ax.spines[spine].set_visible(False)\n",
    "\n",
    "plt.tight_layout()\n",
    "plt.show()"
   ]
  },
  {
   "cell_type": "markdown",
   "id": "e810b25b",
   "metadata": {},
   "source": [
    "##  Text Preprocessing (Excerpt Column)\n",
    "\n",
    "To prepare our text data for modeling, we must standardize and clean the raw text in the `excerpt` column.  \n",
    "\n",
    "We will:\n",
    "- Convert all text to lowercase\n",
    "- Remove punctuation, digits, and extra whitespace\n",
    "- Remove stopwords (like \"the\", \"is\", \"and\")\n",
    "- Tokenize the text (split into words)\n",
    "- Apply lemmatization to reduce words to base form\n",
    "\n"
   ]
  },
  {
   "cell_type": "code",
   "execution_count": null,
   "id": "4c6972dc",
   "metadata": {},
   "outputs": [],
   "source": [
    "import re\n",
    "import string\n",
    "import nltk\n",
    "nltk.download('stopwords')\n",
    "nltk.download('punkt')\n",
    "nltk.download('wordnet')\n",
    "nltk.download('omw-1.4')\n",
    "from nltk.corpus import stopwords\n",
    "from nltk.tokenize import word_tokenize\n",
    "from nltk.stem import WordNetLemmatizer\n",
    "\n",
    "stop_words = set(stopwords.words('english'))\n",
    "lemmatizer = WordNetLemmatizer()"
   ]
  },
  {
   "cell_type": "code",
   "execution_count": null,
   "id": "ebf26f77",
   "metadata": {},
   "outputs": [],
   "source": [
    "# Define Text Cleaning Function\n",
    "def clean_text(text):\n",
    "    text = text.lower()\n",
    "    text = re.sub(f\"[{re.escape(string.punctuation)}]\", \"\", text)\n",
    "    text = re.sub(r\"\\d+\", \"\", text)\n",
    "    \n",
    "    # Tokenize\n",
    "    words = text.split()\n",
    "    words = [word for word in words if word not in stop_words]\n",
    "    words = [lemmatizer.lemmatize(word) for word in words]\n",
    "\n",
    "    return \" \".join(words)\n",
    "   \n"
   ]
  },
  {
   "cell_type": "code",
   "execution_count": null,
   "id": "769a2d3a",
   "metadata": {},
   "outputs": [],
   "source": [
    "# Apply to the excerpt column\n",
    "df['clean_excerpt'] = df['excerpt'].astype(str).apply(clean_text)\n",
    "df[['excerpt', 'clean_excerpt']].head()\n"
   ]
  },
  {
   "cell_type": "markdown",
   "id": "e62bea53",
   "metadata": {},
   "source": [
    "- Texts were lowercased, cleaned, tokenized, and lemmatized.\n",
    "- The processed text is stored in `clean_excerpt`.\n",
    "- This column will now be used for vectorization (TF-IDF, Bag-of-Words, etc.)."
   ]
  },
  {
   "cell_type": "markdown",
   "id": "74726cce",
   "metadata": {},
   "source": [
    "**Word Frequency Distribution**\n",
    "\n",
    "Before vectorizing the text, it's useful to understand which words appear most frequently.\n",
    "\n",
    "We will:\n",
    "- Tokenize all cleaned excerpts.\n",
    "- Count each word's occurrence.\n",
    "- Visualize the top 20 most frequent words.\n"
   ]
  },
  {
   "cell_type": "code",
   "execution_count": null,
   "id": "91b16607",
   "metadata": {},
   "outputs": [],
   "source": [
    "from collections import Counter\n",
    "\n",
    "# Combine all cleaned text into a single list of words\n",
    "all_words = ' '.join(df['clean_excerpt']).split()\n",
    "word_freq = Counter(all_words)\n",
    "common_words = word_freq.most_common(20)\n",
    "\n",
    "# Create DataFrame for plotting\n",
    "freq_df = pd.DataFrame(common_words, columns=['Word', 'Frequency'])\n",
    "\n",
    "# Plot\n",
    "plt.figure(figsize=(12,6))\n",
    "sns.barplot(x='Frequency', y='Word', data=freq_df, palette='rainbow', hue='Word', legend=True)\n",
    "plt.title('Top Most Frequent Words')\n",
    "plt.xlabel('Frequency')\n",
    "plt.ylabel('Word')\n",
    "plt.tight_layout()\n",
    "plt.show()"
   ]
  },
  {
   "cell_type": "code",
   "execution_count": null,
   "id": "606a5e74",
   "metadata": {},
   "outputs": [],
   "source": [
    "from wordcloud import WordCloud\n",
    "\n",
    "# Create word cloud\n",
    "wordcloud = WordCloud(width=800, height=400, background_color='white').generate(' '.join(all_words))\n",
    "\n",
    "# Plot\n",
    "plt.figure(figsize=(15, 7))\n",
    "plt.imshow(wordcloud, interpolation='bilinear')\n",
    "plt.axis('off')\n",
    "plt.title('Word Cloud of Cleaned Text')\n",
    "plt.show()"
   ]
  },
  {
   "cell_type": "code",
   "execution_count": null,
   "id": "bbc38c1f",
   "metadata": {},
   "outputs": [],
   "source": [
    "df['text_length'] = df['excerpt'].astype(str).apply(lambda x: len(x.split()))\n",
    "\n",
    "sns.histplot(df['text_length'], bins=20, kde=True, color='purple')\n",
    "plt.title('Word Count Distribution in Excerpts', weight='bold')\n",
    "plt.xlabel('Number of Words')\n",
    "plt.ylabel('Number of Reports')\n",
    "plt.tight_layout()\n",
    "plt.show()\n",
    "\n"
   ]
  },
  {
   "cell_type": "markdown",
   "id": "2d92258d",
   "metadata": {},
   "source": [
    "##  Feature Engineering\n",
    "\n",
    "In this step, we convert the cleaned text and any selected structured features into a machine-readable format.\n",
    "\n",
    "We will:\n",
    "- Use **TF-IDF** to vectorize the `clean_excerpt` column.\n",
    "- Select meaningful structured features for modeling.\n",
    "- Combine both feature sets into a single matrix `X` for training."
   ]
  },
  {
   "cell_type": "code",
   "execution_count": null,
   "id": "b0c17617",
   "metadata": {},
   "outputs": [],
   "source": [
    "from sklearn.feature_extraction.text import TfidfVectorizer\n",
    "\n",
    "# Initialize TF-IDF vectorizer\n",
    "tfidf = TfidfVectorizer(max_features=1000, ngram_range=(1,2))\n",
    "\n",
    "# Fit and transform the cleaned text\n",
    "X_text = tfidf.fit_transform(df['clean_excerpt'])\n",
    "\n",
    "# Convert to DataFrame for inspection\n",
    "X_text_df = pd.DataFrame(X_text.toarray(), columns=tfidf.get_feature_names_out())\n",
    "print(X_text_df.sum().sort_values(ascending=False).head())\n",
    "X_text_df.head()\n"
   ]
  },
  {
   "cell_type": "code",
   "execution_count": null,
   "id": "6ec29627",
   "metadata": {},
   "outputs": [],
   "source": [
    "# List of selected features for structured modeling\n",
    "selected_features = [\n",
    "    'country', 'water_source', 'sanitation_type', 'sector', 'gender', 'age_group',\n",
    "    'income_level', 'infrastructure_type', 'population_density', 'climate_zone', 'year',\n",
    "    'severity_score', 'recent_rain', 'water_color', 'water_clarity', 'water_odor',\n",
    "    'animal_access', 'waste_disposal_nearby', 'vegetation_near_source', 'water_flow_rate'\n",
    "]\n",
    "\n",
    "# Creating a new DataFrame with only selected features\n",
    "df_structured = df[selected_features].copy()\n",
    "\n",
    "# Preview the cleaned structured data\n",
    "df_structured.head()"
   ]
  },
  {
   "cell_type": "code",
   "execution_count": null,
   "id": "608a3c57",
   "metadata": {},
   "outputs": [],
   "source": [
    "numerical_cols = df_structured.select_dtypes(include=['int64', 'float64']).columns.tolist()\n",
    "categorical_cols = df_structured.select_dtypes(include=['object', 'category']).columns.tolist()\n",
    "\n",
    "print(\"Numerical Columns:\", numerical_cols)\n",
    "print(\"Categorical Columns:\", categorical_cols)"
   ]
  },
  {
   "cell_type": "code",
   "execution_count": null,
   "id": "2804e0e1",
   "metadata": {},
   "outputs": [],
   "source": [
    "# Checking for missing values in structured data\n",
    "missing_values = df_structured.isnull().sum().sort_values(ascending=False)\n",
    "missing_values[missing_values > 0]"
   ]
  },
  {
   "cell_type": "code",
   "execution_count": null,
   "id": "ce305572",
   "metadata": {},
   "outputs": [],
   "source": [
    "from sklearn.compose import ColumnTransformer\n",
    "from sklearn.preprocessing import OneHotEncoder, StandardScaler\n",
    "from sklearn.pipeline import Pipeline\n",
    "\n",
    "# Categorical features non-numeric\n",
    "categorical_cols = [\n",
    "    'country', 'water_source', 'sanitation_type', 'sector', 'gender',\n",
    "    'age_group', 'income_level', 'infrastructure_type', 'climate_zone',\n",
    "    'recent_rain', 'vegetation_near_source',\n",
    "    'waste_disposal_nearby', 'animal_access', 'water_color', 'water_clarity',\n",
    "    'water_odor', 'population_density', 'water_flow_rate'\n",
    "]\n",
    "\n",
    "# Numerical features\n",
    "numerical_cols = [\n",
    "    'severity_score',  'year'\n",
    "]\n",
    "\n",
    "# Preprocessor using ColumnTransformer\n",
    "preprocessor = ColumnTransformer(\n",
    "    transformers=[\n",
    "        ('num', StandardScaler(), numerical_cols),\n",
    "        ('cat', OneHotEncoder(handle_unknown='ignore', sparse_output=False), categorical_cols)\n",
    "    ]\n",
    ")\n",
    "\n",
    "# Fit and transform the structured data\n",
    "X_structured = preprocessor.fit_transform(df_structured)\n",
    "\n",
    "# View shape of final structured feature matrix\n",
    "print(\"Shape after encoding & scaling:\", X_structured.shape)\n"
   ]
  },
  {
   "cell_type": "code",
   "execution_count": null,
   "id": "d527a239",
   "metadata": {},
   "outputs": [],
   "source": [
    "# For visualization, get feature names\n",
    "encoded_feature_names = (\n",
    "    preprocessor.named_transformers_['cat']\n",
    "    .get_feature_names_out(categorical_cols)\n",
    ")\n",
    "all_feature_names = numerical_cols + list(encoded_feature_names)\n",
    "\n",
    "# Turn into a DataFrame\n",
    "df_structured_transformed = pd.DataFrame(X_structured, columns=all_feature_names)\n",
    "\n",
    "df_structured_transformed.head()"
   ]
  },
  {
   "cell_type": "markdown",
   "id": "ee937606",
   "metadata": {},
   "source": [
    "**Text + Structured Feature Integration**\n",
    "\n",
    "In this step, we combine both structured and unstructured features to build a more comprehensive predictive model. \n",
    "\n",
    "**Why Combine Both?**\n",
    "Structured data (like year, severity score, country, etc.) gives us quantifiable attributes of each record, while the text data (like the 'excerpt' or description) provides contextual insights that might not be captured numerically."
   ]
  },
  {
   "cell_type": "code",
   "execution_count": null,
   "id": "f40d9979",
   "metadata": {},
   "outputs": [],
   "source": [
    "from scipy.sparse import hstack, csr_matrix\n",
    "\n",
    "# Define structured features\n",
    "categorical_cols = [\n",
    "    'country', 'water_source', 'sanitation_type', 'sector', 'gender', 'age_group',\n",
    "    'income_level', 'infrastructure_type', 'population_density', 'climate_zone',\n",
    "    'recent_rain', 'water_color', 'water_clarity', 'water_odor', 'animal_access',\n",
    "    'waste_disposal_nearby', 'vegetation_near_source', 'water_flow_rate'\n",
    "]\n",
    "\n",
    "numerical_cols = ['year', 'severity_score']\n",
    "\n",
    "# Preprocess Categorical Data with OneHotEncoder\n",
    "ohe = OneHotEncoder(handle_unknown='ignore', sparse_output=True)\n",
    "X_categorical = ohe.fit_transform(df[categorical_cols])\n",
    "\n",
    "# Preprocess Numerical Data with StandardScaler\n",
    "scaler = StandardScaler()\n",
    "X_numerical = scaler.fit_transform(df[numerical_cols])\n",
    "X_numerical_sparse = csr_matrix(X_numerical)\n",
    "\n",
    "# TF-IDF Vectorization for Text Data\n",
    "tfidf = TfidfVectorizer(max_features=1000)\n",
    "X_text = tfidf.fit_transform(df['clean_excerpt'])\n",
    "\n",
    "# Combine All Features\n",
    "X_final = hstack([X_text, X_categorical, X_numerical_sparse])\n",
    "\n",
    "print(\"Final combined feature matrix shape:\", X_final.shape)\n"
   ]
  },
  {
   "cell_type": "markdown",
   "id": "b0b8c11b",
   "metadata": {},
   "source": [
    "**What We Did:**\n",
    "- We **vectorized the 'excerpt' column** using TF-IDF (Term Frequency-Inverse Document Frequency), which converts text into numerical features based on word importance.\n",
    "- We **concatenated** these TF-IDF features with the structured features (both numerical and one-hot encoded categorical variables) into a single dataset.\n",
    "- This integration allows the model to learn patterns from both the **content of the text** and the **demographics/context** of each water safety report.\n",
    "\n",
    "The final feature matrix now includes:\n",
    "- Encoded structured features (e.g., water source, sanitation type, country, etc.)\n",
    "- Scaled numerical columns (e.g., severity_score, year)\n",
    "- TF-IDF features from the text column (e.g., 'excerpt')\n",
    "\n",
    "We are now ready to train machine learning models on this combined dataset for improved prediction performance."
   ]
  },
  {
   "cell_type": "markdown",
   "id": "520d9dde",
   "metadata": {},
   "source": []
  }
 ],
 "metadata": {
  "kernelspec": {
   "display_name": "Python 3 (ipykernel)",
   "language": "python",
   "name": "python3"
  },
  "language_info": {
   "codemirror_mode": {
    "name": "ipython",
    "version": 3
   },
   "file_extension": ".py",
   "mimetype": "text/x-python",
   "name": "python",
   "nbconvert_exporter": "python",
   "pygments_lexer": "ipython3",
   "version": "3.11.7"
  }
 },
 "nbformat": 4,
 "nbformat_minor": 5
}
