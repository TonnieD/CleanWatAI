{
 "cells": [
  {
   "cell_type": "code",
   "execution_count": 1,
   "id": "3dc82fe8",
   "metadata": {
    "execution": {
     "iopub.execute_input": "2025-07-26T10:52:27.387364Z",
     "iopub.status.busy": "2025-07-26T10:52:27.386373Z",
     "iopub.status.idle": "2025-07-26T10:52:30.043748Z",
     "shell.execute_reply": "2025-07-26T10:52:30.043748Z"
    }
   },
   "outputs": [
    {
     "ename": "ModuleNotFoundError",
     "evalue": "No module named 'scripts'",
     "output_type": "error",
     "traceback": [
      "\u001b[0;31m---------------------------------------------------------------------------\u001b[0m",
      "\u001b[0;31mModuleNotFoundError\u001b[0m                       Traceback (most recent call last)",
      "Cell \u001b[0;32mIn[1], line 6\u001b[0m\n\u001b[1;32m      4\u001b[0m get_ipython()\u001b[38;5;241m.\u001b[39mrun_line_magic(\u001b[38;5;124m'\u001b[39m\u001b[38;5;124mload_ext\u001b[39m\u001b[38;5;124m'\u001b[39m, \u001b[38;5;124m'\u001b[39m\u001b[38;5;124mautoreload\u001b[39m\u001b[38;5;124m'\u001b[39m)\n\u001b[1;32m      5\u001b[0m get_ipython()\u001b[38;5;241m.\u001b[39mrun_line_magic(\u001b[38;5;124m'\u001b[39m\u001b[38;5;124mautoreload\u001b[39m\u001b[38;5;124m'\u001b[39m, \u001b[38;5;124m'\u001b[39m\u001b[38;5;124m2\u001b[39m\u001b[38;5;124m'\u001b[39m)\n\u001b[0;32m----> 6\u001b[0m \u001b[38;5;28;01mfrom\u001b[39;00m\u001b[38;5;250m \u001b[39m\u001b[38;5;21;01mscripts\u001b[39;00m\u001b[38;5;21;01m.\u001b[39;00m\u001b[38;5;21;01mextract_data\u001b[39;00m\u001b[38;5;250m \u001b[39m\u001b[38;5;28;01mimport\u001b[39;00m get_wpdx_kenya , collapse_zinc_csv\n\u001b[1;32m      8\u001b[0m df_wpdx \u001b[38;5;241m=\u001b[39m get_wpdx_kenya()\n\u001b[1;32m      9\u001b[0m df_wpdx[\u001b[38;5;124m'\u001b[39m\u001b[38;5;124mreport_date\u001b[39m\u001b[38;5;124m'\u001b[39m] \u001b[38;5;241m=\u001b[39m pd\u001b[38;5;241m.\u001b[39mto_datetime(df_wpdx[\u001b[38;5;124m'\u001b[39m\u001b[38;5;124mreport_date\u001b[39m\u001b[38;5;124m'\u001b[39m])\n",
      "\u001b[0;31mModuleNotFoundError\u001b[0m: No module named 'scripts'"
     ]
    }
   ],
   "source": [
    "\n",
    "import pandas as pd\n",
    "from datetime import datetime, timedelta\n",
    "import warnings\n",
    "%load_ext autoreload\n",
    "%autoreload 2\n",
    "from scripts.extract_data import get_wpdx_kenya , collapse_zinc_csv\n",
    "\n",
    "df_wpdx = get_wpdx_kenya()\n",
    "df_wpdx['report_date'] = pd.to_datetime(df_wpdx['report_date'])\n",
    "df_wpdx['env_start_date'] = df_wpdx['report_date'] - timedelta(days=30)\n",
    "df_wpdx['env_end_date'] = df_wpdx['report_date']\n",
    "\n",
    "sample_size = 1000 \n",
    "kenya_sample = df_wpdx.sample(n=sample_size, random_state=42).reset_index(drop=True)\n",
    "\n",
    "print(f\"Processing {len(kenya_sample)} water points with temporal accuracy\")"
   ]
  },
  {
   "cell_type": "code",
   "execution_count": null,
   "id": "ad27349b",
   "metadata": {},
   "outputs": [],
   "source": []
  }
 ],
 "metadata": {
  "kernelspec": {
   "display_name": "base",
   "language": "python",
   "name": "python3"
  },
  "language_info": {
   "codemirror_mode": {
    "name": "ipython",
    "version": 3
   },
   "file_extension": ".py",
   "mimetype": "text/x-python",
   "name": "python",
   "nbconvert_exporter": "python",
   "pygments_lexer": "ipython3",
   "version": "3.12.7"
  }
 },
 "nbformat": 4,
 "nbformat_minor": 5
}
