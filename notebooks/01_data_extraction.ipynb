{
 "cells": [
  {
   "cell_type": "code",
   "execution_count": null,
   "id": "3dc82fe8",
   "metadata": {
    "execution": {
     "iopub.execute_input": "2025-07-26T10:52:27.387364Z",
     "iopub.status.busy": "2025-07-26T10:52:27.386373Z",
     "iopub.status.idle": "2025-07-26T10:52:30.043748Z",
     "shell.execute_reply": "2025-07-26T10:52:30.043748Z"
    }
   },
   "outputs": [
    {
     "name": "stdout",
     "output_type": "stream",
     "text": [
      "✅ || wpdx_kenya.csv already exists with 21953 rows, skipping fetch.\n",
      "Processing 1000 water points with temporal accuracy\n"
     ]
    }
   ],
   "source": [
    "\n",
    "import pandas as pd\n",
    "from datetime import datetime, timedelta\n",
    "import warnings\n",
    "%load_ext autoreload\n",
    "%autoreload 2\n",
    "from scripts.extract_data import get_wpdx_kenya , collapse_zinc_csv\n",
    "\n",
    "df_wpdx = get_wpdx_kenya()\n",
    "df_wpdx['report_date'] = pd.to_datetime(df_wpdx['report_date'])\n",
    "df_wpdx['env_start_date'] = df_wpdx['report_date'] - timedelta(days=30)\n",
    "df_wpdx['env_end_date'] = df_wpdx['report_date']\n",
    "\n",
    "sample_size = 1000 \n",
    "kenya_sample = df_wpdx.sample(n=sample_size, random_state=42).reset_index(drop=True)\n",
    "\n",
    "print(f\"Processing {len(kenya_sample)} water points with temporal accuracy\")"
   ]
  },
  {
   "cell_type": "code",
   "execution_count": null,
   "id": "ad27349b",
   "metadata": {},
   "outputs": [],
   "source": []
  }
 ],
 "metadata": {
  "kernelspec": {
   "display_name": "base",
   "language": "python",
   "name": "python3"
  },
  "language_info": {
   "codemirror_mode": {
    "name": "ipython",
    "version": 3
   },
   "file_extension": ".py",
   "mimetype": "text/x-python",
   "name": "python",
   "nbconvert_exporter": "python",
   "pygments_lexer": "ipython3",
   "version": "3.12.7"
  }
 },
 "nbformat": 4,
 "nbformat_minor": 5
}
