{
 "cells": [
  {
   "cell_type": "markdown",
   "id": "bfcbc2bf",
   "metadata": {},
   "source": [
    "EXPLORATIONOF WPDX"
   ]
  },
  {
   "cell_type": "code",
   "execution_count": 218,
   "id": "f4b21c9f",
   "metadata": {},
   "outputs": [],
   "source": [
    "import numpy as np\n",
    "import pandas as pd\n",
    "import seaborn as sns\n",
    "import matplotlib.pyplot as plt\n",
    "%matplotlib inline"
   ]
  },
  {
   "cell_type": "code",
   "execution_count": 219,
   "id": "9c1afbbf",
   "metadata": {},
   "outputs": [
    {
     "name": "stderr",
     "output_type": "stream",
     "text": [
      "C:\\Users\\PINCHEZZ\\AppData\\Local\\Temp\\ipykernel_6408\\464967222.py:1: DtypeWarning: Columns (27) have mixed types. Specify dtype option on import or set low_memory=False.\n",
      "  df = pd.read_csv('../data/raw/wpdx_kenya.csv')\n"
     ]
    },
    {
     "data": {
      "text/html": [
       "<div>\n",
       "<style scoped>\n",
       "    .dataframe tbody tr th:only-of-type {\n",
       "        vertical-align: middle;\n",
       "    }\n",
       "\n",
       "    .dataframe tbody tr th {\n",
       "        vertical-align: top;\n",
       "    }\n",
       "\n",
       "    .dataframe thead th {\n",
       "        text-align: right;\n",
       "    }\n",
       "</style>\n",
       "<table border=\"1\" class=\"dataframe\">\n",
       "  <thead>\n",
       "    <tr style=\"text-align: right;\">\n",
       "      <th></th>\n",
       "      <th>row_id</th>\n",
       "      <th>source</th>\n",
       "      <th>lat_deg</th>\n",
       "      <th>lon_deg</th>\n",
       "      <th>report_date</th>\n",
       "      <th>status_id</th>\n",
       "      <th>water_source_clean</th>\n",
       "      <th>water_source_category</th>\n",
       "      <th>water_tech_clean</th>\n",
       "      <th>_water_tech_category</th>\n",
       "      <th>...</th>\n",
       "      <th>subjective_quality</th>\n",
       "      <th>new_georeferenced_column_</th>\n",
       "      <th>lat_lon_deg</th>\n",
       "      <th>public_data_source</th>\n",
       "      <th>converted</th>\n",
       "      <th>count</th>\n",
       "      <th>created_timestamp</th>\n",
       "      <th>updated</th>\n",
       "      <th>is_duplicate</th>\n",
       "      <th>dataset_title</th>\n",
       "    </tr>\n",
       "  </thead>\n",
       "  <tbody>\n",
       "    <tr>\n",
       "      <th>0</th>\n",
       "      <td>223047</td>\n",
       "      <td>Evidence Action</td>\n",
       "      <td>0.287917</td>\n",
       "      <td>34.661463</td>\n",
       "      <td>2024-12-01T00:00:00.000</td>\n",
       "      <td>Yes</td>\n",
       "      <td>Protected Well</td>\n",
       "      <td>Well</td>\n",
       "      <td>Motorized Pump - Electric</td>\n",
       "      <td>Motorized Pump</td>\n",
       "      <td>...</td>\n",
       "      <td>NaN</td>\n",
       "      <td>POINT (34.6614629 0.2879167)</td>\n",
       "      <td>(0.2879167°, 34.6614629°)</td>\n",
       "      <td>https://catalog.waterpointdata.org/datafiles/e...</td>\n",
       "      <td>NaN</td>\n",
       "      <td>1</td>\n",
       "      <td>2024-04-18T19:20:18.000</td>\n",
       "      <td>2024-04-18T19:20:18.000</td>\n",
       "      <td>NaN</td>\n",
       "      <td>Evidence Action_Kenya_2023-2024</td>\n",
       "    </tr>\n",
       "    <tr>\n",
       "      <th>1</th>\n",
       "      <td>221685</td>\n",
       "      <td>Evidence Action</td>\n",
       "      <td>0.382727</td>\n",
       "      <td>34.591831</td>\n",
       "      <td>2024-12-01T00:00:00.000</td>\n",
       "      <td>Yes</td>\n",
       "      <td>Borehole/Tubewell</td>\n",
       "      <td>Well</td>\n",
       "      <td>Public Tapstand</td>\n",
       "      <td>Public Tapstand</td>\n",
       "      <td>...</td>\n",
       "      <td>Yes, the water is treated and safe for drinking</td>\n",
       "      <td>POINT (34.59183120727539 0.3827266693115234)</td>\n",
       "      <td>(0.38272666931152344°, 34.59183120727539°)</td>\n",
       "      <td>https://catalog.waterpointdata.org/datafiles/e...</td>\n",
       "      <td>#status_id, #orig_lnk</td>\n",
       "      <td>1</td>\n",
       "      <td>2024-04-18T19:20:18.000</td>\n",
       "      <td>2024-04-18T19:20:18.000</td>\n",
       "      <td>NaN</td>\n",
       "      <td>Evidence Action_Kenya_2023-2024</td>\n",
       "    </tr>\n",
       "    <tr>\n",
       "      <th>2</th>\n",
       "      <td>221520</td>\n",
       "      <td>Evidence Action</td>\n",
       "      <td>0.311163</td>\n",
       "      <td>34.586723</td>\n",
       "      <td>2024-12-01T00:00:00.000</td>\n",
       "      <td>Yes</td>\n",
       "      <td>Borehole/Tubewell</td>\n",
       "      <td>Well</td>\n",
       "      <td>NaN</td>\n",
       "      <td>NaN</td>\n",
       "      <td>...</td>\n",
       "      <td>NaN</td>\n",
       "      <td>POINT (34.58672332763672 0.3111633360385895)</td>\n",
       "      <td>(0.3111633360385895°, 34.58672332763672°)</td>\n",
       "      <td>https://catalog.waterpointdata.org/datafiles/e...</td>\n",
       "      <td>NaN</td>\n",
       "      <td>1</td>\n",
       "      <td>2024-04-18T19:20:18.000</td>\n",
       "      <td>2024-04-18T19:20:18.000</td>\n",
       "      <td>NaN</td>\n",
       "      <td>Evidence Action_Kenya_2023-2024</td>\n",
       "    </tr>\n",
       "    <tr>\n",
       "      <th>3</th>\n",
       "      <td>221691</td>\n",
       "      <td>Evidence Action</td>\n",
       "      <td>0.397245</td>\n",
       "      <td>34.595146</td>\n",
       "      <td>2024-12-01T00:00:00.000</td>\n",
       "      <td>Yes</td>\n",
       "      <td>Protected Well</td>\n",
       "      <td>Well</td>\n",
       "      <td>Motorized Pump - Electric</td>\n",
       "      <td>Motorized Pump</td>\n",
       "      <td>...</td>\n",
       "      <td>NaN</td>\n",
       "      <td>POINT (34.59514617919922 0.3972449898719788)</td>\n",
       "      <td>(0.39724498987197876°, 34.59514617919922°)</td>\n",
       "      <td>https://catalog.waterpointdata.org/datafiles/e...</td>\n",
       "      <td>NaN</td>\n",
       "      <td>1</td>\n",
       "      <td>2024-04-18T19:20:18.000</td>\n",
       "      <td>2024-04-18T19:20:18.000</td>\n",
       "      <td>NaN</td>\n",
       "      <td>Evidence Action_Kenya_2023-2024</td>\n",
       "    </tr>\n",
       "    <tr>\n",
       "      <th>4</th>\n",
       "      <td>222938</td>\n",
       "      <td>Evidence Action</td>\n",
       "      <td>0.298903</td>\n",
       "      <td>34.655777</td>\n",
       "      <td>2024-12-01T00:00:00.000</td>\n",
       "      <td>Yes</td>\n",
       "      <td>Protected Well</td>\n",
       "      <td>Well</td>\n",
       "      <td>Motorized Pump - Electric</td>\n",
       "      <td>Motorized Pump</td>\n",
       "      <td>...</td>\n",
       "      <td>NaN</td>\n",
       "      <td>POINT (34.6557765 0.298903)</td>\n",
       "      <td>(0.298903°, 34.6557765°)</td>\n",
       "      <td>https://catalog.waterpointdata.org/datafiles/e...</td>\n",
       "      <td>NaN</td>\n",
       "      <td>1</td>\n",
       "      <td>2024-04-18T19:20:18.000</td>\n",
       "      <td>2024-04-18T19:20:18.000</td>\n",
       "      <td>NaN</td>\n",
       "      <td>Evidence Action_Kenya_2023-2024</td>\n",
       "    </tr>\n",
       "  </tbody>\n",
       "</table>\n",
       "<p>5 rows × 73 columns</p>\n",
       "</div>"
      ],
      "text/plain": [
       "   row_id           source   lat_deg    lon_deg              report_date  \\\n",
       "0  223047  Evidence Action  0.287917  34.661463  2024-12-01T00:00:00.000   \n",
       "1  221685  Evidence Action  0.382727  34.591831  2024-12-01T00:00:00.000   \n",
       "2  221520  Evidence Action  0.311163  34.586723  2024-12-01T00:00:00.000   \n",
       "3  221691  Evidence Action  0.397245  34.595146  2024-12-01T00:00:00.000   \n",
       "4  222938  Evidence Action  0.298903  34.655777  2024-12-01T00:00:00.000   \n",
       "\n",
       "  status_id water_source_clean water_source_category  \\\n",
       "0       Yes     Protected Well                  Well   \n",
       "1       Yes  Borehole/Tubewell                  Well   \n",
       "2       Yes  Borehole/Tubewell                  Well   \n",
       "3       Yes     Protected Well                  Well   \n",
       "4       Yes     Protected Well                  Well   \n",
       "\n",
       "            water_tech_clean _water_tech_category  ...  \\\n",
       "0  Motorized Pump - Electric       Motorized Pump  ...   \n",
       "1            Public Tapstand      Public Tapstand  ...   \n",
       "2                        NaN                  NaN  ...   \n",
       "3  Motorized Pump - Electric       Motorized Pump  ...   \n",
       "4  Motorized Pump - Electric       Motorized Pump  ...   \n",
       "\n",
       "                                subjective_quality  \\\n",
       "0                                              NaN   \n",
       "1  Yes, the water is treated and safe for drinking   \n",
       "2                                              NaN   \n",
       "3                                              NaN   \n",
       "4                                              NaN   \n",
       "\n",
       "                      new_georeferenced_column_  \\\n",
       "0                  POINT (34.6614629 0.2879167)   \n",
       "1  POINT (34.59183120727539 0.3827266693115234)   \n",
       "2  POINT (34.58672332763672 0.3111633360385895)   \n",
       "3  POINT (34.59514617919922 0.3972449898719788)   \n",
       "4                   POINT (34.6557765 0.298903)   \n",
       "\n",
       "                                  lat_lon_deg  \\\n",
       "0                   (0.2879167°, 34.6614629°)   \n",
       "1  (0.38272666931152344°, 34.59183120727539°)   \n",
       "2   (0.3111633360385895°, 34.58672332763672°)   \n",
       "3  (0.39724498987197876°, 34.59514617919922°)   \n",
       "4                    (0.298903°, 34.6557765°)   \n",
       "\n",
       "                                  public_data_source              converted  \\\n",
       "0  https://catalog.waterpointdata.org/datafiles/e...                    NaN   \n",
       "1  https://catalog.waterpointdata.org/datafiles/e...  #status_id, #orig_lnk   \n",
       "2  https://catalog.waterpointdata.org/datafiles/e...                    NaN   \n",
       "3  https://catalog.waterpointdata.org/datafiles/e...                    NaN   \n",
       "4  https://catalog.waterpointdata.org/datafiles/e...                    NaN   \n",
       "\n",
       "  count        created_timestamp                  updated is_duplicate  \\\n",
       "0     1  2024-04-18T19:20:18.000  2024-04-18T19:20:18.000          NaN   \n",
       "1     1  2024-04-18T19:20:18.000  2024-04-18T19:20:18.000          NaN   \n",
       "2     1  2024-04-18T19:20:18.000  2024-04-18T19:20:18.000          NaN   \n",
       "3     1  2024-04-18T19:20:18.000  2024-04-18T19:20:18.000          NaN   \n",
       "4     1  2024-04-18T19:20:18.000  2024-04-18T19:20:18.000          NaN   \n",
       "\n",
       "                     dataset_title  \n",
       "0  Evidence Action_Kenya_2023-2024  \n",
       "1  Evidence Action_Kenya_2023-2024  \n",
       "2  Evidence Action_Kenya_2023-2024  \n",
       "3  Evidence Action_Kenya_2023-2024  \n",
       "4  Evidence Action_Kenya_2023-2024  \n",
       "\n",
       "[5 rows x 73 columns]"
      ]
     },
     "execution_count": 219,
     "metadata": {},
     "output_type": "execute_result"
    }
   ],
   "source": [
    "df = pd.read_csv('../data/raw/wpdx_kenya.csv')\n",
    "df.head()"
   ]
  },
  {
   "cell_type": "code",
   "execution_count": 220,
   "id": "4e621ebd",
   "metadata": {},
   "outputs": [
    {
     "name": "stdout",
     "output_type": "stream",
     "text": [
      "<class 'pandas.core.frame.DataFrame'>\n",
      "RangeIndex: 21953 entries, 0 to 21952\n",
      "Data columns (total 73 columns):\n",
      " #   Column                      Non-Null Count  Dtype  \n",
      "---  ------                      --------------  -----  \n",
      " 0   row_id                      21953 non-null  int64  \n",
      " 1   source                      21953 non-null  object \n",
      " 2   lat_deg                     21953 non-null  float64\n",
      " 3   lon_deg                     21953 non-null  float64\n",
      " 4   report_date                 21953 non-null  object \n",
      " 5   status_id                   21953 non-null  object \n",
      " 6   water_source_clean          21836 non-null  object \n",
      " 7   water_source_category       21836 non-null  object \n",
      " 8   water_tech_clean            16046 non-null  object \n",
      " 9   _water_tech_category        15356 non-null  object \n",
      " 10  facility_type               21953 non-null  object \n",
      " 11  clean_country_name          21953 non-null  object \n",
      " 12  clean_country_id            21953 non-null  object \n",
      " 13  clean_adm1                  21953 non-null  object \n",
      " 14  clean_adm2                  21953 non-null  object \n",
      " 15  clean_adm3                  21953 non-null  object \n",
      " 16  clean_adm4                  0 non-null      float64\n",
      " 17  install_year                10167 non-null  float64\n",
      " 18  installer                   3849 non-null   object \n",
      " 19  rehab_year                  0 non-null      float64\n",
      " 20  rehabilitator               0 non-null      float64\n",
      " 21  management_clean            10062 non-null  object \n",
      " 22  status_clean                21953 non-null  object \n",
      " 23  pay_clean                   3592 non-null   object \n",
      " 24  fecal_coliform_presence     0 non-null      float64\n",
      " 25  fecal_coliform_value        0 non-null      float64\n",
      " 26  subjective_quality_clean    10175 non-null  object \n",
      " 27  activity_id                 19744 non-null  object \n",
      " 28  scheme_id                   0 non-null      float64\n",
      " 29  wpdx_id                     21953 non-null  object \n",
      " 30  notes                       3341 non-null   object \n",
      " 31  orig_lnk                    3637 non-null   object \n",
      " 32  photo_lnk                   10182 non-null  object \n",
      " 33  country_id                  21882 non-null  object \n",
      " 34  data_lnk                    21953 non-null  object \n",
      " 35  distance_to_primary         21953 non-null  float64\n",
      " 36  distance_to_secondary       21953 non-null  float64\n",
      " 37  distance_to_tertiary        21953 non-null  float64\n",
      " 38  distance_to_city            21905 non-null  float64\n",
      " 39  distance_to_town            21953 non-null  float64\n",
      " 40  water_point_history         21953 non-null  object \n",
      " 41  local_population            21104 non-null  float64\n",
      " 42  served_population           21104 non-null  float64\n",
      " 43  rehab_priority              2055 non-null   float64\n",
      " 44  _pop_who_would_gain_access  1787 non-null   float64\n",
      " 45  crucialness                 21023 non-null  float64\n",
      " 46  pressure                    20106 non-null  float64\n",
      " 47  usage_cap                   20899 non-null  float64\n",
      " 48  days_since_report           21953 non-null  int64  \n",
      " 49  staleness_score             21953 non-null  float64\n",
      " 50  is_latest                   21953 non-null  bool   \n",
      " 51  location_id                 21953 non-null  int64  \n",
      " 52  is_urban                    21953 non-null  bool   \n",
      " 53  cluster_size                21953 non-null  int64  \n",
      " 54  country_name                21882 non-null  object \n",
      " 55  water_source                21894 non-null  object \n",
      " 56  water_tech                  10682 non-null  object \n",
      " 57  status                      10350 non-null  object \n",
      " 58  adm1                        19270 non-null  object \n",
      " 59  adm2                        16745 non-null  object \n",
      " 60  adm3                        16033 non-null  object \n",
      " 61  management                  10103 non-null  object \n",
      " 62  pay                         2183 non-null   object \n",
      " 63  subjective_quality          10232 non-null  object \n",
      " 64  new_georeferenced_column_   21953 non-null  object \n",
      " 65  lat_lon_deg                 21953 non-null  object \n",
      " 66  public_data_source          21953 non-null  object \n",
      " 67  converted                   10392 non-null  object \n",
      " 68  count                       21953 non-null  int64  \n",
      " 69  created_timestamp           21953 non-null  object \n",
      " 70  updated                     21953 non-null  object \n",
      " 71  is_duplicate                665 non-null    object \n",
      " 72  dataset_title               21953 non-null  object \n",
      "dtypes: bool(2), float64(22), int64(5), object(44)\n",
      "memory usage: 11.9+ MB\n"
     ]
    }
   ],
   "source": [
    "df.info()"
   ]
  },
  {
   "cell_type": "code",
   "execution_count": 221,
   "id": "c7725e34",
   "metadata": {},
   "outputs": [
    {
     "data": {
      "text/plain": [
       "426001"
      ]
     },
     "execution_count": 221,
     "metadata": {},
     "output_type": "execute_result"
    }
   ],
   "source": [
    "df.isna().sum().sum()"
   ]
  },
  {
   "cell_type": "code",
   "execution_count": 222,
   "id": "5f52e5cd",
   "metadata": {},
   "outputs": [
    {
     "data": {
      "text/plain": [
       "Index(['row_id', 'source', 'lat_deg', 'lon_deg', 'report_date', 'status_id',\n",
       "       'water_source_clean', 'water_source_category', 'water_tech_clean',\n",
       "       '_water_tech_category', 'facility_type', 'clean_country_name',\n",
       "       'clean_country_id', 'clean_adm1', 'clean_adm2', 'clean_adm3',\n",
       "       'clean_adm4', 'install_year', 'installer', 'rehab_year',\n",
       "       'rehabilitator', 'management_clean', 'status_clean', 'pay_clean',\n",
       "       'fecal_coliform_presence', 'fecal_coliform_value',\n",
       "       'subjective_quality_clean', 'activity_id', 'scheme_id', 'wpdx_id',\n",
       "       'notes', 'orig_lnk', 'photo_lnk', 'country_id', 'data_lnk',\n",
       "       'distance_to_primary', 'distance_to_secondary', 'distance_to_tertiary',\n",
       "       'distance_to_city', 'distance_to_town', 'water_point_history',\n",
       "       'local_population', 'served_population', 'rehab_priority',\n",
       "       '_pop_who_would_gain_access', 'crucialness', 'pressure', 'usage_cap',\n",
       "       'days_since_report', 'staleness_score', 'is_latest', 'location_id',\n",
       "       'is_urban', 'cluster_size', 'country_name', 'water_source',\n",
       "       'water_tech', 'status', 'adm1', 'adm2', 'adm3', 'management', 'pay',\n",
       "       'subjective_quality', 'new_georeferenced_column_', 'lat_lon_deg',\n",
       "       'public_data_source', 'converted', 'count', 'created_timestamp',\n",
       "       'updated', 'is_duplicate', 'dataset_title'],\n",
       "      dtype='object')"
      ]
     },
     "execution_count": 222,
     "metadata": {},
     "output_type": "execute_result"
    }
   ],
   "source": [
    "df.columns"
   ]
  },
  {
   "cell_type": "code",
   "execution_count": 223,
   "id": "3000ee6c",
   "metadata": {},
   "outputs": [
    {
     "data": {
      "text/plain": [
       "is_urban\n",
       "False    21523\n",
       "True       430\n",
       "Name: count, dtype: int64"
      ]
     },
     "execution_count": 223,
     "metadata": {},
     "output_type": "execute_result"
    }
   ],
   "source": [
    "df['is_urban'].value_counts()  #.head()"
   ]
  },
  {
   "cell_type": "code",
   "execution_count": 224,
   "id": "4fd0c24d",
   "metadata": {},
   "outputs": [],
   "source": [
    "df_duplicated = df.duplicated()"
   ]
  },
  {
   "cell_type": "code",
   "execution_count": 225,
   "id": "3359f516",
   "metadata": {},
   "outputs": [
    {
     "data": {
      "text/plain": [
       "0    False\n",
       "1    False\n",
       "2    False\n",
       "3    False\n",
       "4    False\n",
       "dtype: bool"
      ]
     },
     "execution_count": 225,
     "metadata": {},
     "output_type": "execute_result"
    }
   ],
   "source": [
    "df_duplicated.head()"
   ]
  },
  {
   "cell_type": "code",
   "execution_count": 226,
   "id": "f0048d52",
   "metadata": {},
   "outputs": [],
   "source": [
    "columns_to_keep = [\n",
    "    'lat_deg', 'lon_deg',\n",
    "    'clean_country_name', 'clean_adm1', 'clean_adm2', 'clean_adm3', 'is_urban',\n",
    "    'water_source_clean', 'water_source_category',\n",
    "    'water_tech_clean', '_water_tech_category',\n",
    "    'facility_type', 'install_year', 'rehab_year',\n",
    "    'status_clean', 'management_clean', 'pay_clean',\n",
    "    'local_population', 'served_population',\n",
    "    'report_date', 'days_since_report', 'staleness_score', 'is_latest',\n",
    "    'subjective_quality_clean', 'rehab_priority', 'crucialness',\n",
    "    'fecal_coliform_presence', 'fecal_coliform_value',\n",
    "    'distance_to_primary', 'distance_to_city', 'distance_to_town'\n",
    "]"
   ]
  },
  {
   "cell_type": "code",
   "execution_count": 227,
   "id": "7ccb564d",
   "metadata": {},
   "outputs": [
    {
     "name": "stdout",
     "output_type": "stream",
     "text": [
      "31\n"
     ]
    }
   ],
   "source": [
    "print(len(columns_to_keep))"
   ]
  },
  {
   "cell_type": "code",
   "execution_count": 228,
   "id": "2e2b2cb1",
   "metadata": {},
   "outputs": [
    {
     "name": "stdout",
     "output_type": "stream",
     "text": [
      "<class 'pandas.core.frame.DataFrame'>\n",
      "RangeIndex: 21953 entries, 0 to 21952\n",
      "Data columns (total 31 columns):\n",
      " #   Column                    Non-Null Count  Dtype  \n",
      "---  ------                    --------------  -----  \n",
      " 0   lat_deg                   21953 non-null  float64\n",
      " 1   lon_deg                   21953 non-null  float64\n",
      " 2   clean_country_name        21953 non-null  object \n",
      " 3   clean_adm1                21953 non-null  object \n",
      " 4   clean_adm2                21953 non-null  object \n",
      " 5   clean_adm3                21953 non-null  object \n",
      " 6   is_urban                  21953 non-null  bool   \n",
      " 7   water_source_clean        21836 non-null  object \n",
      " 8   water_source_category     21836 non-null  object \n",
      " 9   water_tech_clean          16046 non-null  object \n",
      " 10  _water_tech_category      15356 non-null  object \n",
      " 11  facility_type             21953 non-null  object \n",
      " 12  install_year              10167 non-null  float64\n",
      " 13  rehab_year                0 non-null      float64\n",
      " 14  status_clean              21953 non-null  object \n",
      " 15  management_clean          10062 non-null  object \n",
      " 16  pay_clean                 3592 non-null   object \n",
      " 17  local_population          21104 non-null  float64\n",
      " 18  served_population         21104 non-null  float64\n",
      " 19  report_date               21953 non-null  object \n",
      " 20  days_since_report         21953 non-null  int64  \n",
      " 21  staleness_score           21953 non-null  float64\n",
      " 22  is_latest                 21953 non-null  bool   \n",
      " 23  subjective_quality_clean  10175 non-null  object \n",
      " 24  rehab_priority            2055 non-null   float64\n",
      " 25  crucialness               21023 non-null  float64\n",
      " 26  fecal_coliform_presence   0 non-null      float64\n",
      " 27  fecal_coliform_value      0 non-null      float64\n",
      " 28  distance_to_primary       21953 non-null  float64\n",
      " 29  distance_to_city          21905 non-null  float64\n",
      " 30  distance_to_town          21953 non-null  float64\n",
      "dtypes: bool(2), float64(14), int64(1), object(14)\n",
      "memory usage: 4.9+ MB\n"
     ]
    }
   ],
   "source": [
    "df = df[columns_to_keep]\n",
    "df.info()"
   ]
  },
  {
   "cell_type": "code",
   "execution_count": 229,
   "id": "4e05a0f1",
   "metadata": {},
   "outputs": [],
   "source": [
    "def isna_count_in_col(df):\n",
    "    for col in df.columns:\n",
    "        if df[col].isna().sum() > 0:\n",
    "            print(f'{col} : {df[col].isna().sum()}')\n"
   ]
  },
  {
   "cell_type": "code",
   "execution_count": 230,
   "id": "8487d7b8",
   "metadata": {},
   "outputs": [
    {
     "name": "stdout",
     "output_type": "stream",
     "text": [
      "water_source_clean : 117\n",
      "water_source_category : 117\n",
      "water_tech_clean : 5907\n",
      "_water_tech_category : 6597\n",
      "install_year : 11786\n",
      "rehab_year : 21953\n",
      "management_clean : 11891\n",
      "pay_clean : 18361\n",
      "local_population : 849\n",
      "served_population : 849\n",
      "subjective_quality_clean : 11778\n",
      "rehab_priority : 19898\n",
      "crucialness : 930\n",
      "distance_to_city : 48\n"
     ]
    }
   ],
   "source": [
    "df = df.drop(columns = ['fecal_coliform_presence', 'fecal_coliform_value'])\n",
    "isna_count_in_col(df)"
   ]
  },
  {
   "cell_type": "markdown",
   "id": "628de06b",
   "metadata": {},
   "source": [
    "DATA CLEANING"
   ]
  },
  {
   "cell_type": "code",
   "execution_count": 231,
   "id": "9ad7e9fd",
   "metadata": {},
   "outputs": [
    {
     "data": {
      "text/plain": [
       "_water_tech_category\n",
       "Motorized Pump     7131\n",
       "Public Tapstand    5713\n",
       "Hand Pump          2431\n",
       "Rope and Bucket      81\n",
       "Name: count, dtype: int64"
      ]
     },
     "execution_count": 231,
     "metadata": {},
     "output_type": "execute_result"
    }
   ],
   "source": [
    "df['_water_tech_category'].value_counts()"
   ]
  },
  {
   "cell_type": "code",
   "execution_count": 232,
   "id": "5e6d7757",
   "metadata": {},
   "outputs": [
    {
     "data": {
      "text/plain": [
       "11"
      ]
     },
     "execution_count": 232,
     "metadata": {},
     "output_type": "execute_result"
    }
   ],
   "source": [
    "df['_water_tech_category'] = df['_water_tech_category'].bfill()\n",
    "df['_water_tech_category'].isna().sum()"
   ]
  },
  {
   "cell_type": "code",
   "execution_count": 233,
   "id": "2bddd052",
   "metadata": {},
   "outputs": [
    {
     "data": {
      "text/plain": [
       "0"
      ]
     },
     "execution_count": 233,
     "metadata": {},
     "output_type": "execute_result"
    }
   ],
   "source": [
    "df['_water_tech_category'] = df['_water_tech_category'].ffill()\n",
    "df['_water_tech_category'].isna().sum()"
   ]
  },
  {
   "cell_type": "code",
   "execution_count": 234,
   "id": "32aa0ae4",
   "metadata": {},
   "outputs": [
    {
     "name": "stdout",
     "output_type": "stream",
     "text": [
      "water_source_clean : 117\n",
      "water_source_category : 117\n",
      "water_tech_clean : 5907\n",
      "install_year : 11786\n",
      "rehab_year : 21953\n",
      "management_clean : 11891\n",
      "pay_clean : 18361\n",
      "local_population : 849\n",
      "served_population : 849\n",
      "subjective_quality_clean : 11778\n",
      "rehab_priority : 19898\n",
      "crucialness : 930\n",
      "distance_to_city : 48\n"
     ]
    }
   ],
   "source": [
    "isna_count_in_col(df)"
   ]
  },
  {
   "cell_type": "code",
   "execution_count": 235,
   "id": "aa83bbde",
   "metadata": {},
   "outputs": [
    {
     "data": {
      "text/plain": [
       "water_source_clean\n",
       "Protected Well             11706\n",
       "Borehole/Tubewell           6420\n",
       "Undefined Well              1329\n",
       "Sand or Sub-surface Dam      959\n",
       "Piped Water                  717\n",
       "Rainwater Harvesting         488\n",
       "Protected Spring             197\n",
       "Delivered Water               12\n",
       "Unprotected Well               7\n",
       "Undefined Spring               1\n",
       "Name: count, dtype: int64"
      ]
     },
     "execution_count": 235,
     "metadata": {},
     "output_type": "execute_result"
    }
   ],
   "source": [
    "df['water_source_clean'].value_counts()"
   ]
  },
  {
   "cell_type": "code",
   "execution_count": 236,
   "id": "25b9381c",
   "metadata": {},
   "outputs": [
    {
     "data": {
      "text/plain": [
       "0"
      ]
     },
     "execution_count": 236,
     "metadata": {},
     "output_type": "execute_result"
    }
   ],
   "source": [
    "df['water_source_clean'] = df['water_source_clean'].bfill()\n",
    "df['water_source_clean'].isna().sum()"
   ]
  },
  {
   "cell_type": "code",
   "execution_count": 237,
   "id": "c6564f9d",
   "metadata": {},
   "outputs": [
    {
     "data": {
      "text/plain": [
       "water_source_category\n",
       "Well                       19462\n",
       "Sand or Sub-surface Dam      959\n",
       "Piped Water                  717\n",
       "Rainwater Harvesting         488\n",
       "Spring                       198\n",
       "Delivered Water               12\n",
       "Name: count, dtype: int64"
      ]
     },
     "execution_count": 237,
     "metadata": {},
     "output_type": "execute_result"
    }
   ],
   "source": [
    "df['water_source_category'].value_counts()"
   ]
  },
  {
   "cell_type": "code",
   "execution_count": 238,
   "id": "82e8fd90",
   "metadata": {},
   "outputs": [
    {
     "data": {
      "text/plain": [
       "0"
      ]
     },
     "execution_count": 238,
     "metadata": {},
     "output_type": "execute_result"
    }
   ],
   "source": [
    "df['water_source_category'] = df['water_source_category'].bfill()\n",
    "df['water_source_category'].isna().sum()"
   ]
  },
  {
   "cell_type": "code",
   "execution_count": 239,
   "id": "ce60172c",
   "metadata": {},
   "outputs": [
    {
     "data": {
      "text/plain": [
       "water_tech_clean\n",
       "Motorized Pump - Electric    6848\n",
       "Public Tapstand              5713\n",
       "Hand Pump                    1039\n",
       "Hand Pump - Afridev          1017\n",
       "Hand Pump - Rope              694\n",
       "Motorized Pump                280\n",
       "Hand Pump - India Mark        138\n",
       "Hand Pump - Nira               98\n",
       "Rope and Bucket                81\n",
       "Hand Pump - Tara               63\n",
       "Hand Pump - Blue               54\n",
       "Hand Pump - SWN 80             13\n",
       "Motorized Pump - Diesel         3\n",
       "Hydram Pump                     3\n",
       "Hand Pump - Mono                2\n",
       "Name: count, dtype: int64"
      ]
     },
     "execution_count": 239,
     "metadata": {},
     "output_type": "execute_result"
    }
   ],
   "source": [
    "df['water_tech_clean'].value_counts()"
   ]
  },
  {
   "cell_type": "code",
   "execution_count": 240,
   "id": "6df5cb6a",
   "metadata": {},
   "outputs": [
    {
     "data": {
      "text/plain": [
       "0"
      ]
     },
     "execution_count": 240,
     "metadata": {},
     "output_type": "execute_result"
    }
   ],
   "source": [
    "df['water_tech_clean'] = df['water_tech_clean'].bfill()\n",
    "df['water_tech_clean'].isna().sum()"
   ]
  },
  {
   "cell_type": "code",
   "execution_count": 241,
   "id": "7cef2095",
   "metadata": {},
   "outputs": [
    {
     "data": {
      "text/plain": [
       "11786"
      ]
     },
     "execution_count": 241,
     "metadata": {},
     "output_type": "execute_result"
    }
   ],
   "source": [
    "df['install_year'].isna().sum()"
   ]
  },
  {
   "cell_type": "code",
   "execution_count": 242,
   "id": "7afe9a44",
   "metadata": {},
   "outputs": [
    {
     "data": {
      "text/plain": [
       "2009.0"
      ]
     },
     "execution_count": 242,
     "metadata": {},
     "output_type": "execute_result"
    }
   ],
   "source": [
    "df['install_year'].median()"
   ]
  },
  {
   "cell_type": "code",
   "execution_count": 243,
   "id": "1fe2ca15",
   "metadata": {},
   "outputs": [
    {
     "data": {
      "text/plain": [
       "0"
      ]
     },
     "execution_count": 243,
     "metadata": {},
     "output_type": "execute_result"
    }
   ],
   "source": [
    "df['install_year'] = df['install_year'].fillna(df['install_year'].median())\n",
    "df['install_year'].isna().sum()"
   ]
  },
  {
   "cell_type": "code",
   "execution_count": 244,
   "id": "b40cba43",
   "metadata": {},
   "outputs": [
    {
     "name": "stdout",
     "output_type": "stream",
     "text": [
      "rehab_year : 21953\n",
      "management_clean : 11891\n",
      "pay_clean : 18361\n",
      "local_population : 849\n",
      "served_population : 849\n",
      "subjective_quality_clean : 11778\n",
      "rehab_priority : 19898\n",
      "crucialness : 930\n",
      "distance_to_city : 48\n"
     ]
    }
   ],
   "source": [
    "isna_count_in_col(df)"
   ]
  },
  {
   "cell_type": "code",
   "execution_count": 245,
   "id": "6f3b2f9b",
   "metadata": {},
   "outputs": [
    {
     "name": "stdout",
     "output_type": "stream",
     "text": [
      "management_clean : 11891\n",
      "pay_clean : 18361\n",
      "local_population : 849\n",
      "served_population : 849\n",
      "subjective_quality_clean : 11778\n",
      "rehab_priority : 19898\n",
      "crucialness : 930\n",
      "distance_to_city : 48\n"
     ]
    }
   ],
   "source": [
    "df = df.drop(columns = ['rehab_year'])\n",
    "isna_count_in_col(df)"
   ]
  },
  {
   "cell_type": "code",
   "execution_count": 246,
   "id": "27ed29ea",
   "metadata": {},
   "outputs": [
    {
     "data": {
      "text/plain": [
       "management_clean\n",
       "Community Management                     6128\n",
       "Private Operator/Delegated Management    1625\n",
       "No Management                            1268\n",
       "Other                                    1011\n",
       "Other Institutional Management             17\n",
       "Direct Government Operation                13\n",
       "Name: count, dtype: int64"
      ]
     },
     "execution_count": 246,
     "metadata": {},
     "output_type": "execute_result"
    }
   ],
   "source": [
    "df['management_clean'].value_counts()"
   ]
  },
  {
   "cell_type": "code",
   "execution_count": 247,
   "id": "04af02f3",
   "metadata": {},
   "outputs": [
    {
     "data": {
      "text/plain": [
       "0"
      ]
     },
     "execution_count": 247,
     "metadata": {},
     "output_type": "execute_result"
    }
   ],
   "source": [
    "df['management_clean'] = df['management_clean'].bfill()\n",
    "df['management_clean'].isna().sum()"
   ]
  },
  {
   "cell_type": "code",
   "execution_count": 248,
   "id": "bd38f983",
   "metadata": {},
   "outputs": [
    {
     "data": {
      "text/plain": [
       "pay_clean\n",
       "No payment                         2072\n",
       "Fees collected – metered            959\n",
       "Fees collected – annually           217\n",
       "Fees collected – monthly            189\n",
       "Fees collected – upon breakdown     151\n",
       "Fees collected – basis unknown        4\n",
       "Name: count, dtype: int64"
      ]
     },
     "execution_count": 248,
     "metadata": {},
     "output_type": "execute_result"
    }
   ],
   "source": [
    "df['pay_clean'].value_counts()"
   ]
  },
  {
   "cell_type": "code",
   "execution_count": 249,
   "id": "5b765568",
   "metadata": {},
   "outputs": [
    {
     "data": {
      "text/plain": [
       "pay_clean\n",
       "No payment                         20433\n",
       "Fees collected – metered             959\n",
       "Fees collected – annually            217\n",
       "Fees collected – monthly             189\n",
       "Fees collected – upon breakdown      151\n",
       "Fees collected – basis unknown         4\n",
       "Name: count, dtype: int64"
      ]
     },
     "execution_count": 249,
     "metadata": {},
     "output_type": "execute_result"
    }
   ],
   "source": [
    "df['pay_clean'] = df['pay_clean'].fillna('No payment')\n",
    "df['pay_clean'].value_counts()"
   ]
  },
  {
   "cell_type": "code",
   "execution_count": 250,
   "id": "d1f31ac1",
   "metadata": {},
   "outputs": [
    {
     "data": {
      "text/plain": [
       "0"
      ]
     },
     "execution_count": 250,
     "metadata": {},
     "output_type": "execute_result"
    }
   ],
   "source": [
    "df['pay_clean'].isna().sum()"
   ]
  },
  {
   "cell_type": "code",
   "execution_count": 251,
   "id": "71cad3da",
   "metadata": {},
   "outputs": [
    {
     "data": {
      "text/plain": [
       "0    2635.0\n",
       "1    2696.0\n",
       "2    3093.0\n",
       "3    1501.0\n",
       "4    2203.0\n",
       "Name: local_population, dtype: float64"
      ]
     },
     "execution_count": 251,
     "metadata": {},
     "output_type": "execute_result"
    }
   ],
   "source": [
    "df['local_population'].head()"
   ]
  },
  {
   "cell_type": "code",
   "execution_count": 252,
   "id": "6d800149",
   "metadata": {},
   "outputs": [
    {
     "data": {
      "text/plain": [
       "0"
      ]
     },
     "execution_count": 252,
     "metadata": {},
     "output_type": "execute_result"
    }
   ],
   "source": [
    "df['local_population'] = df['local_population'].fillna(df['local_population'].mean())\n",
    "df['local_population'].isna().sum()"
   ]
  },
  {
   "cell_type": "code",
   "execution_count": 253,
   "id": "bbd77f10",
   "metadata": {},
   "outputs": [
    {
     "data": {
      "text/plain": [
       "0    628.0\n",
       "1    353.0\n",
       "2    213.0\n",
       "3    456.0\n",
       "4    405.0\n",
       "Name: served_population, dtype: float64"
      ]
     },
     "execution_count": 253,
     "metadata": {},
     "output_type": "execute_result"
    }
   ],
   "source": [
    "df['served_population'].head()"
   ]
  },
  {
   "cell_type": "code",
   "execution_count": 254,
   "id": "8a836eec",
   "metadata": {},
   "outputs": [
    {
     "data": {
      "text/plain": [
       "0"
      ]
     },
     "execution_count": 254,
     "metadata": {},
     "output_type": "execute_result"
    }
   ],
   "source": [
    "df['served_population'] = df['served_population'].fillna(df['served_population'].mean())\n",
    "df['served_population'].isna().sum()"
   ]
  },
  {
   "cell_type": "code",
   "execution_count": 255,
   "id": "a59fe3e4",
   "metadata": {},
   "outputs": [
    {
     "name": "stdout",
     "output_type": "stream",
     "text": [
      "subjective_quality_clean : 11778\n",
      "rehab_priority : 19898\n",
      "crucialness : 930\n",
      "distance_to_city : 48\n"
     ]
    }
   ],
   "source": [
    "isna_count_in_col(df)"
   ]
  },
  {
   "cell_type": "code",
   "execution_count": 256,
   "id": "80efbfcd",
   "metadata": {},
   "outputs": [
    {
     "data": {
      "text/plain": [
       "subjective_quality_clean\n",
       "Unacceptable quality    6485\n",
       "Acceptable quality      2757\n",
       "Bad taste                711\n",
       "Bad color                222\n",
       "Name: count, dtype: int64"
      ]
     },
     "execution_count": 256,
     "metadata": {},
     "output_type": "execute_result"
    }
   ],
   "source": [
    "df['subjective_quality_clean'].value_counts()"
   ]
  },
  {
   "cell_type": "code",
   "execution_count": 257,
   "id": "ae126126",
   "metadata": {},
   "outputs": [
    {
     "data": {
      "text/plain": [
       "rehab_priority\n",
       "0.0       17\n",
       "190.0      9\n",
       "80.0       9\n",
       "232.0      8\n",
       "142.0      8\n",
       "          ..\n",
       "926.0      1\n",
       "834.0      1\n",
       "870.0      1\n",
       "2334.0     1\n",
       "906.0      1\n",
       "Name: count, Length: 955, dtype: int64"
      ]
     },
     "execution_count": 257,
     "metadata": {},
     "output_type": "execute_result"
    }
   ],
   "source": [
    "df['rehab_priority'].value_counts()"
   ]
  },
  {
   "cell_type": "code",
   "execution_count": 258,
   "id": "94c52d96",
   "metadata": {},
   "outputs": [
    {
     "data": {
      "text/plain": [
       "crucialness\n",
       "1.000000    924\n",
       "0.500000      9\n",
       "0.111111      8\n",
       "0.140000      7\n",
       "0.064516      6\n",
       "           ... \n",
       "0.130470      1\n",
       "0.102601      1\n",
       "0.253435      1\n",
       "0.177496      1\n",
       "0.188917      1\n",
       "Name: count, Length: 18190, dtype: int64"
      ]
     },
     "execution_count": 258,
     "metadata": {},
     "output_type": "execute_result"
    }
   ],
   "source": [
    "df['crucialness'].value_counts()"
   ]
  },
  {
   "cell_type": "code",
   "execution_count": 259,
   "id": "49ed9d1d",
   "metadata": {},
   "outputs": [
    {
     "data": {
      "text/plain": [
       "0"
      ]
     },
     "execution_count": 259,
     "metadata": {},
     "output_type": "execute_result"
    }
   ],
   "source": [
    "df['crucialness'] = df['crucialness'].fillna(df['crucialness'].median())\n",
    "df['crucialness'].isna().sum()"
   ]
  },
  {
   "cell_type": "code",
   "execution_count": 260,
   "id": "cd24f6c1",
   "metadata": {},
   "outputs": [
    {
     "data": {
      "text/plain": [
       "0     9868.998481\n",
       "1    20760.630862\n",
       "2    18439.815660\n",
       "3    21351.632955\n",
       "4    10629.729922\n",
       "Name: distance_to_city, dtype: float64"
      ]
     },
     "execution_count": 260,
     "metadata": {},
     "output_type": "execute_result"
    }
   ],
   "source": [
    "df['distance_to_city'].head()"
   ]
  },
  {
   "cell_type": "code",
   "execution_count": 261,
   "id": "3ab46eb5",
   "metadata": {},
   "outputs": [
    {
     "data": {
      "text/plain": [
       "0"
      ]
     },
     "execution_count": 261,
     "metadata": {},
     "output_type": "execute_result"
    }
   ],
   "source": [
    "df['distance_to_city'] = df['distance_to_city'].fillna(df['distance_to_city'].mean())\n",
    "df['distance_to_city'].isna().sum()"
   ]
  },
  {
   "cell_type": "code",
   "execution_count": 262,
   "id": "202317fd",
   "metadata": {},
   "outputs": [
    {
     "name": "stdout",
     "output_type": "stream",
     "text": [
      "556.2686131386861\n",
      "374.0\n",
      "0    0.0\n",
      "Name: rehab_priority, dtype: float64\n"
     ]
    }
   ],
   "source": [
    "print(df['rehab_priority'].mean())\n",
    "print(df['rehab_priority'].median())\n",
    "print(df['rehab_priority'].mode())"
   ]
  },
  {
   "cell_type": "code",
   "execution_count": 263,
   "id": "334a9ce6",
   "metadata": {},
   "outputs": [
    {
     "data": {
      "text/plain": [
       "0"
      ]
     },
     "execution_count": 263,
     "metadata": {},
     "output_type": "execute_result"
    }
   ],
   "source": [
    "df['rehab_priority'] = df['rehab_priority'].fillna(df['rehab_priority'].median())\n",
    "df['rehab_priority'].isna().sum()"
   ]
  },
  {
   "cell_type": "code",
   "execution_count": 264,
   "id": "9d5a9b7d",
   "metadata": {},
   "outputs": [
    {
     "data": {
      "text/plain": [
       "0"
      ]
     },
     "execution_count": 264,
     "metadata": {},
     "output_type": "execute_result"
    }
   ],
   "source": [
    "df['subjective_quality_clean'] = df['subjective_quality_clean'].bfill()\n",
    "df['subjective_quality_clean'].isna().sum()"
   ]
  },
  {
   "cell_type": "code",
   "execution_count": 266,
   "id": "e6604700",
   "metadata": {},
   "outputs": [],
   "source": [
    "df.to_csv('../data/processed/wpdx_processed.csv')"
   ]
  },
  {
   "cell_type": "code",
   "execution_count": null,
   "id": "ade34bda",
   "metadata": {},
   "outputs": [],
   "source": []
  }
 ],
 "metadata": {
  "kernelspec": {
   "display_name": "Python (learn-env)",
   "language": "python",
   "name": "learn-env"
  },
  "language_info": {
   "codemirror_mode": {
    "name": "ipython",
    "version": 3
   },
   "file_extension": ".py",
   "mimetype": "text/x-python",
   "name": "python",
   "nbconvert_exporter": "python",
   "pygments_lexer": "ipython3",
   "version": "3.9.21"
  }
 },
 "nbformat": 4,
 "nbformat_minor": 5
}
