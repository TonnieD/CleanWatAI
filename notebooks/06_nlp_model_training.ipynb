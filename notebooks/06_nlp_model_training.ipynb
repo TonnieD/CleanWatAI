{
 "cells": [
  {
   "cell_type": "code",
   "execution_count": 1,
   "id": "27cb868f",
   "metadata": {},
   "outputs": [],
   "source": [
    "%load_ext autoreload\n",
    "%autoreload 2"
   ]
  },
  {
   "cell_type": "markdown",
   "id": "43d95ba0",
   "metadata": {},
   "source": [
    "# Data Loading and Exploratory Data Analysis (EDA)"
   ]
  },
  {
   "cell_type": "markdown",
   "id": "aba2543e",
   "metadata": {},
   "source": [
    "## Data Loading"
   ]
  },
  {
   "cell_type": "code",
   "execution_count": 2,
   "id": "68b54a63",
   "metadata": {},
   "outputs": [],
   "source": [
    "# Importing libraries\n",
    "\n",
    "import numpy as np\n",
    "import pandas as pd"
   ]
  },
  {
   "cell_type": "code",
   "execution_count": 3,
   "id": "5508dcdb",
   "metadata": {},
   "outputs": [
    {
     "data": {
      "text/html": [
       "<div>\n",
       "<style scoped>\n",
       "    .dataframe tbody tr th:only-of-type {\n",
       "        vertical-align: middle;\n",
       "    }\n",
       "\n",
       "    .dataframe tbody tr th {\n",
       "        vertical-align: top;\n",
       "    }\n",
       "\n",
       "    .dataframe thead th {\n",
       "        text-align: right;\n",
       "    }\n",
       "</style>\n",
       "<table border=\"1\" class=\"dataframe\">\n",
       "  <thead>\n",
       "    <tr style=\"text-align: right;\">\n",
       "      <th></th>\n",
       "      <th>entry_id</th>\n",
       "      <th>country</th>\n",
       "      <th>source_title</th>\n",
       "      <th>excerpt</th>\n",
       "      <th>geo_location</th>\n",
       "      <th>water_source</th>\n",
       "      <th>sanitation_type</th>\n",
       "      <th>sector</th>\n",
       "      <th>gender</th>\n",
       "      <th>age_group</th>\n",
       "      <th>...</th>\n",
       "      <th>water_color</th>\n",
       "      <th>water_clarity</th>\n",
       "      <th>water_odor</th>\n",
       "      <th>recent_rain</th>\n",
       "      <th>nearby_activities</th>\n",
       "      <th>nearby_infrastructure</th>\n",
       "      <th>vegetation_near_source</th>\n",
       "      <th>waste_disposal_nearby</th>\n",
       "      <th>animal_access</th>\n",
       "      <th>water_flow_rate</th>\n",
       "    </tr>\n",
       "  </thead>\n",
       "  <tbody>\n",
       "    <tr>\n",
       "      <th>0</th>\n",
       "      <td>81a69ab1-6070-4643-ab31-062dabbe355d</td>\n",
       "      <td>Haiti</td>\n",
       "      <td>Skill may certainly off sing.</td>\n",
       "      <td>Health inspectors on site found that improper ...</td>\n",
       "      <td>5.937200</td>\n",
       "      <td>River</td>\n",
       "      <td>Open Defecation</td>\n",
       "      <td>Health</td>\n",
       "      <td>Female</td>\n",
       "      <td>Youth</td>\n",
       "      <td>...</td>\n",
       "      <td>clear</td>\n",
       "      <td>clear</td>\n",
       "      <td>chemical</td>\n",
       "      <td>no</td>\n",
       "      <td>farming</td>\n",
       "      <td>waste facilities</td>\n",
       "      <td>lush</td>\n",
       "      <td>managed sites</td>\n",
       "      <td>no</td>\n",
       "      <td>slow</td>\n",
       "    </tr>\n",
       "    <tr>\n",
       "      <th>1</th>\n",
       "      <td>e4774c0e-38ca-48bc-a62d-56ad7dc2ebf1</td>\n",
       "      <td>Ethiopia</td>\n",
       "      <td>Cup movie than fund artist.</td>\n",
       "      <td>The latest sanitation review indicated that im...</td>\n",
       "      <td>34.615215</td>\n",
       "      <td>Borehole</td>\n",
       "      <td>Composting Toilet</td>\n",
       "      <td>Public Infrastructure</td>\n",
       "      <td>Male</td>\n",
       "      <td>Youth</td>\n",
       "      <td>...</td>\n",
       "      <td>murky</td>\n",
       "      <td>turbid</td>\n",
       "      <td>sewage</td>\n",
       "      <td>yes</td>\n",
       "      <td>farming</td>\n",
       "      <td>waste facilities</td>\n",
       "      <td>sparse</td>\n",
       "      <td>none</td>\n",
       "      <td>yes</td>\n",
       "      <td>stagnant</td>\n",
       "    </tr>\n",
       "    <tr>\n",
       "      <th>2</th>\n",
       "      <td>ed103eee-2e27-4be4-b6fe-59e1b095a507</td>\n",
       "      <td>Nepal</td>\n",
       "      <td>Note Congress day million everybody environmen...</td>\n",
       "      <td>According to recent field observations, waste ...</td>\n",
       "      <td>-68.387244</td>\n",
       "      <td>Truck Delivery</td>\n",
       "      <td>Pit Latrine</td>\n",
       "      <td>Health</td>\n",
       "      <td>Female</td>\n",
       "      <td>Adult</td>\n",
       "      <td>...</td>\n",
       "      <td>green</td>\n",
       "      <td>clear</td>\n",
       "      <td>sewage</td>\n",
       "      <td>no</td>\n",
       "      <td>mining</td>\n",
       "      <td>waste facilities</td>\n",
       "      <td>dead</td>\n",
       "      <td>managed sites</td>\n",
       "      <td>yes</td>\n",
       "      <td>flowing</td>\n",
       "    </tr>\n",
       "    <tr>\n",
       "      <th>3</th>\n",
       "      <td>4d8e529d-08cd-428b-b4a8-e4c4cbadeb33</td>\n",
       "      <td>India</td>\n",
       "      <td>Summer today southern.</td>\n",
       "      <td>The latest sanitation review indicated that ef...</td>\n",
       "      <td>-71.814776</td>\n",
       "      <td>Rainwater</td>\n",
       "      <td>Composting Toilet</td>\n",
       "      <td>Education</td>\n",
       "      <td>Male</td>\n",
       "      <td>Elderly</td>\n",
       "      <td>...</td>\n",
       "      <td>brown</td>\n",
       "      <td>turbid</td>\n",
       "      <td>sewage</td>\n",
       "      <td>no</td>\n",
       "      <td>mining</td>\n",
       "      <td>sewage lines</td>\n",
       "      <td>dead</td>\n",
       "      <td>managed sites</td>\n",
       "      <td>yes</td>\n",
       "      <td>slow</td>\n",
       "    </tr>\n",
       "    <tr>\n",
       "      <th>4</th>\n",
       "      <td>8396148f-36a8-4ee9-af7f-653b8d06aa9c</td>\n",
       "      <td>Kenya</td>\n",
       "      <td>Region sea nation fast shake born.</td>\n",
       "      <td>A comprehensive report issued by the agency no...</td>\n",
       "      <td>-10.132914</td>\n",
       "      <td>Borehole</td>\n",
       "      <td>Composting Toilet</td>\n",
       "      <td>Public Infrastructure</td>\n",
       "      <td>Female</td>\n",
       "      <td>Youth</td>\n",
       "      <td>...</td>\n",
       "      <td>murky</td>\n",
       "      <td>cloudy</td>\n",
       "      <td>none</td>\n",
       "      <td>no</td>\n",
       "      <td>none</td>\n",
       "      <td>waste facilities</td>\n",
       "      <td>lush</td>\n",
       "      <td>open dumping</td>\n",
       "      <td>no</td>\n",
       "      <td>stagnant</td>\n",
       "    </tr>\n",
       "  </tbody>\n",
       "</table>\n",
       "<p>5 rows × 29 columns</p>\n",
       "</div>"
      ],
      "text/plain": [
       "                               entry_id   country  \\\n",
       "0  81a69ab1-6070-4643-ab31-062dabbe355d     Haiti   \n",
       "1  e4774c0e-38ca-48bc-a62d-56ad7dc2ebf1  Ethiopia   \n",
       "2  ed103eee-2e27-4be4-b6fe-59e1b095a507     Nepal   \n",
       "3  4d8e529d-08cd-428b-b4a8-e4c4cbadeb33     India   \n",
       "4  8396148f-36a8-4ee9-af7f-653b8d06aa9c     Kenya   \n",
       "\n",
       "                                        source_title  \\\n",
       "0                      Skill may certainly off sing.   \n",
       "1                        Cup movie than fund artist.   \n",
       "2  Note Congress day million everybody environmen...   \n",
       "3                             Summer today southern.   \n",
       "4                 Region sea nation fast shake born.   \n",
       "\n",
       "                                             excerpt  geo_location  \\\n",
       "0  Health inspectors on site found that improper ...      5.937200   \n",
       "1  The latest sanitation review indicated that im...     34.615215   \n",
       "2  According to recent field observations, waste ...    -68.387244   \n",
       "3  The latest sanitation review indicated that ef...    -71.814776   \n",
       "4  A comprehensive report issued by the agency no...    -10.132914   \n",
       "\n",
       "     water_source    sanitation_type                 sector  gender age_group  \\\n",
       "0           River    Open Defecation                 Health  Female     Youth   \n",
       "1        Borehole  Composting Toilet  Public Infrastructure    Male     Youth   \n",
       "2  Truck Delivery        Pit Latrine                 Health  Female     Adult   \n",
       "3       Rainwater  Composting Toilet              Education    Male   Elderly   \n",
       "4        Borehole  Composting Toilet  Public Infrastructure  Female     Youth   \n",
       "\n",
       "   ... water_color water_clarity water_odor recent_rain  nearby_activities  \\\n",
       "0  ...       clear         clear   chemical          no            farming   \n",
       "1  ...       murky        turbid     sewage         yes            farming   \n",
       "2  ...       green         clear     sewage          no             mining   \n",
       "3  ...       brown        turbid     sewage          no             mining   \n",
       "4  ...       murky        cloudy       none          no               none   \n",
       "\n",
       "  nearby_infrastructure vegetation_near_source waste_disposal_nearby  \\\n",
       "0      waste facilities                   lush         managed sites   \n",
       "1      waste facilities                 sparse                  none   \n",
       "2      waste facilities                   dead         managed sites   \n",
       "3          sewage lines                   dead         managed sites   \n",
       "4      waste facilities                   lush          open dumping   \n",
       "\n",
       "  animal_access water_flow_rate  \n",
       "0            no            slow  \n",
       "1           yes        stagnant  \n",
       "2           yes         flowing  \n",
       "3           yes            slow  \n",
       "4            no        stagnant  \n",
       "\n",
       "[5 rows x 29 columns]"
      ]
     },
     "execution_count": 3,
     "metadata": {},
     "output_type": "execute_result"
    }
   ],
   "source": [
    "# Load the data\n",
    "df = pd.read_csv('../data/raw/water_sanitation.csv')\n",
    "df.head()"
   ]
  },
  {
   "cell_type": "markdown",
   "id": "5df2e462",
   "metadata": {},
   "source": [
    "## Data Exploration"
   ]
  },
  {
   "cell_type": "code",
   "execution_count": 4,
   "id": "cfecf7d6",
   "metadata": {},
   "outputs": [
    {
     "name": "stdout",
     "output_type": "stream",
     "text": [
      "<class 'pandas.core.frame.DataFrame'>\n",
      "RangeIndex: 4157 entries, 0 to 4156\n",
      "Data columns (total 29 columns):\n",
      " #   Column                  Non-Null Count  Dtype  \n",
      "---  ------                  --------------  -----  \n",
      " 0   entry_id                4157 non-null   object \n",
      " 1   country                 4157 non-null   object \n",
      " 2   source_title            4157 non-null   object \n",
      " 3   excerpt                 4157 non-null   object \n",
      " 4   geo_location            4157 non-null   float64\n",
      " 5   water_source            4157 non-null   object \n",
      " 6   sanitation_type         4157 non-null   object \n",
      " 7   sector                  4157 non-null   object \n",
      " 8   gender                  4157 non-null   object \n",
      " 9   age_group               4157 non-null   object \n",
      " 10  income_level            4157 non-null   object \n",
      " 11  infrastructure_type     4157 non-null   object \n",
      " 12  population_density      4157 non-null   object \n",
      " 13  climate_zone            4157 non-null   object \n",
      " 14  year                    4157 non-null   int64  \n",
      " 15  organization            4157 non-null   object \n",
      " 16  source_type             4157 non-null   object \n",
      " 17  special_needs_group     3378 non-null   object \n",
      " 18  severity                4157 non-null   object \n",
      " 19  water_color             4157 non-null   object \n",
      " 20  water_clarity           4157 non-null   object \n",
      " 21  water_odor              4157 non-null   object \n",
      " 22  recent_rain             4157 non-null   object \n",
      " 23  nearby_activities       4157 non-null   object \n",
      " 24  nearby_infrastructure   4157 non-null   object \n",
      " 25  vegetation_near_source  4157 non-null   object \n",
      " 26  waste_disposal_nearby   4157 non-null   object \n",
      " 27  animal_access           4157 non-null   object \n",
      " 28  water_flow_rate         4157 non-null   object \n",
      "dtypes: float64(1), int64(1), object(27)\n",
      "memory usage: 941.9+ KB\n"
     ]
    }
   ],
   "source": [
    "df.info()"
   ]
  },
  {
   "cell_type": "code",
   "execution_count": 5,
   "id": "916f6f5f",
   "metadata": {},
   "outputs": [
    {
     "data": {
      "text/plain": [
       "Index(['entry_id', 'country', 'source_title', 'excerpt', 'geo_location',\n",
       "       'water_source', 'sanitation_type', 'sector', 'gender', 'age_group',\n",
       "       'income_level', 'infrastructure_type', 'population_density',\n",
       "       'climate_zone', 'year', 'organization', 'source_type',\n",
       "       'special_needs_group', 'severity', 'water_color', 'water_clarity',\n",
       "       'water_odor', 'recent_rain', 'nearby_activities',\n",
       "       'nearby_infrastructure', 'vegetation_near_source',\n",
       "       'waste_disposal_nearby', 'animal_access', 'water_flow_rate'],\n",
       "      dtype='object')"
      ]
     },
     "execution_count": 5,
     "metadata": {},
     "output_type": "execute_result"
    }
   ],
   "source": [
    "df.columns"
   ]
  },
  {
   "cell_type": "code",
   "execution_count": 7,
   "id": "f5ee6c07",
   "metadata": {},
   "outputs": [
    {
     "data": {
      "text/plain": [
       "'Health inspectors on site found that improper disposal of greywater has compounded the risk of disease outbreaks. Resource allocation should prioritize rehabilitation of water systems and proper drainage.'"
      ]
     },
     "execution_count": 7,
     "metadata": {},
     "output_type": "execute_result"
    }
   ],
   "source": [
    "df['excerpt'][0]"
   ]
  },
  {
   "cell_type": "markdown",
   "id": "391eeb58",
   "metadata": {},
   "source": [
    "From the above explorartion our data contains 29 columns and 4157 rows of entries.\n",
    "\n",
    "Some of the columns include **'excerpt'** which gives an observation of the environment around a water source or water point or just a decscription of how the water looks like. \n",
    "\n",
    "Other columns includes '**water_odor'** which clasifies water smells into either none, chemical and sewage while **'water_color'** clasifies water color color into either clear, brown, murky or green\n",
    "\n",
    "Most of this Columns describe how the condition of water and the sourounding environment which might affect or give an indication if the water is contaminated or not"
   ]
  },
  {
   "cell_type": "markdown",
   "id": "cc7a6d2b",
   "metadata": {},
   "source": [
    "## Data Cleaning"
   ]
  },
  {
   "cell_type": "markdown",
   "id": "10b6996a",
   "metadata": {},
   "source": [
    "### Missing/Null-values"
   ]
  },
  {
   "cell_type": "code",
   "execution_count": 10,
   "id": "a76a6ef1",
   "metadata": {},
   "outputs": [
    {
     "name": "stdout",
     "output_type": "stream",
     "text": [
      "special_needs_group : 779\n"
     ]
    }
   ],
   "source": [
    "# Checking for missing/null values\n",
    "for col in  df.columns:\n",
    "    if df[col].isna().sum() > 0:\n",
    "        print(f'{col} : {df[col].isna().sum()}')"
   ]
  },
  {
   "cell_type": "markdown",
   "id": "4282db70",
   "metadata": {},
   "source": [
    "- From the above cell only **'special_needs_group'** column contains 779 missing / null-values"
   ]
  },
  {
   "cell_type": "code",
   "execution_count": 11,
   "id": "93f12a9e",
   "metadata": {},
   "outputs": [
    {
     "data": {
      "text/plain": [
       "special_needs_group\n",
       "Children Under 5    891\n",
       "Elderly             834\n",
       "Disabled            831\n",
       "Pregnant Women      822\n",
       "Name: count, dtype: int64"
      ]
     },
     "execution_count": 11,
     "metadata": {},
     "output_type": "execute_result"
    }
   ],
   "source": [
    "df['special_needs_group'].value_counts()"
   ]
  },
  {
   "cell_type": "code",
   "execution_count": 13,
   "id": "698cf996",
   "metadata": {},
   "outputs": [
    {
     "data": {
      "text/plain": [
       "special_needs_group\n",
       "Children Under 5    891\n",
       "Elderly             834\n",
       "Disabled            831\n",
       "Pregnant Women      822\n",
       "none                779\n",
       "Name: count, dtype: int64"
      ]
     },
     "execution_count": 13,
     "metadata": {},
     "output_type": "execute_result"
    }
   ],
   "source": [
    "# Replace missing with 'none' instead of having 'None' which reads as Null-Value\n",
    "df['special_needs_group'] = df['special_needs_group'].fillna('none')\n",
    "df['special_needs_group'].value_counts()"
   ]
  },
  {
   "cell_type": "markdown",
   "id": "94a15609",
   "metadata": {},
   "source": [
    "### Duplicates"
   ]
  },
  {
   "cell_type": "code",
   "execution_count": 16,
   "id": "77c32bbf",
   "metadata": {},
   "outputs": [
    {
     "data": {
      "text/plain": [
       "1157"
      ]
     },
     "execution_count": 16,
     "metadata": {},
     "output_type": "execute_result"
    }
   ],
   "source": [
    "# Checking for duplicated entries\n",
    "df.duplicated().sum()"
   ]
  },
  {
   "cell_type": "code",
   "execution_count": null,
   "id": "7b5cb316",
   "metadata": {},
   "outputs": [],
   "source": []
  }
 ],
 "metadata": {
  "kernelspec": {
   "display_name": "learn-env",
   "language": "python",
   "name": "python3"
  },
  "language_info": {
   "codemirror_mode": {
    "name": "ipython",
    "version": 3
   },
   "file_extension": ".py",
   "mimetype": "text/x-python",
   "name": "python",
   "nbconvert_exporter": "python",
   "pygments_lexer": "ipython3",
   "version": "3.9.21"
  }
 },
 "nbformat": 4,
 "nbformat_minor": 5
}
