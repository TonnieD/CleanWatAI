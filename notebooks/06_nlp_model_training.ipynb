{
 "cells": [
  {
   "cell_type": "code",
   "execution_count": 1,
   "id": "ef151695",
   "metadata": {
    "execution": {
     "iopub.execute_input": "2025-07-27T13:02:51.128511Z",
     "iopub.status.busy": "2025-07-27T13:02:51.127502Z",
     "iopub.status.idle": "2025-07-27T13:02:51.158409Z",
     "shell.execute_reply": "2025-07-27T13:02:51.157395Z"
    }
   },
   "outputs": [],
   "source": [
    "%load_ext autoreload\n",
    "%autoreload 2"
   ]
  },
  {
   "cell_type": "code",
   "execution_count": null,
   "id": "7a2af7ca",
   "metadata": {},
   "outputs": [],
   "source": []
  }
 ],
 "metadata": {
  "language_info": {
   "codemirror_mode": {
    "name": "ipython",
    "version": 3
   },
   "file_extension": ".py",
   "mimetype": "text/x-python",
   "name": "python",
   "nbconvert_exporter": "python",
   "pygments_lexer": "ipython3",
   "version": "3.12.7"
  }
 },
 "nbformat": 4,
 "nbformat_minor": 5
}
