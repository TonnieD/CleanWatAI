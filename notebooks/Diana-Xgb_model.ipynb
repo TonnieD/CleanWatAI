{
 "cells": [
  {
   "cell_type": "markdown",
   "id": "0a02d731",
   "metadata": {},
   "source": [
    "# Modeling Wpdx + Environmental Data using XGBoost"
   ]
  },
  {
   "cell_type": "code",
   "execution_count": 45,
   "id": "fb7a863a",
   "metadata": {},
   "outputs": [
    {
     "name": "stdout",
     "output_type": "stream",
     "text": [
      "The autoreload extension is already loaded. To reload it, use:\n",
      "  %reload_ext autoreload\n"
     ]
    }
   ],
   "source": [
    "%load_ext autoreload\n",
    "%autoreload 2"
   ]
  },
  {
   "cell_type": "markdown",
   "id": "ae5c169f",
   "metadata": {},
   "source": [
    "### Import necessary libraries"
   ]
  },
  {
   "cell_type": "code",
   "execution_count": 46,
   "id": "0da40eb9",
   "metadata": {},
   "outputs": [],
   "source": [
    "import pandas as pd\n",
    "import geopandas as gpd\n",
    "from shapely.geometry import Point\n",
    "\n",
    "from sklearn.linear_model import LogisticRegression\n",
    "from sklearn.preprocessing import StandardScaler, OneHotEncoder\n",
    "from sklearn.compose import ColumnTransformer\n",
    "\n",
    "from sklearn.model_selection import train_test_split\n",
    "from sklearn.metrics import classification_report, confusion_matrix, accuracy_score, f1_score, recall_score\n",
    "\n",
    "from xgboost import XGBClassifier\n",
    "from sklearn.model_selection import RandomizedSearchCV\n",
    "\n",
    "\n",
    "from imblearn.over_sampling import SMOTE\n",
    "from imblearn.pipeline import Pipeline as ImbPipeline\n",
    "from sklearn.pipeline import Pipeline\n",
    "\n"
   ]
  },
  {
   "cell_type": "markdown",
   "id": "a1255a2e",
   "metadata": {},
   "source": [
    "### Read and explore the data"
   ]
  },
  {
   "cell_type": "code",
   "execution_count": 47,
   "id": "58f13f7b",
   "metadata": {},
   "outputs": [
    {
     "data": {
      "text/html": [
       "<div>\n",
       "<style scoped>\n",
       "    .dataframe tbody tr th:only-of-type {\n",
       "        vertical-align: middle;\n",
       "    }\n",
       "\n",
       "    .dataframe tbody tr th {\n",
       "        vertical-align: top;\n",
       "    }\n",
       "\n",
       "    .dataframe thead th {\n",
       "        text-align: right;\n",
       "    }\n",
       "</style>\n",
       "<table border=\"1\" class=\"dataframe\">\n",
       "  <thead>\n",
       "    <tr style=\"text-align: right;\">\n",
       "      <th></th>\n",
       "      <th>row_id</th>\n",
       "      <th>source</th>\n",
       "      <th>lat_deg</th>\n",
       "      <th>lon_deg</th>\n",
       "      <th>report_date</th>\n",
       "      <th>status_id</th>\n",
       "      <th>water_source_clean</th>\n",
       "      <th>water_source_category</th>\n",
       "      <th>water_tech_clean</th>\n",
       "      <th>_water_tech_category</th>\n",
       "      <th>...</th>\n",
       "      <th>chirps_7_precipitation</th>\n",
       "      <th>chirps_30_precipitation</th>\n",
       "      <th>chirps_90_precipitation</th>\n",
       "      <th>ndvi_7_NDVI</th>\n",
       "      <th>ndvi_30_NDVI</th>\n",
       "      <th>ndvi_90_NDVI</th>\n",
       "      <th>lst_7_LST_Day_1km</th>\n",
       "      <th>lst_30_LST_Day_1km</th>\n",
       "      <th>lst_90_LST_Day_1km</th>\n",
       "      <th>pop_population</th>\n",
       "    </tr>\n",
       "  </thead>\n",
       "  <tbody>\n",
       "    <tr>\n",
       "      <th>0</th>\n",
       "      <td>215873</td>\n",
       "      <td>Evidence Action</td>\n",
       "      <td>0.174668</td>\n",
       "      <td>34.554572</td>\n",
       "      <td>2023-02-11T00:00:00.000</td>\n",
       "      <td>Yes</td>\n",
       "      <td>Protected Well</td>\n",
       "      <td>Well</td>\n",
       "      <td>Motorized Pump - Electric</td>\n",
       "      <td>Motorized Pump</td>\n",
       "      <td>...</td>\n",
       "      <td>4.914062</td>\n",
       "      <td>5.804299</td>\n",
       "      <td>11.215961</td>\n",
       "      <td>0.7685</td>\n",
       "      <td>0.77920</td>\n",
       "      <td>0.765850</td>\n",
       "      <td>23.35</td>\n",
       "      <td>23.620</td>\n",
       "      <td>24.402727</td>\n",
       "      <td>10.462028</td>\n",
       "    </tr>\n",
       "    <tr>\n",
       "      <th>1</th>\n",
       "      <td>215240</td>\n",
       "      <td>Evidence Action</td>\n",
       "      <td>0.220830</td>\n",
       "      <td>34.565483</td>\n",
       "      <td>2023-11-15T00:00:00.000</td>\n",
       "      <td>Yes</td>\n",
       "      <td>Protected Well</td>\n",
       "      <td>Well</td>\n",
       "      <td>Motorized Pump - Electric</td>\n",
       "      <td>Motorized Pump</td>\n",
       "      <td>...</td>\n",
       "      <td>3.862696</td>\n",
       "      <td>5.864281</td>\n",
       "      <td>11.359583</td>\n",
       "      <td>0.7642</td>\n",
       "      <td>0.77615</td>\n",
       "      <td>0.745817</td>\n",
       "      <td>23.63</td>\n",
       "      <td>23.370</td>\n",
       "      <td>24.260909</td>\n",
       "      <td>6.315442</td>\n",
       "    </tr>\n",
       "    <tr>\n",
       "      <th>2</th>\n",
       "      <td>194605</td>\n",
       "      <td>Evidence Action</td>\n",
       "      <td>0.044235</td>\n",
       "      <td>34.339775</td>\n",
       "      <td>2023-11-15T00:00:00.000</td>\n",
       "      <td>Yes</td>\n",
       "      <td>Protected Well</td>\n",
       "      <td>Well</td>\n",
       "      <td>Motorized Pump - Electric</td>\n",
       "      <td>Motorized Pump</td>\n",
       "      <td>...</td>\n",
       "      <td>2.113567</td>\n",
       "      <td>2.798805</td>\n",
       "      <td>7.549499</td>\n",
       "      <td>0.7348</td>\n",
       "      <td>0.73455</td>\n",
       "      <td>0.716650</td>\n",
       "      <td>24.89</td>\n",
       "      <td>24.350</td>\n",
       "      <td>24.922000</td>\n",
       "      <td>5.745561</td>\n",
       "    </tr>\n",
       "    <tr>\n",
       "      <th>3</th>\n",
       "      <td>219017</td>\n",
       "      <td>Evidence Action</td>\n",
       "      <td>-0.449933</td>\n",
       "      <td>34.794163</td>\n",
       "      <td>2023-11-17T00:00:00.000</td>\n",
       "      <td>Yes</td>\n",
       "      <td>Borehole/Tubewell</td>\n",
       "      <td>Well</td>\n",
       "      <td>NaN</td>\n",
       "      <td>NaN</td>\n",
       "      <td>...</td>\n",
       "      <td>2.045830</td>\n",
       "      <td>2.790391</td>\n",
       "      <td>7.499787</td>\n",
       "      <td>0.7235</td>\n",
       "      <td>0.73420</td>\n",
       "      <td>0.730017</td>\n",
       "      <td>24.41</td>\n",
       "      <td>24.310</td>\n",
       "      <td>24.433636</td>\n",
       "      <td>3.103306</td>\n",
       "    </tr>\n",
       "    <tr>\n",
       "      <th>4</th>\n",
       "      <td>587740</td>\n",
       "      <td>USAID/KEA KIWASH</td>\n",
       "      <td>0.497160</td>\n",
       "      <td>34.831463</td>\n",
       "      <td>2021-02-05T00:00:00.000</td>\n",
       "      <td>No</td>\n",
       "      <td>Undefined Well</td>\n",
       "      <td>Well</td>\n",
       "      <td>Public Tapstand</td>\n",
       "      <td>Public Tapstand</td>\n",
       "      <td>...</td>\n",
       "      <td>4.075452</td>\n",
       "      <td>5.655031</td>\n",
       "      <td>9.077165</td>\n",
       "      <td>0.7256</td>\n",
       "      <td>0.74335</td>\n",
       "      <td>0.711867</td>\n",
       "      <td>23.79</td>\n",
       "      <td>23.435</td>\n",
       "      <td>24.326000</td>\n",
       "      <td>7.758868</td>\n",
       "    </tr>\n",
       "  </tbody>\n",
       "</table>\n",
       "<p>5 rows × 85 columns</p>\n",
       "</div>"
      ],
      "text/plain": [
       "   row_id            source   lat_deg    lon_deg              report_date  \\\n",
       "0  215873   Evidence Action  0.174668  34.554572  2023-02-11T00:00:00.000   \n",
       "1  215240   Evidence Action  0.220830  34.565483  2023-11-15T00:00:00.000   \n",
       "2  194605   Evidence Action  0.044235  34.339775  2023-11-15T00:00:00.000   \n",
       "3  219017   Evidence Action -0.449933  34.794163  2023-11-17T00:00:00.000   \n",
       "4  587740  USAID/KEA KIWASH  0.497160  34.831463  2021-02-05T00:00:00.000   \n",
       "\n",
       "  status_id water_source_clean water_source_category  \\\n",
       "0       Yes     Protected Well                  Well   \n",
       "1       Yes     Protected Well                  Well   \n",
       "2       Yes     Protected Well                  Well   \n",
       "3       Yes  Borehole/Tubewell                  Well   \n",
       "4        No     Undefined Well                  Well   \n",
       "\n",
       "            water_tech_clean _water_tech_category  ... chirps_7_precipitation  \\\n",
       "0  Motorized Pump - Electric       Motorized Pump  ...               4.914062   \n",
       "1  Motorized Pump - Electric       Motorized Pump  ...               3.862696   \n",
       "2  Motorized Pump - Electric       Motorized Pump  ...               2.113567   \n",
       "3                        NaN                  NaN  ...               2.045830   \n",
       "4            Public Tapstand      Public Tapstand  ...               4.075452   \n",
       "\n",
       "  chirps_30_precipitation chirps_90_precipitation ndvi_7_NDVI ndvi_30_NDVI  \\\n",
       "0                5.804299               11.215961      0.7685      0.77920   \n",
       "1                5.864281               11.359583      0.7642      0.77615   \n",
       "2                2.798805                7.549499      0.7348      0.73455   \n",
       "3                2.790391                7.499787      0.7235      0.73420   \n",
       "4                5.655031                9.077165      0.7256      0.74335   \n",
       "\n",
       "  ndvi_90_NDVI  lst_7_LST_Day_1km  lst_30_LST_Day_1km lst_90_LST_Day_1km  \\\n",
       "0     0.765850              23.35              23.620          24.402727   \n",
       "1     0.745817              23.63              23.370          24.260909   \n",
       "2     0.716650              24.89              24.350          24.922000   \n",
       "3     0.730017              24.41              24.310          24.433636   \n",
       "4     0.711867              23.79              23.435          24.326000   \n",
       "\n",
       "   pop_population  \n",
       "0       10.462028  \n",
       "1        6.315442  \n",
       "2        5.745561  \n",
       "3        3.103306  \n",
       "4        7.758868  \n",
       "\n",
       "[5 rows x 85 columns]"
      ]
     },
     "execution_count": 47,
     "metadata": {},
     "output_type": "execute_result"
    }
   ],
   "source": [
    "df = pd.read_csv(r'../data/processed/wpdx_processed.csv')\n",
    "df.head()\n",
    "\n",
    "\n"
   ]
  },
  {
   "cell_type": "code",
   "execution_count": 48,
   "id": "8be9572b",
   "metadata": {},
   "outputs": [
    {
     "name": "stdout",
     "output_type": "stream",
     "text": [
      "<class 'pandas.core.frame.DataFrame'>\n",
      "RangeIndex: 21368 entries, 0 to 21367\n",
      "Data columns (total 85 columns):\n",
      " #   Column                      Non-Null Count  Dtype  \n",
      "---  ------                      --------------  -----  \n",
      " 0   row_id                      21368 non-null  int64  \n",
      " 1   source                      21368 non-null  object \n",
      " 2   lat_deg                     21368 non-null  float64\n",
      " 3   lon_deg                     21368 non-null  float64\n",
      " 4   report_date                 21368 non-null  object \n",
      " 5   status_id                   21368 non-null  object \n",
      " 6   water_source_clean          21342 non-null  object \n",
      " 7   water_source_category       21342 non-null  object \n",
      " 8   water_tech_clean            15937 non-null  object \n",
      " 9   _water_tech_category        15787 non-null  object \n",
      " 10  facility_type               21368 non-null  object \n",
      " 11  clean_country_name          21368 non-null  object \n",
      " 12  clean_country_id            21368 non-null  object \n",
      " 13  clean_adm1                  21368 non-null  object \n",
      " 14  clean_adm2                  21368 non-null  object \n",
      " 15  clean_adm3                  21368 non-null  object \n",
      " 16  clean_adm4                  0 non-null      float64\n",
      " 17  install_year                6403 non-null   float64\n",
      " 18  installer                   5025 non-null   object \n",
      " 19  rehab_year                  0 non-null      float64\n",
      " 20  rehabilitator               0 non-null      float64\n",
      " 21  management_clean            6398 non-null   object \n",
      " 22  status_clean                21368 non-null  object \n",
      " 23  pay_clean                   805 non-null    object \n",
      " 24  fecal_coliform_presence     0 non-null      float64\n",
      " 25  fecal_coliform_value        0 non-null      float64\n",
      " 26  subjective_quality_clean    6419 non-null   object \n",
      " 27  activity_id                 20864 non-null  object \n",
      " 28  scheme_id                   0 non-null      float64\n",
      " 29  pt_id                       21368 non-null  object \n",
      " 30  notes                       762 non-null    object \n",
      " 31  orig_lnk                    811 non-null    object \n",
      " 32  photo_lnk                   6419 non-null   object \n",
      " 33  country_id                  21354 non-null  object \n",
      " 34  data_lnk                    21368 non-null  object \n",
      " 35  distance_to_primary         21368 non-null  float64\n",
      " 36  distance_to_secondary       21368 non-null  float64\n",
      " 37  distance_to_tertiary        21368 non-null  float64\n",
      " 38  distance_to_city            21358 non-null  float64\n",
      " 39  distance_to_town            21368 non-null  float64\n",
      " 40  water_point_history         21368 non-null  object \n",
      " 41  local_population            21166 non-null  float64\n",
      " 42  served_population           21166 non-null  float64\n",
      " 43  rehab_priority              2531 non-null   float64\n",
      " 44  _pop_who_would_gain_access  2469 non-null   float64\n",
      " 45  crucialness                 21146 non-null  float64\n",
      " 46  pressure                    20930 non-null  float64\n",
      " 47  usage_cap                   21122 non-null  float64\n",
      " 48  days_since_report           21368 non-null  int64  \n",
      " 49  staleness_score             21368 non-null  float64\n",
      " 50  is_latest                   21368 non-null  bool   \n",
      " 51  location_id                 21368 non-null  int64  \n",
      " 52  is_urban                    21368 non-null  bool   \n",
      " 53  cluster_size                21368 non-null  int64  \n",
      " 54  country_name                21354 non-null  object \n",
      " 55  water_source                21349 non-null  object \n",
      " 56  water_tech                  6537 non-null   object \n",
      " 57  status                      6457 non-null   object \n",
      " 58  adm1                        20767 non-null  object \n",
      " 59  adm2                        20224 non-null  object \n",
      " 60  adm3                        20057 non-null  object \n",
      " 61  management                  6408 non-null   object \n",
      " 62  pay                         496 non-null    object \n",
      " 63  subjective_quality          6429 non-null   object \n",
      " 64  new_georeferenced_column_   21368 non-null  object \n",
      " 65  lat_lon_deg                 21368 non-null  object \n",
      " 66  public_data_source          21368 non-null  object \n",
      " 67  converted                   6462 non-null   object \n",
      " 68  count                       21368 non-null  int64  \n",
      " 69  created_timestamp           21368 non-null  object \n",
      " 70  updated                     21368 non-null  object \n",
      " 71  is_duplicate                157 non-null    object \n",
      " 72  dataset_title               21368 non-null  object \n",
      " 73  latitude                    21368 non-null  float64\n",
      " 74  longitude                   21368 non-null  float64\n",
      " 75  chirps_7_precipitation      21368 non-null  float64\n",
      " 76  chirps_30_precipitation     21368 non-null  float64\n",
      " 77  chirps_90_precipitation     21368 non-null  float64\n",
      " 78  ndvi_7_NDVI                 21368 non-null  float64\n",
      " 79  ndvi_30_NDVI                21368 non-null  float64\n",
      " 80  ndvi_90_NDVI                21368 non-null  float64\n",
      " 81  lst_7_LST_Day_1km           21201 non-null  float64\n",
      " 82  lst_30_LST_Day_1km          21368 non-null  float64\n",
      " 83  lst_90_LST_Day_1km          21368 non-null  float64\n",
      " 84  pop_population              21355 non-null  float64\n",
      "dtypes: bool(2), float64(34), int64(5), object(44)\n",
      "memory usage: 13.6+ MB\n"
     ]
    }
   ],
   "source": [
    "df.info()"
   ]
  },
  {
   "cell_type": "markdown",
   "id": "8a2e3fd9",
   "metadata": {},
   "source": [
    "## Data Cleaning and Preprocessing"
   ]
  },
  {
   "cell_type": "markdown",
   "id": "8bbffff3",
   "metadata": {},
   "source": [
    "### Null values"
   ]
  },
  {
   "cell_type": "code",
   "execution_count": 49,
   "id": "8ae9f53e",
   "metadata": {},
   "outputs": [
    {
     "name": "stdout",
     "output_type": "stream",
     "text": [
      "Columns with null values:\n",
      "water_source_clean               26\n",
      "water_source_category            26\n",
      "water_tech_clean               5431\n",
      "_water_tech_category           5581\n",
      "clean_adm4                    21368\n",
      "install_year                  14965\n",
      "installer                     16343\n",
      "rehab_year                    21368\n",
      "rehabilitator                 21368\n",
      "management_clean              14970\n",
      "pay_clean                     20563\n",
      "fecal_coliform_presence       21368\n",
      "fecal_coliform_value          21368\n",
      "subjective_quality_clean      14949\n",
      "activity_id                     504\n",
      "scheme_id                     21368\n",
      "notes                         20606\n",
      "orig_lnk                      20557\n",
      "photo_lnk                     14949\n",
      "country_id                       14\n",
      "distance_to_city                 10\n",
      "local_population                202\n",
      "served_population               202\n",
      "rehab_priority                18837\n",
      "_pop_who_would_gain_access    18899\n",
      "crucialness                     222\n",
      "pressure                        438\n",
      "usage_cap                       246\n",
      "country_name                     14\n",
      "water_source                     19\n",
      "water_tech                    14831\n",
      "status                        14911\n",
      "adm1                            601\n",
      "adm2                           1144\n",
      "adm3                           1311\n",
      "management                    14960\n",
      "pay                           20872\n",
      "subjective_quality            14939\n",
      "converted                     14906\n",
      "is_duplicate                  21211\n",
      "lst_7_LST_Day_1km               167\n",
      "pop_population                   13\n",
      "dtype: int64\n"
     ]
    }
   ],
   "source": [
    "# check null values\n",
    "null_columns = df.columns[df.isnull().any()]\n",
    "if not null_columns.empty:\n",
    "    print(\"Columns with null values:\")\n",
    "    print(df[null_columns].isnull().sum())\n",
    "else:\n",
    "    print(\"There are no null values in the DataFrame.\")   \n",
    "    "
   ]
  },
  {
   "cell_type": "markdown",
   "id": "f67a6edf",
   "metadata": {},
   "source": [
    "### Deal with missing values"
   ]
  },
  {
   "cell_type": "markdown",
   "id": "7e705f20",
   "metadata": {},
   "source": [
    "- so many missing values \n",
    "- lets drop the columns where (entirely missing, metadata, irrelevant for modelling)"
   ]
  },
  {
   "cell_type": "code",
   "execution_count": 50,
   "id": "8f7dc7bb",
   "metadata": {},
   "outputs": [
    {
     "data": {
      "text/html": [
       "<div>\n",
       "<style scoped>\n",
       "    .dataframe tbody tr th:only-of-type {\n",
       "        vertical-align: middle;\n",
       "    }\n",
       "\n",
       "    .dataframe tbody tr th {\n",
       "        vertical-align: top;\n",
       "    }\n",
       "\n",
       "    .dataframe thead th {\n",
       "        text-align: right;\n",
       "    }\n",
       "</style>\n",
       "<table border=\"1\" class=\"dataframe\">\n",
       "  <thead>\n",
       "    <tr style=\"text-align: right;\">\n",
       "      <th></th>\n",
       "      <th>lat_deg</th>\n",
       "      <th>lon_deg</th>\n",
       "      <th>water_source_clean</th>\n",
       "      <th>water_source_category</th>\n",
       "      <th>water_tech_clean</th>\n",
       "      <th>_water_tech_category</th>\n",
       "      <th>facility_type</th>\n",
       "      <th>clean_country_name</th>\n",
       "      <th>clean_country_id</th>\n",
       "      <th>clean_adm1</th>\n",
       "      <th>...</th>\n",
       "      <th>chirps_7_precipitation</th>\n",
       "      <th>chirps_30_precipitation</th>\n",
       "      <th>chirps_90_precipitation</th>\n",
       "      <th>ndvi_7_NDVI</th>\n",
       "      <th>ndvi_30_NDVI</th>\n",
       "      <th>ndvi_90_NDVI</th>\n",
       "      <th>lst_7_LST_Day_1km</th>\n",
       "      <th>lst_30_LST_Day_1km</th>\n",
       "      <th>lst_90_LST_Day_1km</th>\n",
       "      <th>pop_population</th>\n",
       "    </tr>\n",
       "  </thead>\n",
       "  <tbody>\n",
       "    <tr>\n",
       "      <th>0</th>\n",
       "      <td>0.174668</td>\n",
       "      <td>34.554572</td>\n",
       "      <td>Protected Well</td>\n",
       "      <td>Well</td>\n",
       "      <td>Motorized Pump - Electric</td>\n",
       "      <td>Motorized Pump</td>\n",
       "      <td>Improved</td>\n",
       "      <td>Kenya</td>\n",
       "      <td>KEN</td>\n",
       "      <td>Kakamega</td>\n",
       "      <td>...</td>\n",
       "      <td>4.914062</td>\n",
       "      <td>5.804299</td>\n",
       "      <td>11.215961</td>\n",
       "      <td>0.7685</td>\n",
       "      <td>0.77920</td>\n",
       "      <td>0.765850</td>\n",
       "      <td>23.35</td>\n",
       "      <td>23.620</td>\n",
       "      <td>24.402727</td>\n",
       "      <td>10.462028</td>\n",
       "    </tr>\n",
       "    <tr>\n",
       "      <th>1</th>\n",
       "      <td>0.220830</td>\n",
       "      <td>34.565483</td>\n",
       "      <td>Protected Well</td>\n",
       "      <td>Well</td>\n",
       "      <td>Motorized Pump - Electric</td>\n",
       "      <td>Motorized Pump</td>\n",
       "      <td>Improved</td>\n",
       "      <td>Kenya</td>\n",
       "      <td>KEN</td>\n",
       "      <td>Kakamega</td>\n",
       "      <td>...</td>\n",
       "      <td>3.862696</td>\n",
       "      <td>5.864281</td>\n",
       "      <td>11.359583</td>\n",
       "      <td>0.7642</td>\n",
       "      <td>0.77615</td>\n",
       "      <td>0.745817</td>\n",
       "      <td>23.63</td>\n",
       "      <td>23.370</td>\n",
       "      <td>24.260909</td>\n",
       "      <td>6.315442</td>\n",
       "    </tr>\n",
       "    <tr>\n",
       "      <th>2</th>\n",
       "      <td>0.044235</td>\n",
       "      <td>34.339775</td>\n",
       "      <td>Protected Well</td>\n",
       "      <td>Well</td>\n",
       "      <td>Motorized Pump - Electric</td>\n",
       "      <td>Motorized Pump</td>\n",
       "      <td>Improved</td>\n",
       "      <td>Kenya</td>\n",
       "      <td>KEN</td>\n",
       "      <td>Siaya</td>\n",
       "      <td>...</td>\n",
       "      <td>2.113567</td>\n",
       "      <td>2.798805</td>\n",
       "      <td>7.549499</td>\n",
       "      <td>0.7348</td>\n",
       "      <td>0.73455</td>\n",
       "      <td>0.716650</td>\n",
       "      <td>24.89</td>\n",
       "      <td>24.350</td>\n",
       "      <td>24.922000</td>\n",
       "      <td>5.745561</td>\n",
       "    </tr>\n",
       "    <tr>\n",
       "      <th>3</th>\n",
       "      <td>-0.449933</td>\n",
       "      <td>34.794163</td>\n",
       "      <td>Borehole/Tubewell</td>\n",
       "      <td>Well</td>\n",
       "      <td>NaN</td>\n",
       "      <td>NaN</td>\n",
       "      <td>Improved</td>\n",
       "      <td>Kenya</td>\n",
       "      <td>KEN</td>\n",
       "      <td>Homa Bay</td>\n",
       "      <td>...</td>\n",
       "      <td>2.045830</td>\n",
       "      <td>2.790391</td>\n",
       "      <td>7.499787</td>\n",
       "      <td>0.7235</td>\n",
       "      <td>0.73420</td>\n",
       "      <td>0.730017</td>\n",
       "      <td>24.41</td>\n",
       "      <td>24.310</td>\n",
       "      <td>24.433636</td>\n",
       "      <td>3.103306</td>\n",
       "    </tr>\n",
       "    <tr>\n",
       "      <th>4</th>\n",
       "      <td>0.497160</td>\n",
       "      <td>34.831463</td>\n",
       "      <td>Undefined Well</td>\n",
       "      <td>Well</td>\n",
       "      <td>Public Tapstand</td>\n",
       "      <td>Public Tapstand</td>\n",
       "      <td>Improved</td>\n",
       "      <td>Kenya</td>\n",
       "      <td>KEN</td>\n",
       "      <td>Kakamega</td>\n",
       "      <td>...</td>\n",
       "      <td>4.075452</td>\n",
       "      <td>5.655031</td>\n",
       "      <td>9.077165</td>\n",
       "      <td>0.7256</td>\n",
       "      <td>0.74335</td>\n",
       "      <td>0.711867</td>\n",
       "      <td>23.79</td>\n",
       "      <td>23.435</td>\n",
       "      <td>24.326000</td>\n",
       "      <td>7.758868</td>\n",
       "    </tr>\n",
       "  </tbody>\n",
       "</table>\n",
       "<p>5 rows × 54 columns</p>\n",
       "</div>"
      ],
      "text/plain": [
       "    lat_deg    lon_deg water_source_clean water_source_category  \\\n",
       "0  0.174668  34.554572     Protected Well                  Well   \n",
       "1  0.220830  34.565483     Protected Well                  Well   \n",
       "2  0.044235  34.339775     Protected Well                  Well   \n",
       "3 -0.449933  34.794163  Borehole/Tubewell                  Well   \n",
       "4  0.497160  34.831463     Undefined Well                  Well   \n",
       "\n",
       "            water_tech_clean _water_tech_category facility_type  \\\n",
       "0  Motorized Pump - Electric       Motorized Pump      Improved   \n",
       "1  Motorized Pump - Electric       Motorized Pump      Improved   \n",
       "2  Motorized Pump - Electric       Motorized Pump      Improved   \n",
       "3                        NaN                  NaN      Improved   \n",
       "4            Public Tapstand      Public Tapstand      Improved   \n",
       "\n",
       "  clean_country_name clean_country_id clean_adm1  ... chirps_7_precipitation  \\\n",
       "0              Kenya              KEN   Kakamega  ...               4.914062   \n",
       "1              Kenya              KEN   Kakamega  ...               3.862696   \n",
       "2              Kenya              KEN      Siaya  ...               2.113567   \n",
       "3              Kenya              KEN   Homa Bay  ...               2.045830   \n",
       "4              Kenya              KEN   Kakamega  ...               4.075452   \n",
       "\n",
       "  chirps_30_precipitation  chirps_90_precipitation ndvi_7_NDVI ndvi_30_NDVI  \\\n",
       "0                5.804299                11.215961      0.7685      0.77920   \n",
       "1                5.864281                11.359583      0.7642      0.77615   \n",
       "2                2.798805                 7.549499      0.7348      0.73455   \n",
       "3                2.790391                 7.499787      0.7235      0.73420   \n",
       "4                5.655031                 9.077165      0.7256      0.74335   \n",
       "\n",
       "   ndvi_90_NDVI  lst_7_LST_Day_1km  lst_30_LST_Day_1km  lst_90_LST_Day_1km  \\\n",
       "0      0.765850              23.35              23.620           24.402727   \n",
       "1      0.745817              23.63              23.370           24.260909   \n",
       "2      0.716650              24.89              24.350           24.922000   \n",
       "3      0.730017              24.41              24.310           24.433636   \n",
       "4      0.711867              23.79              23.435           24.326000   \n",
       "\n",
       "   pop_population  \n",
       "0       10.462028  \n",
       "1        6.315442  \n",
       "2        5.745561  \n",
       "3        3.103306  \n",
       "4        7.758868  \n",
       "\n",
       "[5 rows x 54 columns]"
      ]
     },
     "execution_count": 50,
     "metadata": {},
     "output_type": "execute_result"
    }
   ],
   "source": [
    "# Drop columns with 0 usable data\n",
    "drop_cols = [\n",
    "    'clean_adm4', 'rehab_year', 'rehabilitator',\n",
    "    'fecal_coliform_presence', 'fecal_coliform_value',\n",
    "    'scheme_id', 'pay_clean', 'pay', 'notes', 'orig_lnk',\n",
    "    'is_duplicate', 'photo_lnk', 'installer', 'converted',\n",
    "    'subjective_quality', 'subjective_quality_clean'\n",
    "]\n",
    "\n",
    "# Drop metadata or duplicative fields\n",
    "meta_cols = [\n",
    "    'report_date', 'row_id', 'source', 'activity_id', 'pt_id', 'data_lnk',\n",
    "    'country_id', 'status_id', 'new_georeferenced_column_',\n",
    "    'lat_lon_deg', 'created_timestamp', 'updated', 'dataset_title',\n",
    "    'water_point_history', 'orig_lnk', 'photo_lnk', 'public_data_source'\n",
    "]\n",
    "df.drop(columns=drop_cols + meta_cols, inplace=True, errors='ignore')\n",
    "\n",
    "df.head()"
   ]
  },
  {
   "cell_type": "code",
   "execution_count": 51,
   "id": "d77cc6de",
   "metadata": {},
   "outputs": [
    {
     "name": "stdout",
     "output_type": "stream",
     "text": [
      "<class 'pandas.core.frame.DataFrame'>\n",
      "RangeIndex: 21368 entries, 0 to 21367\n",
      "Data columns (total 54 columns):\n",
      " #   Column                      Non-Null Count  Dtype  \n",
      "---  ------                      --------------  -----  \n",
      " 0   lat_deg                     21368 non-null  float64\n",
      " 1   lon_deg                     21368 non-null  float64\n",
      " 2   water_source_clean          21342 non-null  object \n",
      " 3   water_source_category       21342 non-null  object \n",
      " 4   water_tech_clean            15937 non-null  object \n",
      " 5   _water_tech_category        15787 non-null  object \n",
      " 6   facility_type               21368 non-null  object \n",
      " 7   clean_country_name          21368 non-null  object \n",
      " 8   clean_country_id            21368 non-null  object \n",
      " 9   clean_adm1                  21368 non-null  object \n",
      " 10  clean_adm2                  21368 non-null  object \n",
      " 11  clean_adm3                  21368 non-null  object \n",
      " 12  install_year                6403 non-null   float64\n",
      " 13  management_clean            6398 non-null   object \n",
      " 14  status_clean                21368 non-null  object \n",
      " 15  distance_to_primary         21368 non-null  float64\n",
      " 16  distance_to_secondary       21368 non-null  float64\n",
      " 17  distance_to_tertiary        21368 non-null  float64\n",
      " 18  distance_to_city            21358 non-null  float64\n",
      " 19  distance_to_town            21368 non-null  float64\n",
      " 20  local_population            21166 non-null  float64\n",
      " 21  served_population           21166 non-null  float64\n",
      " 22  rehab_priority              2531 non-null   float64\n",
      " 23  _pop_who_would_gain_access  2469 non-null   float64\n",
      " 24  crucialness                 21146 non-null  float64\n",
      " 25  pressure                    20930 non-null  float64\n",
      " 26  usage_cap                   21122 non-null  float64\n",
      " 27  days_since_report           21368 non-null  int64  \n",
      " 28  staleness_score             21368 non-null  float64\n",
      " 29  is_latest                   21368 non-null  bool   \n",
      " 30  location_id                 21368 non-null  int64  \n",
      " 31  is_urban                    21368 non-null  bool   \n",
      " 32  cluster_size                21368 non-null  int64  \n",
      " 33  country_name                21354 non-null  object \n",
      " 34  water_source                21349 non-null  object \n",
      " 35  water_tech                  6537 non-null   object \n",
      " 36  status                      6457 non-null   object \n",
      " 37  adm1                        20767 non-null  object \n",
      " 38  adm2                        20224 non-null  object \n",
      " 39  adm3                        20057 non-null  object \n",
      " 40  management                  6408 non-null   object \n",
      " 41  count                       21368 non-null  int64  \n",
      " 42  latitude                    21368 non-null  float64\n",
      " 43  longitude                   21368 non-null  float64\n",
      " 44  chirps_7_precipitation      21368 non-null  float64\n",
      " 45  chirps_30_precipitation     21368 non-null  float64\n",
      " 46  chirps_90_precipitation     21368 non-null  float64\n",
      " 47  ndvi_7_NDVI                 21368 non-null  float64\n",
      " 48  ndvi_30_NDVI                21368 non-null  float64\n",
      " 49  ndvi_90_NDVI                21368 non-null  float64\n",
      " 50  lst_7_LST_Day_1km           21201 non-null  float64\n",
      " 51  lst_30_LST_Day_1km          21368 non-null  float64\n",
      " 52  lst_90_LST_Day_1km          21368 non-null  float64\n",
      " 53  pop_population              21355 non-null  float64\n",
      "dtypes: bool(2), float64(28), int64(4), object(20)\n",
      "memory usage: 8.5+ MB\n"
     ]
    }
   ],
   "source": [
    "df.info()\n"
   ]
  },
  {
   "cell_type": "code",
   "execution_count": 52,
   "id": "358babe0",
   "metadata": {},
   "outputs": [
    {
     "name": "stdout",
     "output_type": "stream",
     "text": [
      "Remaining missing values per column:\n",
      "lat_deg                    0\n",
      "latitude                   0\n",
      "location_id                0\n",
      "is_urban                   0\n",
      "cluster_size               0\n",
      "country_name               0\n",
      "water_source               0\n",
      "adm1                       0\n",
      "adm2                       0\n",
      "adm3                       0\n",
      "count                      0\n",
      "longitude                  0\n",
      "staleness_score            0\n",
      "chirps_7_precipitation     0\n",
      "chirps_30_precipitation    0\n",
      "chirps_90_precipitation    0\n",
      "ndvi_7_NDVI                0\n",
      "ndvi_30_NDVI               0\n",
      "ndvi_90_NDVI               0\n",
      "lst_7_LST_Day_1km          0\n",
      "lst_30_LST_Day_1km         0\n",
      "lst_90_LST_Day_1km         0\n",
      "is_latest                  0\n",
      "days_since_report          0\n",
      "lon_deg                    0\n",
      "clean_adm3                 0\n",
      "water_source_clean         0\n",
      "water_source_category      0\n",
      "water_tech_clean           0\n",
      "_water_tech_category       0\n",
      "facility_type              0\n",
      "clean_country_name         0\n",
      "clean_country_id           0\n",
      "clean_adm1                 0\n",
      "clean_adm2                 0\n",
      "status_clean               0\n",
      "usage_cap                  0\n",
      "distance_to_primary        0\n",
      "distance_to_secondary      0\n",
      "distance_to_tertiary       0\n",
      "distance_to_city           0\n",
      "distance_to_town           0\n",
      "local_population           0\n",
      "served_population          0\n",
      "crucialness                0\n",
      "pressure                   0\n",
      "pop_population             0\n",
      "dtype: int64\n"
     ]
    }
   ],
   "source": [
    "# Drop high-missing-value columns (> 30% missing)\n",
    "high_missing_cols = df.isnull().mean()\n",
    "drop_cols = high_missing_cols[high_missing_cols > 0.3].index\n",
    "\n",
    "df = df.drop(columns=drop_cols)\n",
    "\n",
    "# Drop rows missing critical categorical columns\n",
    "essential_cat_cols = [\n",
    "    'water_source_clean',\n",
    "    'water_source_category',\n",
    "    'water_tech_clean',\n",
    "    '_water_tech_category',\n",
    "    'facility_type'\n",
    "]\n",
    "\n",
    "df = df.dropna(subset=essential_cat_cols)\n",
    "\n",
    "# Fill missing values in numeric columns with the median\n",
    "num_cols = df.select_dtypes(include=['float64', 'int64']).columns\n",
    "df[num_cols] = df[num_cols].fillna(df[num_cols].median())\n",
    "\n",
    "# Fill missing values in categorical columns with the mode\n",
    "cat_cols = df.select_dtypes(include='object').columns\n",
    "\n",
    "for col in cat_cols:\n",
    "    if df[col].isnull().any():\n",
    "        df[col] = df[col].fillna(df[col].mode()[0])\n",
    "\n",
    "# Final check\n",
    "print(\"Remaining missing values per column:\")\n",
    "print(df.isnull().sum().sort_values(ascending=False))\n"
   ]
  },
  {
   "cell_type": "code",
   "execution_count": 53,
   "id": "fd11be5f",
   "metadata": {},
   "outputs": [
    {
     "data": {
      "text/html": [
       "<div>\n",
       "<style scoped>\n",
       "    .dataframe tbody tr th:only-of-type {\n",
       "        vertical-align: middle;\n",
       "    }\n",
       "\n",
       "    .dataframe tbody tr th {\n",
       "        vertical-align: top;\n",
       "    }\n",
       "\n",
       "    .dataframe thead th {\n",
       "        text-align: right;\n",
       "    }\n",
       "</style>\n",
       "<table border=\"1\" class=\"dataframe\">\n",
       "  <thead>\n",
       "    <tr style=\"text-align: right;\">\n",
       "      <th></th>\n",
       "      <th>lat_deg</th>\n",
       "      <th>lon_deg</th>\n",
       "      <th>water_source_clean</th>\n",
       "      <th>water_source_category</th>\n",
       "      <th>water_tech_clean</th>\n",
       "      <th>_water_tech_category</th>\n",
       "      <th>facility_type</th>\n",
       "      <th>clean_country_name</th>\n",
       "      <th>clean_country_id</th>\n",
       "      <th>clean_adm1</th>\n",
       "      <th>...</th>\n",
       "      <th>chirps_7_precipitation</th>\n",
       "      <th>chirps_30_precipitation</th>\n",
       "      <th>chirps_90_precipitation</th>\n",
       "      <th>ndvi_7_NDVI</th>\n",
       "      <th>ndvi_30_NDVI</th>\n",
       "      <th>ndvi_90_NDVI</th>\n",
       "      <th>lst_7_LST_Day_1km</th>\n",
       "      <th>lst_30_LST_Day_1km</th>\n",
       "      <th>lst_90_LST_Day_1km</th>\n",
       "      <th>pop_population</th>\n",
       "    </tr>\n",
       "  </thead>\n",
       "  <tbody>\n",
       "    <tr>\n",
       "      <th>0</th>\n",
       "      <td>0.174668</td>\n",
       "      <td>34.554572</td>\n",
       "      <td>Protected Well</td>\n",
       "      <td>Well</td>\n",
       "      <td>Motorized Pump - Electric</td>\n",
       "      <td>Motorized Pump</td>\n",
       "      <td>Improved</td>\n",
       "      <td>Kenya</td>\n",
       "      <td>KEN</td>\n",
       "      <td>Kakamega</td>\n",
       "      <td>...</td>\n",
       "      <td>4.914062</td>\n",
       "      <td>5.804299</td>\n",
       "      <td>11.215961</td>\n",
       "      <td>0.7685</td>\n",
       "      <td>0.77920</td>\n",
       "      <td>0.765850</td>\n",
       "      <td>23.35</td>\n",
       "      <td>23.620</td>\n",
       "      <td>24.402727</td>\n",
       "      <td>10.462028</td>\n",
       "    </tr>\n",
       "    <tr>\n",
       "      <th>1</th>\n",
       "      <td>0.220830</td>\n",
       "      <td>34.565483</td>\n",
       "      <td>Protected Well</td>\n",
       "      <td>Well</td>\n",
       "      <td>Motorized Pump - Electric</td>\n",
       "      <td>Motorized Pump</td>\n",
       "      <td>Improved</td>\n",
       "      <td>Kenya</td>\n",
       "      <td>KEN</td>\n",
       "      <td>Kakamega</td>\n",
       "      <td>...</td>\n",
       "      <td>3.862696</td>\n",
       "      <td>5.864281</td>\n",
       "      <td>11.359583</td>\n",
       "      <td>0.7642</td>\n",
       "      <td>0.77615</td>\n",
       "      <td>0.745817</td>\n",
       "      <td>23.63</td>\n",
       "      <td>23.370</td>\n",
       "      <td>24.260909</td>\n",
       "      <td>6.315442</td>\n",
       "    </tr>\n",
       "    <tr>\n",
       "      <th>2</th>\n",
       "      <td>0.044235</td>\n",
       "      <td>34.339775</td>\n",
       "      <td>Protected Well</td>\n",
       "      <td>Well</td>\n",
       "      <td>Motorized Pump - Electric</td>\n",
       "      <td>Motorized Pump</td>\n",
       "      <td>Improved</td>\n",
       "      <td>Kenya</td>\n",
       "      <td>KEN</td>\n",
       "      <td>Siaya</td>\n",
       "      <td>...</td>\n",
       "      <td>2.113567</td>\n",
       "      <td>2.798805</td>\n",
       "      <td>7.549499</td>\n",
       "      <td>0.7348</td>\n",
       "      <td>0.73455</td>\n",
       "      <td>0.716650</td>\n",
       "      <td>24.89</td>\n",
       "      <td>24.350</td>\n",
       "      <td>24.922000</td>\n",
       "      <td>5.745561</td>\n",
       "    </tr>\n",
       "    <tr>\n",
       "      <th>4</th>\n",
       "      <td>0.497160</td>\n",
       "      <td>34.831463</td>\n",
       "      <td>Undefined Well</td>\n",
       "      <td>Well</td>\n",
       "      <td>Public Tapstand</td>\n",
       "      <td>Public Tapstand</td>\n",
       "      <td>Improved</td>\n",
       "      <td>Kenya</td>\n",
       "      <td>KEN</td>\n",
       "      <td>Kakamega</td>\n",
       "      <td>...</td>\n",
       "      <td>4.075452</td>\n",
       "      <td>5.655031</td>\n",
       "      <td>9.077165</td>\n",
       "      <td>0.7256</td>\n",
       "      <td>0.74335</td>\n",
       "      <td>0.711867</td>\n",
       "      <td>23.79</td>\n",
       "      <td>23.435</td>\n",
       "      <td>24.326000</td>\n",
       "      <td>7.758868</td>\n",
       "    </tr>\n",
       "    <tr>\n",
       "      <th>5</th>\n",
       "      <td>0.134735</td>\n",
       "      <td>34.687273</td>\n",
       "      <td>Protected Well</td>\n",
       "      <td>Well</td>\n",
       "      <td>Public Tapstand</td>\n",
       "      <td>Public Tapstand</td>\n",
       "      <td>Improved</td>\n",
       "      <td>Kenya</td>\n",
       "      <td>KEN</td>\n",
       "      <td>Kakamega</td>\n",
       "      <td>...</td>\n",
       "      <td>5.567590</td>\n",
       "      <td>5.462062</td>\n",
       "      <td>10.701967</td>\n",
       "      <td>0.7659</td>\n",
       "      <td>0.77880</td>\n",
       "      <td>0.763500</td>\n",
       "      <td>23.73</td>\n",
       "      <td>23.325</td>\n",
       "      <td>24.079091</td>\n",
       "      <td>9.620794</td>\n",
       "    </tr>\n",
       "  </tbody>\n",
       "</table>\n",
       "<p>5 rows × 47 columns</p>\n",
       "</div>"
      ],
      "text/plain": [
       "    lat_deg    lon_deg water_source_clean water_source_category  \\\n",
       "0  0.174668  34.554572     Protected Well                  Well   \n",
       "1  0.220830  34.565483     Protected Well                  Well   \n",
       "2  0.044235  34.339775     Protected Well                  Well   \n",
       "4  0.497160  34.831463     Undefined Well                  Well   \n",
       "5  0.134735  34.687273     Protected Well                  Well   \n",
       "\n",
       "            water_tech_clean _water_tech_category facility_type  \\\n",
       "0  Motorized Pump - Electric       Motorized Pump      Improved   \n",
       "1  Motorized Pump - Electric       Motorized Pump      Improved   \n",
       "2  Motorized Pump - Electric       Motorized Pump      Improved   \n",
       "4            Public Tapstand      Public Tapstand      Improved   \n",
       "5            Public Tapstand      Public Tapstand      Improved   \n",
       "\n",
       "  clean_country_name clean_country_id clean_adm1  ... chirps_7_precipitation  \\\n",
       "0              Kenya              KEN   Kakamega  ...               4.914062   \n",
       "1              Kenya              KEN   Kakamega  ...               3.862696   \n",
       "2              Kenya              KEN      Siaya  ...               2.113567   \n",
       "4              Kenya              KEN   Kakamega  ...               4.075452   \n",
       "5              Kenya              KEN   Kakamega  ...               5.567590   \n",
       "\n",
       "  chirps_30_precipitation chirps_90_precipitation  ndvi_7_NDVI  ndvi_30_NDVI  \\\n",
       "0                5.804299               11.215961       0.7685       0.77920   \n",
       "1                5.864281               11.359583       0.7642       0.77615   \n",
       "2                2.798805                7.549499       0.7348       0.73455   \n",
       "4                5.655031                9.077165       0.7256       0.74335   \n",
       "5                5.462062               10.701967       0.7659       0.77880   \n",
       "\n",
       "   ndvi_90_NDVI  lst_7_LST_Day_1km  lst_30_LST_Day_1km  lst_90_LST_Day_1km  \\\n",
       "0      0.765850              23.35              23.620           24.402727   \n",
       "1      0.745817              23.63              23.370           24.260909   \n",
       "2      0.716650              24.89              24.350           24.922000   \n",
       "4      0.711867              23.79              23.435           24.326000   \n",
       "5      0.763500              23.73              23.325           24.079091   \n",
       "\n",
       "   pop_population  \n",
       "0       10.462028  \n",
       "1        6.315442  \n",
       "2        5.745561  \n",
       "4        7.758868  \n",
       "5        9.620794  \n",
       "\n",
       "[5 rows x 47 columns]"
      ]
     },
     "execution_count": 53,
     "metadata": {},
     "output_type": "execute_result"
    }
   ],
   "source": [
    "df_cleaned = df.copy()\n",
    "\n",
    "df_cleaned.head()"
   ]
  },
  {
   "cell_type": "code",
   "execution_count": 54,
   "id": "74504632",
   "metadata": {},
   "outputs": [
    {
     "data": {
      "text/plain": [
       "(15761, 47)"
      ]
     },
     "execution_count": 54,
     "metadata": {},
     "output_type": "execute_result"
    }
   ],
   "source": [
    "df_cleaned.shape"
   ]
  },
  {
   "cell_type": "code",
   "execution_count": 55,
   "id": "36992da1",
   "metadata": {},
   "outputs": [
    {
     "name": "stdout",
     "output_type": "stream",
     "text": [
      "lat_deg                    float64\n",
      "lon_deg                    float64\n",
      "water_source_clean          object\n",
      "water_source_category       object\n",
      "water_tech_clean            object\n",
      "_water_tech_category        object\n",
      "facility_type               object\n",
      "clean_country_name          object\n",
      "clean_country_id            object\n",
      "clean_adm1                  object\n",
      "clean_adm2                  object\n",
      "clean_adm3                  object\n",
      "status_clean                object\n",
      "distance_to_primary        float64\n",
      "distance_to_secondary      float64\n",
      "distance_to_tertiary       float64\n",
      "distance_to_city           float64\n",
      "distance_to_town           float64\n",
      "local_population           float64\n",
      "served_population          float64\n",
      "crucialness                float64\n",
      "pressure                   float64\n",
      "usage_cap                  float64\n",
      "days_since_report            int64\n",
      "staleness_score            float64\n",
      "is_latest                     bool\n",
      "location_id                  int64\n",
      "is_urban                      bool\n",
      "cluster_size                 int64\n",
      "country_name                object\n",
      "water_source                object\n",
      "adm1                        object\n",
      "adm2                        object\n",
      "adm3                        object\n",
      "count                        int64\n",
      "latitude                   float64\n",
      "longitude                  float64\n",
      "chirps_7_precipitation     float64\n",
      "chirps_30_precipitation    float64\n",
      "chirps_90_precipitation    float64\n",
      "ndvi_7_NDVI                float64\n",
      "ndvi_30_NDVI               float64\n",
      "ndvi_90_NDVI               float64\n",
      "lst_7_LST_Day_1km          float64\n",
      "lst_30_LST_Day_1km         float64\n",
      "lst_90_LST_Day_1km         float64\n",
      "pop_population             float64\n",
      "dtype: object\n"
     ]
    }
   ],
   "source": [
    "print(df_cleaned.dtypes)\n"
   ]
  },
  {
   "cell_type": "code",
   "execution_count": 56,
   "id": "433588bf",
   "metadata": {},
   "outputs": [
    {
     "name": "stdout",
     "output_type": "stream",
     "text": [
      "\n",
      "Column: water_source_clean\n",
      "['Protected Well' 'Undefined Well' 'Borehole/Tubewell' 'Piped Water'\n",
      " 'Sand or Sub-surface Dam' 'Unprotected Well' 'Rainwater Harvesting'\n",
      " 'Protected Spring' 'Delivered Water']\n",
      "\n",
      "Column: water_source_category\n",
      "['Well' 'Piped Water' 'Sand or Sub-surface Dam' 'Rainwater Harvesting'\n",
      " 'Spring' 'Delivered Water']\n",
      "\n",
      "Column: water_tech_clean\n",
      "['Motorized Pump - Electric' 'Public Tapstand' 'Motorized Pump'\n",
      " 'Hand Pump - Afridev' 'Hand Pump' 'Hand Pump - India Mark'\n",
      " 'Hand Pump - Nira' 'Hand Pump - Blue' 'Hand Pump - Tara'\n",
      " 'Rope and Bucket' 'Motorized Pump - Diesel' 'Hand Pump - Rope'\n",
      " 'Hand Pump - SWN 80']\n",
      "\n",
      "Column: _water_tech_category\n",
      "['Motorized Pump' 'Public Tapstand' 'Hand Pump' 'Rope and Bucket']\n",
      "\n",
      "Column: facility_type\n",
      "['Improved' 'Improved - Other']\n",
      "\n",
      "Column: clean_country_name\n",
      "['Kenya']\n",
      "\n",
      "Column: clean_country_id\n",
      "['KEN']\n",
      "\n",
      "Column: clean_adm1\n",
      "['Kakamega' 'Siaya' 'Migori' 'Makueni' 'Busia' 'Kiambu' 'Embu' 'Kisumu'\n",
      " 'Nyamira' 'Vihiga' 'Samburu' 'Homa Bay' 'Bungoma' 'Kajiado' 'Kisii'\n",
      " 'Marsabit' 'Baringo' 'Trans Nzoia' 'Nandi' 'Nakuru' 'West Pokot' 'Kitui'\n",
      " 'Narok' 'Turkana' 'Uasin Gishu' 'Nairobi' 'Machakos' 'Garissa']\n",
      "\n",
      "Column: clean_adm2\n",
      "['Khwisero' 'Butere' 'Alego Usonga' 'Malava' 'Ikolomani' 'Suna East'\n",
      " 'Makueni' 'Butula' 'Gem' 'Ruiru' 'Mbeere South' 'Ugenya' 'Seme' 'Matungu'\n",
      " 'West Mugirango' 'Kuria East' 'Vihiga' 'Navakholo' 'Funyula' 'Hamisi'\n",
      " 'Samburu West' 'Lugari' 'Limuru' 'Kibwezi East' 'Nyatike' 'Ndhiwa'\n",
      " 'Runyenjes' 'Budalangi' 'Thika Town' 'North Mugirango' 'Mbooni' 'Borabu'\n",
      " 'Kanduyi' 'Teso South' 'Suba' 'Suna West' 'Kuria West' 'Luanda'\n",
      " 'Likuyani' 'Tongaren' 'Matayos' 'Bumula' 'Shinyalu' 'Ugunja' 'Lurambi'\n",
      " 'Nyando' 'Rongo' 'Teso North' 'Kitutu Masaba' 'Nambale' 'Kisumu Central'\n",
      " 'Juja' 'Rangwe' 'Kaiti' 'Kajiado South' 'Uriri' 'Kisumu East' 'Sabatia'\n",
      " 'Kisumu West' 'Gatundu South' 'Kibwezi West' 'Kitutu Chache South'\n",
      " 'Kabondo Kasipul' 'Saku' 'Kabete' 'Awendo' 'Muhoroni' 'Mumias West'\n",
      " 'Kasipul' 'Nyakach' 'Webuye East' 'Tiaty' 'Kilome' 'Emuhaya' 'Cherangany'\n",
      " 'Bondo' 'Mumias East' 'Kajiado West' 'Githunguri' 'Laisamis' 'Aldai'\n",
      " 'Rarieda' 'Rongai' 'Manyatta' 'Sigor' 'Kabuchai' 'Kitui South' 'Lari'\n",
      " 'Samburu North' 'Kiminini' 'Webute West' 'Kikuyu' 'Kilgoris' 'Mbita'\n",
      " 'Kiambu' 'Kajiado Central' 'Homa Bay Town' 'Turkana West' 'Soy' 'Turbo'\n",
      " 'Kajiado East' 'Sirisia' 'Kimilili' 'Samburu East' 'Mwingi North'\n",
      " 'Kitutu Chache North' 'Kajiado North' 'Dagoretti South' 'Kiambaa'\n",
      " 'South Mugirango' 'Mwala' 'Fafi' 'Bobasi' 'Daadab' 'Nyaribari Chache'\n",
      " 'Nyaribari Masaba' 'North Horr' 'Mosop']\n",
      "\n",
      "Column: clean_adm3\n",
      "['Kisa Central' 'Marama North' 'South East Alego' 'Butali/Chegulo'\n",
      " 'Idakho South' 'Suna Central' 'Mbitini' 'Marachi Central' 'North Gem'\n",
      " 'Gitothua' 'Mbeti South' 'East Ugenya' 'Central Seme' 'Koyonzo'\n",
      " 'Marachi East' 'Bosamaro' 'Nyabasi East' 'Mungoma' 'Bunyala Central'\n",
      " \"Ageng'A Nanguba\" 'Tambua' 'Yala Township' 'Lodokejek' 'Shiru'\n",
      " 'Shamakhokho' 'Chevaywa' 'Nzaui/Kilili/Kalamba' 'Marenyo - Shianda'\n",
      " 'Ngecha Tigoni' 'Ivingoni/Nzambani' \"Kachien'G\" 'Kanyamwa Kosewe'\n",
      " 'Marama Central' 'Central Ward' 'Bunyala North' 'Kamenu' 'Itibo'\n",
      " 'Bunyala East' 'Idakho North' 'Mbooni' 'Kiabonyoru' 'Musikoma'\n",
      " 'Chakol South' 'Kisa East' 'Kwa' 'Township' 'Ruma-Kaksingri' 'Wasweta Ii'\n",
      " 'Mavindini' 'Kanyamwa Kologi' 'Bukira Centrl/Ikerege' 'Central Maragoli'\n",
      " 'Mwibona' 'Nangina' 'Kongoni' 'Mbakalo' 'Nzoia' 'Masongaleni'\n",
      " 'Matayos South' 'Nyansiongo' 'Kabula' 'Masaba' 'Isukha South'\n",
      " 'Isukha North' 'Likuyani' 'South Kabras' 'Marama West' 'Sigomere'\n",
      " 'Butsotso East' 'Butsotso Central' 'Ahero' 'Bukhayo West'\n",
      " 'South Kamagambo' \"Ang'Urai East\" 'North Ugenya' 'Nyamaiya' 'West Kabras'\n",
      " 'Chakol North' 'Ukwala' 'Marachi North' 'North Alego' 'Bumula'\n",
      " \"East Sang'Alo\" 'Kemera' 'Naitiri/Kabuyefwe' \"Ang'Urai North\" 'Kobura'\n",
      " 'Nambale Township' 'Kiteta/Kisau' 'Khalaba' 'Nyalenda B'\n",
      " 'Amukura Central' 'Murera' 'Kagan' 'Ukia' 'Kimana' 'North Kanyamkago'\n",
      " 'Gwassi South' 'Marama South' \"Manyatta 'B'\" 'Chavakali' 'Isukha Central'\n",
      " 'Rigoma' 'Ingostse-Mathia' 'West Kisumu' 'Manda-Shivanga' 'Kathonzweni'\n",
      " 'Gokeharaka/Getambwega' 'Thange' 'Kiganjo' 'Bukira East'\n",
      " 'South West Kisumu' 'Isukha East' 'Nguu/Masumba' 'Bogusero' 'Busali'\n",
      " 'West Alego' 'Kaksingri West' 'Kalawa' 'Central Gem' 'Muhudu'\n",
      " 'Muvau/Kikuumini' 'East Kabras' 'North Kamagambo' 'Rombo' 'Kabondo East'\n",
      " 'Kisa West' 'Marsabit Central' 'Gitaru' 'West Sakwa' 'Murhanda'\n",
      " 'Kolwa East' 'East Kano/Wawidhi' 'Ombeyi' 'Mumias Central' 'Milima'\n",
      " 'Lwandeti' 'Gisambai' 'Kuku' 'Kitise/Kithuki' 'Banja' 'West Gem'\n",
      " 'South Kasipul' 'South West Nyakach' 'Ndivisi' 'Kolowa' 'Bomwagamo'\n",
      " 'Chemuche' 'Kiima Kiu/Kalanzoni' 'Mwea' 'Chekalini' 'Kalimoni'\n",
      " 'South Sakwa' 'West Bunyore' 'Bunyala West' 'Sidindi' 'Tongaren' 'Mukaa'\n",
      " 'Sinyerere' 'Kiambere' 'Bukhayo East' 'East Kanyamkago' 'Bukhayo Central'\n",
      " 'North Sakwa' 'Lusheya/Lubinu' 'Marachi West' 'Poro' 'Gesima'\n",
      " \"Ang'Urai South\" 'Keekonyokie' 'Suguta Marmar' 'Bogichora' 'Mahiakalo'\n",
      " 'West Seme' 'Kisa North' 'Kolwa Central' 'Malaba South' 'Tagare'\n",
      " 'Namamali' 'East Gem' 'Kholera' 'Kagaari North' 'Githunguri'\n",
      " 'West Kanyamkago' \"Ang'Orom\" 'Jepkoyai' 'Central Sakwa' 'Ilima' 'Sango'\n",
      " 'Kanyikela' 'Idakho Central' 'Kaplamai' 'Malaba North' 'Kargi/South Horr'\n",
      " 'West Nyakach' 'North Seme' 'Central Kanyamkago' 'Malaba Central'\n",
      " 'Makindu' 'Makima' 'Terik' 'Gachuba' 'North Maragoli' 'Korr/Ngurunit'\n",
      " 'Sheywe' 'East Asembo' 'Wote' 'Solai' 'Siaya Township' 'Kingandole'\n",
      " 'Mavuria' 'South Kanyamkago' 'Kikumbulyu North' 'South Maragoli'\n",
      " 'Butsotso South' 'Central Bunyore' 'Mbeti North' 'West Kamagak'\n",
      " 'Tulimani' 'Cherangany/Suwerwa' 'Kee' 'Kakrao' 'Burumba' 'Sekerr'\n",
      " 'West Nalondo' 'Kanziko' 'Nyabasi West' 'Idakho East' 'Emali/Mulala'\n",
      " 'Mtito Andei' 'Lumakanda' 'Emabungo' 'Lari/Kirenga' 'Miwani' 'Mukuyuni'\n",
      " 'Mautuma' 'Kojwach' 'Bwake/Luuya' 'Magombo' 'Nachola' 'Gwassi North'\n",
      " 'Ugunja' 'Amukura West' 'West Sabatia' 'North West Kisumu' 'Sikhendu'\n",
      " 'Esise' 'Baawa' 'Misikhu' 'Lyaduywa/Izava' 'Isukha West' 'Shirere'\n",
      " 'Kasikeu' 'Nachu' 'Marakaru/Tuuti' 'Bwiri' 'Lugaga-Wamuluma' 'Wiga'\n",
      " 'God Jope' 'Kwabwai' 'Kimintet' 'Central Kamagambo' 'South East Nyakach'\n",
      " 'Kithimu' 'Ndeiya' 'Rusinga Island' 'Central Alego' 'Bunyala South'\n",
      " 'Ndumberi' 'Kyeni South' 'Ndalu/ Tabani' 'Purko' 'Matapato North'\n",
      " 'Muhoroni/Koru' 'Shinoyi-Shikomari-Esumeyia' 'Luanda South'\n",
      " 'Central Nyakach' 'Motosiet' 'Gaturi North' 'Kithungo/Kitundu'\n",
      " 'East Wanga' 'Bokoli' 'Isibania' 'Railways' 'Nguumo'\n",
      " 'Bukhayo North/Waltsi' 'Mihuu' 'Maralal' 'Ragana-Oruba' 'Elugulu'\n",
      " 'Kisumu North' 'East Seme' 'Sigona' 'Kabondo West' 'Namboboto Nambuku'\n",
      " 'Amukura East' 'Kikumbulyu South' 'Kajulu' 'Lugari' 'South Gem'\n",
      " 'Ntimaru West' 'Homa Bay East' 'Sitatunga' \"Masogo/Nyang'Oma\" 'Mayoni'\n",
      " 'Kemeloi-Maraba' 'West Kasipul' 'Kakuma' 'Kipsomba' 'North Nyakach'\n",
      " 'Sitikho' 'Ngenyilel' 'Kagaari South' 'Lambwe' 'Ribkwo'\n",
      " 'Nyamosense/Komosoko' 'Mbirikani/Eselenkei' 'Malaha/Isongo/Makunga'\n",
      " 'North East Bunyore' 'Imaroro' 'Central Kisumu' 'East Kamagambo'\n",
      " 'Malakisi/South Kulisiru' 'Shirugu-Mugai' 'Kasgunga' 'Wodanga'\n",
      " 'Mumias North' 'Soysambu/ Mitua' 'Chemelil' 'Namwela' 'Nyiro'\n",
      " 'Limuru East' 'Kokwanyo/Kakelo' 'Kamukuywa' 'Etenje' 'Wasimbete' 'Kiuu'\n",
      " 'Kilungu' 'Sirende' 'Kondele' 'Waitaluk' 'Limuru Central' 'Kirimari'\n",
      " 'Waso' 'Bibirioni' \"Nyalenda 'A'\" 'Waia-Kako' 'Sinoko' 'Entonet/Lenkisim'\n",
      " 'Central Kasipul' 'Gembe' 'Mayenje' 'Homa Bay West' 'Mfangano Island'\n",
      " 'Magwagwa' 'Kiamwangi' 'Wamba East' 'East Kamagak' 'Wamba West'\n",
      " 'Tseikuru' 'Marani' 'Kabonyo/Kanyagwal' 'Olkeri' 'Kikuyu' 'Letea'\n",
      " 'Uthiru/Ruthimitu' 'Busibwabo' 'Kiminini' 'Nabiswa' 'Kabwareng' 'Karuri'\n",
      " 'Homa Bay Central' 'Bogetenga' 'Kibingei' 'Nyatieko' 'Kihara'\n",
      " 'West Ugenya' 'Juja' 'Kabuoch South/Pala' 'Bonyamatuta' 'Kibauni'\n",
      " 'Jarajila' 'Market Milimani' 'Kabuoch North' 'Basi Bogetaorio' 'Bokeira'\n",
      " 'Mekenene' 'Makerero' 'Manga' 'North Uyoma' 'Khasoko' 'El-Barta'\n",
      " 'South Bukusu' 'Musanda' \"West Sang'Alo\" 'Kimaeti' 'Kinoo'\n",
      " 'Chepsiro/Kiptoror' 'Ziwa' 'Labasigale' 'Muchatha' 'North Kadem' 'Silale'\n",
      " 'Kochia' 'Matulo' 'Kapkures' 'Bobaracho' 'Homa Bay Arujo' 'Ichuni'\n",
      " 'Makutano' 'Maikona' 'Kabete' 'Nyadhuna' \"Moi'S Bridge\" 'Angata Nanyokie'\n",
      " 'Kabuchai/Chwele' 'Soy' 'Churo/Amaya' 'Kyeni North' 'Karai' 'Lwandanyi'\n",
      " 'Usonga' 'Tirioko' 'Ildamat' 'Sangalo/Kebulonik' 'West Asembo']\n",
      "\n",
      "Column: status_clean\n",
      "['Non-Functional' 'Non-Functional, dry season' 'Functional, not in use'\n",
      " 'Functional' 'Functional, needs repair' 'Abandoned/Decommissioned']\n",
      "\n",
      "Column: country_name\n",
      "['Kenya']\n",
      "\n",
      "Column: water_source\n",
      "['Protected Spring (not powered by solar/electricity)'\n",
      " 'Protected hand dug/ shallow well' 'Protected spring' 'Borehole'\n",
      " 'Tube well or borehole' 'Tubewell or borehole' 'Protected dug well'\n",
      " 'Others (eg Public tap/standpipe)' 'Mechanized Borehole'\n",
      " 'Sand/Sub-surface dam (with well or standpipe)'\n",
      " 'F. Protected dug well with hand pump' 'Unprotected spring'\n",
      " 'Public tap/standpipe (stand alone or water kiosk'\n",
      " 'E. Borehole with hand pump' 'Hand Dug Well'\n",
      " 'Piped/ bulk supply water from WSP' 'Sand or Sub-surface dam'\n",
      " 'Gravity-fed communal standpipe' 'Borehole powered by solar/ electricity'\n",
      " 'Wells' 'Rain water' 'Protected Spring' 'Sand/Sub-surface dam'\n",
      " 'piped into dwelling/plot/yard' 'Unprotected dug well' 'public tap'\n",
      " 'Rainwater (harvesting)' 'Rock catchment' 'Water Trucks' 'Springs' 'Tap'\n",
      " 'Motorised communal standpipe' 'Sub-Surface Dams' 'Boreholes'\n",
      " 'piped water into dwelling plot or yard'\n",
      " 'Protected spring powered by solar/electricity' 'Roof Catchment' '0']\n",
      "\n",
      "Column: adm1\n",
      "['Kakamega' 'Siaya' 'Migori' 'Makueni' 'Busia' 'Kiambu' 'Embu' 'Kisumu'\n",
      " 'Nyamira' 'Vihiga' 'Homa Bay' 'Bungoma' 'Kajiado' 'Trans Nzoia'\n",
      " 'Uasin Gishu']\n",
      "\n",
      "Column: adm2\n",
      "['Khwisero' 'Butere' 'Alego Usonga' 'Malava' 'Ikolomani' 'Suna West'\n",
      " 'Makueni' 'BUTULA' 'GEM' 'Hamisi' 'Mbeere south' 'Mutungu' 'Butula'\n",
      " 'Nyamira South' 'KURIA EAST' 'Vihiga' 'Navakholo' 'Samia' 'Gem' 'Matete'\n",
      " 'Matungu' 'Kibwezi East' 'NYATIKE' 'Ndhiwa' 'Embu East' 'Nyamira North'\n",
      " 'Mbooni' 'Bungoma South' 'Ugenya' 'Teso South' 'khwisero' 'SUNA EAST'\n",
      " 'Suba' 'SUNA WEST' 'Kuria West' 'Luanda' 'FUNYULA/SAMIA' 'Likuyani'\n",
      " 'Tongaren' 'Matayos' 'Borabu' 'Bumula' 'Suna East' 'Shinyalu'\n",
      " 'Kakamega East' 'Ugunja' 'Mumias' 'Lurambi' 'Rongo' 'Angurai'\n",
      " 'Kakamega North' 'Kuria East' 'UGENYA' 'ALEGO USONGA' 'Manga' 'NAMBALE'\n",
      " 'kisumu central' 'TESO SOUTH' 'BUNDALANGI/ BUNYALA' 'Homa Bay Town'\n",
      " 'Kaiti' 'Awendo' 'Kisumu East' 'Sabatia' 'Masaba North' 'Kisumu west'\n",
      " 'MATAYOS' 'Kakamega South' 'Kibwezi West' 'Rachuonyo South' 'UGUNJA'\n",
      " 'RONGO' 'Rachuonyo East' 'TESO NORTH' 'Nyando' 'Nyakach' 'Bungoma East'\n",
      " 'Kilome' 'Kakamega Central' 'Lugari' 'Bungoma North' 'Cherangany'\n",
      " 'Teso North' 'Nambale' 'URIRI' 'Mumias WEST' 'BONDO' 'KURIA WEST' 'Uriri'\n",
      " 'RARIEDA' 'Wema' 'Seme' 'Embu West' 'Embu North' 'Orwa' 'Bungoma Central'\n",
      " 'Mutomo' 'Kiminini' 'Muhoroni' 'Kirindon' 'Mbita' 'Embu east'\n",
      " 'Mumias East' 'mbeere' 'Soy' 'Bungoma West' 'AWENDO' 'Mwingi Tseikuru'\n",
      " 'Kimilili' 'Emuhaya' 'Eshisiru']\n",
      "\n",
      "Column: adm3\n",
      "['Wambulishe' 'Inaya' 'Bar_Agulu' 'Butali/chegulo' 'Idakho South' 'Ngege'\n",
      " 'Mbitini' 'Kingandole' 'North Gem' 'Ivola' 'Matungu' 'Sikarira'\n",
      " 'Bosamaro' 'Nyabasi East' 'Kisienya' 'Bunyala central' 'Ojibo'\n",
      " 'Kipchekwen' 'Nyamninia' 'Ndere' 'Cheptulu' 'Jivovoli' 'Nanyeni'\n",
      " 'Nzaui kilili kalamba' 'Muyundi' 'Bukhalalire' 'Ivingoni/nzambani'\n",
      " 'Kachieng' 'Ndhiwa' 'Marama central' 'Itibo' 'Kulumbeni' 'Lukohe'\n",
      " 'Musoli' 'Mbooni' 'Ekerenyo' 'South Kanduyi' 'Idakho north' 'Ebukhokho'\n",
      " 'Ramunde' 'Ongariama' 'Kisa North' 'Shiraha' 'Kwa' 'Township' 'Central'\n",
      " 'Wasweta II' 'Mavindini' 'Ikerege' 'Ikumba' 'Ebutanyi'\n",
      " 'Namboboto/Nambuku' 'Kongoni' 'Karima' 'Tingolo' 'Nzoia' 'Masongaleni'\n",
      " 'Busende' 'Muhanda' 'Nyansiongo' 'Kabula' 'Mapera' 'Vigulu'\n",
      " 'ISUKHA south' 'Ivakale' 'West kabra' 'Lunza' 'Madungu' 'Matawa'\n",
      " 'Murumba' 'Shiyunzu' 'Mundika' 'South Kanyajuok' 'Ematende' 'Ligala'\n",
      " 'Nyamaiya' 'Burundu' 'Ngelechom' 'Gwikonge' 'Ukwala' 'North Alego'\n",
      " 'Bumula' 'East Sangalo' 'Mahusi' 'Manga' 'Kisa East' 'Makhanga'\n",
      " 'Marachi East' 'Kemera' 'Nambale township' 'Kisau/kiteta' 'Khalaba'\n",
      " 'Nyalenda B' 'Mundaha' 'Amukura Central' 'Bunyala North'\n",
      " 'North Kanyajuok' 'Rangwe' 'Ukia' 'Kamresi' 'Gwassi' 'Bushieni'\n",
      " 'Manyatta B' 'Igero' 'Ituti' 'Musembe' 'Kurutiange' 'Igunga' 'Shiasaba'\n",
      " 'Rigoma' 'Indangalasia' 'Ingotse' 'North west kisumu' 'Bukhayo West'\n",
      " 'Shisejeri' 'Tombo' 'Kathonzweni' 'Nyabasi West' 'Thange'\n",
      " 'Isukha central' 'Taranganya' 'North West Kisumu' 'ISUKHA east'\n",
      " 'Emali Mulala' 'Odiado' 'Kanyango' 'Itegero' 'Siranga' 'Sigomere' 'Yenga'\n",
      " \"Ageng'a Nanguba\" 'Kalawa' 'Gongo' 'Isukha south' 'Butsotso East'\n",
      " 'Muvau/Kikumini' 'Lwanda_K' 'Marama Central' 'North Kamagambo' 'Miriu'\n",
      " 'Nyamagagana' 'Central Gem' 'Matsakha' 'Ikomero' 'Bumala B' 'West alego'\n",
      " 'Itenyi' 'Kolwa East' 'Kidundu' 'Angurai north' 'Lunga'\n",
      " 'Nambale Township' 'East Kano Wawithi' 'Sigulu' 'Lubinu' 'Milima'\n",
      " 'Lwandeti' 'Bulemia' 'Gamoi' 'Ebuhala' 'Kitise/kithuki' 'Gavudunyi'\n",
      " 'West Gem' 'Samitsi' 'Kokal' 'West nyakach' 'Marinda' 'Shiseso' 'Ibokolo'\n",
      " 'Dudi' 'Lukusi' 'Bomwagamo' 'Chemuche' 'Kiima kiu kalanzoni' 'Shirotsa'\n",
      " 'Marama West' 'East kabras' 'Shibuli' 'Shirulu' 'Koromaiti'\n",
      " 'Central Alego' 'Chakol north' 'Mushiangubu' 'Bunyala West' 'Yiro West'\n",
      " 'Apatit' 'West kisumu' 'Ndalu' 'Uhuyi' 'Mukaa' 'Yala Township' 'Makuchi'\n",
      " 'Nakhakina' 'Makindu' 'Adumai' 'Emanda' 'Buyofu' 'East Kanyamkago'\n",
      " 'Bukhayo Central' 'North Sakwa' 'Nucleas' 'Shiandeche' 'Manda /shibanga'\n",
      " 'Bokeira' 'Gesima' 'Sidende' 'Nguu/Masumba' 'Serem' 'Bogichora' 'Sheywe'\n",
      " 'Kakalet' 'Kagilo' 'Anyiko' 'Chekalini' 'Mundobelwa' 'Namusala' 'Bugengi'\n",
      " 'Kolwa Central' 'Bukira East' 'Onyunyur Kamolo' 'Moheto' 'Fubuye'\n",
      " 'Ugunja' 'Mirere Sublocation' 'Uranga' 'Kholera' 'Musemwa' 'Lihanda'\n",
      " 'Mulwanda' 'Marachi North' 'Kajulu 1B' 'Givogi' 'Ifwetere' 'Kanyagwala'\n",
      " 'Suna Central' 'Ilima' 'Mawe_Tatu' 'ISUKHA central' 'Olasi'\n",
      " 'Idakho central' 'Kimoson' 'Kalwani' 'Virhembe' 'Shiswa' 'Gimarakwa'\n",
      " 'South Gem' 'Morukarisa' 'East Kawere Rateng' 'Mabole' 'Malaba central'\n",
      " 'South Kamagambo' 'Bunyala Central' 'Bulanda' 'Gachuba' 'Shimanyiro'\n",
      " 'Bar_Sauri' 'South Kanyikela' 'Buboko' 'Digula' 'Kaptech' 'Shirakalu'\n",
      " 'East Asembo' 'Wote/Nziu' 'Koyonzo' 'Karapul' 'Wakhungu' 'Central seme'\n",
      " 'Sidindi' 'Shirembe' 'Malaba mala south' 'Mudoma' 'Shingodo' 'Elukongo'\n",
      " 'Chevoso' 'Mundeku' 'Emukaya' 'South Kanyamkago' 'Umala' 'Bukati'\n",
      " 'Kikumbulyu north' 'Kiabonyoru' 'Masana' 'Malaba south' 'Emalindi'\n",
      " 'Matioli' 'Sirgoi' 'Bukhayo East' 'Jera' 'Lutacho' 'Bukhakhala' 'Kisoko'\n",
      " 'Kamuma' 'Bunyala west' 'Tulimani' 'Esikoma' 'Nyamila' 'North Seme'\n",
      " 'Geta' 'Mwera' 'Nyalenda A' 'Shisembe' 'Kee' 'Eshiyenjera' 'Emuhanda'\n",
      " 'MARAMA CENTRAL' 'Namwitsula' 'Lukume' 'Asango East' \"Ageng'a nanguba\"\n",
      " 'Kombok South' 'Kakrao' 'Sirembe' 'Ebushitinji' 'Tagare' 'Akites'\n",
      " 'Likuyani' 'Agolot' 'Shitswiswi' 'Idakho east' 'Kanyawanga' 'Manyika'\n",
      " 'Mautuma' 'South west nyakach' 'Kasosi' 'Gimamoi' 'Kisasi'\n",
      " 'Simur Kondiek' 'Okatekok' 'Chinato' 'Lirhembe' 'Shikhendu' 'Mabuye'\n",
      " 'Emutsasa' 'Mtito Andei' 'Burumba' 'Mwamba' 'Mukhweso' 'Ebusiralo'\n",
      " 'Chemelil Tamu' 'Mjini' 'Lwanyange' 'Kiliboti' 'Kobura' 'Murende'\n",
      " 'Got Osimbo' 'Masaba' 'Marama North' 'Matunda' 'Eshibeye'\n",
      " \"Nyang'oma/masogo\" 'Sikulu' 'Gokeharaka/Getambwega' 'North Kamwango'\n",
      " 'Aciit' 'Mukuyu' 'Kamioro' 'Chekulo' 'Ikonzo' 'Kisatiru' 'Amerikwai'\n",
      " 'Amukura west' 'Tabani' 'South kabras' 'Budonga' 'Kegondi' 'North alego'\n",
      " 'Emuruba' 'NYANSIONGO' 'Isukha east' 'Sirende' 'Madivini' 'Viyalo'\n",
      " 'Shirere' 'East Seme' 'Butsotso central' 'Manda shibanga' 'Malimili'\n",
      " 'Kisa Central' 'Arambe' 'Marakaru' 'Aterait' 'Bwiri'\n",
      " 'Nyamosense/Komosoko' 'Chambiti' 'Mutoma' 'Wiga' 'Bubala' 'Kamuga'\n",
      " 'Mugomari' 'West kabras' 'God Jope' 'Ramula' 'Mulaha' 'Kamdar Kawanga'\n",
      " 'Tigoi' 'Lyaduywa' 'Musikoma' 'Ingostse' 'Kanyingombe' 'Amagoro'\n",
      " 'South east nyakach' 'North ugenya' 'Angurai south' 'Nyamsenda' 'Lubao'\n",
      " 'Mbita' 'Kamsaki' 'Nambacha' 'Sango' 'Namasanda' 'Lusumu' 'Apokor'\n",
      " 'kholera' 'Olwa' 'Bunyala South' 'Angurai east' 'Mbihi' 'West seme'\n",
      " 'Olepito' 'Doho' 'Shidodo' 'Sikinga' 'Kathieno B' 'Malanga' 'Namamali'\n",
      " 'Kedoli' 'North Kanyamkago' 'Kisiwa' 'Kochwa' 'Marama South' 'Nyaroha'\n",
      " 'South west' 'Gasianga' 'Shiatsala' 'Ebuchimi' 'Burinda'\n",
      " 'Central nyakach' 'Kochek' 'Motosiet' 'Shitochi' 'Katotoi' 'Magombo'\n",
      " 'Ingostse matiha' 'East Kano Wawidhi' 'Miwani' 'Makuselwa' 'Tebesi'\n",
      " 'Katelenyang' 'Shianda' 'Mukhe' 'Bunyala East' 'Nyabikaye'\n",
      " 'Marenyo Shanda' 'Central kisumu' 'Buyama' 'Onguo' 'Kithungo/kitundu'\n",
      " 'Komomange' 'Kapsotik' 'Nguumo' 'Nyawara' 'Mwikhupo' 'Kiomakebe'\n",
      " 'Kabuoro' 'Bukiri' 'Misimo' 'Anjengo' 'Emuleche' 'Bujumba' 'MARAMA WEST'\n",
      " 'Shitoli' 'Oruba ragana' 'Kisa West' 'Bulwani' 'West Alego' 'Muhaka'\n",
      " 'North kisumu' 'Central  Seme' 'Nuclear' 'Muhudu' 'Akiriamas' 'Kasewe A'\n",
      " 'Ganjala' 'Amukura' 'Siriwo' 'Kikumbulyu south' 'Kajulu' 'Lugari'\n",
      " 'Sasala' 'Rera' 'Seronga' 'Asego' 'Bukhayo North / Walatsi' 'Kaliwa'\n",
      " 'Lunyinya' 'Simenya' 'Lukala_West' 'Marakusi' 'Idangalasia' 'Sitatunga'\n",
      " 'Mukulusu' \"Masogo Nyang'oma\" 'Nabingenge' 'Central alego' 'Sitabicha'\n",
      " 'Masongora' 'Kitagwa' 'Kotieno Kochich' 'Namboboto' 'South East Alego'\n",
      " 'Kaluni' 'Binyenya' 'Ziwa' 'North Nyakach' 'Khalumuli' 'Tingare West'\n",
      " 'MARAMA NORTH' 'Tingare East' 'Lambwe' 'Isibania'\n",
      " 'Shinoyi shikomari esumeyi' 'Masatsi' 'Lugose' 'Muyafwa' 'Kasikeu'\n",
      " 'Isongo' 'South east alego' 'Mulundu' 'Wasio' 'Nyandiwa' 'Kapkarwa'\n",
      " 'North Kulusiru' 'East Kamagambo' 'Randago' 'Kamgundho 2' 'Sitikho'\n",
      " 'Ebulafu' 'Bumini' 'Shirugu' 'Agurai north' 'Lusiola' 'Central Nyakach'\n",
      " 'Kotieno Konuonga' 'Nyangoma' 'South kamagambo' 'Ahero' 'Awasi Onjiko'\n",
      " 'Mukuyuni' 'Gaigedi' 'Lunenele' 'Bwaliro' 'Khaunga' 'Narati' 'Chavogere'\n",
      " 'Waware' 'Nangina' 'Doho East' 'Nyalgunga' 'Sirakaru' 'LUBINU LUSHEYA'\n",
      " 'Mbale' 'Emasatsi' 'Mwikalikha' 'South Sakwa' 'Central Namwela'\n",
      " 'Mekenene' 'Shivagala' 'Kathieno A' 'Gavudia' 'Got Uriri' 'Migosi'\n",
      " 'West Nyakach' 'Emukhuwa' 'Solongo' 'Wasweta_2' 'Shikutse' 'Nyamotambe'\n",
      " 'Kilungu' 'Ojuando_B' 'Kanjala' 'Amukura central' 'Masangora'\n",
      " 'North sakwa' 'Lusengeli' 'Kagoro' 'Mwembe' 'Kondele' 'Riana' 'Lundha'\n",
      " 'Kiminini' 'Kapkoi Sisal' 'Kakumu Kombewa' 'Butsotso  south' 'Ongaro'\n",
      " 'Weonia' 'Kaudha East' 'Idereri' 'Nyarongi' 'Kimangeti' 'Shirungu'\n",
      " 'Marama Shanda' 'Buyangu' 'Aludeka' 'Kakello Kamroth' 'Ebuhando' 'Sagegi'\n",
      " 'Mutsuma' 'Mahiakalo' 'Kako/Waia' 'Mabunge' 'Shiru' 'Osurete' 'Ulafu'\n",
      " 'Lusheya' 'Mwiba' 'Shibinga' 'East Wanga' 'Got Regea' 'Amukura east'\n",
      " 'Kimatuni' 'Sawawa' 'Kibisi' 'Chakol south' 'Nyalenda' 'Lwala' 'Kasimba'\n",
      " 'Mahanga' 'Hamuyundi' 'Shipala' 'Mukomari' 'Bokoli' 'Bumamu' 'Korisai'\n",
      " 'Kadera Lwala' 'Kisumu west' 'Luliba' 'Kodhoch East' 'Nangoma' 'Mayenje'\n",
      " 'Sinoko' 'Shikunga' 'Ihore' 'Lunyu' 'Lower Kwandiku' 'North Kanyamgony'\n",
      " 'Kapchemgung' 'Mfangano' 'Munyuki' 'North West' 'East/Kano Wawithi'\n",
      " 'Kodumu West' 'Sino Kagolla' 'Musokoto' 'Kivaywa' 'Khushiku'\n",
      " 'Matayos South' 'Webuye' 'Kapolet' 'Kaptumbo' 'Adungosi'\n",
      " 'Kabonyo Kanyagwal' 'Mambai' 'Lusheya-Lubinu' 'Kamolo' 'Marenyo'\n",
      " 'East Gem' 'Esikulu' 'Kangeso' 'Kapsara' 'Nasira' 'Kakmasia West'\n",
      " 'Kagonya' 'Mukongolo' 'Lukose' 'Manguliro' 'South Kogello' 'Kasirime'\n",
      " 'Baraton' 'Alupe' 'Bukhayo North/ Walatsi' 'Siekunya' 'Nyabeda'\n",
      " 'Sirikoi simuli' 'Sinyerere' 'Ombeyi' 'Bulovi' 'Isebania' 'Esise'\n",
      " 'Mayoni' 'Shibuname' 'Mirere' 'Madzuu' 'Givole' 'Misemwa' 'North nyakach'\n",
      " 'Mur Ngiya' 'Marachi West' 'Koyeyo' 'Mutaho' 'South Kanyamgony' 'Maholla'\n",
      " 'Oyugis Town' 'Evojo' 'Kitayi' 'Busibwabo' 'Ambira' 'Nyalenya' 'Luuya'\n",
      " 'Eshibinga' 'Rangala' 'Eluche' 'Bware' 'Mungatsi' 'Mundombelwa' 'Chebwai'\n",
      " 'Kibingei' 'Lumakanda' 'Mukhonje' 'Hono' 'Lutonyi' 'Kasidula'\n",
      " 'Rambula North' 'Muhoroni Koru' 'Kobita' 'Kadel Kamidigo'\n",
      " 'Butali/chengulo' 'Siaya Township' 'Vinyenya' 'Malekha Central'\n",
      " 'Kebaroti' 'Makhwabuye' 'Naitiri' 'Kadenge' 'Kabuyefwe' 'Emukhweso'\n",
      " 'Vunandi' 'Awasi/Onjiko' 'Lower_Kakarao' 'Indulusia' 'Mabonde' 'Sichirai'\n",
      " 'North Uyoma' 'Maraba' 'West Kachieng' 'Pap_Oriang' 'Shibembe' 'Shieywe'\n",
      " 'Malinya' 'Kathieno C' 'Emukangu' 'Akobwait' 'Shamberere' 'Musanda'\n",
      " 'Namatotoa' 'Shanda' 'Vokoli' 'Magui' 'Ulamba' 'Ikoli' 'Rongo Pala'\n",
      " 'Chango' 'Mbagara' 'Obisa' 'Kongoma' 'Barding' 'Misikhu' 'Bonyamatuta'\n",
      " 'West Sangalo' 'Mudete' 'Muhoroni/koru' 'Ematende/Ituti' 'Khwirale'\n",
      " 'Milimani' 'Lupida' 'Kigama' 'Masumbi' 'Malaba north' 'Kakello Dudi'\n",
      " 'Katieno 1' 'Kapsiglai' 'Yala township' 'Mois Bridge' 'Ematia'\n",
      " 'Kodero Obara' 'Senende' 'Jina' 'Emukola' 'Kapngetuny' 'Osingo_North'\n",
      " 'North Kadem' 'Mbakalo' 'Eshisiru' 'Lukhokho' 'Mukango'\n",
      " 'migosi/sigalagala' 'Luchululo' 'Magoya' 'Muhonje' 'Buchifi'\n",
      " 'Marenyo Shianda' 'Kambija' 'Kadhola' 'Namwacha' 'Kituni' 'Galona'\n",
      " 'Amukura East' 'Maturu' 'Munoywa' 'Mitoto' 'Kameji' 'Odioi'\n",
      " 'Shinoyi shikomari esumuyi' 'Remanyanki' \"Kimang'Eti\" 'East ugenya'\n",
      " 'Eshirali' 'Manyatta' 'East wanga' 'Shitirira' 'Uriri' 'Okook' 'Angorom'\n",
      " 'Kombe' 'Bugina' 'Butsotso crntral' 'Thim Jope' 'Kivagala' 'Kegoye'\n",
      " 'Chwele' 'Mobet' 'Kodedema' 'Kamunuoit' 'Chamasiri' 'Lwanda K' 'Otimong'\n",
      " 'Kogello East' 'Soy' 'nyalenda' 'Munjiti' 'Kawere East' 'Kawere 2B'\n",
      " 'Maleha' 'Sibinga' 'Nyaitara' 'Karading' 'Ligega' 'Sihay'\n",
      " 'Komenya_Kowala' 'South Kamwango' 'Shiruku' 'Meyekhe' 'West Sakwa'\n",
      " 'Nyajuok' 'Luminous Lusheya' 'Mitukuyu' 'Magwagwa' 'Changara'\n",
      " 'ISUKHA  east' 'Elugulu' 'Mukuro' 'Ngunya' 'Asango West' 'Maliera'\n",
      " 'Upper_Kakrao' 'Komotobo' 'Karabach' 'ISUKHA  south' 'Bubalanga'\n",
      " 'Lunganyiro' 'Sigalame' 'Kimugui' 'Kabwodo' 'Navakholo' 'Idakho']\n"
     ]
    }
   ],
   "source": [
    "# Categorical columns\n",
    "for col in df_cleaned.columns:\n",
    "    if df_cleaned[col].dtype == 'object':\n",
    "        print(f\"\\nColumn: {col}\")\n",
    "        print(df_cleaned[col].unique())\n"
   ]
  },
  {
   "cell_type": "markdown",
   "id": "5246bd26",
   "metadata": {},
   "source": [
    "### Duplicates"
   ]
  },
  {
   "cell_type": "code",
   "execution_count": 57,
   "id": "da6bf226",
   "metadata": {},
   "outputs": [
    {
     "data": {
      "text/html": [
       "<div>\n",
       "<style scoped>\n",
       "    .dataframe tbody tr th:only-of-type {\n",
       "        vertical-align: middle;\n",
       "    }\n",
       "\n",
       "    .dataframe tbody tr th {\n",
       "        vertical-align: top;\n",
       "    }\n",
       "\n",
       "    .dataframe thead th {\n",
       "        text-align: right;\n",
       "    }\n",
       "</style>\n",
       "<table border=\"1\" class=\"dataframe\">\n",
       "  <thead>\n",
       "    <tr style=\"text-align: right;\">\n",
       "      <th></th>\n",
       "      <th>lat_deg</th>\n",
       "      <th>lon_deg</th>\n",
       "      <th>water_source_clean</th>\n",
       "      <th>water_source_category</th>\n",
       "      <th>water_tech_clean</th>\n",
       "      <th>_water_tech_category</th>\n",
       "      <th>facility_type</th>\n",
       "      <th>clean_country_name</th>\n",
       "      <th>clean_country_id</th>\n",
       "      <th>clean_adm1</th>\n",
       "      <th>...</th>\n",
       "      <th>chirps_7_precipitation</th>\n",
       "      <th>chirps_30_precipitation</th>\n",
       "      <th>chirps_90_precipitation</th>\n",
       "      <th>ndvi_7_NDVI</th>\n",
       "      <th>ndvi_30_NDVI</th>\n",
       "      <th>ndvi_90_NDVI</th>\n",
       "      <th>lst_7_LST_Day_1km</th>\n",
       "      <th>lst_30_LST_Day_1km</th>\n",
       "      <th>lst_90_LST_Day_1km</th>\n",
       "      <th>pop_population</th>\n",
       "    </tr>\n",
       "  </thead>\n",
       "  <tbody>\n",
       "    <tr>\n",
       "      <th>6425</th>\n",
       "      <td>0.027583</td>\n",
       "      <td>34.792957</td>\n",
       "      <td>Protected Well</td>\n",
       "      <td>Well</td>\n",
       "      <td>Motorized Pump - Electric</td>\n",
       "      <td>Motorized Pump</td>\n",
       "      <td>Improved</td>\n",
       "      <td>Kenya</td>\n",
       "      <td>KEN</td>\n",
       "      <td>Vihiga</td>\n",
       "      <td>...</td>\n",
       "      <td>3.394601</td>\n",
       "      <td>4.261939</td>\n",
       "      <td>10.177632</td>\n",
       "      <td>0.7500</td>\n",
       "      <td>0.76610</td>\n",
       "      <td>0.772883</td>\n",
       "      <td>23.73</td>\n",
       "      <td>22.970</td>\n",
       "      <td>23.128182</td>\n",
       "      <td>7.322334</td>\n",
       "    </tr>\n",
       "    <tr>\n",
       "      <th>6426</th>\n",
       "      <td>0.027583</td>\n",
       "      <td>34.792957</td>\n",
       "      <td>Protected Well</td>\n",
       "      <td>Well</td>\n",
       "      <td>Motorized Pump - Electric</td>\n",
       "      <td>Motorized Pump</td>\n",
       "      <td>Improved</td>\n",
       "      <td>Kenya</td>\n",
       "      <td>KEN</td>\n",
       "      <td>Vihiga</td>\n",
       "      <td>...</td>\n",
       "      <td>3.394601</td>\n",
       "      <td>4.261939</td>\n",
       "      <td>10.177632</td>\n",
       "      <td>0.7500</td>\n",
       "      <td>0.76610</td>\n",
       "      <td>0.772883</td>\n",
       "      <td>23.73</td>\n",
       "      <td>22.970</td>\n",
       "      <td>23.128182</td>\n",
       "      <td>7.322334</td>\n",
       "    </tr>\n",
       "    <tr>\n",
       "      <th>6427</th>\n",
       "      <td>0.027583</td>\n",
       "      <td>34.792957</td>\n",
       "      <td>Protected Well</td>\n",
       "      <td>Well</td>\n",
       "      <td>Motorized Pump - Electric</td>\n",
       "      <td>Motorized Pump</td>\n",
       "      <td>Improved</td>\n",
       "      <td>Kenya</td>\n",
       "      <td>KEN</td>\n",
       "      <td>Vihiga</td>\n",
       "      <td>...</td>\n",
       "      <td>3.394601</td>\n",
       "      <td>4.261939</td>\n",
       "      <td>10.177632</td>\n",
       "      <td>0.7500</td>\n",
       "      <td>0.76610</td>\n",
       "      <td>0.772883</td>\n",
       "      <td>23.73</td>\n",
       "      <td>22.970</td>\n",
       "      <td>23.128182</td>\n",
       "      <td>7.322334</td>\n",
       "    </tr>\n",
       "    <tr>\n",
       "      <th>6428</th>\n",
       "      <td>0.027583</td>\n",
       "      <td>34.792957</td>\n",
       "      <td>Protected Well</td>\n",
       "      <td>Well</td>\n",
       "      <td>Motorized Pump - Electric</td>\n",
       "      <td>Motorized Pump</td>\n",
       "      <td>Improved</td>\n",
       "      <td>Kenya</td>\n",
       "      <td>KEN</td>\n",
       "      <td>Vihiga</td>\n",
       "      <td>...</td>\n",
       "      <td>3.394601</td>\n",
       "      <td>4.261939</td>\n",
       "      <td>10.177632</td>\n",
       "      <td>0.7500</td>\n",
       "      <td>0.76610</td>\n",
       "      <td>0.772883</td>\n",
       "      <td>23.73</td>\n",
       "      <td>22.970</td>\n",
       "      <td>23.128182</td>\n",
       "      <td>7.322334</td>\n",
       "    </tr>\n",
       "    <tr>\n",
       "      <th>6429</th>\n",
       "      <td>0.027583</td>\n",
       "      <td>34.792957</td>\n",
       "      <td>Protected Well</td>\n",
       "      <td>Well</td>\n",
       "      <td>Motorized Pump - Electric</td>\n",
       "      <td>Motorized Pump</td>\n",
       "      <td>Improved</td>\n",
       "      <td>Kenya</td>\n",
       "      <td>KEN</td>\n",
       "      <td>Vihiga</td>\n",
       "      <td>...</td>\n",
       "      <td>3.394601</td>\n",
       "      <td>4.261939</td>\n",
       "      <td>10.177632</td>\n",
       "      <td>0.7500</td>\n",
       "      <td>0.76610</td>\n",
       "      <td>0.772883</td>\n",
       "      <td>23.73</td>\n",
       "      <td>22.970</td>\n",
       "      <td>23.128182</td>\n",
       "      <td>7.322334</td>\n",
       "    </tr>\n",
       "    <tr>\n",
       "      <th>...</th>\n",
       "      <td>...</td>\n",
       "      <td>...</td>\n",
       "      <td>...</td>\n",
       "      <td>...</td>\n",
       "      <td>...</td>\n",
       "      <td>...</td>\n",
       "      <td>...</td>\n",
       "      <td>...</td>\n",
       "      <td>...</td>\n",
       "      <td>...</td>\n",
       "      <td>...</td>\n",
       "      <td>...</td>\n",
       "      <td>...</td>\n",
       "      <td>...</td>\n",
       "      <td>...</td>\n",
       "      <td>...</td>\n",
       "      <td>...</td>\n",
       "      <td>...</td>\n",
       "      <td>...</td>\n",
       "      <td>...</td>\n",
       "      <td>...</td>\n",
       "    </tr>\n",
       "    <tr>\n",
       "      <th>14698</th>\n",
       "      <td>0.506455</td>\n",
       "      <td>34.539471</td>\n",
       "      <td>Protected Well</td>\n",
       "      <td>Well</td>\n",
       "      <td>Motorized Pump - Electric</td>\n",
       "      <td>Motorized Pump</td>\n",
       "      <td>Improved</td>\n",
       "      <td>Kenya</td>\n",
       "      <td>KEN</td>\n",
       "      <td>Bungoma</td>\n",
       "      <td>...</td>\n",
       "      <td>5.050976</td>\n",
       "      <td>5.135373</td>\n",
       "      <td>8.142502</td>\n",
       "      <td>0.7728</td>\n",
       "      <td>0.78145</td>\n",
       "      <td>0.759900</td>\n",
       "      <td>24.19</td>\n",
       "      <td>24.065</td>\n",
       "      <td>23.824000</td>\n",
       "      <td>5.037134</td>\n",
       "    </tr>\n",
       "    <tr>\n",
       "      <th>14699</th>\n",
       "      <td>0.506455</td>\n",
       "      <td>34.539471</td>\n",
       "      <td>Protected Well</td>\n",
       "      <td>Well</td>\n",
       "      <td>Motorized Pump - Electric</td>\n",
       "      <td>Motorized Pump</td>\n",
       "      <td>Improved</td>\n",
       "      <td>Kenya</td>\n",
       "      <td>KEN</td>\n",
       "      <td>Bungoma</td>\n",
       "      <td>...</td>\n",
       "      <td>5.050976</td>\n",
       "      <td>5.135373</td>\n",
       "      <td>8.142502</td>\n",
       "      <td>0.7728</td>\n",
       "      <td>0.78145</td>\n",
       "      <td>0.759900</td>\n",
       "      <td>24.19</td>\n",
       "      <td>24.065</td>\n",
       "      <td>23.824000</td>\n",
       "      <td>5.037134</td>\n",
       "    </tr>\n",
       "    <tr>\n",
       "      <th>14700</th>\n",
       "      <td>0.506455</td>\n",
       "      <td>34.539471</td>\n",
       "      <td>Protected Well</td>\n",
       "      <td>Well</td>\n",
       "      <td>Motorized Pump - Electric</td>\n",
       "      <td>Motorized Pump</td>\n",
       "      <td>Improved</td>\n",
       "      <td>Kenya</td>\n",
       "      <td>KEN</td>\n",
       "      <td>Bungoma</td>\n",
       "      <td>...</td>\n",
       "      <td>5.050976</td>\n",
       "      <td>5.135373</td>\n",
       "      <td>8.142502</td>\n",
       "      <td>0.7728</td>\n",
       "      <td>0.78145</td>\n",
       "      <td>0.759900</td>\n",
       "      <td>24.19</td>\n",
       "      <td>24.065</td>\n",
       "      <td>23.824000</td>\n",
       "      <td>5.037134</td>\n",
       "    </tr>\n",
       "    <tr>\n",
       "      <th>14701</th>\n",
       "      <td>0.506455</td>\n",
       "      <td>34.539471</td>\n",
       "      <td>Protected Well</td>\n",
       "      <td>Well</td>\n",
       "      <td>Motorized Pump - Electric</td>\n",
       "      <td>Motorized Pump</td>\n",
       "      <td>Improved</td>\n",
       "      <td>Kenya</td>\n",
       "      <td>KEN</td>\n",
       "      <td>Bungoma</td>\n",
       "      <td>...</td>\n",
       "      <td>5.050976</td>\n",
       "      <td>5.135373</td>\n",
       "      <td>8.142502</td>\n",
       "      <td>0.7728</td>\n",
       "      <td>0.78145</td>\n",
       "      <td>0.759900</td>\n",
       "      <td>24.19</td>\n",
       "      <td>24.065</td>\n",
       "      <td>23.824000</td>\n",
       "      <td>5.037134</td>\n",
       "    </tr>\n",
       "    <tr>\n",
       "      <th>14702</th>\n",
       "      <td>0.506455</td>\n",
       "      <td>34.539471</td>\n",
       "      <td>Protected Well</td>\n",
       "      <td>Well</td>\n",
       "      <td>Motorized Pump - Electric</td>\n",
       "      <td>Motorized Pump</td>\n",
       "      <td>Improved</td>\n",
       "      <td>Kenya</td>\n",
       "      <td>KEN</td>\n",
       "      <td>Bungoma</td>\n",
       "      <td>...</td>\n",
       "      <td>5.050976</td>\n",
       "      <td>5.135373</td>\n",
       "      <td>8.142502</td>\n",
       "      <td>0.7728</td>\n",
       "      <td>0.78145</td>\n",
       "      <td>0.759900</td>\n",
       "      <td>24.19</td>\n",
       "      <td>24.065</td>\n",
       "      <td>23.824000</td>\n",
       "      <td>5.037134</td>\n",
       "    </tr>\n",
       "  </tbody>\n",
       "</table>\n",
       "<p>12288 rows × 47 columns</p>\n",
       "</div>"
      ],
      "text/plain": [
       "        lat_deg    lon_deg water_source_clean water_source_category  \\\n",
       "6425   0.027583  34.792957     Protected Well                  Well   \n",
       "6426   0.027583  34.792957     Protected Well                  Well   \n",
       "6427   0.027583  34.792957     Protected Well                  Well   \n",
       "6428   0.027583  34.792957     Protected Well                  Well   \n",
       "6429   0.027583  34.792957     Protected Well                  Well   \n",
       "...         ...        ...                ...                   ...   \n",
       "14698  0.506455  34.539471     Protected Well                  Well   \n",
       "14699  0.506455  34.539471     Protected Well                  Well   \n",
       "14700  0.506455  34.539471     Protected Well                  Well   \n",
       "14701  0.506455  34.539471     Protected Well                  Well   \n",
       "14702  0.506455  34.539471     Protected Well                  Well   \n",
       "\n",
       "                water_tech_clean _water_tech_category facility_type  \\\n",
       "6425   Motorized Pump - Electric       Motorized Pump      Improved   \n",
       "6426   Motorized Pump - Electric       Motorized Pump      Improved   \n",
       "6427   Motorized Pump - Electric       Motorized Pump      Improved   \n",
       "6428   Motorized Pump - Electric       Motorized Pump      Improved   \n",
       "6429   Motorized Pump - Electric       Motorized Pump      Improved   \n",
       "...                          ...                  ...           ...   \n",
       "14698  Motorized Pump - Electric       Motorized Pump      Improved   \n",
       "14699  Motorized Pump - Electric       Motorized Pump      Improved   \n",
       "14700  Motorized Pump - Electric       Motorized Pump      Improved   \n",
       "14701  Motorized Pump - Electric       Motorized Pump      Improved   \n",
       "14702  Motorized Pump - Electric       Motorized Pump      Improved   \n",
       "\n",
       "      clean_country_name clean_country_id clean_adm1  ...  \\\n",
       "6425               Kenya              KEN     Vihiga  ...   \n",
       "6426               Kenya              KEN     Vihiga  ...   \n",
       "6427               Kenya              KEN     Vihiga  ...   \n",
       "6428               Kenya              KEN     Vihiga  ...   \n",
       "6429               Kenya              KEN     Vihiga  ...   \n",
       "...                  ...              ...        ...  ...   \n",
       "14698              Kenya              KEN    Bungoma  ...   \n",
       "14699              Kenya              KEN    Bungoma  ...   \n",
       "14700              Kenya              KEN    Bungoma  ...   \n",
       "14701              Kenya              KEN    Bungoma  ...   \n",
       "14702              Kenya              KEN    Bungoma  ...   \n",
       "\n",
       "      chirps_7_precipitation chirps_30_precipitation chirps_90_precipitation  \\\n",
       "6425                3.394601                4.261939               10.177632   \n",
       "6426                3.394601                4.261939               10.177632   \n",
       "6427                3.394601                4.261939               10.177632   \n",
       "6428                3.394601                4.261939               10.177632   \n",
       "6429                3.394601                4.261939               10.177632   \n",
       "...                      ...                     ...                     ...   \n",
       "14698               5.050976                5.135373                8.142502   \n",
       "14699               5.050976                5.135373                8.142502   \n",
       "14700               5.050976                5.135373                8.142502   \n",
       "14701               5.050976                5.135373                8.142502   \n",
       "14702               5.050976                5.135373                8.142502   \n",
       "\n",
       "       ndvi_7_NDVI  ndvi_30_NDVI  ndvi_90_NDVI  lst_7_LST_Day_1km  \\\n",
       "6425        0.7500       0.76610      0.772883              23.73   \n",
       "6426        0.7500       0.76610      0.772883              23.73   \n",
       "6427        0.7500       0.76610      0.772883              23.73   \n",
       "6428        0.7500       0.76610      0.772883              23.73   \n",
       "6429        0.7500       0.76610      0.772883              23.73   \n",
       "...            ...           ...           ...                ...   \n",
       "14698       0.7728       0.78145      0.759900              24.19   \n",
       "14699       0.7728       0.78145      0.759900              24.19   \n",
       "14700       0.7728       0.78145      0.759900              24.19   \n",
       "14701       0.7728       0.78145      0.759900              24.19   \n",
       "14702       0.7728       0.78145      0.759900              24.19   \n",
       "\n",
       "       lst_30_LST_Day_1km  lst_90_LST_Day_1km  pop_population  \n",
       "6425               22.970           23.128182        7.322334  \n",
       "6426               22.970           23.128182        7.322334  \n",
       "6427               22.970           23.128182        7.322334  \n",
       "6428               22.970           23.128182        7.322334  \n",
       "6429               22.970           23.128182        7.322334  \n",
       "...                   ...                 ...             ...  \n",
       "14698              24.065           23.824000        5.037134  \n",
       "14699              24.065           23.824000        5.037134  \n",
       "14700              24.065           23.824000        5.037134  \n",
       "14701              24.065           23.824000        5.037134  \n",
       "14702              24.065           23.824000        5.037134  \n",
       "\n",
       "[12288 rows x 47 columns]"
      ]
     },
     "execution_count": 57,
     "metadata": {},
     "output_type": "execute_result"
    }
   ],
   "source": [
    "df_cleaned[df_cleaned.duplicated(subset=['latitude', 'longitude'], keep=False)].sort_values(by=['latitude', 'longitude'])\n"
   ]
  },
  {
   "cell_type": "markdown",
   "id": "96a699ff",
   "metadata": {},
   "source": [
    "- the duplicate entries for identical latitude and longitude are completely identical across all relevant features\n",
    "\n",
    "`We will drop because`:\n",
    "\n",
    "- All numeric and categorical values match exactly.\n",
    "\n",
    "- No temporal metadata (e.g., timestamp or year) is included.\n",
    "\n",
    "- Repetition is likely the result of data duplication rather than meaningful sampling.\n"
   ]
  },
  {
   "cell_type": "code",
   "execution_count": 58,
   "id": "1badad93",
   "metadata": {},
   "outputs": [
    {
     "name": "stdout",
     "output_type": "stream",
     "text": [
      "Duplicate locations: 12282\n"
     ]
    },
    {
     "data": {
      "text/html": [
       "<div>\n",
       "<style scoped>\n",
       "    .dataframe tbody tr th:only-of-type {\n",
       "        vertical-align: middle;\n",
       "    }\n",
       "\n",
       "    .dataframe tbody tr th {\n",
       "        vertical-align: top;\n",
       "    }\n",
       "\n",
       "    .dataframe thead th {\n",
       "        text-align: right;\n",
       "    }\n",
       "</style>\n",
       "<table border=\"1\" class=\"dataframe\">\n",
       "  <thead>\n",
       "    <tr style=\"text-align: right;\">\n",
       "      <th></th>\n",
       "      <th>lat_deg</th>\n",
       "      <th>lon_deg</th>\n",
       "      <th>water_source_clean</th>\n",
       "      <th>water_source_category</th>\n",
       "      <th>water_tech_clean</th>\n",
       "      <th>_water_tech_category</th>\n",
       "      <th>facility_type</th>\n",
       "      <th>clean_country_name</th>\n",
       "      <th>clean_country_id</th>\n",
       "      <th>clean_adm1</th>\n",
       "      <th>...</th>\n",
       "      <th>chirps_7_precipitation</th>\n",
       "      <th>chirps_30_precipitation</th>\n",
       "      <th>chirps_90_precipitation</th>\n",
       "      <th>ndvi_7_NDVI</th>\n",
       "      <th>ndvi_30_NDVI</th>\n",
       "      <th>ndvi_90_NDVI</th>\n",
       "      <th>lst_7_LST_Day_1km</th>\n",
       "      <th>lst_30_LST_Day_1km</th>\n",
       "      <th>lst_90_LST_Day_1km</th>\n",
       "      <th>pop_population</th>\n",
       "    </tr>\n",
       "  </thead>\n",
       "  <tbody>\n",
       "    <tr>\n",
       "      <th>5091</th>\n",
       "      <td>0.506455</td>\n",
       "      <td>34.539471</td>\n",
       "      <td>Protected Well</td>\n",
       "      <td>Well</td>\n",
       "      <td>Motorized Pump - Electric</td>\n",
       "      <td>Motorized Pump</td>\n",
       "      <td>Improved</td>\n",
       "      <td>Kenya</td>\n",
       "      <td>KEN</td>\n",
       "      <td>Bungoma</td>\n",
       "      <td>...</td>\n",
       "      <td>5.050976</td>\n",
       "      <td>5.135373</td>\n",
       "      <td>8.142502</td>\n",
       "      <td>0.7728</td>\n",
       "      <td>0.78145</td>\n",
       "      <td>0.7599</td>\n",
       "      <td>24.19</td>\n",
       "      <td>24.065</td>\n",
       "      <td>23.824000</td>\n",
       "      <td>5.037134</td>\n",
       "    </tr>\n",
       "    <tr>\n",
       "      <th>5092</th>\n",
       "      <td>0.506455</td>\n",
       "      <td>34.539471</td>\n",
       "      <td>Protected Well</td>\n",
       "      <td>Well</td>\n",
       "      <td>Motorized Pump - Electric</td>\n",
       "      <td>Motorized Pump</td>\n",
       "      <td>Improved</td>\n",
       "      <td>Kenya</td>\n",
       "      <td>KEN</td>\n",
       "      <td>Bungoma</td>\n",
       "      <td>...</td>\n",
       "      <td>5.050976</td>\n",
       "      <td>5.135373</td>\n",
       "      <td>8.142502</td>\n",
       "      <td>0.7728</td>\n",
       "      <td>0.78145</td>\n",
       "      <td>0.7599</td>\n",
       "      <td>24.19</td>\n",
       "      <td>24.065</td>\n",
       "      <td>23.824000</td>\n",
       "      <td>5.037134</td>\n",
       "    </tr>\n",
       "    <tr>\n",
       "      <th>5093</th>\n",
       "      <td>0.506455</td>\n",
       "      <td>34.539471</td>\n",
       "      <td>Protected Well</td>\n",
       "      <td>Well</td>\n",
       "      <td>Motorized Pump - Electric</td>\n",
       "      <td>Motorized Pump</td>\n",
       "      <td>Improved</td>\n",
       "      <td>Kenya</td>\n",
       "      <td>KEN</td>\n",
       "      <td>Bungoma</td>\n",
       "      <td>...</td>\n",
       "      <td>5.050976</td>\n",
       "      <td>5.135373</td>\n",
       "      <td>8.142502</td>\n",
       "      <td>0.7728</td>\n",
       "      <td>0.78145</td>\n",
       "      <td>0.7599</td>\n",
       "      <td>24.19</td>\n",
       "      <td>24.065</td>\n",
       "      <td>23.824000</td>\n",
       "      <td>5.037134</td>\n",
       "    </tr>\n",
       "    <tr>\n",
       "      <th>5094</th>\n",
       "      <td>0.506455</td>\n",
       "      <td>34.539471</td>\n",
       "      <td>Protected Well</td>\n",
       "      <td>Well</td>\n",
       "      <td>Motorized Pump - Electric</td>\n",
       "      <td>Motorized Pump</td>\n",
       "      <td>Improved</td>\n",
       "      <td>Kenya</td>\n",
       "      <td>KEN</td>\n",
       "      <td>Bungoma</td>\n",
       "      <td>...</td>\n",
       "      <td>5.050976</td>\n",
       "      <td>5.135373</td>\n",
       "      <td>8.142502</td>\n",
       "      <td>0.7728</td>\n",
       "      <td>0.78145</td>\n",
       "      <td>0.7599</td>\n",
       "      <td>24.19</td>\n",
       "      <td>24.065</td>\n",
       "      <td>23.824000</td>\n",
       "      <td>5.037134</td>\n",
       "    </tr>\n",
       "    <tr>\n",
       "      <th>5095</th>\n",
       "      <td>0.506455</td>\n",
       "      <td>34.539471</td>\n",
       "      <td>Protected Well</td>\n",
       "      <td>Well</td>\n",
       "      <td>Motorized Pump - Electric</td>\n",
       "      <td>Motorized Pump</td>\n",
       "      <td>Improved</td>\n",
       "      <td>Kenya</td>\n",
       "      <td>KEN</td>\n",
       "      <td>Bungoma</td>\n",
       "      <td>...</td>\n",
       "      <td>5.050976</td>\n",
       "      <td>5.135373</td>\n",
       "      <td>8.142502</td>\n",
       "      <td>0.7728</td>\n",
       "      <td>0.78145</td>\n",
       "      <td>0.7599</td>\n",
       "      <td>24.19</td>\n",
       "      <td>24.065</td>\n",
       "      <td>23.824000</td>\n",
       "      <td>5.037134</td>\n",
       "    </tr>\n",
       "    <tr>\n",
       "      <th>...</th>\n",
       "      <td>...</td>\n",
       "      <td>...</td>\n",
       "      <td>...</td>\n",
       "      <td>...</td>\n",
       "      <td>...</td>\n",
       "      <td>...</td>\n",
       "      <td>...</td>\n",
       "      <td>...</td>\n",
       "      <td>...</td>\n",
       "      <td>...</td>\n",
       "      <td>...</td>\n",
       "      <td>...</td>\n",
       "      <td>...</td>\n",
       "      <td>...</td>\n",
       "      <td>...</td>\n",
       "      <td>...</td>\n",
       "      <td>...</td>\n",
       "      <td>...</td>\n",
       "      <td>...</td>\n",
       "      <td>...</td>\n",
       "      <td>...</td>\n",
       "    </tr>\n",
       "    <tr>\n",
       "      <th>20951</th>\n",
       "      <td>0.169940</td>\n",
       "      <td>34.724442</td>\n",
       "      <td>Protected Well</td>\n",
       "      <td>Well</td>\n",
       "      <td>Motorized Pump - Electric</td>\n",
       "      <td>Motorized Pump</td>\n",
       "      <td>Improved</td>\n",
       "      <td>Kenya</td>\n",
       "      <td>KEN</td>\n",
       "      <td>Kakamega</td>\n",
       "      <td>...</td>\n",
       "      <td>6.867427</td>\n",
       "      <td>6.798100</td>\n",
       "      <td>13.159847</td>\n",
       "      <td>0.7592</td>\n",
       "      <td>0.76785</td>\n",
       "      <td>0.7380</td>\n",
       "      <td>23.49</td>\n",
       "      <td>22.990</td>\n",
       "      <td>23.071818</td>\n",
       "      <td>6.440071</td>\n",
       "    </tr>\n",
       "    <tr>\n",
       "      <th>20952</th>\n",
       "      <td>0.169940</td>\n",
       "      <td>34.724442</td>\n",
       "      <td>Protected Well</td>\n",
       "      <td>Well</td>\n",
       "      <td>Motorized Pump - Electric</td>\n",
       "      <td>Motorized Pump</td>\n",
       "      <td>Improved</td>\n",
       "      <td>Kenya</td>\n",
       "      <td>KEN</td>\n",
       "      <td>Kakamega</td>\n",
       "      <td>...</td>\n",
       "      <td>6.867427</td>\n",
       "      <td>6.798100</td>\n",
       "      <td>13.159847</td>\n",
       "      <td>0.7592</td>\n",
       "      <td>0.76785</td>\n",
       "      <td>0.7380</td>\n",
       "      <td>23.49</td>\n",
       "      <td>22.990</td>\n",
       "      <td>23.071818</td>\n",
       "      <td>6.440071</td>\n",
       "    </tr>\n",
       "    <tr>\n",
       "      <th>20953</th>\n",
       "      <td>0.169940</td>\n",
       "      <td>34.724442</td>\n",
       "      <td>Protected Well</td>\n",
       "      <td>Well</td>\n",
       "      <td>Motorized Pump - Electric</td>\n",
       "      <td>Motorized Pump</td>\n",
       "      <td>Improved</td>\n",
       "      <td>Kenya</td>\n",
       "      <td>KEN</td>\n",
       "      <td>Kakamega</td>\n",
       "      <td>...</td>\n",
       "      <td>6.867427</td>\n",
       "      <td>6.798100</td>\n",
       "      <td>13.159847</td>\n",
       "      <td>0.7592</td>\n",
       "      <td>0.76785</td>\n",
       "      <td>0.7380</td>\n",
       "      <td>23.49</td>\n",
       "      <td>22.990</td>\n",
       "      <td>23.071818</td>\n",
       "      <td>6.440071</td>\n",
       "    </tr>\n",
       "    <tr>\n",
       "      <th>20954</th>\n",
       "      <td>0.169940</td>\n",
       "      <td>34.724442</td>\n",
       "      <td>Protected Well</td>\n",
       "      <td>Well</td>\n",
       "      <td>Motorized Pump - Electric</td>\n",
       "      <td>Motorized Pump</td>\n",
       "      <td>Improved</td>\n",
       "      <td>Kenya</td>\n",
       "      <td>KEN</td>\n",
       "      <td>Kakamega</td>\n",
       "      <td>...</td>\n",
       "      <td>6.867427</td>\n",
       "      <td>6.798100</td>\n",
       "      <td>13.159847</td>\n",
       "      <td>0.7592</td>\n",
       "      <td>0.76785</td>\n",
       "      <td>0.7380</td>\n",
       "      <td>23.49</td>\n",
       "      <td>22.990</td>\n",
       "      <td>23.071818</td>\n",
       "      <td>6.440071</td>\n",
       "    </tr>\n",
       "    <tr>\n",
       "      <th>20955</th>\n",
       "      <td>0.169940</td>\n",
       "      <td>34.724442</td>\n",
       "      <td>Protected Well</td>\n",
       "      <td>Well</td>\n",
       "      <td>Motorized Pump - Electric</td>\n",
       "      <td>Motorized Pump</td>\n",
       "      <td>Improved</td>\n",
       "      <td>Kenya</td>\n",
       "      <td>KEN</td>\n",
       "      <td>Kakamega</td>\n",
       "      <td>...</td>\n",
       "      <td>6.867427</td>\n",
       "      <td>6.798100</td>\n",
       "      <td>13.159847</td>\n",
       "      <td>0.7592</td>\n",
       "      <td>0.76785</td>\n",
       "      <td>0.7380</td>\n",
       "      <td>23.49</td>\n",
       "      <td>22.990</td>\n",
       "      <td>23.071818</td>\n",
       "      <td>6.440071</td>\n",
       "    </tr>\n",
       "  </tbody>\n",
       "</table>\n",
       "<p>12282 rows × 47 columns</p>\n",
       "</div>"
      ],
      "text/plain": [
       "        lat_deg    lon_deg water_source_clean water_source_category  \\\n",
       "5091   0.506455  34.539471     Protected Well                  Well   \n",
       "5092   0.506455  34.539471     Protected Well                  Well   \n",
       "5093   0.506455  34.539471     Protected Well                  Well   \n",
       "5094   0.506455  34.539471     Protected Well                  Well   \n",
       "5095   0.506455  34.539471     Protected Well                  Well   \n",
       "...         ...        ...                ...                   ...   \n",
       "20951  0.169940  34.724442     Protected Well                  Well   \n",
       "20952  0.169940  34.724442     Protected Well                  Well   \n",
       "20953  0.169940  34.724442     Protected Well                  Well   \n",
       "20954  0.169940  34.724442     Protected Well                  Well   \n",
       "20955  0.169940  34.724442     Protected Well                  Well   \n",
       "\n",
       "                water_tech_clean _water_tech_category facility_type  \\\n",
       "5091   Motorized Pump - Electric       Motorized Pump      Improved   \n",
       "5092   Motorized Pump - Electric       Motorized Pump      Improved   \n",
       "5093   Motorized Pump - Electric       Motorized Pump      Improved   \n",
       "5094   Motorized Pump - Electric       Motorized Pump      Improved   \n",
       "5095   Motorized Pump - Electric       Motorized Pump      Improved   \n",
       "...                          ...                  ...           ...   \n",
       "20951  Motorized Pump - Electric       Motorized Pump      Improved   \n",
       "20952  Motorized Pump - Electric       Motorized Pump      Improved   \n",
       "20953  Motorized Pump - Electric       Motorized Pump      Improved   \n",
       "20954  Motorized Pump - Electric       Motorized Pump      Improved   \n",
       "20955  Motorized Pump - Electric       Motorized Pump      Improved   \n",
       "\n",
       "      clean_country_name clean_country_id clean_adm1  ...  \\\n",
       "5091               Kenya              KEN    Bungoma  ...   \n",
       "5092               Kenya              KEN    Bungoma  ...   \n",
       "5093               Kenya              KEN    Bungoma  ...   \n",
       "5094               Kenya              KEN    Bungoma  ...   \n",
       "5095               Kenya              KEN    Bungoma  ...   \n",
       "...                  ...              ...        ...  ...   \n",
       "20951              Kenya              KEN   Kakamega  ...   \n",
       "20952              Kenya              KEN   Kakamega  ...   \n",
       "20953              Kenya              KEN   Kakamega  ...   \n",
       "20954              Kenya              KEN   Kakamega  ...   \n",
       "20955              Kenya              KEN   Kakamega  ...   \n",
       "\n",
       "      chirps_7_precipitation chirps_30_precipitation chirps_90_precipitation  \\\n",
       "5091                5.050976                5.135373                8.142502   \n",
       "5092                5.050976                5.135373                8.142502   \n",
       "5093                5.050976                5.135373                8.142502   \n",
       "5094                5.050976                5.135373                8.142502   \n",
       "5095                5.050976                5.135373                8.142502   \n",
       "...                      ...                     ...                     ...   \n",
       "20951               6.867427                6.798100               13.159847   \n",
       "20952               6.867427                6.798100               13.159847   \n",
       "20953               6.867427                6.798100               13.159847   \n",
       "20954               6.867427                6.798100               13.159847   \n",
       "20955               6.867427                6.798100               13.159847   \n",
       "\n",
       "       ndvi_7_NDVI  ndvi_30_NDVI  ndvi_90_NDVI  lst_7_LST_Day_1km  \\\n",
       "5091        0.7728       0.78145        0.7599              24.19   \n",
       "5092        0.7728       0.78145        0.7599              24.19   \n",
       "5093        0.7728       0.78145        0.7599              24.19   \n",
       "5094        0.7728       0.78145        0.7599              24.19   \n",
       "5095        0.7728       0.78145        0.7599              24.19   \n",
       "...            ...           ...           ...                ...   \n",
       "20951       0.7592       0.76785        0.7380              23.49   \n",
       "20952       0.7592       0.76785        0.7380              23.49   \n",
       "20953       0.7592       0.76785        0.7380              23.49   \n",
       "20954       0.7592       0.76785        0.7380              23.49   \n",
       "20955       0.7592       0.76785        0.7380              23.49   \n",
       "\n",
       "       lst_30_LST_Day_1km  lst_90_LST_Day_1km  pop_population  \n",
       "5091               24.065           23.824000        5.037134  \n",
       "5092               24.065           23.824000        5.037134  \n",
       "5093               24.065           23.824000        5.037134  \n",
       "5094               24.065           23.824000        5.037134  \n",
       "5095               24.065           23.824000        5.037134  \n",
       "...                   ...                 ...             ...  \n",
       "20951              22.990           23.071818        6.440071  \n",
       "20952              22.990           23.071818        6.440071  \n",
       "20953              22.990           23.071818        6.440071  \n",
       "20954              22.990           23.071818        6.440071  \n",
       "20955              22.990           23.071818        6.440071  \n",
       "\n",
       "[12282 rows x 47 columns]"
      ]
     },
     "execution_count": 58,
     "metadata": {},
     "output_type": "execute_result"
    }
   ],
   "source": [
    "# Check for duplicates based on latitude and longitude\n",
    "duplicates_geo = df_cleaned.duplicated(subset=['latitude', 'longitude'])\n",
    "\n",
    "# Count duplicates\n",
    "print(\"Duplicate locations:\", duplicates_geo.sum())\n",
    "\n",
    "# View duplicate rows\n",
    "df_cleaned[duplicates_geo]\n"
   ]
  },
  {
   "cell_type": "code",
   "execution_count": 59,
   "id": "6929eba8",
   "metadata": {},
   "outputs": [],
   "source": [
    "df_cleaned = df_cleaned.drop_duplicates(subset=['latitude', 'longitude'])\n"
   ]
  },
  {
   "cell_type": "code",
   "execution_count": 60,
   "id": "cf6d2f23",
   "metadata": {},
   "outputs": [
    {
     "name": "stdout",
     "output_type": "stream",
     "text": [
      "Unique water point locations: 3479\n"
     ]
    }
   ],
   "source": [
    "unique_points = df_cleaned[['latitude', 'longitude']].drop_duplicates()\n",
    "print(f\"Unique water point locations: {len(unique_points)}\")\n"
   ]
  },
  {
   "cell_type": "code",
   "execution_count": 61,
   "id": "dc92fe6c",
   "metadata": {},
   "outputs": [
    {
     "data": {
      "text/html": [
       "<div>\n",
       "<style scoped>\n",
       "    .dataframe tbody tr th:only-of-type {\n",
       "        vertical-align: middle;\n",
       "    }\n",
       "\n",
       "    .dataframe tbody tr th {\n",
       "        vertical-align: top;\n",
       "    }\n",
       "\n",
       "    .dataframe thead th {\n",
       "        text-align: right;\n",
       "    }\n",
       "</style>\n",
       "<table border=\"1\" class=\"dataframe\">\n",
       "  <thead>\n",
       "    <tr style=\"text-align: right;\">\n",
       "      <th></th>\n",
       "      <th>lat_deg</th>\n",
       "      <th>lon_deg</th>\n",
       "      <th>water_source_clean</th>\n",
       "      <th>water_source_category</th>\n",
       "      <th>water_tech_clean</th>\n",
       "      <th>_water_tech_category</th>\n",
       "      <th>facility_type</th>\n",
       "      <th>clean_country_name</th>\n",
       "      <th>clean_country_id</th>\n",
       "      <th>clean_adm1</th>\n",
       "      <th>...</th>\n",
       "      <th>chirps_7_precipitation</th>\n",
       "      <th>chirps_30_precipitation</th>\n",
       "      <th>chirps_90_precipitation</th>\n",
       "      <th>ndvi_7_NDVI</th>\n",
       "      <th>ndvi_30_NDVI</th>\n",
       "      <th>ndvi_90_NDVI</th>\n",
       "      <th>lst_7_LST_Day_1km</th>\n",
       "      <th>lst_30_LST_Day_1km</th>\n",
       "      <th>lst_90_LST_Day_1km</th>\n",
       "      <th>pop_population</th>\n",
       "    </tr>\n",
       "  </thead>\n",
       "  <tbody>\n",
       "    <tr>\n",
       "      <th>0</th>\n",
       "      <td>0.174668</td>\n",
       "      <td>34.554572</td>\n",
       "      <td>Protected Well</td>\n",
       "      <td>Well</td>\n",
       "      <td>Motorized Pump - Electric</td>\n",
       "      <td>Motorized Pump</td>\n",
       "      <td>Improved</td>\n",
       "      <td>Kenya</td>\n",
       "      <td>KEN</td>\n",
       "      <td>Kakamega</td>\n",
       "      <td>...</td>\n",
       "      <td>4.914062</td>\n",
       "      <td>5.804299</td>\n",
       "      <td>11.215961</td>\n",
       "      <td>0.7685</td>\n",
       "      <td>0.77920</td>\n",
       "      <td>0.765850</td>\n",
       "      <td>23.35</td>\n",
       "      <td>23.620</td>\n",
       "      <td>24.402727</td>\n",
       "      <td>10.462028</td>\n",
       "    </tr>\n",
       "    <tr>\n",
       "      <th>1</th>\n",
       "      <td>0.220830</td>\n",
       "      <td>34.565483</td>\n",
       "      <td>Protected Well</td>\n",
       "      <td>Well</td>\n",
       "      <td>Motorized Pump - Electric</td>\n",
       "      <td>Motorized Pump</td>\n",
       "      <td>Improved</td>\n",
       "      <td>Kenya</td>\n",
       "      <td>KEN</td>\n",
       "      <td>Kakamega</td>\n",
       "      <td>...</td>\n",
       "      <td>3.862696</td>\n",
       "      <td>5.864281</td>\n",
       "      <td>11.359583</td>\n",
       "      <td>0.7642</td>\n",
       "      <td>0.77615</td>\n",
       "      <td>0.745817</td>\n",
       "      <td>23.63</td>\n",
       "      <td>23.370</td>\n",
       "      <td>24.260909</td>\n",
       "      <td>6.315442</td>\n",
       "    </tr>\n",
       "    <tr>\n",
       "      <th>2</th>\n",
       "      <td>0.044235</td>\n",
       "      <td>34.339775</td>\n",
       "      <td>Protected Well</td>\n",
       "      <td>Well</td>\n",
       "      <td>Motorized Pump - Electric</td>\n",
       "      <td>Motorized Pump</td>\n",
       "      <td>Improved</td>\n",
       "      <td>Kenya</td>\n",
       "      <td>KEN</td>\n",
       "      <td>Siaya</td>\n",
       "      <td>...</td>\n",
       "      <td>2.113567</td>\n",
       "      <td>2.798805</td>\n",
       "      <td>7.549499</td>\n",
       "      <td>0.7348</td>\n",
       "      <td>0.73455</td>\n",
       "      <td>0.716650</td>\n",
       "      <td>24.89</td>\n",
       "      <td>24.350</td>\n",
       "      <td>24.922000</td>\n",
       "      <td>5.745561</td>\n",
       "    </tr>\n",
       "    <tr>\n",
       "      <th>4</th>\n",
       "      <td>0.497160</td>\n",
       "      <td>34.831463</td>\n",
       "      <td>Undefined Well</td>\n",
       "      <td>Well</td>\n",
       "      <td>Public Tapstand</td>\n",
       "      <td>Public Tapstand</td>\n",
       "      <td>Improved</td>\n",
       "      <td>Kenya</td>\n",
       "      <td>KEN</td>\n",
       "      <td>Kakamega</td>\n",
       "      <td>...</td>\n",
       "      <td>4.075452</td>\n",
       "      <td>5.655031</td>\n",
       "      <td>9.077165</td>\n",
       "      <td>0.7256</td>\n",
       "      <td>0.74335</td>\n",
       "      <td>0.711867</td>\n",
       "      <td>23.79</td>\n",
       "      <td>23.435</td>\n",
       "      <td>24.326000</td>\n",
       "      <td>7.758868</td>\n",
       "    </tr>\n",
       "    <tr>\n",
       "      <th>5</th>\n",
       "      <td>0.134735</td>\n",
       "      <td>34.687273</td>\n",
       "      <td>Protected Well</td>\n",
       "      <td>Well</td>\n",
       "      <td>Public Tapstand</td>\n",
       "      <td>Public Tapstand</td>\n",
       "      <td>Improved</td>\n",
       "      <td>Kenya</td>\n",
       "      <td>KEN</td>\n",
       "      <td>Kakamega</td>\n",
       "      <td>...</td>\n",
       "      <td>5.567590</td>\n",
       "      <td>5.462062</td>\n",
       "      <td>10.701967</td>\n",
       "      <td>0.7659</td>\n",
       "      <td>0.77880</td>\n",
       "      <td>0.763500</td>\n",
       "      <td>23.73</td>\n",
       "      <td>23.325</td>\n",
       "      <td>24.079091</td>\n",
       "      <td>9.620794</td>\n",
       "    </tr>\n",
       "    <tr>\n",
       "      <th>...</th>\n",
       "      <td>...</td>\n",
       "      <td>...</td>\n",
       "      <td>...</td>\n",
       "      <td>...</td>\n",
       "      <td>...</td>\n",
       "      <td>...</td>\n",
       "      <td>...</td>\n",
       "      <td>...</td>\n",
       "      <td>...</td>\n",
       "      <td>...</td>\n",
       "      <td>...</td>\n",
       "      <td>...</td>\n",
       "      <td>...</td>\n",
       "      <td>...</td>\n",
       "      <td>...</td>\n",
       "      <td>...</td>\n",
       "      <td>...</td>\n",
       "      <td>...</td>\n",
       "      <td>...</td>\n",
       "      <td>...</td>\n",
       "      <td>...</td>\n",
       "    </tr>\n",
       "    <tr>\n",
       "      <th>21362</th>\n",
       "      <td>0.121658</td>\n",
       "      <td>34.464638</td>\n",
       "      <td>Protected Well</td>\n",
       "      <td>Well</td>\n",
       "      <td>Motorized Pump - Electric</td>\n",
       "      <td>Motorized Pump</td>\n",
       "      <td>Improved</td>\n",
       "      <td>Kenya</td>\n",
       "      <td>KEN</td>\n",
       "      <td>Siaya</td>\n",
       "      <td>...</td>\n",
       "      <td>5.734777</td>\n",
       "      <td>4.933049</td>\n",
       "      <td>9.900964</td>\n",
       "      <td>0.7782</td>\n",
       "      <td>0.78920</td>\n",
       "      <td>0.783067</td>\n",
       "      <td>24.21</td>\n",
       "      <td>23.745</td>\n",
       "      <td>24.664545</td>\n",
       "      <td>6.986204</td>\n",
       "    </tr>\n",
       "    <tr>\n",
       "      <th>21363</th>\n",
       "      <td>0.061087</td>\n",
       "      <td>34.842942</td>\n",
       "      <td>Protected Well</td>\n",
       "      <td>Well</td>\n",
       "      <td>Motorized Pump - Electric</td>\n",
       "      <td>Motorized Pump</td>\n",
       "      <td>Improved</td>\n",
       "      <td>Kenya</td>\n",
       "      <td>KEN</td>\n",
       "      <td>Vihiga</td>\n",
       "      <td>...</td>\n",
       "      <td>3.985360</td>\n",
       "      <td>5.431612</td>\n",
       "      <td>11.764437</td>\n",
       "      <td>0.7765</td>\n",
       "      <td>0.78705</td>\n",
       "      <td>0.758450</td>\n",
       "      <td>23.01</td>\n",
       "      <td>22.475</td>\n",
       "      <td>22.620909</td>\n",
       "      <td>9.863127</td>\n",
       "    </tr>\n",
       "    <tr>\n",
       "      <th>21364</th>\n",
       "      <td>0.028658</td>\n",
       "      <td>34.525814</td>\n",
       "      <td>Protected Well</td>\n",
       "      <td>Well</td>\n",
       "      <td>Hand Pump</td>\n",
       "      <td>Hand Pump</td>\n",
       "      <td>Improved</td>\n",
       "      <td>Kenya</td>\n",
       "      <td>KEN</td>\n",
       "      <td>Siaya</td>\n",
       "      <td>...</td>\n",
       "      <td>3.931248</td>\n",
       "      <td>3.760260</td>\n",
       "      <td>9.639885</td>\n",
       "      <td>0.6940</td>\n",
       "      <td>0.69380</td>\n",
       "      <td>0.715567</td>\n",
       "      <td>24.19</td>\n",
       "      <td>23.805</td>\n",
       "      <td>23.826364</td>\n",
       "      <td>4.242080</td>\n",
       "    </tr>\n",
       "    <tr>\n",
       "      <th>21365</th>\n",
       "      <td>-0.671726</td>\n",
       "      <td>37.738338</td>\n",
       "      <td>Sand or Sub-surface Dam</td>\n",
       "      <td>Sand or Sub-surface Dam</td>\n",
       "      <td>Public Tapstand</td>\n",
       "      <td>Public Tapstand</td>\n",
       "      <td>Improved</td>\n",
       "      <td>Kenya</td>\n",
       "      <td>KEN</td>\n",
       "      <td>Embu</td>\n",
       "      <td>...</td>\n",
       "      <td>0.716135</td>\n",
       "      <td>0.397227</td>\n",
       "      <td>3.169620</td>\n",
       "      <td>0.5827</td>\n",
       "      <td>0.62535</td>\n",
       "      <td>0.689267</td>\n",
       "      <td>24.27</td>\n",
       "      <td>24.895</td>\n",
       "      <td>24.513636</td>\n",
       "      <td>0.640961</td>\n",
       "    </tr>\n",
       "    <tr>\n",
       "      <th>21366</th>\n",
       "      <td>0.231943</td>\n",
       "      <td>34.712578</td>\n",
       "      <td>Protected Well</td>\n",
       "      <td>Well</td>\n",
       "      <td>Public Tapstand</td>\n",
       "      <td>Public Tapstand</td>\n",
       "      <td>Improved</td>\n",
       "      <td>Kenya</td>\n",
       "      <td>KEN</td>\n",
       "      <td>Kakamega</td>\n",
       "      <td>...</td>\n",
       "      <td>5.333297</td>\n",
       "      <td>6.251597</td>\n",
       "      <td>11.842175</td>\n",
       "      <td>0.7809</td>\n",
       "      <td>0.78745</td>\n",
       "      <td>0.746817</td>\n",
       "      <td>23.41</td>\n",
       "      <td>23.055</td>\n",
       "      <td>23.890000</td>\n",
       "      <td>8.410801</td>\n",
       "    </tr>\n",
       "  </tbody>\n",
       "</table>\n",
       "<p>3479 rows × 47 columns</p>\n",
       "</div>"
      ],
      "text/plain": [
       "        lat_deg    lon_deg       water_source_clean    water_source_category  \\\n",
       "0      0.174668  34.554572           Protected Well                     Well   \n",
       "1      0.220830  34.565483           Protected Well                     Well   \n",
       "2      0.044235  34.339775           Protected Well                     Well   \n",
       "4      0.497160  34.831463           Undefined Well                     Well   \n",
       "5      0.134735  34.687273           Protected Well                     Well   \n",
       "...         ...        ...                      ...                      ...   \n",
       "21362  0.121658  34.464638           Protected Well                     Well   \n",
       "21363  0.061087  34.842942           Protected Well                     Well   \n",
       "21364  0.028658  34.525814           Protected Well                     Well   \n",
       "21365 -0.671726  37.738338  Sand or Sub-surface Dam  Sand or Sub-surface Dam   \n",
       "21366  0.231943  34.712578           Protected Well                     Well   \n",
       "\n",
       "                water_tech_clean _water_tech_category facility_type  \\\n",
       "0      Motorized Pump - Electric       Motorized Pump      Improved   \n",
       "1      Motorized Pump - Electric       Motorized Pump      Improved   \n",
       "2      Motorized Pump - Electric       Motorized Pump      Improved   \n",
       "4                Public Tapstand      Public Tapstand      Improved   \n",
       "5                Public Tapstand      Public Tapstand      Improved   \n",
       "...                          ...                  ...           ...   \n",
       "21362  Motorized Pump - Electric       Motorized Pump      Improved   \n",
       "21363  Motorized Pump - Electric       Motorized Pump      Improved   \n",
       "21364                  Hand Pump            Hand Pump      Improved   \n",
       "21365            Public Tapstand      Public Tapstand      Improved   \n",
       "21366            Public Tapstand      Public Tapstand      Improved   \n",
       "\n",
       "      clean_country_name clean_country_id clean_adm1  ...  \\\n",
       "0                  Kenya              KEN   Kakamega  ...   \n",
       "1                  Kenya              KEN   Kakamega  ...   \n",
       "2                  Kenya              KEN      Siaya  ...   \n",
       "4                  Kenya              KEN   Kakamega  ...   \n",
       "5                  Kenya              KEN   Kakamega  ...   \n",
       "...                  ...              ...        ...  ...   \n",
       "21362              Kenya              KEN      Siaya  ...   \n",
       "21363              Kenya              KEN     Vihiga  ...   \n",
       "21364              Kenya              KEN      Siaya  ...   \n",
       "21365              Kenya              KEN       Embu  ...   \n",
       "21366              Kenya              KEN   Kakamega  ...   \n",
       "\n",
       "      chirps_7_precipitation chirps_30_precipitation chirps_90_precipitation  \\\n",
       "0                   4.914062                5.804299               11.215961   \n",
       "1                   3.862696                5.864281               11.359583   \n",
       "2                   2.113567                2.798805                7.549499   \n",
       "4                   4.075452                5.655031                9.077165   \n",
       "5                   5.567590                5.462062               10.701967   \n",
       "...                      ...                     ...                     ...   \n",
       "21362               5.734777                4.933049                9.900964   \n",
       "21363               3.985360                5.431612               11.764437   \n",
       "21364               3.931248                3.760260                9.639885   \n",
       "21365               0.716135                0.397227                3.169620   \n",
       "21366               5.333297                6.251597               11.842175   \n",
       "\n",
       "       ndvi_7_NDVI  ndvi_30_NDVI  ndvi_90_NDVI  lst_7_LST_Day_1km  \\\n",
       "0           0.7685       0.77920      0.765850              23.35   \n",
       "1           0.7642       0.77615      0.745817              23.63   \n",
       "2           0.7348       0.73455      0.716650              24.89   \n",
       "4           0.7256       0.74335      0.711867              23.79   \n",
       "5           0.7659       0.77880      0.763500              23.73   \n",
       "...            ...           ...           ...                ...   \n",
       "21362       0.7782       0.78920      0.783067              24.21   \n",
       "21363       0.7765       0.78705      0.758450              23.01   \n",
       "21364       0.6940       0.69380      0.715567              24.19   \n",
       "21365       0.5827       0.62535      0.689267              24.27   \n",
       "21366       0.7809       0.78745      0.746817              23.41   \n",
       "\n",
       "       lst_30_LST_Day_1km  lst_90_LST_Day_1km  pop_population  \n",
       "0                  23.620           24.402727       10.462028  \n",
       "1                  23.370           24.260909        6.315442  \n",
       "2                  24.350           24.922000        5.745561  \n",
       "4                  23.435           24.326000        7.758868  \n",
       "5                  23.325           24.079091        9.620794  \n",
       "...                   ...                 ...             ...  \n",
       "21362              23.745           24.664545        6.986204  \n",
       "21363              22.475           22.620909        9.863127  \n",
       "21364              23.805           23.826364        4.242080  \n",
       "21365              24.895           24.513636        0.640961  \n",
       "21366              23.055           23.890000        8.410801  \n",
       "\n",
       "[3479 rows x 47 columns]"
      ]
     },
     "execution_count": 61,
     "metadata": {},
     "output_type": "execute_result"
    }
   ],
   "source": [
    "df_cleaned"
   ]
  },
  {
   "cell_type": "code",
   "execution_count": 62,
   "id": "55076b6c",
   "metadata": {},
   "outputs": [
    {
     "data": {
      "text/plain": [
       "Index(['lat_deg', 'lon_deg', 'water_source_clean', 'water_source_category',\n",
       "       'water_tech_clean', '_water_tech_category', 'facility_type',\n",
       "       'clean_country_name', 'clean_country_id', 'clean_adm1', 'clean_adm2',\n",
       "       'clean_adm3', 'status_clean', 'distance_to_primary',\n",
       "       'distance_to_secondary', 'distance_to_tertiary', 'distance_to_city',\n",
       "       'distance_to_town', 'local_population', 'served_population',\n",
       "       'crucialness', 'pressure', 'usage_cap', 'days_since_report',\n",
       "       'staleness_score', 'is_latest', 'location_id', 'is_urban',\n",
       "       'cluster_size', 'country_name', 'water_source', 'adm1', 'adm2', 'adm3',\n",
       "       'count', 'latitude', 'longitude', 'chirps_7_precipitation',\n",
       "       'chirps_30_precipitation', 'chirps_90_precipitation', 'ndvi_7_NDVI',\n",
       "       'ndvi_30_NDVI', 'ndvi_90_NDVI', 'lst_7_LST_Day_1km',\n",
       "       'lst_30_LST_Day_1km', 'lst_90_LST_Day_1km', 'pop_population'],\n",
       "      dtype='object')"
      ]
     },
     "execution_count": 62,
     "metadata": {},
     "output_type": "execute_result"
    }
   ],
   "source": [
    "df_cleaned.columns"
   ]
  },
  {
   "cell_type": "markdown",
   "id": "7764d7ce",
   "metadata": {},
   "source": [
    "### clean columns"
   ]
  },
  {
   "cell_type": "markdown",
   "id": "624b4ef3",
   "metadata": {},
   "source": [
    "- pruning decision based on each correlated pair\n",
    "1. Perfect Duplicates: Keep 'latitude', 'longitude' \n",
    "2. NDVI, LST, CHIRPS, Pressure & Served Population\n",
    "- keep only the 30 day because it is more interpretable\n",
    "- keep served_population and pressure\n",
    "3. Keep: 'staleness_score'\n",
    "4. remove 'days_since_report' and 'location_id' \n",
    "5. LST- Drop All are dropped due to leakage/correlation\n",
    "6. pressure\t- drop due to label leakage\n",
    "7. 'usage_cap', 'cluster_size' - same values might introduce noise"
   ]
  },
  {
   "cell_type": "code",
   "execution_count": 63,
   "id": "16bac85e",
   "metadata": {},
   "outputs": [
    {
     "data": {
      "text/plain": [
       "Index(['water_source_clean', 'water_source_category', 'water_tech_clean',\n",
       "       'clean_adm1', 'clean_adm2', 'clean_adm3', 'status_clean',\n",
       "       'distance_to_primary', 'distance_to_secondary', 'distance_to_tertiary',\n",
       "       'distance_to_city', 'distance_to_town', 'local_population',\n",
       "       'served_population', 'crucialness', 'pressure', 'staleness_score',\n",
       "       'latitude', 'longitude', 'chirps_30_precipitation', 'ndvi_30_NDVI',\n",
       "       'lst_30_LST_Day_1km', 'pop_population'],\n",
       "      dtype='object')"
      ]
     },
     "execution_count": 63,
     "metadata": {},
     "output_type": "execute_result"
    }
   ],
   "source": [
    "drop_cols = [\n",
    "    # Perfect duplicates\n",
    "    'lat_deg', 'lon_deg',\n",
    "\n",
    "    # Redundant country info\n",
    "    'country_name', 'clean_country_name', 'clean_country_id',\n",
    "\n",
    "    # ID and temporal leakage\n",
    "    'location_id', 'days_since_report', 'count',\n",
    "    \n",
    "    # Redundant administrative variables\n",
    "    'adm1', 'adm2', 'adm3',\n",
    "\n",
    "    # Redundant short-term environmental variables\n",
    "    'chirps_7_precipitation', 'chirps_90_precipitation',\n",
    "    'ndvi_7_NDVI', 'ndvi_90_NDVI',\n",
    "    'lst_7_LST_Day_1km', 'lst_90_LST_Day_1km',\n",
    "\n",
    "    # Leakage or low signal\n",
    "    'usage_cap', 'cluster_size',\n",
    "    \n",
    "    # Redundant \n",
    "    'water_source', '_water_tech_category', 'facility_type', 'is_latest', 'is_urban'\n",
    "    \n",
    "]\n",
    "df_cleaned = df_cleaned.drop(columns=drop_cols)\n",
    "df_cleaned.columns"
   ]
  },
  {
   "cell_type": "markdown",
   "id": "137bf1a7",
   "metadata": {},
   "source": [
    "## Predict Risk Score as a Multiclass Classification Problem"
   ]
  },
  {
   "cell_type": "markdown",
   "id": "19eab50c",
   "metadata": {},
   "source": [
    "`pop_population`: Higher density → greater likelihood of contamination due to overuse or stress on infrastructure.\n",
    "\n",
    "`pressure`: Lower pressure can lead to backflow or intrusion of contaminants; hence, high pressure might seem better, but if paired with population and temperature, it may still signal risk.\n",
    "\n",
    "`lst_30_LST_Day_1km`: Higher surface temperature promotes microbial growth and water quality deterioration.\n",
    "\n"
   ]
  },
  {
   "cell_type": "markdown",
   "id": "e8166310",
   "metadata": {},
   "source": [
    "### Proxy target variable"
   ]
  },
  {
   "cell_type": "code",
   "execution_count": 64,
   "id": "0704ab64",
   "metadata": {},
   "outputs": [],
   "source": [
    "# Risk Score Label \n",
    "# -  combines population density, water pressure, and surface temperature—three known risk-related features—to estimate contamination risk. \n",
    "\n",
    "df_cleaned['risk_score'] = (\n",
    "    (df_cleaned['pop_population'] > df_cleaned['pop_population'].median()).astype(int) +\n",
    "    (df_cleaned['pressure'] > df_cleaned['pressure'].median()).astype(int) +\n",
    "    (df_cleaned['lst_30_LST_Day_1km'] > df_cleaned['lst_30_LST_Day_1km'].median()).astype(int)\n",
    ")\n"
   ]
  },
  {
   "cell_type": "code",
   "execution_count": 65,
   "id": "cdef2e14",
   "metadata": {},
   "outputs": [
    {
     "data": {
      "text/plain": [
       "risk_score\n",
       "1    1644\n",
       "2    1376\n",
       "0     244\n",
       "3     215\n",
       "Name: count, dtype: int64"
      ]
     },
     "execution_count": 65,
     "metadata": {},
     "output_type": "execute_result"
    }
   ],
   "source": [
    "df_cleaned['risk_score'].value_counts()"
   ]
  },
  {
   "cell_type": "markdown",
   "id": "0f49d52c",
   "metadata": {},
   "source": [
    "`Interpretation of Each Score`:\n",
    "\n",
    "0 = All three features are below or equal to the median → lowest estimated risk.\n",
    "\n",
    "1 = Only one feature is above the median → slightly elevated risk.\n",
    "\n",
    "2 = Two features are above the median → moderately elevated risk.\n",
    "\n",
    "3 = All three features are above the median → highest estimated risk."
   ]
  },
  {
   "cell_type": "markdown",
   "id": "e82af78d",
   "metadata": {},
   "source": [
    "### Correlation"
   ]
  },
  {
   "cell_type": "code",
   "execution_count": 66,
   "id": "26de48c4",
   "metadata": {},
   "outputs": [
    {
     "name": "stdout",
     "output_type": "stream",
     "text": [
      "risk_score    1.0\n",
      "Name: risk_score, dtype: float64\n"
     ]
    }
   ],
   "source": [
    "# correlations with 'risk_score'\n",
    "correlations = df_cleaned.corr(numeric_only=True)['risk_score']\n",
    "\n",
    "# Filter features with strong correlation\n",
    "strong_corr = correlations[(correlations > 0.7) | (correlations < -0.7)]\n",
    "\n",
    "print(strong_corr)\n"
   ]
  },
  {
   "cell_type": "code",
   "execution_count": 67,
   "id": "02998fb4",
   "metadata": {},
   "outputs": [
    {
     "data": {
      "text/html": [
       "<div>\n",
       "<style scoped>\n",
       "    .dataframe tbody tr th:only-of-type {\n",
       "        vertical-align: middle;\n",
       "    }\n",
       "\n",
       "    .dataframe tbody tr th {\n",
       "        vertical-align: top;\n",
       "    }\n",
       "\n",
       "    .dataframe thead th {\n",
       "        text-align: right;\n",
       "    }\n",
       "</style>\n",
       "<table border=\"1\" class=\"dataframe\">\n",
       "  <thead>\n",
       "    <tr style=\"text-align: right;\">\n",
       "      <th></th>\n",
       "      <th>water_source_clean</th>\n",
       "      <th>water_source_category</th>\n",
       "      <th>water_tech_clean</th>\n",
       "      <th>clean_adm1</th>\n",
       "      <th>clean_adm2</th>\n",
       "      <th>clean_adm3</th>\n",
       "      <th>status_clean</th>\n",
       "      <th>distance_to_primary</th>\n",
       "      <th>distance_to_secondary</th>\n",
       "      <th>distance_to_tertiary</th>\n",
       "      <th>...</th>\n",
       "      <th>crucialness</th>\n",
       "      <th>pressure</th>\n",
       "      <th>staleness_score</th>\n",
       "      <th>latitude</th>\n",
       "      <th>longitude</th>\n",
       "      <th>chirps_30_precipitation</th>\n",
       "      <th>ndvi_30_NDVI</th>\n",
       "      <th>lst_30_LST_Day_1km</th>\n",
       "      <th>pop_population</th>\n",
       "      <th>risk_score</th>\n",
       "    </tr>\n",
       "  </thead>\n",
       "  <tbody>\n",
       "    <tr>\n",
       "      <th>0</th>\n",
       "      <td>Protected Well</td>\n",
       "      <td>Well</td>\n",
       "      <td>Motorized Pump - Electric</td>\n",
       "      <td>Kakamega</td>\n",
       "      <td>Khwisero</td>\n",
       "      <td>Kisa Central</td>\n",
       "      <td>Non-Functional</td>\n",
       "      <td>9183.615388</td>\n",
       "      <td>429.841197</td>\n",
       "      <td>6642.740054</td>\n",
       "      <td>...</td>\n",
       "      <td>0.092552</td>\n",
       "      <td>0.836667</td>\n",
       "      <td>85.472443</td>\n",
       "      <td>0.174668</td>\n",
       "      <td>34.554572</td>\n",
       "      <td>5.804299</td>\n",
       "      <td>0.77920</td>\n",
       "      <td>23.620</td>\n",
       "      <td>10.462028</td>\n",
       "      <td>1</td>\n",
       "    </tr>\n",
       "    <tr>\n",
       "      <th>1</th>\n",
       "      <td>Protected Well</td>\n",
       "      <td>Well</td>\n",
       "      <td>Motorized Pump - Electric</td>\n",
       "      <td>Kakamega</td>\n",
       "      <td>Butere</td>\n",
       "      <td>Marama North</td>\n",
       "      <td>Non-Functional</td>\n",
       "      <td>9834.545269</td>\n",
       "      <td>3503.282125</td>\n",
       "      <td>1517.239132</td>\n",
       "      <td>...</td>\n",
       "      <td>0.055234</td>\n",
       "      <td>0.413333</td>\n",
       "      <td>93.270891</td>\n",
       "      <td>0.220830</td>\n",
       "      <td>34.565483</td>\n",
       "      <td>5.864281</td>\n",
       "      <td>0.77615</td>\n",
       "      <td>23.370</td>\n",
       "      <td>6.315442</td>\n",
       "      <td>1</td>\n",
       "    </tr>\n",
       "    <tr>\n",
       "      <th>2</th>\n",
       "      <td>Protected Well</td>\n",
       "      <td>Well</td>\n",
       "      <td>Motorized Pump - Electric</td>\n",
       "      <td>Siaya</td>\n",
       "      <td>Alego Usonga</td>\n",
       "      <td>South East Alego</td>\n",
       "      <td>Non-Functional</td>\n",
       "      <td>12946.140250</td>\n",
       "      <td>399.848815</td>\n",
       "      <td>5794.867044</td>\n",
       "      <td>...</td>\n",
       "      <td>0.199682</td>\n",
       "      <td>1.676667</td>\n",
       "      <td>93.270891</td>\n",
       "      <td>0.044235</td>\n",
       "      <td>34.339775</td>\n",
       "      <td>2.798805</td>\n",
       "      <td>0.73455</td>\n",
       "      <td>24.350</td>\n",
       "      <td>5.745561</td>\n",
       "      <td>3</td>\n",
       "    </tr>\n",
       "    <tr>\n",
       "      <th>4</th>\n",
       "      <td>Undefined Well</td>\n",
       "      <td>Well</td>\n",
       "      <td>Public Tapstand</td>\n",
       "      <td>Kakamega</td>\n",
       "      <td>Malava</td>\n",
       "      <td>Butali/Chegulo</td>\n",
       "      <td>Non-Functional, dry season</td>\n",
       "      <td>24860.727495</td>\n",
       "      <td>20338.383954</td>\n",
       "      <td>4072.968360</td>\n",
       "      <td>...</td>\n",
       "      <td>0.314988</td>\n",
       "      <td>3.033333</td>\n",
       "      <td>67.775251</td>\n",
       "      <td>0.497160</td>\n",
       "      <td>34.831463</td>\n",
       "      <td>5.655031</td>\n",
       "      <td>0.74335</td>\n",
       "      <td>23.435</td>\n",
       "      <td>7.758868</td>\n",
       "      <td>2</td>\n",
       "    </tr>\n",
       "    <tr>\n",
       "      <th>5</th>\n",
       "      <td>Protected Well</td>\n",
       "      <td>Well</td>\n",
       "      <td>Public Tapstand</td>\n",
       "      <td>Kakamega</td>\n",
       "      <td>Ikolomani</td>\n",
       "      <td>Idakho South</td>\n",
       "      <td>Functional, not in use</td>\n",
       "      <td>13949.830321</td>\n",
       "      <td>1275.321026</td>\n",
       "      <td>1183.524036</td>\n",
       "      <td>...</td>\n",
       "      <td>0.090775</td>\n",
       "      <td>1.230000</td>\n",
       "      <td>67.604558</td>\n",
       "      <td>0.134735</td>\n",
       "      <td>34.687273</td>\n",
       "      <td>5.462062</td>\n",
       "      <td>0.77880</td>\n",
       "      <td>23.325</td>\n",
       "      <td>9.620794</td>\n",
       "      <td>2</td>\n",
       "    </tr>\n",
       "  </tbody>\n",
       "</table>\n",
       "<p>5 rows × 24 columns</p>\n",
       "</div>"
      ],
      "text/plain": [
       "  water_source_clean water_source_category           water_tech_clean  \\\n",
       "0     Protected Well                  Well  Motorized Pump - Electric   \n",
       "1     Protected Well                  Well  Motorized Pump - Electric   \n",
       "2     Protected Well                  Well  Motorized Pump - Electric   \n",
       "4     Undefined Well                  Well            Public Tapstand   \n",
       "5     Protected Well                  Well            Public Tapstand   \n",
       "\n",
       "  clean_adm1    clean_adm2        clean_adm3                status_clean  \\\n",
       "0   Kakamega      Khwisero      Kisa Central              Non-Functional   \n",
       "1   Kakamega        Butere      Marama North              Non-Functional   \n",
       "2      Siaya  Alego Usonga  South East Alego              Non-Functional   \n",
       "4   Kakamega        Malava    Butali/Chegulo  Non-Functional, dry season   \n",
       "5   Kakamega     Ikolomani      Idakho South      Functional, not in use   \n",
       "\n",
       "   distance_to_primary  distance_to_secondary  distance_to_tertiary  ...  \\\n",
       "0          9183.615388             429.841197           6642.740054  ...   \n",
       "1          9834.545269            3503.282125           1517.239132  ...   \n",
       "2         12946.140250             399.848815           5794.867044  ...   \n",
       "4         24860.727495           20338.383954           4072.968360  ...   \n",
       "5         13949.830321            1275.321026           1183.524036  ...   \n",
       "\n",
       "   crucialness  pressure  staleness_score  latitude  longitude  \\\n",
       "0     0.092552  0.836667        85.472443  0.174668  34.554572   \n",
       "1     0.055234  0.413333        93.270891  0.220830  34.565483   \n",
       "2     0.199682  1.676667        93.270891  0.044235  34.339775   \n",
       "4     0.314988  3.033333        67.775251  0.497160  34.831463   \n",
       "5     0.090775  1.230000        67.604558  0.134735  34.687273   \n",
       "\n",
       "   chirps_30_precipitation  ndvi_30_NDVI  lst_30_LST_Day_1km  pop_population  \\\n",
       "0                 5.804299       0.77920              23.620       10.462028   \n",
       "1                 5.864281       0.77615              23.370        6.315442   \n",
       "2                 2.798805       0.73455              24.350        5.745561   \n",
       "4                 5.655031       0.74335              23.435        7.758868   \n",
       "5                 5.462062       0.77880              23.325        9.620794   \n",
       "\n",
       "   risk_score  \n",
       "0           1  \n",
       "1           1  \n",
       "2           3  \n",
       "4           2  \n",
       "5           2  \n",
       "\n",
       "[5 rows x 24 columns]"
      ]
     },
     "execution_count": 67,
     "metadata": {},
     "output_type": "execute_result"
    }
   ],
   "source": [
    "# copy of the cleaned df\n",
    "df_model = df_cleaned.copy()\n",
    "df_model.head()"
   ]
  },
  {
   "cell_type": "code",
   "execution_count": 68,
   "id": "cfa8f4d3",
   "metadata": {},
   "outputs": [
    {
     "data": {
      "text/plain": [
       "water_source_clean          object\n",
       "water_source_category       object\n",
       "water_tech_clean            object\n",
       "clean_adm1                  object\n",
       "clean_adm2                  object\n",
       "clean_adm3                  object\n",
       "status_clean                object\n",
       "distance_to_primary        float64\n",
       "distance_to_secondary      float64\n",
       "distance_to_tertiary       float64\n",
       "distance_to_city           float64\n",
       "distance_to_town           float64\n",
       "local_population           float64\n",
       "served_population          float64\n",
       "crucialness                float64\n",
       "pressure                   float64\n",
       "staleness_score            float64\n",
       "latitude                   float64\n",
       "longitude                  float64\n",
       "chirps_30_precipitation    float64\n",
       "ndvi_30_NDVI               float64\n",
       "lst_30_LST_Day_1km         float64\n",
       "pop_population             float64\n",
       "risk_score                   int32\n",
       "dtype: object"
      ]
     },
     "execution_count": 68,
     "metadata": {},
     "output_type": "execute_result"
    }
   ],
   "source": [
    "df_model.dtypes"
   ]
  },
  {
   "cell_type": "markdown",
   "id": "6f4deedb",
   "metadata": {},
   "source": [
    "### Features and target"
   ]
  },
  {
   "cell_type": "code",
   "execution_count": 69,
   "id": "8d467e73",
   "metadata": {},
   "outputs": [],
   "source": [
    "X = df_model.drop(columns=['risk_score', 'pop_population', 'pressure', 'lst_30_LST_Day_1km'])\n",
    "y = df_model['risk_score']  # Values: 0, 1, 2, 3"
   ]
  },
  {
   "cell_type": "markdown",
   "id": "aed44737",
   "metadata": {},
   "source": [
    "### Train-test split"
   ]
  },
  {
   "cell_type": "code",
   "execution_count": 70,
   "id": "3eb5d760",
   "metadata": {},
   "outputs": [],
   "source": [
    "X_train, X_test, y_train, y_test = train_test_split(X, y, stratify=y, test_size=0.2, random_state=42)"
   ]
  },
  {
   "cell_type": "markdown",
   "id": "0d79cd80",
   "metadata": {},
   "source": [
    "### Preprocessor"
   ]
  },
  {
   "cell_type": "code",
   "execution_count": 71,
   "id": "85e85397",
   "metadata": {},
   "outputs": [],
   "source": [
    "# Column types\n",
    "numeric_cols = X.select_dtypes(include='number').columns.tolist()\n",
    "categorical_cols = X.select_dtypes(include='object').columns.tolist()\n",
    "\n",
    "# Preprocessing\n",
    "preprocessor = ColumnTransformer([\n",
    "    ('num', StandardScaler(), numeric_cols),\n",
    "    ('cat', OneHotEncoder(handle_unknown='ignore'), categorical_cols)\n",
    "])"
   ]
  },
  {
   "cell_type": "markdown",
   "id": "03b70842",
   "metadata": {},
   "source": [
    "## Baseline Model: Logistic Regression"
   ]
  },
  {
   "cell_type": "code",
   "execution_count": 72,
   "id": "55af8ad7",
   "metadata": {},
   "outputs": [
    {
     "name": "stderr",
     "output_type": "stream",
     "text": [
      "c:\\Users\\PINCHEZZ\\anaconda3\\envs\\learn-env\\lib\\site-packages\\sklearn\\linear_model\\_logistic.py:1247: FutureWarning:\n",
      "\n",
      "'multi_class' was deprecated in version 1.5 and will be removed in 1.7. From then on, it will always use 'multinomial'. Leave it to its default value to avoid this warning.\n",
      "\n"
     ]
    },
    {
     "name": "stdout",
     "output_type": "stream",
     "text": [
      "Classification Report:\n",
      "\n",
      "              precision    recall  f1-score   support\n",
      "\n",
      "           0       0.56      0.53      0.55        45\n",
      "           1       0.71      0.78      0.74       351\n",
      "           2       0.65      0.62      0.63       260\n",
      "           3       0.59      0.25      0.35        40\n",
      "\n",
      "    accuracy                           0.67       696\n",
      "   macro avg       0.63      0.55      0.57       696\n",
      "weighted avg       0.67      0.67      0.67       696\n",
      "\n"
     ]
    }
   ],
   "source": [
    "# Create pipeline\n",
    "logreg_pipeline = Pipeline([\n",
    "    ('preprocessor', preprocessor),\n",
    "    ('classifier', LogisticRegression(max_iter=1000, multi_class='multinomial', solver='lbfgs'))\n",
    "])\n",
    "\n",
    "# Train-test split\n",
    "X_train, X_test, y_train, y_test = train_test_split(X, y, test_size=0.2, random_state=42)\n",
    "\n",
    "# Fit model\n",
    "logreg_pipeline.fit(X_train, y_train)\n",
    "\n",
    "# Predict\n",
    "y_pred = logreg_pipeline.predict(X_test)\n",
    "\n",
    "# Print evaluation report\n",
    "print(\"Classification Report:\\n\")\n",
    "print(classification_report(y_test, y_pred))"
   ]
  },
  {
   "cell_type": "markdown",
   "id": "5d14aaa6",
   "metadata": {},
   "source": [
    "Accuracy: 67%\n",
    "\n",
    "Weighted F1: 0.66\n",
    "\n",
    "Weakest macro recall: 0.54\n",
    "\n",
    "Most confusion: class 3 vs 2."
   ]
  },
  {
   "cell_type": "code",
   "execution_count": 73,
   "id": "58f77051",
   "metadata": {},
   "outputs": [
    {
     "name": "stdout",
     "output_type": "stream",
     "text": [
      "[[ 24  20   1   0]\n",
      " [ 16 274  61   0]\n",
      " [  3  89 161   7]\n",
      " [  0   5  25  10]]\n"
     ]
    }
   ],
   "source": [
    "print(confusion_matrix(y_test, y_pred))\n"
   ]
  },
  {
   "cell_type": "markdown",
   "id": "af3350fe",
   "metadata": {},
   "source": [
    "Class 1 is the majority class and shows decent performance.\n",
    "\n",
    "Class 3 (high risk) is poorly classified: only 10 of 40 are correct (25% recall).\n",
    "\n",
    "Many class 3 samples are misclassified as class 2.\n"
   ]
  },
  {
   "cell_type": "markdown",
   "id": "9c98e5e6",
   "metadata": {},
   "source": [
    "## Tuned Logistic Regression"
   ]
  },
  {
   "cell_type": "code",
   "execution_count": 74,
   "id": "14f8dd4c",
   "metadata": {},
   "outputs": [
    {
     "name": "stdout",
     "output_type": "stream",
     "text": [
      "Fitting 5 folds for each of 20 candidates, totalling 100 fits\n"
     ]
    },
    {
     "name": "stderr",
     "output_type": "stream",
     "text": [
      "c:\\Users\\PINCHEZZ\\anaconda3\\envs\\learn-env\\lib\\site-packages\\sklearn\\linear_model\\_logistic.py:1247: FutureWarning:\n",
      "\n",
      "'multi_class' was deprecated in version 1.5 and will be removed in 1.7. From then on, it will always use 'multinomial'. Leave it to its default value to avoid this warning.\n",
      "\n"
     ]
    },
    {
     "name": "stdout",
     "output_type": "stream",
     "text": [
      "Best Parameters: {'classifier__C': 6.351221010640703, 'classifier__penalty': 'l2'}\n",
      "\n",
      "Classification Report:\n",
      "\n",
      "              precision    recall  f1-score   support\n",
      "\n",
      "           0       0.45      0.53      0.49        45\n",
      "           1       0.70      0.76      0.73       351\n",
      "           2       0.65      0.61      0.63       260\n",
      "           3       0.52      0.28      0.36        40\n",
      "\n",
      "    accuracy                           0.66       696\n",
      "   macro avg       0.58      0.54      0.55       696\n",
      "weighted avg       0.66      0.66      0.66       696\n",
      "\n",
      "\n",
      "Confusion Matrix:\n",
      " [[ 24  20   1   0]\n",
      " [ 26 267  58   0]\n",
      " [  3  89 158  10]\n",
      " [  0   3  26  11]]\n"
     ]
    }
   ],
   "source": [
    "from scipy.stats import loguniform\n",
    "\n",
    "# Parameter space\n",
    "param_distributions = {\n",
    "    'classifier__C': loguniform(0.001, 10.0),\n",
    "    'classifier__penalty': ['l2']\n",
    "}\n",
    "\n",
    "# Randomized search\n",
    "random_search = RandomizedSearchCV(\n",
    "    logreg_pipeline,\n",
    "    param_distributions=param_distributions,\n",
    "    n_iter=20,\n",
    "    scoring='f1_weighted',\n",
    "    cv=5,\n",
    "    verbose=1,\n",
    "    random_state=42,\n",
    "    n_jobs=-1\n",
    ")\n",
    "\n",
    "# Fit\n",
    "random_search.fit(X_train, y_train)\n",
    "\n",
    "# Predictions\n",
    "best_logistic_model = random_search.best_estimator_\n",
    "y_pred = best_logistic_model.predict(X_test)\n",
    "\n",
    "# Evaluation\n",
    "print(\"Best Parameters:\", random_search.best_params_)\n",
    "print(\"\\nClassification Report:\\n\")\n",
    "print(classification_report(y_test, y_pred))\n",
    "\n",
    "# Confusion matrix (raw values)\n",
    "conf_matrix = confusion_matrix(y_test, y_pred)\n",
    "print(\"\\nConfusion Matrix:\\n\", conf_matrix)"
   ]
  },
  {
   "cell_type": "markdown",
   "id": "aa5740a1",
   "metadata": {},
   "source": [
    "No significant improvement from baseline.\n",
    "Still weak performance for class 3 (only 12/40).\n",
    "\n",
    "Weighted F1: 0.66\n",
    "\n",
    "Accuracy: 66%\n",
    "\n",
    "Very slight improvement in hyperparameter tuning, but overall performance stagnates."
   ]
  },
  {
   "cell_type": "markdown",
   "id": "022c4622",
   "metadata": {},
   "source": [
    "## Untuned XGBoost Classifier"
   ]
  },
  {
   "cell_type": "code",
   "execution_count": 75,
   "id": "d08a0f47",
   "metadata": {},
   "outputs": [
    {
     "name": "stdout",
     "output_type": "stream",
     "text": [
      "              precision    recall  f1-score   support\n",
      "\n",
      "           0       0.66      0.60      0.63        45\n",
      "           1       0.84      0.87      0.86       351\n",
      "           2       0.81      0.80      0.81       260\n",
      "           3       0.69      0.55      0.61        40\n",
      "\n",
      "    accuracy                           0.81       696\n",
      "   macro avg       0.75      0.71      0.73       696\n",
      "weighted avg       0.81      0.81      0.81       696\n",
      "\n"
     ]
    }
   ],
   "source": [
    "# Pipeline\n",
    "xgb_pipeline = Pipeline([\n",
    "    ('preprocessor', preprocessor),\n",
    "    ('model', XGBClassifier(objective='multi:softmax', num_class=4, eval_metric='mlogloss', random_state=42))\n",
    "])\n",
    "\n",
    "# Fit\n",
    "xgb_pipeline.fit(X_train, y_train)\n",
    "\n",
    "# Evaluate\n",
    "y_pred_xgb = xgb_pipeline.predict(X_test)\n",
    "print(classification_report(y_test, y_pred_xgb))\n"
   ]
  },
  {
   "cell_type": "markdown",
   "id": "4c9f6a3b",
   "metadata": {},
   "source": [
    "Accuracy: 81%\n",
    "\n",
    "Weighted F1: 0.81\n",
    "\n",
    "Weighted Recall: 0.81\n",
    "\n",
    "Macro Recall: 0.71"
   ]
  },
  {
   "cell_type": "code",
   "execution_count": 76,
   "id": "6233d803",
   "metadata": {},
   "outputs": [
    {
     "name": "stdout",
     "output_type": "stream",
     "text": [
      "[[ 27  18   0   0]\n",
      " [ 12 307  31   1]\n",
      " [  2  41 208   9]\n",
      " [  0   1  17  22]]\n"
     ]
    }
   ],
   "source": [
    "print(confusion_matrix(y_test, y_pred_xgb))\n"
   ]
  },
  {
   "cell_type": "markdown",
   "id": "4489813c",
   "metadata": {},
   "source": [
    "Much stronger across all classes.\n",
    "\n",
    "Class 3 recall improves (22/40).\n",
    "\n",
    "Class 1 performance is solid: 307/351 correct (87%).\n",
    "\n",
    "However, still some minor confusion in class 2 and 3."
   ]
  },
  {
   "cell_type": "markdown",
   "id": "b71e7218",
   "metadata": {},
   "source": [
    "## Tuned XGBoost (RandomizedSearchCV)"
   ]
  },
  {
   "cell_type": "code",
   "execution_count": 77,
   "id": "31f89945",
   "metadata": {},
   "outputs": [
    {
     "name": "stdout",
     "output_type": "stream",
     "text": [
      "Fitting 3 folds for each of 20 candidates, totalling 60 fits\n",
      "Best Parameters: {'model__subsample': 0.8, 'model__n_estimators': 100, 'model__max_depth': 10, 'model__learning_rate': 0.1, 'model__gamma': 0, 'model__colsample_bytree': 1.0}\n",
      "Classification Report:\n",
      "              precision    recall  f1-score   support\n",
      "\n",
      "           0       0.64      0.56      0.60        45\n",
      "           1       0.83      0.87      0.85       351\n",
      "           2       0.80      0.82      0.81       260\n",
      "           3       0.81      0.53      0.64        40\n",
      "\n",
      "    accuracy                           0.81       696\n",
      "   macro avg       0.77      0.69      0.72       696\n",
      "weighted avg       0.81      0.81      0.81       696\n",
      "\n",
      "\n",
      "🔹 Accuracy: 0.8103\n",
      "🔹 Weighted F1 Score: 0.8072\n",
      "🔹 Weighted Recall: 0.8103\n",
      "\n",
      "Confusion Matrix:\n",
      " [[ 25  20   0   0]\n",
      " [ 13 305  33   0]\n",
      " [  1  41 213   5]\n",
      " [  0   0  19  21]]\n"
     ]
    }
   ],
   "source": [
    "# parameter grid\n",
    "param_grid = {\n",
    "    'model__n_estimators': [100, 200, 300],\n",
    "    'model__max_depth': [3, 5, 7, 10],\n",
    "    'model__learning_rate': [0.01, 0.05, 0.1, 0.3],\n",
    "    'model__subsample': [0.6, 0.8, 1.0],\n",
    "    'model__colsample_bytree': [0.6, 0.8, 1.0],\n",
    "    'model__gamma': [0, 1, 5]\n",
    "}\n",
    "\n",
    "# Pipeline\n",
    "xgb_pipeline = Pipeline([\n",
    "    ('preprocessor', preprocessor),\n",
    "    ('model', XGBClassifier(\n",
    "        objective='multi:softmax',\n",
    "        num_class=4,\n",
    "        eval_metric='mlogloss',\n",
    "        random_state=42\n",
    "    ))\n",
    "])\n",
    "\n",
    "# Randomized Search\n",
    "random_search = RandomizedSearchCV(\n",
    "    xgb_pipeline,\n",
    "    param_distributions=param_grid,\n",
    "    n_iter=20,\n",
    "    scoring='f1_weighted',\n",
    "    cv=3,\n",
    "    verbose=2,\n",
    "    n_jobs=-1,\n",
    "    random_state=42\n",
    ")\n",
    "\n",
    "# Fit search\n",
    "random_search.fit(X_train, y_train)\n",
    "\n",
    "# Best model\n",
    "best_xgb_model = random_search.best_estimator_\n",
    "\n",
    "# Predict\n",
    "y_pred = best_xgb_model.predict(X_test)\n",
    "\n",
    "# Evaluation\n",
    "print(\"Best Parameters:\", random_search.best_params_)\n",
    "print(\"Classification Report:\")\n",
    "print(classification_report(y_test, y_pred))\n",
    "\n",
    "# Summary metrics\n",
    "acc = accuracy_score(y_test, y_pred)\n",
    "f1 = f1_score(y_test, y_pred, average='weighted')\n",
    "recall = recall_score(y_test, y_pred, average='weighted')\n",
    "\n",
    "print(f\"\\n🔹 Accuracy: {acc:.4f}\")\n",
    "print(f\"🔹 Weighted F1 Score: {f1:.4f}\")\n",
    "print(f\"🔹 Weighted Recall: {recall:.4f}\")\n",
    "\n",
    "# Confusion Matrix\n",
    "conf_matrix = confusion_matrix(y_test, y_pred)\n",
    "print(\"\\nConfusion Matrix:\\n\", conf_matrix)\n"
   ]
  },
  {
   "cell_type": "markdown",
   "id": "b8d9a511",
   "metadata": {},
   "source": [
    "`Interpretation`:\n",
    "\n",
    "Class 3 correctly identified 21/40 times.\n",
    "\n",
    "Performance in class 1 and 2 is nearly optimal.\n",
    "\n",
    "Slight drop in class 0 accuracy (from 27 → 25).\n",
    "\n",
    "`Metrics`:\n",
    "\n",
    "Accuracy: 81%\n",
    "\n",
    "Weighted F1: 0.8072\n",
    "\n",
    "Macro Recall: 0.69\n",
    "\n",
    "`Comment`:\n",
    "\n",
    "Model generalizes well, but confusion between class 0 and 1 persists"
   ]
  },
  {
   "cell_type": "markdown",
   "id": "ffdb1c19",
   "metadata": {},
   "source": [
    "## SMOTE + XGBoost "
   ]
  },
  {
   "cell_type": "code",
   "execution_count": 78,
   "id": "b8ddcccc",
   "metadata": {},
   "outputs": [
    {
     "name": "stderr",
     "output_type": "stream",
     "text": [
      "c:\\Users\\PINCHEZZ\\anaconda3\\envs\\learn-env\\lib\\site-packages\\sklearn\\base.py:474: FutureWarning:\n",
      "\n",
      "`BaseEstimator._validate_data` is deprecated in 1.6 and will be removed in 1.7. Use `sklearn.utils.validation.validate_data` instead. This function becomes public and is part of the scikit-learn developer API.\n",
      "\n",
      "c:\\Users\\PINCHEZZ\\anaconda3\\envs\\learn-env\\lib\\site-packages\\xgboost\\core.py:158: UserWarning:\n",
      "\n",
      "[06:32:28] WARNING: D:\\bld\\xgboost-split_1744329010901\\work\\src\\learner.cc:740: \n",
      "Parameters: { \"use_label_encoder\" } are not used.\n",
      "\n",
      "\n"
     ]
    },
    {
     "name": "stdout",
     "output_type": "stream",
     "text": [
      "Confusion Matrix:\n",
      " [[ 32  13   0   0]\n",
      " [ 19 299  32   1]\n",
      " [  1  38 212   9]\n",
      " [  0   0  15  25]]\n",
      "\n",
      "Classification Report:\n",
      "               precision    recall  f1-score   support\n",
      "\n",
      "           0       0.62      0.71      0.66        45\n",
      "           1       0.85      0.85      0.85       351\n",
      "           2       0.82      0.82      0.82       260\n",
      "           3       0.71      0.62      0.67        40\n",
      "\n",
      "    accuracy                           0.82       696\n",
      "   macro avg       0.75      0.75      0.75       696\n",
      "weighted avg       0.82      0.82      0.82       696\n",
      "\n",
      "Accuracy: 0.8161\n",
      "Weighted F1 Score: 0.8164\n",
      "Weighted Recall: 0.8161\n"
     ]
    }
   ],
   "source": [
    "# SMOTE + XGBoost pipeline\n",
    "smote_xgb_pipeline = ImbPipeline(steps=[\n",
    "    ('preprocessor', preprocessor),\n",
    "    ('smote', SMOTE(random_state=42)),\n",
    "    ('model', XGBClassifier(use_label_encoder=False, eval_metric='mlogloss', random_state=42))\n",
    "])\n",
    "\n",
    "\n",
    "# Fit the model\n",
    "smote_xgb_pipeline.fit(X_train, y_train)\n",
    "\n",
    "# Predict on test set\n",
    "y_pred = smote_xgb_pipeline.predict(X_test)\n",
    "\n",
    "# Compute metrics\n",
    "conf_matrix = confusion_matrix(y_test, y_pred)\n",
    "report = classification_report(y_test, y_pred)\n",
    "accuracy = accuracy_score(y_test, y_pred)\n",
    "f1 = f1_score(y_test, y_pred, average='weighted')\n",
    "recall = recall_score(y_test, y_pred, average='weighted')\n",
    "\n",
    "# Output\n",
    "print(\"Confusion Matrix:\\n\", conf_matrix)\n",
    "print(\"\\nClassification Report:\\n\", report)\n",
    "print(f\"Accuracy: {accuracy:.4f}\")\n",
    "print(f\"Weighted F1 Score: {f1:.4f}\")\n",
    "print(f\"Weighted Recall: {recall:.4f}\")"
   ]
  },
  {
   "cell_type": "markdown",
   "id": "29bd6ea9",
   "metadata": {},
   "source": [
    "`Interpretation`:\n",
    "\n",
    "Best performance on class 0: 32/45.\n",
    "\n",
    "Class 3 recall improves to 62.5% (25/40).\n",
    "\n",
    "Overall better balance across all classes.\n",
    "\n",
    "`Metrics`:\n",
    "\n",
    "Accuracy: 81.6%\n",
    "\n",
    "Weighted F1: 0.8164\n",
    "\n",
    "Macro avg F1: 0.75\n",
    "\n",
    "Macro avg Recall: 0.75\n",
    "\n",
    "`Comment`:\n",
    "\n",
    "SMOTE increased representation of minority classes during training. Model learned more balanced class boundaries, especially improving minority class 3.\n",
    "\n",
    "\n"
   ]
  },
  {
   "cell_type": "markdown",
   "id": "2c885059",
   "metadata": {},
   "source": [
    "# Model Interpretation "
   ]
  },
  {
   "cell_type": "markdown",
   "id": "443479fc",
   "metadata": {},
   "source": [
    "- Tabular comparison of our models\n",
    "\n",
    "| Model # | Model Type          | Accuracy  | Weighted F1 | Class 3 Recall | Best For                    |\n",
    "| ------- | ------------------- | --------- | ----------- | -------------- | --------------------------- |\n",
    "| 1       | Logistic (Baseline) | 0.67      | 0.66        | 25%            | Basic linear modeling       |\n",
    "| 2       | Logistic (Tuned)    | 0.66      | 0.66        | 30%            | Slightly better tuning      |\n",
    "| 3       | XGBoost (Untuned)   | 0.81      | 0.81        | 55%            | Stronger nonlinear splits   |\n",
    "| 4       | XGBoost (Tuned)     | 0.81      | 0.81        | 53%            | Optimized tree params       |\n",
    "| **5**   | **SMOTE + XGBoost** | **0.816** | **0.816**   | **62.5%**      | **Balanced class handling** |\n"
   ]
  },
  {
   "cell_type": "markdown",
   "id": "057f154c",
   "metadata": {},
   "source": [
    "- the best-performing model is the tuned SMOTE + XGBoost\n",
    "\n",
    "`why`:\n",
    "\n",
    "Highest F1 and accuracy.\n",
    "\n",
    "Most balanced recall across all classes.\n",
    "\n",
    "Robust class 3 performance.\n",
    "\n",
    "Trained on resampled data to reduce bias from class imbalance."
   ]
  },
  {
   "cell_type": "markdown",
   "id": "9535d030",
   "metadata": {},
   "source": [
    "### Basic Feature Importance"
   ]
  },
  {
   "cell_type": "code",
   "execution_count": 79,
   "id": "726b281c",
   "metadata": {},
   "outputs": [
    {
     "name": "stdout",
     "output_type": "stream",
     "text": [
      "                                             feature  importance\n",
      "19   cat__water_source_clean_Sand or Sub-surface Dam    0.047094\n",
      "6                             num__served_population    0.029059\n",
      "534                          cat__clean_adm3_Sitikho    0.028994\n",
      "418                          cat__clean_adm3_Maralal    0.026977\n",
      "129                          cat__clean_adm2_Matungu    0.022790\n",
      "49                            cat__clean_adm1_Kisumu    0.021823\n",
      "427                           cat__clean_adm3_Masaba    0.019453\n",
      "60                           cat__clean_adm1_Samburu    0.018443\n",
      "5                              num__local_population    0.018350\n",
      "54                            cat__clean_adm1_Migori    0.017967\n",
      "32            cat__water_tech_clean_Hand Pump - Nira    0.017678\n",
      "271                         cat__clean_adm3_Gitothua    0.017315\n",
      "10                                    num__longitude    0.016171\n",
      "145                           cat__clean_adm2_Nyando    0.016111\n",
      "222                   cat__clean_adm3_Butsotso South    0.015442\n"
     ]
    }
   ],
   "source": [
    "# Extract trained smote + XGBoost model\n",
    "xgb_model = smote_xgb_pipeline.named_steps['model']\n",
    "\n",
    "# Get feature importances\n",
    "importances = xgb_model.feature_importances_\n",
    "\n",
    "# Get feature names from preprocessor\n",
    "feature_names = smote_xgb_pipeline.named_steps['preprocessor'].get_feature_names_out()\n",
    "\n",
    "# importance DataFrame\n",
    "importance_df = pd.DataFrame({\n",
    "    'feature': feature_names,\n",
    "    'importance': importances\n",
    "}).sort_values(by='importance', ascending=False)\n",
    "\n",
    "# Top 15 important features\n",
    "print(importance_df.head(15))\n"
   ]
  },
  {
   "cell_type": "markdown",
   "id": "ca43aa12",
   "metadata": {},
   "source": [
    "Geographic location (adm1, adm2, adm3 features) dominates the feature importance list.\n",
    "\n",
    "Technology and source type (e.g., sand dam, pump type) are also significant.\n",
    "\n",
    "Population size (both local and served) are key numeric indicators.\n"
   ]
  },
  {
   "cell_type": "markdown",
   "id": "133e86a4",
   "metadata": {},
   "source": [
    "### SHAP for Deep Interpretability:"
   ]
  },
  {
   "cell_type": "code",
   "execution_count": 80,
   "id": "d4a5a7ef",
   "metadata": {},
   "outputs": [
    {
     "data": {
      "image/png": "[encoded data removed]",
      "text/plain": [
       "<Figure size 1150x660 with 4 Axes>"
      ]
     },
     "metadata": {},
     "output_type": "display_data"
    }
   ],
   "source": [
    "import shap\n",
    "\n",
    "# SHAP explainer\n",
    "explainer = shap.TreeExplainer(xgb_model)\n",
    "\n",
    "# Transform training data through the pipeline\n",
    "X_transformed = smote_xgb_pipeline.named_steps['preprocessor'].transform(X_train)\n",
    "\n",
    "# SHAP values\n",
    "shap_values = explainer.shap_values(X_transformed)\n",
    "\n",
    "# SHAP Summary Plot\n",
    "shap.summary_plot(shap_values, X_transformed, feature_names=feature_names)\n"
   ]
  },
  {
   "cell_type": "markdown",
   "id": "e7f70c93",
   "metadata": {},
   "source": [
    "`Observations`:\n",
    "\n",
    "Most top features are numeric and tied to geography (lat/lon), `population`, `environmental conditions`, and distance.\n",
    "\n",
    "The model heavily relies on `population` (served and local), supporting our proxy label design.\n",
    "\n",
    "Categorical features like water source type and location codes (adm1, adm2, adm3) also matter, but less than environmental/numeric ones."
   ]
  },
  {
   "cell_type": "markdown",
   "id": "783bb915",
   "metadata": {},
   "source": [
    "### Risk Classification Map (Geospatial Visualization)\n",
    "- Using Plotly"
   ]
  },
  {
   "cell_type": "code",
   "execution_count": 81,
   "id": "22851186",
   "metadata": {},
   "outputs": [
    {
     "name": "stderr",
     "output_type": "stream",
     "text": [
      "C:\\Users\\PINCHEZZ\\AppData\\Local\\Temp\\ipykernel_9128\\25570390.py:3: DeprecationWarning:\n",
      "\n",
      "*scatter_mapbox* is deprecated! Use *scatter_map* instead. Learn more at: https://plotly.com/python/mapbox-to-maplibre/\n",
      "\n"
     ]
    },
    {
     "data": {
      "application/vnd.plotly.v1+json": {
       "config": {
        "plotlyServerURL": "https://plot.ly"
       },
       "data": [
        {
         "customdata": [
          [
           "Kakamega",
           "Khwisero",
           "Protected Well"
          ],
          [
           "Kakamega",
           "Butere",
           "Protected Well"
          ],
          [
           "Siaya",
           "Alego Usonga",
           "Protected Well"
          ],
          [
           "Kakamega",
           "Malava",
           "Undefined Well"
          ],
          [
           "Kakamega",
           "Ikolomani",
           "Protected Well"
          ],
          [
           "Migori",
           "Suna East",
           "Protected Well"
          ],
          [
           "Makueni",
           "Makueni",
           "Borehole/Tubewell"
          ],
          [
           "Busia",
           "Butula",
           "Borehole/Tubewell"
          ],
          [
           "Siaya",
           "Gem",
           "Undefined Well"
          ],
          [
           "Kiambu",
           "Ruiru",
           "Borehole/Tubewell"
          ],
          [
           "Embu",
           "Mbeere South",
           "Borehole/Tubewell"
          ],
          [
           "Siaya",
           "Ugenya",
           "Protected Well"
          ],
          [
           "Kisumu",
           "Seme",
           "Protected Well"
          ],
          [
           "Kakamega",
           "Matungu",
           "Protected Well"
          ],
          [
           "Busia",
           "Butula",
           "Protected Well"
          ],
          [
           "Nyamira",
           "West Mugirango",
           "Protected Well"
          ],
          [
           "Migori",
           "Kuria East",
           "Undefined Well"
          ],
          [
           "Vihiga",
           "Vihiga",
           "Protected Well"
          ],
          [
           "Kakamega",
           "Navakholo",
           "Borehole/Tubewell"
          ],
          [
           "Busia",
           "Funyula",
           "Borehole/Tubewell"
          ],
          [
           "Vihiga",
           "Hamisi",
           "Protected Well"
          ],
          [
           "Siaya",
           "Gem",
           "Protected Well"
          ],
          [
           "Siaya",
           "Gem",
           "Protected Well"
          ],
          [
           "Samburu",
           "Samburu West",
           "Piped Water"
          ],
          [
           "Vihiga",
           "Hamisi",
           "Protected Well"
          ],
          [
           "Vihiga",
           "Hamisi",
           "Protected Well"
          ],
          [
           "Kakamega",
           "Lugari",
           "Borehole/Tubewell"
          ],
          [
           "Kakamega",
           "Matungu",
           "Protected Well"
          ],
          [
           "Makueni",
           "Makueni",
           "Undefined Well"
          ],
          [
           "Kakamega",
           "Butere",
           "Protected Well"
          ],
          [
           "Kiambu",
           "Limuru",
           "Borehole/Tubewell"
          ],
          [
           "Siaya",
           "Ugenya",
           "Protected Well"
          ],
          [
           "Makueni",
           "Kibwezi East",
           "Sand or Sub-surface Dam"
          ],
          [
           "Migori",
           "Nyatike",
           "Borehole/Tubewell"
          ],
          [
           "Homa Bay",
           "Ndhiwa",
           "Protected Well"
          ],
          [
           "Kakamega",
           "Butere",
           "Borehole/Tubewell"
          ],
          [
           "Embu",
           "Runyenjes",
           "Unprotected Well"
          ],
          [
           "Busia",
           "Budalangi",
           "Borehole/Tubewell"
          ],
          [
           "Kiambu",
           "Thika Town",
           "Piped Water"
          ],
          [
           "Nyamira",
           "North Mugirango",
           "Protected Well"
          ],
          [
           "Kakamega",
           "Navakholo",
           "Protected Well"
          ],
          [
           "Kakamega",
           "Butere",
           "Protected Well"
          ],
          [
           "Kakamega",
           "Ikolomani",
           "Protected Well"
          ],
          [
           "Makueni",
           "Mbooni",
           "Protected Well"
          ],
          [
           "Nyamira",
           "Borabu",
           "Protected Well"
          ],
          [
           "Bungoma",
           "Kanduyi",
           "Protected Well"
          ],
          [
           "Kakamega",
           "Ikolomani",
           "Sand or Sub-surface Dam"
          ],
          [
           "Kakamega",
           "Khwisero",
           "Protected Well"
          ],
          [
           "Siaya",
           "Ugenya",
           "Protected Well"
          ],
          [
           "Busia",
           "Teso South",
           "Borehole/Tubewell"
          ],
          [
           "Kakamega",
           "Khwisero",
           "Protected Well"
          ],
          [
           "Kakamega",
           "Butere",
           "Protected Well"
          ],
          [
           "Migori",
           "Suna East",
           "Protected Well"
          ],
          [
           "Nyamira",
           "West Mugirango",
           "Protected Well"
          ],
          [
           "Homa Bay",
           "Suba",
           "Borehole/Tubewell"
          ],
          [
           "Migori",
           "Suna West",
           "Undefined Well"
          ],
          [
           "Makueni",
           "Makueni",
           "Sand or Sub-surface Dam"
          ],
          [
           "Homa Bay",
           "Ndhiwa",
           "Protected Well"
          ],
          [
           "Busia",
           "Butula",
           "Protected Well"
          ],
          [
           "Migori",
           "Kuria West",
           "Protected Well"
          ],
          [
           "Kakamega",
           "Butere",
           "Protected Well"
          ],
          [
           "Vihiga",
           "Vihiga",
           "Protected Well"
          ],
          [
           "Vihiga",
           "Luanda",
           "Protected Well"
          ],
          [
           "Busia",
           "Funyula",
           "Borehole/Tubewell"
          ],
          [
           "Bungoma",
           "Likuyani",
           "Protected Well"
          ],
          [
           "Bungoma",
           "Tongaren",
           "Protected Well"
          ],
          [
           "Siaya",
           "Ugenya",
           "Protected Well"
          ],
          [
           "Bungoma",
           "Likuyani",
           "Undefined Well"
          ],
          [
           "Makueni",
           "Kibwezi East",
           "Sand or Sub-surface Dam"
          ],
          [
           "Busia",
           "Matayos",
           "Protected Well"
          ],
          [
           "Vihiga",
           "Vihiga",
           "Protected Well"
          ],
          [
           "Nyamira",
           "Borabu",
           "Protected Well"
          ],
          [
           "Bungoma",
           "Bumula",
           "Protected Well"
          ],
          [
           "Migori",
           "Kuria West",
           "Protected Well"
          ],
          [
           "Vihiga",
           "Vihiga",
           "Protected Well"
          ],
          [
           "Kakamega",
           "Shinyalu",
           "Borehole/Tubewell"
          ],
          [
           "Kakamega",
           "Shinyalu",
           "Protected Well"
          ],
          [
           "Bungoma",
           "Likuyani",
           "Protected Well"
          ],
          [
           "Kakamega",
           "Malava",
           "Protected Well"
          ],
          [
           "Kakamega",
           "Butere",
           "Protected Well"
          ],
          [
           "Siaya",
           "Ugunja",
           "Protected Well"
          ],
          [
           "Kakamega",
           "Matungu",
           "Protected Well"
          ],
          [
           "Bungoma",
           "Likuyani",
           "Undefined Well"
          ],
          [
           "Kakamega",
           "Lurambi",
           "Protected Well"
          ],
          [
           "Homa Bay",
           "Ndhiwa",
           "Borehole/Tubewell"
          ],
          [
           "Kakamega",
           "Lurambi",
           "Protected Well"
          ],
          [
           "Kisumu",
           "Nyando",
           "Protected Well"
          ],
          [
           "Busia",
           "Matayos",
           "Borehole/Tubewell"
          ],
          [
           "Migori",
           "Rongo",
           "Protected Well"
          ],
          [
           "Kakamega",
           "Butere",
           "Protected Well"
          ],
          [
           "Busia",
           "Teso North",
           "Protected Well"
          ],
          [
           "Siaya",
           "Ugenya",
           "Protected Well"
          ],
          [
           "Nyamira",
           "West Mugirango",
           "Undefined Well"
          ],
          [
           "Kakamega",
           "Malava",
           "Protected Well"
          ],
          [
           "Busia",
           "Teso South",
           "Borehole/Tubewell"
          ],
          [
           "Migori",
           "Kuria West",
           "Protected Well"
          ],
          [
           "Siaya",
           "Ugenya",
           "Sand or Sub-surface Dam"
          ],
          [
           "Busia",
           "Butula",
           "Protected Well"
          ],
          [
           "Siaya",
           "Alego Usonga",
           "Borehole/Tubewell"
          ],
          [
           "Kakamega",
           "Butere",
           "Protected Well"
          ],
          [
           "Bungoma",
           "Bumula",
           "Protected Well"
          ],
          [
           "Bungoma",
           "Kanduyi",
           "Protected Well"
          ],
          [
           "Kakamega",
           "Malava",
           "Protected Well"
          ],
          [
           "Nyamira",
           "Kitutu Masaba",
           "Protected Well"
          ],
          [
           "Kakamega",
           "Khwisero",
           "Protected Well"
          ],
          [
           "Bungoma",
           "Tongaren",
           "Protected Well"
          ],
          [
           "Busia",
           "Butula",
           "Borehole/Tubewell"
          ],
          [
           "Nyamira",
           "Kitutu Masaba",
           "Protected Well"
          ],
          [
           "Busia",
           "Teso North",
           "Borehole/Tubewell"
          ],
          [
           "Homa Bay",
           "Suba",
           "Borehole/Tubewell"
          ],
          [
           "Nyamira",
           "North Mugirango",
           "Protected Well"
          ],
          [
           "Kisumu",
           "Nyando",
           "Protected Well"
          ],
          [
           "Busia",
           "Nambale",
           "Protected Well"
          ],
          [
           "Makueni",
           "Mbooni",
           "Sand or Sub-surface Dam"
          ],
          [
           "Kakamega",
           "Matungu",
           "Protected Well"
          ],
          [
           "Kisumu",
           "Kisumu Central",
           "Piped Water"
          ],
          [
           "Kakamega",
           "Khwisero",
           "Protected Well"
          ],
          [
           "Busia",
           "Teso South",
           "Borehole/Tubewell"
          ],
          [
           "Makueni",
           "Makueni",
           "Undefined Well"
          ],
          [
           "Busia",
           "Budalangi",
           "Undefined Well"
          ],
          [
           "Kiambu",
           "Juja",
           "Piped Water"
          ],
          [
           "Migori",
           "Rongo",
           "Protected Well"
          ],
          [
           "Homa Bay",
           "Rangwe",
           "Borehole/Tubewell"
          ],
          [
           "Makueni",
           "Kaiti",
           "Sand or Sub-surface Dam"
          ],
          [
           "Kisumu",
           "Nyando",
           "Protected Well"
          ],
          [
           "Kajiado",
           "Kajiado South",
           "Piped Water"
          ],
          [
           "Kisumu",
           "Kisumu Central",
           "Piped Water"
          ],
          [
           "Migori",
           "Uriri",
           "Protected Well"
          ],
          [
           "Busia",
           "Butula",
           "Protected Well"
          ],
          [
           "Siaya",
           "Ugenya",
           "Protected Well"
          ],
          [
           "Homa Bay",
           "Suba",
           "Borehole/Tubewell"
          ],
          [
           "Kakamega",
           "Butere",
           "Protected Well"
          ],
          [
           "Kakamega",
           "Shinyalu",
           "Borehole/Tubewell"
          ],
          [
           "Kisumu",
           "Kisumu East",
           "Piped Water"
          ],
          [
           "Busia",
           "Matayos",
           "Protected Well"
          ],
          [
           "Kakamega",
           "Butere",
           "Protected Well"
          ],
          [
           "Bungoma",
           "Tongaren",
           "Protected Well"
          ],
          [
           "Migori",
           "Kuria West",
           "Protected Well"
          ],
          [
           "Vihiga",
           "Sabatia",
           "Protected Well"
          ],
          [
           "Kakamega",
           "Shinyalu",
           "Protected Well"
          ],
          [
           "Nyamira",
           "Kitutu Masaba",
           "Protected Well"
          ],
          [
           "Kakamega",
           "Matungu",
           "Protected Well"
          ],
          [
           "Kakamega",
           "Navakholo",
           "Protected Well"
          ],
          [
           "Kisumu",
           "Kisumu West",
           "Piped Water"
          ],
          [
           "Busia",
           "Matayos",
           "Borehole/Tubewell"
          ],
          [
           "Homa Bay",
           "Ndhiwa",
           "Borehole/Tubewell"
          ],
          [
           "Makueni",
           "Kibwezi East",
           "Sand or Sub-surface Dam"
          ],
          [
           "Kakamega",
           "Ikolomani",
           "Protected Well"
          ],
          [
           "Kakamega",
           "Malava",
           "Protected Well"
          ],
          [
           "Makueni",
           "Makueni",
           "Sand or Sub-surface Dam"
          ],
          [
           "Migori",
           "Kuria East",
           "Protected Well"
          ],
          [
           "Embu",
           "Mbeere South",
           "Sand or Sub-surface Dam"
          ],
          [
           "Makueni",
           "Kibwezi East",
           "Sand or Sub-surface Dam"
          ],
          [
           "Nyamira",
           "West Mugirango",
           "Protected Well"
          ],
          [
           "Kakamega",
           "Shinyalu",
           "Protected Well"
          ],
          [
           "Kiambu",
           "Gatundu South",
           "Borehole/Tubewell"
          ],
          [
           "Migori",
           "Kuria West",
           "Protected Well"
          ],
          [
           "Kakamega",
           "Navakholo",
           "Protected Well"
          ],
          [
           "Kisumu",
           "Kisumu West",
           "Borehole/Tubewell"
          ],
          [
           "Kakamega",
           "Shinyalu",
           "Protected Well"
          ],
          [
           "Makueni",
           "Kibwezi West",
           "Sand or Sub-surface Dam"
          ],
          [
           "Busia",
           "Funyula",
           "Protected Well"
          ],
          [
           "Kisumu",
           "Nyando",
           "Protected Well"
          ],
          [
           "Kisii",
           "Kitutu Chache South",
           "Protected Well"
          ],
          [
           "Makueni",
           "Kibwezi East",
           "Sand or Sub-surface Dam"
          ],
          [
           "Vihiga",
           "Sabatia",
           "Protected Well"
          ],
          [
           "Siaya",
           "Alego Usonga",
           "Protected Well"
          ],
          [
           "Siaya",
           "Ugunja",
           "Undefined Well"
          ],
          [
           "Nyamira",
           "Kitutu Masaba",
           "Protected Well"
          ],
          [
           "Siaya",
           "Ugenya",
           "Borehole/Tubewell"
          ],
          [
           "Busia",
           "Funyula",
           "Borehole/Tubewell"
          ],
          [
           "Busia",
           "Teso North",
           "Protected Well"
          ],
          [
           "Homa Bay",
           "Suba",
           "Borehole/Tubewell"
          ],
          [
           "Makueni",
           "Mbooni",
           "Sand or Sub-surface Dam"
          ],
          [
           "Siaya",
           "Gem",
           "Protected Well"
          ],
          [
           "Vihiga",
           "Hamisi",
           "Protected Well"
          ],
          [
           "Kakamega",
           "Lurambi",
           "Protected Well"
          ],
          [
           "Makueni",
           "Makueni",
           "Sand or Sub-surface Dam"
          ],
          [
           "Kakamega",
           "Malava",
           "Protected Well"
          ],
          [
           "Kakamega",
           "Butere",
           "Borehole/Tubewell"
          ],
          [
           "Migori",
           "Rongo",
           "Protected Well"
          ],
          [
           "Kajiado",
           "Kajiado South",
           "Protected Well"
          ],
          [
           "Homa Bay",
           "Kabondo Kasipul",
           "Protected Well"
          ],
          [
           "Migori",
           "Kuria West",
           "Borehole/Tubewell"
          ],
          [
           "Siaya",
           "Gem",
           "Undefined Well"
          ],
          [
           "Kakamega",
           "Malava",
           "Protected Well"
          ],
          [
           "Kakamega",
           "Khwisero",
           "Protected Well"
          ],
          [
           "Homa Bay",
           "Suba",
           "Piped Water"
          ],
          [
           "Kakamega",
           "Butere",
           "Borehole/Tubewell"
          ],
          [
           "Busia",
           "Butula",
           "Borehole/Tubewell"
          ],
          [
           "Marsabit",
           "Saku",
           "Sand or Sub-surface Dam"
          ],
          [
           "Siaya",
           "Alego Usonga",
           "Sand or Sub-surface Dam"
          ],
          [
           "Kiambu",
           "Kabete",
           "Borehole/Tubewell"
          ],
          [
           "Kakamega",
           "Butere",
           "Protected Well"
          ],
          [
           "Migori",
           "Awendo",
           "Protected Well"
          ],
          [
           "Busia",
           "Teso South",
           "Protected Well"
          ],
          [
           "Kakamega",
           "Shinyalu",
           "Protected Well"
          ],
          [
           "Kisumu",
           "Kisumu East",
           "Piped Water"
          ],
          [
           "Vihiga",
           "Vihiga",
           "Protected Well"
          ],
          [
           "Busia",
           "Butula",
           "Protected Well"
          ],
          [
           "Busia",
           "Teso North",
           "Protected Well"
          ],
          [
           "Busia",
           "Matayos",
           "Protected Well"
          ],
          [
           "Bungoma",
           "Tongaren",
           "Protected Well"
          ],
          [
           "Busia",
           "Nambale",
           "Undefined Well"
          ],
          [
           "Busia",
           "Butula",
           "Protected Well"
          ],
          [
           "Makueni",
           "Kibwezi East",
           "Sand or Sub-surface Dam"
          ],
          [
           "Kisumu",
           "Nyando",
           "Borehole/Tubewell"
          ],
          [
           "Busia",
           "Funyula",
           "Borehole/Tubewell"
          ],
          [
           "Kisumu",
           "Muhoroni",
           "Protected Well"
          ],
          [
           "Kakamega",
           "Mumias West",
           "Protected Well"
          ],
          [
           "Bungoma",
           "Tongaren",
           "Protected Well"
          ],
          [
           "Kakamega",
           "Lugari",
           "Protected Well"
          ],
          [
           "Homa Bay",
           "Suba",
           "Borehole/Tubewell"
          ],
          [
           "Busia",
           "Butula",
           "Protected Well"
          ],
          [
           "Busia",
           "Butula",
           "Protected Well"
          ],
          [
           "Vihiga",
           "Hamisi",
           "Protected Well"
          ],
          [
           "Kajiado",
           "Kajiado South",
           "Protected Well"
          ],
          [
           "Siaya",
           "Gem",
           "Protected Well"
          ],
          [
           "Makueni",
           "Makueni",
           "Sand or Sub-surface Dam"
          ],
          [
           "Vihiga",
           "Hamisi",
           "Protected Well"
          ],
          [
           "Kakamega",
           "Butere",
           "Borehole/Tubewell"
          ],
          [
           "Siaya",
           "Gem",
           "Undefined Well"
          ],
          [
           "Kakamega",
           "Malava",
           "Protected Well"
          ],
          [
           "Homa Bay",
           "Kasipul",
           "Protected Well"
          ],
          [
           "Kisumu",
           "Nyakach",
           "Piped Water"
          ],
          [
           "Bungoma",
           "Webuye East",
           "Protected Well"
          ],
          [
           "Kakamega",
           "Ikolomani",
           "Protected Well"
          ],
          [
           "Kakamega",
           "Butere",
           "Protected Well"
          ],
          [
           "Kakamega",
           "Khwisero",
           "Protected Well"
          ],
          [
           "Kakamega",
           "Shinyalu",
           "Protected Well"
          ],
          [
           "Baringo",
           "Tiaty",
           "Undefined Well"
          ],
          [
           "Nyamira",
           "North Mugirango",
           "Protected Well"
          ],
          [
           "Kakamega",
           "Malava",
           "Undefined Well"
          ],
          [
           "Busia",
           "Budalangi",
           "Protected Well"
          ],
          [
           "Kisumu",
           "Nyando",
           "Protected Well"
          ],
          [
           "Makueni",
           "Kilome",
           "Sand or Sub-surface Dam"
          ],
          [
           "Kakamega",
           "Butere",
           "Protected Well"
          ],
          [
           "Embu",
           "Mbeere South",
           "Rainwater Harvesting"
          ],
          [
           "Kakamega",
           "Butere",
           "Sand or Sub-surface Dam"
          ],
          [
           "Kakamega",
           "Malava",
           "Borehole/Tubewell"
          ],
          [
           "Kakamega",
           "Lurambi",
           "Protected Well"
          ],
          [
           "Siaya",
           "Ugenya",
           "Protected Well"
          ],
          [
           "Kakamega",
           "Ikolomani",
           "Sand or Sub-surface Dam"
          ],
          [
           "Makueni",
           "Kibwezi East",
           "Sand or Sub-surface Dam"
          ],
          [
           "Kakamega",
           "Shinyalu",
           "Protected Well"
          ],
          [
           "Busia",
           "Butula",
           "Protected Well"
          ],
          [
           "Bungoma",
           "Lugari",
           "Protected Well"
          ],
          [
           "Kiambu",
           "Juja",
           "Piped Water"
          ],
          [
           "Migori",
           "Awendo",
           "Protected Well"
          ],
          [
           "Busia",
           "Teso South",
           "Borehole/Tubewell"
          ],
          [
           "Kisumu",
           "Nyando",
           "Protected Well"
          ],
          [
           "Vihiga",
           "Emuhaya",
           "Protected Well"
          ],
          [
           "Busia",
           "Budalangi",
           "Borehole/Tubewell"
          ],
          [
           "Siaya",
           "Ugunja",
           "Protected Well"
          ],
          [
           "Busia",
           "Teso South",
           "Protected Well"
          ],
          [
           "Kisumu",
           "Kisumu West",
           "Piped Water"
          ],
          [
           "Kisumu",
           "Nyando",
           "Protected Well"
          ],
          [
           "Bungoma",
           "Tongaren",
           "Protected Well"
          ],
          [
           "Kisumu",
           "Kisumu East",
           "Protected Well"
          ],
          [
           "Kisumu",
           "Nyando",
           "Borehole/Tubewell"
          ],
          [
           "Siaya",
           "Ugunja",
           "Protected Well"
          ],
          [
           "Makueni",
           "Kilome",
           "Sand or Sub-surface Dam"
          ],
          [
           "Siaya",
           "Gem",
           "Protected Well"
          ],
          [
           "Vihiga",
           "Hamisi",
           "Protected Well"
          ],
          [
           "Siaya",
           "Ugunja",
           "Protected Well"
          ],
          [
           "Busia",
           "Matayos",
           "Protected Well"
          ],
          [
           "Trans Nzoia",
           "Cherangany",
           "Protected Well"
          ],
          [
           "Embu",
           "Mbeere South",
           "Sand or Sub-surface Dam"
          ],
          [
           "Kakamega",
           "Matungu",
           "Protected Well"
          ],
          [
           "Busia",
           "Teso North",
           "Protected Well"
          ],
          [
           "Vihiga",
           "Vihiga",
           "Protected Well"
          ],
          [
           "Busia",
           "Nambale",
           "Protected Well"
          ],
          [
           "Migori",
           "Uriri",
           "Protected Well"
          ],
          [
           "Kisumu",
           "Kisumu East",
           "Borehole/Tubewell"
          ],
          [
           "Kakamega",
           "Mumias West",
           "Undefined Well"
          ],
          [
           "Makueni",
           "Makueni",
           "Sand or Sub-surface Dam"
          ],
          [
           "Bungoma",
           "Tongaren",
           "Protected Well"
          ],
          [
           "Busia",
           "Nambale",
           "Protected Well"
          ],
          [
           "Homa Bay",
           "Suba",
           "Borehole/Tubewell"
          ],
          [
           "Vihiga",
           "Hamisi",
           "Protected Well"
          ],
          [
           "Busia",
           "Budalangi",
           "Undefined Well"
          ],
          [
           "Kisumu",
           "Nyando",
           "Protected Well"
          ],
          [
           "Siaya",
           "Bondo",
           "Undefined Well"
          ],
          [
           "Kakamega",
           "Mumias East",
           "Protected Well"
          ],
          [
           "Busia",
           "Butula",
           "Protected Well"
          ],
          [
           "Kakamega",
           "Malava",
           "Protected Well"
          ],
          [
           "Kakamega",
           "Malava",
           "Borehole/Tubewell"
          ],
          [
           "Nyamira",
           "North Mugirango",
           "Protected Well"
          ],
          [
           "Busia",
           "Butula",
           "Undefined Well"
          ],
          [
           "Samburu",
           "Samburu West",
           "Piped Water"
          ],
          [
           "Nyamira",
           "Kitutu Masaba",
           "Protected Well"
          ],
          [
           "Busia",
           "Nambale",
           "Protected Well"
          ],
          [
           "Makueni",
           "Kibwezi West",
           "Sand or Sub-surface Dam"
          ],
          [
           "Embu",
           "Mbeere South",
           "Borehole/Tubewell"
          ],
          [
           "Nyamira",
           "Kitutu Masaba",
           "Protected Well"
          ],
          [
           "Busia",
           "Teso North",
           "Protected Well"
          ],
          [
           "Kajiado",
           "Kajiado West",
           "Sand or Sub-surface Dam"
          ],
          [
           "Samburu",
           "Samburu West",
           "Piped Water"
          ],
          [
           "Vihiga",
           "Hamisi",
           "Protected Well"
          ],
          [
           "Nyamira",
           "West Mugirango",
           "Protected Well"
          ],
          [
           "Kakamega",
           "Lurambi",
           "Protected Well"
          ],
          [
           "Busia",
           "Teso North",
           "Borehole/Tubewell"
          ],
          [
           "Siaya",
           "Gem",
           "Protected Well"
          ],
          [
           "Siaya",
           "Ugenya",
           "Protected Well"
          ],
          [
           "Bungoma",
           "Lugari",
           "Borehole/Tubewell"
          ],
          [
           "Nyamira",
           "West Mugirango",
           "Undefined Well"
          ],
          [
           "Kisumu",
           "Seme",
           "Piped Water"
          ],
          [
           "Kakamega",
           "Khwisero",
           "Protected Well"
          ],
          [
           "Busia",
           "Butula",
           "Protected Well"
          ],
          [
           "Busia",
           "Matayos",
           "Protected Well"
          ],
          [
           "Kisumu",
           "Kisumu East",
           "Piped Water"
          ],
          [
           "Migori",
           "Kuria West",
           "Borehole/Tubewell"
          ],
          [
           "Busia",
           "Teso North",
           "Borehole/Tubewell"
          ],
          [
           "Migori",
           "Kuria West",
           "Protected Well"
          ],
          [
           "Kakamega",
           "Ikolomani",
           "Protected Well"
          ],
          [
           "Kakamega",
           "Malava",
           "Protected Well"
          ],
          [
           "Siaya",
           "Ugunja",
           "Protected Well"
          ],
          [
           "Kakamega",
           "Matungu",
           "Protected Well"
          ],
          [
           "Makueni",
           "Kibwezi East",
           "Sand or Sub-surface Dam"
          ],
          [
           "Siaya",
           "Gem",
           "Protected Well"
          ],
          [
           "Kakamega",
           "Matungu",
           "Undefined Well"
          ],
          [
           "Embu",
           "Runyenjes",
           "Protected Well"
          ],
          [
           "Bungoma",
           "Likuyani",
           "Protected Well"
          ],
          [
           "Siaya",
           "Ugunja",
           "Protected Well"
          ],
          [
           "Siaya",
           "Gem",
           "Protected Well"
          ],
          [
           "Kisumu",
           "Nyando",
           "Protected Well"
          ],
          [
           "Kiambu",
           "Githunguri",
           "Borehole/Tubewell"
          ],
          [
           "Kakamega",
           "Mumias West",
           "Undefined Well"
          ],
          [
           "Busia",
           "Butula",
           "Protected Well"
          ],
          [
           "Kakamega",
           "Khwisero",
           "Protected Well"
          ],
          [
           "Kakamega",
           "Shinyalu",
           "Protected Well"
          ],
          [
           "Busia",
           "Butula",
           "Protected Well"
          ],
          [
           "Kakamega",
           "Lugari",
           "Protected Well"
          ],
          [
           "Bungoma",
           "Likuyani",
           "Protected Well"
          ],
          [
           "Makueni",
           "Makueni",
           "Sand or Sub-surface Dam"
          ],
          [
           "Migori",
           "Uriri",
           "Protected Well"
          ],
          [
           "Migori",
           "Suna West",
           "Undefined Well"
          ],
          [
           "Busia",
           "Teso South",
           "Protected Well"
          ],
          [
           "Vihiga",
           "Hamisi",
           "Protected Well"
          ],
          [
           "Kakamega",
           "Malava",
           "Protected Well"
          ],
          [
           "Migori",
           "Awendo",
           "Protected Well"
          ],
          [
           "Siaya",
           "Gem",
           "Protected Well"
          ],
          [
           "Nyamira",
           "West Mugirango",
           "Protected Well"
          ],
          [
           "Kakamega",
           "Shinyalu",
           "Borehole/Tubewell"
          ],
          [
           "Migori",
           "Suna East",
           "Protected Well"
          ],
          [
           "Makueni",
           "Kaiti",
           "Sand or Sub-surface Dam"
          ],
          [
           "Nyamira",
           "Kitutu Masaba",
           "Protected Well"
          ],
          [
           "Bungoma",
           "Likuyani",
           "Protected Well"
          ],
          [
           "Kakamega",
           "Shinyalu",
           "Borehole/Tubewell"
          ],
          [
           "Homa Bay",
           "Ndhiwa",
           "Borehole/Tubewell"
          ],
          [
           "Kakamega",
           "Butere",
           "Protected Well"
          ],
          [
           "Makueni",
           "Mbooni",
           "Sand or Sub-surface Dam"
          ],
          [
           "Makueni",
           "Makueni",
           "Sand or Sub-surface Dam"
          ],
          [
           "Kakamega",
           "Ikolomani",
           "Protected Well"
          ],
          [
           "Busia",
           "Funyula",
           "Borehole/Tubewell"
          ],
          [
           "Kakamega",
           "Khwisero",
           "Protected Well"
          ],
          [
           "Trans Nzoia",
           "Cherangany",
           "Protected Well"
          ],
          [
           "Busia",
           "Teso North",
           "Borehole/Tubewell"
          ],
          [
           "Busia",
           "Budalangi",
           "Borehole/Tubewell"
          ],
          [
           "Marsabit",
           "Laisamis",
           "Sand or Sub-surface Dam"
          ],
          [
           "Kisumu",
           "Muhoroni",
           "Protected Well"
          ],
          [
           "Kisumu",
           "Nyakach",
           "Protected Well"
          ],
          [
           "Vihiga",
           "Hamisi",
           "Protected Well"
          ],
          [
           "Kakamega",
           "Khwisero",
           "Protected Well"
          ],
          [
           "Vihiga",
           "Hamisi",
           "Protected Well"
          ],
          [
           "Nyamira",
           "North Mugirango",
           "Protected Well"
          ],
          [
           "Kakamega",
           "Shinyalu",
           "Protected Well"
          ],
          [
           "Kakamega",
           "Shinyalu",
           "Protected Well"
          ],
          [
           "Vihiga",
           "Hamisi",
           "Protected Well"
          ],
          [
           "Kisumu",
           "Seme",
           "Borehole/Tubewell"
          ],
          [
           "Kisumu",
           "Kisumu East",
           "Piped Water"
          ],
          [
           "Kakamega",
           "Matungu",
           "Protected Well"
          ],
          [
           "Makueni",
           "Makueni",
           "Protected Well"
          ],
          [
           "Busia",
           "Teso South",
           "Protected Well"
          ],
          [
           "Migori",
           "Uriri",
           "Protected Well"
          ],
          [
           "Kakamega",
           "Butere",
           "Protected Well"
          ],
          [
           "Busia",
           "Teso North",
           "Borehole/Tubewell"
          ],
          [
           "Migori",
           "Rongo",
           "Undefined Well"
          ],
          [
           "Kiambu",
           "Juja",
           "Borehole/Tubewell"
          ],
          [
           "Busia",
           "Budalangi",
           "Undefined Well"
          ],
          [
           "Kakamega",
           "Butere",
           "Protected Well"
          ],
          [
           "Makueni",
           "Kibwezi West",
           "Sand or Sub-surface Dam"
          ],
          [
           "Embu",
           "Mbeere South",
           "Rainwater Harvesting"
          ],
          [
           "Nandi",
           "Aldai",
           "Protected Well"
          ],
          [
           "Nyamira",
           "Kitutu Masaba",
           "Protected Well"
          ],
          [
           "Kiambu",
           "Ruiru",
           "Borehole/Tubewell"
          ],
          [
           "Kakamega",
           "Ikolomani",
           "Protected Well"
          ],
          [
           "Kakamega",
           "Mumias West",
           "Undefined Well"
          ],
          [
           "Siaya",
           "Gem",
           "Protected Well"
          ],
          [
           "Homa Bay",
           "Ndhiwa",
           "Borehole/Tubewell"
          ],
          [
           "Kakamega",
           "Butere",
           "Protected Well"
          ],
          [
           "Kakamega",
           "Butere",
           "Protected Well"
          ],
          [
           "Kisumu",
           "Nyando",
           "Protected Well"
          ],
          [
           "Vihiga",
           "Sabatia",
           "Protected Well"
          ],
          [
           "Vihiga",
           "Hamisi",
           "Protected Well"
          ],
          [
           "Marsabit",
           "Laisamis",
           "Sand or Sub-surface Dam"
          ],
          [
           "Kakamega",
           "Lurambi",
           "Protected Well"
          ],
          [
           "Busia",
           "Nambale",
           "Protected Well"
          ],
          [
           "Siaya",
           "Rarieda",
           "Borehole/Tubewell"
          ],
          [
           "Makueni",
           "Makueni",
           "Sand or Sub-surface Dam"
          ],
          [
           "Kakamega",
           "Matungu",
           "Borehole/Tubewell"
          ],
          [
           "Nakuru",
           "Rongai",
           "Borehole/Tubewell"
          ],
          [
           "Bungoma",
           "Tongaren",
           "Protected Well"
          ],
          [
           "Siaya",
           "Alego Usonga",
           "Protected Well"
          ],
          [
           "Busia",
           "Butula",
           "Protected Well"
          ],
          [
           "Busia",
           "Funyula",
           "Borehole/Tubewell"
          ],
          [
           "Kisumu",
           "Seme",
           "Borehole/Tubewell"
          ],
          [
           "Vihiga",
           "Sabatia",
           "Protected Well"
          ],
          [
           "Busia",
           "Butula",
           "Protected Well"
          ],
          [
           "Siaya",
           "Alego Usonga",
           "Protected Well"
          ],
          [
           "Kakamega",
           "Butere",
           "Protected Well"
          ],
          [
           "Embu",
           "Mbeere South",
           "Protected Well"
          ],
          [
           "Bungoma",
           "Tongaren",
           "Protected Well"
          ],
          [
           "Busia",
           "Teso North",
           "Borehole/Tubewell"
          ],
          [
           "Busia",
           "Funyula",
           "Protected Well"
          ],
          [
           "Busia",
           "Teso South",
           "Protected Well"
          ],
          [
           "Busia",
           "Budalangi",
           "Protected Well"
          ],
          [
           "Kakamega",
           "Shinyalu",
           "Protected Well"
          ],
          [
           "Kakamega",
           "Matungu",
           "Protected Well"
          ],
          [
           "Kakamega",
           "Malava",
           "Protected Well"
          ],
          [
           "Kisumu",
           "Nyando",
           "Protected Well"
          ],
          [
           "Kakamega",
           "Khwisero",
           "Protected Well"
          ],
          [
           "Busia",
           "Butula",
           "Protected Well"
          ],
          [
           "Kakamega",
           "Butere",
           "Protected Well"
          ],
          [
           "Kakamega",
           "Lurambi",
           "Protected Well"
          ],
          [
           "Migori",
           "Uriri",
           "Protected Well"
          ],
          [
           "Siaya",
           "Alego Usonga",
           "Protected Well"
          ],
          [
           "Busia",
           "Butula",
           "Protected Well"
          ],
          [
           "Makueni",
           "Kibwezi West",
           "Sand or Sub-surface Dam"
          ],
          [
           "Nyamira",
           "Borabu",
           "Protected Well"
          ],
          [
           "Vihiga",
           "Vihiga",
           "Protected Well"
          ],
          [
           "Busia",
           "Teso North",
           "Protected Well"
          ],
          [
           "Makueni",
           "Kaiti",
           "Protected Well"
          ],
          [
           "Samburu",
           "Samburu West",
           "Piped Water"
          ],
          [
           "Nyamira",
           "West Mugirango",
           "Protected Well"
          ],
          [
           "Nyamira",
           "Kitutu Masaba",
           "Protected Well"
          ],
          [
           "Kakamega",
           "Khwisero",
           "Protected Well"
          ],
          [
           "Kakamega",
           "Lurambi",
           "Protected Well"
          ],
          [
           "Kakamega",
           "Navakholo",
           "Protected Well"
          ],
          [
           "Busia",
           "Teso South",
           "Protected Well"
          ],
          [
           "Busia",
           "Nambale",
           "Borehole/Tubewell"
          ],
          [
           "Kakamega",
           "Butere",
           "Protected Well"
          ],
          [
           "Kakamega",
           "Mumias East",
           "Undefined Well"
          ],
          [
           "Vihiga",
           "Hamisi",
           "Protected Well"
          ],
          [
           "Siaya",
           "Ugenya",
           "Protected Well"
          ],
          [
           "Bungoma",
           "Webuye East",
           "Protected Well"
          ],
          [
           "Vihiga",
           "Emuhaya",
           "Protected Well"
          ],
          [
           "Busia",
           "Nambale",
           "Protected Well"
          ],
          [
           "Busia",
           "Butula",
           "Protected Well"
          ],
          [
           "Busia",
           "Nambale",
           "Protected Well"
          ],
          [
           "Siaya",
           "Ugenya",
           "Undefined Well"
          ],
          [
           "Embu",
           "Manyatta",
           "Protected Well"
          ],
          [
           "Kakamega",
           "Lugari",
           "Protected Well"
          ],
          [
           "Homa Bay",
           "Kasipul",
           "Protected Well"
          ],
          [
           "Busia",
           "Budalangi",
           "Undefined Well"
          ],
          [
           "Siaya",
           "Gem",
           "Undefined Well"
          ],
          [
           "Makueni",
           "Mbooni",
           "Sand or Sub-surface Dam"
          ],
          [
           "Migori",
           "Suna East",
           "Protected Well"
          ],
          [
           "Kakamega",
           "Khwisero",
           "Protected Well"
          ],
          [
           "Busia",
           "Budalangi",
           "Borehole/Tubewell"
          ],
          [
           "Busia",
           "Butula",
           "Protected Well"
          ],
          [
           "Siaya",
           "Alego Usonga",
           "Protected Well"
          ],
          [
           "Kisumu",
           "Seme",
           "Undefined Well"
          ],
          [
           "Trans Nzoia",
           "Cherangany",
           "Protected Well"
          ],
          [
           "Kakamega",
           "Malava",
           "Protected Well"
          ],
          [
           "Kisumu",
           "Kisumu Central",
           "Protected Well"
          ],
          [
           "Kisumu",
           "Nyando",
           "Protected Well"
          ],
          [
           "Nyamira",
           "Kitutu Masaba",
           "Protected Well"
          ],
          [
           "Kakamega",
           "Shinyalu",
           "Protected Well"
          ],
          [
           "Kakamega",
           "Butere",
           "Borehole/Tubewell"
          ],
          [
           "Busia",
           "Funyula",
           "Borehole/Tubewell"
          ],
          [
           "Makueni",
           "Kaiti",
           "Sand or Sub-surface Dam"
          ],
          [
           "Kakamega",
           "Butere",
           "Protected Well"
          ],
          [
           "Kakamega",
           "Butere",
           "Protected Well"
          ],
          [
           "Migori",
           "Rongo",
           "Protected Well"
          ],
          [
           "Makueni",
           "Makueni",
           "Sand or Sub-surface Dam"
          ],
          [
           "Kakamega",
           "Butere",
           "Undefined Well"
          ],
          [
           "Makueni",
           "Makueni",
           "Sand or Sub-surface Dam"
          ],
          [
           "Kakamega",
           "Lugari",
           "Protected Well"
          ],
          [
           "Busia",
           "Butula",
           "Protected Well"
          ],
          [
           "Busia",
           "Butula",
           "Protected Well"
          ],
          [
           "Siaya",
           "Ugunja",
           "Protected Well"
          ],
          [
           "Kakamega",
           "Shinyalu",
           "Protected Well"
          ],
          [
           "Embu",
           "Manyatta",
           "Borehole/Tubewell"
          ],
          [
           "Kakamega",
           "Butere",
           "Protected Well"
          ],
          [
           "Kakamega",
           "Shinyalu",
           "Protected Well"
          ],
          [
           "Siaya",
           "Ugunja",
           "Protected Well"
          ],
          [
           "Kakamega",
           "Lurambi",
           "Protected Well"
          ],
          [
           "Busia",
           "Funyula",
           "Borehole/Tubewell"
          ],
          [
           "Migori",
           "Awendo",
           "Protected Well"
          ],
          [
           "Migori",
           "Suna East",
           "Protected Well"
          ],
          [
           "Siaya",
           "Gem",
           "Protected Well"
          ],
          [
           "Kakamega",
           "Butere",
           "Protected Well"
          ],
          [
           "Migori",
           "Kuria West",
           "Sand or Sub-surface Dam"
          ],
          [
           "Bungoma",
           "Likuyani",
           "Rainwater Harvesting"
          ],
          [
           "Busia",
           "Teso South",
           "Borehole/Tubewell"
          ],
          [
           "Bungoma",
           "Likuyani",
           "Undefined Well"
          ],
          [
           "Busia",
           "Matayos",
           "Protected Well"
          ],
          [
           "Kakamega",
           "Butere",
           "Protected Well"
          ],
          [
           "Kakamega",
           "Ikolomani",
           "Protected Well"
          ],
          [
           "Migori",
           "Rongo",
           "Protected Well"
          ],
          [
           "West Pokot",
           "Sigor",
           "Borehole/Tubewell"
          ],
          [
           "Kakamega",
           "Butere",
           "Protected Well"
          ],
          [
           "Bungoma",
           "Likuyani",
           "Undefined Well"
          ],
          [
           "Kisumu",
           "Nyakach",
           "Piped Water"
          ],
          [
           "Kakamega",
           "Butere",
           "Protected Well"
          ],
          [
           "Bungoma",
           "Lugari",
           "Protected Well"
          ],
          [
           "Kisumu",
           "Muhoroni",
           "Protected Well"
          ],
          [
           "Bungoma",
           "Kabuchai",
           "Protected Well"
          ],
          [
           "Kakamega",
           "Khwisero",
           "Protected Well"
          ],
          [
           "Embu",
           "Mbeere South",
           "Rainwater Harvesting"
          ],
          [
           "Kakamega",
           "Butere",
           "Protected Well"
          ],
          [
           "Vihiga",
           "Hamisi",
           "Protected Well"
          ],
          [
           "Vihiga",
           "Hamisi",
           "Protected Well"
          ],
          [
           "Siaya",
           "Ugenya",
           "Borehole/Tubewell"
          ],
          [
           "Bungoma",
           "Likuyani",
           "Undefined Well"
          ],
          [
           "Nyamira",
           "Kitutu Masaba",
           "Protected Well"
          ],
          [
           "Kakamega",
           "Matungu",
           "Borehole/Tubewell"
          ],
          [
           "Busia",
           "Teso South",
           "Borehole/Tubewell"
          ],
          [
           "Kitui",
           "Kitui South",
           "Borehole/Tubewell"
          ],
          [
           "Migori",
           "Kuria East",
           "Undefined Well"
          ],
          [
           "Kakamega",
           "Ikolomani",
           "Protected Well"
          ],
          [
           "Embu",
           "Mbeere South",
           "Borehole/Tubewell"
          ],
          [
           "Bungoma",
           "Tongaren",
           "Protected Well"
          ],
          [
           "Kakamega",
           "Lugari",
           "Protected Well"
          ],
          [
           "Makueni",
           "Kibwezi West",
           "Sand or Sub-surface Dam"
          ],
          [
           "Kakamega",
           "Khwisero",
           "Protected Well"
          ],
          [
           "Busia",
           "Funyula",
           "Borehole/Tubewell"
          ],
          [
           "Makueni",
           "Kibwezi East",
           "Sand or Sub-surface Dam"
          ],
          [
           "Busia",
           "Matayos",
           "Protected Well"
          ],
          [
           "Bungoma",
           "Lugari",
           "Protected Well"
          ],
          [
           "Vihiga",
           "Hamisi",
           "Protected Well"
          ],
          [
           "Kakamega",
           "Mumias West",
           "Undefined Well"
          ],
          [
           "Kakamega",
           "Navakholo",
           "Borehole/Tubewell"
          ],
          [
           "Nyamira",
           "Kitutu Masaba",
           "Protected Well"
          ],
          [
           "Kakamega",
           "Navakholo",
           "Borehole/Tubewell"
          ],
          [
           "Vihiga",
           "Luanda",
           "Protected Well"
          ],
          [
           "Kiambu",
           "Lari",
           "Borehole/Tubewell"
          ],
          [
           "Kisumu",
           "Muhoroni",
           "Borehole/Tubewell"
          ],
          [
           "Kakamega",
           "Butere",
           "Borehole/Tubewell"
          ],
          [
           "Vihiga",
           "Hamisi",
           "Protected Well"
          ],
          [
           "Busia",
           "Matayos",
           "Protected Well"
          ],
          [
           "Kakamega",
           "Butere",
           "Protected Well"
          ],
          [
           "Kakamega",
           "Malava",
           "Protected Well"
          ],
          [
           "Busia",
           "Nambale",
           "Borehole/Tubewell"
          ],
          [
           "Kakamega",
           "Lugari",
           "Protected Well"
          ],
          [
           "Kisumu",
           "Nyando",
           "Borehole/Tubewell"
          ],
          [
           "Kajiado",
           "Kajiado South",
           "Protected Well"
          ],
          [
           "Busia",
           "Matayos",
           "Protected Well"
          ],
          [
           "Siaya",
           "Ugunja",
           "Protected Well"
          ],
          [
           "Makueni",
           "Kilome",
           "Sand or Sub-surface Dam"
          ],
          [
           "Migori",
           "Kuria West",
           "Borehole/Tubewell"
          ],
          [
           "Busia",
           "Funyula",
           "Borehole/Tubewell"
          ],
          [
           "Kakamega",
           "Butere",
           "Protected Well"
          ],
          [
           "Kakamega",
           "Butere",
           "Borehole/Tubewell"
          ],
          [
           "Makueni",
           "Mbooni",
           "Sand or Sub-surface Dam"
          ],
          [
           "Bungoma",
           "Likuyani",
           "Protected Well"
          ],
          [
           "Kakamega",
           "Lurambi",
           "Protected Well"
          ],
          [
           "Kakamega",
           "Ikolomani",
           "Protected Spring"
          ],
          [
           "Kakamega",
           "Butere",
           "Protected Well"
          ],
          [
           "Migori",
           "Awendo",
           "Protected Well"
          ],
          [
           "Siaya",
           "Gem",
           "Undefined Well"
          ],
          [
           "Vihiga",
           "Hamisi",
           "Protected Well"
          ],
          [
           "Kisumu",
           "Muhoroni",
           "Borehole/Tubewell"
          ],
          [
           "Bungoma",
           "Kabuchai",
           "Protected Well"
          ],
          [
           "Migori",
           "Kuria East",
           "Undefined Well"
          ],
          [
           "Busia",
           "Funyula",
           "Borehole/Tubewell"
          ],
          [
           "Makueni",
           "Mbooni",
           "Undefined Well"
          ],
          [
           "Kakamega",
           "Lurambi",
           "Protected Well"
          ],
          [
           "Kakamega",
           "Shinyalu",
           "Protected Well"
          ],
          [
           "Migori",
           "Rongo",
           "Protected Well"
          ],
          [
           "Embu",
           "Mbeere South",
           "Protected Well"
          ],
          [
           "Busia",
           "Teso South",
           "Protected Well"
          ],
          [
           "Embu",
           "Mbeere South",
           "Borehole/Tubewell"
          ],
          [
           "Bungoma",
           "Lugari",
           "Protected Well"
          ],
          [
           "Homa Bay",
           "Kabondo Kasipul",
           "Protected Well"
          ],
          [
           "Trans Nzoia",
           "Cherangany",
           "Protected Well"
          ],
          [
           "Bungoma",
           "Kabuchai",
           "Protected Well"
          ],
          [
           "Nyamira",
           "Kitutu Masaba",
           "Protected Well"
          ],
          [
           "Kakamega",
           "Butere",
           "Undefined Well"
          ],
          [
           "Samburu",
           "Samburu North",
           "Delivered Water"
          ],
          [
           "Siaya",
           "Gem",
           "Protected Well"
          ],
          [
           "Homa Bay",
           "Suba",
           "Piped Water"
          ],
          [
           "Busia",
           "Butula",
           "Protected Well"
          ],
          [
           "Siaya",
           "Ugunja",
           "Undefined Well"
          ],
          [
           "Vihiga",
           "Sabatia",
           "Protected Well"
          ],
          [
           "Busia",
           "Matayos",
           "Protected Well"
          ],
          [
           "Kakamega",
           "Mumias West",
           "Undefined Well"
          ],
          [
           "Busia",
           "Teso South",
           "Borehole/Tubewell"
          ],
          [
           "Bungoma",
           "Tongaren",
           "Protected Well"
          ],
          [
           "Kakamega",
           "Malava",
           "Undefined Well"
          ],
          [
           "Busia",
           "Butula",
           "Protected Well"
          ],
          [
           "Kakamega",
           "Navakholo",
           "Protected Well"
          ],
          [
           "Vihiga",
           "Sabatia",
           "Protected Well"
          ],
          [
           "Siaya",
           "Alego Usonga",
           "Undefined Well"
          ],
          [
           "Kisumu",
           "Kisumu West",
           "Borehole/Tubewell"
          ],
          [
           "Kakamega",
           "Khwisero",
           "Protected Well"
          ],
          [
           "Trans Nzoia",
           "Kiminini",
           "Protected Well"
          ],
          [
           "Siaya",
           "Ugenya",
           "Protected Well"
          ],
          [
           "Nyamira",
           "Borabu",
           "Protected Well"
          ],
          [
           "Siaya",
           "Rarieda",
           "Undefined Well"
          ],
          [
           "Samburu",
           "Samburu North",
           "Protected Spring"
          ],
          [
           "Kakamega",
           "Butere",
           "Undefined Well"
          ],
          [
           "Kakamega",
           "Lurambi",
           "Protected Well"
          ],
          [
           "Kakamega",
           "Shinyalu",
           "Protected Well"
          ],
          [
           "Bungoma",
           "Webute West",
           "Protected Well"
          ],
          [
           "Kakamega",
           "Ikolomani",
           "Protected Well"
          ],
          [
           "Vihiga",
           "Sabatia",
           "Protected Well"
          ],
          [
           "Kakamega",
           "Shinyalu",
           "Protected Well"
          ],
          [
           "Kisumu",
           "Seme",
           "Undefined Well"
          ],
          [
           "Siaya",
           "Gem",
           "Undefined Well"
          ],
          [
           "Busia",
           "Funyula",
           "Borehole/Tubewell"
          ],
          [
           "Kakamega",
           "Lurambi",
           "Borehole/Tubewell"
          ],
          [
           "Makueni",
           "Kibwezi West",
           "Sand or Sub-surface Dam"
          ],
          [
           "Kakamega",
           "Malava",
           "Protected Well"
          ],
          [
           "Kakamega",
           "Shinyalu",
           "Protected Well"
          ],
          [
           "Makueni",
           "Kilome",
           "Protected Spring"
          ],
          [
           "Kiambu",
           "Kikuyu",
           "Borehole/Tubewell"
          ],
          [
           "Kakamega",
           "Khwisero",
           "Undefined Well"
          ],
          [
           "Kisumu",
           "Seme",
           "Borehole/Tubewell"
          ],
          [
           "Kakamega",
           "Ikolomani",
           "Protected Well"
          ],
          [
           "Migori",
           "Uriri",
           "Protected Well"
          ],
          [
           "Kakamega",
           "Lugari",
           "Protected Well"
          ],
          [
           "Bungoma",
           "Kanduyi",
           "Protected Well"
          ],
          [
           "Kakamega",
           "Mumias West",
           "Undefined Well"
          ],
          [
           "Kakamega",
           "Navakholo",
           "Borehole/Tubewell"
          ],
          [
           "Busia",
           "Teso South",
           "Protected Well"
          ],
          [
           "Busia",
           "Funyula",
           "Borehole/Tubewell"
          ],
          [
           "Migori",
           "Kuria West",
           "Protected Well"
          ],
          [
           "Kakamega",
           "Lugari",
           "Protected Well"
          ],
          [
           "Kisumu",
           "Nyando",
           "Protected Well"
          ],
          [
           "Vihiga",
           "Vihiga",
           "Protected Well"
          ],
          [
           "Kakamega",
           "Butere",
           "Protected Well"
          ],
          [
           "Busia",
           "Butula",
           "Protected Well"
          ],
          [
           "Homa Bay",
           "Suba",
           "Borehole/Tubewell"
          ],
          [
           "Migori",
           "Suna West",
           "Undefined Well"
          ],
          [
           "Nyamira",
           "Kitutu Masaba",
           "Protected Well"
          ],
          [
           "Kiambu",
           "Juja",
           "Sand or Sub-surface Dam"
          ],
          [
           "Kakamega",
           "Butere",
           "Protected Well"
          ],
          [
           "Makueni",
           "Makueni",
           "Undefined Well"
          ],
          [
           "Homa Bay",
           "Kabondo Kasipul",
           "Protected Well"
          ],
          [
           "Kakamega",
           "Shinyalu",
           "Protected Well"
          ],
          [
           "Kakamega",
           "Malava",
           "Protected Well"
          ],
          [
           "Migori",
           "Suna East",
           "Undefined Well"
          ],
          [
           "Siaya",
           "Gem",
           "Protected Well"
          ],
          [
           "Siaya",
           "Alego Usonga",
           "Borehole/Tubewell"
          ],
          [
           "Busia",
           "Butula",
           "Borehole/Tubewell"
          ],
          [
           "Kakamega",
           "Lurambi",
           "Protected Well"
          ],
          [
           "Makueni",
           "Kaiti",
           "Sand or Sub-surface Dam"
          ],
          [
           "Homa Bay",
           "Ndhiwa",
           "Borehole/Tubewell"
          ],
          [
           "Bungoma",
           "Likuyani",
           "Undefined Well"
          ],
          [
           "Vihiga",
           "Hamisi",
           "Protected Well"
          ],
          [
           "Vihiga",
           "Vihiga",
           "Protected Well"
          ],
          [
           "Bungoma",
           "Kanduyi",
           "Protected Well"
          ],
          [
           "Narok",
           "Kilgoris",
           "Borehole/Tubewell"
          ],
          [
           "Kakamega",
           "Navakholo",
           "Borehole/Tubewell"
          ],
          [
           "Kakamega",
           "Ikolomani",
           "Protected Well"
          ],
          [
           "Migori",
           "Rongo",
           "Protected Well"
          ],
          [
           "Busia",
           "Budalangi",
           "Undefined Well"
          ],
          [
           "Baringo",
           "Tiaty",
           "Undefined Well"
          ],
          [
           "Nyamira",
           "West Mugirango",
           "Protected Well"
          ],
          [
           "Busia",
           "Teso North",
           "Borehole/Tubewell"
          ],
          [
           "Migori",
           "Suna East",
           "Borehole/Tubewell"
          ],
          [
           "Kisumu",
           "Nyakach",
           "Piped Water"
          ],
          [
           "Kakamega",
           "Mumias East",
           "Undefined Well"
          ],
          [
           "Embu",
           "Manyatta",
           "Protected Well"
          ],
          [
           "Siaya",
           "Ugenya",
           "Protected Well"
          ],
          [
           "Kakamega",
           "Lurambi",
           "Protected Well"
          ],
          [
           "Kisumu",
           "Kisumu West",
           "Borehole/Tubewell"
          ],
          [
           "Busia",
           "Teso North",
           "Undefined Well"
          ],
          [
           "Siaya",
           "Ugenya",
           "Protected Well"
          ],
          [
           "Kakamega",
           "Mumias West",
           "Undefined Well"
          ],
          [
           "Kakamega",
           "Khwisero",
           "Protected Well"
          ],
          [
           "Makueni",
           "Kibwezi East",
           "Undefined Well"
          ],
          [
           "Makueni",
           "Kibwezi West",
           "Protected Spring"
          ],
          [
           "Kakamega",
           "Lugari",
           "Protected Well"
          ],
          [
           "Kakamega",
           "Shinyalu",
           "Protected Well"
          ],
          [
           "Kiambu",
           "Limuru",
           "Borehole/Tubewell"
          ],
          [
           "Busia",
           "Butula",
           "Borehole/Tubewell"
          ],
          [
           "Nandi",
           "Aldai",
           "Protected Well"
          ],
          [
           "Homa Bay",
           "Mbita",
           "Borehole/Tubewell"
          ],
          [
           "Vihiga",
           "Vihiga",
           "Protected Well"
          ],
          [
           "Kisumu",
           "Kisumu East",
           "Piped Water"
          ],
          [
           "Migori",
           "Suna East",
           "Protected Well"
          ],
          [
           "Embu",
           "Mbeere South",
           "Rainwater Harvesting"
          ],
          [
           "Makueni",
           "Kibwezi East",
           "Protected Spring"
          ],
          [
           "Kakamega",
           "Lurambi",
           "Rainwater Harvesting"
          ],
          [
           "Kisumu",
           "Muhoroni",
           "Protected Well"
          ],
          [
           "Kakamega",
           "Navakholo",
           "Protected Well"
          ],
          [
           "Kakamega",
           "Navakholo",
           "Protected Well"
          ],
          [
           "Bungoma",
           "Likuyani",
           "Undefined Well"
          ],
          [
           "Homa Bay",
           "Suba",
           "Piped Water"
          ],
          [
           "Vihiga",
           "Luanda",
           "Protected Well"
          ],
          [
           "Makueni",
           "Kilome",
           "Sand or Sub-surface Dam"
          ],
          [
           "Bungoma",
           "Bumula",
           "Protected Well"
          ],
          [
           "Busia",
           "Funyula",
           "Borehole/Tubewell"
          ],
          [
           "Kakamega",
           "Navakholo",
           "Protected Well"
          ],
          [
           "Nyamira",
           "Kitutu Masaba",
           "Protected Well"
          ],
          [
           "Vihiga",
           "Sabatia",
           "Borehole/Tubewell"
          ],
          [
           "Kakamega",
           "Shinyalu",
           "Protected Well"
          ],
          [
           "Makueni",
           "Kaiti",
           "Protected Well"
          ],
          [
           "Kakamega",
           "Khwisero",
           "Protected Well"
          ],
          [
           "Siaya",
           "Alego Usonga",
           "Sand or Sub-surface Dam"
          ],
          [
           "Kisumu",
           "Kisumu East",
           "Borehole/Tubewell"
          ],
          [
           "Kakamega",
           "Matungu",
           "Protected Well"
          ],
          [
           "Busia",
           "Matayos",
           "Protected Well"
          ],
          [
           "Busia",
           "Teso South",
           "Protected Well"
          ],
          [
           "Nyamira",
           "Kitutu Masaba",
           "Protected Well"
          ],
          [
           "Kakamega",
           "Matungu",
           "Undefined Well"
          ],
          [
           "Kakamega",
           "Lurambi",
           "Undefined Well"
          ],
          [
           "Siaya",
           "Alego Usonga",
           "Protected Well"
          ],
          [
           "Kakamega",
           "Lurambi",
           "Protected Well"
          ],
          [
           "Busia",
           "Budalangi",
           "Undefined Well"
          ],
          [
           "Kiambu",
           "Kiambu",
           "Borehole/Tubewell"
          ],
          [
           "Siaya",
           "Alego Usonga",
           "Sand or Sub-surface Dam"
          ],
          [
           "Makueni",
           "Kibwezi East",
           "Undefined Well"
          ],
          [
           "Busia",
           "Nambale",
           "Protected Well"
          ],
          [
           "Vihiga",
           "Hamisi",
           "Protected Well"
          ],
          [
           "Kakamega",
           "Butere",
           "Protected Well"
          ],
          [
           "Busia",
           "Butula",
           "Borehole/Tubewell"
          ],
          [
           "Makueni",
           "Mbooni",
           "Sand or Sub-surface Dam"
          ],
          [
           "Busia",
           "Teso North",
           "Undefined Well"
          ],
          [
           "Kakamega",
           "Shinyalu",
           "Protected Well"
          ],
          [
           "Embu",
           "Runyenjes",
           "Protected Well"
          ],
          [
           "Busia",
           "Nambale",
           "Borehole/Tubewell"
          ],
          [
           "Homa Bay",
           "Ndhiwa",
           "Borehole/Tubewell"
          ],
          [
           "Siaya",
           "Gem",
           "Protected Well"
          ],
          [
           "Kisumu",
           "Nyando",
           "Protected Well"
          ],
          [
           "Kisumu",
           "Nyando",
           "Protected Well"
          ],
          [
           "Vihiga",
           "Vihiga",
           "Protected Well"
          ],
          [
           "Kakamega",
           "Butere",
           "Protected Well"
          ],
          [
           "Kisumu",
           "Seme",
           "Borehole/Tubewell"
          ],
          [
           "Samburu",
           "Samburu North",
           "Piped Water"
          ],
          [
           "Busia",
           "Teso South",
           "Protected Well"
          ],
          [
           "Kakamega",
           "Khwisero",
           "Protected Well"
          ],
          [
           "Busia",
           "Funyula",
           "Borehole/Tubewell"
          ],
          [
           "Siaya",
           "Ugunja",
           "Protected Well"
          ],
          [
           "Vihiga",
           "Vihiga",
           "Protected Well"
          ],
          [
           "Kakamega",
           "Shinyalu",
           "Protected Well"
          ],
          [
           "Bungoma",
           "Tongaren",
           "Protected Well"
          ],
          [
           "Kakamega",
           "Lurambi",
           "Protected Well"
          ],
          [
           "Busia",
           "Nambale",
           "Protected Well"
          ],
          [
           "Kisumu",
           "Nyando",
           "Protected Well"
          ],
          [
           "Nyamira",
           "Kitutu Masaba",
           "Protected Well"
          ],
          [
           "Makueni",
           "Kilome",
           "Borehole/Tubewell"
          ],
          [
           "Kisumu",
           "Nyando",
           "Protected Well"
          ],
          [
           "Siaya",
           "Ugenya",
           "Protected Well"
          ],
          [
           "Kakamega",
           "Butere",
           "Protected Well"
          ],
          [
           "Makueni",
           "Makueni",
           "Sand or Sub-surface Dam"
          ],
          [
           "Bungoma",
           "Tongaren",
           "Protected Well"
          ],
          [
           "Kiambu",
           "Lari",
           "Borehole/Tubewell"
          ],
          [
           "Busia",
           "Nambale",
           "Protected Well"
          ],
          [
           "Busia",
           "Nambale",
           "Undefined Well"
          ],
          [
           "Kakamega",
           "Matungu",
           "Protected Well"
          ],
          [
           "Busia",
           "Budalangi",
           "Undefined Well"
          ],
          [
           "Siaya",
           "Ugenya",
           "Protected Well"
          ],
          [
           "Vihiga",
           "Hamisi",
           "Protected Well"
          ],
          [
           "Nyamira",
           "Kitutu Masaba",
           "Protected Well"
          ],
          [
           "Migori",
           "Uriri",
           "Protected Well"
          ],
          [
           "Makueni",
           "Kibwezi West",
           "Sand or Sub-surface Dam"
          ],
          [
           "Kakamega",
           "Shinyalu",
           "Protected Well"
          ],
          [
           "Makueni",
           "Kibwezi West",
           "Sand or Sub-surface Dam"
          ],
          [
           "Kisumu",
           "Muhoroni",
           "Protected Well"
          ],
          [
           "Vihiga",
           "Hamisi",
           "Protected Well"
          ],
          [
           "Kajiado",
           "Kajiado Central",
           "Piped Water"
          ],
          [
           "Kakamega",
           "Ikolomani",
           "Protected Well"
          ],
          [
           "Kakamega",
           "Shinyalu",
           "Protected Well"
          ],
          [
           "Makueni",
           "Kibwezi East",
           "Sand or Sub-surface Dam"
          ],
          [
           "Bungoma",
           "Kanduyi",
           "Protected Well"
          ],
          [
           "Kakamega",
           "Navakholo",
           "Protected Well"
          ],
          [
           "Kakamega",
           "Butere",
           "Protected Well"
          ],
          [
           "Kakamega",
           "Malava",
           "Protected Well"
          ],
          [
           "Migori",
           "Kuria East",
           "Protected Well"
          ],
          [
           "Kisumu",
           "Nyakach",
           "Piped Water"
          ],
          [
           "Makueni",
           "Kilome",
           "Sand or Sub-surface Dam"
          ],
          [
           "Kajiado",
           "Kajiado Central",
           "Protected Well"
          ],
          [
           "Busia",
           "Funyula",
           "Borehole/Tubewell"
          ],
          [
           "Nyamira",
           "North Mugirango",
           "Undefined Well"
          ],
          [
           "Kisumu",
           "Nyando",
           "Protected Well"
          ],
          [
           "Kakamega",
           "Shinyalu",
           "Protected Well"
          ],
          [
           "Embu",
           "Runyenjes",
           "Rainwater Harvesting"
          ],
          [
           "Vihiga",
           "Hamisi",
           "Protected Well"
          ],
          [
           "Kakamega",
           "Butere",
           "Undefined Well"
          ],
          [
           "Siaya",
           "Gem",
           "Protected Well"
          ],
          [
           "Kisumu",
           "Kisumu East",
           "Protected Well"
          ],
          [
           "Kisumu",
           "Muhoroni",
           "Rainwater Harvesting"
          ],
          [
           "Kakamega",
           "Khwisero",
           "Protected Well"
          ],
          [
           "Kakamega",
           "Lurambi",
           "Protected Well"
          ],
          [
           "Kajiado",
           "Kajiado Central",
           "Borehole/Tubewell"
          ],
          [
           "Kakamega",
           "Navakholo",
           "Borehole/Tubewell"
          ],
          [
           "Nyamira",
           "Kitutu Masaba",
           "Protected Well"
          ],
          [
           "Kakamega",
           "Butere",
           "Protected Well"
          ],
          [
           "Kakamega",
           "Navakholo",
           "Protected Well"
          ],
          [
           "Makueni",
           "Kilome",
           "Sand or Sub-surface Dam"
          ],
          [
           "Kakamega",
           "Matungu",
           "Undefined Well"
          ],
          [
           "Makueni",
           "Kaiti",
           "Sand or Sub-surface Dam"
          ],
          [
           "Vihiga",
           "Sabatia",
           "Protected Well"
          ],
          [
           "Kajiado",
           "Kajiado South",
           "Piped Water"
          ],
          [
           "Kakamega",
           "Navakholo",
           "Protected Well"
          ],
          [
           "Kakamega",
           "Ikolomani",
           "Undefined Well"
          ],
          [
           "Siaya",
           "Ugunja",
           "Undefined Well"
          ],
          [
           "Vihiga",
           "Luanda",
           "Protected Well"
          ],
          [
           "Kakamega",
           "Mumias East",
           "Protected Well"
          ],
          [
           "Busia",
           "Butula",
           "Protected Well"
          ],
          [
           "Kisumu",
           "Nyakach",
           "Piped Water"
          ],
          [
           "Kiambu",
           "Ruiru",
           "Piped Water"
          ],
          [
           "Busia",
           "Teso South",
           "Protected Well"
          ],
          [
           "Trans Nzoia",
           "Cherangany",
           "Protected Well"
          ],
          [
           "Embu",
           "Manyatta",
           "Protected Well"
          ],
          [
           "Kakamega",
           "Ikolomani",
           "Protected Well"
          ],
          [
           "Busia",
           "Teso North",
           "Protected Well"
          ],
          [
           "Nyamira",
           "Kitutu Masaba",
           "Protected Well"
          ],
          [
           "Kitui",
           "Kitui South",
           "Borehole/Tubewell"
          ],
          [
           "Busia",
           "Butula",
           "Borehole/Tubewell"
          ],
          [
           "Kakamega",
           "Navakholo",
           "Protected Well"
          ],
          [
           "Makueni",
           "Kibwezi East",
           "Undefined Well"
          ],
          [
           "Kisumu",
           "Kisumu East",
           "Protected Well"
          ],
          [
           "Kisumu",
           "Nyando",
           "Borehole/Tubewell"
          ],
          [
           "Makueni",
           "Mbooni",
           "Sand or Sub-surface Dam"
          ],
          [
           "Vihiga",
           "Hamisi",
           "Protected Well"
          ],
          [
           "Kisumu",
           "Muhoroni",
           "Undefined Well"
          ],
          [
           "Bungoma",
           "Tongaren",
           "Protected Well"
          ],
          [
           "Kisumu",
           "Nyando",
           "Borehole/Tubewell"
          ],
          [
           "Kakamega",
           "Matungu",
           "Undefined Well"
          ],
          [
           "Kakamega",
           "Butere",
           "Protected Well"
          ],
          [
           "Busia",
           "Teso North",
           "Protected Well"
          ],
          [
           "Homa Bay",
           "Kabondo Kasipul",
           "Protected Well"
          ],
          [
           "Busia",
           "Butula",
           "Protected Well"
          ],
          [
           "Makueni",
           "Makueni",
           "Sand or Sub-surface Dam"
          ],
          [
           "Makueni",
           "Mbooni",
           "Sand or Sub-surface Dam"
          ],
          [
           "Kisumu",
           "Nyando",
           "Protected Well"
          ],
          [
           "Bungoma",
           "Webuye East",
           "Protected Well"
          ],
          [
           "Migori",
           "Kuria East",
           "Protected Well"
          ],
          [
           "Busia",
           "Teso South",
           "Protected Well"
          ],
          [
           "Kakamega",
           "Shinyalu",
           "Protected Well"
          ],
          [
           "Nyamira",
           "Borabu",
           "Borehole/Tubewell"
          ],
          [
           "Kakamega",
           "Mumias West",
           "Undefined Well"
          ],
          [
           "Kisumu",
           "Seme",
           "Borehole/Tubewell"
          ],
          [
           "Kakamega",
           "Butere",
           "Protected Well"
          ],
          [
           "Kakamega",
           "Navakholo",
           "Protected Well"
          ],
          [
           "Makueni",
           "Makueni",
           "Undefined Well"
          ],
          [
           "Kakamega",
           "Butere",
           "Protected Well"
          ],
          [
           "Kakamega",
           "Mumias East",
           "Protected Well"
          ],
          [
           "Kakamega",
           "Shinyalu",
           "Protected Well"
          ],
          [
           "Nyamira",
           "Kitutu Masaba",
           "Protected Well"
          ],
          [
           "Kakamega",
           "Lurambi",
           "Borehole/Tubewell"
          ],
          [
           "Bungoma",
           "Webute West",
           "Protected Well"
          ],
          [
           "Migori",
           "Rongo",
           "Protected Well"
          ],
          [
           "Busia",
           "Budalangi",
           "Undefined Well"
          ],
          [
           "Migori",
           "Kuria West",
           "Protected Well"
          ],
          [
           "Busia",
           "Butula",
           "Protected Well"
          ],
          [
           "Kakamega",
           "Butere",
           "Borehole/Tubewell"
          ],
          [
           "Kakamega",
           "Lurambi",
           "Protected Well"
          ],
          [
           "Kisumu",
           "Nyando",
           "Protected Well"
          ],
          [
           "Kakamega",
           "Shinyalu",
           "Protected Well"
          ],
          [
           "Kisumu",
           "Kisumu Central",
           "Piped Water"
          ],
          [
           "Bungoma",
           "Lugari",
           "Protected Well"
          ],
          [
           "Busia",
           "Matayos",
           "Protected Well"
          ],
          [
           "Migori",
           "Kuria West",
           "Protected Well"
          ],
          [
           "Kakamega",
           "Lurambi",
           "Protected Well"
          ],
          [
           "Kakamega",
           "Butere",
           "Protected Well"
          ],
          [
           "Makueni",
           "Mbooni",
           "Protected Well"
          ],
          [
           "Migori",
           "Kuria West",
           "Protected Well"
          ],
          [
           "Vihiga",
           "Hamisi",
           "Protected Well"
          ],
          [
           "Makueni",
           "Kibwezi West",
           "Sand or Sub-surface Dam"
          ],
          [
           "Siaya",
           "Gem",
           "Protected Well"
          ],
          [
           "Busia",
           "Butula",
           "Borehole/Tubewell"
          ],
          [
           "Homa Bay",
           "Rangwe",
           "Borehole/Tubewell"
          ],
          [
           "Busia",
           "Funyula",
           "Borehole/Tubewell"
          ],
          [
           "Kakamega",
           "Navakholo",
           "Protected Well"
          ],
          [
           "Busia",
           "Nambale",
           "Protected Well"
          ],
          [
           "Makueni",
           "Makueni",
           "Undefined Well"
          ],
          [
           "Vihiga",
           "Vihiga",
           "Protected Well"
          ],
          [
           "Kisumu",
           "Kisumu East",
           "Piped Water"
          ],
          [
           "Migori",
           "Kuria West",
           "Protected Well"
          ],
          [
           "Kakamega",
           "Butere",
           "Protected Well"
          ],
          [
           "Siaya",
           "Gem",
           "Protected Well"
          ],
          [
           "Kakamega",
           "Khwisero",
           "Protected Well"
          ],
          [
           "Makueni",
           "Kibwezi West",
           "Sand or Sub-surface Dam"
          ],
          [
           "Migori",
           "Rongo",
           "Protected Well"
          ],
          [
           "Kisumu",
           "Nyando",
           "Protected Well"
          ],
          [
           "Kakamega",
           "Navakholo",
           "Protected Well"
          ],
          [
           "Kakamega",
           "Butere",
           "Protected Well"
          ],
          [
           "Busia",
           "Funyula",
           "Borehole/Tubewell"
          ],
          [
           "Bungoma",
           "Webuye East",
           "Protected Well"
          ],
          [
           "Makueni",
           "Makueni",
           "Sand or Sub-surface Dam"
          ],
          [
           "Migori",
           "Suna East",
           "Protected Well"
          ],
          [
           "Busia",
           "Butula",
           "Protected Well"
          ],
          [
           "Kakamega",
           "Butere",
           "Protected Well"
          ],
          [
           "Samburu",
           "Samburu West",
           "Piped Water"
          ],
          [
           "Busia",
           "Butula",
           "Protected Well"
          ],
          [
           "Kakamega",
           "Butere",
           "Undefined Well"
          ],
          [
           "Kakamega",
           "Ikolomani",
           "Protected Well"
          ],
          [
           "Busia",
           "Teso North",
           "Undefined Well"
          ],
          [
           "Nyamira",
           "North Mugirango",
           "Protected Well"
          ],
          [
           "Kakamega",
           "Mumias East",
           "Protected Well"
          ],
          [
           "Migori",
           "Suna West",
           "Undefined Well"
          ],
          [
           "Siaya",
           "Gem",
           "Protected Well"
          ],
          [
           "Kakamega",
           "Khwisero",
           "Borehole/Tubewell"
          ],
          [
           "Busia",
           "Butula",
           "Protected Well"
          ],
          [
           "Busia",
           "Butula",
           "Protected Well"
          ],
          [
           "Vihiga",
           "Vihiga",
           "Protected Well"
          ],
          [
           "Vihiga",
           "Hamisi",
           "Protected Well"
          ],
          [
           "Siaya",
           "Alego Usonga",
           "Undefined Well"
          ],
          [
           "Kakamega",
           "Khwisero",
           "Protected Well"
          ],
          [
           "Busia",
           "Butula",
           "Protected Well"
          ],
          [
           "Kakamega",
           "Navakholo",
           "Borehole/Tubewell"
          ],
          [
           "Makueni",
           "Mbooni",
           "Sand or Sub-surface Dam"
          ],
          [
           "Nyamira",
           "Kitutu Masaba",
           "Protected Well"
          ],
          [
           "Busia",
           "Butula",
           "Protected Well"
          ],
          [
           "Kisumu",
           "Kisumu West",
           "Borehole/Tubewell"
          ],
          [
           "Kisumu",
           "Seme",
           "Undefined Well"
          ],
          [
           "Busia",
           "Teso South",
           "Protected Well"
          ],
          [
           "Kakamega",
           "Khwisero",
           "Protected Well"
          ],
          [
           "Kisumu",
           "Nyando",
           "Borehole/Tubewell"
          ],
          [
           "Kakamega",
           "Mumias East",
           "Undefined Well"
          ],
          [
           "Kiambu",
           "Kikuyu",
           "Borehole/Tubewell"
          ],
          [
           "Busia",
           "Nambale",
           "Protected Well"
          ],
          [
           "Nyamira",
           "Borabu",
           "Protected Well"
          ],
          [
           "Kisumu",
           "Seme",
           "Undefined Well"
          ],
          [
           "Vihiga",
           "Hamisi",
           "Protected Well"
          ],
          [
           "Kakamega",
           "Malava",
           "Protected Well"
          ],
          [
           "Busia",
           "Teso North",
           "Protected Well"
          ],
          [
           "Vihiga",
           "Hamisi",
           "Protected Well"
          ],
          [
           "Busia",
           "Butula",
           "Protected Well"
          ],
          [
           "Kisumu",
           "Seme",
           "Protected Well"
          ],
          [
           "Nyamira",
           "Kitutu Masaba",
           "Protected Well"
          ],
          [
           "Bungoma",
           "Likuyani",
           "Protected Well"
          ],
          [
           "Busia",
           "Teso South",
           "Protected Well"
          ],
          [
           "Embu",
           "Mbeere South",
           "Sand or Sub-surface Dam"
          ],
          [
           "Kisumu",
           "Kisumu West",
           "Protected Well"
          ],
          [
           "Homa Bay",
           "Kabondo Kasipul",
           "Protected Well"
          ],
          [
           "Siaya",
           "Gem",
           "Protected Well"
          ],
          [
           "Busia",
           "Funyula",
           "Protected Well"
          ],
          [
           "Busia",
           "Teso South",
           "Protected Well"
          ],
          [
           "Nyamira",
           "North Mugirango",
           "Protected Well"
          ],
          [
           "Vihiga",
           "Hamisi",
           "Protected Well"
          ],
          [
           "Siaya",
           "Gem",
           "Protected Well"
          ],
          [
           "Makueni",
           "Kibwezi West",
           "Protected Spring"
          ],
          [
           "Kisumu",
           "Kisumu East",
           "Protected Well"
          ],
          [
           "Bungoma",
           "Lugari",
           "Protected Well"
          ],
          [
           "Embu",
           "Mbeere South",
           "Borehole/Tubewell"
          ],
          [
           "Makueni",
           "Kaiti",
           "Sand or Sub-surface Dam"
          ],
          [
           "Vihiga",
           "Sabatia",
           "Protected Well"
          ],
          [
           "Nyamira",
           "Borabu",
           "Protected Well"
          ],
          [
           "Migori",
           "Kuria East",
           "Undefined Well"
          ],
          [
           "Makueni",
           "Kibwezi West",
           "Sand or Sub-surface Dam"
          ],
          [
           "Bungoma",
           "Lugari",
           "Undefined Well"
          ],
          [
           "Kakamega",
           "Malava",
           "Protected Well"
          ],
          [
           "Busia",
           "Budalangi",
           "Borehole/Tubewell"
          ],
          [
           "Siaya",
           "Gem",
           "Protected Well"
          ],
          [
           "Busia",
           "Butula",
           "Protected Well"
          ],
          [
           "Migori",
           "Kuria East",
           "Protected Well"
          ],
          [
           "Kakamega",
           "Shinyalu",
           "Protected Well"
          ],
          [
           "Kakamega",
           "Ikolomani",
           "Protected Well"
          ],
          [
           "Homa Bay",
           "Homa Bay Town",
           "Borehole/Tubewell"
          ],
          [
           "Siaya",
           "Gem",
           "Protected Well"
          ],
          [
           "Kakamega",
           "Navakholo",
           "Protected Well"
          ],
          [
           "Busia",
           "Nambale",
           "Borehole/Tubewell"
          ],
          [
           "Busia",
           "Teso South",
           "Protected Well"
          ],
          [
           "Makueni",
           "Kibwezi East",
           "Sand or Sub-surface Dam"
          ],
          [
           "Kakamega",
           "Malava",
           "Protected Well"
          ],
          [
           "Makueni",
           "Makueni",
           "Sand or Sub-surface Dam"
          ],
          [
           "Makueni",
           "Kilome",
           "Sand or Sub-surface Dam"
          ],
          [
           "Siaya",
           "Ugunja",
           "Protected Well"
          ],
          [
           "Embu",
           "Mbeere South",
           "Borehole/Tubewell"
          ],
          [
           "Kakamega",
           "Malava",
           "Protected Well"
          ],
          [
           "Bungoma",
           "Lugari",
           "Protected Well"
          ],
          [
           "Kakamega",
           "Lurambi",
           "Protected Well"
          ],
          [
           "Makueni",
           "Kibwezi West",
           "Sand or Sub-surface Dam"
          ],
          [
           "Trans Nzoia",
           "Cherangany",
           "Protected Well"
          ],
          [
           "Kisumu",
           "Kisumu East",
           "Piped Water"
          ],
          [
           "Kakamega",
           "Butere",
           "Protected Well"
          ],
          [
           "Kisumu",
           "Kisumu East",
           "Borehole/Tubewell"
          ],
          [
           "Kakamega",
           "Shinyalu",
           "Protected Well"
          ],
          [
           "Homa Bay",
           "Suba",
           "Piped Water"
          ],
          [
           "Kisumu",
           "Muhoroni",
           "Borehole/Tubewell"
          ],
          [
           "Kakamega",
           "Shinyalu",
           "Protected Well"
          ],
          [
           "Bungoma",
           "Tongaren",
           "Protected Well"
          ],
          [
           "Kakamega",
           "Navakholo",
           "Protected Well"
          ],
          [
           "Busia",
           "Funyula",
           "Borehole/Tubewell"
          ],
          [
           "Kisumu",
           "Muhoroni",
           "Protected Well"
          ],
          [
           "Makueni",
           "Makueni",
           "Sand or Sub-surface Dam"
          ],
          [
           "Trans Nzoia",
           "Cherangany",
           "Protected Well"
          ],
          [
           "Siaya",
           "Alego Usonga",
           "Undefined Well"
          ],
          [
           "Siaya",
           "Ugenya",
           "Borehole/Tubewell"
          ],
          [
           "Migori",
           "Kuria West",
           "Protected Well"
          ],
          [
           "Bungoma",
           "Webuye East",
           "Protected Well"
          ],
          [
           "Trans Nzoia",
           "Cherangany",
           "Protected Well"
          ],
          [
           "Kakamega",
           "Matungu",
           "Protected Well"
          ],
          [
           "Migori",
           "Kuria East",
           "Protected Well"
          ],
          [
           "Busia",
           "Nambale",
           "Protected Well"
          ],
          [
           "Siaya",
           "Alego Usonga",
           "Undefined Well"
          ],
          [
           "Vihiga",
           "Vihiga",
           "Protected Well"
          ],
          [
           "Vihiga",
           "Hamisi",
           "Protected Well"
          ],
          [
           "Kisumu",
           "Kisumu East",
           "Borehole/Tubewell"
          ],
          [
           "Nandi",
           "Aldai",
           "Protected Well"
          ],
          [
           "Vihiga",
           "Sabatia",
           "Protected Well"
          ],
          [
           "Kakamega",
           "Butere",
           "Protected Well"
          ],
          [
           "Embu",
           "Mbeere South",
           "Borehole/Tubewell"
          ],
          [
           "Homa Bay",
           "Kasipul",
           "Protected Well"
          ],
          [
           "Busia",
           "Funyula",
           "Borehole/Tubewell"
          ],
          [
           "Busia",
           "Budalangi",
           "Undefined Well"
          ],
          [
           "Busia",
           "Butula",
           "Protected Well"
          ],
          [
           "Kisumu",
           "Seme",
           "Undefined Well"
          ],
          [
           "Kakamega",
           "Khwisero",
           "Protected Well"
          ],
          [
           "Turkana",
           "Turkana West",
           "Protected Well"
          ],
          [
           "Kakamega",
           "Lurambi",
           "Protected Well"
          ],
          [
           "Kakamega",
           "Butere",
           "Protected Well"
          ],
          [
           "Siaya",
           "Alego Usonga",
           "Undefined Well"
          ],
          [
           "Siaya",
           "Ugenya",
           "Protected Well"
          ],
          [
           "Siaya",
           "Gem",
           "Protected Well"
          ],
          [
           "Makueni",
           "Kibwezi East",
           "Sand or Sub-surface Dam"
          ],
          [
           "Siaya",
           "Alego Usonga",
           "Sand or Sub-surface Dam"
          ],
          [
           "Kakamega",
           "Ikolomani",
           "Protected Well"
          ],
          [
           "Bungoma",
           "Tongaren",
           "Protected Well"
          ],
          [
           "Busia",
           "Teso North",
           "Protected Well"
          ],
          [
           "Kakamega",
           "Lurambi",
           "Protected Well"
          ],
          [
           "Bungoma",
           "Likuyani",
           "Undefined Well"
          ],
          [
           "Uasin Gishu",
           "Soy",
           "Protected Well"
          ],
          [
           "Nyamira",
           "West Mugirango",
           "Protected Well"
          ],
          [
           "Kisumu",
           "Nyakach",
           "Undefined Well"
          ],
          [
           "Bungoma",
           "Webute West",
           "Protected Well"
          ],
          [
           "Nyamira",
           "Kitutu Masaba",
           "Protected Well"
          ],
          [
           "Siaya",
           "Ugunja",
           "Protected Well"
          ],
          [
           "Busia",
           "Funyula",
           "Borehole/Tubewell"
          ],
          [
           "Siaya",
           "Ugenya",
           "Protected Well"
          ],
          [
           "Uasin Gishu",
           "Turbo",
           "Protected Well"
          ],
          [
           "Kakamega",
           "Lurambi",
           "Protected Well"
          ],
          [
           "Vihiga",
           "Vihiga",
           "Protected Well"
          ],
          [
           "Kakamega",
           "Butere",
           "Borehole/Tubewell"
          ],
          [
           "Busia",
           "Butula",
           "Protected Well"
          ],
          [
           "Kakamega",
           "Matungu",
           "Undefined Well"
          ],
          [
           "Bungoma",
           "Likuyani",
           "Protected Well"
          ],
          [
           "Kakamega",
           "Shinyalu",
           "Protected Well"
          ],
          [
           "Kiambu",
           "Ruiru",
           "Borehole/Tubewell"
          ],
          [
           "Kisumu",
           "Kisumu East",
           "Borehole/Tubewell"
          ],
          [
           "Siaya",
           "Ugunja",
           "Protected Well"
          ],
          [
           "Embu",
           "Runyenjes",
           "Protected Well"
          ],
          [
           "Makueni",
           "Kibwezi East",
           "Sand or Sub-surface Dam"
          ],
          [
           "Makueni",
           "Kaiti",
           "Protected Well"
          ],
          [
           "Homa Bay",
           "Mbita",
           "Piped Water"
          ],
          [
           "Baringo",
           "Tiaty",
           "Undefined Well"
          ],
          [
           "Migori",
           "Kuria West",
           "Protected Well"
          ],
          [
           "Kakamega",
           "Butere",
           "Protected Well"
          ],
          [
           "Siaya",
           "Gem",
           "Protected Well"
          ],
          [
           "Busia",
           "Butula",
           "Protected Well"
          ],
          [
           "Vihiga",
           "Hamisi",
           "Protected Well"
          ],
          [
           "Kajiado",
           "Kajiado South",
           "Piped Water"
          ],
          [
           "Kakamega",
           "Navakholo",
           "Borehole/Tubewell"
          ],
          [
           "Kakamega",
           "Khwisero",
           "Protected Well"
          ],
          [
           "Kakamega",
           "Lurambi",
           "Protected Well"
          ],
          [
           "Kakamega",
           "Navakholo",
           "Protected Well"
          ],
          [
           "Kakamega",
           "Shinyalu",
           "Protected Well"
          ],
          [
           "Vihiga",
           "Vihiga",
           "Protected Well"
          ],
          [
           "Kakamega",
           "Shinyalu",
           "Protected Well"
          ],
          [
           "Makueni",
           "Kilome",
           "Sand or Sub-surface Dam"
          ],
          [
           "Busia",
           "Matayos",
           "Protected Well"
          ],
          [
           "Kakamega",
           "Malava",
           "Protected Well"
          ],
          [
           "Nyamira",
           "Kitutu Masaba",
           "Protected Well"
          ],
          [
           "Makueni",
           "Kilome",
           "Sand or Sub-surface Dam"
          ],
          [
           "Makueni",
           "Makueni",
           "Sand or Sub-surface Dam"
          ],
          [
           "Kakamega",
           "Mumias East",
           "Protected Well"
          ],
          [
           "Siaya",
           "Gem",
           "Protected Well"
          ],
          [
           "Siaya",
           "Ugunja",
           "Protected Well"
          ],
          [
           "Siaya",
           "Alego Usonga",
           "Undefined Well"
          ],
          [
           "Kakamega",
           "Butere",
           "Protected Well"
          ],
          [
           "Bungoma",
           "Likuyani",
           "Protected Well"
          ],
          [
           "Vihiga",
           "Emuhaya",
           "Protected Well"
          ],
          [
           "Bungoma",
           "Lugari",
           "Protected Well"
          ],
          [
           "Makueni",
           "Kibwezi West",
           "Sand or Sub-surface Dam"
          ],
          [
           "Trans Nzoia",
           "Cherangany",
           "Protected Well"
          ],
          [
           "Kisumu",
           "Nyakach",
           "Piped Water"
          ],
          [
           "Busia",
           "Matayos",
           "Protected Well"
          ],
          [
           "Nyamira",
           "Kitutu Masaba",
           "Protected Well"
          ],
          [
           "Kakamega",
           "Malava",
           "Protected Well"
          ],
          [
           "Kajiado",
           "Kajiado East",
           "Undefined Well"
          ],
          [
           "Busia",
           "Matayos",
           "Borehole/Tubewell"
          ],
          [
           "Kakamega",
           "Lurambi",
           "Protected Well"
          ],
          [
           "Kakamega",
           "Lugari",
           "Protected Well"
          ],
          [
           "Kakamega",
           "Butere",
           "Borehole/Tubewell"
          ],
          [
           "Migori",
           "Suna East",
           "Borehole/Tubewell"
          ],
          [
           "Vihiga",
           "Hamisi",
           "Protected Well"
          ],
          [
           "Busia",
           "Nambale",
           "Protected Well"
          ],
          [
           "Siaya",
           "Gem",
           "Protected Well"
          ],
          [
           "Migori",
           "Suna East",
           "Protected Well"
          ],
          [
           "Kakamega",
           "Lurambi",
           "Protected Well"
          ],
          [
           "Kajiado",
           "Kajiado South",
           "Protected Well"
          ],
          [
           "Busia",
           "Nambale",
           "Borehole/Tubewell"
          ],
          [
           "Siaya",
           "Gem",
           "Protected Well"
          ],
          [
           "Kisumu",
           "Muhoroni",
           "Protected Well"
          ],
          [
           "Kakamega",
           "Ikolomani",
           "Protected Well"
          ],
          [
           "Kisumu",
           "Kisumu West",
           "Protected Well"
          ],
          [
           "Embu",
           "Mbeere South",
           "Borehole/Tubewell"
          ],
          [
           "Siaya",
           "Gem",
           "Protected Well"
          ],
          [
           "Vihiga",
           "Sabatia",
           "Borehole/Tubewell"
          ],
          [
           "Migori",
           "Rongo",
           "Protected Well"
          ],
          [
           "Kiambu",
           "Gatundu South",
           "Borehole/Tubewell"
          ],
          [
           "Trans Nzoia",
           "Cherangany",
           "Protected Well"
          ],
          [
           "Bungoma",
           "Sirisia",
           "Protected Well"
          ],
          [
           "Migori",
           "Rongo",
           "Undefined Well"
          ],
          [
           "Kakamega",
           "Shinyalu",
           "Protected Well"
          ],
          [
           "Kiambu",
           "Limuru",
           "Borehole/Tubewell"
          ],
          [
           "Busia",
           "Butula",
           "Protected Well"
          ],
          [
           "Kiambu",
           "Kikuyu",
           "Borehole/Tubewell"
          ],
          [
           "Kajiado",
           "Kajiado South",
           "Piped Water"
          ],
          [
           "Busia",
           "Butula",
           "Protected Well"
          ],
          [
           "Kisumu",
           "Nyando",
           "Protected Well"
          ],
          [
           "Siaya",
           "Alego Usonga",
           "Borehole/Tubewell"
          ],
          [
           "Busia",
           "Budalangi",
           "Borehole/Tubewell"
          ],
          [
           "Vihiga",
           "Vihiga",
           "Protected Well"
          ],
          [
           "Busia",
           "Butula",
           "Protected Well"
          ],
          [
           "Samburu",
           "Samburu West",
           "Piped Water"
          ],
          [
           "Migori",
           "Uriri",
           "Protected Well"
          ],
          [
           "Makueni",
           "Makueni",
           "Sand or Sub-surface Dam"
          ],
          [
           "Nyamira",
           "Kitutu Masaba",
           "Protected Well"
          ],
          [
           "Bungoma",
           "Webute West",
           "Protected Well"
          ],
          [
           "Kakamega",
           "Butere",
           "Protected Well"
          ],
          [
           "Kisumu",
           "Nyando",
           "Borehole/Tubewell"
          ],
          [
           "Siaya",
           "Ugunja",
           "Borehole/Tubewell"
          ],
          [
           "Busia",
           "Butula",
           "Protected Well"
          ],
          [
           "Kakamega",
           "Mumias East",
           "Protected Well"
          ],
          [
           "Kakamega",
           "Malava",
           "Protected Well"
          ],
          [
           "Busia",
           "Teso North",
           "Borehole/Tubewell"
          ],
          [
           "Narok",
           "Kilgoris",
           "Protected Well"
          ],
          [
           "Makueni",
           "Kilome",
           "Sand or Sub-surface Dam"
          ],
          [
           "Vihiga",
           "Vihiga",
           "Protected Well"
          ],
          [
           "Kakamega",
           "Butere",
           "Borehole/Tubewell"
          ],
          [
           "Kisumu",
           "Nyakach",
           "Borehole/Tubewell"
          ],
          [
           "Migori",
           "Kuria West",
           "Protected Well"
          ],
          [
           "Bungoma",
           "Bumula",
           "Protected Well"
          ],
          [
           "Homa Bay",
           "Kasipul",
           "Protected Well"
          ],
          [
           "Makueni",
           "Kaiti",
           "Rainwater Harvesting"
          ],
          [
           "Kisumu",
           "Kisumu Central",
           "Piped Water"
          ],
          [
           "Homa Bay",
           "Mbita",
           "Piped Water"
          ],
          [
           "Kakamega",
           "Lurambi",
           "Protected Well"
          ],
          [
           "Kisumu",
           "Nyando",
           "Protected Well"
          ],
          [
           "Kakamega",
           "Malava",
           "Protected Well"
          ],
          [
           "Embu",
           "Runyenjes",
           "Protected Well"
          ],
          [
           "Busia",
           "Budalangi",
           "Protected Well"
          ],
          [
           "Kakamega",
           "Navakholo",
           "Undefined Well"
          ],
          [
           "Busia",
           "Matayos",
           "Protected Well"
          ],
          [
           "Nyamira",
           "Kitutu Masaba",
           "Protected Well"
          ],
          [
           "Busia",
           "Butula",
           "Protected Well"
          ],
          [
           "Kiambu",
           "Ruiru",
           "Borehole/Tubewell"
          ],
          [
           "Busia",
           "Butula",
           "Protected Well"
          ],
          [
           "Siaya",
           "Alego Usonga",
           "Protected Well"
          ],
          [
           "Nyamira",
           "West Mugirango",
           "Protected Well"
          ],
          [
           "Kakamega",
           "Matungu",
           "Undefined Well"
          ],
          [
           "Migori",
           "Rongo",
           "Protected Well"
          ],
          [
           "Siaya",
           "Gem",
           "Protected Well"
          ],
          [
           "Siaya",
           "Ugenya",
           "Protected Well"
          ],
          [
           "Kiambu",
           "Ruiru",
           "Piped Water"
          ],
          [
           "Kisumu",
           "Nyando",
           "Borehole/Tubewell"
          ],
          [
           "Kakamega",
           "Butere",
           "Protected Well"
          ],
          [
           "Vihiga",
           "Vihiga",
           "Protected Well"
          ],
          [
           "Siaya",
           "Gem",
           "Protected Well"
          ],
          [
           "Embu",
           "Mbeere South",
           "Borehole/Tubewell"
          ],
          [
           "Kisumu",
           "Nyando",
           "Protected Well"
          ],
          [
           "Busia",
           "Funyula",
           "Undefined Well"
          ],
          [
           "Kakamega",
           "Butere",
           "Protected Well"
          ],
          [
           "Kisumu",
           "Nyando",
           "Undefined Well"
          ],
          [
           "Busia",
           "Butula",
           "Protected Well"
          ],
          [
           "Embu",
           "Runyenjes",
           "Rainwater Harvesting"
          ],
          [
           "Kakamega",
           "Lurambi",
           "Protected Well"
          ],
          [
           "Kakamega",
           "Ikolomani",
           "Protected Well"
          ],
          [
           "Busia",
           "Budalangi",
           "Undefined Well"
          ],
          [
           "Kakamega",
           "Lurambi",
           "Protected Well"
          ],
          [
           "Makueni",
           "Makueni",
           "Sand or Sub-surface Dam"
          ],
          [
           "Nyamira",
           "Kitutu Masaba",
           "Protected Well"
          ],
          [
           "Bungoma",
           "Tongaren",
           "Protected Well"
          ],
          [
           "Kakamega",
           "Khwisero",
           "Protected Well"
          ],
          [
           "Embu",
           "Mbeere South",
           "Rainwater Harvesting"
          ],
          [
           "Kakamega",
           "Khwisero",
           "Protected Well"
          ],
          [
           "Vihiga",
           "Sabatia",
           "Protected Well"
          ],
          [
           "Kakamega",
           "Mumias West",
           "Undefined Well"
          ],
          [
           "Kakamega",
           "Ikolomani",
           "Protected Well"
          ],
          [
           "Siaya",
           "Rarieda",
           "Undefined Well"
          ],
          [
           "Busia",
           "Butula",
           "Protected Well"
          ],
          [
           "Kakamega",
           "Mumias East",
           "Protected Well"
          ],
          [
           "Busia",
           "Budalangi",
           "Undefined Well"
          ],
          [
           "Makueni",
           "Kibwezi West",
           "Borehole/Tubewell"
          ],
          [
           "Kakamega",
           "Ikolomani",
           "Protected Spring"
          ],
          [
           "Vihiga",
           "Hamisi",
           "Protected Well"
          ],
          [
           "Bungoma",
           "Tongaren",
           "Protected Well"
          ],
          [
           "Siaya",
           "Gem",
           "Protected Well"
          ],
          [
           "Busia",
           "Butula",
           "Protected Well"
          ],
          [
           "Kakamega",
           "Matungu",
           "Protected Well"
          ],
          [
           "Siaya",
           "Ugenya",
           "Borehole/Tubewell"
          ],
          [
           "Kakamega",
           "Butere",
           "Protected Well"
          ],
          [
           "Vihiga",
           "Hamisi",
           "Protected Well"
          ],
          [
           "Bungoma",
           "Likuyani",
           "Undefined Well"
          ],
          [
           "Kisumu",
           "Nyakach",
           "Piped Water"
          ],
          [
           "Embu",
           "Runyenjes",
           "Rainwater Harvesting"
          ],
          [
           "Kisumu",
           "Muhoroni",
           "Protected Well"
          ],
          [
           "Kisumu",
           "Kisumu Central",
           "Piped Water"
          ],
          [
           "Kakamega",
           "Lugari",
           "Protected Well"
          ],
          [
           "Busia",
           "Funyula",
           "Borehole/Tubewell"
          ],
          [
           "Migori",
           "Awendo",
           "Protected Well"
          ],
          [
           "Siaya",
           "Ugunja",
           "Undefined Well"
          ],
          [
           "Kakamega",
           "Malava",
           "Protected Well"
          ],
          [
           "Nyamira",
           "West Mugirango",
           "Protected Well"
          ],
          [
           "Busia",
           "Funyula",
           "Undefined Well"
          ],
          [
           "Kakamega",
           "Shinyalu",
           "Protected Well"
          ],
          [
           "Nyamira",
           "Borabu",
           "Protected Well"
          ],
          [
           "Makueni",
           "Mbooni",
           "Sand or Sub-surface Dam"
          ],
          [
           "Kakamega",
           "Mumias East",
           "Protected Well"
          ],
          [
           "Busia",
           "Butula",
           "Protected Well"
          ],
          [
           "Vihiga",
           "Sabatia",
           "Protected Well"
          ],
          [
           "Siaya",
           "Ugenya",
           "Protected Well"
          ],
          [
           "Siaya",
           "Alego Usonga",
           "Protected Well"
          ],
          [
           "Bungoma",
           "Lugari",
           "Protected Well"
          ],
          [
           "Kisumu",
           "Muhoroni",
           "Protected Well"
          ],
          [
           "Vihiga",
           "Hamisi",
           "Protected Well"
          ],
          [
           "Kakamega",
           "Mumias East",
           "Undefined Well"
          ],
          [
           "Vihiga",
           "Sabatia",
           "Protected Well"
          ],
          [
           "Makueni",
           "Makueni",
           "Sand or Sub-surface Dam"
          ],
          [
           "Kisumu",
           "Nyakach",
           "Borehole/Tubewell"
          ],
          [
           "Vihiga",
           "Vihiga",
           "Protected Well"
          ],
          [
           "Kakamega",
           "Khwisero",
           "Protected Well"
          ],
          [
           "Siaya",
           "Gem",
           "Undefined Well"
          ],
          [
           "Kakamega",
           "Khwisero",
           "Protected Well"
          ],
          [
           "Kakamega",
           "Mumias East",
           "Protected Well"
          ],
          [
           "Vihiga",
           "Hamisi",
           "Protected Well"
          ],
          [
           "Migori",
           "Kuria East",
           "Undefined Well"
          ],
          [
           "Kakamega",
           "Butere",
           "Protected Well"
          ],
          [
           "Trans Nzoia",
           "Cherangany",
           "Protected Well"
          ],
          [
           "Migori",
           "Awendo",
           "Undefined Well"
          ],
          [
           "Kakamega",
           "Khwisero",
           "Protected Well"
          ],
          [
           "Kakamega",
           "Butere",
           "Protected Well"
          ],
          [
           "Bungoma",
           "Sirisia",
           "Protected Well"
          ],
          [
           "Nyamira",
           "Borabu",
           "Protected Well"
          ],
          [
           "Samburu",
           "Samburu North",
           "Delivered Water"
          ],
          [
           "Busia",
           "Funyula",
           "Borehole/Tubewell"
          ],
          [
           "Siaya",
           "Ugenya",
           "Protected Well"
          ],
          [
           "Kiambu",
           "Limuru",
           "Borehole/Tubewell"
          ],
          [
           "Kakamega",
           "Ikolomani",
           "Protected Well"
          ],
          [
           "Siaya",
           "Ugenya",
           "Protected Well"
          ],
          [
           "Siaya",
           "Ugunja",
           "Undefined Well"
          ],
          [
           "Vihiga",
           "Sabatia",
           "Protected Well"
          ],
          [
           "Migori",
           "Uriri",
           "Protected Well"
          ],
          [
           "Kakamega",
           "Shinyalu",
           "Protected Well"
          ],
          [
           "Kisumu",
           "Nyando",
           "Piped Water"
          ],
          [
           "Homa Bay",
           "Homa Bay Town",
           "Protected Well"
          ],
          [
           "Homa Bay",
           "Kabondo Kasipul",
           "Protected Well"
          ],
          [
           "Kiambu",
           "Lari",
           "Borehole/Tubewell"
          ],
          [
           "Kisumu",
           "Kisumu East",
           "Borehole/Tubewell"
          ],
          [
           "Kakamega",
           "Lurambi",
           "Protected Well"
          ],
          [
           "Kakamega",
           "Khwisero",
           "Protected Well"
          ],
          [
           "Bungoma",
           "Kimilili",
           "Protected Well"
          ],
          [
           "Busia",
           "Teso North",
           "Protected Well"
          ],
          [
           "Kisumu",
           "Nyakach",
           "Protected Well"
          ],
          [
           "Busia",
           "Teso North",
           "Borehole/Tubewell"
          ],
          [
           "Kisumu",
           "Nyando",
           "Piped Water"
          ],
          [
           "Migori",
           "Nyatike",
           "Borehole/Tubewell"
          ],
          [
           "Kakamega",
           "Khwisero",
           "Protected Well"
          ],
          [
           "Busia",
           "Teso North",
           "Protected Well"
          ],
          [
           "Kisumu",
           "Kisumu East",
           "Piped Water"
          ],
          [
           "Busia",
           "Butula",
           "Protected Well"
          ],
          [
           "Bungoma",
           "Lugari",
           "Protected Well"
          ],
          [
           "Kiambu",
           "Ruiru",
           "Borehole/Tubewell"
          ],
          [
           "Siaya",
           "Alego Usonga",
           "Undefined Well"
          ],
          [
           "Vihiga",
           "Hamisi",
           "Protected Well"
          ],
          [
           "Makueni",
           "Makueni",
           "Sand or Sub-surface Dam"
          ],
          [
           "Kakamega",
           "Mumias West",
           "Protected Well"
          ],
          [
           "Vihiga",
           "Sabatia",
           "Protected Well"
          ],
          [
           "Nyamira",
           "Kitutu Masaba",
           "Protected Well"
          ],
          [
           "Vihiga",
           "Hamisi",
           "Protected Well"
          ],
          [
           "Vihiga",
           "Sabatia",
           "Protected Well"
          ],
          [
           "Vihiga",
           "Emuhaya",
           "Protected Well"
          ],
          [
           "Busia",
           "Butula",
           "Protected Well"
          ],
          [
           "Migori",
           "Suna East",
           "Protected Well"
          ],
          [
           "Kajiado",
           "Kajiado South",
           "Piped Water"
          ],
          [
           "Migori",
           "Suna West",
           "Borehole/Tubewell"
          ],
          [
           "Kajiado",
           "Kajiado South",
           "Piped Water"
          ],
          [
           "Busia",
           "Teso South",
           "Protected Well"
          ],
          [
           "Homa Bay",
           "Ndhiwa",
           "Piped Water"
          ],
          [
           "Kakamega",
           "Malava",
           "Protected Well"
          ],
          [
           "Kiambu",
           "Ruiru",
           "Borehole/Tubewell"
          ],
          [
           "Migori",
           "Kuria East",
           "Protected Well"
          ],
          [
           "Kakamega",
           "Malava",
           "Protected Well"
          ],
          [
           "Kakamega",
           "Malava",
           "Undefined Well"
          ],
          [
           "Embu",
           "Mbeere South",
           "Rainwater Harvesting"
          ],
          [
           "Bungoma",
           "Likuyani",
           "Protected Well"
          ],
          [
           "Siaya",
           "Bondo",
           "Undefined Well"
          ],
          [
           "Makueni",
           "Kaiti",
           "Undefined Well"
          ],
          [
           "Siaya",
           "Alego Usonga",
           "Borehole/Tubewell"
          ],
          [
           "Kisumu",
           "Nyakach",
           "Borehole/Tubewell"
          ],
          [
           "Busia",
           "Butula",
           "Protected Well"
          ],
          [
           "Makueni",
           "Kaiti",
           "Sand or Sub-surface Dam"
          ],
          [
           "Busia",
           "Teso South",
           "Protected Well"
          ],
          [
           "Baringo",
           "Tiaty",
           "Undefined Well"
          ],
          [
           "Embu",
           "Runyenjes",
           "Rainwater Harvesting"
          ],
          [
           "Makueni",
           "Kaiti",
           "Sand or Sub-surface Dam"
          ],
          [
           "Kakamega",
           "Matungu",
           "Protected Well"
          ],
          [
           "Siaya",
           "Ugenya",
           "Protected Well"
          ],
          [
           "Migori",
           "Kuria East",
           "Protected Well"
          ],
          [
           "Busia",
           "Teso South",
           "Borehole/Tubewell"
          ],
          [
           "Busia",
           "Butula",
           "Protected Well"
          ],
          [
           "Trans Nzoia",
           "Kiminini",
           "Protected Well"
          ],
          [
           "Kakamega",
           "Lurambi",
           "Protected Well"
          ],
          [
           "Migori",
           "Kuria West",
           "Undefined Well"
          ],
          [
           "Siaya",
           "Bondo",
           "Undefined Well"
          ],
          [
           "Vihiga",
           "Sabatia",
           "Protected Well"
          ],
          [
           "Busia",
           "Teso South",
           "Protected Well"
          ],
          [
           "Kakamega",
           "Butere",
           "Protected Well"
          ],
          [
           "Migori",
           "Rongo",
           "Protected Well"
          ],
          [
           "Vihiga",
           "Hamisi",
           "Protected Well"
          ],
          [
           "Siaya",
           "Gem",
           "Protected Well"
          ],
          [
           "Kisumu",
           "Kisumu Central",
           "Piped Water"
          ],
          [
           "Kisumu",
           "Seme",
           "Undefined Well"
          ],
          [
           "Makueni",
           "Kibwezi East",
           "Undefined Well"
          ],
          [
           "Kakamega",
           "Lurambi",
           "Protected Well"
          ],
          [
           "Kakamega",
           "Malava",
           "Protected Well"
          ],
          [
           "Kisumu",
           "Seme",
           "Borehole/Tubewell"
          ],
          [
           "Busia",
           "Nambale",
           "Protected Well"
          ],
          [
           "Migori",
           "Awendo",
           "Protected Well"
          ],
          [
           "Siaya",
           "Ugenya",
           "Protected Well"
          ],
          [
           "Siaya",
           "Gem",
           "Protected Well"
          ],
          [
           "Migori",
           "Kuria West",
           "Protected Well"
          ],
          [
           "Kisumu",
           "Nyando",
           "Borehole/Tubewell"
          ],
          [
           "Bungoma",
           "Tongaren",
           "Protected Well"
          ],
          [
           "Trans Nzoia",
           "Kiminini",
           "Protected Well"
          ],
          [
           "Busia",
           "Nambale",
           "Borehole/Tubewell"
          ],
          [
           "Kakamega",
           "Khwisero",
           "Undefined Well"
          ],
          [
           "Bungoma",
           "Lugari",
           "Borehole/Tubewell"
          ],
          [
           "Kisumu",
           "Seme",
           "Undefined Well"
          ],
          [
           "Kisumu",
           "Nyando",
           "Protected Well"
          ],
          [
           "Vihiga",
           "Hamisi",
           "Protected Well"
          ],
          [
           "Makueni",
           "Kibwezi East",
           "Sand or Sub-surface Dam"
          ],
          [
           "Vihiga",
           "Hamisi",
           "Protected Well"
          ],
          [
           "Siaya",
           "Alego Usonga",
           "Protected Well"
          ],
          [
           "Kakamega",
           "Butere",
           "Protected Well"
          ],
          [
           "Kakamega",
           "Malava",
           "Protected Well"
          ],
          [
           "Kakamega",
           "Butere",
           "Protected Well"
          ],
          [
           "Kakamega",
           "Butere",
           "Protected Well"
          ],
          [
           "Kakamega",
           "Lurambi",
           "Protected Well"
          ],
          [
           "Busia",
           "Nambale",
           "Protected Well"
          ],
          [
           "Kakamega",
           "Lurambi",
           "Protected Well"
          ],
          [
           "Kiambu",
           "Limuru",
           "Borehole/Tubewell"
          ],
          [
           "Kakamega",
           "Shinyalu",
           "Protected Well"
          ],
          [
           "Homa Bay",
           "Ndhiwa",
           "Borehole/Tubewell"
          ],
          [
           "Kisumu",
           "Nyando",
           "Protected Well"
          ],
          [
           "Bungoma",
           "Likuyani",
           "Undefined Well"
          ],
          [
           "Busia",
           "Butula",
           "Protected Well"
          ],
          [
           "Makueni",
           "Kaiti",
           "Sand or Sub-surface Dam"
          ],
          [
           "Kakamega",
           "Mumias East",
           "Protected Well"
          ],
          [
           "Embu",
           "Mbeere South",
           "Sand or Sub-surface Dam"
          ],
          [
           "Embu",
           "Manyatta",
           "Protected Well"
          ],
          [
           "Trans Nzoia",
           "Kiminini",
           "Protected Well"
          ],
          [
           "Nyamira",
           "Kitutu Masaba",
           "Protected Well"
          ],
          [
           "Busia",
           "Butula",
           "Protected Well"
          ],
          [
           "Siaya",
           "Gem",
           "Borehole/Tubewell"
          ],
          [
           "Kakamega",
           "Butere",
           "Protected Well"
          ],
          [
           "Vihiga",
           "Hamisi",
           "Protected Well"
          ],
          [
           "Siaya",
           "Gem",
           "Protected Well"
          ],
          [
           "Siaya",
           "Gem",
           "Protected Well"
          ],
          [
           "Kakamega",
           "Ikolomani",
           "Sand or Sub-surface Dam"
          ],
          [
           "Samburu",
           "Samburu East",
           "Sand or Sub-surface Dam"
          ],
          [
           "Nyamira",
           "North Mugirango",
           "Protected Well"
          ],
          [
           "Nyamira",
           "North Mugirango",
           "Protected Well"
          ],
          [
           "Busia",
           "Funyula",
           "Borehole/Tubewell"
          ],
          [
           "Busia",
           "Teso North",
           "Protected Well"
          ],
          [
           "Homa Bay",
           "Ndhiwa",
           "Borehole/Tubewell"
          ],
          [
           "Samburu",
           "Samburu West",
           "Piped Water"
          ],
          [
           "Siaya",
           "Alego Usonga",
           "Borehole/Tubewell"
          ],
          [
           "Embu",
           "Runyenjes",
           "Rainwater Harvesting"
          ],
          [
           "Kiambu",
           "Juja",
           "Piped Water"
          ],
          [
           "Kakamega",
           "Lurambi",
           "Protected Well"
          ],
          [
           "Busia",
           "Budalangi",
           "Undefined Well"
          ],
          [
           "Bungoma",
           "Kanduyi",
           "Protected Well"
          ],
          [
           "Kakamega",
           "Malava",
           "Protected Well"
          ],
          [
           "Kakamega",
           "Malava",
           "Protected Well"
          ],
          [
           "Kakamega",
           "Khwisero",
           "Protected Well"
          ],
          [
           "Kakamega",
           "Butere",
           "Protected Well"
          ],
          [
           "Kakamega",
           "Malava",
           "Protected Well"
          ],
          [
           "Siaya",
           "Alego Usonga",
           "Sand or Sub-surface Dam"
          ],
          [
           "Kakamega",
           "Navakholo",
           "Protected Well"
          ],
          [
           "Kakamega",
           "Mumias East",
           "Protected Well"
          ],
          [
           "Vihiga",
           "Hamisi",
           "Protected Well"
          ],
          [
           "Kiambu",
           "Limuru",
           "Borehole/Tubewell"
          ],
          [
           "Kakamega",
           "Mumias East",
           "Protected Well"
          ],
          [
           "Makueni",
           "Kilome",
           "Sand or Sub-surface Dam"
          ],
          [
           "Kakamega",
           "Butere",
           "Protected Well"
          ],
          [
           "Kakamega",
           "Shinyalu",
           "Protected Well"
          ],
          [
           "Kajiado",
           "Kajiado East",
           "Piped Water"
          ],
          [
           "Busia",
           "Teso South",
           "Borehole/Tubewell"
          ],
          [
           "Busia",
           "Teso North",
           "Protected Well"
          ],
          [
           "Busia",
           "Nambale",
           "Protected Well"
          ],
          [
           "Vihiga",
           "Hamisi",
           "Protected Well"
          ],
          [
           "Kakamega",
           "Khwisero",
           "Protected Well"
          ],
          [
           "Homa Bay",
           "Kabondo Kasipul",
           "Protected Well"
          ],
          [
           "Kakamega",
           "Khwisero",
           "Protected Well"
          ],
          [
           "Kisumu",
           "Kisumu Central",
           "Piped Water"
          ],
          [
           "Vihiga",
           "Vihiga",
           "Protected Well"
          ],
          [
           "Busia",
           "Budalangi",
           "Sand or Sub-surface Dam"
          ],
          [
           "Migori",
           "Kuria West",
           "Protected Well"
          ],
          [
           "Busia",
           "Budalangi",
           "Undefined Well"
          ],
          [
           "Homa Bay",
           "Kabondo Kasipul",
           "Protected Well"
          ],
          [
           "Kakamega",
           "Malava",
           "Protected Well"
          ],
          [
           "Kakamega",
           "Lugari",
           "Protected Well"
          ],
          [
           "Kakamega",
           "Mumias East",
           "Protected Well"
          ],
          [
           "Kakamega",
           "Khwisero",
           "Protected Well"
          ],
          [
           "Kajiado",
           "Kajiado East",
           "Piped Water"
          ],
          [
           "Kisumu",
           "Nyando",
           "Protected Well"
          ],
          [
           "Kakamega",
           "Lurambi",
           "Protected Well"
          ],
          [
           "Makueni",
           "Mbooni",
           "Sand or Sub-surface Dam"
          ],
          [
           "Busia",
           "Matayos",
           "Borehole/Tubewell"
          ],
          [
           "Makueni",
           "Mbooni",
           "Sand or Sub-surface Dam"
          ],
          [
           "Busia",
           "Budalangi",
           "Protected Well"
          ],
          [
           "Kakamega",
           "Butere",
           "Protected Well"
          ],
          [
           "Kakamega",
           "Butere",
           "Protected Well"
          ],
          [
           "Migori",
           "Kuria East",
           "Undefined Well"
          ],
          [
           "Migori",
           "Uriri",
           "Protected Well"
          ],
          [
           "Vihiga",
           "Hamisi",
           "Protected Well"
          ],
          [
           "Busia",
           "Teso South",
           "Borehole/Tubewell"
          ],
          [
           "Makueni",
           "Kilome",
           "Sand or Sub-surface Dam"
          ],
          [
           "Homa Bay",
           "Suba",
           "Piped Water"
          ],
          [
           "Siaya",
           "Alego Usonga",
           "Protected Well"
          ],
          [
           "Kisumu",
           "Nyakach",
           "Undefined Well"
          ],
          [
           "Kakamega",
           "Khwisero",
           "Protected Well"
          ],
          [
           "Kakamega",
           "Mumias East",
           "Protected Well"
          ],
          [
           "Kisumu",
           "Nyando",
           "Protected Well"
          ],
          [
           "Siaya",
           "Gem",
           "Protected Well"
          ],
          [
           "Busia",
           "Butula",
           "Protected Well"
          ],
          [
           "Kisii",
           "Kitutu Chache South",
           "Protected Well"
          ],
          [
           "Nyamira",
           "North Mugirango",
           "Protected Well"
          ],
          [
           "Kisumu",
           "Seme",
           "Borehole/Tubewell"
          ],
          [
           "Bungoma",
           "Likuyani",
           "Protected Well"
          ],
          [
           "Kakamega",
           "Ikolomani",
           "Protected Well"
          ],
          [
           "Vihiga",
           "Hamisi",
           "Protected Well"
          ],
          [
           "Kakamega",
           "Mumias East",
           "Protected Well"
          ],
          [
           "Kakamega",
           "Lurambi",
           "Protected Well"
          ],
          [
           "Kakamega",
           "Shinyalu",
           "Protected Well"
          ],
          [
           "Busia",
           "Funyula",
           "Borehole/Tubewell"
          ],
          [
           "Kakamega",
           "Butere",
           "Protected Well"
          ],
          [
           "Busia",
           "Budalangi",
           "Undefined Well"
          ],
          [
           "Bungoma",
           "Tongaren",
           "Protected Well"
          ],
          [
           "Makueni",
           "Kilome",
           "Sand or Sub-surface Dam"
          ],
          [
           "Kajiado",
           "Kajiado South",
           "Borehole/Tubewell"
          ],
          [
           "Kakamega",
           "Mumias East",
           "Protected Well"
          ],
          [
           "Siaya",
           "Gem",
           "Protected Well"
          ],
          [
           "Siaya",
           "Gem",
           "Protected Well"
          ],
          [
           "Kakamega",
           "Lurambi",
           "Protected Well"
          ],
          [
           "Kisumu",
           "Muhoroni",
           "Borehole/Tubewell"
          ],
          [
           "Kakamega",
           "Mumias West",
           "Undefined Well"
          ],
          [
           "Migori",
           "Kuria East",
           "Borehole/Tubewell"
          ],
          [
           "Busia",
           "Funyula",
           "Borehole/Tubewell"
          ],
          [
           "Vihiga",
           "Hamisi",
           "Protected Well"
          ],
          [
           "Siaya",
           "Alego Usonga",
           "Borehole/Tubewell"
          ],
          [
           "Kajiado",
           "Kajiado South",
           "Piped Water"
          ],
          [
           "Kakamega",
           "Malava",
           "Protected Well"
          ],
          [
           "Migori",
           "Kuria East",
           "Undefined Well"
          ],
          [
           "Busia",
           "Butula",
           "Protected Well"
          ],
          [
           "Busia",
           "Teso South",
           "Borehole/Tubewell"
          ],
          [
           "Busia",
           "Nambale",
           "Protected Well"
          ],
          [
           "Nyamira",
           "West Mugirango",
           "Protected Well"
          ],
          [
           "Busia",
           "Butula",
           "Protected Well"
          ],
          [
           "Nyamira",
           "West Mugirango",
           "Protected Well"
          ],
          [
           "Migori",
           "Kuria East",
           "Undefined Well"
          ],
          [
           "Makueni",
           "Makueni",
           "Sand or Sub-surface Dam"
          ],
          [
           "Busia",
           "Budalangi",
           "Undefined Well"
          ],
          [
           "Busia",
           "Teso South",
           "Borehole/Tubewell"
          ],
          [
           "Kakamega",
           "Matungu",
           "Protected Well"
          ],
          [
           "Kisumu",
           "Muhoroni",
           "Protected Well"
          ],
          [
           "Bungoma",
           "Bumula",
           "Protected Well"
          ],
          [
           "Kakamega",
           "Khwisero",
           "Protected Well"
          ],
          [
           "Busia",
           "Funyula",
           "Borehole/Tubewell"
          ],
          [
           "Kakamega",
           "Shinyalu",
           "Protected Well"
          ],
          [
           "Kakamega",
           "Malava",
           "Protected Well"
          ],
          [
           "Busia",
           "Butula",
           "Protected Well"
          ],
          [
           "Migori",
           "Suna West",
           "Borehole/Tubewell"
          ],
          [
           "Homa Bay",
           "Ndhiwa",
           "Protected Well"
          ],
          [
           "Makueni",
           "Kilome",
           "Sand or Sub-surface Dam"
          ],
          [
           "Migori",
           "Kuria East",
           "Borehole/Tubewell"
          ],
          [
           "Kiambu",
           "Juja",
           "Piped Water"
          ],
          [
           "Migori",
           "Suna West",
           "Borehole/Tubewell"
          ],
          [
           "Siaya",
           "Ugenya",
           "Protected Well"
          ],
          [
           "Bungoma",
           "Lugari",
           "Protected Well"
          ],
          [
           "Kakamega",
           "Butere",
           "Borehole/Tubewell"
          ],
          [
           "Busia",
           "Nambale",
           "Protected Well"
          ],
          [
           "Kakamega",
           "Khwisero",
           "Protected Well"
          ],
          [
           "Busia",
           "Teso South",
           "Borehole/Tubewell"
          ],
          [
           "Kakamega",
           "Lugari",
           "Protected Well"
          ],
          [
           "Kakamega",
           "Ikolomani",
           "Protected Well"
          ],
          [
           "Busia",
           "Funyula",
           "Borehole/Tubewell"
          ],
          [
           "Makueni",
           "Mbooni",
           "Borehole/Tubewell"
          ],
          [
           "Homa Bay",
           "Kasipul",
           "Protected Well"
          ],
          [
           "Homa Bay",
           "Mbita",
           "Borehole/Tubewell"
          ],
          [
           "Kisumu",
           "Nyando",
           "Piped Water"
          ],
          [
           "Kakamega",
           "Lurambi",
           "Protected Well"
          ],
          [
           "Siaya",
           "Ugunja",
           "Protected Well"
          ],
          [
           "Siaya",
           "Gem",
           "Protected Well"
          ],
          [
           "Migori",
           "Uriri",
           "Protected Well"
          ],
          [
           "Vihiga",
           "Hamisi",
           "Protected Well"
          ],
          [
           "Bungoma",
           "Likuyani",
           "Protected Well"
          ],
          [
           "Kakamega",
           "Khwisero",
           "Protected Well"
          ],
          [
           "Homa Bay",
           "Kabondo Kasipul",
           "Protected Well"
          ],
          [
           "Kisii",
           "Kitutu Chache South",
           "Protected Well"
          ],
          [
           "Kakamega",
           "Lugari",
           "Protected Well"
          ],
          [
           "Kakamega",
           "Lurambi",
           "Borehole/Tubewell"
          ],
          [
           "Vihiga",
           "Sabatia",
           "Protected Well"
          ],
          [
           "Kakamega",
           "Malava",
           "Protected Well"
          ],
          [
           "Kakamega",
           "Butere",
           "Borehole/Tubewell"
          ],
          [
           "Kakamega",
           "Mumias West",
           "Undefined Well"
          ],
          [
           "Makueni",
           "Makueni",
           "Sand or Sub-surface Dam"
          ],
          [
           "Siaya",
           "Ugunja",
           "Protected Well"
          ],
          [
           "Makueni",
           "Kaiti",
           "Protected Well"
          ],
          [
           "Bungoma",
           "Tongaren",
           "Protected Well"
          ],
          [
           "Nyamira",
           "Kitutu Masaba",
           "Protected Well"
          ],
          [
           "Siaya",
           "Gem",
           "Protected Well"
          ],
          [
           "Kakamega",
           "Shinyalu",
           "Protected Well"
          ],
          [
           "Bungoma",
           "Webute West",
           "Protected Well"
          ],
          [
           "Trans Nzoia",
           "Cherangany",
           "Protected Well"
          ],
          [
           "Busia",
           "Funyula",
           "Borehole/Tubewell"
          ],
          [
           "Kisumu",
           "Seme",
           "Borehole/Tubewell"
          ],
          [
           "Makueni",
           "Mbooni",
           "Sand or Sub-surface Dam"
          ],
          [
           "Siaya",
           "Ugenya",
           "Borehole/Tubewell"
          ],
          [
           "Kisumu",
           "Nyando",
           "Protected Well"
          ],
          [
           "Kakamega",
           "Butere",
           "Protected Well"
          ],
          [
           "Kakamega",
           "Lurambi",
           "Protected Well"
          ],
          [
           "Busia",
           "Teso North",
           "Protected Well"
          ],
          [
           "Busia",
           "Nambale",
           "Protected Well"
          ],
          [
           "Busia",
           "Nambale",
           "Protected Well"
          ],
          [
           "Migori",
           "Rongo",
           "Protected Well"
          ],
          [
           "Kisumu",
           "Kisumu West",
           "Piped Water"
          ],
          [
           "Kakamega",
           "Shinyalu",
           "Protected Well"
          ],
          [
           "Kajiado",
           "Kajiado Central",
           "Protected Well"
          ],
          [
           "Kajiado",
           "Kajiado South",
           "Protected Well"
          ],
          [
           "Kakamega",
           "Butere",
           "Protected Well"
          ],
          [
           "Makueni",
           "Makueni",
           "Undefined Well"
          ],
          [
           "Kakamega",
           "Ikolomani",
           "Protected Well"
          ],
          [
           "Kiambu",
           "Lari",
           "Borehole/Tubewell"
          ],
          [
           "Busia",
           "Budalangi",
           "Undefined Well"
          ],
          [
           "Busia",
           "Nambale",
           "Protected Well"
          ],
          [
           "Busia",
           "Matayos",
           "Protected Well"
          ],
          [
           "Homa Bay",
           "Kabondo Kasipul",
           "Protected Well"
          ],
          [
           "Bungoma",
           "Tongaren",
           "Protected Well"
          ],
          [
           "Kakamega",
           "Butere",
           "Protected Well"
          ],
          [
           "Makueni",
           "Mbooni",
           "Sand or Sub-surface Dam"
          ],
          [
           "Busia",
           "Nambale",
           "Protected Well"
          ],
          [
           "Embu",
           "Manyatta",
           "Borehole/Tubewell"
          ],
          [
           "Kajiado",
           "Kajiado South",
           "Protected Well"
          ],
          [
           "Kakamega",
           "Ikolomani",
           "Protected Well"
          ],
          [
           "Kakamega",
           "Butere",
           "Protected Well"
          ],
          [
           "Siaya",
           "Ugunja",
           "Protected Well"
          ],
          [
           "Busia",
           "Matayos",
           "Protected Well"
          ],
          [
           "Busia",
           "Nambale",
           "Borehole/Tubewell"
          ],
          [
           "Homa Bay",
           "Suba",
           "Borehole/Tubewell"
          ],
          [
           "Bungoma",
           "Lugari",
           "Protected Well"
          ],
          [
           "Kiambu",
           "Ruiru",
           "Piped Water"
          ],
          [
           "Siaya",
           "Alego Usonga",
           "Borehole/Tubewell"
          ],
          [
           "Busia",
           "Matayos",
           "Protected Well"
          ],
          [
           "Busia",
           "Matayos",
           "Protected Well"
          ],
          [
           "Bungoma",
           "Webuye East",
           "Protected Well"
          ],
          [
           "Bungoma",
           "Tongaren",
           "Protected Well"
          ],
          [
           "Kakamega",
           "Navakholo",
           "Protected Well"
          ],
          [
           "Homa Bay",
           "Homa Bay Town",
           "Borehole/Tubewell"
          ],
          [
           "Kisumu",
           "Nyando",
           "Undefined Well"
          ],
          [
           "Kisumu",
           "Nyando",
           "Borehole/Tubewell"
          ],
          [
           "Vihiga",
           "Vihiga",
           "Protected Well"
          ],
          [
           "Siaya",
           "Gem",
           "Protected Well"
          ],
          [
           "Kakamega",
           "Khwisero",
           "Protected Well"
          ],
          [
           "Migori",
           "Kuria East",
           "Borehole/Tubewell"
          ],
          [
           "Busia",
           "Matayos",
           "Protected Well"
          ],
          [
           "Kakamega",
           "Shinyalu",
           "Protected Well"
          ],
          [
           "Vihiga",
           "Hamisi",
           "Protected Well"
          ],
          [
           "Kisumu",
           "Nyando",
           "Protected Well"
          ],
          [
           "Vihiga",
           "Sabatia",
           "Protected Well"
          ],
          [
           "Nyamira",
           "Kitutu Masaba",
           "Protected Well"
          ],
          [
           "Busia",
           "Butula",
           "Protected Well"
          ],
          [
           "Homa Bay",
           "Ndhiwa",
           "Protected Well"
          ],
          [
           "Embu",
           "Mbeere South",
           "Borehole/Tubewell"
          ],
          [
           "Makueni",
           "Makueni",
           "Sand or Sub-surface Dam"
          ],
          [
           "Kakamega",
           "Lurambi",
           "Protected Well"
          ],
          [
           "Siaya",
           "Ugenya",
           "Protected Well"
          ],
          [
           "Kakamega",
           "Ikolomani",
           "Protected Well"
          ],
          [
           "Migori",
           "Awendo",
           "Protected Well"
          ],
          [
           "Siaya",
           "Alego Usonga",
           "Undefined Well"
          ],
          [
           "Siaya",
           "Ugenya",
           "Protected Well"
          ],
          [
           "Kakamega",
           "Mumias East",
           "Undefined Well"
          ],
          [
           "Bungoma",
           "Lugari",
           "Protected Well"
          ],
          [
           "Vihiga",
           "Hamisi",
           "Protected Well"
          ],
          [
           "Makueni",
           "Makueni",
           "Sand or Sub-surface Dam"
          ],
          [
           "Bungoma",
           "Lugari",
           "Protected Well"
          ],
          [
           "Kakamega",
           "Lurambi",
           "Protected Well"
          ],
          [
           "Vihiga",
           "Sabatia",
           "Protected Well"
          ],
          [
           "Kisumu",
           "Nyando",
           "Borehole/Tubewell"
          ],
          [
           "Kisumu",
           "Seme",
           "Borehole/Tubewell"
          ],
          [
           "Kakamega",
           "Shinyalu",
           "Protected Well"
          ],
          [
           "Kakamega",
           "Butere",
           "Protected Well"
          ],
          [
           "Siaya",
           "Gem",
           "Protected Well"
          ],
          [
           "Kakamega",
           "Khwisero",
           "Protected Well"
          ],
          [
           "Nyamira",
           "Borabu",
           "Protected Well"
          ],
          [
           "Homa Bay",
           "Mbita",
           "Protected Well"
          ],
          [
           "Kakamega",
           "Malava",
           "Protected Well"
          ],
          [
           "Kakamega",
           "Matungu",
           "Protected Well"
          ],
          [
           "Makueni",
           "Makueni",
           "Sand or Sub-surface Dam"
          ],
          [
           "Kiambu",
           "Juja",
           "Piped Water"
          ],
          [
           "Busia",
           "Nambale",
           "Undefined Well"
          ],
          [
           "Busia",
           "Butula",
           "Protected Well"
          ],
          [
           "Nyamira",
           "North Mugirango",
           "Protected Well"
          ],
          [
           "Nyamira",
           "Kitutu Masaba",
           "Protected Well"
          ],
          [
           "Bungoma",
           "Lugari",
           "Protected Well"
          ],
          [
           "Busia",
           "Butula",
           "Protected Well"
          ],
          [
           "Kisumu",
           "Kisumu West",
           "Borehole/Tubewell"
          ],
          [
           "Nyamira",
           "Kitutu Masaba",
           "Protected Well"
          ],
          [
           "Makueni",
           "Kibwezi East",
           "Protected Well"
          ],
          [
           "Kiambu",
           "Ruiru",
           "Piped Water"
          ],
          [
           "Kiambu",
           "Gatundu South",
           "Borehole/Tubewell"
          ],
          [
           "Kakamega",
           "Ikolomani",
           "Borehole/Tubewell"
          ],
          [
           "Nyamira",
           "Kitutu Masaba",
           "Protected Well"
          ],
          [
           "Busia",
           "Matayos",
           "Borehole/Tubewell"
          ],
          [
           "Kakamega",
           "Shinyalu",
           "Protected Well"
          ],
          [
           "Kakamega",
           "Khwisero",
           "Protected Well"
          ],
          [
           "Kisumu",
           "Nyando",
           "Borehole/Tubewell"
          ],
          [
           "Homa Bay",
           "Ndhiwa",
           "Piped Water"
          ],
          [
           "Makueni",
           "Kibwezi East",
           "Sand or Sub-surface Dam"
          ],
          [
           "Kakamega",
           "Navakholo",
           "Borehole/Tubewell"
          ],
          [
           "Busia",
           "Butula",
           "Protected Well"
          ],
          [
           "Kakamega",
           "Malava",
           "Protected Well"
          ],
          [
           "Kakamega",
           "Khwisero",
           "Protected Well"
          ],
          [
           "Busia",
           "Teso South",
           "Protected Well"
          ],
          [
           "Kakamega",
           "Shinyalu",
           "Protected Well"
          ],
          [
           "Bungoma",
           "Tongaren",
           "Protected Well"
          ],
          [
           "Homa Bay",
           "Kasipul",
           "Protected Well"
          ],
          [
           "Kakamega",
           "Khwisero",
           "Protected Well"
          ],
          [
           "Kakamega",
           "Navakholo",
           "Protected Well"
          ],
          [
           "Vihiga",
           "Vihiga",
           "Protected Well"
          ],
          [
           "Busia",
           "Butula",
           "Borehole/Tubewell"
          ],
          [
           "Busia",
           "Nambale",
           "Undefined Well"
          ],
          [
           "Homa Bay",
           "Kabondo Kasipul",
           "Protected Well"
          ],
          [
           "Samburu",
           "Samburu East",
           "Borehole/Tubewell"
          ],
          [
           "Homa Bay",
           "Kasipul",
           "Protected Well"
          ],
          [
           "Homa Bay",
           "Kasipul",
           "Protected Well"
          ],
          [
           "Migori",
           "Rongo",
           "Protected Well"
          ],
          [
           "Kakamega",
           "Mumias East",
           "Protected Well"
          ],
          [
           "Homa Bay",
           "Ndhiwa",
           "Borehole/Tubewell"
          ],
          [
           "Busia",
           "Nambale",
           "Protected Well"
          ],
          [
           "Busia",
           "Nambale",
           "Protected Well"
          ],
          [
           "Kakamega",
           "Malava",
           "Protected Well"
          ],
          [
           "Kakamega",
           "Shinyalu",
           "Protected Well"
          ],
          [
           "Kakamega",
           "Ikolomani",
           "Protected Spring"
          ],
          [
           "Makueni",
           "Mbooni",
           "Protected Well"
          ],
          [
           "Siaya",
           "Ugunja",
           "Protected Well"
          ],
          [
           "Busia",
           "Funyula",
           "Borehole/Tubewell"
          ],
          [
           "Bungoma",
           "Tongaren",
           "Protected Well"
          ],
          [
           "Siaya",
           "Ugunja",
           "Protected Well"
          ],
          [
           "Kakamega",
           "Butere",
           "Protected Well"
          ],
          [
           "Busia",
           "Matayos",
           "Borehole/Tubewell"
          ],
          [
           "Kakamega",
           "Butere",
           "Protected Well"
          ],
          [
           "Samburu",
           "Samburu West",
           "Piped Water"
          ],
          [
           "Nyamira",
           "West Mugirango",
           "Protected Well"
          ],
          [
           "Kakamega",
           "Khwisero",
           "Protected Well"
          ],
          [
           "Migori",
           "Suna East",
           "Protected Well"
          ],
          [
           "Kakamega",
           "Mumias West",
           "Undefined Well"
          ],
          [
           "Bungoma",
           "Likuyani",
           "Protected Well"
          ],
          [
           "Embu",
           "Runyenjes",
           "Protected Well"
          ],
          [
           "Kakamega",
           "Matungu",
           "Protected Well"
          ],
          [
           "Busia",
           "Butula",
           "Protected Well"
          ],
          [
           "Kakamega",
           "Butere",
           "Borehole/Tubewell"
          ],
          [
           "Kakamega",
           "Mumias West",
           "Undefined Well"
          ],
          [
           "Kakamega",
           "Lugari",
           "Protected Well"
          ],
          [
           "Embu",
           "Runyenjes",
           "Rainwater Harvesting"
          ],
          [
           "Kakamega",
           "Khwisero",
           "Protected Well"
          ],
          [
           "Nyamira",
           "North Mugirango",
           "Protected Well"
          ],
          [
           "Kisumu",
           "Muhoroni",
           "Protected Well"
          ],
          [
           "Kakamega",
           "Malava",
           "Protected Well"
          ],
          [
           "Kakamega",
           "Lurambi",
           "Protected Well"
          ],
          [
           "Vihiga",
           "Sabatia",
           "Protected Well"
          ],
          [
           "Bungoma",
           "Lugari",
           "Protected Well"
          ],
          [
           "Busia",
           "Butula",
           "Protected Well"
          ],
          [
           "Busia",
           "Budalangi",
           "Undefined Well"
          ],
          [
           "Kakamega",
           "Malava",
           "Protected Well"
          ],
          [
           "Samburu",
           "Samburu East",
           "Borehole/Tubewell"
          ],
          [
           "Embu",
           "Mbeere South",
           "Borehole/Tubewell"
          ],
          [
           "Kakamega",
           "Matungu",
           "Protected Well"
          ],
          [
           "Bungoma",
           "Tongaren",
           "Protected Well"
          ],
          [
           "Vihiga",
           "Sabatia",
           "Protected Well"
          ],
          [
           "Homa Bay",
           "Mbita",
           "Piped Water"
          ],
          [
           "Busia",
           "Matayos",
           "Borehole/Tubewell"
          ],
          [
           "Kakamega",
           "Shinyalu",
           "Protected Well"
          ],
          [
           "Busia",
           "Matayos",
           "Borehole/Tubewell"
          ],
          [
           "Busia",
           "Butula",
           "Protected Well"
          ],
          [
           "Bungoma",
           "Webute West",
           "Protected Well"
          ],
          [
           "Kakamega",
           "Matungu",
           "Undefined Well"
          ],
          [
           "Siaya",
           "Gem",
           "Protected Well"
          ],
          [
           "Makueni",
           "Makueni",
           "Sand or Sub-surface Dam"
          ],
          [
           "Kakamega",
           "Lurambi",
           "Rainwater Harvesting"
          ],
          [
           "Kitui",
           "Mwingi North",
           "Borehole/Tubewell"
          ],
          [
           "Homa Bay",
           "Ndhiwa",
           "Borehole/Tubewell"
          ],
          [
           "Migori",
           "Rongo",
           "Undefined Well"
          ],
          [
           "Kakamega",
           "Malava",
           "Protected Well"
          ],
          [
           "Trans Nzoia",
           "Cherangany",
           "Protected Well"
          ],
          [
           "Homa Bay",
           "Mbita",
           "Protected Well"
          ],
          [
           "Kisii",
           "Kitutu Chache North",
           "Protected Well"
          ],
          [
           "Vihiga",
           "Hamisi",
           "Protected Well"
          ],
          [
           "Trans Nzoia",
           "Cherangany",
           "Protected Well"
          ],
          [
           "Kakamega",
           "Mumias West",
           "Undefined Well"
          ],
          [
           "Busia",
           "Teso South",
           "Borehole/Tubewell"
          ],
          [
           "Busia",
           "Budalangi",
           "Borehole/Tubewell"
          ],
          [
           "Embu",
           "Mbeere South",
           "Rainwater Harvesting"
          ],
          [
           "Kisumu",
           "Nyando",
           "Borehole/Tubewell"
          ],
          [
           "Homa Bay",
           "Suba",
           "Borehole/Tubewell"
          ],
          [
           "Nyamira",
           "Kitutu Masaba",
           "Protected Well"
          ],
          [
           "Kajiado",
           "Kajiado North",
           "Sand or Sub-surface Dam"
          ],
          [
           "Vihiga",
           "Sabatia",
           "Protected Well"
          ],
          [
           "Busia",
           "Butula",
           "Protected Well"
          ],
          [
           "Kakamega",
           "Mumias West",
           "Undefined Well"
          ],
          [
           "Nyamira",
           "Kitutu Masaba",
           "Protected Well"
          ],
          [
           "Kakamega",
           "Mumias East",
           "Protected Well"
          ],
          [
           "Siaya",
           "Gem",
           "Protected Well"
          ],
          [
           "Busia",
           "Matayos",
           "Protected Well"
          ],
          [
           "Kakamega",
           "Malava",
           "Protected Well"
          ],
          [
           "Kiambu",
           "Kikuyu",
           "Borehole/Tubewell"
          ],
          [
           "Turkana",
           "Turkana West",
           "Borehole/Tubewell"
          ],
          [
           "Kakamega",
           "Butere",
           "Protected Well"
          ],
          [
           "Bungoma",
           "Lugari",
           "Protected Well"
          ],
          [
           "Kakamega",
           "Butere",
           "Protected Well"
          ],
          [
           "Makueni",
           "Kibwezi East",
           "Sand or Sub-surface Dam"
          ],
          [
           "Migori",
           "Uriri",
           "Borehole/Tubewell"
          ],
          [
           "Homa Bay",
           "Mbita",
           "Borehole/Tubewell"
          ],
          [
           "Kakamega",
           "Mumias West",
           "Undefined Well"
          ],
          [
           "Kakamega",
           "Lurambi",
           "Protected Well"
          ],
          [
           "Siaya",
           "Gem",
           "Protected Well"
          ],
          [
           "Makueni",
           "Kibwezi East",
           "Sand or Sub-surface Dam"
          ],
          [
           "Kisumu",
           "Seme",
           "Borehole/Tubewell"
          ],
          [
           "Makueni",
           "Kibwezi West",
           "Sand or Sub-surface Dam"
          ],
          [
           "Embu",
           "Mbeere South",
           "Borehole/Tubewell"
          ],
          [
           "Kajiado",
           "Kajiado South",
           "Protected Well"
          ],
          [
           "Kakamega",
           "Khwisero",
           "Undefined Well"
          ],
          [
           "Busia",
           "Teso South",
           "Protected Well"
          ],
          [
           "Makueni",
           "Kibwezi East",
           "Undefined Well"
          ],
          [
           "Siaya",
           "Alego Usonga",
           "Borehole/Tubewell"
          ],
          [
           "Busia",
           "Funyula",
           "Borehole/Tubewell"
          ],
          [
           "Kakamega",
           "Lugari",
           "Protected Well"
          ],
          [
           "Kakamega",
           "Malava",
           "Protected Well"
          ],
          [
           "Siaya",
           "Ugunja",
           "Protected Well"
          ],
          [
           "Busia",
           "Teso South",
           "Protected Well"
          ],
          [
           "Busia",
           "Butula",
           "Protected Well"
          ],
          [
           "Samburu",
           "Samburu West",
           "Piped Water"
          ],
          [
           "Samburu",
           "Samburu East",
           "Borehole/Tubewell"
          ],
          [
           "Kakamega",
           "Ikolomani",
           "Protected Well"
          ],
          [
           "Siaya",
           "Gem",
           "Protected Well"
          ],
          [
           "Siaya",
           "Alego Usonga",
           "Sand or Sub-surface Dam"
          ],
          [
           "Nandi",
           "Aldai",
           "Protected Well"
          ],
          [
           "Migori",
           "Suna East",
           "Protected Well"
          ],
          [
           "Siaya",
           "Gem",
           "Borehole/Tubewell"
          ],
          [
           "Kisumu",
           "Nyando",
           "Protected Well"
          ],
          [
           "Kakamega",
           "Ikolomani",
           "Borehole/Tubewell"
          ],
          [
           "Nyamira",
           "Kitutu Masaba",
           "Protected Well"
          ],
          [
           "Busia",
           "Matayos",
           "Protected Well"
          ],
          [
           "Vihiga",
           "Hamisi",
           "Protected Well"
          ],
          [
           "Migori",
           "Awendo",
           "Protected Well"
          ],
          [
           "Kakamega",
           "Mumias East",
           "Protected Well"
          ],
          [
           "Nairobi",
           "Dagoretti South",
           "Borehole/Tubewell"
          ],
          [
           "Trans Nzoia",
           "Cherangany",
           "Protected Well"
          ],
          [
           "Kakamega",
           "Matungu",
           "Protected Well"
          ],
          [
           "Nyamira",
           "Kitutu Masaba",
           "Protected Well"
          ],
          [
           "Kakamega",
           "Matungu",
           "Protected Well"
          ],
          [
           "Nyamira",
           "Kitutu Masaba",
           "Protected Well"
          ],
          [
           "Embu",
           "Mbeere South",
           "Borehole/Tubewell"
          ],
          [
           "Busia",
           "Matayos",
           "Protected Well"
          ],
          [
           "Migori",
           "Awendo",
           "Protected Well"
          ],
          [
           "Siaya",
           "Ugenya",
           "Protected Well"
          ],
          [
           "Kakamega",
           "Shinyalu",
           "Protected Well"
          ],
          [
           "Kiambu",
           "Ruiru",
           "Borehole/Tubewell"
          ],
          [
           "Kiambu",
           "Limuru",
           "Protected Well"
          ],
          [
           "Kakamega",
           "Matungu",
           "Protected Well"
          ],
          [
           "Kisumu",
           "Muhoroni",
           "Piped Water"
          ],
          [
           "Kakamega",
           "Ikolomani",
           "Protected Well"
          ],
          [
           "Kakamega",
           "Ikolomani",
           "Protected Well"
          ],
          [
           "Siaya",
           "Ugunja",
           "Undefined Well"
          ],
          [
           "Vihiga",
           "Hamisi",
           "Protected Well"
          ],
          [
           "Vihiga",
           "Vihiga",
           "Protected Well"
          ],
          [
           "Siaya",
           "Gem",
           "Protected Well"
          ],
          [
           "Kakamega",
           "Ikolomani",
           "Protected Well"
          ],
          [
           "Busia",
           "Teso South",
           "Borehole/Tubewell"
          ],
          [
           "Kakamega",
           "Malava",
           "Protected Well"
          ],
          [
           "Migori",
           "Rongo",
           "Protected Well"
          ],
          [
           "Kakamega",
           "Shinyalu",
           "Protected Well"
          ],
          [
           "Busia",
           "Butula",
           "Protected Well"
          ],
          [
           "Kakamega",
           "Mumias West",
           "Undefined Well"
          ],
          [
           "Kisumu",
           "Kisumu Central",
           "Piped Water"
          ],
          [
           "Kakamega",
           "Matungu",
           "Borehole/Tubewell"
          ],
          [
           "Kajiado",
           "Kajiado South",
           "Piped Water"
          ],
          [
           "Kakamega",
           "Mumias East",
           "Protected Well"
          ],
          [
           "Migori",
           "Awendo",
           "Protected Well"
          ],
          [
           "Busia",
           "Butula",
           "Protected Well"
          ],
          [
           "Kakamega",
           "Lurambi",
           "Protected Well"
          ],
          [
           "Migori",
           "Suna West",
           "Borehole/Tubewell"
          ],
          [
           "Homa Bay",
           "Ndhiwa",
           "Borehole/Tubewell"
          ],
          [
           "Siaya",
           "Ugunja",
           "Protected Well"
          ],
          [
           "Kakamega",
           "Lurambi",
           "Borehole/Tubewell"
          ],
          [
           "Kakamega",
           "Khwisero",
           "Protected Well"
          ],
          [
           "Busia",
           "Teso South",
           "Protected Well"
          ],
          [
           "Trans Nzoia",
           "Kiminini",
           "Protected Well"
          ],
          [
           "Kisumu",
           "Nyakach",
           "Protected Well"
          ],
          [
           "Nyamira",
           "West Mugirango",
           "Protected Well"
          ],
          [
           "Vihiga",
           "Hamisi",
           "Protected Well"
          ],
          [
           "Kisumu",
           "Nyando",
           "Protected Well"
          ],
          [
           "Trans Nzoia",
           "Kiminini",
           "Protected Well"
          ],
          [
           "Busia",
           "Teso South",
           "Protected Well"
          ],
          [
           "Homa Bay",
           "Kasipul",
           "Protected Well"
          ],
          [
           "Busia",
           "Nambale",
           "Borehole/Tubewell"
          ],
          [
           "Busia",
           "Nambale",
           "Protected Well"
          ],
          [
           "Bungoma",
           "Lugari",
           "Undefined Well"
          ],
          [
           "Busia",
           "Budalangi",
           "Undefined Well"
          ],
          [
           "Siaya",
           "Ugunja",
           "Protected Well"
          ],
          [
           "Siaya",
           "Gem",
           "Borehole/Tubewell"
          ],
          [
           "Busia",
           "Matayos",
           "Protected Well"
          ],
          [
           "Vihiga",
           "Hamisi",
           "Protected Well"
          ],
          [
           "Kisumu",
           "Nyando",
           "Protected Well"
          ],
          [
           "Bungoma",
           "Lugari",
           "Protected Well"
          ],
          [
           "Siaya",
           "Ugunja",
           "Protected Well"
          ],
          [
           "Kakamega",
           "Butere",
           "Protected Well"
          ],
          [
           "Busia",
           "Matayos",
           "Protected Well"
          ],
          [
           "Makueni",
           "Makueni",
           "Undefined Well"
          ],
          [
           "Nandi",
           "Aldai",
           "Protected Well"
          ],
          [
           "Kakamega",
           "Butere",
           "Borehole/Tubewell"
          ],
          [
           "Siaya",
           "Gem",
           "Protected Well"
          ],
          [
           "Kakamega",
           "Navakholo",
           "Borehole/Tubewell"
          ],
          [
           "Kakamega",
           "Malava",
           "Protected Well"
          ],
          [
           "Nyamira",
           "Kitutu Masaba",
           "Protected Well"
          ],
          [
           "Siaya",
           "Gem",
           "Protected Well"
          ],
          [
           "Kakamega",
           "Mumias West",
           "Undefined Well"
          ],
          [
           "Embu",
           "Mbeere South",
           "Rainwater Harvesting"
          ],
          [
           "Kiambu",
           "Kiambaa",
           "Piped Water"
          ],
          [
           "Busia",
           "Teso North",
           "Protected Well"
          ],
          [
           "Busia",
           "Funyula",
           "Borehole/Tubewell"
          ],
          [
           "Trans Nzoia",
           "Cherangany",
           "Protected Well"
          ],
          [
           "Bungoma",
           "Tongaren",
           "Protected Well"
          ],
          [
           "Busia",
           "Butula",
           "Protected Well"
          ],
          [
           "Nyamira",
           "West Mugirango",
           "Protected Well"
          ],
          [
           "Embu",
           "Runyenjes",
           "Rainwater Harvesting"
          ],
          [
           "Makueni",
           "Mbooni",
           "Sand or Sub-surface Dam"
          ],
          [
           "Siaya",
           "Bondo",
           "Undefined Well"
          ],
          [
           "Kisumu",
           "Kisumu Central",
           "Piped Water"
          ],
          [
           "Kisumu",
           "Nyando",
           "Piped Water"
          ],
          [
           "Makueni",
           "Makueni",
           "Undefined Well"
          ],
          [
           "Baringo",
           "Tiaty",
           "Undefined Well"
          ],
          [
           "Kakamega",
           "Shinyalu",
           "Protected Well"
          ],
          [
           "Siaya",
           "Ugenya",
           "Protected Well"
          ],
          [
           "Busia",
           "Nambale",
           "Protected Well"
          ],
          [
           "Siaya",
           "Rarieda",
           "Undefined Well"
          ],
          [
           "Vihiga",
           "Vihiga",
           "Protected Well"
          ],
          [
           "Migori",
           "Kuria West",
           "Protected Well"
          ],
          [
           "Kisumu",
           "Muhoroni",
           "Protected Well"
          ],
          [
           "Nyamira",
           "Borabu",
           "Protected Well"
          ],
          [
           "Busia",
           "Butula",
           "Protected Well"
          ],
          [
           "Migori",
           "Kuria East",
           "Protected Well"
          ],
          [
           "Kisumu",
           "Seme",
           "Undefined Well"
          ],
          [
           "Vihiga",
           "Vihiga",
           "Protected Well"
          ],
          [
           "Trans Nzoia",
           "Kiminini",
           "Protected Well"
          ],
          [
           "Kakamega",
           "Matungu",
           "Protected Well"
          ],
          [
           "Kiambu",
           "Ruiru",
           "Borehole/Tubewell"
          ],
          [
           "Busia",
           "Matayos",
           "Undefined Well"
          ],
          [
           "Kakamega",
           "Ikolomani",
           "Protected Well"
          ],
          [
           "Nyamira",
           "Kitutu Masaba",
           "Protected Well"
          ],
          [
           "Busia",
           "Teso South",
           "Protected Well"
          ],
          [
           "Vihiga",
           "Hamisi",
           "Protected Well"
          ],
          [
           "Homa Bay",
           "Homa Bay Town",
           "Borehole/Tubewell"
          ],
          [
           "Migori",
           "Rongo",
           "Protected Well"
          ],
          [
           "Kakamega",
           "Lurambi",
           "Protected Well"
          ],
          [
           "Busia",
           "Butula",
           "Protected Well"
          ],
          [
           "Busia",
           "Butula",
           "Protected Well"
          ],
          [
           "Makueni",
           "Kilome",
           "Sand or Sub-surface Dam"
          ],
          [
           "Makueni",
           "Mbooni",
           "Sand or Sub-surface Dam"
          ],
          [
           "Kakamega",
           "Mumias East",
           "Protected Well"
          ],
          [
           "Siaya",
           "Gem",
           "Protected Well"
          ],
          [
           "Kakamega",
           "Matungu",
           "Protected Well"
          ],
          [
           "Vihiga",
           "Vihiga",
           "Protected Well"
          ],
          [
           "Nyamira",
           "West Mugirango",
           "Protected Well"
          ],
          [
           "Kiambu",
           "Juja",
           "Borehole/Tubewell"
          ],
          [
           "Busia",
           "Teso North",
           "Protected Well"
          ],
          [
           "Vihiga",
           "Vihiga",
           "Protected Well"
          ],
          [
           "Makueni",
           "Makueni",
           "Sand or Sub-surface Dam"
          ],
          [
           "Siaya",
           "Ugenya",
           "Protected Well"
          ],
          [
           "Trans Nzoia",
           "Cherangany",
           "Protected Well"
          ],
          [
           "Makueni",
           "Kilome",
           "Borehole/Tubewell"
          ],
          [
           "Kisumu",
           "Seme",
           "Borehole/Tubewell"
          ],
          [
           "Vihiga",
           "Hamisi",
           "Protected Well"
          ],
          [
           "Embu",
           "Manyatta",
           "Borehole/Tubewell"
          ],
          [
           "Kakamega",
           "Butere",
           "Protected Well"
          ],
          [
           "Kisumu",
           "Nyando",
           "Borehole/Tubewell"
          ],
          [
           "Kakamega",
           "Malava",
           "Protected Well"
          ],
          [
           "Nyamira",
           "West Mugirango",
           "Protected Well"
          ],
          [
           "Kisumu",
           "Kisumu West",
           "Piped Water"
          ],
          [
           "Busia",
           "Teso South",
           "Borehole/Tubewell"
          ],
          [
           "Siaya",
           "Alego Usonga",
           "Borehole/Tubewell"
          ],
          [
           "Kisumu",
           "Nyando",
           "Protected Well"
          ],
          [
           "Makueni",
           "Kibwezi West",
           "Undefined Well"
          ],
          [
           "Bungoma",
           "Webuye East",
           "Protected Well"
          ],
          [
           "Kakamega",
           "Ikolomani",
           "Protected Well"
          ],
          [
           "Makueni",
           "Makueni",
           "Sand or Sub-surface Dam"
          ],
          [
           "Busia",
           "Nambale",
           "Protected Well"
          ],
          [
           "Kakamega",
           "Navakholo",
           "Protected Well"
          ],
          [
           "Embu",
           "Mbeere South",
           "Rainwater Harvesting"
          ],
          [
           "Vihiga",
           "Hamisi",
           "Protected Well"
          ],
          [
           "Vihiga",
           "Emuhaya",
           "Protected Well"
          ],
          [
           "Kakamega",
           "Ikolomani",
           "Protected Well"
          ],
          [
           "Makueni",
           "Kibwezi East",
           "Sand or Sub-surface Dam"
          ],
          [
           "Embu",
           "Mbeere South",
           "Borehole/Tubewell"
          ],
          [
           "Makueni",
           "Kilome",
           "Sand or Sub-surface Dam"
          ],
          [
           "Kakamega",
           "Ikolomani",
           "Protected Well"
          ],
          [
           "Siaya",
           "Ugunja",
           "Protected Well"
          ],
          [
           "Bungoma",
           "Tongaren",
           "Protected Well"
          ],
          [
           "Vihiga",
           "Vihiga",
           "Protected Well"
          ],
          [
           "Kakamega",
           "Khwisero",
           "Borehole/Tubewell"
          ],
          [
           "Kakamega",
           "Shinyalu",
           "Protected Well"
          ],
          [
           "Homa Bay",
           "Suba",
           "Borehole/Tubewell"
          ],
          [
           "Busia",
           "Nambale",
           "Borehole/Tubewell"
          ],
          [
           "Kakamega",
           "Shinyalu",
           "Protected Well"
          ],
          [
           "Vihiga",
           "Hamisi",
           "Protected Well"
          ],
          [
           "Kisumu",
           "Nyakach",
           "Piped Water"
          ],
          [
           "Kajiado",
           "Kajiado Central",
           "Protected Well"
          ],
          [
           "Embu",
           "Mbeere South",
           "Rainwater Harvesting"
          ],
          [
           "Siaya",
           "Gem",
           "Protected Well"
          ],
          [
           "Siaya",
           "Ugenya",
           "Protected Well"
          ],
          [
           "Kakamega",
           "Khwisero",
           "Protected Well"
          ],
          [
           "Busia",
           "Butula",
           "Protected Well"
          ],
          [
           "Siaya",
           "Alego Usonga",
           "Borehole/Tubewell"
          ],
          [
           "Vihiga",
           "Hamisi",
           "Protected Well"
          ],
          [
           "Kakamega",
           "Mumias East",
           "Protected Well"
          ],
          [
           "Embu",
           "Mbeere South",
           "Rainwater Harvesting"
          ],
          [
           "Kakamega",
           "Ikolomani",
           "Protected Well"
          ],
          [
           "Homa Bay",
           "Suba",
           "Piped Water"
          ],
          [
           "Busia",
           "Funyula",
           "Borehole/Tubewell"
          ],
          [
           "Migori",
           "Awendo",
           "Protected Well"
          ],
          [
           "Kakamega",
           "Mumias East",
           "Protected Well"
          ],
          [
           "Siaya",
           "Gem",
           "Protected Well"
          ],
          [
           "Makueni",
           "Kaiti",
           "Sand or Sub-surface Dam"
          ],
          [
           "Bungoma",
           "Likuyani",
           "Undefined Well"
          ],
          [
           "Homa Bay",
           "Kasipul",
           "Protected Well"
          ],
          [
           "Migori",
           "Suna West",
           "Undefined Well"
          ],
          [
           "Makueni",
           "Kibwezi West",
           "Sand or Sub-surface Dam"
          ],
          [
           "Vihiga",
           "Vihiga",
           "Protected Well"
          ],
          [
           "Kisii",
           "South Mugirango",
           "Borehole/Tubewell"
          ],
          [
           "Kisumu",
           "Muhoroni",
           "Protected Well"
          ],
          [
           "Nyamira",
           "North Mugirango",
           "Protected Well"
          ],
          [
           "Vihiga",
           "Sabatia",
           "Protected Well"
          ],
          [
           "Kakamega",
           "Malava",
           "Borehole/Tubewell"
          ],
          [
           "Bungoma",
           "Tongaren",
           "Protected Well"
          ],
          [
           "Kakamega",
           "Khwisero",
           "Borehole/Tubewell"
          ],
          [
           "Busia",
           "Teso North",
           "Protected Well"
          ],
          [
           "Nyamira",
           "West Mugirango",
           "Protected Well"
          ],
          [
           "Busia",
           "Butula",
           "Protected Well"
          ],
          [
           "Kisumu",
           "Seme",
           "Protected Well"
          ],
          [
           "Bungoma",
           "Kimilili",
           "Protected Well"
          ],
          [
           "Busia",
           "Funyula",
           "Protected Well"
          ],
          [
           "Busia",
           "Matayos",
           "Protected Well"
          ],
          [
           "Siaya",
           "Ugunja",
           "Protected Well"
          ],
          [
           "Siaya",
           "Ugunja",
           "Protected Well"
          ],
          [
           "Kakamega",
           "Lurambi",
           "Protected Well"
          ],
          [
           "Siaya",
           "Gem",
           "Borehole/Tubewell"
          ],
          [
           "Kakamega",
           "Khwisero",
           "Protected Well"
          ],
          [
           "Siaya",
           "Ugenya",
           "Borehole/Tubewell"
          ],
          [
           "Vihiga",
           "Sabatia",
           "Protected Well"
          ],
          [
           "Kisumu",
           "Kisumu Central",
           "Piped Water"
          ],
          [
           "Makueni",
           "Makueni",
           "Sand or Sub-surface Dam"
          ],
          [
           "Busia",
           "Butula",
           "Protected Well"
          ],
          [
           "Bungoma",
           "Kabuchai",
           "Protected Well"
          ],
          [
           "Busia",
           "Teso South",
           "Borehole/Tubewell"
          ],
          [
           "Embu",
           "Runyenjes",
           "Rainwater Harvesting"
          ],
          [
           "Homa Bay",
           "Mbita",
           "Borehole/Tubewell"
          ],
          [
           "Kisii",
           "Kitutu Chache South",
           "Protected Well"
          ],
          [
           "Samburu",
           "Samburu West",
           "Protected Spring"
          ],
          [
           "Bungoma",
           "Kanduyi",
           "Protected Well"
          ],
          [
           "Vihiga",
           "Hamisi",
           "Protected Well"
          ],
          [
           "Busia",
           "Butula",
           "Borehole/Tubewell"
          ],
          [
           "Homa Bay",
           "Kabondo Kasipul",
           "Protected Well"
          ],
          [
           "Kakamega",
           "Mumias West",
           "Undefined Well"
          ],
          [
           "Vihiga",
           "Hamisi",
           "Protected Well"
          ],
          [
           "Kakamega",
           "Khwisero",
           "Protected Well"
          ],
          [
           "Kakamega",
           "Matungu",
           "Protected Well"
          ],
          [
           "Siaya",
           "Gem",
           "Protected Well"
          ],
          [
           "Busia",
           "Butula",
           "Protected Well"
          ],
          [
           "Makueni",
           "Kilome",
           "Sand or Sub-surface Dam"
          ],
          [
           "Kakamega",
           "Malava",
           "Protected Well"
          ],
          [
           "Busia",
           "Budalangi",
           "Protected Well"
          ],
          [
           "Siaya",
           "Ugunja",
           "Protected Well"
          ],
          [
           "Vihiga",
           "Hamisi",
           "Protected Well"
          ],
          [
           "Vihiga",
           "Hamisi",
           "Protected Well"
          ],
          [
           "Migori",
           "Rongo",
           "Protected Well"
          ],
          [
           "Kakamega",
           "Mumias West",
           "Undefined Well"
          ],
          [
           "Bungoma",
           "Lugari",
           "Protected Well"
          ],
          [
           "Kisumu",
           "Kisumu West",
           "Protected Well"
          ],
          [
           "Trans Nzoia",
           "Cherangany",
           "Borehole/Tubewell"
          ],
          [
           "Kisumu",
           "Nyando",
           "Protected Well"
          ],
          [
           "Migori",
           "Rongo",
           "Protected Well"
          ],
          [
           "Makueni",
           "Kaiti",
           "Sand or Sub-surface Dam"
          ],
          [
           "Kiambu",
           "Kikuyu",
           "Borehole/Tubewell"
          ],
          [
           "Makueni",
           "Mbooni",
           "Sand or Sub-surface Dam"
          ],
          [
           "Kiambu",
           "Kiambaa",
           "Borehole/Tubewell"
          ],
          [
           "Busia",
           "Butula",
           "Protected Well"
          ],
          [
           "Kakamega",
           "Ikolomani",
           "Borehole/Tubewell"
          ],
          [
           "Makueni",
           "Makueni",
           "Sand or Sub-surface Dam"
          ],
          [
           "Siaya",
           "Alego Usonga",
           "Undefined Well"
          ],
          [
           "Busia",
           "Funyula",
           "Borehole/Tubewell"
          ],
          [
           "Embu",
           "Manyatta",
           "Borehole/Tubewell"
          ],
          [
           "Vihiga",
           "Hamisi",
           "Protected Well"
          ],
          [
           "Kakamega",
           "Khwisero",
           "Protected Well"
          ],
          [
           "Kakamega",
           "Mumias West",
           "Undefined Well"
          ],
          [
           "Busia",
           "Teso South",
           "Borehole/Tubewell"
          ],
          [
           "Busia",
           "Funyula",
           "Borehole/Tubewell"
          ],
          [
           "Migori",
           "Suna East",
           "Protected Well"
          ],
          [
           "Siaya",
           "Ugenya",
           "Undefined Well"
          ],
          [
           "Siaya",
           "Ugunja",
           "Protected Well"
          ],
          [
           "Makueni",
           "Makueni",
           "Sand or Sub-surface Dam"
          ],
          [
           "Kisumu",
           "Nyando",
           "Protected Well"
          ],
          [
           "Bungoma",
           "Likuyani",
           "Protected Well"
          ],
          [
           "Kisumu",
           "Nyakach",
           "Piped Water"
          ],
          [
           "Homa Bay",
           "Mbita",
           "Piped Water"
          ],
          [
           "Homa Bay",
           "Kasipul",
           "Protected Well"
          ],
          [
           "Kisumu",
           "Kisumu West",
           "Undefined Well"
          ],
          [
           "Kakamega",
           "Mumias East",
           "Protected Well"
          ],
          [
           "Vihiga",
           "Vihiga",
           "Protected Well"
          ],
          [
           "Kakamega",
           "Butere",
           "Protected Well"
          ],
          [
           "Kisumu",
           "Nyando",
           "Protected Well"
          ],
          [
           "Makueni",
           "Kibwezi West",
           "Sand or Sub-surface Dam"
          ],
          [
           "Vihiga",
           "Hamisi",
           "Protected Well"
          ],
          [
           "Busia",
           "Funyula",
           "Undefined Well"
          ],
          [
           "Migori",
           "Uriri",
           "Protected Well"
          ],
          [
           "Makueni",
           "Makueni",
           "Sand or Sub-surface Dam"
          ],
          [
           "Kajiado",
           "Kajiado East",
           "Undefined Well"
          ],
          [
           "Bungoma",
           "Likuyani",
           "Protected Well"
          ],
          [
           "Kisumu",
           "Nyando",
           "Borehole/Tubewell"
          ],
          [
           "Kiambu",
           "Juja",
           "Sand or Sub-surface Dam"
          ],
          [
           "Kiambu",
           "Juja",
           "Borehole/Tubewell"
          ],
          [
           "Busia",
           "Butula",
           "Protected Well"
          ],
          [
           "Siaya",
           "Gem",
           "Borehole/Tubewell"
          ],
          [
           "Makueni",
           "Kibwezi West",
           "Sand or Sub-surface Dam"
          ],
          [
           "Bungoma",
           "Tongaren",
           "Protected Well"
          ],
          [
           "Kakamega",
           "Matungu",
           "Rainwater Harvesting"
          ],
          [
           "Busia",
           "Nambale",
           "Protected Well"
          ],
          [
           "Kakamega",
           "Khwisero",
           "Protected Well"
          ],
          [
           "Vihiga",
           "Sabatia",
           "Protected Well"
          ],
          [
           "Busia",
           "Matayos",
           "Protected Well"
          ],
          [
           "Kakamega",
           "Khwisero",
           "Protected Well"
          ],
          [
           "Makueni",
           "Kibwezi West",
           "Undefined Well"
          ],
          [
           "Busia",
           "Butula",
           "Borehole/Tubewell"
          ],
          [
           "Busia",
           "Funyula",
           "Undefined Well"
          ],
          [
           "Kakamega",
           "Malava",
           "Protected Well"
          ],
          [
           "Migori",
           "Kuria West",
           "Protected Well"
          ],
          [
           "Bungoma",
           "Kimilili",
           "Protected Well"
          ],
          [
           "Makueni",
           "Kaiti",
           "Sand or Sub-surface Dam"
          ],
          [
           "Uasin Gishu",
           "Turbo",
           "Undefined Well"
          ],
          [
           "Kakamega",
           "Butere",
           "Protected Well"
          ],
          [
           "Busia",
           "Butula",
           "Protected Well"
          ],
          [
           "Homa Bay",
           "Ndhiwa",
           "Protected Well"
          ],
          [
           "Kakamega",
           "Mumias West",
           "Protected Well"
          ],
          [
           "Kakamega",
           "Shinyalu",
           "Protected Well"
          ],
          [
           "Siaya",
           "Rarieda",
           "Undefined Well"
          ],
          [
           "Kakamega",
           "Mumias East",
           "Protected Well"
          ],
          [
           "Kakamega",
           "Shinyalu",
           "Protected Well"
          ],
          [
           "Nyamira",
           "West Mugirango",
           "Protected Well"
          ],
          [
           "Kakamega",
           "Ikolomani",
           "Protected Well"
          ],
          [
           "Makueni",
           "Kibwezi West",
           "Borehole/Tubewell"
          ],
          [
           "Busia",
           "Funyula",
           "Borehole/Tubewell"
          ],
          [
           "Siaya",
           "Alego Usonga",
           "Protected Well"
          ],
          [
           "Makueni",
           "Makueni",
           "Sand or Sub-surface Dam"
          ],
          [
           "Kakamega",
           "Malava",
           "Protected Well"
          ],
          [
           "Siaya",
           "Ugenya",
           "Protected Well"
          ],
          [
           "Kakamega",
           "Lurambi",
           "Protected Well"
          ],
          [
           "Vihiga",
           "Hamisi",
           "Protected Well"
          ],
          [
           "Machakos",
           "Mwala",
           "Sand or Sub-surface Dam"
          ],
          [
           "Migori",
           "Kuria West",
           "Sand or Sub-surface Dam"
          ],
          [
           "Kakamega",
           "Lurambi",
           "Protected Well"
          ],
          [
           "Makueni",
           "Makueni",
           "Sand or Sub-surface Dam"
          ],
          [
           "Busia",
           "Budalangi",
           "Protected Well"
          ],
          [
           "Busia",
           "Nambale",
           "Borehole/Tubewell"
          ],
          [
           "Bungoma",
           "Likuyani",
           "Sand or Sub-surface Dam"
          ],
          [
           "Kakamega",
           "Shinyalu",
           "Protected Well"
          ],
          [
           "Makueni",
           "Mbooni",
           "Sand or Sub-surface Dam"
          ],
          [
           "Migori",
           "Kuria East",
           "Protected Well"
          ],
          [
           "Homa Bay",
           "Suba",
           "Borehole/Tubewell"
          ],
          [
           "Samburu",
           "Samburu East",
           "Borehole/Tubewell"
          ],
          [
           "Makueni",
           "Kibwezi West",
           "Sand or Sub-surface Dam"
          ],
          [
           "Nyamira",
           "Kitutu Masaba",
           "Protected Well"
          ],
          [
           "Makueni",
           "Kibwezi East",
           "Protected Well"
          ],
          [
           "Busia",
           "Butula",
           "Protected Well"
          ],
          [
           "Kisumu",
           "Nyando",
           "Protected Well"
          ],
          [
           "Embu",
           "Runyenjes",
           "Protected Well"
          ],
          [
           "Garissa",
           "Fafi",
           "Borehole/Tubewell"
          ],
          [
           "Siaya",
           "Gem",
           "Protected Well"
          ],
          [
           "Kisumu",
           "Kisumu East",
           "Piped Water"
          ],
          [
           "Busia",
           "Teso South",
           "Protected Well"
          ],
          [
           "Kakamega",
           "Ikolomani",
           "Protected Well"
          ],
          [
           "Siaya",
           "Alego Usonga",
           "Undefined Well"
          ],
          [
           "Vihiga",
           "Hamisi",
           "Protected Well"
          ],
          [
           "Kakamega",
           "Khwisero",
           "Protected Well"
          ],
          [
           "Migori",
           "Awendo",
           "Protected Well"
          ],
          [
           "Siaya",
           "Ugenya",
           "Protected Well"
          ],
          [
           "Migori",
           "Kuria West",
           "Protected Well"
          ],
          [
           "Siaya",
           "Alego Usonga",
           "Protected Well"
          ],
          [
           "Siaya",
           "Ugunja",
           "Protected Well"
          ],
          [
           "Kisumu",
           "Kisumu Central",
           "Borehole/Tubewell"
          ],
          [
           "Bungoma",
           "Lugari",
           "Protected Well"
          ],
          [
           "Busia",
           "Funyula",
           "Borehole/Tubewell"
          ],
          [
           "Busia",
           "Teso South",
           "Borehole/Tubewell"
          ],
          [
           "Homa Bay",
           "Ndhiwa",
           "Protected Well"
          ],
          [
           "Busia",
           "Funyula",
           "Protected Well"
          ],
          [
           "Busia",
           "Butula",
           "Protected Well"
          ],
          [
           "Kiambu",
           "Thika Town",
           "Piped Water"
          ],
          [
           "Homa Bay",
           "Kasipul",
           "Protected Well"
          ],
          [
           "Nyamira",
           "Kitutu Masaba",
           "Protected Well"
          ],
          [
           "Makueni",
           "Kaiti",
           "Sand or Sub-surface Dam"
          ],
          [
           "Busia",
           "Butula",
           "Protected Well"
          ],
          [
           "Kakamega",
           "Mumias West",
           "Undefined Well"
          ],
          [
           "Busia",
           "Nambale",
           "Protected Well"
          ],
          [
           "Kakamega",
           "Khwisero",
           "Protected Well"
          ],
          [
           "Siaya",
           "Ugunja",
           "Protected Well"
          ],
          [
           "Kisii",
           "Bobasi",
           "Borehole/Tubewell"
          ],
          [
           "Kakamega",
           "Butere",
           "Protected Well"
          ],
          [
           "Kisumu",
           "Nyando",
           "Protected Well"
          ],
          [
           "Kakamega",
           "Mumias East",
           "Protected Well"
          ],
          [
           "Homa Bay",
           "Kasipul",
           "Protected Well"
          ],
          [
           "Bungoma",
           "Likuyani",
           "Sand or Sub-surface Dam"
          ],
          [
           "Kakamega",
           "Shinyalu",
           "Protected Well"
          ],
          [
           "Kakamega",
           "Lurambi",
           "Protected Well"
          ],
          [
           "Siaya",
           "Gem",
           "Protected Well"
          ],
          [
           "Kakamega",
           "Malava",
           "Borehole/Tubewell"
          ],
          [
           "Embu",
           "Mbeere South",
           "Rainwater Harvesting"
          ],
          [
           "Kakamega",
           "Khwisero",
           "Protected Well"
          ],
          [
           "Siaya",
           "Alego Usonga",
           "Undefined Well"
          ],
          [
           "Siaya",
           "Alego Usonga",
           "Undefined Well"
          ],
          [
           "Makueni",
           "Kaiti",
           "Sand or Sub-surface Dam"
          ],
          [
           "Makueni",
           "Kilome",
           "Sand or Sub-surface Dam"
          ],
          [
           "Kakamega",
           "Navakholo",
           "Protected Well"
          ],
          [
           "Kakamega",
           "Mumias West",
           "Undefined Well"
          ],
          [
           "Kisumu",
           "Nyando",
           "Borehole/Tubewell"
          ],
          [
           "Bungoma",
           "Tongaren",
           "Undefined Well"
          ],
          [
           "Kakamega",
           "Lurambi",
           "Protected Well"
          ],
          [
           "Kisumu",
           "Nyando",
           "Protected Well"
          ],
          [
           "Makueni",
           "Makueni",
           "Sand or Sub-surface Dam"
          ],
          [
           "Kakamega",
           "Ikolomani",
           "Protected Well"
          ],
          [
           "Bungoma",
           "Webute West",
           "Protected Well"
          ],
          [
           "Makueni",
           "Makueni",
           "Protected Spring"
          ],
          [
           "Nyamira",
           "Borabu",
           "Sand or Sub-surface Dam"
          ],
          [
           "Kakamega",
           "Matungu",
           "Protected Well"
          ],
          [
           "Kakamega",
           "Khwisero",
           "Protected Well"
          ],
          [
           "Kakamega",
           "Khwisero",
           "Protected Well"
          ],
          [
           "Siaya",
           "Gem",
           "Protected Well"
          ],
          [
           "Busia",
           "Matayos",
           "Protected Well"
          ],
          [
           "Nyamira",
           "North Mugirango",
           "Undefined Well"
          ],
          [
           "Busia",
           "Butula",
           "Protected Well"
          ],
          [
           "Bungoma",
           "Tongaren",
           "Protected Well"
          ],
          [
           "Homa Bay",
           "Kasipul",
           "Protected Well"
          ],
          [
           "Siaya",
           "Gem",
           "Protected Well"
          ],
          [
           "Kisumu",
           "Nyakach",
           "Borehole/Tubewell"
          ],
          [
           "Kiambu",
           "Juja",
           "Piped Water"
          ],
          [
           "Busia",
           "Budalangi",
           "Undefined Well"
          ],
          [
           "Kakamega",
           "Malava",
           "Protected Well"
          ],
          [
           "Kisumu",
           "Nyando",
           "Protected Well"
          ],
          [
           "Vihiga",
           "Vihiga",
           "Protected Well"
          ],
          [
           "Nyamira",
           "Borabu",
           "Protected Well"
          ],
          [
           "Kisumu",
           "Nyando",
           "Protected Well"
          ],
          [
           "Busia",
           "Funyula",
           "Undefined Well"
          ],
          [
           "Migori",
           "Kuria East",
           "Protected Well"
          ],
          [
           "Makueni",
           "Kibwezi West",
           "Sand or Sub-surface Dam"
          ],
          [
           "Vihiga",
           "Hamisi",
           "Protected Well"
          ],
          [
           "Bungoma",
           "Lugari",
           "Protected Well"
          ],
          [
           "Nyamira",
           "Kitutu Masaba",
           "Protected Well"
          ],
          [
           "Kakamega",
           "Malava",
           "Protected Well"
          ],
          [
           "Migori",
           "Uriri",
           "Undefined Well"
          ],
          [
           "Busia",
           "Butula",
           "Protected Well"
          ],
          [
           "Busia",
           "Teso South",
           "Protected Well"
          ],
          [
           "Bungoma",
           "Tongaren",
           "Protected Well"
          ],
          [
           "Trans Nzoia",
           "Cherangany",
           "Protected Well"
          ],
          [
           "Kakamega",
           "Mumias East",
           "Protected Well"
          ],
          [
           "Busia",
           "Teso North",
           "Protected Well"
          ],
          [
           "Siaya",
           "Ugenya",
           "Borehole/Tubewell"
          ],
          [
           "Kakamega",
           "Butere",
           "Protected Well"
          ],
          [
           "Kakamega",
           "Shinyalu",
           "Protected Well"
          ],
          [
           "Kiambu",
           "Ruiru",
           "Piped Water"
          ],
          [
           "Homa Bay",
           "Rangwe",
           "Borehole/Tubewell"
          ],
          [
           "Vihiga",
           "Vihiga",
           "Protected Well"
          ],
          [
           "Homa Bay",
           "Suba",
           "Borehole/Tubewell"
          ],
          [
           "Siaya",
           "Gem",
           "Protected Well"
          ],
          [
           "Makueni",
           "Kilome",
           "Sand or Sub-surface Dam"
          ],
          [
           "Kakamega",
           "Shinyalu",
           "Protected Well"
          ],
          [
           "Nyamira",
           "Kitutu Masaba",
           "Protected Well"
          ],
          [
           "Siaya",
           "Alego Usonga",
           "Borehole/Tubewell"
          ],
          [
           "Busia",
           "Funyula",
           "Borehole/Tubewell"
          ],
          [
           "Bungoma",
           "Tongaren",
           "Protected Well"
          ],
          [
           "Kisumu",
           "Nyakach",
           "Undefined Well"
          ],
          [
           "Kakamega",
           "Butere",
           "Protected Well"
          ],
          [
           "Busia",
           "Butula",
           "Protected Well"
          ],
          [
           "Kakamega",
           "Shinyalu",
           "Protected Well"
          ],
          [
           "Kakamega",
           "Butere",
           "Protected Well"
          ],
          [
           "Kisumu",
           "Nyando",
           "Protected Well"
          ],
          [
           "Siaya",
           "Gem",
           "Protected Well"
          ],
          [
           "Nakuru",
           "Rongai",
           "Borehole/Tubewell"
          ],
          [
           "Bungoma",
           "Likuyani",
           "Undefined Well"
          ],
          [
           "Kakamega",
           "Butere",
           "Borehole/Tubewell"
          ],
          [
           "Kakamega",
           "Ikolomani",
           "Protected Well"
          ],
          [
           "Vihiga",
           "Sabatia",
           "Protected Well"
          ],
          [
           "Vihiga",
           "Vihiga",
           "Protected Well"
          ],
          [
           "Homa Bay",
           "Kasipul",
           "Protected Well"
          ],
          [
           "Kisumu",
           "Nyando",
           "Borehole/Tubewell"
          ],
          [
           "Kakamega",
           "Shinyalu",
           "Protected Well"
          ],
          [
           "Bungoma",
           "Kimilili",
           "Protected Well"
          ],
          [
           "Busia",
           "Butula",
           "Protected Well"
          ],
          [
           "Siaya",
           "Alego Usonga",
           "Protected Well"
          ],
          [
           "Migori",
           "Kuria West",
           "Protected Well"
          ],
          [
           "Makueni",
           "Makueni",
           "Sand or Sub-surface Dam"
          ],
          [
           "Kisumu",
           "Kisumu Central",
           "Piped Water"
          ],
          [
           "Siaya",
           "Ugunja",
           "Protected Well"
          ],
          [
           "Busia",
           "Nambale",
           "Borehole/Tubewell"
          ],
          [
           "Kakamega",
           "Butere",
           "Protected Well"
          ],
          [
           "Vihiga",
           "Hamisi",
           "Protected Well"
          ],
          [
           "Nyamira",
           "Borabu",
           "Protected Well"
          ],
          [
           "Trans Nzoia",
           "Cherangany",
           "Protected Well"
          ],
          [
           "Kakamega",
           "Butere",
           "Protected Well"
          ],
          [
           "Kakamega",
           "Khwisero",
           "Protected Well"
          ],
          [
           "Nyamira",
           "North Mugirango",
           "Protected Well"
          ],
          [
           "Busia",
           "Butula",
           "Protected Well"
          ],
          [
           "Bungoma",
           "Lugari",
           "Protected Well"
          ],
          [
           "Kakamega",
           "Mumias East",
           "Protected Well"
          ],
          [
           "Kisumu",
           "Kisumu Central",
           "Piped Water"
          ],
          [
           "Kakamega",
           "Mumias East",
           "Protected Well"
          ],
          [
           "Kakamega",
           "Shinyalu",
           "Protected Well"
          ],
          [
           "Busia",
           "Matayos",
           "Borehole/Tubewell"
          ],
          [
           "Busia",
           "Matayos",
           "Borehole/Tubewell"
          ],
          [
           "Embu",
           "Manyatta",
           "Piped Water"
          ],
          [
           "Trans Nzoia",
           "Cherangany",
           "Protected Well"
          ],
          [
           "Vihiga",
           "Sabatia",
           "Protected Well"
          ],
          [
           "Migori",
           "Suna East",
           "Protected Well"
          ],
          [
           "Embu",
           "Mbeere South",
           "Rainwater Harvesting"
          ],
          [
           "Kakamega",
           "Malava",
           "Protected Well"
          ],
          [
           "Trans Nzoia",
           "Kiminini",
           "Protected Well"
          ],
          [
           "Busia",
           "Teso South",
           "Protected Well"
          ],
          [
           "Nyamira",
           "Kitutu Masaba",
           "Protected Well"
          ],
          [
           "Migori",
           "Kuria East",
           "Protected Well"
          ],
          [
           "Makueni",
           "Makueni",
           "Sand or Sub-surface Dam"
          ],
          [
           "Makueni",
           "Kibwezi West",
           "Sand or Sub-surface Dam"
          ],
          [
           "Vihiga",
           "Vihiga",
           "Protected Well"
          ],
          [
           "Siaya",
           "Ugenya",
           "Borehole/Tubewell"
          ],
          [
           "Siaya",
           "Alego Usonga",
           "Sand or Sub-surface Dam"
          ],
          [
           "Makueni",
           "Mbooni",
           "Sand or Sub-surface Dam"
          ],
          [
           "Migori",
           "Uriri",
           "Protected Well"
          ],
          [
           "Kisumu",
           "Nyando",
           "Protected Well"
          ],
          [
           "Kakamega",
           "Matungu",
           "Borehole/Tubewell"
          ],
          [
           "Migori",
           "Suna West",
           "Borehole/Tubewell"
          ],
          [
           "Nyamira",
           "Kitutu Masaba",
           "Protected Well"
          ],
          [
           "Kakamega",
           "Lurambi",
           "Protected Well"
          ],
          [
           "Kiambu",
           "Limuru",
           "Borehole/Tubewell"
          ],
          [
           "Homa Bay",
           "Kabondo Kasipul",
           "Protected Well"
          ],
          [
           "Busia",
           "Nambale",
           "Protected Well"
          ],
          [
           "Kakamega",
           "Butere",
           "Borehole/Tubewell"
          ],
          [
           "Bungoma",
           "Lugari",
           "Protected Well"
          ],
          [
           "Busia",
           "Funyula",
           "Protected Well"
          ],
          [
           "Kakamega",
           "Navakholo",
           "Protected Well"
          ],
          [
           "Busia",
           "Butula",
           "Protected Well"
          ],
          [
           "Busia",
           "Matayos",
           "Borehole/Tubewell"
          ],
          [
           "Kakamega",
           "Shinyalu",
           "Borehole/Tubewell"
          ],
          [
           "Vihiga",
           "Hamisi",
           "Protected Well"
          ],
          [
           "Siaya",
           "Gem",
           "Protected Well"
          ],
          [
           "Siaya",
           "Alego Usonga",
           "Borehole/Tubewell"
          ],
          [
           "Busia",
           "Nambale",
           "Undefined Well"
          ],
          [
           "Kakamega",
           "Malava",
           "Protected Well"
          ],
          [
           "Makueni",
           "Kibwezi East",
           "Sand or Sub-surface Dam"
          ],
          [
           "Siaya",
           "Gem",
           "Undefined Well"
          ],
          [
           "Kakamega",
           "Butere",
           "Protected Well"
          ],
          [
           "Embu",
           "Mbeere South",
           "Rainwater Harvesting"
          ],
          [
           "Busia",
           "Nambale",
           "Borehole/Tubewell"
          ],
          [
           "Migori",
           "Uriri",
           "Undefined Well"
          ],
          [
           "Kiambu",
           "Juja",
           "Borehole/Tubewell"
          ],
          [
           "Busia",
           "Nambale",
           "Protected Well"
          ],
          [
           "Busia",
           "Teso North",
           "Protected Well"
          ],
          [
           "Siaya",
           "Rarieda",
           "Sand or Sub-surface Dam"
          ],
          [
           "Busia",
           "Teso South",
           "Protected Well"
          ],
          [
           "Makueni",
           "Kibwezi West",
           "Undefined Well"
          ],
          [
           "Kakamega",
           "Mumias East",
           "Protected Well"
          ],
          [
           "Homa Bay",
           "Ndhiwa",
           "Protected Well"
          ],
          [
           "Busia",
           "Funyula",
           "Undefined Well"
          ],
          [
           "Kakamega",
           "Malava",
           "Protected Well"
          ],
          [
           "Homa Bay",
           "Suba",
           "Borehole/Tubewell"
          ],
          [
           "Vihiga",
           "Hamisi",
           "Protected Well"
          ],
          [
           "Migori",
           "Uriri",
           "Protected Well"
          ],
          [
           "Bungoma",
           "Bumula",
           "Protected Well"
          ],
          [
           "Siaya",
           "Ugunja",
           "Protected Well"
          ],
          [
           "Uasin Gishu",
           "Turbo",
           "Protected Well"
          ],
          [
           "Migori",
           "Rongo",
           "Protected Well"
          ],
          [
           "Siaya",
           "Alego Usonga",
           "Protected Well"
          ],
          [
           "Homa Bay",
           "Mbita",
           "Borehole/Tubewell"
          ],
          [
           "Kakamega",
           "Butere",
           "Protected Well"
          ],
          [
           "Kitui",
           "Mwingi North",
           "Borehole/Tubewell"
          ],
          [
           "Kakamega",
           "Mumias West",
           "Undefined Well"
          ],
          [
           "Samburu",
           "Samburu North",
           "Borehole/Tubewell"
          ],
          [
           "Kakamega",
           "Lurambi",
           "Protected Well"
          ],
          [
           "Busia",
           "Nambale",
           "Protected Well"
          ],
          [
           "Busia",
           "Funyula",
           "Borehole/Tubewell"
          ],
          [
           "Siaya",
           "Ugunja",
           "Borehole/Tubewell"
          ],
          [
           "Bungoma",
           "Lugari",
           "Protected Well"
          ],
          [
           "Kakamega",
           "Ikolomani",
           "Protected Well"
          ],
          [
           "Vihiga",
           "Vihiga",
           "Protected Well"
          ],
          [
           "Makueni",
           "Mbooni",
           "Sand or Sub-surface Dam"
          ],
          [
           "Siaya",
           "Alego Usonga",
           "Undefined Well"
          ],
          [
           "Kakamega",
           "Ikolomani",
           "Protected Well"
          ],
          [
           "Kiambu",
           "Kiambu",
           "Borehole/Tubewell"
          ],
          [
           "Vihiga",
           "Hamisi",
           "Borehole/Tubewell"
          ],
          [
           "Busia",
           "Butula",
           "Protected Well"
          ],
          [
           "Kakamega",
           "Khwisero",
           "Protected Well"
          ],
          [
           "Kakamega",
           "Butere",
           "Undefined Well"
          ],
          [
           "Kitui",
           "Mwingi North",
           "Borehole/Tubewell"
          ],
          [
           "Siaya",
           "Ugenya",
           "Borehole/Tubewell"
          ],
          [
           "Makueni",
           "Kibwezi East",
           "Undefined Well"
          ],
          [
           "Kakamega",
           "Khwisero",
           "Protected Well"
          ],
          [
           "Homa Bay",
           "Mbita",
           "Piped Water"
          ],
          [
           "Busia",
           "Teso South",
           "Protected Well"
          ],
          [
           "Siaya",
           "Gem",
           "Protected Well"
          ],
          [
           "Kisumu",
           "Nyando",
           "Protected Well"
          ],
          [
           "Siaya",
           "Gem",
           "Protected Well"
          ],
          [
           "Siaya",
           "Ugenya",
           "Protected Well"
          ],
          [
           "Kakamega",
           "Malava",
           "Protected Well"
          ],
          [
           "Busia",
           "Matayos",
           "Protected Well"
          ],
          [
           "Busia",
           "Matayos",
           "Protected Well"
          ],
          [
           "Kakamega",
           "Butere",
           "Protected Well"
          ],
          [
           "Bungoma",
           "Webuye East",
           "Protected Well"
          ],
          [
           "Busia",
           "Matayos",
           "Protected Well"
          ],
          [
           "Siaya",
           "Ugenya",
           "Sand or Sub-surface Dam"
          ],
          [
           "Busia",
           "Teso South",
           "Protected Well"
          ],
          [
           "Busia",
           "Butula",
           "Protected Well"
          ],
          [
           "Kisumu",
           "Kisumu Central",
           "Piped Water"
          ],
          [
           "Busia",
           "Nambale",
           "Protected Well"
          ],
          [
           "Kakamega",
           "Lurambi",
           "Protected Well"
          ],
          [
           "Busia",
           "Nambale",
           "Protected Well"
          ],
          [
           "Bungoma",
           "Likuyani",
           "Protected Well"
          ],
          [
           "Vihiga",
           "Hamisi",
           "Protected Well"
          ],
          [
           "Busia",
           "Butula",
           "Protected Well"
          ],
          [
           "Bungoma",
           "Bumula",
           "Protected Well"
          ],
          [
           "Busia",
           "Butula",
           "Protected Well"
          ],
          [
           "Siaya",
           "Alego Usonga",
           "Borehole/Tubewell"
          ],
          [
           "Kisii",
           "South Mugirango",
           "Borehole/Tubewell"
          ],
          [
           "Busia",
           "Budalangi",
           "Undefined Well"
          ],
          [
           "Bungoma",
           "Lugari",
           "Protected Well"
          ],
          [
           "Vihiga",
           "Sabatia",
           "Protected Well"
          ],
          [
           "Busia",
           "Funyula",
           "Borehole/Tubewell"
          ],
          [
           "Kakamega",
           "Mumias West",
           "Protected Well"
          ],
          [
           "Trans Nzoia",
           "Kiminini",
           "Protected Well"
          ],
          [
           "Siaya",
           "Gem",
           "Protected Well"
          ],
          [
           "Busia",
           "Teso South",
           "Protected Well"
          ],
          [
           "Vihiga",
           "Hamisi",
           "Protected Well"
          ],
          [
           "Busia",
           "Nambale",
           "Protected Well"
          ],
          [
           "Nyamira",
           "North Mugirango",
           "Protected Well"
          ],
          [
           "Kakamega",
           "Mumias East",
           "Undefined Well"
          ],
          [
           "Vihiga",
           "Hamisi",
           "Protected Well"
          ],
          [
           "Kakamega",
           "Mumias West",
           "Undefined Well"
          ],
          [
           "Kisumu",
           "Seme",
           "Borehole/Tubewell"
          ],
          [
           "Embu",
           "Manyatta",
           "Protected Well"
          ],
          [
           "Nyamira",
           "Kitutu Masaba",
           "Protected Well"
          ],
          [
           "Kakamega",
           "Ikolomani",
           "Protected Well"
          ],
          [
           "Busia",
           "Nambale",
           "Protected Well"
          ],
          [
           "Bungoma",
           "Tongaren",
           "Protected Well"
          ],
          [
           "Kisumu",
           "Muhoroni",
           "Undefined Well"
          ],
          [
           "Busia",
           "Butula",
           "Protected Well"
          ],
          [
           "Busia",
           "Funyula",
           "Borehole/Tubewell"
          ],
          [
           "Kisumu",
           "Kisumu Central",
           "Piped Water"
          ],
          [
           "Bungoma",
           "Bumula",
           "Protected Well"
          ],
          [
           "Kakamega",
           "Lugari",
           "Protected Well"
          ],
          [
           "Siaya",
           "Gem",
           "Protected Well"
          ],
          [
           "Migori",
           "Kuria West",
           "Borehole/Tubewell"
          ],
          [
           "Kakamega",
           "Malava",
           "Protected Well"
          ],
          [
           "Embu",
           "Mbeere South",
           "Rainwater Harvesting"
          ],
          [
           "Kakamega",
           "Malava",
           "Protected Well"
          ],
          [
           "Busia",
           "Budalangi",
           "Undefined Well"
          ],
          [
           "Kajiado",
           "Kajiado South",
           "Protected Well"
          ],
          [
           "Busia",
           "Butula",
           "Protected Well"
          ],
          [
           "Kakamega",
           "Butere",
           "Protected Well"
          ],
          [
           "Kakamega",
           "Mumias West",
           "Borehole/Tubewell"
          ],
          [
           "Busia",
           "Budalangi",
           "Protected Well"
          ],
          [
           "Makueni",
           "Makueni",
           "Sand or Sub-surface Dam"
          ],
          [
           "Kakamega",
           "Lurambi",
           "Protected Well"
          ],
          [
           "Bungoma",
           "Kabuchai",
           "Protected Well"
          ],
          [
           "Nyamira",
           "West Mugirango",
           "Protected Well"
          ],
          [
           "Bungoma",
           "Bumula",
           "Protected Well"
          ],
          [
           "Bungoma",
           "Likuyani",
           "Undefined Well"
          ],
          [
           "Kakamega",
           "Butere",
           "Protected Well"
          ],
          [
           "Busia",
           "Matayos",
           "Protected Well"
          ],
          [
           "Kakamega",
           "Malava",
           "Protected Well"
          ],
          [
           "Bungoma",
           "Webute West",
           "Protected Well"
          ],
          [
           "Makueni",
           "Kilome",
           "Sand or Sub-surface Dam"
          ],
          [
           "Siaya",
           "Gem",
           "Protected Well"
          ],
          [
           "Nyamira",
           "Kitutu Masaba",
           "Protected Well"
          ],
          [
           "Siaya",
           "Ugunja",
           "Protected Well"
          ],
          [
           "Busia",
           "Butula",
           "Protected Well"
          ],
          [
           "Vihiga",
           "Sabatia",
           "Protected Well"
          ],
          [
           "Busia",
           "Butula",
           "Borehole/Tubewell"
          ],
          [
           "Migori",
           "Awendo",
           "Protected Well"
          ],
          [
           "Nyamira",
           "West Mugirango",
           "Protected Well"
          ],
          [
           "Kakamega",
           "Lurambi",
           "Protected Well"
          ],
          [
           "Kakamega",
           "Lurambi",
           "Protected Well"
          ],
          [
           "Busia",
           "Teso North",
           "Undefined Well"
          ],
          [
           "Embu",
           "Runyenjes",
           "Rainwater Harvesting"
          ],
          [
           "Vihiga",
           "Vihiga",
           "Protected Well"
          ],
          [
           "Siaya",
           "Gem",
           "Protected Well"
          ],
          [
           "Busia",
           "Budalangi",
           "Protected Well"
          ],
          [
           "Homa Bay",
           "Mbita",
           "Borehole/Tubewell"
          ],
          [
           "Siaya",
           "Ugunja",
           "Undefined Well"
          ],
          [
           "Vihiga",
           "Hamisi",
           "Protected Well"
          ],
          [
           "Kisumu",
           "Nyando",
           "Protected Well"
          ],
          [
           "Kisumu",
           "Nyando",
           "Protected Well"
          ],
          [
           "Homa Bay",
           "Kabondo Kasipul",
           "Protected Well"
          ],
          [
           "Kakamega",
           "Khwisero",
           "Protected Well"
          ],
          [
           "Kiambu",
           "Thika Town",
           "Piped Water"
          ],
          [
           "Nyamira",
           "North Mugirango",
           "Protected Well"
          ],
          [
           "Kakamega",
           "Malava",
           "Protected Well"
          ],
          [
           "Nyamira",
           "North Mugirango",
           "Protected Well"
          ],
          [
           "Vihiga",
           "Vihiga",
           "Protected Well"
          ],
          [
           "Embu",
           "Mbeere South",
           "Borehole/Tubewell"
          ],
          [
           "Busia",
           "Butula",
           "Protected Well"
          ],
          [
           "Bungoma",
           "Lugari",
           "Protected Well"
          ],
          [
           "Kakamega",
           "Shinyalu",
           "Protected Well"
          ],
          [
           "Kakamega",
           "Butere",
           "Protected Well"
          ],
          [
           "Baringo",
           "Tiaty",
           "Undefined Well"
          ],
          [
           "Kakamega",
           "Khwisero",
           "Protected Well"
          ],
          [
           "Vihiga",
           "Hamisi",
           "Protected Well"
          ],
          [
           "Nandi",
           "Aldai",
           "Protected Well"
          ],
          [
           "Bungoma",
           "Tongaren",
           "Protected Well"
          ],
          [
           "Busia",
           "Butula",
           "Protected Well"
          ],
          [
           "Nyamira",
           "North Mugirango",
           "Protected Well"
          ],
          [
           "Kakamega",
           "Mumias East",
           "Undefined Well"
          ],
          [
           "Homa Bay",
           "Kasipul",
           "Protected Well"
          ],
          [
           "Vihiga",
           "Hamisi",
           "Protected Well"
          ],
          [
           "Busia",
           "Funyula",
           "Borehole/Tubewell"
          ],
          [
           "Uasin Gishu",
           "Turbo",
           "Protected Well"
          ],
          [
           "Garissa",
           "Fafi",
           "Borehole/Tubewell"
          ],
          [
           "Migori",
           "Rongo",
           "Protected Well"
          ],
          [
           "Kakamega",
           "Mumias East",
           "Undefined Well"
          ],
          [
           "Vihiga",
           "Hamisi",
           "Protected Well"
          ],
          [
           "Kakamega",
           "Lugari",
           "Protected Well"
          ],
          [
           "Kisumu",
           "Nyando",
           "Protected Well"
          ],
          [
           "Siaya",
           "Alego Usonga",
           "Protected Well"
          ],
          [
           "Makueni",
           "Kaiti",
           "Sand or Sub-surface Dam"
          ],
          [
           "Bungoma",
           "Webute West",
           "Protected Well"
          ],
          [
           "Nyamira",
           "Kitutu Masaba",
           "Protected Well"
          ],
          [
           "Kakamega",
           "Khwisero",
           "Protected Well"
          ],
          [
           "Homa Bay",
           "Kasipul",
           "Protected Well"
          ],
          [
           "Nyamira",
           "West Mugirango",
           "Protected Well"
          ],
          [
           "Kakamega",
           "Mumias East",
           "Undefined Well"
          ],
          [
           "Vihiga",
           "Vihiga",
           "Protected Well"
          ],
          [
           "Kisumu",
           "Kisumu Central",
           "Piped Water"
          ],
          [
           "Kakamega",
           "Butere",
           "Borehole/Tubewell"
          ],
          [
           "Siaya",
           "Ugunja",
           "Protected Well"
          ],
          [
           "Kakamega",
           "Lugari",
           "Protected Well"
          ],
          [
           "Bungoma",
           "Tongaren",
           "Protected Well"
          ],
          [
           "Samburu",
           "Samburu West",
           "Borehole/Tubewell"
          ],
          [
           "Migori",
           "Kuria East",
           "Borehole/Tubewell"
          ],
          [
           "Bungoma",
           "Kanduyi",
           "Protected Well"
          ],
          [
           "Vihiga",
           "Sabatia",
           "Protected Well"
          ],
          [
           "Makueni",
           "Makueni",
           "Protected Well"
          ],
          [
           "Kakamega",
           "Butere",
           "Protected Well"
          ],
          [
           "Busia",
           "Budalangi",
           "Undefined Well"
          ],
          [
           "Kisumu",
           "Kisumu East",
           "Borehole/Tubewell"
          ],
          [
           "Siaya",
           "Ugunja",
           "Protected Well"
          ],
          [
           "Busia",
           "Butula",
           "Protected Well"
          ],
          [
           "Kakamega",
           "Ikolomani",
           "Protected Well"
          ],
          [
           "Homa Bay",
           "Mbita",
           "Protected Well"
          ],
          [
           "Homa Bay",
           "Kabondo Kasipul",
           "Protected Well"
          ],
          [
           "Vihiga",
           "Vihiga",
           "Protected Well"
          ],
          [
           "Kakamega",
           "Butere",
           "Protected Well"
          ],
          [
           "Kakamega",
           "Butere",
           "Protected Well"
          ],
          [
           "Siaya",
           "Ugenya",
           "Protected Well"
          ],
          [
           "Embu",
           "Mbeere South",
           "Rainwater Harvesting"
          ],
          [
           "Busia",
           "Nambale",
           "Protected Well"
          ],
          [
           "Nyamira",
           "Kitutu Masaba",
           "Protected Well"
          ],
          [
           "Makueni",
           "Kilome",
           "Undefined Well"
          ],
          [
           "Busia",
           "Funyula",
           "Piped Water"
          ],
          [
           "Kakamega",
           "Mumias East",
           "Protected Well"
          ],
          [
           "Bungoma",
           "Likuyani",
           "Protected Well"
          ],
          [
           "Bungoma",
           "Bumula",
           "Protected Well"
          ],
          [
           "Kakamega",
           "Shinyalu",
           "Protected Well"
          ],
          [
           "Bungoma",
           "Likuyani",
           "Protected Well"
          ],
          [
           "Busia",
           "Butula",
           "Protected Well"
          ],
          [
           "Siaya",
           "Ugenya",
           "Protected Well"
          ],
          [
           "Busia",
           "Teso South",
           "Undefined Well"
          ],
          [
           "Makueni",
           "Makueni",
           "Sand or Sub-surface Dam"
          ],
          [
           "Kakamega",
           "Khwisero",
           "Protected Well"
          ],
          [
           "Busia",
           "Teso South",
           "Protected Well"
          ],
          [
           "Busia",
           "Teso South",
           "Protected Well"
          ],
          [
           "Kakamega",
           "Butere",
           "Protected Well"
          ],
          [
           "Kakamega",
           "Shinyalu",
           "Protected Well"
          ],
          [
           "Busia",
           "Butula",
           "Protected Well"
          ],
          [
           "Kisumu",
           "Nyando",
           "Protected Well"
          ],
          [
           "Kisumu",
           "Nyando",
           "Protected Well"
          ],
          [
           "Nandi",
           "Aldai",
           "Protected Well"
          ],
          [
           "Kakamega",
           "Shinyalu",
           "Protected Well"
          ],
          [
           "Busia",
           "Budalangi",
           "Borehole/Tubewell"
          ],
          [
           "Kiambu",
           "Kikuyu",
           "Borehole/Tubewell"
          ],
          [
           "Busia",
           "Nambale",
           "Protected Well"
          ],
          [
           "Busia",
           "Funyula",
           "Rainwater Harvesting"
          ],
          [
           "Migori",
           "Suna East",
           "Undefined Well"
          ],
          [
           "Kakamega",
           "Navakholo",
           "Borehole/Tubewell"
          ],
          [
           "Kakamega",
           "Ikolomani",
           "Borehole/Tubewell"
          ],
          [
           "Siaya",
           "Gem",
           "Undefined Well"
          ],
          [
           "Bungoma",
           "Tongaren",
           "Protected Well"
          ],
          [
           "Busia",
           "Teso South",
           "Protected Well"
          ],
          [
           "Kakamega",
           "Matungu",
           "Undefined Well"
          ],
          [
           "Bungoma",
           "Kanduyi",
           "Protected Well"
          ],
          [
           "Vihiga",
           "Sabatia",
           "Protected Well"
          ],
          [
           "Migori",
           "Suna West",
           "Undefined Well"
          ],
          [
           "Samburu",
           "Samburu East",
           "Protected Well"
          ],
          [
           "Siaya",
           "Alego Usonga",
           "Protected Well"
          ],
          [
           "Siaya",
           "Ugunja",
           "Undefined Well"
          ],
          [
           "Kisumu",
           "Kisumu East",
           "Piped Water"
          ],
          [
           "Busia",
           "Butula",
           "Protected Well"
          ],
          [
           "Kakamega",
           "Butere",
           "Borehole/Tubewell"
          ],
          [
           "Kakamega",
           "Matungu",
           "Protected Well"
          ],
          [
           "Bungoma",
           "Tongaren",
           "Protected Well"
          ],
          [
           "Kakamega",
           "Malava",
           "Protected Well"
          ],
          [
           "Busia",
           "Teso North",
           "Borehole/Tubewell"
          ],
          [
           "Homa Bay",
           "Kabondo Kasipul",
           "Protected Well"
          ],
          [
           "Busia",
           "Funyula",
           "Borehole/Tubewell"
          ],
          [
           "Kakamega",
           "Butere",
           "Protected Well"
          ],
          [
           "Vihiga",
           "Hamisi",
           "Protected Well"
          ],
          [
           "Siaya",
           "Ugenya",
           "Undefined Well"
          ],
          [
           "Migori",
           "Rongo",
           "Borehole/Tubewell"
          ],
          [
           "Kakamega",
           "Navakholo",
           "Protected Well"
          ],
          [
           "Trans Nzoia",
           "Kiminini",
           "Protected Well"
          ],
          [
           "Bungoma",
           "Likuyani",
           "Undefined Well"
          ],
          [
           "Kakamega",
           "Navakholo",
           "Protected Well"
          ],
          [
           "Siaya",
           "Gem",
           "Protected Well"
          ],
          [
           "Kakamega",
           "Mumias East",
           "Protected Well"
          ],
          [
           "Kakamega",
           "Butere",
           "Borehole/Tubewell"
          ],
          [
           "Busia",
           "Matayos",
           "Protected Well"
          ],
          [
           "Busia",
           "Teso South",
           "Protected Well"
          ],
          [
           "Kisumu",
           "Nyando",
           "Borehole/Tubewell"
          ],
          [
           "Kisumu",
           "Nyando",
           "Protected Well"
          ],
          [
           "Vihiga",
           "Sabatia",
           "Borehole/Tubewell"
          ],
          [
           "Trans Nzoia",
           "Cherangany",
           "Protected Well"
          ],
          [
           "Siaya",
           "Ugenya",
           "Undefined Well"
          ],
          [
           "Kakamega",
           "Mumias West",
           "Undefined Well"
          ],
          [
           "Migori",
           "Uriri",
           "Protected Well"
          ],
          [
           "Busia",
           "Teso South",
           "Borehole/Tubewell"
          ],
          [
           "Kakamega",
           "Matungu",
           "Protected Well"
          ],
          [
           "Kakamega",
           "Butere",
           "Protected Well"
          ],
          [
           "Bungoma",
           "Likuyani",
           "Protected Well"
          ],
          [
           "Makueni",
           "Mbooni",
           "Sand or Sub-surface Dam"
          ],
          [
           "Makueni",
           "Kibwezi West",
           "Sand or Sub-surface Dam"
          ],
          [
           "Trans Nzoia",
           "Cherangany",
           "Protected Well"
          ],
          [
           "Kisumu",
           "Nyando",
           "Undefined Well"
          ],
          [
           "Busia",
           "Butula",
           "Protected Well"
          ],
          [
           "Kakamega",
           "Khwisero",
           "Protected Well"
          ],
          [
           "Kisumu",
           "Nyakach",
           "Undefined Well"
          ],
          [
           "Kajiado",
           "Kajiado South",
           "Piped Water"
          ],
          [
           "Kakamega",
           "Matungu",
           "Protected Well"
          ],
          [
           "Kakamega",
           "Lugari",
           "Protected Well"
          ],
          [
           "Busia",
           "Budalangi",
           "Borehole/Tubewell"
          ],
          [
           "Siaya",
           "Gem",
           "Protected Well"
          ],
          [
           "Bungoma",
           "Likuyani",
           "Protected Well"
          ],
          [
           "Migori",
           "Kuria West",
           "Protected Well"
          ],
          [
           "Kakamega",
           "Navakholo",
           "Borehole/Tubewell"
          ],
          [
           "Migori",
           "Rongo",
           "Protected Well"
          ],
          [
           "Vihiga",
           "Hamisi",
           "Protected Well"
          ],
          [
           "Kakamega",
           "Ikolomani",
           "Protected Well"
          ],
          [
           "Siaya",
           "Gem",
           "Protected Well"
          ],
          [
           "Busia",
           "Butula",
           "Protected Well"
          ],
          [
           "Migori",
           "Uriri",
           "Protected Well"
          ],
          [
           "Busia",
           "Nambale",
           "Protected Well"
          ],
          [
           "Embu",
           "Runyenjes",
           "Protected Well"
          ],
          [
           "Kisumu",
           "Nyakach",
           "Borehole/Tubewell"
          ],
          [
           "Nyamira",
           "Kitutu Masaba",
           "Protected Well"
          ],
          [
           "Bungoma",
           "Likuyani",
           "Protected Well"
          ],
          [
           "Vihiga",
           "Emuhaya",
           "Protected Well"
          ],
          [
           "Homa Bay",
           "Mbita",
           "Borehole/Tubewell"
          ],
          [
           "Busia",
           "Butula",
           "Protected Well"
          ],
          [
           "Kakamega",
           "Lugari",
           "Protected Well"
          ],
          [
           "Vihiga",
           "Emuhaya",
           "Protected Well"
          ],
          [
           "Kakamega",
           "Khwisero",
           "Protected Well"
          ],
          [
           "Kakamega",
           "Malava",
           "Protected Well"
          ],
          [
           "Busia",
           "Butula",
           "Protected Well"
          ],
          [
           "Vihiga",
           "Vihiga",
           "Protected Well"
          ],
          [
           "Kakamega",
           "Matungu",
           "Undefined Well"
          ],
          [
           "Siaya",
           "Alego Usonga",
           "Undefined Well"
          ],
          [
           "Vihiga",
           "Vihiga",
           "Protected Well"
          ],
          [
           "Nyamira",
           "Kitutu Masaba",
           "Borehole/Tubewell"
          ],
          [
           "Kiambu",
           "Ruiru",
           "Borehole/Tubewell"
          ],
          [
           "Busia",
           "Butula",
           "Protected Well"
          ],
          [
           "Kakamega",
           "Navakholo",
           "Protected Well"
          ],
          [
           "Uasin Gishu",
           "Soy",
           "Protected Well"
          ],
          [
           "Migori",
           "Awendo",
           "Protected Well"
          ],
          [
           "Siaya",
           "Ugunja",
           "Protected Well"
          ],
          [
           "Siaya",
           "Gem",
           "Protected Well"
          ],
          [
           "Siaya",
           "Gem",
           "Protected Well"
          ],
          [
           "Nyamira",
           "Kitutu Masaba",
           "Protected Well"
          ],
          [
           "Kiambu",
           "Lari",
           "Borehole/Tubewell"
          ],
          [
           "Vihiga",
           "Vihiga",
           "Protected Well"
          ],
          [
           "Busia",
           "Matayos",
           "Protected Well"
          ],
          [
           "Kisumu",
           "Muhoroni",
           "Protected Well"
          ],
          [
           "Bungoma",
           "Tongaren",
           "Protected Well"
          ],
          [
           "Busia",
           "Butula",
           "Protected Well"
          ],
          [
           "Kiambu",
           "Ruiru",
           "Piped Water"
          ],
          [
           "Bungoma",
           "Bumula",
           "Protected Well"
          ],
          [
           "Kisumu",
           "Nyando",
           "Protected Well"
          ],
          [
           "Kakamega",
           "Butere",
           "Protected Well"
          ],
          [
           "Homa Bay",
           "Homa Bay Town",
           "Borehole/Tubewell"
          ],
          [
           "Nyamira",
           "North Mugirango",
           "Protected Well"
          ],
          [
           "Busia",
           "Budalangi",
           "Protected Well"
          ],
          [
           "Kakamega",
           "Shinyalu",
           "Protected Well"
          ],
          [
           "Kakamega",
           "Lugari",
           "Protected Well"
          ],
          [
           "Kakamega",
           "Lurambi",
           "Protected Well"
          ],
          [
           "Garissa",
           "Daadab",
           "Borehole/Tubewell"
          ],
          [
           "Kiambu",
           "Kiambaa",
           "Borehole/Tubewell"
          ],
          [
           "Vihiga",
           "Vihiga",
           "Protected Well"
          ],
          [
           "Kakamega",
           "Shinyalu",
           "Protected Well"
          ],
          [
           "Kakamega",
           "Lurambi",
           "Protected Well"
          ],
          [
           "Kakamega",
           "Lurambi",
           "Protected Well"
          ],
          [
           "Makueni",
           "Makueni",
           "Sand or Sub-surface Dam"
          ],
          [
           "Kakamega",
           "Malava",
           "Protected Well"
          ],
          [
           "Embu",
           "Runyenjes",
           "Protected Well"
          ],
          [
           "Busia",
           "Butula",
           "Protected Well"
          ],
          [
           "Vihiga",
           "Hamisi",
           "Protected Well"
          ],
          [
           "Homa Bay",
           "Suba",
           "Borehole/Tubewell"
          ],
          [
           "Vihiga",
           "Hamisi",
           "Protected Well"
          ],
          [
           "Bungoma",
           "Lugari",
           "Protected Well"
          ],
          [
           "Kakamega",
           "Lurambi",
           "Borehole/Tubewell"
          ],
          [
           "Kakamega",
           "Malava",
           "Protected Well"
          ],
          [
           "Homa Bay",
           "Ndhiwa",
           "Borehole/Tubewell"
          ],
          [
           "Migori",
           "Nyatike",
           "Borehole/Tubewell"
          ],
          [
           "Bungoma",
           "Webuye East",
           "Protected Well"
          ],
          [
           "Kisumu",
           "Nyakach",
           "Undefined Well"
          ],
          [
           "Busia",
           "Butula",
           "Protected Well"
          ],
          [
           "Kakamega",
           "Shinyalu",
           "Protected Well"
          ],
          [
           "Bungoma",
           "Tongaren",
           "Protected Well"
          ],
          [
           "Nyamira",
           "Borabu",
           "Sand or Sub-surface Dam"
          ],
          [
           "Makueni",
           "Kaiti",
           "Sand or Sub-surface Dam"
          ],
          [
           "Embu",
           "Mbeere South",
           "Rainwater Harvesting"
          ],
          [
           "Kisumu",
           "Nyando",
           "Protected Well"
          ],
          [
           "Busia",
           "Budalangi",
           "Protected Well"
          ],
          [
           "Kakamega",
           "Shinyalu",
           "Protected Well"
          ],
          [
           "Kakamega",
           "Lurambi",
           "Protected Well"
          ],
          [
           "Kakamega",
           "Lugari",
           "Protected Well"
          ],
          [
           "Nyamira",
           "West Mugirango",
           "Protected Well"
          ],
          [
           "Kiambu",
           "Ruiru",
           "Piped Water"
          ],
          [
           "Nyamira",
           "West Mugirango",
           "Protected Well"
          ],
          [
           "Kisumu",
           "Nyando",
           "Borehole/Tubewell"
          ],
          [
           "Kisumu",
           "Kisumu Central",
           "Piped Water"
          ],
          [
           "Bungoma",
           "Lugari",
           "Protected Well"
          ],
          [
           "Busia",
           "Funyula",
           "Borehole/Tubewell"
          ],
          [
           "Kakamega",
           "Matungu",
           "Protected Well"
          ],
          [
           "Bungoma",
           "Tongaren",
           "Protected Well"
          ],
          [
           "Siaya",
           "Gem",
           "Protected Well"
          ],
          [
           "Kakamega",
           "Lurambi",
           "Protected Well"
          ],
          [
           "Kakamega",
           "Lugari",
           "Borehole/Tubewell"
          ],
          [
           "Kakamega",
           "Malava",
           "Protected Well"
          ],
          [
           "Busia",
           "Nambale",
           "Protected Well"
          ],
          [
           "Siaya",
           "Alego Usonga",
           "Protected Well"
          ],
          [
           "Vihiga",
           "Emuhaya",
           "Protected Well"
          ],
          [
           "Bungoma",
           "Tongaren",
           "Protected Well"
          ],
          [
           "Kakamega",
           "Butere",
           "Protected Well"
          ],
          [
           "Nyamira",
           "West Mugirango",
           "Protected Well"
          ],
          [
           "Vihiga",
           "Sabatia",
           "Borehole/Tubewell"
          ],
          [
           "Siaya",
           "Ugunja",
           "Undefined Well"
          ],
          [
           "Bungoma",
           "Tongaren",
           "Protected Well"
          ],
          [
           "Siaya",
           "Ugunja",
           "Protected Well"
          ],
          [
           "Kakamega",
           "Butere",
           "Protected Well"
          ],
          [
           "Kakamega",
           "Khwisero",
           "Protected Well"
          ],
          [
           "Kakamega",
           "Matungu",
           "Protected Well"
          ],
          [
           "Makueni",
           "Makueni",
           "Undefined Well"
          ],
          [
           "Siaya",
           "Alego Usonga",
           "Undefined Well"
          ],
          [
           "Kajiado",
           "Kajiado South",
           "Piped Water"
          ],
          [
           "Nyamira",
           "Kitutu Masaba",
           "Undefined Well"
          ],
          [
           "Kisumu",
           "Kisumu East",
           "Borehole/Tubewell"
          ],
          [
           "Kakamega",
           "Shinyalu",
           "Protected Well"
          ],
          [
           "Baringo",
           "Tiaty",
           "Undefined Well"
          ],
          [
           "Vihiga",
           "Hamisi",
           "Protected Well"
          ],
          [
           "Vihiga",
           "Vihiga",
           "Protected Well"
          ],
          [
           "Vihiga",
           "Hamisi",
           "Protected Well"
          ],
          [
           "Makueni",
           "Makueni",
           "Sand or Sub-surface Dam"
          ],
          [
           "Makueni",
           "Makueni",
           "Sand or Sub-surface Dam"
          ],
          [
           "Kisumu",
           "Nyando",
           "Piped Water"
          ],
          [
           "Vihiga",
           "Hamisi",
           "Protected Well"
          ],
          [
           "Busia",
           "Teso South",
           "Protected Well"
          ],
          [
           "Kisumu",
           "Kisumu Central",
           "Piped Water"
          ],
          [
           "Nyamira",
           "West Mugirango",
           "Protected Well"
          ],
          [
           "Busia",
           "Funyula",
           "Borehole/Tubewell"
          ],
          [
           "Siaya",
           "Ugunja",
           "Protected Well"
          ],
          [
           "Kakamega",
           "Matungu",
           "Protected Well"
          ],
          [
           "Homa Bay",
           "Rangwe",
           "Protected Well"
          ],
          [
           "Busia",
           "Butula",
           "Protected Well"
          ],
          [
           "Siaya",
           "Alego Usonga",
           "Borehole/Tubewell"
          ],
          [
           "Siaya",
           "Gem",
           "Protected Well"
          ],
          [
           "Siaya",
           "Ugunja",
           "Protected Well"
          ],
          [
           "Bungoma",
           "Lugari",
           "Protected Well"
          ],
          [
           "Makueni",
           "Kilome",
           "Sand or Sub-surface Dam"
          ],
          [
           "Kakamega",
           "Lurambi",
           "Protected Well"
          ],
          [
           "Kakamega",
           "Butere",
           "Borehole/Tubewell"
          ],
          [
           "Garissa",
           "Daadab",
           "Borehole/Tubewell"
          ],
          [
           "Busia",
           "Butula",
           "Protected Well"
          ],
          [
           "Siaya",
           "Gem",
           "Protected Well"
          ],
          [
           "Kakamega",
           "Mumias East",
           "Protected Well"
          ],
          [
           "Kakamega",
           "Lurambi",
           "Borehole/Tubewell"
          ],
          [
           "Kisumu",
           "Kisumu East",
           "Protected Well"
          ],
          [
           "Busia",
           "Funyula",
           "Borehole/Tubewell"
          ],
          [
           "Makueni",
           "Kilome",
           "Sand or Sub-surface Dam"
          ],
          [
           "Homa Bay",
           "Ndhiwa",
           "Protected Well"
          ],
          [
           "Siaya",
           "Gem",
           "Undefined Well"
          ],
          [
           "Kakamega",
           "Mumias West",
           "Undefined Well"
          ],
          [
           "Busia",
           "Butula",
           "Protected Well"
          ],
          [
           "Vihiga",
           "Emuhaya",
           "Protected Well"
          ],
          [
           "Kakamega",
           "Shinyalu",
           "Protected Well"
          ],
          [
           "Kakamega",
           "Mumias West",
           "Protected Well"
          ],
          [
           "Kakamega",
           "Ikolomani",
           "Protected Well"
          ],
          [
           "Kakamega",
           "Butere",
           "Protected Well"
          ],
          [
           "Busia",
           "Butula",
           "Protected Well"
          ],
          [
           "Kakamega",
           "Khwisero",
           "Protected Well"
          ],
          [
           "Samburu",
           "Samburu North",
           "Rainwater Harvesting"
          ],
          [
           "Vihiga",
           "Emuhaya",
           "Protected Well"
          ],
          [
           "Kakamega",
           "Butere",
           "Borehole/Tubewell"
          ],
          [
           "Makueni",
           "Kibwezi East",
           "Undefined Well"
          ],
          [
           "Kisumu",
           "Nyando",
           "Protected Well"
          ],
          [
           "Kakamega",
           "Shinyalu",
           "Protected Well"
          ],
          [
           "Kakamega",
           "Mumias West",
           "Undefined Well"
          ],
          [
           "Busia",
           "Budalangi",
           "Undefined Well"
          ],
          [
           "Busia",
           "Matayos",
           "Protected Well"
          ],
          [
           "Nyamira",
           "Kitutu Masaba",
           "Protected Well"
          ],
          [
           "Siaya",
           "Ugenya",
           "Borehole/Tubewell"
          ],
          [
           "Siaya",
           "Gem",
           "Protected Well"
          ],
          [
           "Bungoma",
           "Kanduyi",
           "Protected Well"
          ],
          [
           "Siaya",
           "Ugunja",
           "Undefined Well"
          ],
          [
           "Vihiga",
           "Hamisi",
           "Protected Well"
          ],
          [
           "Migori",
           "Uriri",
           "Protected Well"
          ],
          [
           "Kisumu",
           "Kisumu West",
           "Protected Well"
          ],
          [
           "Busia",
           "Budalangi",
           "Undefined Well"
          ],
          [
           "Siaya",
           "Gem",
           "Protected Well"
          ],
          [
           "Busia",
           "Nambale",
           "Protected Well"
          ],
          [
           "Busia",
           "Nambale",
           "Protected Well"
          ],
          [
           "Migori",
           "Rongo",
           "Protected Well"
          ],
          [
           "Bungoma",
           "Tongaren",
           "Protected Well"
          ],
          [
           "Kakamega",
           "Mumias West",
           "Protected Well"
          ],
          [
           "Vihiga",
           "Hamisi",
           "Protected Well"
          ],
          [
           "Embu",
           "Runyenjes",
           "Protected Well"
          ],
          [
           "Homa Bay",
           "Ndhiwa",
           "Borehole/Tubewell"
          ],
          [
           "Kakamega",
           "Mumias West",
           "Undefined Well"
          ],
          [
           "Embu",
           "Mbeere South",
           "Rainwater Harvesting"
          ],
          [
           "Kakamega",
           "Khwisero",
           "Protected Well"
          ],
          [
           "Vihiga",
           "Vihiga",
           "Protected Well"
          ],
          [
           "Busia",
           "Budalangi",
           "Undefined Well"
          ],
          [
           "Kakamega",
           "Shinyalu",
           "Protected Well"
          ],
          [
           "Kakamega",
           "Malava",
           "Protected Well"
          ],
          [
           "Busia",
           "Funyula",
           "Borehole/Tubewell"
          ],
          [
           "Kakamega",
           "Lurambi",
           "Protected Well"
          ],
          [
           "Makueni",
           "Kibwezi West",
           "Protected Spring"
          ],
          [
           "Bungoma",
           "Kanduyi",
           "Protected Well"
          ],
          [
           "Migori",
           "Kuria East",
           "Protected Well"
          ],
          [
           "Kisumu",
           "Seme",
           "Borehole/Tubewell"
          ],
          [
           "Makueni",
           "Mbooni",
           "Protected Well"
          ],
          [
           "Bungoma",
           "Webute West",
           "Protected Well"
          ],
          [
           "Migori",
           "Uriri",
           "Protected Well"
          ],
          [
           "Siaya",
           "Gem",
           "Protected Well"
          ],
          [
           "Embu",
           "Runyenjes",
           "Rainwater Harvesting"
          ],
          [
           "Busia",
           "Teso South",
           "Protected Well"
          ],
          [
           "Vihiga",
           "Hamisi",
           "Protected Well"
          ],
          [
           "Busia",
           "Teso South",
           "Protected Well"
          ],
          [
           "Kakamega",
           "Mumias East",
           "Protected Well"
          ],
          [
           "Busia",
           "Butula",
           "Protected Well"
          ],
          [
           "Embu",
           "Manyatta",
           "Protected Well"
          ],
          [
           "Kisumu",
           "Nyando",
           "Protected Well"
          ],
          [
           "Homa Bay",
           "Rangwe",
           "Protected Well"
          ],
          [
           "Kakamega",
           "Lugari",
           "Protected Well"
          ],
          [
           "Busia",
           "Teso South",
           "Protected Well"
          ],
          [
           "Migori",
           "Kuria West",
           "Protected Well"
          ],
          [
           "Kakamega",
           "Khwisero",
           "Protected Well"
          ],
          [
           "Kisumu",
           "Kisumu East",
           "Borehole/Tubewell"
          ],
          [
           "Makueni",
           "Kilome",
           "Borehole/Tubewell"
          ],
          [
           "Vihiga",
           "Vihiga",
           "Protected Well"
          ],
          [
           "Busia",
           "Butula",
           "Protected Well"
          ],
          [
           "Kakamega",
           "Khwisero",
           "Protected Well"
          ],
          [
           "Nyamira",
           "Kitutu Masaba",
           "Protected Well"
          ],
          [
           "Vihiga",
           "Sabatia",
           "Protected Well"
          ],
          [
           "Uasin Gishu",
           "Soy",
           "Protected Well"
          ],
          [
           "Makueni",
           "Mbooni",
           "Protected Well"
          ],
          [
           "Vihiga",
           "Hamisi",
           "Protected Well"
          ],
          [
           "Kisumu",
           "Kisumu East",
           "Piped Water"
          ],
          [
           "Nyamira",
           "West Mugirango",
           "Protected Well"
          ],
          [
           "Kakamega",
           "Shinyalu",
           "Protected Well"
          ],
          [
           "Makueni",
           "Kaiti",
           "Protected Well"
          ],
          [
           "Kakamega",
           "Khwisero",
           "Protected Well"
          ],
          [
           "Kakamega",
           "Khwisero",
           "Protected Well"
          ],
          [
           "Makueni",
           "Kaiti",
           "Sand or Sub-surface Dam"
          ],
          [
           "Vihiga",
           "Vihiga",
           "Protected Well"
          ],
          [
           "Bungoma",
           "Kimilili",
           "Protected Well"
          ],
          [
           "Homa Bay",
           "Kasipul",
           "Protected Well"
          ],
          [
           "Makueni",
           "Kibwezi East",
           "Undefined Well"
          ],
          [
           "Kakamega",
           "Butere",
           "Protected Well"
          ],
          [
           "Kakamega",
           "Mumias West",
           "Undefined Well"
          ],
          [
           "Busia",
           "Funyula",
           "Borehole/Tubewell"
          ],
          [
           "Trans Nzoia",
           "Kiminini",
           "Protected Well"
          ],
          [
           "Busia",
           "Nambale",
           "Undefined Well"
          ],
          [
           "Kisumu",
           "Kisumu East",
           "Protected Well"
          ],
          [
           "Kakamega",
           "Ikolomani",
           "Protected Well"
          ],
          [
           "Nyamira",
           "Borabu",
           "Protected Well"
          ],
          [
           "Bungoma",
           "Webuye East",
           "Protected Well"
          ],
          [
           "Kakamega",
           "Khwisero",
           "Protected Well"
          ],
          [
           "Bungoma",
           "Lugari",
           "Protected Well"
          ],
          [
           "Bungoma",
           "Bumula",
           "Protected Well"
          ],
          [
           "Busia",
           "Matayos",
           "Borehole/Tubewell"
          ],
          [
           "Busia",
           "Budalangi",
           "Protected Well"
          ],
          [
           "Kakamega",
           "Malava",
           "Protected Well"
          ],
          [
           "Kajiado",
           "Kajiado South",
           "Piped Water"
          ],
          [
           "Kakamega",
           "Shinyalu",
           "Protected Well"
          ],
          [
           "Busia",
           "Butula",
           "Protected Well"
          ],
          [
           "Homa Bay",
           "Suba",
           "Borehole/Tubewell"
          ],
          [
           "Kakamega",
           "Navakholo",
           "Protected Well"
          ],
          [
           "Kisii",
           "Nyaribari Chache",
           "Protected Well"
          ],
          [
           "Migori",
           "Rongo",
           "Protected Well"
          ],
          [
           "Homa Bay",
           "Homa Bay Town",
           "Borehole/Tubewell"
          ],
          [
           "Busia",
           "Butula",
           "Protected Well"
          ],
          [
           "Kiambu",
           "Juja",
           "Borehole/Tubewell"
          ],
          [
           "Makueni",
           "Mbooni",
           "Protected Well"
          ],
          [
           "Homa Bay",
           "Homa Bay Town",
           "Piped Water"
          ],
          [
           "Samburu",
           "Samburu West",
           "Piped Water"
          ],
          [
           "Kisii",
           "Nyaribari Masaba",
           "Protected Well"
          ],
          [
           "Kakamega",
           "Mumias East",
           "Protected Well"
          ],
          [
           "Kakamega",
           "Malava",
           "Protected Well"
          ],
          [
           "Kisumu",
           "Nyando",
           "Protected Well"
          ],
          [
           "Busia",
           "Teso South",
           "Protected Well"
          ],
          [
           "Siaya",
           "Gem",
           "Protected Well"
          ],
          [
           "Makueni",
           "Kaiti",
           "Sand or Sub-surface Dam"
          ],
          [
           "Vihiga",
           "Sabatia",
           "Protected Well"
          ],
          [
           "Migori",
           "Suna East",
           "Protected Well"
          ],
          [
           "Busia",
           "Budalangi",
           "Borehole/Tubewell"
          ],
          [
           "Kakamega",
           "Lugari",
           "Protected Well"
          ],
          [
           "Makueni",
           "Mbooni",
           "Borehole/Tubewell"
          ],
          [
           "Kakamega",
           "Matungu",
           "Protected Well"
          ],
          [
           "Trans Nzoia",
           "Kiminini",
           "Protected Well"
          ],
          [
           "Kakamega",
           "Navakholo",
           "Protected Well"
          ],
          [
           "Siaya",
           "Ugunja",
           "Protected Well"
          ],
          [
           "Makueni",
           "Kilome",
           "Sand or Sub-surface Dam"
          ],
          [
           "Siaya",
           "Bondo",
           "Undefined Well"
          ],
          [
           "Embu",
           "Mbeere South",
           "Borehole/Tubewell"
          ],
          [
           "Migori",
           "Kuria East",
           "Protected Well"
          ],
          [
           "Busia",
           "Butula",
           "Protected Well"
          ],
          [
           "Kakamega",
           "Malava",
           "Protected Well"
          ],
          [
           "Kisumu",
           "Nyakach",
           "Undefined Well"
          ],
          [
           "Bungoma",
           "Likuyani",
           "Protected Well"
          ],
          [
           "Makueni",
           "Kibwezi West",
           "Sand or Sub-surface Dam"
          ],
          [
           "Nyamira",
           "Kitutu Masaba",
           "Protected Well"
          ],
          [
           "Bungoma",
           "Lugari",
           "Protected Well"
          ],
          [
           "Siaya",
           "Ugenya",
           "Protected Well"
          ],
          [
           "Kakamega",
           "Khwisero",
           "Undefined Well"
          ],
          [
           "Siaya",
           "Ugenya",
           "Protected Well"
          ],
          [
           "Kiambu",
           "Kiambaa",
           "Piped Water"
          ],
          [
           "Kakamega",
           "Butere",
           "Protected Well"
          ],
          [
           "Embu",
           "Mbeere South",
           "Rainwater Harvesting"
          ],
          [
           "Bungoma",
           "Likuyani",
           "Undefined Well"
          ],
          [
           "Busia",
           "Nambale",
           "Borehole/Tubewell"
          ],
          [
           "Kisumu",
           "Nyando",
           "Protected Well"
          ],
          [
           "Bungoma",
           "Likuyani",
           "Protected Well"
          ],
          [
           "Busia",
           "Butula",
           "Protected Well"
          ],
          [
           "Vihiga",
           "Hamisi",
           "Protected Well"
          ],
          [
           "Embu",
           "Mbeere South",
           "Borehole/Tubewell"
          ],
          [
           "Bungoma",
           "Lugari",
           "Protected Well"
          ],
          [
           "Kakamega",
           "Ikolomani",
           "Protected Well"
          ],
          [
           "Kakamega",
           "Malava",
           "Protected Well"
          ],
          [
           "Busia",
           "Funyula",
           "Borehole/Tubewell"
          ],
          [
           "Busia",
           "Matayos",
           "Protected Well"
          ],
          [
           "Kakamega",
           "Khwisero",
           "Protected Well"
          ],
          [
           "Kakamega",
           "Shinyalu",
           "Protected Well"
          ],
          [
           "Makueni",
           "Makueni",
           "Sand or Sub-surface Dam"
          ],
          [
           "Siaya",
           "Ugunja",
           "Protected Well"
          ],
          [
           "Bungoma",
           "Kanduyi",
           "Protected Well"
          ],
          [
           "Trans Nzoia",
           "Cherangany",
           "Protected Well"
          ],
          [
           "Bungoma",
           "Tongaren",
           "Protected Well"
          ],
          [
           "Bungoma",
           "Lugari",
           "Protected Well"
          ],
          [
           "Kakamega",
           "Matungu",
           "Protected Well"
          ],
          [
           "Kakamega",
           "Butere",
           "Protected Well"
          ],
          [
           "Nyamira",
           "Kitutu Masaba",
           "Protected Well"
          ],
          [
           "Makueni",
           "Mbooni",
           "Sand or Sub-surface Dam"
          ],
          [
           "Makueni",
           "Makueni",
           "Sand or Sub-surface Dam"
          ],
          [
           "Kisumu",
           "Kisumu Central",
           "Piped Water"
          ],
          [
           "Makueni",
           "Kilome",
           "Sand or Sub-surface Dam"
          ],
          [
           "Embu",
           "Mbeere South",
           "Rainwater Harvesting"
          ],
          [
           "Makueni",
           "Makueni",
           "Sand or Sub-surface Dam"
          ],
          [
           "Kisumu",
           "Nyando",
           "Protected Well"
          ],
          [
           "Nyamira",
           "North Mugirango",
           "Protected Well"
          ],
          [
           "Makueni",
           "Kilome",
           "Borehole/Tubewell"
          ],
          [
           "Kakamega",
           "Khwisero",
           "Protected Well"
          ],
          [
           "Nyamira",
           "West Mugirango",
           "Protected Well"
          ],
          [
           "Migori",
           "Suna East",
           "Borehole/Tubewell"
          ],
          [
           "Siaya",
           "Gem",
           "Protected Well"
          ],
          [
           "Kakamega",
           "Mumias East",
           "Protected Well"
          ],
          [
           "Busia",
           "Matayos",
           "Protected Well"
          ],
          [
           "Vihiga",
           "Hamisi",
           "Protected Well"
          ],
          [
           "Vihiga",
           "Vihiga",
           "Protected Well"
          ],
          [
           "Siaya",
           "Ugunja",
           "Protected Well"
          ],
          [
           "Marsabit",
           "North Horr",
           "Protected Well"
          ],
          [
           "Trans Nzoia",
           "Kiminini",
           "Protected Well"
          ],
          [
           "Kakamega",
           "Lugari",
           "Protected Well"
          ],
          [
           "Siaya",
           "Gem",
           "Borehole/Tubewell"
          ],
          [
           "Bungoma",
           "Webute West",
           "Protected Well"
          ],
          [
           "Busia",
           "Teso South",
           "Borehole/Tubewell"
          ],
          [
           "Nyamira",
           "Kitutu Masaba",
           "Protected Well"
          ],
          [
           "Busia",
           "Budalangi",
           "Undefined Well"
          ],
          [
           "Kakamega",
           "Malava",
           "Protected Well"
          ],
          [
           "Kakamega",
           "Malava",
           "Protected Well"
          ],
          [
           "Vihiga",
           "Sabatia",
           "Protected Well"
          ],
          [
           "Kakamega",
           "Khwisero",
           "Protected Well"
          ],
          [
           "Siaya",
           "Alego Usonga",
           "Protected Well"
          ],
          [
           "Kisumu",
           "Nyando",
           "Borehole/Tubewell"
          ],
          [
           "Kiambu",
           "Kabete",
           "Borehole/Tubewell"
          ],
          [
           "Embu",
           "Mbeere South",
           "Borehole/Tubewell"
          ],
          [
           "Makueni",
           "Makueni",
           "Undefined Well"
          ],
          [
           "Nyamira",
           "West Mugirango",
           "Protected Well"
          ],
          [
           "Kakamega",
           "Shinyalu",
           "Protected Well"
          ],
          [
           "Busia",
           "Budalangi",
           "Undefined Well"
          ],
          [
           "Busia",
           "Funyula",
           "Borehole/Tubewell"
          ],
          [
           "Kakamega",
           "Khwisero",
           "Protected Well"
          ],
          [
           "Trans Nzoia",
           "Kiminini",
           "Protected Well"
          ],
          [
           "Busia",
           "Butula",
           "Protected Well"
          ],
          [
           "Siaya",
           "Gem",
           "Protected Well"
          ],
          [
           "Siaya",
           "Gem",
           "Protected Well"
          ],
          [
           "Busia",
           "Matayos",
           "Protected Well"
          ],
          [
           "Kakamega",
           "Butere",
           "Protected Well"
          ],
          [
           "Siaya",
           "Gem",
           "Protected Well"
          ],
          [
           "Kakamega",
           "Lurambi",
           "Protected Well"
          ],
          [
           "Kisumu",
           "Muhoroni",
           "Protected Well"
          ],
          [
           "Nyamira",
           "Kitutu Masaba",
           "Protected Well"
          ],
          [
           "Makueni",
           "Kilome",
           "Undefined Well"
          ],
          [
           "Homa Bay",
           "Ndhiwa",
           "Borehole/Tubewell"
          ],
          [
           "Kajiado",
           "Kajiado South",
           "Protected Well"
          ],
          [
           "Kakamega",
           "Shinyalu",
           "Protected Well"
          ],
          [
           "Busia",
           "Teso South",
           "Undefined Well"
          ],
          [
           "Kakamega",
           "Matungu",
           "Protected Well"
          ],
          [
           "Kisumu",
           "Nyando",
           "Protected Well"
          ],
          [
           "Migori",
           "Kuria East",
           "Borehole/Tubewell"
          ],
          [
           "Busia",
           "Teso South",
           "Protected Well"
          ],
          [
           "Kiambu",
           "Kabete",
           "Borehole/Tubewell"
          ],
          [
           "Kakamega",
           "Butere",
           "Protected Well"
          ],
          [
           "Migori",
           "Awendo",
           "Protected Well"
          ],
          [
           "Kakamega",
           "Butere",
           "Protected Well"
          ],
          [
           "Kakamega",
           "Navakholo",
           "Protected Well"
          ],
          [
           "Busia",
           "Budalangi",
           "Undefined Well"
          ],
          [
           "Nyamira",
           "Kitutu Masaba",
           "Protected Well"
          ],
          [
           "Busia",
           "Teso South",
           "Protected Well"
          ],
          [
           "Vihiga",
           "Hamisi",
           "Protected Well"
          ],
          [
           "Busia",
           "Teso South",
           "Protected Well"
          ],
          [
           "Migori",
           "Kuria West",
           "Borehole/Tubewell"
          ],
          [
           "Kakamega",
           "Lurambi",
           "Protected Well"
          ],
          [
           "Trans Nzoia",
           "Kiminini",
           "Protected Well"
          ],
          [
           "Busia",
           "Teso South",
           "Protected Well"
          ],
          [
           "Trans Nzoia",
           "Kiminini",
           "Protected Well"
          ],
          [
           "Kakamega",
           "Khwisero",
           "Protected Well"
          ],
          [
           "Busia",
           "Butula",
           "Protected Well"
          ],
          [
           "Kakamega",
           "Shinyalu",
           "Protected Well"
          ],
          [
           "Kisumu",
           "Nyando",
           "Protected Well"
          ],
          [
           "Busia",
           "Butula",
           "Protected Well"
          ],
          [
           "Migori",
           "Suna East",
           "Protected Well"
          ],
          [
           "Kakamega",
           "Butere",
           "Protected Well"
          ],
          [
           "Kakamega",
           "Malava",
           "Protected Well"
          ],
          [
           "Embu",
           "Runyenjes",
           "Rainwater Harvesting"
          ],
          [
           "Uasin Gishu",
           "Soy",
           "Protected Well"
          ],
          [
           "Bungoma",
           "Kabuchai",
           "Protected Well"
          ],
          [
           "Siaya",
           "Ugenya",
           "Protected Well"
          ],
          [
           "Bungoma",
           "Lugari",
           "Protected Well"
          ],
          [
           "Kisumu",
           "Muhoroni",
           "Rainwater Harvesting"
          ],
          [
           "Trans Nzoia",
           "Cherangany",
           "Protected Well"
          ],
          [
           "Busia",
           "Matayos",
           "Protected Well"
          ],
          [
           "Vihiga",
           "Hamisi",
           "Protected Well"
          ],
          [
           "Busia",
           "Funyula",
           "Borehole/Tubewell"
          ],
          [
           "Kakamega",
           "Ikolomani",
           "Protected Well"
          ],
          [
           "Vihiga",
           "Hamisi",
           "Protected Well"
          ],
          [
           "Migori",
           "Kuria West",
           "Protected Well"
          ],
          [
           "Busia",
           "Teso South",
           "Borehole/Tubewell"
          ],
          [
           "Busia",
           "Funyula",
           "Borehole/Tubewell"
          ],
          [
           "Kakamega",
           "Mumias East",
           "Protected Well"
          ],
          [
           "Busia",
           "Teso South",
           "Protected Well"
          ],
          [
           "Vihiga",
           "Hamisi",
           "Protected Well"
          ],
          [
           "Kakamega",
           "Lurambi",
           "Protected Well"
          ],
          [
           "Siaya",
           "Gem",
           "Undefined Well"
          ],
          [
           "Siaya",
           "Ugenya",
           "Undefined Well"
          ],
          [
           "Siaya",
           "Alego Usonga",
           "Undefined Well"
          ],
          [
           "Kakamega",
           "Mumias West",
           "Undefined Well"
          ],
          [
           "Migori",
           "Kuria East",
           "Borehole/Tubewell"
          ],
          [
           "Bungoma",
           "Lugari",
           "Protected Well"
          ],
          [
           "Makueni",
           "Mbooni",
           "Sand or Sub-surface Dam"
          ],
          [
           "Siaya",
           "Gem",
           "Borehole/Tubewell"
          ],
          [
           "Kakamega",
           "Shinyalu",
           "Protected Well"
          ],
          [
           "Siaya",
           "Gem",
           "Protected Well"
          ],
          [
           "Makueni",
           "Kilome",
           "Sand or Sub-surface Dam"
          ],
          [
           "Migori",
           "Kuria West",
           "Protected Well"
          ],
          [
           "Nyamira",
           "Kitutu Masaba",
           "Protected Well"
          ],
          [
           "Nyamira",
           "West Mugirango",
           "Protected Well"
          ],
          [
           "Kakamega",
           "Mumias West",
           "Protected Well"
          ],
          [
           "Siaya",
           "Alego Usonga",
           "Borehole/Tubewell"
          ],
          [
           "Siaya",
           "Ugenya",
           "Protected Well"
          ],
          [
           "Siaya",
           "Alego Usonga",
           "Undefined Well"
          ],
          [
           "Homa Bay",
           "Suba",
           "Borehole/Tubewell"
          ],
          [
           "Vihiga",
           "Sabatia",
           "Protected Well"
          ],
          [
           "Kakamega",
           "Lurambi",
           "Rainwater Harvesting"
          ],
          [
           "Makueni",
           "Mbooni",
           "Sand or Sub-surface Dam"
          ],
          [
           "Kakamega",
           "Navakholo",
           "Borehole/Tubewell"
          ],
          [
           "Siaya",
           "Ugunja",
           "Protected Well"
          ],
          [
           "Kakamega",
           "Mumias East",
           "Undefined Well"
          ],
          [
           "Makueni",
           "Kaiti",
           "Sand or Sub-surface Dam"
          ],
          [
           "Embu",
           "Mbeere South",
           "Borehole/Tubewell"
          ],
          [
           "Migori",
           "Kuria West",
           "Protected Well"
          ],
          [
           "Makueni",
           "Mbooni",
           "Protected Well"
          ],
          [
           "Makueni",
           "Kilome",
           "Sand or Sub-surface Dam"
          ],
          [
           "Busia",
           "Teso South",
           "Borehole/Tubewell"
          ],
          [
           "Kakamega",
           "Lurambi",
           "Borehole/Tubewell"
          ],
          [
           "Migori",
           "Uriri",
           "Protected Well"
          ],
          [
           "Embu",
           "Manyatta",
           "Rainwater Harvesting"
          ],
          [
           "Siaya",
           "Ugenya",
           "Protected Well"
          ],
          [
           "Busia",
           "Matayos",
           "Protected Well"
          ],
          [
           "Kakamega",
           "Mumias West",
           "Undefined Well"
          ],
          [
           "Busia",
           "Butula",
           "Protected Well"
          ],
          [
           "Busia",
           "Butula",
           "Protected Well"
          ],
          [
           "Siaya",
           "Gem",
           "Protected Well"
          ],
          [
           "Siaya",
           "Gem",
           "Protected Well"
          ],
          [
           "Busia",
           "Butula",
           "Borehole/Tubewell"
          ],
          [
           "Busia",
           "Budalangi",
           "Borehole/Tubewell"
          ],
          [
           "Kakamega",
           "Malava",
           "Protected Well"
          ],
          [
           "Kakamega",
           "Lurambi",
           "Protected Well"
          ],
          [
           "Makueni",
           "Kibwezi West",
           "Sand or Sub-surface Dam"
          ],
          [
           "Homa Bay",
           "Kasipul",
           "Protected Well"
          ],
          [
           "Makueni",
           "Kibwezi East",
           "Sand or Sub-surface Dam"
          ],
          [
           "Kisumu",
           "Nyakach",
           "Undefined Well"
          ],
          [
           "Bungoma",
           "Kanduyi",
           "Protected Well"
          ],
          [
           "Nyamira",
           "Borabu",
           "Protected Well"
          ],
          [
           "Siaya",
           "Gem",
           "Protected Well"
          ],
          [
           "Kakamega",
           "Malava",
           "Protected Well"
          ],
          [
           "Kisumu",
           "Muhoroni",
           "Protected Well"
          ],
          [
           "Vihiga",
           "Hamisi",
           "Protected Well"
          ],
          [
           "Migori",
           "Suna East",
           "Protected Well"
          ],
          [
           "Vihiga",
           "Vihiga",
           "Protected Well"
          ],
          [
           "Makueni",
           "Mbooni",
           "Protected Well"
          ],
          [
           "Busia",
           "Matayos",
           "Protected Well"
          ],
          [
           "Migori",
           "Uriri",
           "Protected Well"
          ],
          [
           "Kakamega",
           "Khwisero",
           "Protected Well"
          ],
          [
           "Kakamega",
           "Butere",
           "Borehole/Tubewell"
          ],
          [
           "Siaya",
           "Gem",
           "Undefined Well"
          ],
          [
           "Makueni",
           "Makueni",
           "Undefined Well"
          ],
          [
           "Kakamega",
           "Butere",
           "Protected Well"
          ],
          [
           "Siaya",
           "Ugenya",
           "Protected Well"
          ],
          [
           "Vihiga",
           "Hamisi",
           "Protected Well"
          ],
          [
           "Siaya",
           "Gem",
           "Protected Well"
          ],
          [
           "Samburu",
           "Samburu North",
           "Piped Water"
          ],
          [
           "Kajiado",
           "Kajiado South",
           "Borehole/Tubewell"
          ],
          [
           "Siaya",
           "Gem",
           "Protected Well"
          ],
          [
           "Vihiga",
           "Vihiga",
           "Protected Well"
          ],
          [
           "Samburu",
           "Samburu West",
           "Protected Well"
          ],
          [
           "Makueni",
           "Makueni",
           "Sand or Sub-surface Dam"
          ],
          [
           "Kakamega",
           "Ikolomani",
           "Protected Well"
          ],
          [
           "Makueni",
           "Kaiti",
           "Undefined Well"
          ],
          [
           "Busia",
           "Budalangi",
           "Undefined Well"
          ],
          [
           "Nyamira",
           "Kitutu Masaba",
           "Protected Well"
          ],
          [
           "Nyamira",
           "Kitutu Masaba",
           "Protected Well"
          ],
          [
           "Siaya",
           "Gem",
           "Protected Well"
          ],
          [
           "Busia",
           "Butula",
           "Protected Well"
          ],
          [
           "Kisii",
           "Nyaribari Chache",
           "Protected Well"
          ],
          [
           "Bungoma",
           "Kabuchai",
           "Protected Well"
          ],
          [
           "Uasin Gishu",
           "Soy",
           "Protected Well"
          ],
          [
           "Busia",
           "Butula",
           "Protected Well"
          ],
          [
           "Kakamega",
           "Shinyalu",
           "Protected Well"
          ],
          [
           "Busia",
           "Butula",
           "Protected Well"
          ],
          [
           "Siaya",
           "Rarieda",
           "Undefined Well"
          ],
          [
           "Bungoma",
           "Webute West",
           "Protected Well"
          ],
          [
           "Kisumu",
           "Seme",
           "Undefined Well"
          ],
          [
           "Siaya",
           "Ugenya",
           "Protected Well"
          ],
          [
           "Makueni",
           "Makueni",
           "Undefined Well"
          ],
          [
           "Embu",
           "Mbeere South",
           "Rainwater Harvesting"
          ],
          [
           "Migori",
           "Awendo",
           "Protected Well"
          ],
          [
           "Siaya",
           "Gem",
           "Protected Well"
          ],
          [
           "Nyamira",
           "Kitutu Masaba",
           "Protected Well"
          ],
          [
           "Busia",
           "Teso South",
           "Protected Well"
          ],
          [
           "Siaya",
           "Alego Usonga",
           "Undefined Well"
          ],
          [
           "Kisumu",
           "Nyando",
           "Protected Well"
          ],
          [
           "Kisumu",
           "Nyando",
           "Protected Well"
          ],
          [
           "Makueni",
           "Kilome",
           "Sand or Sub-surface Dam"
          ],
          [
           "Makueni",
           "Mbooni",
           "Protected Well"
          ],
          [
           "Homa Bay",
           "Kasipul",
           "Protected Well"
          ],
          [
           "Busia",
           "Budalangi",
           "Undefined Well"
          ],
          [
           "Kakamega",
           "Butere",
           "Undefined Well"
          ],
          [
           "Kisumu",
           "Kisumu East",
           "Borehole/Tubewell"
          ],
          [
           "Busia",
           "Butula",
           "Protected Well"
          ],
          [
           "Kakamega",
           "Lurambi",
           "Undefined Well"
          ],
          [
           "Busia",
           "Matayos",
           "Protected Well"
          ],
          [
           "Makueni",
           "Kibwezi East",
           "Sand or Sub-surface Dam"
          ],
          [
           "Kakamega",
           "Malava",
           "Protected Well"
          ],
          [
           "Kakamega",
           "Navakholo",
           "Protected Well"
          ],
          [
           "Makueni",
           "Kibwezi West",
           "Sand or Sub-surface Dam"
          ],
          [
           "Kiambu",
           "Githunguri",
           "Borehole/Tubewell"
          ],
          [
           "Trans Nzoia",
           "Kiminini",
           "Protected Well"
          ],
          [
           "Busia",
           "Teso South",
           "Protected Well"
          ],
          [
           "Kakamega",
           "Butere",
           "Undefined Well"
          ],
          [
           "Kakamega",
           "Butere",
           "Undefined Well"
          ],
          [
           "Kisumu",
           "Nyando",
           "Protected Well"
          ],
          [
           "Kakamega",
           "Khwisero",
           "Protected Well"
          ],
          [
           "Samburu",
           "Samburu East",
           "Borehole/Tubewell"
          ],
          [
           "Busia",
           "Teso North",
           "Protected Well"
          ],
          [
           "Kakamega",
           "Lurambi",
           "Protected Well"
          ],
          [
           "Kakamega",
           "Malava",
           "Protected Well"
          ],
          [
           "Kakamega",
           "Butere",
           "Protected Well"
          ],
          [
           "Kakamega",
           "Butere",
           "Undefined Well"
          ],
          [
           "Nyamira",
           "Kitutu Masaba",
           "Protected Well"
          ],
          [
           "Kakamega",
           "Khwisero",
           "Protected Well"
          ],
          [
           "Vihiga",
           "Emuhaya",
           "Protected Well"
          ],
          [
           "Bungoma",
           "Lugari",
           "Protected Well"
          ],
          [
           "Busia",
           "Funyula",
           "Borehole/Tubewell"
          ],
          [
           "Siaya",
           "Gem",
           "Protected Well"
          ],
          [
           "Busia",
           "Teso South",
           "Protected Well"
          ],
          [
           "Migori",
           "Awendo",
           "Protected Well"
          ],
          [
           "Kisumu",
           "Nyando",
           "Borehole/Tubewell"
          ],
          [
           "Embu",
           "Mbeere South",
           "Rainwater Harvesting"
          ],
          [
           "Embu",
           "Runyenjes",
           "Protected Well"
          ],
          [
           "Busia",
           "Nambale",
           "Borehole/Tubewell"
          ],
          [
           "Kakamega",
           "Matungu",
           "Rainwater Harvesting"
          ],
          [
           "Kakamega",
           "Lurambi",
           "Protected Well"
          ],
          [
           "Kakamega",
           "Butere",
           "Borehole/Tubewell"
          ],
          [
           "Migori",
           "Awendo",
           "Protected Well"
          ],
          [
           "Kisumu",
           "Nyakach",
           "Borehole/Tubewell"
          ],
          [
           "Homa Bay",
           "Homa Bay Town",
           "Protected Well"
          ],
          [
           "Uasin Gishu",
           "Soy",
           "Protected Well"
          ],
          [
           "Kisumu",
           "Nyando",
           "Protected Well"
          ],
          [
           "Kakamega",
           "Butere",
           "Undefined Well"
          ],
          [
           "Busia",
           "Funyula",
           "Protected Well"
          ],
          [
           "Siaya",
           "Ugenya",
           "Protected Well"
          ],
          [
           "Kisumu",
           "Nyando",
           "Protected Well"
          ],
          [
           "Kakamega",
           "Shinyalu",
           "Protected Well"
          ],
          [
           "Kakamega",
           "Butere",
           "Protected Well"
          ],
          [
           "Vihiga",
           "Hamisi",
           "Protected Well"
          ],
          [
           "Kakamega",
           "Mumias West",
           "Undefined Well"
          ],
          [
           "Busia",
           "Teso North",
           "Borehole/Tubewell"
          ],
          [
           "Nyamira",
           "Kitutu Masaba",
           "Protected Well"
          ],
          [
           "Makueni",
           "Mbooni",
           "Sand or Sub-surface Dam"
          ],
          [
           "Makueni",
           "Mbooni",
           "Sand or Sub-surface Dam"
          ],
          [
           "Migori",
           "Kuria West",
           "Undefined Well"
          ],
          [
           "Kakamega",
           "Lugari",
           "Protected Well"
          ],
          [
           "Trans Nzoia",
           "Kiminini",
           "Protected Well"
          ],
          [
           "Kisumu",
           "Kisumu Central",
           "Piped Water"
          ],
          [
           "Makueni",
           "Kilome",
           "Protected Well"
          ],
          [
           "Samburu",
           "Samburu East",
           "Borehole/Tubewell"
          ],
          [
           "Makueni",
           "Kibwezi West",
           "Sand or Sub-surface Dam"
          ],
          [
           "Busia",
           "Butula",
           "Protected Well"
          ],
          [
           "Kakamega",
           "Navakholo",
           "Borehole/Tubewell"
          ],
          [
           "Busia",
           "Funyula",
           "Borehole/Tubewell"
          ],
          [
           "Vihiga",
           "Sabatia",
           "Protected Well"
          ],
          [
           "Kakamega",
           "Khwisero",
           "Protected Well"
          ],
          [
           "Busia",
           "Matayos",
           "Borehole/Tubewell"
          ],
          [
           "Busia",
           "Funyula",
           "Undefined Well"
          ],
          [
           "Kajiado",
           "Kajiado South",
           "Protected Well"
          ],
          [
           "Kakamega",
           "Khwisero",
           "Protected Well"
          ],
          [
           "Kisumu",
           "Nyando",
           "Protected Well"
          ],
          [
           "Kakamega",
           "Mumias East",
           "Protected Well"
          ],
          [
           "Makueni",
           "Kaiti",
           "Protected Well"
          ],
          [
           "Nyamira",
           "West Mugirango",
           "Protected Well"
          ],
          [
           "Kiambu",
           "Kikuyu",
           "Borehole/Tubewell"
          ],
          [
           "Makueni",
           "Kaiti",
           "Sand or Sub-surface Dam"
          ],
          [
           "Kakamega",
           "Butere",
           "Protected Well"
          ],
          [
           "Bungoma",
           "Likuyani",
           "Protected Well"
          ],
          [
           "Kisii",
           "Nyaribari Masaba",
           "Protected Well"
          ],
          [
           "Homa Bay",
           "Kasipul",
           "Protected Well"
          ],
          [
           "Busia",
           "Teso South",
           "Borehole/Tubewell"
          ],
          [
           "Busia",
           "Nambale",
           "Protected Well"
          ],
          [
           "Migori",
           "Uriri",
           "Protected Well"
          ],
          [
           "Homa Bay",
           "Mbita",
           "Borehole/Tubewell"
          ],
          [
           "Vihiga",
           "Emuhaya",
           "Protected Well"
          ],
          [
           "Kakamega",
           "Butere",
           "Protected Well"
          ],
          [
           "Busia",
           "Teso South",
           "Protected Well"
          ],
          [
           "Busia",
           "Teso South",
           "Protected Well"
          ],
          [
           "Makueni",
           "Kilome",
           "Sand or Sub-surface Dam"
          ],
          [
           "Vihiga",
           "Hamisi",
           "Protected Well"
          ],
          [
           "Baringo",
           "Tiaty",
           "Protected Well"
          ],
          [
           "Busia",
           "Teso South",
           "Protected Well"
          ],
          [
           "Kakamega",
           "Mumias West",
           "Undefined Well"
          ],
          [
           "Migori",
           "Awendo",
           "Borehole/Tubewell"
          ],
          [
           "Makueni",
           "Mbooni",
           "Sand or Sub-surface Dam"
          ],
          [
           "Vihiga",
           "Hamisi",
           "Protected Well"
          ],
          [
           "Makueni",
           "Mbooni",
           "Sand or Sub-surface Dam"
          ],
          [
           "Busia",
           "Butula",
           "Borehole/Tubewell"
          ],
          [
           "Kisumu",
           "Kisumu Central",
           "Piped Water"
          ],
          [
           "Siaya",
           "Gem",
           "Borehole/Tubewell"
          ],
          [
           "Kakamega",
           "Malava",
           "Protected Well"
          ],
          [
           "Embu",
           "Runyenjes",
           "Rainwater Harvesting"
          ],
          [
           "Kakamega",
           "Malava",
           "Protected Well"
          ],
          [
           "Vihiga",
           "Emuhaya",
           "Protected Well"
          ],
          [
           "Kiambu",
           "Kabete",
           "Borehole/Tubewell"
          ],
          [
           "Siaya",
           "Ugunja",
           "Undefined Well"
          ],
          [
           "Kakamega",
           "Shinyalu",
           "Protected Well"
          ],
          [
           "Embu",
           "Mbeere South",
           "Rainwater Harvesting"
          ],
          [
           "Siaya",
           "Ugunja",
           "Protected Well"
          ],
          [
           "Busia",
           "Teso South",
           "Protected Well"
          ],
          [
           "Kisumu",
           "Muhoroni",
           "Borehole/Tubewell"
          ],
          [
           "Busia",
           "Funyula",
           "Protected Well"
          ],
          [
           "Siaya",
           "Gem",
           "Protected Well"
          ],
          [
           "Busia",
           "Funyula",
           "Borehole/Tubewell"
          ],
          [
           "Busia",
           "Budalangi",
           "Borehole/Tubewell"
          ],
          [
           "Kakamega",
           "Malava",
           "Protected Well"
          ],
          [
           "Embu",
           "Mbeere South",
           "Rainwater Harvesting"
          ],
          [
           "Homa Bay",
           "Kabondo Kasipul",
           "Protected Well"
          ],
          [
           "Marsabit",
           "Laisamis",
           "Sand or Sub-surface Dam"
          ],
          [
           "Kiambu",
           "Kikuyu",
           "Borehole/Tubewell"
          ],
          [
           "Vihiga",
           "Hamisi",
           "Protected Well"
          ],
          [
           "Kakamega",
           "Ikolomani",
           "Protected Well"
          ],
          [
           "Busia",
           "Butula",
           "Protected Well"
          ],
          [
           "Kakamega",
           "Shinyalu",
           "Protected Well"
          ],
          [
           "Nakuru",
           "Rongai",
           "Borehole/Tubewell"
          ],
          [
           "Kakamega",
           "Khwisero",
           "Protected Well"
          ],
          [
           "Trans Nzoia",
           "Kiminini",
           "Protected Well"
          ],
          [
           "Busia",
           "Funyula",
           "Undefined Well"
          ],
          [
           "Migori",
           "Kuria East",
           "Protected Well"
          ],
          [
           "Kakamega",
           "Khwisero",
           "Rainwater Harvesting"
          ],
          [
           "Vihiga",
           "Hamisi",
           "Protected Well"
          ],
          [
           "Busia",
           "Nambale",
           "Protected Well"
          ],
          [
           "Migori",
           "Rongo",
           "Protected Well"
          ],
          [
           "Kiambu",
           "Kikuyu",
           "Borehole/Tubewell"
          ],
          [
           "Embu",
           "Runyenjes",
           "Protected Well"
          ],
          [
           "Kakamega",
           "Lurambi",
           "Protected Well"
          ],
          [
           "Vihiga",
           "Luanda",
           "Protected Well"
          ],
          [
           "Kakamega",
           "Mumias East",
           "Protected Well"
          ],
          [
           "Bungoma",
           "Likuyani",
           "Protected Well"
          ],
          [
           "Makueni",
           "Kibwezi West",
           "Sand or Sub-surface Dam"
          ],
          [
           "Busia",
           "Butula",
           "Protected Well"
          ],
          [
           "Makueni",
           "Kibwezi East",
           "Undefined Well"
          ],
          [
           "Busia",
           "Nambale",
           "Undefined Well"
          ],
          [
           "Vihiga",
           "Vihiga",
           "Protected Well"
          ],
          [
           "Embu",
           "Manyatta",
           "Rainwater Harvesting"
          ],
          [
           "Homa Bay",
           "Ndhiwa",
           "Protected Well"
          ],
          [
           "Siaya",
           "Alego Usonga",
           "Borehole/Tubewell"
          ],
          [
           "Siaya",
           "Alego Usonga",
           "Protected Well"
          ],
          [
           "Kakamega",
           "Matungu",
           "Undefined Well"
          ],
          [
           "Embu",
           "Mbeere South",
           "Borehole/Tubewell"
          ],
          [
           "Vihiga",
           "Hamisi",
           "Protected Well"
          ],
          [
           "Siaya",
           "Gem",
           "Undefined Well"
          ],
          [
           "Vihiga",
           "Emuhaya",
           "Protected Well"
          ],
          [
           "Makueni",
           "Kibwezi West",
           "Borehole/Tubewell"
          ],
          [
           "Migori",
           "Suna East",
           "Protected Well"
          ],
          [
           "Kakamega",
           "Malava",
           "Protected Well"
          ],
          [
           "Bungoma",
           "Lugari",
           "Protected Well"
          ],
          [
           "Kisumu",
           "Muhoroni",
           "Protected Well"
          ],
          [
           "Siaya",
           "Ugunja",
           "Protected Well"
          ],
          [
           "Homa Bay",
           "Kasipul",
           "Protected Well"
          ],
          [
           "Kakamega",
           "Shinyalu",
           "Protected Well"
          ],
          [
           "Busia",
           "Butula",
           "Protected Well"
          ],
          [
           "Busia",
           "Budalangi",
           "Protected Well"
          ],
          [
           "Kakamega",
           "Khwisero",
           "Protected Well"
          ],
          [
           "Kiambu",
           "Limuru",
           "Borehole/Tubewell"
          ],
          [
           "Homa Bay",
           "Rangwe",
           "Protected Well"
          ],
          [
           "Siaya",
           "Ugenya",
           "Protected Well"
          ],
          [
           "Vihiga",
           "Hamisi",
           "Protected Well"
          ],
          [
           "Migori",
           "Rongo",
           "Protected Well"
          ],
          [
           "Makueni",
           "Kaiti",
           "Sand or Sub-surface Dam"
          ],
          [
           "Makueni",
           "Makueni",
           "Undefined Well"
          ],
          [
           "Kakamega",
           "Butere",
           "Protected Well"
          ],
          [
           "Bungoma",
           "Tongaren",
           "Protected Well"
          ],
          [
           "Nyamira",
           "Kitutu Masaba",
           "Protected Well"
          ],
          [
           "Busia",
           "Funyula",
           "Borehole/Tubewell"
          ],
          [
           "Busia",
           "Butula",
           "Protected Well"
          ],
          [
           "Vihiga",
           "Hamisi",
           "Protected Well"
          ],
          [
           "Trans Nzoia",
           "Kiminini",
           "Protected Well"
          ],
          [
           "Busia",
           "Teso South",
           "Protected Well"
          ],
          [
           "Kisumu",
           "Kisumu Central",
           "Piped Water"
          ],
          [
           "Makueni",
           "Kibwezi East",
           "Sand or Sub-surface Dam"
          ],
          [
           "Kisumu",
           "Kisumu Central",
           "Piped Water"
          ],
          [
           "Migori",
           "Uriri",
           "Protected Well"
          ],
          [
           "Busia",
           "Funyula",
           "Borehole/Tubewell"
          ],
          [
           "Siaya",
           "Alego Usonga",
           "Borehole/Tubewell"
          ],
          [
           "Nyamira",
           "West Mugirango",
           "Protected Well"
          ],
          [
           "Migori",
           "Rongo",
           "Protected Well"
          ],
          [
           "Migori",
           "Awendo",
           "Protected Well"
          ],
          [
           "Kakamega",
           "Lugari",
           "Protected Well"
          ],
          [
           "Kakamega",
           "Butere",
           "Protected Well"
          ],
          [
           "Kisumu",
           "Seme",
           "Protected Well"
          ],
          [
           "Bungoma",
           "Lugari",
           "Protected Well"
          ],
          [
           "Busia",
           "Matayos",
           "Protected Well"
          ],
          [
           "Kakamega",
           "Butere",
           "Protected Well"
          ],
          [
           "Nyamira",
           "Kitutu Masaba",
           "Protected Well"
          ],
          [
           "Busia",
           "Budalangi",
           "Undefined Well"
          ],
          [
           "Kakamega",
           "Malava",
           "Protected Well"
          ],
          [
           "Uasin Gishu",
           "Turbo",
           "Borehole/Tubewell"
          ],
          [
           "Kakamega",
           "Shinyalu",
           "Protected Well"
          ],
          [
           "Kakamega",
           "Malava",
           "Protected Well"
          ],
          [
           "Bungoma",
           "Sirisia",
           "Protected Well"
          ],
          [
           "Busia",
           "Matayos",
           "Protected Well"
          ],
          [
           "Kakamega",
           "Butere",
           "Protected Well"
          ],
          [
           "Migori",
           "Awendo",
           "Protected Well"
          ],
          [
           "Makueni",
           "Mbooni",
           "Sand or Sub-surface Dam"
          ],
          [
           "Nyamira",
           "Kitutu Masaba",
           "Protected Well"
          ],
          [
           "Siaya",
           "Ugunja",
           "Undefined Well"
          ],
          [
           "Makueni",
           "Mbooni",
           "Sand or Sub-surface Dam"
          ],
          [
           "Siaya",
           "Alego Usonga",
           "Protected Well"
          ],
          [
           "Migori",
           "Kuria West",
           "Protected Well"
          ],
          [
           "Kisumu",
           "Kisumu West",
           "Protected Well"
          ],
          [
           "Busia",
           "Nambale",
           "Undefined Well"
          ],
          [
           "Vihiga",
           "Hamisi",
           "Protected Well"
          ],
          [
           "Homa Bay",
           "Mbita",
           "Borehole/Tubewell"
          ],
          [
           "Kakamega",
           "Ikolomani",
           "Sand or Sub-surface Dam"
          ],
          [
           "Kisumu",
           "Nyando",
           "Undefined Well"
          ],
          [
           "Kakamega",
           "Butere",
           "Protected Well"
          ],
          [
           "Siaya",
           "Alego Usonga",
           "Borehole/Tubewell"
          ],
          [
           "Busia",
           "Butula",
           "Protected Well"
          ],
          [
           "Makueni",
           "Kaiti",
           "Sand or Sub-surface Dam"
          ],
          [
           "Busia",
           "Budalangi",
           "Undefined Well"
          ],
          [
           "Nyamira",
           "West Mugirango",
           "Protected Well"
          ],
          [
           "Kakamega",
           "Lugari",
           "Protected Well"
          ],
          [
           "Homa Bay",
           "Kasipul",
           "Protected Well"
          ],
          [
           "Busia",
           "Funyula",
           "Borehole/Tubewell"
          ],
          [
           "Siaya",
           "Ugenya",
           "Protected Well"
          ],
          [
           "Kakamega",
           "Ikolomani",
           "Protected Well"
          ],
          [
           "Makueni",
           "Mbooni",
           "Protected Well"
          ],
          [
           "Kakamega",
           "Khwisero",
           "Protected Well"
          ],
          [
           "Bungoma",
           "Likuyani",
           "Borehole/Tubewell"
          ],
          [
           "Nyamira",
           "West Mugirango",
           "Sand or Sub-surface Dam"
          ],
          [
           "Kakamega",
           "Butere",
           "Protected Well"
          ],
          [
           "Siaya",
           "Ugunja",
           "Undefined Well"
          ],
          [
           "Kisumu",
           "Nyakach",
           "Undefined Well"
          ],
          [
           "Makueni",
           "Kibwezi West",
           "Undefined Well"
          ],
          [
           "Vihiga",
           "Vihiga",
           "Protected Well"
          ],
          [
           "Kakamega",
           "Mumias East",
           "Protected Well"
          ],
          [
           "Kakamega",
           "Shinyalu",
           "Protected Well"
          ],
          [
           "Busia",
           "Budalangi",
           "Protected Well"
          ],
          [
           "Kakamega",
           "Lugari",
           "Protected Well"
          ],
          [
           "Baringo",
           "Tiaty",
           "Undefined Well"
          ],
          [
           "Kakamega",
           "Shinyalu",
           "Protected Well"
          ],
          [
           "Siaya",
           "Ugenya",
           "Protected Well"
          ],
          [
           "Kakamega",
           "Shinyalu",
           "Protected Well"
          ],
          [
           "Makueni",
           "Makueni",
           "Sand or Sub-surface Dam"
          ],
          [
           "Homa Bay",
           "Mbita",
           "Borehole/Tubewell"
          ],
          [
           "Kajiado",
           "Kajiado South",
           "Piped Water"
          ],
          [
           "Vihiga",
           "Vihiga",
           "Protected Well"
          ],
          [
           "Kajiado",
           "Kajiado Central",
           "Protected Well"
          ],
          [
           "Samburu",
           "Samburu East",
           "Borehole/Tubewell"
          ],
          [
           "Busia",
           "Butula",
           "Borehole/Tubewell"
          ],
          [
           "Siaya",
           "Gem",
           "Protected Well"
          ],
          [
           "Busia",
           "Butula",
           "Protected Well"
          ],
          [
           "Trans Nzoia",
           "Cherangany",
           "Protected Well"
          ],
          [
           "Trans Nzoia",
           "Kiminini",
           "Protected Well"
          ],
          [
           "Makueni",
           "Kilome",
           "Protected Well"
          ],
          [
           "Kajiado",
           "Kajiado South",
           "Protected Well"
          ],
          [
           "Trans Nzoia",
           "Kiminini",
           "Protected Well"
          ],
          [
           "Bungoma",
           "Webuye East",
           "Protected Well"
          ],
          [
           "Kisumu",
           "Nyando",
           "Borehole/Tubewell"
          ],
          [
           "Vihiga",
           "Sabatia",
           "Protected Well"
          ],
          [
           "Bungoma",
           "Tongaren",
           "Protected Well"
          ],
          [
           "Kisumu",
           "Kisumu Central",
           "Borehole/Tubewell"
          ],
          [
           "Siaya",
           "Alego Usonga",
           "Undefined Well"
          ],
          [
           "Busia",
           "Funyula",
           "Borehole/Tubewell"
          ],
          [
           "Makueni",
           "Makueni",
           "Undefined Well"
          ],
          [
           "Busia",
           "Teso South",
           "Protected Well"
          ],
          [
           "Kakamega",
           "Shinyalu",
           "Protected Well"
          ],
          [
           "Bungoma",
           "Kanduyi",
           "Protected Well"
          ],
          [
           "Kakamega",
           "Ikolomani",
           "Protected Well"
          ],
          [
           "Makueni",
           "Kibwezi East",
           "Sand or Sub-surface Dam"
          ],
          [
           "Nandi",
           "Aldai",
           "Protected Well"
          ],
          [
           "Kakamega",
           "Butere",
           "Undefined Well"
          ],
          [
           "Kakamega",
           "Shinyalu",
           "Protected Well"
          ],
          [
           "Kakamega",
           "Malava",
           "Protected Well"
          ],
          [
           "Kisii",
           "Kitutu Chache South",
           "Protected Well"
          ],
          [
           "Siaya",
           "Ugunja",
           "Protected Well"
          ],
          [
           "Siaya",
           "Gem",
           "Protected Well"
          ],
          [
           "Kajiado",
           "Kajiado South",
           "Borehole/Tubewell"
          ],
          [
           "Nyamira",
           "North Mugirango",
           "Undefined Well"
          ],
          [
           "Kiambu",
           "Lari",
           "Borehole/Tubewell"
          ],
          [
           "Kakamega",
           "Butere",
           "Protected Well"
          ],
          [
           "Kakamega",
           "Shinyalu",
           "Sand or Sub-surface Dam"
          ],
          [
           "Bungoma",
           "Sirisia",
           "Protected Well"
          ],
          [
           "Kakamega",
           "Khwisero",
           "Protected Well"
          ],
          [
           "Migori",
           "Uriri",
           "Protected Well"
          ],
          [
           "Nyamira",
           "Kitutu Masaba",
           "Protected Well"
          ],
          [
           "Busia",
           "Butula",
           "Protected Well"
          ],
          [
           "Nyamira",
           "Kitutu Masaba",
           "Protected Well"
          ],
          [
           "Kiambu",
           "Juja",
           "Piped Water"
          ],
          [
           "Nandi",
           "Mosop",
           "Borehole/Tubewell"
          ],
          [
           "Homa Bay",
           "Ndhiwa",
           "Borehole/Tubewell"
          ],
          [
           "Kakamega",
           "Lurambi",
           "Protected Well"
          ],
          [
           "Busia",
           "Butula",
           "Borehole/Tubewell"
          ],
          [
           "Kakamega",
           "Khwisero",
           "Protected Well"
          ],
          [
           "Makueni",
           "Makueni",
           "Sand or Sub-surface Dam"
          ],
          [
           "Makueni",
           "Kibwezi West",
           "Sand or Sub-surface Dam"
          ],
          [
           "Bungoma",
           "Kimilili",
           "Protected Well"
          ],
          [
           "Busia",
           "Teso North",
           "Protected Well"
          ],
          [
           "Migori",
           "Awendo",
           "Protected Well"
          ],
          [
           "Kakamega",
           "Mumias West",
           "Protected Well"
          ],
          [
           "Kakamega",
           "Lurambi",
           "Rainwater Harvesting"
          ],
          [
           "Kisumu",
           "Nyando",
           "Protected Well"
          ],
          [
           "Busia",
           "Nambale",
           "Protected Well"
          ],
          [
           "Vihiga",
           "Vihiga",
           "Protected Well"
          ],
          [
           "Kiambu",
           "Ruiru",
           "Piped Water"
          ],
          [
           "Nyamira",
           "Kitutu Masaba",
           "Protected Well"
          ],
          [
           "Vihiga",
           "Hamisi",
           "Protected Well"
          ],
          [
           "Migori",
           "Suna West",
           "Borehole/Tubewell"
          ],
          [
           "Siaya",
           "Ugunja",
           "Borehole/Tubewell"
          ],
          [
           "Vihiga",
           "Emuhaya",
           "Protected Well"
          ],
          [
           "Makueni",
           "Mbooni",
           "Protected Well"
          ],
          [
           "Bungoma",
           "Likuyani",
           "Protected Well"
          ],
          [
           "Kisumu",
           "Muhoroni",
           "Protected Well"
          ],
          [
           "Nyamira",
           "North Mugirango",
           "Protected Well"
          ],
          [
           "Siaya",
           "Ugunja",
           "Protected Well"
          ],
          [
           "Vihiga",
           "Sabatia",
           "Protected Well"
          ],
          [
           "Embu",
           "Runyenjes",
           "Protected Well"
          ],
          [
           "Siaya",
           "Ugenya",
           "Undefined Well"
          ],
          [
           "Busia",
           "Nambale",
           "Borehole/Tubewell"
          ],
          [
           "Kakamega",
           "Butere",
           "Borehole/Tubewell"
          ],
          [
           "Busia",
           "Teso South",
           "Protected Well"
          ],
          [
           "Kakamega",
           "Ikolomani",
           "Protected Well"
          ],
          [
           "Bungoma",
           "Webuye East",
           "Protected Well"
          ],
          [
           "Busia",
           "Matayos",
           "Borehole/Tubewell"
          ],
          [
           "Kakamega",
           "Navakholo",
           "Protected Well"
          ],
          [
           "Kiambu",
           "Limuru",
           "Borehole/Tubewell"
          ],
          [
           "Bungoma",
           "Lugari",
           "Protected Well"
          ],
          [
           "Kajiado",
           "Kajiado South",
           "Piped Water"
          ],
          [
           "Siaya",
           "Alego Usonga",
           "Protected Well"
          ],
          [
           "Vihiga",
           "Hamisi",
           "Protected Well"
          ],
          [
           "Embu",
           "Mbeere South",
           "Borehole/Tubewell"
          ],
          [
           "Kakamega",
           "Lurambi",
           "Protected Well"
          ],
          [
           "Kakamega",
           "Butere",
           "Protected Well"
          ],
          [
           "Busia",
           "Budalangi",
           "Protected Well"
          ],
          [
           "Kakamega",
           "Shinyalu",
           "Protected Well"
          ],
          [
           "Migori",
           "Suna East",
           "Protected Well"
          ],
          [
           "Busia",
           "Butula",
           "Protected Well"
          ],
          [
           "Busia",
           "Butula",
           "Protected Well"
          ],
          [
           "Samburu",
           "Samburu West",
           "Piped Water"
          ],
          [
           "Kisumu",
           "Nyando",
           "Protected Well"
          ],
          [
           "Migori",
           "Kuria East",
           "Protected Well"
          ],
          [
           "Homa Bay",
           "Homa Bay Town",
           "Borehole/Tubewell"
          ],
          [
           "Kakamega",
           "Malava",
           "Protected Well"
          ],
          [
           "Siaya",
           "Rarieda",
           "Undefined Well"
          ],
          [
           "Migori",
           "Suna West",
           "Undefined Well"
          ],
          [
           "Vihiga",
           "Sabatia",
           "Protected Well"
          ],
          [
           "Busia",
           "Nambale",
           "Protected Well"
          ],
          [
           "Vihiga",
           "Sabatia",
           "Protected Well"
          ],
          [
           "Siaya",
           "Gem",
           "Undefined Well"
          ],
          [
           "Busia",
           "Teso North",
           "Protected Well"
          ],
          [
           "Trans Nzoia",
           "Cherangany",
           "Protected Well"
          ],
          [
           "Homa Bay",
           "Homa Bay Town",
           "Protected Well"
          ],
          [
           "Embu",
           "Mbeere South",
           "Rainwater Harvesting"
          ],
          [
           "Kakamega",
           "Shinyalu",
           "Protected Well"
          ],
          [
           "Bungoma",
           "Likuyani",
           "Protected Well"
          ],
          [
           "Busia",
           "Butula",
           "Undefined Well"
          ],
          [
           "Kakamega",
           "Butere",
           "Undefined Well"
          ],
          [
           "Homa Bay",
           "Kasipul",
           "Protected Well"
          ],
          [
           "Kisumu",
           "Nyando",
           "Undefined Well"
          ],
          [
           "Kakamega",
           "Mumias West",
           "Undefined Well"
          ],
          [
           "Kakamega",
           "Matungu",
           "Protected Well"
          ],
          [
           "Makueni",
           "Makueni",
           "Sand or Sub-surface Dam"
          ],
          [
           "Migori",
           "Suna East",
           "Undefined Well"
          ],
          [
           "Kakamega",
           "Mumias East",
           "Protected Well"
          ],
          [
           "Homa Bay",
           "Rangwe",
           "Protected Well"
          ],
          [
           "Kakamega",
           "Ikolomani",
           "Protected Well"
          ],
          [
           "Nyamira",
           "Kitutu Masaba",
           "Protected Well"
          ],
          [
           "Busia",
           "Nambale",
           "Protected Well"
          ],
          [
           "Kakamega",
           "Lurambi",
           "Protected Well"
          ],
          [
           "Kakamega",
           "Shinyalu",
           "Borehole/Tubewell"
          ],
          [
           "Busia",
           "Funyula",
           "Protected Well"
          ],
          [
           "Kakamega",
           "Lurambi",
           "Protected Well"
          ],
          [
           "Kakamega",
           "Mumias East",
           "Undefined Well"
          ],
          [
           "Siaya",
           "Alego Usonga",
           "Undefined Well"
          ],
          [
           "Kakamega",
           "Lurambi",
           "Protected Well"
          ],
          [
           "Makueni",
           "Kibwezi East",
           "Sand or Sub-surface Dam"
          ],
          [
           "Kakamega",
           "Matungu",
           "Protected Well"
          ],
          [
           "Migori",
           "Awendo",
           "Protected Well"
          ],
          [
           "Busia",
           "Butula",
           "Protected Well"
          ],
          [
           "Busia",
           "Funyula",
           "Borehole/Tubewell"
          ],
          [
           "Bungoma",
           "Kanduyi",
           "Protected Well"
          ],
          [
           "Makueni",
           "Mbooni",
           "Sand or Sub-surface Dam"
          ],
          [
           "Busia",
           "Butula",
           "Borehole/Tubewell"
          ],
          [
           "Kiambu",
           "Kiambaa",
           "Piped Water"
          ],
          [
           "Embu",
           "Mbeere South",
           "Rainwater Harvesting"
          ],
          [
           "Busia",
           "Funyula",
           "Protected Well"
          ],
          [
           "Embu",
           "Runyenjes",
           "Rainwater Harvesting"
          ],
          [
           "Vihiga",
           "Hamisi",
           "Protected Well"
          ],
          [
           "Makueni",
           "Kibwezi West",
           "Sand or Sub-surface Dam"
          ],
          [
           "Busia",
           "Matayos",
           "Protected Well"
          ],
          [
           "Vihiga",
           "Hamisi",
           "Protected Well"
          ],
          [
           "Vihiga",
           "Sabatia",
           "Borehole/Tubewell"
          ],
          [
           "Kajiado",
           "Kajiado Central",
           "Protected Well"
          ],
          [
           "Siaya",
           "Ugenya",
           "Protected Well"
          ],
          [
           "Kiambu",
           "Kiambaa",
           "Borehole/Tubewell"
          ],
          [
           "Vihiga",
           "Sabatia",
           "Protected Well"
          ],
          [
           "Kakamega",
           "Navakholo",
           "Protected Well"
          ],
          [
           "Migori",
           "Kuria East",
           "Protected Well"
          ],
          [
           "Kakamega",
           "Lurambi",
           "Protected Well"
          ],
          [
           "Siaya",
           "Gem",
           "Protected Well"
          ],
          [
           "Vihiga",
           "Hamisi",
           "Protected Well"
          ],
          [
           "Siaya",
           "Gem",
           "Protected Well"
          ],
          [
           "Embu",
           "Mbeere South",
           "Sand or Sub-surface Dam"
          ],
          [
           "Kakamega",
           "Ikolomani",
           "Protected Well"
          ]
         ],
         "hovertemplate": "latitude=%{lat}<br>longitude=%{lon}<br>clean_adm1=%{customdata[0]}<br>clean_adm2=%{customdata[1]}<br>water_source_clean=%{customdata[2]}<br>risk_score=%{marker.color}<extra></extra>",
         "lat": {
          "bdata": "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",
          "dtype": "f8"
         },
         "legendgroup": "",
         "lon": {
          "bdata": "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",
          "dtype": "f8"
         },
         "marker": {
          "color": {
           "bdata": "AQAAAAEAAAADAAAAAgAAAAIAAAACAAAAAgAAAAIAAAABAAAAAgAAAAEAAAACAAAAAQAAAAMAAAACAAAAAgAAAAEAAAABAAAAAgAAAAEAAAABAAAAAQAAAAIAAAABAAAAAgAAAAEAAAACAAAAAwAAAAEAAAABAAAAAgAAAAIAAAABAAAAAgAAAAMAAAACAAAAAgAAAAEAAAACAAAAAQAAAAIAAAAAAAAAAQAAAAEAAAACAAAAAwAAAAEAAAABAAAAAQAAAAMAAAAAAAAAAQAAAAEAAAACAAAAAgAAAAEAAAABAAAAAQAAAAEAAAABAAAAAgAAAAEAAAACAAAAAQAAAAIAAAACAAAAAQAAAAEAAAABAAAAAgAAAAIAAAAAAAAAAgAAAAEAAAABAAAAAQAAAAEAAAABAAAAAQAAAAEAAAABAAAAAQAAAAEAAAABAAAAAQAAAAEAAAACAAAAAgAAAAEAAAABAAAAAQAAAAEAAAACAAAAAgAAAAEAAAABAAAAAQAAAAEAAAACAAAAAQAAAAMAAAABAAAAAQAAAAIAAAABAAAAAgAAAAEAAAACAAAAAgAAAAEAAAACAAAAAQAAAAMAAAABAAAAAwAAAAIAAAABAAAAAQAAAAEAAAACAAAAAgAAAAEAAAACAAAAAAAAAAEAAAACAAAAAgAAAAEAAAACAAAAAgAAAAIAAAABAAAAAQAAAAIAAAACAAAAAQAAAAEAAAABAAAAAQAAAAIAAAACAAAAAQAAAAIAAAABAAAAAgAAAAMAAAABAAAAAgAAAAEAAAABAAAAAAAAAAEAAAABAAAAAQAAAAIAAAABAAAAAQAAAAEAAAACAAAAAgAAAAEAAAABAAAAAQAAAAIAAAABAAAAAQAAAAIAAAABAAAAAgAAAAIAAAABAAAAAQAAAAIAAAABAAAAAQAAAAEAAAACAAAAAQAAAAAAAAABAAAAAwAAAAEAAAABAAAAAQAAAAEAAAABAAAAAQAAAAEAAAAAAAAAAgAAAAEAAAABAAAAAgAAAAEAAAABAAAAAQAAAAEAAAACAAAAAQAAAAIAAAABAAAAAQAAAAEAAAACAAAAAgAAAAEAAAACAAAAAQAAAAEAAAABAAAAAgAAAAIAAAACAAAAAgAAAAEAAAABAAAAAQAAAAEAAAABAAAAAQAAAAIAAAAAAAAAAQAAAAIAAAABAAAAAgAAAAEAAAABAAAAAQAAAAEAAAACAAAAAgAAAAAAAAABAAAAAgAAAAEAAAABAAAAAgAAAAEAAAACAAAAAQAAAAEAAAAAAAAAAQAAAAEAAAABAAAAAQAAAAEAAAABAAAAAQAAAAEAAAACAAAAAgAAAAEAAAABAAAAAQAAAAIAAAABAAAAAgAAAAIAAAADAAAAAAAAAAEAAAACAAAAAQAAAAEAAAAAAAAAAQAAAAMAAAACAAAAAQAAAAIAAAACAAAAAQAAAAIAAAABAAAAAAAAAAEAAAACAAAAAQAAAAIAAAADAAAAAgAAAAMAAAABAAAAAgAAAAEAAAAAAAAAAgAAAAAAAAACAAAAAgAAAAEAAAACAAAAAgAAAAIAAAAAAAAAAQAAAAIAAAACAAAAAgAAAAIAAAABAAAAAQAAAAAAAAACAAAAAgAAAAEAAAABAAAAAwAAAAIAAAACAAAAAQAAAAEAAAABAAAAAQAAAAIAAAADAAAAAQAAAAEAAAACAAAAAgAAAAEAAAACAAAAAgAAAAIAAAACAAAAAgAAAAIAAAACAAAAAgAAAAEAAAABAAAAAQAAAAEAAAAAAAAAAgAAAAMAAAABAAAAAgAAAAIAAAACAAAAAgAAAAIAAAACAAAAAAAAAAIAAAACAAAAAgAAAAIAAAABAAAAAQAAAAEAAAABAAAAAQAAAAEAAAACAAAAAgAAAAEAAAABAAAAAgAAAAIAAAABAAAAAQAAAAIAAAAAAAAAAgAAAAEAAAABAAAAAgAAAAEAAAACAAAAAgAAAAEAAAABAAAAAgAAAAIAAAABAAAAAwAAAAEAAAADAAAAAQAAAAIAAAACAAAAAgAAAAMAAAABAAAAAQAAAAEAAAACAAAAAAAAAAEAAAACAAAAAgAAAAIAAAABAAAAAgAAAAIAAAACAAAAAQAAAAIAAAABAAAAAQAAAAMAAAACAAAAAQAAAAEAAAABAAAAAQAAAAMAAAABAAAAAQAAAAIAAAACAAAAAQAAAAMAAAABAAAAAgAAAAEAAAABAAAAAgAAAAIAAAABAAAAAAAAAAEAAAABAAAAAgAAAAIAAAABAAAAAgAAAAIAAAABAAAAAQAAAAEAAAACAAAAAQAAAAEAAAACAAAAAgAAAAEAAAABAAAAAQAAAAIAAAABAAAAAQAAAAEAAAACAAAAAQAAAAEAAAADAAAAAgAAAAEAAAACAAAAAgAAAAMAAAACAAAAAQAAAAIAAAABAAAAAgAAAAEAAAABAAAAAgAAAAEAAAABAAAAAwAAAAIAAAACAAAAAQAAAAEAAAACAAAAAAAAAAEAAAAAAAAAAQAAAAEAAAABAAAAAQAAAAEAAAABAAAAAgAAAAIAAAABAAAAAgAAAAEAAAACAAAAAQAAAAAAAAACAAAAAwAAAAAAAAACAAAAAQAAAAAAAAACAAAAAQAAAAEAAAADAAAAAgAAAAEAAAABAAAAAQAAAAEAAAABAAAAAQAAAAAAAAAAAAAAAQAAAAIAAAACAAAAAgAAAAEAAAABAAAAAQAAAAIAAAAAAAAAAgAAAAIAAAABAAAAAgAAAAIAAAACAAAAAgAAAAIAAAACAAAAAAAAAAEAAAABAAAAAQAAAAMAAAABAAAAAgAAAAEAAAACAAAAAQAAAAIAAAACAAAAAgAAAAIAAAABAAAAAgAAAAMAAAABAAAAAQAAAAIAAAABAAAAAgAAAAEAAAABAAAAAQAAAAAAAAACAAAAAQAAAAEAAAABAAAAAQAAAAIAAAABAAAAAgAAAAEAAAADAAAAAgAAAAEAAAACAAAAAgAAAAAAAAACAAAAAgAAAAAAAAAAAAAAAgAAAAEAAAABAAAAAQAAAAEAAAABAAAAAQAAAAEAAAACAAAAAQAAAAEAAAACAAAAAQAAAAIAAAACAAAAAgAAAAMAAAACAAAAAgAAAAAAAAABAAAAAgAAAAIAAAACAAAAAQAAAAIAAAAAAAAAAgAAAAIAAAABAAAAAgAAAAEAAAABAAAAAgAAAAAAAAABAAAAAQAAAAIAAAACAAAAAQAAAAEAAAACAAAAAgAAAAEAAAABAAAAAgAAAAAAAAACAAAAAgAAAAIAAAACAAAAAQAAAAEAAAACAAAAAgAAAAEAAAABAAAAAgAAAAAAAAABAAAAAQAAAAEAAAABAAAAAgAAAAIAAAACAAAAAgAAAAIAAAABAAAAAQAAAAEAAAABAAAAAgAAAAIAAAADAAAAAgAAAAEAAAACAAAAAAAAAAIAAAABAAAAAQAAAAIAAAACAAAAAQAAAAIAAAABAAAAAgAAAAIAAAABAAAAAgAAAAMAAAABAAAAAQAAAAIAAAABAAAAAgAAAAEAAAACAAAAAgAAAAEAAAADAAAAAQAAAAIAAAABAAAAAAAAAAIAAAACAAAAAgAAAAEAAAACAAAAAgAAAAIAAAABAAAAAgAAAAIAAAACAAAAAQAAAAAAAAABAAAAAQAAAAEAAAACAAAAAQAAAAIAAAACAAAAAgAAAAIAAAACAAAAAgAAAAEAAAACAAAAAQAAAAMAAAACAAAAAgAAAAEAAAACAAAAAwAAAAAAAAADAAAAAgAAAAMAAAACAAAAAQAAAAIAAAABAAAAAQAAAAEAAAABAAAAAQAAAAEAAAAAAAAAAAAAAAIAAAACAAAAAQAAAAIAAAACAAAAAQAAAAEAAAACAAAAAAAAAAMAAAACAAAAAgAAAAEAAAABAAAAAgAAAAIAAAACAAAAAQAAAAIAAAACAAAAAQAAAAEAAAACAAAAAgAAAAEAAAACAAAAAQAAAAEAAAABAAAAAwAAAAEAAAABAAAAAQAAAAIAAAACAAAAAQAAAAEAAAABAAAAAQAAAAIAAAABAAAAAQAAAAEAAAABAAAAAgAAAAIAAAABAAAAAgAAAAEAAAABAAAAAQAAAAEAAAABAAAAAQAAAAIAAAABAAAAAQAAAAEAAAADAAAAAQAAAAIAAAAAAAAAAAAAAAEAAAAAAAAAAQAAAAEAAAABAAAAAAAAAAAAAAADAAAAAAAAAAEAAAABAAAAAgAAAAEAAAABAAAAAgAAAAIAAAACAAAAAQAAAAIAAAADAAAAAQAAAAIAAAACAAAAAgAAAAIAAAABAAAAAgAAAAIAAAABAAAAAgAAAAIAAAAAAAAAAgAAAAIAAAABAAAAAgAAAAEAAAABAAAAAQAAAAEAAAABAAAAAQAAAAEAAAACAAAAAQAAAAEAAAACAAAAAgAAAAAAAAACAAAAAgAAAAIAAAACAAAAAQAAAAIAAAADAAAAAQAAAAEAAAABAAAAAgAAAAIAAAABAAAAAgAAAAEAAAACAAAAAQAAAAEAAAABAAAAAQAAAAEAAAABAAAAAAAAAAIAAAABAAAAAgAAAAAAAAACAAAAAQAAAAEAAAACAAAAAgAAAAIAAAADAAAAAQAAAAIAAAABAAAAAgAAAAAAAAABAAAAAgAAAAIAAAABAAAAAwAAAAEAAAACAAAAAgAAAAEAAAACAAAAAQAAAAEAAAACAAAAAQAAAAIAAAABAAAAAQAAAAIAAAACAAAAAgAAAAEAAAADAAAAAQAAAAEAAAACAAAAAQAAAAEAAAACAAAAAgAAAAEAAAADAAAAAgAAAAEAAAACAAAAAQAAAAMAAAABAAAAAQAAAAEAAAACAAAAAgAAAAIAAAABAAAAAgAAAAIAAAACAAAAAgAAAAMAAAACAAAAAQAAAAIAAAACAAAAAQAAAAIAAAABAAAAAwAAAAIAAAABAAAAAQAAAAMAAAAAAAAAAQAAAAEAAAABAAAAAwAAAAIAAAABAAAAAAAAAAIAAAACAAAAAQAAAAEAAAACAAAAAAAAAAMAAAABAAAAAgAAAAIAAAACAAAAAgAAAAIAAAAAAAAAAgAAAAIAAAABAAAAAQAAAAEAAAABAAAAAAAAAAIAAAABAAAAAQAAAAEAAAACAAAAAQAAAAIAAAACAAAAAQAAAAIAAAACAAAAAgAAAAIAAAACAAAAAQAAAAIAAAABAAAAAQAAAAEAAAACAAAAAgAAAAEAAAAAAAAAAgAAAAEAAAADAAAAAAAAAAIAAAADAAAAAgAAAAIAAAACAAAAAgAAAAEAAAACAAAAAQAAAAIAAAABAAAAAQAAAAIAAAACAAAAAQAAAAMAAAABAAAAAQAAAAIAAAABAAAAAQAAAAEAAAABAAAAAQAAAAIAAAABAAAAAgAAAAAAAAABAAAAAgAAAAIAAAABAAAAAgAAAAEAAAABAAAAAQAAAAIAAAABAAAAAQAAAAEAAAACAAAAAwAAAAEAAAACAAAAAwAAAAIAAAABAAAAAQAAAAEAAAABAAAAAQAAAAIAAAACAAAAAgAAAAAAAAABAAAAAQAAAAEAAAABAAAAAQAAAAEAAAACAAAAAQAAAAIAAAACAAAAAAAAAAMAAAAAAAAAAQAAAAEAAAABAAAAAQAAAAEAAAABAAAAAQAAAAEAAAACAAAAAQAAAAAAAAABAAAAAAAAAAEAAAABAAAAAgAAAAEAAAABAAAAAQAAAAIAAAACAAAAAQAAAAIAAAABAAAAAQAAAAEAAAACAAAAAgAAAAEAAAABAAAAAAAAAAEAAAACAAAAAwAAAAIAAAAAAAAAAgAAAAEAAAACAAAAAQAAAAEAAAACAAAAAgAAAAIAAAABAAAAAQAAAAIAAAACAAAAAgAAAAEAAAADAAAAAQAAAAEAAAAAAAAAAQAAAAEAAAACAAAAAwAAAAIAAAACAAAAAgAAAAEAAAABAAAAAAAAAAIAAAABAAAAAQAAAAEAAAABAAAAAwAAAAAAAAADAAAAAQAAAAEAAAACAAAAAgAAAAEAAAABAAAAAQAAAAAAAAABAAAAAgAAAAIAAAAAAAAAAQAAAAMAAAACAAAAAgAAAAIAAAACAAAAAQAAAAEAAAABAAAAAgAAAAIAAAACAAAAAQAAAAEAAAABAAAAAgAAAAEAAAABAAAAAQAAAAEAAAACAAAAAAAAAAIAAAADAAAAAgAAAAEAAAABAAAAAgAAAAEAAAACAAAAAAAAAAEAAAACAAAAAgAAAAIAAAABAAAAAwAAAAEAAAACAAAAAQAAAAIAAAACAAAAAgAAAAEAAAADAAAAAgAAAAEAAAABAAAAAQAAAAEAAAACAAAAAwAAAAIAAAACAAAAAgAAAAIAAAABAAAAAAAAAAIAAAABAAAAAgAAAAEAAAABAAAAAQAAAAEAAAABAAAAAgAAAAIAAAABAAAAAQAAAAEAAAACAAAAAgAAAAEAAAADAAAAAQAAAAAAAAABAAAAAAAAAAMAAAABAAAAAAAAAAAAAAABAAAAAQAAAAEAAAABAAAAAgAAAAAAAAABAAAAAQAAAAIAAAACAAAAAgAAAAIAAAABAAAAAQAAAAEAAAABAAAAAgAAAAIAAAABAAAAAgAAAAMAAAABAAAAAQAAAAIAAAACAAAAAgAAAAMAAAACAAAAAQAAAAAAAAACAAAAAgAAAAEAAAACAAAAAwAAAAEAAAABAAAAAQAAAAIAAAACAAAAAgAAAAEAAAABAAAAAQAAAAEAAAAAAAAAAQAAAAIAAAABAAAAAQAAAAIAAAACAAAAAgAAAAEAAAACAAAAAQAAAAIAAAABAAAAAgAAAAEAAAABAAAAAgAAAAEAAAABAAAAAQAAAAIAAAABAAAAAAAAAAEAAAABAAAAAAAAAAEAAAABAAAAAgAAAAIAAAABAAAAAwAAAAIAAAABAAAAAQAAAAIAAAACAAAAAQAAAAIAAAADAAAAAQAAAAIAAAABAAAAAgAAAAEAAAACAAAAAQAAAAIAAAACAAAAAgAAAAEAAAABAAAAAgAAAAEAAAABAAAAAQAAAAIAAAABAAAAAQAAAAIAAAACAAAAAgAAAAAAAAABAAAAAgAAAAAAAAABAAAAAQAAAAIAAAACAAAAAgAAAAIAAAACAAAAAQAAAAAAAAACAAAAAAAAAAIAAAACAAAAAgAAAAIAAAACAAAAAQAAAAIAAAABAAAAAgAAAAEAAAABAAAAAgAAAAIAAAACAAAAAQAAAAEAAAABAAAAAgAAAAIAAAACAAAAAQAAAAEAAAABAAAAAAAAAAAAAAACAAAAAQAAAAEAAAABAAAAAAAAAAIAAAABAAAAAgAAAAEAAAABAAAAAAAAAAAAAAABAAAAAgAAAAEAAAABAAAAAQAAAAEAAAACAAAAAgAAAAIAAAACAAAAAgAAAAAAAAADAAAAAQAAAAEAAAAAAAAAAQAAAAEAAAABAAAAAgAAAAEAAAABAAAAAgAAAAEAAAABAAAAAQAAAAAAAAAAAAAAAQAAAAEAAAADAAAAAAAAAAEAAAABAAAAAgAAAAEAAAADAAAAAgAAAAEAAAACAAAAAgAAAAIAAAABAAAAAQAAAAEAAAACAAAAAgAAAAIAAAABAAAAAgAAAAEAAAABAAAAAgAAAAEAAAACAAAAAwAAAAAAAAACAAAAAAAAAAEAAAACAAAAAAAAAAIAAAABAAAAAgAAAAEAAAABAAAAAQAAAAIAAAABAAAAAgAAAAIAAAABAAAAAgAAAAEAAAABAAAAAgAAAAIAAAABAAAAAgAAAAMAAAABAAAAAQAAAAIAAAACAAAAAQAAAAIAAAABAAAAAAAAAAAAAAABAAAAAgAAAAEAAAACAAAAAAAAAAEAAAABAAAAAgAAAAEAAAABAAAAAQAAAAEAAAACAAAAAgAAAAIAAAACAAAAAQAAAAEAAAACAAAAAgAAAAEAAAABAAAAAAAAAAIAAAACAAAAAQAAAAEAAAABAAAAAQAAAAIAAAABAAAAAQAAAAAAAAACAAAAAgAAAAAAAAACAAAAAgAAAAIAAAACAAAAAgAAAAAAAAABAAAAAgAAAAEAAAACAAAAAQAAAAEAAAABAAAAAQAAAAIAAAACAAAAAQAAAAIAAAABAAAAAQAAAAEAAAACAAAAAQAAAAIAAAACAAAAAgAAAAEAAAABAAAAAQAAAAEAAAABAAAAAQAAAAIAAAABAAAAAQAAAAIAAAACAAAAAQAAAAEAAAACAAAAAQAAAAMAAAACAAAAAgAAAAIAAAACAAAAAgAAAAEAAAACAAAAAgAAAAEAAAAAAAAAAQAAAAEAAAACAAAAAQAAAAIAAAACAAAAAgAAAAIAAAACAAAAAQAAAAAAAAABAAAAAQAAAAIAAAABAAAAAQAAAAEAAAACAAAAAQAAAAEAAAABAAAAAAAAAAIAAAABAAAAAgAAAAIAAAACAAAAAQAAAAAAAAABAAAAAgAAAAEAAAACAAAAAwAAAAEAAAACAAAAAQAAAAEAAAACAAAAAgAAAAEAAAACAAAAAwAAAAIAAAACAAAAAQAAAAIAAAABAAAAAgAAAAMAAAABAAAAAAAAAAIAAAACAAAAAQAAAAEAAAABAAAAAAAAAAEAAAACAAAAAgAAAAIAAAABAAAAAAAAAAMAAAABAAAAAgAAAAEAAAADAAAAAQAAAAIAAAABAAAAAgAAAAIAAAABAAAAAgAAAAEAAAABAAAAAQAAAAEAAAABAAAAAgAAAAIAAAABAAAAAQAAAAEAAAACAAAAAQAAAAEAAAACAAAAAQAAAAAAAAACAAAAAgAAAAEAAAACAAAAAQAAAAAAAAACAAAAAgAAAAIAAAADAAAAAAAAAAIAAAABAAAAAgAAAAIAAAABAAAAAQAAAAEAAAABAAAAAQAAAAIAAAACAAAAAgAAAAIAAAABAAAAAgAAAAEAAAACAAAAAgAAAAIAAAABAAAAAQAAAAEAAAACAAAAAQAAAAIAAAABAAAAAgAAAAEAAAACAAAAAgAAAAEAAAABAAAAAgAAAAMAAAADAAAAAQAAAAIAAAABAAAAAgAAAAIAAAABAAAAAgAAAAIAAAACAAAAAgAAAAAAAAABAAAAAQAAAAIAAAABAAAAAQAAAAIAAAABAAAAAQAAAAIAAAACAAAAAgAAAAIAAAACAAAAAQAAAAIAAAABAAAAAQAAAAEAAAABAAAAAQAAAAIAAAADAAAAAgAAAAMAAAABAAAAAgAAAAIAAAACAAAAAAAAAAMAAAABAAAAAQAAAAEAAAACAAAAAQAAAAEAAAACAAAAAQAAAAEAAAACAAAAAQAAAAIAAAADAAAAAgAAAAEAAAACAAAAAQAAAAIAAAABAAAAAgAAAAIAAAACAAAAAgAAAAEAAAADAAAAAgAAAAMAAAABAAAAAgAAAAIAAAADAAAAAQAAAAEAAAABAAAAAQAAAAIAAAABAAAAAQAAAAEAAAABAAAAAgAAAAIAAAABAAAAAAAAAAMAAAABAAAAAgAAAAEAAAABAAAAAgAAAAEAAAABAAAAAQAAAAEAAAABAAAAAwAAAAIAAAACAAAAAgAAAAEAAAABAAAAAQAAAAIAAAABAAAAAgAAAAEAAAABAAAAAgAAAAEAAAABAAAAAgAAAAEAAAADAAAAAQAAAAEAAAABAAAAAgAAAAEAAAABAAAAAgAAAAEAAAABAAAAAgAAAAIAAAACAAAAAQAAAAIAAAABAAAAAQAAAAIAAAACAAAAAgAAAAIAAAABAAAAAgAAAAIAAAABAAAAAgAAAAEAAAACAAAAAQAAAAMAAAACAAAAAgAAAAIAAAACAAAAAAAAAAIAAAABAAAAAwAAAAEAAAABAAAAAwAAAAMAAAACAAAAAQAAAAIAAAACAAAAAgAAAAIAAAADAAAAAgAAAAEAAAABAAAAAAAAAAEAAAABAAAAAQAAAAIAAAABAAAAAgAAAAMAAAABAAAAAQAAAAEAAAABAAAAAQAAAAAAAAADAAAAAQAAAAEAAAABAAAAAgAAAAEAAAACAAAAAgAAAAIAAAADAAAAAgAAAAEAAAABAAAAAQAAAAEAAAACAAAAAAAAAAIAAAABAAAAAQAAAAIAAAABAAAAAgAAAAAAAAABAAAAAwAAAAAAAAABAAAAAQAAAAEAAAACAAAAAgAAAAEAAAABAAAAAQAAAAEAAAAAAAAAAwAAAAEAAAABAAAAAQAAAAIAAAABAAAAAQAAAAIAAAAAAAAAAQAAAAIAAAABAAAAAgAAAAEAAAAAAAAAAgAAAAMAAAADAAAAAgAAAAEAAAACAAAAAQAAAAEAAAABAAAAAAAAAAIAAAABAAAAAgAAAAIAAAACAAAAAwAAAAIAAAABAAAAAQAAAAIAAAABAAAAAgAAAAEAAAABAAAAAgAAAAEAAAACAAAAAQAAAAIAAAACAAAAAQAAAAIAAAABAAAAAgAAAAEAAAACAAAAAQAAAAEAAAABAAAAAgAAAAEAAAACAAAAAgAAAAAAAAABAAAAAQAAAAAAAAADAAAAAQAAAAIAAAABAAAAAwAAAAIAAAABAAAAAgAAAAEAAAABAAAAAgAAAAAAAAABAAAAAQAAAAIAAAABAAAAAgAAAAEAAAABAAAAAQAAAAEAAAABAAAAAQAAAAIAAAACAAAAAgAAAAEAAAACAAAAAwAAAAEAAAACAAAAAQAAAAEAAAACAAAAAQAAAAIAAAADAAAAAQAAAAIAAAABAAAAAAAAAAIAAAABAAAAAQAAAAEAAAABAAAAAQAAAAMAAAACAAAAAgAAAAEAAAACAAAAAQAAAAIAAAADAAAAAQAAAAEAAAABAAAAAQAAAAAAAAABAAAAAQAAAAEAAAACAAAAAQAAAAIAAAAAAAAAAQAAAAEAAAABAAAAAgAAAAMAAAACAAAAAgAAAAEAAAACAAAAAgAAAAIAAAACAAAAAQAAAAMAAAABAAAAAgAAAAEAAAACAAAAAQAAAAEAAAAAAAAAAgAAAAEAAAACAAAAAQAAAAEAAAACAAAAAQAAAAAAAAACAAAAAwAAAAEAAAACAAAAAQAAAAEAAAACAAAAAAAAAAMAAAABAAAAAgAAAAIAAAABAAAAAwAAAAIAAAABAAAAAQAAAAIAAAABAAAAAgAAAAIAAAADAAAAAQAAAAIAAAACAAAAAQAAAAIAAAACAAAAAgAAAAIAAAABAAAAAAAAAAEAAAACAAAAAQAAAAIAAAABAAAAAgAAAAEAAAADAAAAAwAAAAIAAAABAAAAAgAAAAIAAAAAAAAAAgAAAAIAAAABAAAAAQAAAAEAAAAAAAAAAQAAAAIAAAACAAAAAgAAAAEAAAABAAAAAQAAAAEAAAABAAAAAQAAAAEAAAAAAAAAAQAAAAAAAAAAAAAAAgAAAAEAAAACAAAAAQAAAAIAAAACAAAAAAAAAAIAAAACAAAAAQAAAAAAAAABAAAAAQAAAAEAAAACAAAAAwAAAAIAAAABAAAAAQAAAAEAAAACAAAAAgAAAAEAAAACAAAAAQAAAAIAAAABAAAAAgAAAAEAAAABAAAAAQAAAAIAAAACAAAAAgAAAAEAAAACAAAAAQAAAAAAAAACAAAAAgAAAAEAAAACAAAAAQAAAAIAAAABAAAAAgAAAAEAAAABAAAAAQAAAAEAAAACAAAAAQAAAAEAAAABAAAAAQAAAAEAAAABAAAAAgAAAAIAAAACAAAAAQAAAAIAAAACAAAAAQAAAAIAAAABAAAAAgAAAAAAAAABAAAAAAAAAAEAAAABAAAAAQAAAAIAAAACAAAAAAAAAAMAAAACAAAAAQAAAAIAAAABAAAAAQAAAAEAAAABAAAAAgAAAAEAAAACAAAAAQAAAAEAAAADAAAAAgAAAAAAAAABAAAAAQAAAAEAAAACAAAAAQAAAAEAAAABAAAAAgAAAAMAAAADAAAAAQAAAAIAAAACAAAAAgAAAAEAAAABAAAAAgAAAAEAAAACAAAAAQAAAAMAAAABAAAAAQAAAAAAAAABAAAAAQAAAAAAAAABAAAAAgAAAAEAAAACAAAAAQAAAAEAAAADAAAAAQAAAAIAAAABAAAAAgAAAAEAAAABAAAAAQAAAAEAAAABAAAAAgAAAAEAAAABAAAAAwAAAAIAAAABAAAAAwAAAAIAAAADAAAAAQAAAAEAAAADAAAAAgAAAAIAAAABAAAAAQAAAAEAAAACAAAAAQAAAAEAAAABAAAAAgAAAAEAAAACAAAAAQAAAAIAAAACAAAAAgAAAAEAAAACAAAAAQAAAAIAAAACAAAAAgAAAAIAAAABAAAAAQAAAAIAAAAAAAAAAgAAAAEAAAABAAAAAQAAAAIAAAABAAAAAQAAAAIAAAACAAAAAQAAAAIAAAACAAAAAQAAAAEAAAABAAAAAwAAAAEAAAACAAAAAgAAAAEAAAABAAAAAgAAAAEAAAACAAAAAgAAAAEAAAACAAAAAQAAAAIAAAACAAAAAgAAAAEAAAACAAAAAgAAAAEAAAACAAAAAQAAAAEAAAACAAAAAgAAAAEAAAACAAAAAgAAAAMAAAABAAAAAQAAAAIAAAABAAAAAgAAAAAAAAABAAAAAQAAAAEAAAABAAAAAwAAAAIAAAABAAAAAgAAAAIAAAACAAAAAgAAAAAAAAABAAAAAwAAAAIAAAACAAAAAQAAAAAAAAACAAAAAgAAAAEAAAABAAAAAQAAAAMAAAACAAAAAQAAAAIAAAABAAAAAQAAAAEAAAACAAAAAQAAAAIAAAABAAAAAQAAAAEAAAABAAAAAgAAAAAAAAACAAAAAgAAAAIAAAACAAAAAQAAAAIAAAACAAAAAQAAAAEAAAABAAAAAgAAAAIAAAABAAAAAgAAAAIAAAABAAAAAgAAAAIAAAABAAAAAQAAAAEAAAACAAAAAwAAAAMAAAACAAAAAQAAAAEAAAABAAAAAgAAAAAAAAACAAAAAgAAAAIAAAABAAAAAgAAAAIAAAABAAAAAgAAAAEAAAACAAAAAgAAAAIAAAACAAAAAQAAAAEAAAACAAAAAQAAAAIAAAABAAAAAwAAAAEAAAACAAAAAgAAAAMAAAABAAAAAQAAAAEAAAAAAAAAAgAAAAIAAAABAAAAAgAAAAAAAAABAAAAAQAAAAIAAAABAAAAAAAAAAIAAAACAAAAAQAAAAIAAAABAAAAAAAAAAIAAAABAAAAAQAAAAEAAAABAAAAAgAAAAIAAAACAAAAAgAAAAMAAAACAAAAAQAAAAIAAAACAAAAAQAAAAEAAAACAAAAAQAAAAIAAAABAAAAAgAAAAEAAAABAAAAAgAAAAIAAAACAAAAAgAAAAEAAAABAAAAAwAAAAIAAAAAAAAAAwAAAAMAAAABAAAAAwAAAAEAAAACAAAAAgAAAAIAAAABAAAAAQAAAAIAAAABAAAAAgAAAAEAAAADAAAAAQAAAAIAAAACAAAAAQAAAAEAAAABAAAAAgAAAAEAAAABAAAAAwAAAAEAAAABAAAAAAAAAAEAAAABAAAAAwAAAAEAAAAAAAAAAgAAAAEAAAACAAAAAgAAAAIAAAACAAAAAQAAAAEAAAACAAAAAQAAAAEAAAABAAAAAAAAAAEAAAABAAAAAQAAAAEAAAACAAAAAQAAAAEAAAABAAAAAQAAAAEAAAACAAAAAgAAAAEAAAABAAAAAgAAAAEAAAADAAAAAgAAAAIAAAACAAAAAQAAAAIAAAAAAAAAAgAAAAIAAAACAAAAAgAAAAEAAAACAAAAAgAAAAEAAAABAAAAAQAAAAEAAAACAAAAAQAAAAIAAAACAAAAAQAAAAIAAAACAAAAAwAAAAEAAAACAAAAAgAAAAMAAAACAAAAAQAAAAEAAAACAAAAAgAAAAAAAAACAAAAAQAAAAEAAAABAAAAAgAAAAEAAAABAAAAAgAAAAIAAAACAAAAAgAAAAEAAAACAAAAAQAAAAIAAAABAAAAAAAAAAAAAAACAAAAAQAAAAIAAAACAAAAAgAAAAIAAAACAAAAAgAAAAEAAAABAAAAAgAAAAEAAAABAAAAAwAAAAIAAAABAAAAAAAAAAIAAAABAAAAAQAAAAMAAAABAAAAAQAAAAIAAAACAAAAAgAAAAEAAAABAAAAAQAAAAEAAAABAAAAAwAAAAEAAAACAAAAAQAAAAIAAAACAAAAAgAAAAIAAAABAAAAAQAAAAIAAAABAAAAAQAAAAIAAAABAAAAAQAAAAIAAAACAAAAAQAAAAEAAAADAAAAAgAAAAIAAAADAAAAAgAAAAIAAAAAAAAAAAAAAAIAAAABAAAAAwAAAAEAAAACAAAAAgAAAAEAAAACAAAAAgAAAAEAAAABAAAAAQAAAAIAAAACAAAAAQAAAAIAAAADAAAAAAAAAAEAAAABAAAAAAAAAAIAAAACAAAAAQAAAAEAAAADAAAAAgAAAAIAAAABAAAAAQAAAAEAAAADAAAAAAAAAAEAAAACAAAAAQAAAAIAAAACAAAAAQAAAAEAAAADAAAAAQAAAAEAAAACAAAAAgAAAAEAAAABAAAAAgAAAAMAAAAAAAAAAQAAAAEAAAADAAAAAgAAAAEAAAACAAAAAgAAAAEAAAACAAAAAAAAAAIAAAABAAAAAgAAAAEAAAABAAAAAgAAAAIAAAACAAAAAwAAAAEAAAADAAAAAQAAAAIAAAACAAAAAgAAAAEAAAABAAAAAgAAAAIAAAABAAAAAQAAAAEAAAABAAAAAQAAAAIAAAACAAAAAQAAAAEAAAABAAAAAgAAAAIAAAABAAAAAQAAAAAAAAAAAAAAAQAAAAIAAAACAAAAAQAAAAEAAAABAAAAAQAAAAIAAAACAAAAAwAAAAEAAAACAAAAAgAAAAAAAAAAAAAAAgAAAAEAAAACAAAAAQAAAAEAAAABAAAAAQAAAAIAAAACAAAAAgAAAAIAAAACAAAAAgAAAAIAAAAAAAAAAgAAAAEAAAACAAAAAQAAAAAAAAADAAAAAwAAAAAAAAAAAAAAAgAAAAEAAAACAAAAAAAAAAIAAAADAAAAAgAAAAMAAAACAAAAAQAAAAIAAAACAAAAAgAAAAEAAAAAAAAAAQAAAAEAAAABAAAAAQAAAAEAAAABAAAAAQAAAAEAAAABAAAAAQAAAAIAAAAAAAAAAQAAAAEAAAACAAAAAQAAAAEAAAABAAAAAgAAAAIAAAABAAAAAQAAAAIAAAABAAAAAgAAAAEAAAABAAAAAQAAAAEAAAABAAAAAQAAAAIAAAABAAAAAgAAAAEAAAABAAAAAgAAAAEAAAABAAAAAQAAAAIAAAAAAAAAAgAAAAEAAAACAAAAAQAAAAEAAAADAAAAAQAAAAEAAAABAAAAAgAAAAIAAAACAAAAAgAAAAIAAAADAAAAAgAAAAEAAAABAAAAAgAAAAEAAAACAAAAAQAAAAMAAAACAAAAAgAAAAIAAAACAAAAAQAAAAIAAAABAAAAAgAAAAEAAAACAAAAAQAAAAEAAAABAAAAAQAAAAEAAAAAAAAAAAAAAAIAAAACAAAAAQAAAAIAAAABAAAAAQAAAAEAAAACAAAAAQAAAAIAAAABAAAAAgAAAAEAAAABAAAAAQAAAAIAAAACAAAAAgAAAAEAAAABAAAAAwAAAAIAAAACAAAAAQAAAAIAAAABAAAAAQAAAAIAAAABAAAAAgAAAAEAAAAAAAAAAQAAAAEAAAACAAAAAgAAAAIAAAABAAAAAQAAAAAAAAAAAAAAAQAAAAEAAAABAAAAAQAAAAIAAAAAAAAAAwAAAAIAAAABAAAAAwAAAAEAAAACAAAAAQAAAAIAAAACAAAAAQAAAAEAAAAAAAAAAQAAAAIAAAABAAAAAQAAAAAAAAAAAAAAAQAAAAIAAAACAAAAAwAAAAEAAAABAAAAAgAAAAIAAAACAAAAAQAAAAIAAAABAAAAAgAAAAEAAAACAAAAAAAAAAAAAAABAAAAAgAAAAAAAAABAAAAAgAAAAEAAAABAAAAAgAAAAIAAAABAAAAAgAAAAAAAAABAAAAAwAAAAEAAAACAAAAAQAAAAIAAAABAAAAAgAAAAMAAAACAAAAAwAAAAAAAAABAAAAAgAAAAAAAAABAAAAAQAAAAMAAAABAAAAAQAAAAEAAAACAAAAAQAAAAEAAAABAAAAAQAAAAEAAAAAAAAAAQAAAAEAAAABAAAAAwAAAAEAAAACAAAAAQAAAAEAAAABAAAAAgAAAAEAAAABAAAAAgAAAAIAAAABAAAAAgAAAAEAAAABAAAAAgAAAAIAAAACAAAAAgAAAAEAAAACAAAAAgAAAAMAAAABAAAAAQAAAAEAAAABAAAAAgAAAAEAAAAAAAAAAQAAAAEAAAABAAAAAgAAAAEAAAACAAAAAgAAAAEAAAABAAAAAgAAAAEAAAACAAAAAgAAAAIAAAABAAAAAQAAAAIAAAABAAAAAwAAAAIAAAACAAAAAQAAAAEAAAABAAAAAQAAAAEAAAABAAAAAQAAAAIAAAAAAAAAAQAAAAAAAAACAAAAAgAAAAAAAAACAAAAAwAAAAIAAAABAAAAAwAAAAMAAAACAAAAAQAAAAIAAAABAAAAAQAAAAIAAAACAAAAAgAAAAEAAAABAAAAAwAAAAIAAAACAAAAAQAAAAEAAAAAAAAAAAAAAAIAAAACAAAAAQAAAAIAAAABAAAAAQAAAAEAAAABAAAAAQAAAAIAAAACAAAAAQAAAAIAAAABAAAAAQAAAAIAAAABAAAAAgAAAAEAAAAAAAAAAQAAAAIAAAACAAAAAgAAAAEAAAABAAAAAQAAAAIAAAABAAAAAQAAAAIAAAACAAAAAAAAAAIAAAACAAAAAgAAAAIAAAABAAAAAQAAAAEAAAABAAAAAgAAAAIAAAACAAAAAQAAAAIAAAAAAAAAAQAAAAIAAAACAAAAAgAAAAEAAAABAAAAAwAAAAEAAAABAAAAAQAAAAEAAAABAAAAAAAAAAIAAAABAAAAAQAAAAIAAAACAAAAAQAAAAEAAAACAAAAAQAAAAAAAAABAAAAAQAAAAAAAAACAAAAAQAAAAEAAAADAAAAAgAAAAIAAAADAAAAAgAAAAMAAAABAAAAAQAAAAEAAAABAAAAAQAAAAEAAAACAAAAAQAAAAIAAAACAAAAAwAAAAIAAAABAAAAAgAAAAEAAAACAAAAAgAAAAIAAAABAAAAAgAAAAIAAAABAAAAAgAAAAEAAAABAAAAAAAAAAIAAAADAAAAAQAAAAEAAAABAAAAAAAAAAEAAAABAAAAAgAAAAIAAAACAAAAAgAAAAEAAAACAAAAAQAAAAIAAAABAAAAAgAAAAEAAAACAAAAAQAAAAEAAAACAAAAAgAAAAEAAAACAAAAAgAAAAAAAAADAAAAAgAAAAEAAAABAAAAAQAAAAIAAAABAAAAAgAAAAIAAAABAAAAAQAAAAEAAAABAAAAAgAAAAEAAAABAAAAAgAAAAAAAAACAAAAAQAAAAEAAAACAAAAAQAAAAIAAAACAAAAAgAAAAIAAAAAAAAAAgAAAAIAAAACAAAAAgAAAAEAAAABAAAAAgAAAAEAAAAAAAAAAQAAAAEAAAABAAAAAQAAAAIAAAACAAAAAQAAAAEAAAACAAAAAwAAAAEAAAACAAAAAgAAAAEAAAABAAAAAQAAAAIAAAABAAAAAQAAAAAAAAACAAAAAQAAAAEAAAABAAAAAQAAAAEAAAACAAAAAQAAAAIAAAACAAAAAgAAAAEAAAABAAAAAwAAAAIAAAABAAAAAAAAAAIAAAABAAAAAwAAAAEAAAABAAAAAgAAAAMAAAACAAAAAQAAAAIAAAABAAAAAQAAAAEAAAACAAAAAgAAAAEAAAABAAAAAgAAAAAAAAAAAAAAAgAAAAIAAAACAAAAAQAAAAEAAAACAAAAAQAAAAEAAAABAAAAAQAAAAEAAAACAAAAAwAAAAIAAAACAAAAAgAAAAIAAAABAAAAAQAAAAIAAAACAAAAAQAAAAIAAAACAAAAAQAAAAAAAAACAAAAAQAAAAIAAAACAAAAAQAAAAAAAAABAAAAAgAAAAIAAAABAAAAAgAAAAEAAAABAAAAAwAAAAIAAAACAAAAAgAAAAEAAAABAAAAAQAAAAAAAAABAAAAAQAAAAEAAAABAAAAAQAAAAEAAAABAAAAAgAAAAAAAAACAAAAAQAAAAIAAAABAAAAAQAAAAEAAAACAAAAAQAAAAIAAAABAAAAAgAAAAIAAAABAAAAAQAAAAEAAAABAAAAAQAAAAEAAAADAAAAAgAAAAEAAAABAAAAAgAAAAMAAAABAAAAAgAAAAMAAAABAAAAAgAAAAEAAAABAAAAAgAAAAIAAAACAAAAAQAAAAIAAAAAAAAAAQAAAAEAAAACAAAAAQAAAAMAAAABAAAAAAAAAAEAAAABAAAAAQAAAAEAAAACAAAAAgAAAAIAAAABAAAAAgAAAAIAAAABAAAAAgAAAAEAAAABAAAAAQAAAAEAAAAAAAAAAQAAAAEAAAA=",
           "dtype": "i4"
          },
          "coloraxis": "coloraxis"
         },
         "mode": "markers",
         "name": "",
         "showlegend": false,
         "subplot": "mapbox",
         "type": "scattermapbox"
        }
       ],
       "layout": {
        "coloraxis": {
         "colorbar": {
          "title": {
           "text": "risk_score"
          }
         },
         "colorscale": [
          [
           0,
           "rgb(0,104,55)"
          ],
          [
           0.1,
           "rgb(26,152,80)"
          ],
          [
           0.2,
           "rgb(102,189,99)"
          ],
          [
           0.3,
           "rgb(166,217,106)"
          ],
          [
           0.4,
           "rgb(217,239,139)"
          ],
          [
           0.5,
           "rgb(255,255,191)"
          ],
          [
           0.6,
           "rgb(254,224,139)"
          ],
          [
           0.7,
           "rgb(253,174,97)"
          ],
          [
           0.8,
           "rgb(244,109,67)"
          ],
          [
           0.9,
           "rgb(215,48,39)"
          ],
          [
           1,
           "rgb(165,0,38)"
          ]
         ]
        },
        "legend": {
         "tracegroupgap": 0
        },
        "mapbox": {
         "center": {
          "lat": -0.10918855188272493,
          "lon": 35.01332957631503
         },
         "domain": {
          "x": [
           0,
           1
          ],
          "y": [
           0,
           1
          ]
         },
         "style": "carto-positron",
         "zoom": 6
        },
        "margin": {
         "b": 0,
         "l": 0,
         "r": 0,
         "t": 0
        },
        "template": {
         "data": {
          "bar": [
           {
            "error_x": {
             "color": "#2a3f5f"
            },
            "error_y": {
             "color": "#2a3f5f"
            },
            "marker": {
             "line": {
              "color": "#E5ECF6",
              "width": 0.5
             },
             "pattern": {
              "fillmode": "overlay",
              "size": 10,
              "solidity": 0.2
             }
            },
            "type": "bar"
           }
          ],
          "barpolar": [
           {
            "marker": {
             "line": {
              "color": "#E5ECF6",
              "width": 0.5
             },
             "pattern": {
              "fillmode": "overlay",
              "size": 10,
              "solidity": 0.2
             }
            },
            "type": "barpolar"
           }
          ],
          "carpet": [
           {
            "aaxis": {
             "endlinecolor": "#2a3f5f",
             "gridcolor": "white",
             "linecolor": "white",
             "minorgridcolor": "white",
             "startlinecolor": "#2a3f5f"
            },
            "baxis": {
             "endlinecolor": "#2a3f5f",
             "gridcolor": "white",
             "linecolor": "white",
             "minorgridcolor": "white",
             "startlinecolor": "#2a3f5f"
            },
            "type": "carpet"
           }
          ],
          "choropleth": [
           {
            "colorbar": {
             "outlinewidth": 0,
             "ticks": ""
            },
            "type": "choropleth"
           }
          ],
          "contour": [
           {
            "colorbar": {
             "outlinewidth": 0,
             "ticks": ""
            },
            "colorscale": [
             [
              0,
              "#0d0887"
             ],
             [
              0.1111111111111111,
              "#46039f"
             ],
             [
              0.2222222222222222,
              "#7201a8"
             ],
             [
              0.3333333333333333,
              "#9c179e"
             ],
             [
              0.4444444444444444,
              "#bd3786"
             ],
             [
              0.5555555555555556,
              "#d8576b"
             ],
             [
              0.6666666666666666,
              "#ed7953"
             ],
             [
              0.7777777777777778,
              "#fb9f3a"
             ],
             [
              0.8888888888888888,
              "#fdca26"
             ],
             [
              1,
              "#f0f921"
             ]
            ],
            "type": "contour"
           }
          ],
          "contourcarpet": [
           {
            "colorbar": {
             "outlinewidth": 0,
             "ticks": ""
            },
            "type": "contourcarpet"
           }
          ],
          "heatmap": [
           {
            "colorbar": {
             "outlinewidth": 0,
             "ticks": ""
            },
            "colorscale": [
             [
              0,
              "#0d0887"
             ],
             [
              0.1111111111111111,
              "#46039f"
             ],
             [
              0.2222222222222222,
              "#7201a8"
             ],
             [
              0.3333333333333333,
              "#9c179e"
             ],
             [
              0.4444444444444444,
              "#bd3786"
             ],
             [
              0.5555555555555556,
              "#d8576b"
             ],
             [
              0.6666666666666666,
              "#ed7953"
             ],
             [
              0.7777777777777778,
              "#fb9f3a"
             ],
             [
              0.8888888888888888,
              "#fdca26"
             ],
             [
              1,
              "#f0f921"
             ]
            ],
            "type": "heatmap"
           }
          ],
          "histogram": [
           {
            "marker": {
             "pattern": {
              "fillmode": "overlay",
              "size": 10,
              "solidity": 0.2
             }
            },
            "type": "histogram"
           }
          ],
          "histogram2d": [
           {
            "colorbar": {
             "outlinewidth": 0,
             "ticks": ""
            },
            "colorscale": [
             [
              0,
              "#0d0887"
             ],
             [
              0.1111111111111111,
              "#46039f"
             ],
             [
              0.2222222222222222,
              "#7201a8"
             ],
             [
              0.3333333333333333,
              "#9c179e"
             ],
             [
              0.4444444444444444,
              "#bd3786"
             ],
             [
              0.5555555555555556,
              "#d8576b"
             ],
             [
              0.6666666666666666,
              "#ed7953"
             ],
             [
              0.7777777777777778,
              "#fb9f3a"
             ],
             [
              0.8888888888888888,
              "#fdca26"
             ],
             [
              1,
              "#f0f921"
             ]
            ],
            "type": "histogram2d"
           }
          ],
          "histogram2dcontour": [
           {
            "colorbar": {
             "outlinewidth": 0,
             "ticks": ""
            },
            "colorscale": [
             [
              0,
              "#0d0887"
             ],
             [
              0.1111111111111111,
              "#46039f"
             ],
             [
              0.2222222222222222,
              "#7201a8"
             ],
             [
              0.3333333333333333,
              "#9c179e"
             ],
             [
              0.4444444444444444,
              "#bd3786"
             ],
             [
              0.5555555555555556,
              "#d8576b"
             ],
             [
              0.6666666666666666,
              "#ed7953"
             ],
             [
              0.7777777777777778,
              "#fb9f3a"
             ],
             [
              0.8888888888888888,
              "#fdca26"
             ],
             [
              1,
              "#f0f921"
             ]
            ],
            "type": "histogram2dcontour"
           }
          ],
          "mesh3d": [
           {
            "colorbar": {
             "outlinewidth": 0,
             "ticks": ""
            },
            "type": "mesh3d"
           }
          ],
          "parcoords": [
           {
            "line": {
             "colorbar": {
              "outlinewidth": 0,
              "ticks": ""
             }
            },
            "type": "parcoords"
           }
          ],
          "pie": [
           {
            "automargin": true,
            "type": "pie"
           }
          ],
          "scatter": [
           {
            "fillpattern": {
             "fillmode": "overlay",
             "size": 10,
             "solidity": 0.2
            },
            "type": "scatter"
           }
          ],
          "scatter3d": [
           {
            "line": {
             "colorbar": {
              "outlinewidth": 0,
              "ticks": ""
             }
            },
            "marker": {
             "colorbar": {
              "outlinewidth": 0,
              "ticks": ""
             }
            },
            "type": "scatter3d"
           }
          ],
          "scattercarpet": [
           {
            "marker": {
             "colorbar": {
              "outlinewidth": 0,
              "ticks": ""
             }
            },
            "type": "scattercarpet"
           }
          ],
          "scattergeo": [
           {
            "marker": {
             "colorbar": {
              "outlinewidth": 0,
              "ticks": ""
             }
            },
            "type": "scattergeo"
           }
          ],
          "scattergl": [
           {
            "marker": {
             "colorbar": {
              "outlinewidth": 0,
              "ticks": ""
             }
            },
            "type": "scattergl"
           }
          ],
          "scattermap": [
           {
            "marker": {
             "colorbar": {
              "outlinewidth": 0,
              "ticks": ""
             }
            },
            "type": "scattermap"
           }
          ],
          "scattermapbox": [
           {
            "marker": {
             "colorbar": {
              "outlinewidth": 0,
              "ticks": ""
             }
            },
            "type": "scattermapbox"
           }
          ],
          "scatterpolar": [
           {
            "marker": {
             "colorbar": {
              "outlinewidth": 0,
              "ticks": ""
             }
            },
            "type": "scatterpolar"
           }
          ],
          "scatterpolargl": [
           {
            "marker": {
             "colorbar": {
              "outlinewidth": 0,
              "ticks": ""
             }
            },
            "type": "scatterpolargl"
           }
          ],
          "scatterternary": [
           {
            "marker": {
             "colorbar": {
              "outlinewidth": 0,
              "ticks": ""
             }
            },
            "type": "scatterternary"
           }
          ],
          "surface": [
           {
            "colorbar": {
             "outlinewidth": 0,
             "ticks": ""
            },
            "colorscale": [
             [
              0,
              "#0d0887"
             ],
             [
              0.1111111111111111,
              "#46039f"
             ],
             [
              0.2222222222222222,
              "#7201a8"
             ],
             [
              0.3333333333333333,
              "#9c179e"
             ],
             [
              0.4444444444444444,
              "#bd3786"
             ],
             [
              0.5555555555555556,
              "#d8576b"
             ],
             [
              0.6666666666666666,
              "#ed7953"
             ],
             [
              0.7777777777777778,
              "#fb9f3a"
             ],
             [
              0.8888888888888888,
              "#fdca26"
             ],
             [
              1,
              "#f0f921"
             ]
            ],
            "type": "surface"
           }
          ],
          "table": [
           {
            "cells": {
             "fill": {
              "color": "#EBF0F8"
             },
             "line": {
              "color": "white"
             }
            },
            "header": {
             "fill": {
              "color": "#C8D4E3"
             },
             "line": {
              "color": "white"
             }
            },
            "type": "table"
           }
          ]
         },
         "layout": {
          "annotationdefaults": {
           "arrowcolor": "#2a3f5f",
           "arrowhead": 0,
           "arrowwidth": 1
          },
          "autotypenumbers": "strict",
          "coloraxis": {
           "colorbar": {
            "outlinewidth": 0,
            "ticks": ""
           }
          },
          "colorscale": {
           "diverging": [
            [
             0,
             "#8e0152"
            ],
            [
             0.1,
             "#c51b7d"
            ],
            [
             0.2,
             "#de77ae"
            ],
            [
             0.3,
             "#f1b6da"
            ],
            [
             0.4,
             "#fde0ef"
            ],
            [
             0.5,
             "#f7f7f7"
            ],
            [
             0.6,
             "#e6f5d0"
            ],
            [
             0.7,
             "#b8e186"
            ],
            [
             0.8,
             "#7fbc41"
            ],
            [
             0.9,
             "#4d9221"
            ],
            [
             1,
             "#276419"
            ]
           ],
           "sequential": [
            [
             0,
             "#0d0887"
            ],
            [
             0.1111111111111111,
             "#46039f"
            ],
            [
             0.2222222222222222,
             "#7201a8"
            ],
            [
             0.3333333333333333,
             "#9c179e"
            ],
            [
             0.4444444444444444,
             "#bd3786"
            ],
            [
             0.5555555555555556,
             "#d8576b"
            ],
            [
             0.6666666666666666,
             "#ed7953"
            ],
            [
             0.7777777777777778,
             "#fb9f3a"
            ],
            [
             0.8888888888888888,
             "#fdca26"
            ],
            [
             1,
             "#f0f921"
            ]
           ],
           "sequentialminus": [
            [
             0,
             "#0d0887"
            ],
            [
             0.1111111111111111,
             "#46039f"
            ],
            [
             0.2222222222222222,
             "#7201a8"
            ],
            [
             0.3333333333333333,
             "#9c179e"
            ],
            [
             0.4444444444444444,
             "#bd3786"
            ],
            [
             0.5555555555555556,
             "#d8576b"
            ],
            [
             0.6666666666666666,
             "#ed7953"
            ],
            [
             0.7777777777777778,
             "#fb9f3a"
            ],
            [
             0.8888888888888888,
             "#fdca26"
            ],
            [
             1,
             "#f0f921"
            ]
           ]
          },
          "colorway": [
           "#636efa",
           "#EF553B",
           "#00cc96",
           "#ab63fa",
           "#FFA15A",
           "#19d3f3",
           "#FF6692",
           "#B6E880",
           "#FF97FF",
           "#FECB52"
          ],
          "font": {
           "color": "#2a3f5f"
          },
          "geo": {
           "bgcolor": "white",
           "lakecolor": "white",
           "landcolor": "#E5ECF6",
           "showlakes": true,
           "showland": true,
           "subunitcolor": "white"
          },
          "hoverlabel": {
           "align": "left"
          },
          "hovermode": "closest",
          "mapbox": {
           "style": "light"
          },
          "paper_bgcolor": "white",
          "plot_bgcolor": "#E5ECF6",
          "polar": {
           "angularaxis": {
            "gridcolor": "white",
            "linecolor": "white",
            "ticks": ""
           },
           "bgcolor": "#E5ECF6",
           "radialaxis": {
            "gridcolor": "white",
            "linecolor": "white",
            "ticks": ""
           }
          },
          "scene": {
           "xaxis": {
            "backgroundcolor": "#E5ECF6",
            "gridcolor": "white",
            "gridwidth": 2,
            "linecolor": "white",
            "showbackground": true,
            "ticks": "",
            "zerolinecolor": "white"
           },
           "yaxis": {
            "backgroundcolor": "#E5ECF6",
            "gridcolor": "white",
            "gridwidth": 2,
            "linecolor": "white",
            "showbackground": true,
            "ticks": "",
            "zerolinecolor": "white"
           },
           "zaxis": {
            "backgroundcolor": "#E5ECF6",
            "gridcolor": "white",
            "gridwidth": 2,
            "linecolor": "white",
            "showbackground": true,
            "ticks": "",
            "zerolinecolor": "white"
           }
          },
          "shapedefaults": {
           "line": {
            "color": "#2a3f5f"
           }
          },
          "ternary": {
           "aaxis": {
            "gridcolor": "white",
            "linecolor": "white",
            "ticks": ""
           },
           "baxis": {
            "gridcolor": "white",
            "linecolor": "white",
            "ticks": ""
           },
           "bgcolor": "#E5ECF6",
           "caxis": {
            "gridcolor": "white",
            "linecolor": "white",
            "ticks": ""
           }
          },
          "title": {
           "x": 0.05
          },
          "xaxis": {
           "automargin": true,
           "gridcolor": "white",
           "linecolor": "white",
           "ticks": "",
           "title": {
            "standoff": 15
           },
           "zerolinecolor": "white",
           "zerolinewidth": 2
          },
          "yaxis": {
           "automargin": true,
           "gridcolor": "white",
           "linecolor": "white",
           "ticks": "",
           "title": {
            "standoff": 15
           },
           "zerolinecolor": "white",
           "zerolinewidth": 2
          }
         }
        },
        "title": {
         "text": "Kenya Water Points Risk Map"
        }
       }
      }
     },
     "metadata": {},
     "output_type": "display_data"
    }
   ],
   "source": [
    "import plotly.express as px\n",
    "\n",
    "fig = px.scatter_mapbox(\n",
    "    df_model,\n",
    "    lat=\"latitude\",\n",
    "    lon=\"longitude\",\n",
    "    color=\"risk_score\",\n",
    "    size_max=10,\n",
    "    zoom=6,\n",
    "    mapbox_style=\"carto-positron\",\n",
    "    color_continuous_scale=\"RdYlGn_r\",\n",
    "    hover_data=['clean_adm1', 'clean_adm2', 'water_source_clean'],\n",
    ")\n",
    "\n",
    "fig.update_layout(title=\"Kenya Water Points Risk Map\", margin={\"r\":0,\"t\":0,\"l\":0,\"b\":0})\n",
    "fig.show()\n"
   ]
  },
  {
   "cell_type": "markdown",
   "id": "b5bbb4a1",
   "metadata": {},
   "source": [
    "`Conclusion`\n",
    "\n",
    "Our model shows well-grounded and interpretable, relevant drivers of water risk.\n",
    "\n",
    "Using logical features like served population and environmental indicators.\n",
    "\n",
    "Showing reasonable balance across classes (especially Class 1 & 2), with less influence from any single class bias.\n",
    "\n",
    "This model is ready for deployment and communication with stakeholders."
   ]
  },
  {
   "cell_type": "markdown",
   "id": "bf415837",
   "metadata": {},
   "source": [
    "## Save the Cleaned Dataframe for Streamlit\n"
   ]
  },
  {
   "cell_type": "code",
   "execution_count": 82,
   "id": "4d23dfef",
   "metadata": {},
   "outputs": [
    {
     "data": {
      "text/html": [
       "<div>\n",
       "<style scoped>\n",
       "    .dataframe tbody tr th:only-of-type {\n",
       "        vertical-align: middle;\n",
       "    }\n",
       "\n",
       "    .dataframe tbody tr th {\n",
       "        vertical-align: top;\n",
       "    }\n",
       "\n",
       "    .dataframe thead th {\n",
       "        text-align: right;\n",
       "    }\n",
       "</style>\n",
       "<table border=\"1\" class=\"dataframe\">\n",
       "  <thead>\n",
       "    <tr style=\"text-align: right;\">\n",
       "      <th></th>\n",
       "      <th>water_source_clean</th>\n",
       "      <th>water_source_category</th>\n",
       "      <th>water_tech_clean</th>\n",
       "      <th>clean_adm1</th>\n",
       "      <th>clean_adm2</th>\n",
       "      <th>clean_adm3</th>\n",
       "      <th>status_clean</th>\n",
       "      <th>distance_to_primary</th>\n",
       "      <th>distance_to_secondary</th>\n",
       "      <th>distance_to_tertiary</th>\n",
       "      <th>...</th>\n",
       "      <th>crucialness</th>\n",
       "      <th>pressure</th>\n",
       "      <th>staleness_score</th>\n",
       "      <th>latitude</th>\n",
       "      <th>longitude</th>\n",
       "      <th>chirps_30_precipitation</th>\n",
       "      <th>ndvi_30_NDVI</th>\n",
       "      <th>lst_30_LST_Day_1km</th>\n",
       "      <th>pop_population</th>\n",
       "      <th>risk_score</th>\n",
       "    </tr>\n",
       "  </thead>\n",
       "  <tbody>\n",
       "    <tr>\n",
       "      <th>0</th>\n",
       "      <td>Protected Well</td>\n",
       "      <td>Well</td>\n",
       "      <td>Motorized Pump - Electric</td>\n",
       "      <td>Kakamega</td>\n",
       "      <td>Khwisero</td>\n",
       "      <td>Kisa Central</td>\n",
       "      <td>Non-Functional</td>\n",
       "      <td>9183.615388</td>\n",
       "      <td>429.841197</td>\n",
       "      <td>6642.740054</td>\n",
       "      <td>...</td>\n",
       "      <td>0.092552</td>\n",
       "      <td>0.836667</td>\n",
       "      <td>85.472443</td>\n",
       "      <td>0.174668</td>\n",
       "      <td>34.554572</td>\n",
       "      <td>5.804299</td>\n",
       "      <td>0.77920</td>\n",
       "      <td>23.620</td>\n",
       "      <td>10.462028</td>\n",
       "      <td>1</td>\n",
       "    </tr>\n",
       "    <tr>\n",
       "      <th>1</th>\n",
       "      <td>Protected Well</td>\n",
       "      <td>Well</td>\n",
       "      <td>Motorized Pump - Electric</td>\n",
       "      <td>Kakamega</td>\n",
       "      <td>Butere</td>\n",
       "      <td>Marama North</td>\n",
       "      <td>Non-Functional</td>\n",
       "      <td>9834.545269</td>\n",
       "      <td>3503.282125</td>\n",
       "      <td>1517.239132</td>\n",
       "      <td>...</td>\n",
       "      <td>0.055234</td>\n",
       "      <td>0.413333</td>\n",
       "      <td>93.270891</td>\n",
       "      <td>0.220830</td>\n",
       "      <td>34.565483</td>\n",
       "      <td>5.864281</td>\n",
       "      <td>0.77615</td>\n",
       "      <td>23.370</td>\n",
       "      <td>6.315442</td>\n",
       "      <td>1</td>\n",
       "    </tr>\n",
       "    <tr>\n",
       "      <th>2</th>\n",
       "      <td>Protected Well</td>\n",
       "      <td>Well</td>\n",
       "      <td>Motorized Pump - Electric</td>\n",
       "      <td>Siaya</td>\n",
       "      <td>Alego Usonga</td>\n",
       "      <td>South East Alego</td>\n",
       "      <td>Non-Functional</td>\n",
       "      <td>12946.140250</td>\n",
       "      <td>399.848815</td>\n",
       "      <td>5794.867044</td>\n",
       "      <td>...</td>\n",
       "      <td>0.199682</td>\n",
       "      <td>1.676667</td>\n",
       "      <td>93.270891</td>\n",
       "      <td>0.044235</td>\n",
       "      <td>34.339775</td>\n",
       "      <td>2.798805</td>\n",
       "      <td>0.73455</td>\n",
       "      <td>24.350</td>\n",
       "      <td>5.745561</td>\n",
       "      <td>3</td>\n",
       "    </tr>\n",
       "    <tr>\n",
       "      <th>4</th>\n",
       "      <td>Undefined Well</td>\n",
       "      <td>Well</td>\n",
       "      <td>Public Tapstand</td>\n",
       "      <td>Kakamega</td>\n",
       "      <td>Malava</td>\n",
       "      <td>Butali/Chegulo</td>\n",
       "      <td>Non-Functional, dry season</td>\n",
       "      <td>24860.727495</td>\n",
       "      <td>20338.383954</td>\n",
       "      <td>4072.968360</td>\n",
       "      <td>...</td>\n",
       "      <td>0.314988</td>\n",
       "      <td>3.033333</td>\n",
       "      <td>67.775251</td>\n",
       "      <td>0.497160</td>\n",
       "      <td>34.831463</td>\n",
       "      <td>5.655031</td>\n",
       "      <td>0.74335</td>\n",
       "      <td>23.435</td>\n",
       "      <td>7.758868</td>\n",
       "      <td>2</td>\n",
       "    </tr>\n",
       "    <tr>\n",
       "      <th>5</th>\n",
       "      <td>Protected Well</td>\n",
       "      <td>Well</td>\n",
       "      <td>Public Tapstand</td>\n",
       "      <td>Kakamega</td>\n",
       "      <td>Ikolomani</td>\n",
       "      <td>Idakho South</td>\n",
       "      <td>Functional, not in use</td>\n",
       "      <td>13949.830321</td>\n",
       "      <td>1275.321026</td>\n",
       "      <td>1183.524036</td>\n",
       "      <td>...</td>\n",
       "      <td>0.090775</td>\n",
       "      <td>1.230000</td>\n",
       "      <td>67.604558</td>\n",
       "      <td>0.134735</td>\n",
       "      <td>34.687273</td>\n",
       "      <td>5.462062</td>\n",
       "      <td>0.77880</td>\n",
       "      <td>23.325</td>\n",
       "      <td>9.620794</td>\n",
       "      <td>2</td>\n",
       "    </tr>\n",
       "    <tr>\n",
       "      <th>...</th>\n",
       "      <td>...</td>\n",
       "      <td>...</td>\n",
       "      <td>...</td>\n",
       "      <td>...</td>\n",
       "      <td>...</td>\n",
       "      <td>...</td>\n",
       "      <td>...</td>\n",
       "      <td>...</td>\n",
       "      <td>...</td>\n",
       "      <td>...</td>\n",
       "      <td>...</td>\n",
       "      <td>...</td>\n",
       "      <td>...</td>\n",
       "      <td>...</td>\n",
       "      <td>...</td>\n",
       "      <td>...</td>\n",
       "      <td>...</td>\n",
       "      <td>...</td>\n",
       "      <td>...</td>\n",
       "      <td>...</td>\n",
       "      <td>...</td>\n",
       "    </tr>\n",
       "    <tr>\n",
       "      <th>21362</th>\n",
       "      <td>Protected Well</td>\n",
       "      <td>Well</td>\n",
       "      <td>Motorized Pump - Electric</td>\n",
       "      <td>Siaya</td>\n",
       "      <td>Gem</td>\n",
       "      <td>North Gem</td>\n",
       "      <td>Non-Functional</td>\n",
       "      <td>1345.634133</td>\n",
       "      <td>7620.128495</td>\n",
       "      <td>5790.024513</td>\n",
       "      <td>...</td>\n",
       "      <td>0.082958</td>\n",
       "      <td>1.043333</td>\n",
       "      <td>93.683404</td>\n",
       "      <td>0.121658</td>\n",
       "      <td>34.464638</td>\n",
       "      <td>4.933049</td>\n",
       "      <td>0.78920</td>\n",
       "      <td>23.745</td>\n",
       "      <td>6.986204</td>\n",
       "      <td>1</td>\n",
       "    </tr>\n",
       "    <tr>\n",
       "      <th>21363</th>\n",
       "      <td>Protected Well</td>\n",
       "      <td>Well</td>\n",
       "      <td>Motorized Pump - Electric</td>\n",
       "      <td>Vihiga</td>\n",
       "      <td>Hamisi</td>\n",
       "      <td>Banja</td>\n",
       "      <td>Non-Functional</td>\n",
       "      <td>17786.013257</td>\n",
       "      <td>5625.748836</td>\n",
       "      <td>292.492573</td>\n",
       "      <td>...</td>\n",
       "      <td>0.113972</td>\n",
       "      <td>1.003333</td>\n",
       "      <td>84.667991</td>\n",
       "      <td>0.061087</td>\n",
       "      <td>34.842942</td>\n",
       "      <td>5.431612</td>\n",
       "      <td>0.78705</td>\n",
       "      <td>22.475</td>\n",
       "      <td>9.863127</td>\n",
       "      <td>1</td>\n",
       "    </tr>\n",
       "    <tr>\n",
       "      <th>21364</th>\n",
       "      <td>Protected Well</td>\n",
       "      <td>Well</td>\n",
       "      <td>Hand Pump</td>\n",
       "      <td>Siaya</td>\n",
       "      <td>Gem</td>\n",
       "      <td>East Gem</td>\n",
       "      <td>Functional, not in use</td>\n",
       "      <td>6065.989535</td>\n",
       "      <td>3013.631233</td>\n",
       "      <td>3036.850910</td>\n",
       "      <td>...</td>\n",
       "      <td>0.174757</td>\n",
       "      <td>0.960000</td>\n",
       "      <td>67.711191</td>\n",
       "      <td>0.028658</td>\n",
       "      <td>34.525814</td>\n",
       "      <td>3.760260</td>\n",
       "      <td>0.69380</td>\n",
       "      <td>23.805</td>\n",
       "      <td>4.242080</td>\n",
       "      <td>0</td>\n",
       "    </tr>\n",
       "    <tr>\n",
       "      <th>21365</th>\n",
       "      <td>Sand or Sub-surface Dam</td>\n",
       "      <td>Sand or Sub-surface Dam</td>\n",
       "      <td>Public Tapstand</td>\n",
       "      <td>Embu</td>\n",
       "      <td>Mbeere South</td>\n",
       "      <td>Kiambere</td>\n",
       "      <td>Functional, not in use</td>\n",
       "      <td>10092.638514</td>\n",
       "      <td>12162.181670</td>\n",
       "      <td>2364.380776</td>\n",
       "      <td>...</td>\n",
       "      <td>0.311927</td>\n",
       "      <td>1.156667</td>\n",
       "      <td>24.803437</td>\n",
       "      <td>-0.671726</td>\n",
       "      <td>37.738338</td>\n",
       "      <td>0.397227</td>\n",
       "      <td>0.62535</td>\n",
       "      <td>24.895</td>\n",
       "      <td>0.640961</td>\n",
       "      <td>1</td>\n",
       "    </tr>\n",
       "    <tr>\n",
       "      <th>21366</th>\n",
       "      <td>Protected Well</td>\n",
       "      <td>Well</td>\n",
       "      <td>Public Tapstand</td>\n",
       "      <td>Kakamega</td>\n",
       "      <td>Ikolomani</td>\n",
       "      <td>Idakho North</td>\n",
       "      <td>Functional, needs repair</td>\n",
       "      <td>5280.770813</td>\n",
       "      <td>9333.187995</td>\n",
       "      <td>3116.416043</td>\n",
       "      <td>...</td>\n",
       "      <td>0.078897</td>\n",
       "      <td>0.830000</td>\n",
       "      <td>67.604558</td>\n",
       "      <td>0.231943</td>\n",
       "      <td>34.712578</td>\n",
       "      <td>6.251597</td>\n",
       "      <td>0.78745</td>\n",
       "      <td>23.055</td>\n",
       "      <td>8.410801</td>\n",
       "      <td>1</td>\n",
       "    </tr>\n",
       "  </tbody>\n",
       "</table>\n",
       "<p>3479 rows × 24 columns</p>\n",
       "</div>"
      ],
      "text/plain": [
       "            water_source_clean    water_source_category  \\\n",
       "0               Protected Well                     Well   \n",
       "1               Protected Well                     Well   \n",
       "2               Protected Well                     Well   \n",
       "4               Undefined Well                     Well   \n",
       "5               Protected Well                     Well   \n",
       "...                        ...                      ...   \n",
       "21362           Protected Well                     Well   \n",
       "21363           Protected Well                     Well   \n",
       "21364           Protected Well                     Well   \n",
       "21365  Sand or Sub-surface Dam  Sand or Sub-surface Dam   \n",
       "21366           Protected Well                     Well   \n",
       "\n",
       "                water_tech_clean clean_adm1    clean_adm2        clean_adm3  \\\n",
       "0      Motorized Pump - Electric   Kakamega      Khwisero      Kisa Central   \n",
       "1      Motorized Pump - Electric   Kakamega        Butere      Marama North   \n",
       "2      Motorized Pump - Electric      Siaya  Alego Usonga  South East Alego   \n",
       "4                Public Tapstand   Kakamega        Malava    Butali/Chegulo   \n",
       "5                Public Tapstand   Kakamega     Ikolomani      Idakho South   \n",
       "...                          ...        ...           ...               ...   \n",
       "21362  Motorized Pump - Electric      Siaya           Gem         North Gem   \n",
       "21363  Motorized Pump - Electric     Vihiga        Hamisi             Banja   \n",
       "21364                  Hand Pump      Siaya           Gem          East Gem   \n",
       "21365            Public Tapstand       Embu  Mbeere South          Kiambere   \n",
       "21366            Public Tapstand   Kakamega     Ikolomani      Idakho North   \n",
       "\n",
       "                     status_clean  distance_to_primary  distance_to_secondary  \\\n",
       "0                  Non-Functional          9183.615388             429.841197   \n",
       "1                  Non-Functional          9834.545269            3503.282125   \n",
       "2                  Non-Functional         12946.140250             399.848815   \n",
       "4      Non-Functional, dry season         24860.727495           20338.383954   \n",
       "5          Functional, not in use         13949.830321            1275.321026   \n",
       "...                           ...                  ...                    ...   \n",
       "21362              Non-Functional          1345.634133            7620.128495   \n",
       "21363              Non-Functional         17786.013257            5625.748836   \n",
       "21364      Functional, not in use          6065.989535            3013.631233   \n",
       "21365      Functional, not in use         10092.638514           12162.181670   \n",
       "21366    Functional, needs repair          5280.770813            9333.187995   \n",
       "\n",
       "       distance_to_tertiary  ...  crucialness  pressure  staleness_score  \\\n",
       "0               6642.740054  ...     0.092552  0.836667        85.472443   \n",
       "1               1517.239132  ...     0.055234  0.413333        93.270891   \n",
       "2               5794.867044  ...     0.199682  1.676667        93.270891   \n",
       "4               4072.968360  ...     0.314988  3.033333        67.775251   \n",
       "5               1183.524036  ...     0.090775  1.230000        67.604558   \n",
       "...                     ...  ...          ...       ...              ...   \n",
       "21362           5790.024513  ...     0.082958  1.043333        93.683404   \n",
       "21363            292.492573  ...     0.113972  1.003333        84.667991   \n",
       "21364           3036.850910  ...     0.174757  0.960000        67.711191   \n",
       "21365           2364.380776  ...     0.311927  1.156667        24.803437   \n",
       "21366           3116.416043  ...     0.078897  0.830000        67.604558   \n",
       "\n",
       "       latitude  longitude  chirps_30_precipitation  ndvi_30_NDVI  \\\n",
       "0      0.174668  34.554572                 5.804299       0.77920   \n",
       "1      0.220830  34.565483                 5.864281       0.77615   \n",
       "2      0.044235  34.339775                 2.798805       0.73455   \n",
       "4      0.497160  34.831463                 5.655031       0.74335   \n",
       "5      0.134735  34.687273                 5.462062       0.77880   \n",
       "...         ...        ...                      ...           ...   \n",
       "21362  0.121658  34.464638                 4.933049       0.78920   \n",
       "21363  0.061087  34.842942                 5.431612       0.78705   \n",
       "21364  0.028658  34.525814                 3.760260       0.69380   \n",
       "21365 -0.671726  37.738338                 0.397227       0.62535   \n",
       "21366  0.231943  34.712578                 6.251597       0.78745   \n",
       "\n",
       "       lst_30_LST_Day_1km  pop_population  risk_score  \n",
       "0                  23.620       10.462028           1  \n",
       "1                  23.370        6.315442           1  \n",
       "2                  24.350        5.745561           3  \n",
       "4                  23.435        7.758868           2  \n",
       "5                  23.325        9.620794           2  \n",
       "...                   ...             ...         ...  \n",
       "21362              23.745        6.986204           1  \n",
       "21363              22.475        9.863127           1  \n",
       "21364              23.805        4.242080           0  \n",
       "21365              24.895        0.640961           1  \n",
       "21366              23.055        8.410801           1  \n",
       "\n",
       "[3479 rows x 24 columns]"
      ]
     },
     "execution_count": 82,
     "metadata": {},
     "output_type": "execute_result"
    }
   ],
   "source": [
    "df_model"
   ]
  },
  {
   "cell_type": "code",
   "execution_count": 83,
   "id": "80f01b01",
   "metadata": {},
   "outputs": [],
   "source": [
    "# Save the DataFrame \n",
    "df_model.to_csv(r'../data/processed/environmental.csv', index=False)"
   ]
  },
  {
   "cell_type": "markdown",
   "id": "aa4916b6",
   "metadata": {},
   "source": [
    "# Save the best model for deployment"
   ]
  },
  {
   "cell_type": "code",
   "execution_count": 84,
   "id": "3472713a",
   "metadata": {},
   "outputs": [
    {
     "data": {
      "text/plain": [
       "['../models/environmental.pkl']"
      ]
     },
     "execution_count": 84,
     "metadata": {},
     "output_type": "execute_result"
    }
   ],
   "source": [
    "import joblib\n",
    "\n",
    "# Save the full pipeline model (with preprocessor)\n",
    "joblib.dump(smote_xgb_pipeline, r'../models/environmental.pkl')\n"
   ]
  },
  {
   "cell_type": "code",
   "execution_count": 85,
   "id": "56e5f701",
   "metadata": {},
   "outputs": [],
   "source": [
    "# load the model\n",
    "\n",
    "# model = joblib.load(r'../models/environmental.pkl')\n",
    "# predictions = model.predict(new_data)"
   ]
  },
  {
   "cell_type": "code",
   "execution_count": 86,
   "id": "09a67209",
   "metadata": {},
   "outputs": [
    {
     "name": "stdout",
     "output_type": "stream",
     "text": [
      "Scikit-learn version used to save: 1.6.1\n",
      "Model loaded successfully.\n"
     ]
    }
   ],
   "source": [
    "import sklearn\n",
    "from pathlib import Path\n",
    "print(\"Scikit-learn version used to save:\", sklearn.__version__)\n",
    "\n",
    "# Path to save\n",
    "model_path = Path(\"../models/environmental.pkl\")\n",
    "joblib.dump(smote_xgb_pipeline, model_path)\n",
    "\n",
    "# Immediately load back and test\n",
    "model = joblib.load(model_path)\n",
    "print(\"Model loaded successfully.\")"
   ]
  },
  {
   "cell_type": "code",
   "execution_count": null,
   "id": "f0af3d02",
   "metadata": {},
   "outputs": [],
   "source": []
  }
 ],
 "metadata": {
  "kernelspec": {
   "display_name": "learn-env",
   "language": "python",
   "name": "python3"
  },
  "language_info": {
   "codemirror_mode": {
    "name": "ipython",
    "version": 3
   },
   "file_extension": ".py",
   "mimetype": "text/x-python",
   "name": "python",
   "nbconvert_exporter": "python",
   "pygments_lexer": "ipython3",
   "version": "3.9.21"
  }
 },
 "nbformat": 4,
 "nbformat_minor": 5
}
