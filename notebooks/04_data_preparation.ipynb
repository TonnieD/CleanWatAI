{
 "cells": [
  {
   "cell_type": "code",
   "execution_count": 1,
   "id": "76202b8d",
   "metadata": {
    "execution": {
     "iopub.execute_input": "2025-07-26T10:53:01.540989Z",
     "iopub.status.busy": "2025-07-26T10:53:01.540989Z",
     "iopub.status.idle": "2025-07-26T10:53:01.565077Z",
     "shell.execute_reply": "2025-07-26T10:53:01.564057Z"
    }
   },
   "outputs": [],
   "source": [
    "%load_ext autoreload\n",
    "%autoreload 2\n"
   ]
  },
  {
   "cell_type": "code",
   "execution_count": null,
   "id": "50d5b8d7",
   "metadata": {},
   "outputs": [],
   "source": []
  }
 ],
 "metadata": {
  "language_info": {
   "codemirror_mode": {
    "name": "ipython",
    "version": 3
   },
   "file_extension": ".py",
   "mimetype": "text/x-python",
   "name": "python",
   "nbconvert_exporter": "python",
   "pygments_lexer": "ipython3",
   "version": "3.12.7"
  }
 },
 "nbformat": 4,
 "nbformat_minor": 5
}
