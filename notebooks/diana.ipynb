{
 "cells": [
  {
   "cell_type": "code",
   "execution_count": null,
   "id": "6179c192",
   "metadata": {},
   "outputs": [],
   "source": [
    "%load_ext autoreload\n",
    "%autoreload 2\n",
    "\n"
   ]
  },
  {
   "cell_type": "code",
   "execution_count": 1,
   "id": "51399f9e",
   "metadata": {},
   "outputs": [
    {
     "ename": "ModuleNotFoundError",
     "evalue": "No module named 'geopandas'",
     "output_type": "error",
     "traceback": [
      "\u001b[1;31m---------------------------------------------------------------------------\u001b[0m",
      "\u001b[1;31mModuleNotFoundError\u001b[0m                       Traceback (most recent call last)",
      "Cell \u001b[1;32mIn[1], line 2\u001b[0m\n\u001b[0;32m      1\u001b[0m \u001b[38;5;66;03m# setup\u001b[39;00m\n\u001b[1;32m----> 2\u001b[0m \u001b[38;5;28;01mimport\u001b[39;00m \u001b[38;5;21;01mee\u001b[39;00m\u001b[38;5;241m,\u001b[39m \u001b[38;5;21;01mgeemap\u001b[39;00m\u001b[38;5;241m,\u001b[39m \u001b[38;5;21;01mpandas\u001b[39;00m \u001b[38;5;28;01mas\u001b[39;00m \u001b[38;5;21;01mpd\u001b[39;00m\u001b[38;5;241m,\u001b[39m \u001b[38;5;21;01mgeopandas\u001b[39;00m \u001b[38;5;28;01mas\u001b[39;00m \u001b[38;5;21;01mgpd\u001b[39;00m\n\u001b[0;32m      3\u001b[0m \u001b[38;5;28;01mfrom\u001b[39;00m \u001b[38;5;21;01mshapely\u001b[39;00m\u001b[38;5;21;01m.\u001b[39;00m\u001b[38;5;21;01mgeometry\u001b[39;00m \u001b[38;5;28;01mimport\u001b[39;00m Point\n\u001b[0;32m      5\u001b[0m ee\u001b[38;5;241m.\u001b[39mAuthenticate()\n",
      "\u001b[1;31mModuleNotFoundError\u001b[0m: No module named 'geopandas'"
     ]
    }
   ],
   "source": [
    "# setup\n",
    "import ee, geemap, pandas as pd, geopandas as gpd\n",
    "from shapely.geometry import Point\n",
    "\n",
    "ee.Authenticate()\n",
    "ee.Initialize()\n"
   ]
  },
  {
   "cell_type": "markdown",
   "id": "e300babe",
   "metadata": {},
   "source": [
    "- wpdx data - base"
   ]
  },
  {
   "cell_type": "code",
   "execution_count": null,
   "id": "8be729f5",
   "metadata": {},
   "outputs": [
    {
     "data": {
      "text/html": [
       "\n",
       "            <style>\n",
       "                .geemap-dark {\n",
       "                    --jp-widgets-color: white;\n",
       "                    --jp-widgets-label-color: white;\n",
       "                    --jp-ui-font-color1: white;\n",
       "                    --jp-layout-color2: #454545;\n",
       "                    background-color: #383838;\n",
       "                }\n",
       "\n",
       "                .geemap-dark .jupyter-button {\n",
       "                    --jp-layout-color3: #383838;\n",
       "                }\n",
       "\n",
       "                .geemap-colab {\n",
       "                    background-color: var(--colab-primary-surface-color, white);\n",
       "                }\n",
       "\n",
       "                .geemap-colab .jupyter-button {\n",
       "                    --jp-layout-color3: var(--colab-primary-surface-color, white);\n",
       "                }\n",
       "            </style>\n",
       "            "
      ],
      "text/plain": [
       "<IPython.core.display.HTML object>"
      ]
     },
     "metadata": {},
     "output_type": "display_data"
    },
    {
     "data": {
      "application/vnd.microsoft.datawrangler.viewer.v0+json": {
       "columns": [
        {
         "name": "index",
         "rawType": "int64",
         "type": "integer"
        },
        {
         "name": "row_id",
         "rawType": "object",
         "type": "string"
        },
        {
         "name": "#source",
         "rawType": "object",
         "type": "string"
        },
        {
         "name": "#lat_deg",
         "rawType": "float64",
         "type": "float"
        },
        {
         "name": "#lon_deg",
         "rawType": "float64",
         "type": "float"
        },
        {
         "name": "#report_date",
         "rawType": "object",
         "type": "string"
        },
        {
         "name": "#status_id",
         "rawType": "object",
         "type": "string"
        },
        {
         "name": "#water_source_clean",
         "rawType": "object",
         "type": "string"
        },
        {
         "name": "#water_source_category",
         "rawType": "object",
         "type": "string"
        },
        {
         "name": "#water_tech_clean",
         "rawType": "object",
         "type": "unknown"
        },
        {
         "name": "#water_tech_category",
         "rawType": "object",
         "type": "unknown"
        },
        {
         "name": "#facility_type",
         "rawType": "object",
         "type": "string"
        },
        {
         "name": "#clean_country_name",
         "rawType": "object",
         "type": "string"
        },
        {
         "name": "#clean_country_id",
         "rawType": "object",
         "type": "string"
        },
        {
         "name": "#clean_adm1",
         "rawType": "object",
         "type": "string"
        },
        {
         "name": "#clean_adm2",
         "rawType": "object",
         "type": "string"
        },
        {
         "name": "#clean_adm3",
         "rawType": "object",
         "type": "string"
        },
        {
         "name": "#clean_adm4",
         "rawType": "object",
         "type": "unknown"
        },
        {
         "name": "#install_year",
         "rawType": "object",
         "type": "string"
        },
        {
         "name": "#installer",
         "rawType": "object",
         "type": "unknown"
        },
        {
         "name": "#rehab_year",
         "rawType": "object",
         "type": "unknown"
        },
        {
         "name": "#rehabilitator",
         "rawType": "object",
         "type": "unknown"
        },
        {
         "name": "#management_clean",
         "rawType": "object",
         "type": "string"
        },
        {
         "name": "#status_clean",
         "rawType": "object",
         "type": "string"
        },
        {
         "name": "#pay_clean",
         "rawType": "object",
         "type": "unknown"
        },
        {
         "name": "#fecal_coliform_presence",
         "rawType": "object",
         "type": "unknown"
        },
        {
         "name": "#fecal_coliform_value",
         "rawType": "float64",
         "type": "float"
        },
        {
         "name": "#subjective_quality_clean",
         "rawType": "object",
         "type": "unknown"
        },
        {
         "name": "#activity_id",
         "rawType": "object",
         "type": "unknown"
        },
        {
         "name": "#scheme_id",
         "rawType": "object",
         "type": "unknown"
        },
        {
         "name": "#wpdx_id",
         "rawType": "object",
         "type": "string"
        },
        {
         "name": "#notes",
         "rawType": "object",
         "type": "string"
        },
        {
         "name": "#orig_lnk",
         "rawType": "object",
         "type": "string"
        },
        {
         "name": "#photo_lnk",
         "rawType": "object",
         "type": "unknown"
        },
        {
         "name": "#country_id",
         "rawType": "object",
         "type": "string"
        },
        {
         "name": "#data_lnk",
         "rawType": "object",
         "type": "string"
        },
        {
         "name": "#distance_to_primary_road",
         "rawType": "object",
         "type": "string"
        },
        {
         "name": "#distance_to_secondary_road",
         "rawType": "object",
         "type": "string"
        },
        {
         "name": "#distance_to_tertiary_road",
         "rawType": "object",
         "type": "string"
        },
        {
         "name": "#distance_to_city",
         "rawType": "object",
         "type": "string"
        },
        {
         "name": "#distance_to_town",
         "rawType": "object",
         "type": "string"
        },
        {
         "name": "water_point_history",
         "rawType": "object",
         "type": "string"
        },
        {
         "name": "local_population_1km",
         "rawType": "object",
         "type": "string"
        },
        {
         "name": "water_point_population",
         "rawType": "object",
         "type": "string"
        },
        {
         "name": "rehab_priority",
         "rawType": "object",
         "type": "unknown"
        },
        {
         "name": "#pop_who_would_gain_access",
         "rawType": "object",
         "type": "unknown"
        },
        {
         "name": "crucialness_score",
         "rawType": "float64",
         "type": "float"
        },
        {
         "name": "pressure_score",
         "rawType": "object",
         "type": "unknown"
        },
        {
         "name": "usage_capacity",
         "rawType": "float64",
         "type": "float"
        },
        {
         "name": "days_since_report",
         "rawType": "object",
         "type": "string"
        },
        {
         "name": "staleness_score",
         "rawType": "float64",
         "type": "float"
        },
        {
         "name": "latest_record",
         "rawType": "object",
         "type": "unknown"
        },
        {
         "name": "location_id",
         "rawType": "object",
         "type": "string"
        },
        {
         "name": "is_urban",
         "rawType": "bool",
         "type": "boolean"
        },
        {
         "name": "cluster_size",
         "rawType": "int64",
         "type": "integer"
        },
        {
         "name": "#country_name",
         "rawType": "object",
         "type": "string"
        },
        {
         "name": "#water_source",
         "rawType": "object",
         "type": "string"
        },
        {
         "name": "#water_tech",
         "rawType": "object",
         "type": "unknown"
        },
        {
         "name": "#status",
         "rawType": "object",
         "type": "unknown"
        },
        {
         "name": "#adm1",
         "rawType": "object",
         "type": "string"
        },
        {
         "name": "#adm2",
         "rawType": "object",
         "type": "string"
        },
        {
         "name": "#adm3",
         "rawType": "object",
         "type": "string"
        },
        {
         "name": "#management",
         "rawType": "object",
         "type": "string"
        },
        {
         "name": "#pay",
         "rawType": "object",
         "type": "unknown"
        },
        {
         "name": "#subjective_quality",
         "rawType": "object",
         "type": "unknown"
        },
        {
         "name": "New Georeferenced Column ",
         "rawType": "object",
         "type": "string"
        },
        {
         "name": "lat_lon_deg",
         "rawType": "object",
         "type": "string"
        },
        {
         "name": "public_data_source",
         "rawType": "object",
         "type": "string"
        },
        {
         "name": "converted",
         "rawType": "object",
         "type": "unknown"
        },
        {
         "name": "count",
         "rawType": "int64",
         "type": "integer"
        },
        {
         "name": "created_timestamp",
         "rawType": "object",
         "type": "string"
        },
        {
         "name": "updated_timestamp",
         "rawType": "object",
         "type": "string"
        },
        {
         "name": "is_duplicate",
         "rawType": "object",
         "type": "unknown"
        },
        {
         "name": "dataset_title",
         "rawType": "object",
         "type": "string"
        }
       ],
       "ref": "999d300c-37f8-46be-b674-d5013313eefe",
       "rows": [
        [
         "0",
         "5,426",
         "COWASH",
         "4.293253",
         "41.139771",
         "2020 May 14 12:00:00 AM",
         "Yes",
         "Protected Well",
         "Well",
         null,
         null,
         "Improved",
         "Ethiopia",
         "ETH",
         "Somali",
         "Liban",
         "Bokolmayo",
         null,
         "2,010",
         null,
         null,
         null,
         "Community Management",
         "Non-Functional",
         null,
         null,
         null,
         null,
         null,
         null,
         "6HP374VQ+8W2",
         "Wulata",
         "https://cowashdb.org/",
         null,
         "ET",
         "https://catalog.waterpointdata.org/datasets/cowash-ethiopia-2021-602f004d",
         "74,644.17158022462",
         "38,035.48202670223",
         "45,262.26432591129",
         "141,675.932701761",
         "41,290.71468294709",
         "{\"2020-05-14\": {\"source\": \"COWASH\", \"status_id\": \"Yes\", \"water_source_clean\": \"Protected Well\"}}",
         "0",
         "0",
         null,
         null,
         null,
         null,
         "300.0",
         "1,501",
         "62.30459526044",
         "True",
         "383,567",
         "False",
         "1",
         "Ethiopia",
         "Protected spring",
         null,
         null,
         "SNNP",
         "Sidama",
         "Arbegona",
         "Community Management",
         null,
         null,
         "POINT (41.139771 4.293253)",
         "(4.293253°, 41.139771°)",
         "https://catalog.waterpointdata.org/datafiles/cowash-ethiopia-2021-602f004d.csv",
         null,
         "1",
         "2021 Feb 19 12:03:25 AM",
         "2021 Feb 19 12:03:25 AM",
         null,
         "COWASH_Ethiopia_2018-2021"
        ],
        [
         "1",
         "770,337",
         "COWASH",
         "11.533516",
         "37.968994",
         "2021 Jan 01 12:00:00 AM",
         "Yes",
         "Protected Well",
         "Well",
         null,
         null,
         "Improved",
         "Ethiopia",
         "ETH",
         "Amhara",
         "South Gondar",
         "Andabet/ West Esite",
         null,
         "2,008",
         null,
         null,
         null,
         "Community Management",
         "Non-Functional",
         null,
         null,
         null,
         null,
         null,
         null,
         "7G3VGXM9+CH5",
         "godguadit",
         "https://cowashdb.org/",
         null,
         "ET",
         "https://catalog.waterpointdata.org/datasets/cowash-ethiopia-2021-602f004d",
         "63,741.40785299878",
         "42,125.07121427196",
         "1,830.86524888613",
         "63,736.58777355049",
         "35,994.64651582752",
         "{\"2021-01-01\": {\"source\": \"COWASH\", \"status_id\": \"Yes\", \"water_source_clean\": \"Protected Well\"}}",
         "447",
         "144",
         null,
         null,
         "0.32214765101",
         "0.48",
         "300.0",
         "1,269",
         "67.03163311753",
         "True",
         "395,710",
         "False",
         "1",
         "Ethiopia",
         "Protected spring",
         null,
         null,
         "Amhara",
         "South Gondar",
         "Mirab Este (Andabet)",
         "Community Management",
         null,
         null,
         "POINT (37.968994 11.533516)",
         "(11.533516°, 37.968994°)",
         "https://catalog.waterpointdata.org/datafiles/cowash-ethiopia-2021-602f004d.csv",
         null,
         "1",
         "2021 Feb 19 12:03:25 AM",
         "2021 Feb 19 12:03:25 AM",
         null,
         "COWASH_Ethiopia_2018-2021"
        ],
        [
         "2",
         "792,314",
         "COWASH",
         "11.247572",
         "37.547421",
         "2019 Oct 28 12:00:00 AM",
         "Yes",
         "Protected Well",
         "Well",
         null,
         null,
         "Improved",
         "Ethiopia",
         "ETH",
         "Amhara",
         "West Gojam",
         "Yilmana Densa",
         null,
         "2,011",
         null,
         null,
         null,
         "Community Management",
         "Non-Functional",
         null,
         null,
         null,
         null,
         null,
         null,
         "7G3V6GXW+2XF",
         "kililt gragn ayu",
         "https://cowashdb.org/",
         null,
         "ET",
         "https://catalog.waterpointdata.org/datasets/cowash-ethiopia-2021-602f004d",
         "42,170.11199722841",
         "1,133.00968123877",
         "21,540.66347715577",
         "42,166.83948364505",
         "26,723.89035969703",
         "{\"2019-10-28\": {\"source\": \"COWASH\", \"status_id\": \"Yes\", \"water_source_clean\": \"Protected Well\"}}",
         "888",
         "420",
         null,
         null,
         "0.47297297297",
         "1.4",
         "300.0",
         "1,700",
         "58.51644102196",
         "True",
         "372,008",
         "False",
         "1",
         "Ethiopia",
         "Protected spring",
         null,
         null,
         "Amhara",
         "West Gojam",
         "Yilmana Densa",
         "Community Management",
         null,
         null,
         "POINT (37.547421 11.247572)",
         "(11.247572°, 37.547421°)",
         "https://catalog.waterpointdata.org/datafiles/cowash-ethiopia-2021-602f004d.csv",
         null,
         "1",
         "2021 Feb 19 12:03:25 AM",
         "2021 Feb 19 12:03:25 AM",
         null,
         "COWASH_Ethiopia_2018-2021"
        ],
        [
         "3",
         "770,248",
         "COWASH",
         "11.263851",
         "37.976189",
         "2021 Jan 01 12:00:00 AM",
         "Yes",
         "Protected Well",
         "Well",
         null,
         null,
         "Improved",
         "Ethiopia",
         "ETH",
         "Amhara",
         "South Gondar",
         "Andabet/ West Esite",
         null,
         "2,007",
         null,
         null,
         null,
         "Community Management",
         "Non-Functional",
         null,
         null,
         null,
         null,
         null,
         null,
         "7G3V7X7G+GFW",
         "Kush",
         "https://cowashdb.org/",
         null,
         "ET",
         "https://catalog.waterpointdata.org/datasets/cowash-ethiopia-2021-602f004d",
         "73,905.16246381497",
         "22,843.70098579374",
         "2,550.6707640024",
         "73,896.13856281994",
         "22,701.93182904842",
         "{\"2021-01-01\": {\"source\": \"COWASH\", \"status_id\": \"Yes\", \"water_source_clean\": \"Protected Well\"}}",
         "447",
         "83",
         null,
         null,
         "0.18568232662",
         "0.27666666667",
         "300.0",
         "1,269",
         "67.03163311753",
         "True",
         "395,664",
         "False",
         "1",
         "Ethiopia",
         "Protected spring",
         null,
         null,
         "Amhara",
         "South Gondar",
         "Mirab Este (Andabet)",
         "Community Management",
         null,
         null,
         "POINT (37.976189 11.263851)",
         "(11.263851°, 37.976189°)",
         "https://catalog.waterpointdata.org/datafiles/cowash-ethiopia-2021-602f004d.csv",
         null,
         "1",
         "2021 Feb 19 12:03:25 AM",
         "2021 Feb 19 12:03:25 AM",
         null,
         "COWASH_Ethiopia_2018-2021"
        ],
        [
         "4",
         "770,247",
         "COWASH",
         "11.268485",
         "37.987934",
         "2021 Jan 01 12:00:00 AM",
         "Yes",
         "Protected Well",
         "Well",
         null,
         null,
         "Improved",
         "Ethiopia",
         "ETH",
         "Amhara",
         "South Gondar",
         "Andabet/ West Esite",
         null,
         "2,007",
         null,
         null,
         null,
         "Community Management",
         "Non-Functional",
         null,
         null,
         null,
         null,
         null,
         null,
         "7G3V7X9Q+95V",
         "Lomi",
         "https://cowashdb.org/",
         null,
         "ET",
         "https://catalog.waterpointdata.org/datasets/cowash-ethiopia-2021-602f004d",
         "74,772.05340756872",
         "23,888.89402861507",
         "3,817.05505263723",
         "74,762.93117706457",
         "23,762.40191743356",
         "{\"2021-01-01\": {\"source\": \"COWASH\", \"status_id\": \"Yes\", \"water_source_clean\": \"Protected Well\"}}",
         "626",
         "96",
         null,
         null,
         "0.15335463259",
         "0.32",
         "300.0",
         "1,269",
         "67.03163311753",
         "True",
         "395,663",
         "False",
         "1",
         "Ethiopia",
         "Protected spring",
         null,
         null,
         "Amhara",
         "South Gondar",
         "Mirab Este (Andabet)",
         "Community Management",
         null,
         null,
         "POINT (37.987934 11.268485)",
         "(11.268485°, 37.987934°)",
         "https://catalog.waterpointdata.org/datafiles/cowash-ethiopia-2021-602f004d.csv",
         null,
         "1",
         "2021 Feb 19 12:03:25 AM",
         "2021 Feb 19 12:03:25 AM",
         null,
         "COWASH_Ethiopia_2018-2021"
        ]
       ],
       "shape": {
        "columns": 73,
        "rows": 5
       }
      },
      "text/html": [
       "<div>\n",
       "<style scoped>\n",
       "    .dataframe tbody tr th:only-of-type {\n",
       "        vertical-align: middle;\n",
       "    }\n",
       "\n",
       "    .dataframe tbody tr th {\n",
       "        vertical-align: top;\n",
       "    }\n",
       "\n",
       "    .dataframe thead th {\n",
       "        text-align: right;\n",
       "    }\n",
       "</style>\n",
       "<table border=\"1\" class=\"dataframe\">\n",
       "  <thead>\n",
       "    <tr style=\"text-align: right;\">\n",
       "      <th></th>\n",
       "      <th>row_id</th>\n",
       "      <th>#source</th>\n",
       "      <th>#lat_deg</th>\n",
       "      <th>#lon_deg</th>\n",
       "      <th>#report_date</th>\n",
       "      <th>#status_id</th>\n",
       "      <th>#water_source_clean</th>\n",
       "      <th>#water_source_category</th>\n",
       "      <th>#water_tech_clean</th>\n",
       "      <th>#water_tech_category</th>\n",
       "      <th>...</th>\n",
       "      <th>#subjective_quality</th>\n",
       "      <th>New Georeferenced Column</th>\n",
       "      <th>lat_lon_deg</th>\n",
       "      <th>public_data_source</th>\n",
       "      <th>converted</th>\n",
       "      <th>count</th>\n",
       "      <th>created_timestamp</th>\n",
       "      <th>updated_timestamp</th>\n",
       "      <th>is_duplicate</th>\n",
       "      <th>dataset_title</th>\n",
       "    </tr>\n",
       "  </thead>\n",
       "  <tbody>\n",
       "    <tr>\n",
       "      <th>0</th>\n",
       "      <td>5,426</td>\n",
       "      <td>COWASH</td>\n",
       "      <td>4.293253</td>\n",
       "      <td>41.139771</td>\n",
       "      <td>2020 May 14 12:00:00 AM</td>\n",
       "      <td>Yes</td>\n",
       "      <td>Protected Well</td>\n",
       "      <td>Well</td>\n",
       "      <td>NaN</td>\n",
       "      <td>NaN</td>\n",
       "      <td>...</td>\n",
       "      <td>NaN</td>\n",
       "      <td>POINT (41.139771 4.293253)</td>\n",
       "      <td>(4.293253°, 41.139771°)</td>\n",
       "      <td>https://catalog.waterpointdata.org/datafiles/c...</td>\n",
       "      <td>NaN</td>\n",
       "      <td>1</td>\n",
       "      <td>2021 Feb 19 12:03:25 AM</td>\n",
       "      <td>2021 Feb 19 12:03:25 AM</td>\n",
       "      <td>NaN</td>\n",
       "      <td>COWASH_Ethiopia_2018-2021</td>\n",
       "    </tr>\n",
       "    <tr>\n",
       "      <th>1</th>\n",
       "      <td>770,337</td>\n",
       "      <td>COWASH</td>\n",
       "      <td>11.533516</td>\n",
       "      <td>37.968994</td>\n",
       "      <td>2021 Jan 01 12:00:00 AM</td>\n",
       "      <td>Yes</td>\n",
       "      <td>Protected Well</td>\n",
       "      <td>Well</td>\n",
       "      <td>NaN</td>\n",
       "      <td>NaN</td>\n",
       "      <td>...</td>\n",
       "      <td>NaN</td>\n",
       "      <td>POINT (37.968994 11.533516)</td>\n",
       "      <td>(11.533516°, 37.968994°)</td>\n",
       "      <td>https://catalog.waterpointdata.org/datafiles/c...</td>\n",
       "      <td>NaN</td>\n",
       "      <td>1</td>\n",
       "      <td>2021 Feb 19 12:03:25 AM</td>\n",
       "      <td>2021 Feb 19 12:03:25 AM</td>\n",
       "      <td>NaN</td>\n",
       "      <td>COWASH_Ethiopia_2018-2021</td>\n",
       "    </tr>\n",
       "    <tr>\n",
       "      <th>2</th>\n",
       "      <td>792,314</td>\n",
       "      <td>COWASH</td>\n",
       "      <td>11.247572</td>\n",
       "      <td>37.547421</td>\n",
       "      <td>2019 Oct 28 12:00:00 AM</td>\n",
       "      <td>Yes</td>\n",
       "      <td>Protected Well</td>\n",
       "      <td>Well</td>\n",
       "      <td>NaN</td>\n",
       "      <td>NaN</td>\n",
       "      <td>...</td>\n",
       "      <td>NaN</td>\n",
       "      <td>POINT (37.547421 11.247572)</td>\n",
       "      <td>(11.247572°, 37.547421°)</td>\n",
       "      <td>https://catalog.waterpointdata.org/datafiles/c...</td>\n",
       "      <td>NaN</td>\n",
       "      <td>1</td>\n",
       "      <td>2021 Feb 19 12:03:25 AM</td>\n",
       "      <td>2021 Feb 19 12:03:25 AM</td>\n",
       "      <td>NaN</td>\n",
       "      <td>COWASH_Ethiopia_2018-2021</td>\n",
       "    </tr>\n",
       "    <tr>\n",
       "      <th>3</th>\n",
       "      <td>770,248</td>\n",
       "      <td>COWASH</td>\n",
       "      <td>11.263851</td>\n",
       "      <td>37.976189</td>\n",
       "      <td>2021 Jan 01 12:00:00 AM</td>\n",
       "      <td>Yes</td>\n",
       "      <td>Protected Well</td>\n",
       "      <td>Well</td>\n",
       "      <td>NaN</td>\n",
       "      <td>NaN</td>\n",
       "      <td>...</td>\n",
       "      <td>NaN</td>\n",
       "      <td>POINT (37.976189 11.263851)</td>\n",
       "      <td>(11.263851°, 37.976189°)</td>\n",
       "      <td>https://catalog.waterpointdata.org/datafiles/c...</td>\n",
       "      <td>NaN</td>\n",
       "      <td>1</td>\n",
       "      <td>2021 Feb 19 12:03:25 AM</td>\n",
       "      <td>2021 Feb 19 12:03:25 AM</td>\n",
       "      <td>NaN</td>\n",
       "      <td>COWASH_Ethiopia_2018-2021</td>\n",
       "    </tr>\n",
       "    <tr>\n",
       "      <th>4</th>\n",
       "      <td>770,247</td>\n",
       "      <td>COWASH</td>\n",
       "      <td>11.268485</td>\n",
       "      <td>37.987934</td>\n",
       "      <td>2021 Jan 01 12:00:00 AM</td>\n",
       "      <td>Yes</td>\n",
       "      <td>Protected Well</td>\n",
       "      <td>Well</td>\n",
       "      <td>NaN</td>\n",
       "      <td>NaN</td>\n",
       "      <td>...</td>\n",
       "      <td>NaN</td>\n",
       "      <td>POINT (37.987934 11.268485)</td>\n",
       "      <td>(11.268485°, 37.987934°)</td>\n",
       "      <td>https://catalog.waterpointdata.org/datafiles/c...</td>\n",
       "      <td>NaN</td>\n",
       "      <td>1</td>\n",
       "      <td>2021 Feb 19 12:03:25 AM</td>\n",
       "      <td>2021 Feb 19 12:03:25 AM</td>\n",
       "      <td>NaN</td>\n",
       "      <td>COWASH_Ethiopia_2018-2021</td>\n",
       "    </tr>\n",
       "  </tbody>\n",
       "</table>\n",
       "<p>5 rows × 73 columns</p>\n",
       "</div>"
      ],
      "text/plain": [
       "    row_id #source   #lat_deg   #lon_deg             #report_date #status_id  \\\n",
       "0    5,426  COWASH   4.293253  41.139771  2020 May 14 12:00:00 AM        Yes   \n",
       "1  770,337  COWASH  11.533516  37.968994  2021 Jan 01 12:00:00 AM        Yes   \n",
       "2  792,314  COWASH  11.247572  37.547421  2019 Oct 28 12:00:00 AM        Yes   \n",
       "3  770,248  COWASH  11.263851  37.976189  2021 Jan 01 12:00:00 AM        Yes   \n",
       "4  770,247  COWASH  11.268485  37.987934  2021 Jan 01 12:00:00 AM        Yes   \n",
       "\n",
       "  #water_source_clean #water_source_category #water_tech_clean  \\\n",
       "0      Protected Well                   Well               NaN   \n",
       "1      Protected Well                   Well               NaN   \n",
       "2      Protected Well                   Well               NaN   \n",
       "3      Protected Well                   Well               NaN   \n",
       "4      Protected Well                   Well               NaN   \n",
       "\n",
       "  #water_tech_category  ... #subjective_quality    New Georeferenced Column   \\\n",
       "0                  NaN  ...                 NaN   POINT (41.139771 4.293253)   \n",
       "1                  NaN  ...                 NaN  POINT (37.968994 11.533516)   \n",
       "2                  NaN  ...                 NaN  POINT (37.547421 11.247572)   \n",
       "3                  NaN  ...                 NaN  POINT (37.976189 11.263851)   \n",
       "4                  NaN  ...                 NaN  POINT (37.987934 11.268485)   \n",
       "\n",
       "                lat_lon_deg  \\\n",
       "0   (4.293253°, 41.139771°)   \n",
       "1  (11.533516°, 37.968994°)   \n",
       "2  (11.247572°, 37.547421°)   \n",
       "3  (11.263851°, 37.976189°)   \n",
       "4  (11.268485°, 37.987934°)   \n",
       "\n",
       "                                  public_data_source converted count  \\\n",
       "0  https://catalog.waterpointdata.org/datafiles/c...       NaN     1   \n",
       "1  https://catalog.waterpointdata.org/datafiles/c...       NaN     1   \n",
       "2  https://catalog.waterpointdata.org/datafiles/c...       NaN     1   \n",
       "3  https://catalog.waterpointdata.org/datafiles/c...       NaN     1   \n",
       "4  https://catalog.waterpointdata.org/datafiles/c...       NaN     1   \n",
       "\n",
       "         created_timestamp        updated_timestamp is_duplicate  \\\n",
       "0  2021 Feb 19 12:03:25 AM  2021 Feb 19 12:03:25 AM          NaN   \n",
       "1  2021 Feb 19 12:03:25 AM  2021 Feb 19 12:03:25 AM          NaN   \n",
       "2  2021 Feb 19 12:03:25 AM  2021 Feb 19 12:03:25 AM          NaN   \n",
       "3  2021 Feb 19 12:03:25 AM  2021 Feb 19 12:03:25 AM          NaN   \n",
       "4  2021 Feb 19 12:03:25 AM  2021 Feb 19 12:03:25 AM          NaN   \n",
       "\n",
       "               dataset_title  \n",
       "0  COWASH_Ethiopia_2018-2021  \n",
       "1  COWASH_Ethiopia_2018-2021  \n",
       "2  COWASH_Ethiopia_2018-2021  \n",
       "3  COWASH_Ethiopia_2018-2021  \n",
       "4  COWASH_Ethiopia_2018-2021  \n",
       "\n",
       "[5 rows x 73 columns]"
      ]
     },
     "execution_count": 13,
     "metadata": {},
     "output_type": "execute_result"
    }
   ],
   "source": [
    "# Load and Sample WPdx\n",
    "import re\n",
    "\n",
    "wpdx = pd.read_csv('C:/Users/ADMIN/Documents/MoringaSchool/Phase5CapstoneProject/data/wpdx_kenya.csv', low_memory=False)\n",
    "\n",
    "wpdx.head()\n"
   ]
  },
  {
   "cell_type": "code",
   "execution_count": null,
   "id": "d1baba0b",
   "metadata": {},
   "outputs": [
    {
     "data": {
      "text/html": [
       "\n",
       "            <style>\n",
       "                .geemap-dark {\n",
       "                    --jp-widgets-color: white;\n",
       "                    --jp-widgets-label-color: white;\n",
       "                    --jp-ui-font-color1: white;\n",
       "                    --jp-layout-color2: #454545;\n",
       "                    background-color: #383838;\n",
       "                }\n",
       "\n",
       "                .geemap-dark .jupyter-button {\n",
       "                    --jp-layout-color3: #383838;\n",
       "                }\n",
       "\n",
       "                .geemap-colab {\n",
       "                    background-color: var(--colab-primary-surface-color, white);\n",
       "                }\n",
       "\n",
       "                .geemap-colab .jupyter-button {\n",
       "                    --jp-layout-color3: var(--colab-primary-surface-color, white);\n",
       "                }\n",
       "            </style>\n",
       "            "
      ],
      "text/plain": [
       "<IPython.core.display.HTML object>"
      ]
     },
     "metadata": {},
     "output_type": "display_data"
    },
    {
     "data": {
      "text/plain": [
       "Index(['row_id', '#source', '#lat_deg', '#lon_deg', '#report_date',\n",
       "       '#status_id', '#water_source_clean', '#water_source_category',\n",
       "       '#water_tech_clean', '#water_tech_category', '#facility_type',\n",
       "       '#clean_country_name', '#clean_country_id', '#clean_adm1',\n",
       "       '#clean_adm2', '#clean_adm3', '#clean_adm4', '#install_year',\n",
       "       '#installer', '#rehab_year', '#rehabilitator', '#management_clean',\n",
       "       '#status_clean', '#pay_clean', '#fecal_coliform_presence',\n",
       "       '#fecal_coliform_value', '#subjective_quality_clean', '#activity_id',\n",
       "       '#scheme_id', '#wpdx_id', '#notes', '#orig_lnk', '#photo_lnk',\n",
       "       '#country_id', '#data_lnk', '#distance_to_primary_road',\n",
       "       '#distance_to_secondary_road', '#distance_to_tertiary_road',\n",
       "       '#distance_to_city', '#distance_to_town', 'water_point_history',\n",
       "       'local_population_1km', 'water_point_population', 'rehab_priority',\n",
       "       '#pop_who_would_gain_access', 'crucialness_score', 'pressure_score',\n",
       "       'usage_capacity', 'days_since_report', 'staleness_score',\n",
       "       'latest_record', 'location_id', 'is_urban', 'cluster_size',\n",
       "       '#country_name', '#water_source', '#water_tech', '#status', '#adm1',\n",
       "       '#adm2', '#adm3', '#management', '#pay', '#subjective_quality',\n",
       "       'New Georeferenced Column ', 'lat_lon_deg', 'public_data_source',\n",
       "       'converted', 'count', 'created_timestamp', 'updated_timestamp',\n",
       "       'is_duplicate', 'dataset_title'],\n",
       "      dtype='object')"
      ]
     },
     "execution_count": 14,
     "metadata": {},
     "output_type": "execute_result"
    }
   ],
   "source": [
    "wpdx.columns "
   ]
  },
  {
   "cell_type": "code",
   "execution_count": null,
   "id": "5de34c7d",
   "metadata": {},
   "outputs": [
    {
     "data": {
      "text/html": [
       "\n",
       "            <style>\n",
       "                .geemap-dark {\n",
       "                    --jp-widgets-color: white;\n",
       "                    --jp-widgets-label-color: white;\n",
       "                    --jp-ui-font-color1: white;\n",
       "                    --jp-layout-color2: #454545;\n",
       "                    background-color: #383838;\n",
       "                }\n",
       "\n",
       "                .geemap-dark .jupyter-button {\n",
       "                    --jp-layout-color3: #383838;\n",
       "                }\n",
       "\n",
       "                .geemap-colab {\n",
       "                    background-color: var(--colab-primary-surface-color, white);\n",
       "                }\n",
       "\n",
       "                .geemap-colab .jupyter-button {\n",
       "                    --jp-layout-color3: var(--colab-primary-surface-color, white);\n",
       "                }\n",
       "            </style>\n",
       "            "
      ],
      "text/plain": [
       "<IPython.core.display.HTML object>"
      ]
     },
     "metadata": {},
     "output_type": "display_data"
    },
    {
     "name": "stdout",
     "output_type": "stream",
     "text": [
      "Sampled 5000 water points for GEE processing.\n"
     ]
    }
   ],
   "source": [
    "# --- Standardize and Rename Columns ---\n",
    "# No need for the full generic column cleaning with re.sub if you know the exact names.\n",
    "# However, for robustness, we can still ensure they are lowercased and stripped IF needed.\n",
    "# For now, let's target the exact names you provided.\n",
    "\n",
    "# Rename 'wpdx_id' to 'pt_id'\n",
    "if '#wpdx_id' in wpdx.columns:\n",
    "    wpdx.rename(columns={'#wpdx_id': 'pt_id'}, inplace=True)\n",
    "else:\n",
    "    # If for some reason 'wpdx_id' is missing, you'd need to identify the correct ID column.\n",
    "    raise KeyError(\"'wpdx_id' column not found. Please verify the actual ID column name.\")\n",
    "\n",
    "# Ensure 'pt_id' is string type\n",
    "wpdx['pt_id'] = wpdx['pt_id'].astype(str)\n",
    "\n",
    "# Ensure 'lat_deg' and 'lon_deg' are numeric and rounded\n",
    "# They are already correctly named, just need conversion and null check.\n",
    "wpdx['latitude'] = pd.to_numeric(wpdx['#lat_deg'], errors='coerce').round(6)\n",
    "wpdx['longitude'] = pd.to_numeric(wpdx['#lon_deg'], errors='coerce').round(6)\n",
    "wpdx.dropna(subset=['latitude', 'longitude'], inplace=True)\n",
    "\n",
    "\n",
    "# Filter for Kenya and non-null lat/lon\n",
    "# Using 'clean_country_name' as per your original intent and its presence.\n",
    "if '#clean_country_name' in wpdx.columns:\n",
    "    wpdx = wpdx[(wpdx['#clean_country_name'].str.lower() == 'kenya')]\n",
    "else:\n",
    "    raise KeyError(\"'country_name' column not found. Please verify the country column name.\")\n",
    "\n",
    "# Sample 5000 points\n",
    "DESIRED_SAMPLED_POINTS_COUNT = 5000\n",
    "if len(wpdx) >= DESIRED_SAMPLED_POINTS_COUNT:\n",
    "    wpdx = wpdx.sample(n=DESIRED_SAMPLED_POINTS_COUNT, random_state=42).reset_index(drop=True)\n",
    "else:\n",
    "    print(f\"Warning: Less than {DESIRED_SAMPLED_POINTS_COUNT} points available for sampling. Using all {len(wpdx)} points.\")\n",
    "\n",
    "print(f\"Sampled {len(wpdx)} water points for GEE processing.\")\n",
    "\n",
    "# --- Prepare for GEE (select only necessary columns with correct names for geemap) ---\n",
    "wpdx_for_gee = wpdx[['pt_id', 'latitude', 'longitude']]\n",
    "# Note: geemap.pandas_to_ee expects 'latitude' and 'longitude' by default if no other names specified.\n",
    "# So, we map lat_deg/lon_deg to latitude/longitude for clean passing."
   ]
  },
  {
   "cell_type": "code",
   "execution_count": null,
   "id": "81806c85",
   "metadata": {},
   "outputs": [
    {
     "data": {
      "text/html": [
       "\n",
       "            <style>\n",
       "                .geemap-dark {\n",
       "                    --jp-widgets-color: white;\n",
       "                    --jp-widgets-label-color: white;\n",
       "                    --jp-ui-font-color1: white;\n",
       "                    --jp-layout-color2: #454545;\n",
       "                    background-color: #383838;\n",
       "                }\n",
       "\n",
       "                .geemap-dark .jupyter-button {\n",
       "                    --jp-layout-color3: #383838;\n",
       "                }\n",
       "\n",
       "                .geemap-colab {\n",
       "                    background-color: var(--colab-primary-surface-color, white);\n",
       "                }\n",
       "\n",
       "                .geemap-colab .jupyter-button {\n",
       "                    --jp-layout-color3: var(--colab-primary-surface-color, white);\n",
       "                }\n",
       "            </style>\n",
       "            "
      ],
      "text/plain": [
       "<IPython.core.display.HTML object>"
      ]
     },
     "metadata": {},
     "output_type": "display_data"
    },
    {
     "data": {
      "application/vnd.microsoft.datawrangler.viewer.v0+json": {
       "columns": [
        {
         "name": "index",
         "rawType": "int64",
         "type": "integer"
        },
        {
         "name": "pt_id",
         "rawType": "object",
         "type": "string"
        },
        {
         "name": "latitude",
         "rawType": "float64",
         "type": "float"
        },
        {
         "name": "longitude",
         "rawType": "float64",
         "type": "float"
        }
       ],
       "ref": "a9a79aac-8eef-4546-95bc-2e27d52ed210",
       "rows": [
        [
         "0",
         "6GFP7JP2+45J",
         "-0.714673",
         "34.60038"
        ],
        [
         "1",
         "6GFPRRXX+7Q5",
         "-0.151875",
         "34.849491"
        ],
        [
         "2",
         "6GFPWC7Q+RFP",
         "-0.085423",
         "34.438709"
        ],
        [
         "3",
         "6GFVGH59+525",
         "-0.49212",
         "37.567619"
        ],
        [
         "4",
         "6GGP6Q8Q+567",
         "0.215407",
         "34.788044"
        ]
       ],
       "shape": {
        "columns": 3,
        "rows": 5
       }
      },
      "text/html": [
       "<div>\n",
       "<style scoped>\n",
       "    .dataframe tbody tr th:only-of-type {\n",
       "        vertical-align: middle;\n",
       "    }\n",
       "\n",
       "    .dataframe tbody tr th {\n",
       "        vertical-align: top;\n",
       "    }\n",
       "\n",
       "    .dataframe thead th {\n",
       "        text-align: right;\n",
       "    }\n",
       "</style>\n",
       "<table border=\"1\" class=\"dataframe\">\n",
       "  <thead>\n",
       "    <tr style=\"text-align: right;\">\n",
       "      <th></th>\n",
       "      <th>pt_id</th>\n",
       "      <th>latitude</th>\n",
       "      <th>longitude</th>\n",
       "    </tr>\n",
       "  </thead>\n",
       "  <tbody>\n",
       "    <tr>\n",
       "      <th>0</th>\n",
       "      <td>6GFP7JP2+45J</td>\n",
       "      <td>-0.714673</td>\n",
       "      <td>34.600380</td>\n",
       "    </tr>\n",
       "    <tr>\n",
       "      <th>1</th>\n",
       "      <td>6GFPRRXX+7Q5</td>\n",
       "      <td>-0.151875</td>\n",
       "      <td>34.849491</td>\n",
       "    </tr>\n",
       "    <tr>\n",
       "      <th>2</th>\n",
       "      <td>6GFPWC7Q+RFP</td>\n",
       "      <td>-0.085423</td>\n",
       "      <td>34.438709</td>\n",
       "    </tr>\n",
       "    <tr>\n",
       "      <th>3</th>\n",
       "      <td>6GFVGH59+525</td>\n",
       "      <td>-0.492120</td>\n",
       "      <td>37.567619</td>\n",
       "    </tr>\n",
       "    <tr>\n",
       "      <th>4</th>\n",
       "      <td>6GGP6Q8Q+567</td>\n",
       "      <td>0.215407</td>\n",
       "      <td>34.788044</td>\n",
       "    </tr>\n",
       "  </tbody>\n",
       "</table>\n",
       "</div>"
      ],
      "text/plain": [
       "          pt_id  latitude  longitude\n",
       "0  6GFP7JP2+45J -0.714673  34.600380\n",
       "1  6GFPRRXX+7Q5 -0.151875  34.849491\n",
       "2  6GFPWC7Q+RFP -0.085423  34.438709\n",
       "3  6GFVGH59+525 -0.492120  37.567619\n",
       "4  6GGP6Q8Q+567  0.215407  34.788044"
      ]
     },
     "execution_count": 16,
     "metadata": {},
     "output_type": "execute_result"
    }
   ],
   "source": [
    "wpdx_for_gee.head()"
   ]
  },
  {
   "cell_type": "code",
   "execution_count": null,
   "id": "4c83b367",
   "metadata": {},
   "outputs": [
    {
     "data": {
      "text/html": [
       "\n",
       "            <style>\n",
       "                .geemap-dark {\n",
       "                    --jp-widgets-color: white;\n",
       "                    --jp-widgets-label-color: white;\n",
       "                    --jp-ui-font-color1: white;\n",
       "                    --jp-layout-color2: #454545;\n",
       "                    background-color: #383838;\n",
       "                }\n",
       "\n",
       "                .geemap-dark .jupyter-button {\n",
       "                    --jp-layout-color3: #383838;\n",
       "                }\n",
       "\n",
       "                .geemap-colab {\n",
       "                    background-color: var(--colab-primary-surface-color, white);\n",
       "                }\n",
       "\n",
       "                .geemap-colab .jupyter-button {\n",
       "                    --jp-layout-color3: var(--colab-primary-surface-color, white);\n",
       "                }\n",
       "            </style>\n",
       "            "
      ],
      "text/plain": [
       "<IPython.core.display.HTML object>"
      ]
     },
     "metadata": {},
     "output_type": "display_data"
    },
    {
     "name": "stdout",
     "output_type": "stream",
     "text": [
      "Date range for composites: 2025-04-01 to 2025-06-30\n",
      "Calculated START_7: 2025-06-23\n",
      "Calculated START_30: 2025-05-31\n",
      "Calculated START_90: 2025-04-01\n"
     ]
    }
   ],
   "source": [
    "# Set the END date to June 30th, 2025 \n",
    "END_DATE = '2025-06-30' \n",
    "\n",
    "# Recalculate start dates based on the new END date\n",
    "START_7_DAYS  = ee.Date(END_DATE).advance(-7, 'day').format('YYYY-MM-dd').getInfo()\n",
    "START_30_DAYS = ee.Date(END_DATE).advance(-30, 'day').format('YYYY-MM-dd').getInfo()\n",
    "START_90_DAYS = ee.Date(END_DATE).advance(-90, 'day').format('YYYY-MM-dd').getInfo()\n",
    "\n",
    "print(f\"Date range for composites: {START_90_DAYS} to {END_DATE}\")\n",
    "print(f\"Calculated START_7: {START_7_DAYS}\")\n",
    "print(f\"Calculated START_30: {START_30_DAYS}\")\n",
    "print(f\"Calculated START_90: {START_90_DAYS}\")"
   ]
  },
  {
   "cell_type": "code",
   "execution_count": null,
   "id": "abc9d70d",
   "metadata": {},
   "outputs": [
    {
     "data": {
      "text/html": [
       "\n",
       "            <style>\n",
       "                .geemap-dark {\n",
       "                    --jp-widgets-color: white;\n",
       "                    --jp-widgets-label-color: white;\n",
       "                    --jp-ui-font-color1: white;\n",
       "                    --jp-layout-color2: #454545;\n",
       "                    background-color: #383838;\n",
       "                }\n",
       "\n",
       "                .geemap-dark .jupyter-button {\n",
       "                    --jp-layout-color3: #383838;\n",
       "                }\n",
       "\n",
       "                .geemap-colab {\n",
       "                    background-color: var(--colab-primary-surface-color, white);\n",
       "                }\n",
       "\n",
       "                .geemap-colab .jupyter-button {\n",
       "                    --jp-layout-color3: var(--colab-primary-surface-color, white);\n",
       "                }\n",
       "            </style>\n",
       "            "
      ],
      "text/plain": [
       "<IPython.core.display.HTML object>"
      ]
     },
     "metadata": {},
     "output_type": "display_data"
    },
    {
     "name": "stderr",
     "output_type": "stream",
     "text": [
      "c:\\Users\\ADMIN\\anaconda3\\envs\\learn-env\\lib\\site-packages\\ee\\deprecation.py:207: DeprecationWarning: \n",
      "\n",
      "Attention required for NASA_USDA/HSL/SMAP_soil_moisture! You are using a deprecated asset.\n",
      "To ensure continued functionality, please update it.\n",
      "Learn more: https://developers.google.com/earth-engine/datasets/catalog/NASA_USDA_HSL_SMAP_soil_moisture\n",
      "\n",
      "  warnings.warn(warning, category=DeprecationWarning)\n"
     ]
    }
   ],
   "source": [
    "# Define the image collections\n",
    "chirps = ee.ImageCollection(\"UCSB-CHG/CHIRPS/DAILY\").select(\"precipitation\")\n",
    "ndvi = ee.ImageCollection(\"MODIS/061/MOD13Q1\").select(\"NDVI\")\n",
    "lst = ee.ImageCollection(\"MODIS/061/MOD11A2\").select(\"LST_Day_1km\")\n",
    "soil = ee.ImageCollection(\"NASA_USDA/HSL/SMAP_soil_moisture\").select(\"ssm\")\n",
    "pop = ee.Image(\"WorldPop/GP/100m/pop/KEN_2020\").select(\"population\") # 'pop' band in WorldPop 100m dataset is 'population'"
   ]
  },
  {
   "cell_type": "code",
   "execution_count": null,
   "id": "844d8786",
   "metadata": {},
   "outputs": [
    {
     "data": {
      "text/html": [
       "\n",
       "            <style>\n",
       "                .geemap-dark {\n",
       "                    --jp-widgets-color: white;\n",
       "                    --jp-widgets-label-color: white;\n",
       "                    --jp-ui-font-color1: white;\n",
       "                    --jp-layout-color2: #454545;\n",
       "                    background-color: #383838;\n",
       "                }\n",
       "\n",
       "                .geemap-dark .jupyter-button {\n",
       "                    --jp-layout-color3: #383838;\n",
       "                }\n",
       "\n",
       "                .geemap-colab {\n",
       "                    background-color: var(--colab-primary-surface-color, white);\n",
       "                }\n",
       "\n",
       "                .geemap-colab .jupyter-button {\n",
       "                    --jp-layout-color3: var(--colab-primary-surface-color, white);\n",
       "                }\n",
       "            </style>\n",
       "            "
      ],
      "text/plain": [
       "<IPython.core.display.HTML object>"
      ]
     },
     "metadata": {},
     "output_type": "display_data"
    },
    {
     "name": "stdout",
     "output_type": "stream",
     "text": [
      "Converted 5000 water points to ee.FeatureCollection.\n"
     ]
    }
   ],
   "source": [
    "# Convert pandas DataFrame to ee.FeatureCollection\n",
    "wpdx_fc = geemap.pandas_to_ee(wpdx_for_gee, latitude='latitude', longitude='longitude', id_field='pt_id')\n",
    "\n",
    "print(f\"Converted {wpdx_fc.size().getInfo()} water points to ee.FeatureCollection.\")"
   ]
  },
  {
   "cell_type": "code",
   "execution_count": null,
   "id": "35693a3f",
   "metadata": {},
   "outputs": [
    {
     "data": {
      "text/html": [
       "\n",
       "            <style>\n",
       "                .geemap-dark {\n",
       "                    --jp-widgets-color: white;\n",
       "                    --jp-widgets-label-color: white;\n",
       "                    --jp-ui-font-color1: white;\n",
       "                    --jp-layout-color2: #454545;\n",
       "                    background-color: #383838;\n",
       "                }\n",
       "\n",
       "                .geemap-dark .jupyter-button {\n",
       "                    --jp-layout-color3: #383838;\n",
       "                }\n",
       "\n",
       "                .geemap-colab {\n",
       "                    background-color: var(--colab-primary-surface-color, white);\n",
       "                }\n",
       "\n",
       "                .geemap-colab .jupyter-button {\n",
       "                    --jp-layout-color3: var(--colab-primary-surface-color, white);\n",
       "                }\n",
       "            </style>\n",
       "            "
      ],
      "text/plain": [
       "<IPython.core.display.HTML object>"
      ]
     },
     "metadata": {},
     "output_type": "display_data"
    },
    {
     "name": "stdout",
     "output_type": "stream",
     "text": [
      "Extraction function defined.\n"
     ]
    }
   ],
   "source": [
    "# Function for Extraction \n",
    "\n",
    "\n",
    "def extract_var(ic_or_img, start, end, band, scale):\n",
    "    \"\"\"\n",
    "    Extracts mean value of a band for each feature in wpdx_fc from an ImageCollection or Image.\n",
    "    Applies scale factors and handles static images.\n",
    "    \"\"\"\n",
    "    if isinstance(ic_or_img, ee.ImageCollection):\n",
    "        img = ic_or_img.filterDate(start, end).mean().select(band)\n",
    "    else: # Assume it's an ee.Image for static data\n",
    "        img = ic_or_img.select(band)\n",
    "\n",
    "    # Apply specific scale factors/conversions\n",
    "    if band == \"NDVI\":\n",
    "        img = img.multiply(0.0001) # MODIS NDVI scale factor\n",
    "    elif band == \"LST_Day_1km\":\n",
    "        img = img.multiply(0.02).subtract(273.15) # MODIS LST scale factor (K to C)\n",
    "\n",
    "    # Sample regions and return as FeatureCollection\n",
    "    return img.sampleRegions(collection=wpdx_fc, scale=scale, geometries=True)\n",
    "\n",
    "print(\"Extraction function defined.\")\n"
   ]
  },
  {
   "cell_type": "code",
   "execution_count": null,
   "id": "6374ff59",
   "metadata": {},
   "outputs": [
    {
     "data": {
      "text/html": [
       "\n",
       "            <style>\n",
       "                .geemap-dark {\n",
       "                    --jp-widgets-color: white;\n",
       "                    --jp-widgets-label-color: white;\n",
       "                    --jp-ui-font-color1: white;\n",
       "                    --jp-layout-color2: #454545;\n",
       "                    background-color: #383838;\n",
       "                }\n",
       "\n",
       "                .geemap-dark .jupyter-button {\n",
       "                    --jp-layout-color3: #383838;\n",
       "                }\n",
       "\n",
       "                .geemap-colab {\n",
       "                    background-color: var(--colab-primary-surface-color, white);\n",
       "                }\n",
       "\n",
       "                .geemap-colab .jupyter-button {\n",
       "                    --jp-layout-color3: var(--colab-primary-surface-color, white);\n",
       "                }\n",
       "            </style>\n",
       "            "
      ],
      "text/plain": [
       "<IPython.core.display.HTML object>"
      ]
     },
     "metadata": {},
     "output_type": "display_data"
    },
    {
     "name": "stdout",
     "output_type": "stream",
     "text": [
      "Environmental FeatureCollections generated.\n"
     ]
    }
   ],
   "source": [
    "# --- 4. Apply for All Variables ---\n",
    "\n",
    "# CHIRPS (Daily Precipitation)\n",
    "chirps_7_fc = extract_var(chirps, START_7_DAYS, END_DATE, \"precipitation\", 5000)\n",
    "chirps_30_fc = extract_var(chirps, START_30_DAYS, END_DATE, \"precipitation\", 5000)\n",
    "chirps_90_fc = extract_var(chirps, START_90_DAYS, END_DATE, \"precipitation\", 5000)\n",
    "\n",
    "# NDVI (16-day composite)\n",
    "ndvi_7_fc = extract_var(ndvi, START_7_DAYS, END_DATE, \"NDVI\", 250)\n",
    "ndvi_30_fc = extract_var(ndvi, START_30_DAYS, END_DATE, \"NDVI\", 250)\n",
    "ndvi_90_fc = extract_var(ndvi, START_90_DAYS, END_DATE, \"NDVI\", 250)\n",
    "\n",
    "# LST (8-day composite)\n",
    "lst_7_fc = extract_var(lst, START_7_DAYS, END_DATE, \"LST_Day_1km\", 1000)\n",
    "lst_30_fc = extract_var(lst, START_30_DAYS, END_DATE, \"LST_Day_1km\", 1000)\n",
    "lst_90_fc = extract_var(lst, START_90_DAYS, END_DATE, \"LST_Day_1km\", 1000)\n",
    "\n",
    "# Soil Moisture (Daily)\n",
    "soil_7_fc = extract_var(soil, START_7_DAYS, END_DATE, \"ssm\", 9000)\n",
    "soil_30_fc = extract_var(soil, START_30_DAYS, END_DATE, \"ssm\", 9000)\n",
    "soil_90_fc = extract_var(soil, START_90_DAYS, END_DATE, \"ssm\", 9000)\n",
    "\n",
    "# Population Density (Static Image)\n",
    "pop_feat_fc = extract_var(pop, None, None, \"population\", 100)\n",
    "\n",
    "print(\"Environmental FeatureCollections generated.\")"
   ]
  },
  {
   "cell_type": "code",
   "execution_count": null,
   "id": "4f01cddd",
   "metadata": {},
   "outputs": [
    {
     "data": {
      "text/html": [
       "\n",
       "            <style>\n",
       "                .geemap-dark {\n",
       "                    --jp-widgets-color: white;\n",
       "                    --jp-widgets-label-color: white;\n",
       "                    --jp-ui-font-color1: white;\n",
       "                    --jp-layout-color2: #454545;\n",
       "                    background-color: #383838;\n",
       "                }\n",
       "\n",
       "                .geemap-dark .jupyter-button {\n",
       "                    --jp-layout-color3: #383838;\n",
       "                }\n",
       "\n",
       "                .geemap-colab {\n",
       "                    background-color: var(--colab-primary-surface-color, white);\n",
       "                }\n",
       "\n",
       "                .geemap-colab .jupyter-button {\n",
       "                    --jp-layout-color3: var(--colab-primary-surface-color, white);\n",
       "                }\n",
       "            </style>\n",
       "            "
      ],
      "text/plain": [
       "<IPython.core.display.HTML object>"
      ]
     },
     "metadata": {},
     "output_type": "display_data"
    },
    {
     "name": "stdout",
     "output_type": "stream",
     "text": [
      "\n",
      "--- Example Retrieved Data (first feature) ---\n",
      "CHIRPS 30-day (precipitation): {'latitude': -0.714673, 'longitude': 34.60038, 'precipitation': 2.6976897716522217, 'pt_id': '6GFP7JP2+45J'}\n",
      "NDVI 30-day (NDVI): {'NDVI': 0.7704000000000001, 'latitude': -0.714673, 'longitude': 34.60038, 'pt_id': '6GFP7JP2+45J'}\n",
      "LST 30-day (LST_Day_1km): {'LST_Day_1km': 24.225000000000023, 'latitude': -0.714673, 'longitude': 34.60038, 'pt_id': '6GFP7JP2+45J'}\n",
      "\n",
      "Could not retrieve example data (might be empty FeatureCollection or other GEE error): Image.select: Band pattern 'ssm' was applied to an Image with no bands. See https://developers.google.com/earth-engine/guides/debugging#no-bands\n"
     ]
    }
   ],
   "source": [
    "# --- 5. Example of Accessing Data (Optional) ---\n",
    "try:\n",
    "    print(\"\\n--- Example Retrieved Data (first feature) ---\")\n",
    "    print(f\"CHIRPS 30-day (precipitation): {chirps_30_fc.first().getInfo().get('properties')}\")\n",
    "    print(f\"NDVI 30-day (NDVI): {ndvi_30_fc.first().getInfo().get('properties')}\")\n",
    "    print(f\"LST 30-day (LST_Day_1km): {lst_30_fc.first().getInfo().get('properties')}\")\n",
    "    print(f\"Soil 30-day (ssm): {soil_30_fc.first().getInfo().get('properties')}\")\n",
    "    print(f\"Population (population): {pop_feat_fc.first().getInfo().get('properties')}\")\n",
    "except Exception as e:\n",
    "    print(f\"\\nCould not retrieve example data (might be empty FeatureCollection or other GEE error): {e}\")\n"
   ]
  },
  {
   "cell_type": "markdown",
   "id": "443222ec",
   "metadata": {},
   "source": [
    "- the soil one needs to be removed maybe"
   ]
  },
  {
   "cell_type": "code",
   "execution_count": null,
   "id": "aaa0ec7c",
   "metadata": {},
   "outputs": [
    {
     "data": {
      "text/html": [
       "\n",
       "            <style>\n",
       "                .geemap-dark {\n",
       "                    --jp-widgets-color: white;\n",
       "                    --jp-widgets-label-color: white;\n",
       "                    --jp-ui-font-color1: white;\n",
       "                    --jp-layout-color2: #454545;\n",
       "                    background-color: #383838;\n",
       "                }\n",
       "\n",
       "                .geemap-dark .jupyter-button {\n",
       "                    --jp-layout-color3: #383838;\n",
       "                }\n",
       "\n",
       "                .geemap-colab {\n",
       "                    background-color: var(--colab-primary-surface-color, white);\n",
       "                }\n",
       "\n",
       "                .geemap-colab .jupyter-button {\n",
       "                    --jp-layout-color3: var(--colab-primary-surface-color, white);\n",
       "                }\n",
       "            </style>\n",
       "            "
      ],
      "text/plain": [
       "<IPython.core.display.HTML object>"
      ]
     },
     "metadata": {},
     "output_type": "display_data"
    },
    {
     "name": "stdout",
     "output_type": "stream",
     "text": [
      "\n",
      "--- Example Retrieved Data (first feature) ---\n",
      "CHIRPS 30-day (precipitation): {'latitude': -0.714673, 'longitude': 34.60038, 'precipitation': 2.6976897716522217, 'pt_id': '6GFP7JP2+45J'}\n",
      "NDVI 30-day (NDVI): {'NDVI': 0.7704000000000001, 'latitude': -0.714673, 'longitude': 34.60038, 'pt_id': '6GFP7JP2+45J'}\n",
      "LST 30-day (LST_Day_1km): {'LST_Day_1km': 24.225000000000023, 'latitude': -0.714673, 'longitude': 34.60038, 'pt_id': '6GFP7JP2+45J'}\n",
      "Population (population): {'latitude': -0.714673, 'longitude': 34.60038, 'population': 4.2701640129089355, 'pt_id': '6GFP7JP2+45J'}\n"
     ]
    }
   ],
   "source": [
    "# --- 5. Example of Accessing Data (Optional) ---\n",
    "try:\n",
    "    print(\"\\n--- Example Retrieved Data (first feature) ---\")\n",
    "    print(f\"CHIRPS 30-day (precipitation): {chirps_30_fc.first().getInfo().get('properties')}\")\n",
    "    print(f\"NDVI 30-day (NDVI): {ndvi_30_fc.first().getInfo().get('properties')}\")\n",
    "    print(f\"LST 30-day (LST_Day_1km): {lst_30_fc.first().getInfo().get('properties')}\")\n",
    "    print(f\"Population (population): {pop_feat_fc.first().getInfo().get('properties')}\")\n",
    "except Exception as e:\n",
    "    print(f\"\\nCould not retrieve example data (might be empty FeatureCollection or other GEE error): {e}\")\n"
   ]
  },
  {
   "cell_type": "markdown",
   "id": "98099e01",
   "metadata": {},
   "source": [
    "## Convert to Pandas Dataframes"
   ]
  },
  {
   "cell_type": "code",
   "execution_count": null,
   "id": "c13fa380",
   "metadata": {},
   "outputs": [
    {
     "data": {
      "text/html": [
       "\n",
       "            <style>\n",
       "                .geemap-dark {\n",
       "                    --jp-widgets-color: white;\n",
       "                    --jp-widgets-label-color: white;\n",
       "                    --jp-ui-font-color1: white;\n",
       "                    --jp-layout-color2: #454545;\n",
       "                    background-color: #383838;\n",
       "                }\n",
       "\n",
       "                .geemap-dark .jupyter-button {\n",
       "                    --jp-layout-color3: #383838;\n",
       "                }\n",
       "\n",
       "                .geemap-colab {\n",
       "                    background-color: var(--colab-primary-surface-color, white);\n",
       "                }\n",
       "\n",
       "                .geemap-colab .jupyter-button {\n",
       "                    --jp-layout-color3: var(--colab-primary-surface-color, white);\n",
       "                }\n",
       "            </style>\n",
       "            "
      ],
      "text/plain": [
       "<IPython.core.display.HTML object>"
      ]
     },
     "metadata": {},
     "output_type": "display_data"
    }
   ],
   "source": [
    "from datetime import datetime\n",
    "\n",
    "df_chirps_7 = geemap.ee_to_df(chirps_7_fc)\n",
    "df_chirps_30 = geemap.ee_to_df(chirps_30_fc)\n",
    "df_chirps_90 = geemap.ee_to_df(chirps_90_fc)\n",
    "\n",
    "df_ndvi_7 = geemap.ee_to_df(ndvi_7_fc)\n",
    "df_ndvi_30 = geemap.ee_to_df(ndvi_30_fc)\n",
    "df_ndvi_90 = geemap.ee_to_df(ndvi_90_fc)\n",
    "\n",
    "df_lst_7 = geemap.ee_to_df(lst_7_fc)\n",
    "df_lst_30 = geemap.ee_to_df(lst_30_fc)\n",
    "df_lst_90 = geemap.ee_to_df(lst_90_fc)\n",
    "\n",
    "df_pop = geemap.ee_to_df(pop_feat_fc)\n",
    "\n",
    "final_df = wpdx.copy()\n",
    "\n",
    "def merge_ee_df(main_df, ee_df, new_col_prefix):\n",
    "    data_cols = [col for col in ee_df.columns if col not in ['pt_id', 'system:index', '.geo']]\n",
    "    if not data_cols:\n",
    "        return main_df\n",
    "    extracted_col_name = data_cols[0]\n",
    "    ee_df_renamed = ee_df[['pt_id', extracted_col_name]].rename(columns={extracted_col_name: f'{new_col_prefix}_{extracted_col_name}'})\n",
    "    return pd.merge(main_df, ee_df_renamed, on='pt_id', how='left')\n",
    "\n",
    "final_df = merge_ee_df(final_df, df_chirps_7, 'chirps_7')\n",
    "final_df = merge_ee_df(final_df, df_chirps_30, 'chirps_30')\n",
    "final_df = merge_ee_df(final_df, df_chirps_90, 'chirps_90')\n",
    "\n",
    "final_df = merge_ee_df(final_df, df_ndvi_7, 'ndvi_7')\n",
    "final_df = merge_ee_df(final_df, df_ndvi_30, 'ndvi_30')\n",
    "final_df = merge_ee_df(final_df, df_ndvi_90, 'ndvi_90')\n",
    "\n",
    "final_df = merge_ee_df(final_df, df_lst_7, 'lst_7')\n",
    "final_df = merge_ee_df(final_df, df_lst_30, 'lst_30')\n",
    "final_df = merge_ee_df(final_df, df_lst_90, 'lst_90')\n",
    "\n",
    "final_df = merge_ee_df(final_df, df_pop, 'pop')\n",
    "\n",
    "output_csv_filename = f\"kenya_waterpoints_environmental_data_{datetime.now().strftime('%Y%m%d_%H%M%S')}.csv\"\n",
    "final_df.to_csv(output_csv_filename, index=False)"
   ]
  },
  {
   "cell_type": "code",
   "execution_count": null,
   "id": "930429f5",
   "metadata": {},
   "outputs": [
    {
     "data": {
      "text/html": [
       "\n",
       "            <style>\n",
       "                .geemap-dark {\n",
       "                    --jp-widgets-color: white;\n",
       "                    --jp-widgets-label-color: white;\n",
       "                    --jp-ui-font-color1: white;\n",
       "                    --jp-layout-color2: #454545;\n",
       "                    background-color: #383838;\n",
       "                }\n",
       "\n",
       "                .geemap-dark .jupyter-button {\n",
       "                    --jp-layout-color3: #383838;\n",
       "                }\n",
       "\n",
       "                .geemap-colab {\n",
       "                    background-color: var(--colab-primary-surface-color, white);\n",
       "                }\n",
       "\n",
       "                .geemap-colab .jupyter-button {\n",
       "                    --jp-layout-color3: var(--colab-primary-surface-color, white);\n",
       "                }\n",
       "            </style>\n",
       "            "
      ],
      "text/plain": [
       "<IPython.core.display.HTML object>"
      ]
     },
     "metadata": {},
     "output_type": "display_data"
    },
    {
     "data": {
      "application/vnd.microsoft.datawrangler.viewer.v0+json": {
       "columns": [
        {
         "name": "index",
         "rawType": "int64",
         "type": "integer"
        },
        {
         "name": "row_id",
         "rawType": "object",
         "type": "string"
        },
        {
         "name": "#source",
         "rawType": "object",
         "type": "string"
        },
        {
         "name": "#lat_deg",
         "rawType": "float64",
         "type": "float"
        },
        {
         "name": "#lon_deg",
         "rawType": "float64",
         "type": "float"
        },
        {
         "name": "#report_date",
         "rawType": "object",
         "type": "string"
        },
        {
         "name": "#status_id",
         "rawType": "object",
         "type": "string"
        },
        {
         "name": "#water_source_clean",
         "rawType": "object",
         "type": "string"
        },
        {
         "name": "#water_source_category",
         "rawType": "object",
         "type": "string"
        },
        {
         "name": "#water_tech_clean",
         "rawType": "object",
         "type": "string"
        },
        {
         "name": "#water_tech_category",
         "rawType": "object",
         "type": "string"
        },
        {
         "name": "#facility_type",
         "rawType": "object",
         "type": "string"
        },
        {
         "name": "#clean_country_name",
         "rawType": "object",
         "type": "string"
        },
        {
         "name": "#clean_country_id",
         "rawType": "object",
         "type": "string"
        },
        {
         "name": "#clean_adm1",
         "rawType": "object",
         "type": "string"
        },
        {
         "name": "#clean_adm2",
         "rawType": "object",
         "type": "string"
        },
        {
         "name": "#clean_adm3",
         "rawType": "object",
         "type": "string"
        },
        {
         "name": "#clean_adm4",
         "rawType": "object",
         "type": "unknown"
        },
        {
         "name": "#install_year",
         "rawType": "object",
         "type": "unknown"
        },
        {
         "name": "#installer",
         "rawType": "object",
         "type": "unknown"
        },
        {
         "name": "#rehab_year",
         "rawType": "object",
         "type": "unknown"
        },
        {
         "name": "#rehabilitator",
         "rawType": "object",
         "type": "unknown"
        },
        {
         "name": "#management_clean",
         "rawType": "object",
         "type": "unknown"
        },
        {
         "name": "#status_clean",
         "rawType": "object",
         "type": "string"
        },
        {
         "name": "#pay_clean",
         "rawType": "object",
         "type": "unknown"
        },
        {
         "name": "#fecal_coliform_presence",
         "rawType": "object",
         "type": "unknown"
        },
        {
         "name": "#fecal_coliform_value",
         "rawType": "float64",
         "type": "float"
        },
        {
         "name": "#subjective_quality_clean",
         "rawType": "object",
         "type": "unknown"
        },
        {
         "name": "#activity_id",
         "rawType": "object",
         "type": "string"
        },
        {
         "name": "#scheme_id",
         "rawType": "object",
         "type": "unknown"
        },
        {
         "name": "pt_id",
         "rawType": "object",
         "type": "string"
        },
        {
         "name": "#notes",
         "rawType": "object",
         "type": "unknown"
        },
        {
         "name": "#orig_lnk",
         "rawType": "object",
         "type": "unknown"
        },
        {
         "name": "#photo_lnk",
         "rawType": "object",
         "type": "unknown"
        },
        {
         "name": "#country_id",
         "rawType": "object",
         "type": "string"
        },
        {
         "name": "#data_lnk",
         "rawType": "object",
         "type": "string"
        },
        {
         "name": "#distance_to_primary_road",
         "rawType": "object",
         "type": "string"
        },
        {
         "name": "#distance_to_secondary_road",
         "rawType": "object",
         "type": "string"
        },
        {
         "name": "#distance_to_tertiary_road",
         "rawType": "object",
         "type": "string"
        },
        {
         "name": "#distance_to_city",
         "rawType": "object",
         "type": "string"
        },
        {
         "name": "#distance_to_town",
         "rawType": "object",
         "type": "string"
        },
        {
         "name": "water_point_history",
         "rawType": "object",
         "type": "string"
        },
        {
         "name": "local_population_1km",
         "rawType": "object",
         "type": "string"
        },
        {
         "name": "water_point_population",
         "rawType": "object",
         "type": "string"
        },
        {
         "name": "rehab_priority",
         "rawType": "object",
         "type": "unknown"
        },
        {
         "name": "#pop_who_would_gain_access",
         "rawType": "object",
         "type": "unknown"
        },
        {
         "name": "crucialness_score",
         "rawType": "float64",
         "type": "float"
        },
        {
         "name": "pressure_score",
         "rawType": "object",
         "type": "string"
        },
        {
         "name": "usage_capacity",
         "rawType": "float64",
         "type": "float"
        },
        {
         "name": "days_since_report",
         "rawType": "object",
         "type": "string"
        },
        {
         "name": "staleness_score",
         "rawType": "float64",
         "type": "float"
        },
        {
         "name": "latest_record",
         "rawType": "object",
         "type": "unknown"
        },
        {
         "name": "location_id",
         "rawType": "object",
         "type": "string"
        },
        {
         "name": "is_urban",
         "rawType": "bool",
         "type": "boolean"
        },
        {
         "name": "cluster_size",
         "rawType": "int64",
         "type": "integer"
        },
        {
         "name": "#country_name",
         "rawType": "object",
         "type": "string"
        },
        {
         "name": "#water_source",
         "rawType": "object",
         "type": "string"
        },
        {
         "name": "#water_tech",
         "rawType": "object",
         "type": "unknown"
        },
        {
         "name": "#status",
         "rawType": "object",
         "type": "unknown"
        },
        {
         "name": "#adm1",
         "rawType": "object",
         "type": "string"
        },
        {
         "name": "#adm2",
         "rawType": "object",
         "type": "unknown"
        },
        {
         "name": "#adm3",
         "rawType": "object",
         "type": "unknown"
        },
        {
         "name": "#management",
         "rawType": "object",
         "type": "unknown"
        },
        {
         "name": "#pay",
         "rawType": "object",
         "type": "unknown"
        },
        {
         "name": "#subjective_quality",
         "rawType": "object",
         "type": "unknown"
        },
        {
         "name": "New Georeferenced Column ",
         "rawType": "object",
         "type": "string"
        },
        {
         "name": "lat_lon_deg",
         "rawType": "object",
         "type": "string"
        },
        {
         "name": "public_data_source",
         "rawType": "object",
         "type": "string"
        },
        {
         "name": "converted",
         "rawType": "object",
         "type": "unknown"
        },
        {
         "name": "count",
         "rawType": "int64",
         "type": "integer"
        },
        {
         "name": "created_timestamp",
         "rawType": "object",
         "type": "string"
        },
        {
         "name": "updated_timestamp",
         "rawType": "object",
         "type": "string"
        },
        {
         "name": "is_duplicate",
         "rawType": "object",
         "type": "unknown"
        },
        {
         "name": "dataset_title",
         "rawType": "object",
         "type": "string"
        },
        {
         "name": "latitude",
         "rawType": "float64",
         "type": "float"
        },
        {
         "name": "longitude",
         "rawType": "float64",
         "type": "float"
        },
        {
         "name": "chirps_7_latitude",
         "rawType": "float64",
         "type": "float"
        },
        {
         "name": "chirps_30_latitude",
         "rawType": "float64",
         "type": "float"
        },
        {
         "name": "chirps_90_latitude",
         "rawType": "float64",
         "type": "float"
        },
        {
         "name": "ndvi_7_NDVI",
         "rawType": "float64",
         "type": "float"
        },
        {
         "name": "ndvi_30_NDVI",
         "rawType": "float64",
         "type": "float"
        },
        {
         "name": "ndvi_90_NDVI",
         "rawType": "float64",
         "type": "float"
        },
        {
         "name": "lst_7_LST_Day_1km",
         "rawType": "float64",
         "type": "float"
        },
        {
         "name": "lst_30_LST_Day_1km",
         "rawType": "float64",
         "type": "float"
        },
        {
         "name": "lst_90_LST_Day_1km",
         "rawType": "float64",
         "type": "float"
        },
        {
         "name": "pop_latitude",
         "rawType": "float64",
         "type": "float"
        }
       ],
       "ref": "2df1e5ff-0433-475c-9966-3757a8207ac8",
       "rows": [
        [
         "0",
         "212,437",
         "Evidence Action",
         "-0.71467334032",
         "34.60037994385",
         "2024 Jan 26 12:00:00 AM",
         "Yes",
         "Protected Well",
         "Well",
         "Motorized Pump - Electric",
         "Motorized Pump",
         "Improved",
         "Kenya",
         "KEN",
         "Migori",
         "Rongo",
         "East Kamagambo",
         null,
         null,
         null,
         null,
         null,
         null,
         "Non-Functional",
         null,
         null,
         null,
         null,
         "10310820",
         null,
         "6GFP7JP2+45J",
         null,
         null,
         null,
         "KE",
         "https://catalog.waterpointdata.org/datasets/evidence-action-kenya-2023-2024-66217272",
         "18,072.28671686697",
         "2,771.10090001401",
         "687.41260695197",
         "19,295.51955427358",
         "4,767.15998183728",
         "{\"2024-01-26\": {\"source\": \"Evidence Action\", \"status_id\": \"Yes\", \"water_source_clean\": \"Protected Well\", \"water_tech_clean\": \"Motorized Pump - Electric\"}}",
         "1,943",
         "854",
         null,
         null,
         "0.4395265054",
         "2.84666666667",
         "300.0",
         "149",
         "95.41191064876",
         "True",
         "434,436",
         "False",
         "1",
         "Kenya",
         "Protected Spring (not powered by solar/electricity)",
         null,
         null,
         "Migori",
         "Rongo",
         "South Kamwango",
         null,
         null,
         null,
         "POINT (34.600379943847656 -0.7146733403205872)",
         "(-0.7146733403205872°, 34.600379943847656°)",
         "https://catalog.waterpointdata.org/datafiles/evidence-action-kenya-2023-2024-66217272.xlsx",
         null,
         "1",
         "2024 Apr 18 07:20:18 PM",
         "2024 Apr 18 07:20:18 PM",
         null,
         "Evidence Action_Kenya_2023-2024",
         "-0.714673",
         "34.60038",
         "-0.714673",
         "-0.714673",
         "-0.714673",
         "0.7638",
         "0.7704000000000001",
         "0.76665",
         "24.250000000000057",
         "24.225000000000023",
         "25.04454545454547",
         "-0.714673"
        ],
        [
         "1",
         "350,174",
         "Virtual Kenya",
         "-0.151875",
         "34.849491",
         "2012 May 28 12:00:00 AM",
         "Yes",
         "Protected Well",
         "Well",
         "Hand Pump - Afridev",
         "Hand Pump",
         "Improved",
         "Kenya",
         "KEN",
         "Kisumu",
         "Nyando",
         "Kobura",
         null,
         "2,002",
         null,
         null,
         null,
         "Private Operator/Delegated Management",
         "Functional",
         "No payment",
         null,
         null,
         "Unacceptable quality",
         "ksm 494",
         null,
         "6GFPRRXX+7Q5",
         null,
         "http://www.virtualkenya.org",
         "http://flowakvo.s3.amazonaws.com/images/wfpPhoto4465265337023.jpg",
         "KE",
         "https://catalog.waterpointdata.org/datasets/virtual-kenya-busia-kajiado-kiambu-kisumu-for-wpdx-reingestion-5f2d9816",
         "9,481.40837197039",
         "2,183.99150861728",
         "4,102.77791991954",
         "11,911.90804425447",
         "8,064.04601029853",
         "{\"2012-05-28\": {\"photo_lnk\": \"http://flowakvo.s3.amazonaws.com/images/wfpPhoto4465265337023.jpg\", \"source\": \"Virtual Kenya\", \"status_id\": \"Yes\", \"water_source_clean\": \"Protected Well\", \"water_tech_clean\": \"Hand Pump - Afridev\"}}",
         "2,909",
         "69",
         null,
         null,
         "0.02371949123",
         "0.23",
         "300.0",
         "4,409",
         "24.91313608521",
         "True",
         "114,602",
         "False",
         "1",
         "Kenya",
         "Protected dug well",
         "Hand Pump Afridev",
         "Functional ( in use) good",
         "Kisumu",
         null,
         null,
         "Individual Entrepreneur / SMEÃ¢ÂÂs",
         null,
         "Safe -Crisp and clear",
         "POINT (34.849491 -0.151875)",
         "(-0.151875°, 34.849491°)",
         "https://catalog.waterpointdata.org/datafiles/virtual-kenya-busia-kajiado-kiambu-kisumu-for-wpdx-reingestion-5f2d9816.csv",
         "#status_id, #water_source, #water_tech, #status, #subjective_quality",
         "1",
         "2020 Aug 07 06:06:14 PM",
         "2020 Aug 07 06:06:14 PM",
         null,
         "Virtual Kenya_Busia, Kajiado, Kiambu, Kisumu_2012",
         "-0.151875",
         "34.849491",
         "-0.151875",
         "-0.151875",
         "-0.151875",
         "0.5566",
         "0.60245",
         "0.6776",
         "27.730000000000018",
         "27.035000000000025",
         "26.57727272727277",
         "-0.151875"
        ],
        [
         "2",
         "351,062",
         "Virtual Kenya",
         "-0.085423",
         "34.438709",
         "2012 Jun 05 12:00:00 AM",
         "Yes",
         "Protected Well",
         "Well",
         "Hand Pump - India Mark",
         "Hand Pump",
         "Improved",
         "Kenya",
         "KEN",
         "Kisumu",
         "Seme",
         "West Seme",
         null,
         "2,010",
         null,
         null,
         null,
         "Community Management",
         "Functional, not in use",
         "Fees collected – metered",
         null,
         null,
         "Unacceptable quality",
         "ksm363",
         null,
         "6GFPWC7Q+RFP",
         null,
         "http://www.virtualkenya.org",
         "http://flowakvo.s3.amazonaws.com/images/wfpPhoto372729500169.jpg",
         "KE",
         "https://catalog.waterpointdata.org/datasets/virtual-kenya-busia-kajiado-kiambu-kisumu-for-wpdx-reingestion-5f2d9816",
         "19,570.04242330038",
         "1,156.09999095631",
         "2,375.4723199163",
         "35,170.95667727321",
         "18,400.74719467589",
         "{\"2012-06-05\": {\"photo_lnk\": \"http://flowakvo.s3.amazonaws.com/images/wfpPhoto372729500169.jpg\", \"source\": \"Virtual Kenya\", \"status_id\": \"Yes\", \"water_source_clean\": \"Protected Well\", \"water_tech_clean\": \"Hand Pump - India Mark\"}}",
         "1,343",
         "797",
         null,
         null,
         "0.59344750558",
         "2.65666666667",
         "300.0",
         "4,401",
         "24.97603895652",
         "True",
         "114,808",
         "False",
         "1",
         "Kenya",
         "Protected dug well",
         "Hand Pump India Mark II",
         "Functional ( not in use) dry",
         "Kisumu",
         null,
         null,
         "Directly managed by the CBO",
         "Per Jerrican 20L (Ksh)",
         "Safe -Crisp and clear",
         "POINT (34.438709 -0.085423)",
         "(-0.085423°, 34.438709°)",
         "https://catalog.waterpointdata.org/datafiles/virtual-kenya-busia-kajiado-kiambu-kisumu-for-wpdx-reingestion-5f2d9816.csv",
         "#status_id, #water_source, #water_tech, #status, #subjective_quality",
         "1",
         "2020 Aug 07 06:06:14 PM",
         "2020 Aug 07 06:06:14 PM",
         null,
         "Virtual Kenya_Busia, Kajiado, Kiambu, Kisumu_2012",
         "-0.085423",
         "34.438709",
         "-0.085423",
         "-0.085423",
         "-0.085423",
         "0.7461",
         "0.7599",
         "0.77475",
         "25.890000000000043",
         "24.480000000000018",
         "24.628000000000043",
         "-0.085423"
        ],
        [
         "3",
         "349,725",
         "Virtual Kenya",
         "-0.49212",
         "37.567619",
         "2012 Dec 16 12:00:00 AM",
         "Yes",
         "Rainwater Harvesting",
         "Rainwater Harvesting",
         "Rope and Bucket",
         "Rope and Bucket",
         "Improved",
         "Kenya",
         "KEN",
         "Embu",
         "Runyenjes",
         "Kagaari South",
         null,
         "1,992",
         null,
         null,
         null,
         "No Management",
         "Functional, not in use",
         "No payment",
         null,
         null,
         "Unacceptable quality",
         "embu_water_points2.672",
         null,
         "6GFVGH59+525",
         null,
         "http://www.virtualkenya.org",
         "http://epicollectserver.appspot.com/showImageWithKey?imageKey=ahZzfmVwaWNvbGxlY3RzZXJ2ZXItaHJkcg4LEgVFbnRyeRiT7cMCDA",
         "KE",
         "https://catalog.waterpointdata.org/datasets/virtual-kenya-embu-for-wpdx-reingestion-5f2d938e",
         "2,452.42984058538",
         "2,157.0280101868",
         "3,729.1084638284",
         "13,160.24177252157",
         "9,494.42648928088",
         "{\"2012-12-16\": {\"photo_lnk\": \"http://epicollectserver.appspot.com/showImageWithKey?imageKey=ahZzfmVwaWNvbGxlY3RzZXJ2ZXItaHJkcg4LEgVFbnRyeRiT7cMCDA\", \"source\": \"Virtual Kenya\", \"status_id\": \"Yes\", \"water_source_clean\": \"Rainwater Harvesting\", \"water_tech_clean\": \"Rope and Bucket\"}}",
         "1,764",
         "443",
         null,
         null,
         "0.25113378685",
         "8.86",
         "50.0",
         "4,207",
         "26.55102313158",
         "True",
         "120,029",
         "False",
         "1",
         "Kenya",
         "Rain water",
         "bucket",
         "Functional and in use The school requires more tanks and gutters for roof harvesting",
         "Embu",
         "Embu east",
         null,
         "nomanager",
         "no payment",
         "Safe -Crisp and clear",
         "POINT (37.567619 -0.49212)",
         "(-0.49212°, 37.567619°)",
         "https://catalog.waterpointdata.org/datafiles/virtual-kenya-embu-for-wpdx-reingestion-5f2d938e.csv",
         "#status_id, #water_source, #water_tech, #subjective_quality, #status",
         "1",
         "2020 Aug 07 05:46:54 PM",
         "2020 Aug 07 05:46:54 PM",
         null,
         "Virtual Kenya_Embu Kenya_2013-2014",
         "-0.49212",
         "37.567619",
         "-0.49212",
         "-0.49212",
         "-0.49212",
         "0.2576",
         "0.4974",
         "0.7056833333333333",
         null,
         "22.81666666666672",
         "22.55800000000005",
         "-0.49212"
        ],
        [
         "4",
         "173,351",
         "Evidence Action",
         "0.21540667117",
         "34.78804397583",
         "2023 Oct 11 12:00:00 AM",
         "Yes",
         "Protected Well",
         "Well",
         "Motorized Pump - Electric",
         "Motorized Pump",
         "Improved",
         "Kenya",
         "KEN",
         "Kakamega",
         "Shinyalu",
         "Isukha Central",
         null,
         null,
         null,
         null,
         null,
         null,
         "Non-Functional",
         null,
         null,
         null,
         null,
         "10162029",
         null,
         "6GGP6Q8Q+567",
         null,
         null,
         null,
         "KE",
         "https://catalog.waterpointdata.org/datasets/evidence-action-kenya-2023-2024-66217272",
         "8,298.34799355987",
         "9,413.14692418663",
         "2,934.39275351087",
         "8,619.40357140053",
         "1,988.88263920391",
         "{\"2023-10-11\": {\"source\": \"Evidence Action\", \"status_id\": \"Yes\", \"water_source_clean\": \"Protected Well\", \"water_tech_clean\": \"Motorized Pump - Electric\"}}",
         "3,018",
         "343",
         null,
         null,
         "0.11365142478",
         "1.14333333333",
         "300.0",
         "256",
         "92.24753932455",
         "True",
         "428,519",
         "False",
         "1",
         "Kenya",
         "Protected Spring (not powered by solar/electricity)",
         null,
         null,
         "Kakamega",
         "Kakamega East",
         "Shidodo",
         null,
         null,
         null,
         "POINT (34.78804397583008 0.21540667116642)",
         "(0.21540667116641998°, 34.78804397583008°)",
         "https://catalog.waterpointdata.org/datafiles/evidence-action-kenya-2023-2024-66217272.xlsx",
         null,
         "1",
         "2024 Apr 18 07:20:18 PM",
         "2024 Apr 18 07:20:18 PM",
         null,
         "Evidence Action_Kenya_2023-2024",
         "0.215407",
         "34.788044",
         "0.215407",
         "0.215407",
         "0.215407",
         "0.7795000000000001",
         "0.78995",
         "0.7746666666666667",
         "23.07000000000005",
         "22.840000000000032",
         "23.131818181818232",
         "0.215407"
        ]
       ],
       "shape": {
        "columns": 85,
        "rows": 5
       }
      },
      "text/html": [
       "<div>\n",
       "<style scoped>\n",
       "    .dataframe tbody tr th:only-of-type {\n",
       "        vertical-align: middle;\n",
       "    }\n",
       "\n",
       "    .dataframe tbody tr th {\n",
       "        vertical-align: top;\n",
       "    }\n",
       "\n",
       "    .dataframe thead th {\n",
       "        text-align: right;\n",
       "    }\n",
       "</style>\n",
       "<table border=\"1\" class=\"dataframe\">\n",
       "  <thead>\n",
       "    <tr style=\"text-align: right;\">\n",
       "      <th></th>\n",
       "      <th>row_id</th>\n",
       "      <th>#source</th>\n",
       "      <th>#lat_deg</th>\n",
       "      <th>#lon_deg</th>\n",
       "      <th>#report_date</th>\n",
       "      <th>#status_id</th>\n",
       "      <th>#water_source_clean</th>\n",
       "      <th>#water_source_category</th>\n",
       "      <th>#water_tech_clean</th>\n",
       "      <th>#water_tech_category</th>\n",
       "      <th>...</th>\n",
       "      <th>chirps_7_latitude</th>\n",
       "      <th>chirps_30_latitude</th>\n",
       "      <th>chirps_90_latitude</th>\n",
       "      <th>ndvi_7_NDVI</th>\n",
       "      <th>ndvi_30_NDVI</th>\n",
       "      <th>ndvi_90_NDVI</th>\n",
       "      <th>lst_7_LST_Day_1km</th>\n",
       "      <th>lst_30_LST_Day_1km</th>\n",
       "      <th>lst_90_LST_Day_1km</th>\n",
       "      <th>pop_latitude</th>\n",
       "    </tr>\n",
       "  </thead>\n",
       "  <tbody>\n",
       "    <tr>\n",
       "      <th>0</th>\n",
       "      <td>212,437</td>\n",
       "      <td>Evidence Action</td>\n",
       "      <td>-0.714673</td>\n",
       "      <td>34.600380</td>\n",
       "      <td>2024 Jan 26 12:00:00 AM</td>\n",
       "      <td>Yes</td>\n",
       "      <td>Protected Well</td>\n",
       "      <td>Well</td>\n",
       "      <td>Motorized Pump - Electric</td>\n",
       "      <td>Motorized Pump</td>\n",
       "      <td>...</td>\n",
       "      <td>-0.714673</td>\n",
       "      <td>-0.714673</td>\n",
       "      <td>-0.714673</td>\n",
       "      <td>0.7638</td>\n",
       "      <td>0.77040</td>\n",
       "      <td>0.766650</td>\n",
       "      <td>24.25</td>\n",
       "      <td>24.225000</td>\n",
       "      <td>25.044545</td>\n",
       "      <td>-0.714673</td>\n",
       "    </tr>\n",
       "    <tr>\n",
       "      <th>1</th>\n",
       "      <td>350,174</td>\n",
       "      <td>Virtual Kenya</td>\n",
       "      <td>-0.151875</td>\n",
       "      <td>34.849491</td>\n",
       "      <td>2012 May 28 12:00:00 AM</td>\n",
       "      <td>Yes</td>\n",
       "      <td>Protected Well</td>\n",
       "      <td>Well</td>\n",
       "      <td>Hand Pump - Afridev</td>\n",
       "      <td>Hand Pump</td>\n",
       "      <td>...</td>\n",
       "      <td>-0.151875</td>\n",
       "      <td>-0.151875</td>\n",
       "      <td>-0.151875</td>\n",
       "      <td>0.5566</td>\n",
       "      <td>0.60245</td>\n",
       "      <td>0.677600</td>\n",
       "      <td>27.73</td>\n",
       "      <td>27.035000</td>\n",
       "      <td>26.577273</td>\n",
       "      <td>-0.151875</td>\n",
       "    </tr>\n",
       "    <tr>\n",
       "      <th>2</th>\n",
       "      <td>351,062</td>\n",
       "      <td>Virtual Kenya</td>\n",
       "      <td>-0.085423</td>\n",
       "      <td>34.438709</td>\n",
       "      <td>2012 Jun 05 12:00:00 AM</td>\n",
       "      <td>Yes</td>\n",
       "      <td>Protected Well</td>\n",
       "      <td>Well</td>\n",
       "      <td>Hand Pump - India Mark</td>\n",
       "      <td>Hand Pump</td>\n",
       "      <td>...</td>\n",
       "      <td>-0.085423</td>\n",
       "      <td>-0.085423</td>\n",
       "      <td>-0.085423</td>\n",
       "      <td>0.7461</td>\n",
       "      <td>0.75990</td>\n",
       "      <td>0.774750</td>\n",
       "      <td>25.89</td>\n",
       "      <td>24.480000</td>\n",
       "      <td>24.628000</td>\n",
       "      <td>-0.085423</td>\n",
       "    </tr>\n",
       "    <tr>\n",
       "      <th>3</th>\n",
       "      <td>349,725</td>\n",
       "      <td>Virtual Kenya</td>\n",
       "      <td>-0.492120</td>\n",
       "      <td>37.567619</td>\n",
       "      <td>2012 Dec 16 12:00:00 AM</td>\n",
       "      <td>Yes</td>\n",
       "      <td>Rainwater Harvesting</td>\n",
       "      <td>Rainwater Harvesting</td>\n",
       "      <td>Rope and Bucket</td>\n",
       "      <td>Rope and Bucket</td>\n",
       "      <td>...</td>\n",
       "      <td>-0.492120</td>\n",
       "      <td>-0.492120</td>\n",
       "      <td>-0.492120</td>\n",
       "      <td>0.2576</td>\n",
       "      <td>0.49740</td>\n",
       "      <td>0.705683</td>\n",
       "      <td>NaN</td>\n",
       "      <td>22.816667</td>\n",
       "      <td>22.558000</td>\n",
       "      <td>-0.492120</td>\n",
       "    </tr>\n",
       "    <tr>\n",
       "      <th>4</th>\n",
       "      <td>173,351</td>\n",
       "      <td>Evidence Action</td>\n",
       "      <td>0.215407</td>\n",
       "      <td>34.788044</td>\n",
       "      <td>2023 Oct 11 12:00:00 AM</td>\n",
       "      <td>Yes</td>\n",
       "      <td>Protected Well</td>\n",
       "      <td>Well</td>\n",
       "      <td>Motorized Pump - Electric</td>\n",
       "      <td>Motorized Pump</td>\n",
       "      <td>...</td>\n",
       "      <td>0.215407</td>\n",
       "      <td>0.215407</td>\n",
       "      <td>0.215407</td>\n",
       "      <td>0.7795</td>\n",
       "      <td>0.78995</td>\n",
       "      <td>0.774667</td>\n",
       "      <td>23.07</td>\n",
       "      <td>22.840000</td>\n",
       "      <td>23.131818</td>\n",
       "      <td>0.215407</td>\n",
       "    </tr>\n",
       "  </tbody>\n",
       "</table>\n",
       "<p>5 rows × 85 columns</p>\n",
       "</div>"
      ],
      "text/plain": [
       "    row_id          #source  #lat_deg   #lon_deg             #report_date  \\\n",
       "0  212,437  Evidence Action -0.714673  34.600380  2024 Jan 26 12:00:00 AM   \n",
       "1  350,174    Virtual Kenya -0.151875  34.849491  2012 May 28 12:00:00 AM   \n",
       "2  351,062    Virtual Kenya -0.085423  34.438709  2012 Jun 05 12:00:00 AM   \n",
       "3  349,725    Virtual Kenya -0.492120  37.567619  2012 Dec 16 12:00:00 AM   \n",
       "4  173,351  Evidence Action  0.215407  34.788044  2023 Oct 11 12:00:00 AM   \n",
       "\n",
       "  #status_id   #water_source_clean #water_source_category  \\\n",
       "0        Yes        Protected Well                   Well   \n",
       "1        Yes        Protected Well                   Well   \n",
       "2        Yes        Protected Well                   Well   \n",
       "3        Yes  Rainwater Harvesting   Rainwater Harvesting   \n",
       "4        Yes        Protected Well                   Well   \n",
       "\n",
       "           #water_tech_clean #water_tech_category  ... chirps_7_latitude  \\\n",
       "0  Motorized Pump - Electric       Motorized Pump  ...         -0.714673   \n",
       "1        Hand Pump - Afridev            Hand Pump  ...         -0.151875   \n",
       "2     Hand Pump - India Mark            Hand Pump  ...         -0.085423   \n",
       "3            Rope and Bucket      Rope and Bucket  ...         -0.492120   \n",
       "4  Motorized Pump - Electric       Motorized Pump  ...          0.215407   \n",
       "\n",
       "  chirps_30_latitude chirps_90_latitude ndvi_7_NDVI ndvi_30_NDVI ndvi_90_NDVI  \\\n",
       "0          -0.714673          -0.714673      0.7638      0.77040     0.766650   \n",
       "1          -0.151875          -0.151875      0.5566      0.60245     0.677600   \n",
       "2          -0.085423          -0.085423      0.7461      0.75990     0.774750   \n",
       "3          -0.492120          -0.492120      0.2576      0.49740     0.705683   \n",
       "4           0.215407           0.215407      0.7795      0.78995     0.774667   \n",
       "\n",
       "  lst_7_LST_Day_1km lst_30_LST_Day_1km lst_90_LST_Day_1km pop_latitude  \n",
       "0             24.25          24.225000          25.044545    -0.714673  \n",
       "1             27.73          27.035000          26.577273    -0.151875  \n",
       "2             25.89          24.480000          24.628000    -0.085423  \n",
       "3               NaN          22.816667          22.558000    -0.492120  \n",
       "4             23.07          22.840000          23.131818     0.215407  \n",
       "\n",
       "[5 rows x 85 columns]"
      ]
     },
     "execution_count": 27,
     "metadata": {},
     "output_type": "execute_result"
    }
   ],
   "source": [
    "final_df.head()"
   ]
  },
  {
   "cell_type": "code",
   "execution_count": null,
   "id": "9ee6f559",
   "metadata": {},
   "outputs": [
    {
     "data": {
      "text/html": [
       "\n",
       "            <style>\n",
       "                .geemap-dark {\n",
       "                    --jp-widgets-color: white;\n",
       "                    --jp-widgets-label-color: white;\n",
       "                    --jp-ui-font-color1: white;\n",
       "                    --jp-layout-color2: #454545;\n",
       "                    background-color: #383838;\n",
       "                }\n",
       "\n",
       "                .geemap-dark .jupyter-button {\n",
       "                    --jp-layout-color3: #383838;\n",
       "                }\n",
       "\n",
       "                .geemap-colab {\n",
       "                    background-color: var(--colab-primary-surface-color, white);\n",
       "                }\n",
       "\n",
       "                .geemap-colab .jupyter-button {\n",
       "                    --jp-layout-color3: var(--colab-primary-surface-color, white);\n",
       "                }\n",
       "            </style>\n",
       "            "
      ],
      "text/plain": [
       "<IPython.core.display.HTML object>"
      ]
     },
     "metadata": {},
     "output_type": "display_data"
    },
    {
     "name": "stdout",
     "output_type": "stream",
     "text": [
      "<class 'pandas.core.frame.DataFrame'>\n",
      "RangeIndex: 5000 entries, 0 to 4999\n",
      "Data columns (total 85 columns):\n",
      " #   Column                       Non-Null Count  Dtype  \n",
      "---  ------                       --------------  -----  \n",
      " 0   row_id                       5000 non-null   object \n",
      " 1   #source                      5000 non-null   object \n",
      " 2   #lat_deg                     5000 non-null   float64\n",
      " 3   #lon_deg                     5000 non-null   float64\n",
      " 4   #report_date                 5000 non-null   object \n",
      " 5   #status_id                   5000 non-null   object \n",
      " 6   #water_source_clean          4967 non-null   object \n",
      " 7   #water_source_category       4967 non-null   object \n",
      " 8   #water_tech_clean            3679 non-null   object \n",
      " 9   #water_tech_category         3518 non-null   object \n",
      " 10  #facility_type               5000 non-null   object \n",
      " 11  #clean_country_name          5000 non-null   object \n",
      " 12  #clean_country_id            5000 non-null   object \n",
      " 13  #clean_adm1                  5000 non-null   object \n",
      " 14  #clean_adm2                  5000 non-null   object \n",
      " 15  #clean_adm3                  5000 non-null   object \n",
      " 16  #clean_adm4                  0 non-null      object \n",
      " 17  #install_year                2316 non-null   object \n",
      " 18  #installer                   868 non-null    object \n",
      " 19  #rehab_year                  0 non-null      object \n",
      " 20  #rehabilitator               0 non-null      object \n",
      " 21  #management_clean            2279 non-null   object \n",
      " 22  #status_clean                5000 non-null   object \n",
      " 23  #pay_clean                   806 non-null    object \n",
      " 24  #fecal_coliform_presence     0 non-null      object \n",
      " 25  #fecal_coliform_value        0 non-null      float64\n",
      " 26  #subjective_quality_clean    2314 non-null   object \n",
      " 27  #activity_id                 4505 non-null   object \n",
      " 28  #scheme_id                   0 non-null      object \n",
      " 29  pt_id                        5000 non-null   object \n",
      " 30  #notes                       760 non-null    object \n",
      " 31  #orig_lnk                    825 non-null    object \n",
      " 32  #photo_lnk                   2316 non-null   object \n",
      " 33  #country_id                  4979 non-null   object \n",
      " 34  #data_lnk                    5000 non-null   object \n",
      " 35  #distance_to_primary_road    5000 non-null   object \n",
      " 36  #distance_to_secondary_road  5000 non-null   object \n",
      " 37  #distance_to_tertiary_road   5000 non-null   object \n",
      " 38  #distance_to_city            4986 non-null   object \n",
      " 39  #distance_to_town            5000 non-null   object \n",
      " 40  water_point_history          5000 non-null   object \n",
      " 41  local_population_1km         4820 non-null   object \n",
      " 42  water_point_population       4820 non-null   object \n",
      " 43  rehab_priority               471 non-null    object \n",
      " 44  #pop_who_would_gain_access   398 non-null    object \n",
      " 45  crucialness_score            4798 non-null   float64\n",
      " 46  pressure_score               4592 non-null   object \n",
      " 47  usage_capacity               4758 non-null   float64\n",
      " 48  days_since_report            5000 non-null   object \n",
      " 49  staleness_score              5000 non-null   float64\n",
      " 50  latest_record                5000 non-null   object \n",
      " 51  location_id                  5000 non-null   object \n",
      " 52  is_urban                     5000 non-null   bool   \n",
      " 53  cluster_size                 5000 non-null   int64  \n",
      " 54  #country_name                4979 non-null   object \n",
      " 55  #water_source                4988 non-null   object \n",
      " 56  #water_tech                  2436 non-null   object \n",
      " 57  #status                      2351 non-null   object \n",
      " 58  #adm1                        4381 non-null   object \n",
      " 59  #adm2                        3809 non-null   object \n",
      " 60  #adm3                        3647 non-null   object \n",
      " 61  #management                  2294 non-null   object \n",
      " 62  #pay                         475 non-null    object \n",
      " 63  #subjective_quality          2324 non-null   object \n",
      " 64  New Georeferenced Column     5000 non-null   object \n",
      " 65  lat_lon_deg                  5000 non-null   object \n",
      " 66  public_data_source           5000 non-null   object \n",
      " 67  converted                    2359 non-null   object \n",
      " 68  count                        5000 non-null   int64  \n",
      " 69  created_timestamp            5000 non-null   object \n",
      " 70  updated_timestamp            5000 non-null   object \n",
      " 71  is_duplicate                 164 non-null    object \n",
      " 72  dataset_title                5000 non-null   object \n",
      " 73  latitude                     5000 non-null   float64\n",
      " 74  longitude                    5000 non-null   float64\n",
      " 75  chirps_7_latitude            5000 non-null   float64\n",
      " 76  chirps_30_latitude           5000 non-null   float64\n",
      " 77  chirps_90_latitude           5000 non-null   float64\n",
      " 78  ndvi_7_NDVI                  5000 non-null   float64\n",
      " 79  ndvi_30_NDVI                 5000 non-null   float64\n",
      " 80  ndvi_90_NDVI                 5000 non-null   float64\n",
      " 81  lst_7_LST_Day_1km            4837 non-null   float64\n",
      " 82  lst_30_LST_Day_1km           5000 non-null   float64\n",
      " 83  lst_90_LST_Day_1km           5000 non-null   float64\n",
      " 84  pop_latitude                 4987 non-null   float64\n",
      "dtypes: bool(1), float64(18), int64(2), object(64)\n",
      "memory usage: 3.2+ MB\n"
     ]
    }
   ],
   "source": [
    "final_df.info()"
   ]
  }
 ],
 "metadata": {
  "kernelspec": {
   "display_name": "base",
   "language": "python",
   "name": "python3"
  },
  "language_info": {
   "codemirror_mode": {
    "name": "ipython",
    "version": 3
   },
   "file_extension": ".py",
   "mimetype": "text/x-python",
   "name": "python",
   "nbconvert_exporter": "python",
   "pygments_lexer": "ipython3",
   "version": "3.12.7"
  }
 },
 "nbformat": 4,
 "nbformat_minor": 5
}
