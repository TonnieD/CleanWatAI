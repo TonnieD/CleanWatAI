{
 "cells": [
  {
   "cell_type": "code",
   "execution_count": 310,
   "id": "fe78f9fc",
   "metadata": {},
   "outputs": [
    {
     "name": "stdout",
     "output_type": "stream",
     "text": [
      "The autoreload extension is already loaded. To reload it, use:\n",
      "  %reload_ext autoreload\n"
     ]
    }
   ],
   "source": [
    "%load_ext autoreload\n",
    "%autoreload 2"
   ]
  },
  {
   "cell_type": "code",
   "execution_count": 311,
   "id": "a65c1143",
   "metadata": {},
   "outputs": [
    {
     "name": "stdout",
     "output_type": "stream",
     "text": [
      "['deploy.py', 'extract_data.py', 'ingest_live_gee.py', 'ingest_live_nlp.py', 'ingest_live_wpdx.py', 'merge_data.py', 'prepare_data.py', 'train_nlp.py', 'train_xgb.py', '__init__.py', '__pycache__']\n"
     ]
    }
   ],
   "source": [
    "import os\n",
    "\n",
    "# List files inside the scripts folder\n",
    "print(os.listdir(\"scripts\"))\n"
   ]
  },
  {
   "cell_type": "markdown",
   "id": "6457c964",
   "metadata": {},
   "source": [
    "## Step 1: Data Loading and Initial Exploration\n",
    "To begin our NLP project, we first loaded the dataset which contains humanitarian assessment reports, each associated with a severity label. Our aim is to predict the severity of humanitarian issues based on the textual content of these reports.\n",
    "\n",
    "**Key Steps in Data Loading:**\n",
    "Loaded the dataset using Pandas.\n",
    "\n",
    "Displayed basic information: column names, data types, and sample records.\n",
    "\n",
    "Verified the presence of essential columns for NLP and modeling:\n",
    "\n",
    "excerpt: the main text field describing events.\n",
    "\n",
    "severity: the target label, with categories like \"Critical Issue\", \"Severe Issue\", \"Minor Issue\", etc.\n",
    "\n",
    "lang: ensured all records are in English ('en').\n",
    "\n",
    "Checked for null or missing values in the key columns."
   ]
  },
  {
   "cell_type": "code",
   "execution_count": 312,
   "id": "63edba9f",
   "metadata": {},
   "outputs": [
    {
     "name": "stdout",
     "output_type": "stream",
     "text": [
      "Shape: (76466, 24)\n"
     ]
    },
    {
     "data": {
      "text/html": [
       "<div>\n",
       "<style scoped>\n",
       "    .dataframe tbody tr th:only-of-type {\n",
       "        vertical-align: middle;\n",
       "    }\n",
       "\n",
       "    .dataframe tbody tr th {\n",
       "        vertical-align: top;\n",
       "    }\n",
       "\n",
       "    .dataframe thead th {\n",
       "        text-align: right;\n",
       "    }\n",
       "</style>\n",
       "<table border=\"1\" class=\"dataframe\">\n",
       "  <thead>\n",
       "    <tr style=\"text-align: right;\">\n",
       "      <th></th>\n",
       "      <th>Unnamed: 0</th>\n",
       "      <th>entry_id</th>\n",
       "      <th>lead_id</th>\n",
       "      <th>lang</th>\n",
       "      <th>n_tokens</th>\n",
       "      <th>project_title</th>\n",
       "      <th>created_at</th>\n",
       "      <th>document</th>\n",
       "      <th>source_title</th>\n",
       "      <th>author_title</th>\n",
       "      <th>...</th>\n",
       "      <th>pillars_2d</th>\n",
       "      <th>subpillars_1d</th>\n",
       "      <th>subpillars_2d</th>\n",
       "      <th>displaced</th>\n",
       "      <th>non_displaced</th>\n",
       "      <th>affected</th>\n",
       "      <th>severity</th>\n",
       "      <th>age</th>\n",
       "      <th>gender</th>\n",
       "      <th>specific_needs_groups</th>\n",
       "    </tr>\n",
       "  </thead>\n",
       "  <tbody>\n",
       "    <tr>\n",
       "      <th>0</th>\n",
       "      <td>0</td>\n",
       "      <td>199921</td>\n",
       "      <td>44304</td>\n",
       "      <td>en</td>\n",
       "      <td>145</td>\n",
       "      <td>IMMAP/DFS Burkina Faso</td>\n",
       "      <td>2020-11-26 10:42:14.523264+00:00</td>\n",
       "      <td>Unknown</td>\n",
       "      <td>United Nations High Commissioner for Refugees</td>\n",
       "      <td>Unknown</td>\n",
       "      <td>...</td>\n",
       "      <td>[]</td>\n",
       "      <td>['Displacement-&gt;Type/Numbers/Movements']</td>\n",
       "      <td>[]</td>\n",
       "      <td>['Idp']</td>\n",
       "      <td>[]</td>\n",
       "      <td>['Displaced']</td>\n",
       "      <td>[]</td>\n",
       "      <td>[]</td>\n",
       "      <td>[]</td>\n",
       "      <td>[]</td>\n",
       "    </tr>\n",
       "    <tr>\n",
       "      <th>1</th>\n",
       "      <td>1</td>\n",
       "      <td>293791</td>\n",
       "      <td>52163</td>\n",
       "      <td>en</td>\n",
       "      <td>480</td>\n",
       "      <td>IMMAP/DFS Burkina Faso</td>\n",
       "      <td>2021-03-29 06:53:04.456578+00:00</td>\n",
       "      <td>https://allafrica.com/stories/202103160182.html</td>\n",
       "      <td>AllAfrica</td>\n",
       "      <td>Unknown</td>\n",
       "      <td>...</td>\n",
       "      <td>[]</td>\n",
       "      <td>['Context-&gt;Environment', 'Context-&gt;Economy']</td>\n",
       "      <td>[]</td>\n",
       "      <td>[]</td>\n",
       "      <td>[]</td>\n",
       "      <td>[]</td>\n",
       "      <td>[]</td>\n",
       "      <td>[]</td>\n",
       "      <td>[]</td>\n",
       "      <td>[]</td>\n",
       "    </tr>\n",
       "    <tr>\n",
       "      <th>2</th>\n",
       "      <td>2</td>\n",
       "      <td>169536</td>\n",
       "      <td>40366</td>\n",
       "      <td>en</td>\n",
       "      <td>879</td>\n",
       "      <td>IMMAP/DFS Burkina Faso</td>\n",
       "      <td>2020-10-06 21:23:24.022536+00:00</td>\n",
       "      <td>Unknown</td>\n",
       "      <td>Reliefweb</td>\n",
       "      <td>Unknown</td>\n",
       "      <td>...</td>\n",
       "      <td>['At Risk']</td>\n",
       "      <td>['Casualties-&gt;Dead', 'Context-&gt;Security &amp; Stab...</td>\n",
       "      <td>['At Risk-&gt;Risk And Vulnerabilities']</td>\n",
       "      <td>[]</td>\n",
       "      <td>[]</td>\n",
       "      <td>[]</td>\n",
       "      <td>[]</td>\n",
       "      <td>[]</td>\n",
       "      <td>[]</td>\n",
       "      <td>[]</td>\n",
       "    </tr>\n",
       "    <tr>\n",
       "      <th>3</th>\n",
       "      <td>3</td>\n",
       "      <td>169537</td>\n",
       "      <td>40366</td>\n",
       "      <td>en</td>\n",
       "      <td>642</td>\n",
       "      <td>IMMAP/DFS Burkina Faso</td>\n",
       "      <td>2020-10-06 21:23:25.409843+00:00</td>\n",
       "      <td>Unknown</td>\n",
       "      <td>Reliefweb</td>\n",
       "      <td>Unknown</td>\n",
       "      <td>...</td>\n",
       "      <td>[]</td>\n",
       "      <td>['Displacement-&gt;Type/Numbers/Movements', 'Disp...</td>\n",
       "      <td>[]</td>\n",
       "      <td>[]</td>\n",
       "      <td>[]</td>\n",
       "      <td>['Displaced']</td>\n",
       "      <td>[]</td>\n",
       "      <td>['&lt;18 Years', '18-59 Years Old']</td>\n",
       "      <td>['All', 'Female']</td>\n",
       "      <td>[]</td>\n",
       "    </tr>\n",
       "    <tr>\n",
       "      <th>4</th>\n",
       "      <td>4</td>\n",
       "      <td>155848</td>\n",
       "      <td>38493</td>\n",
       "      <td>en</td>\n",
       "      <td>600</td>\n",
       "      <td>IMMAP/DFS Burkina Faso</td>\n",
       "      <td>2020-09-08 12:42:54.252017+00:00</td>\n",
       "      <td>Unknown</td>\n",
       "      <td>UNHCR Portal</td>\n",
       "      <td>Unknown</td>\n",
       "      <td>...</td>\n",
       "      <td>['Capacities &amp; Response']</td>\n",
       "      <td>['Information And Communication-&gt;Communication...</td>\n",
       "      <td>['Capacities &amp; Response-&gt;International Response']</td>\n",
       "      <td>['Idp']</td>\n",
       "      <td>['Host']</td>\n",
       "      <td>['Non Displaced', 'Displaced']</td>\n",
       "      <td>[]</td>\n",
       "      <td>[]</td>\n",
       "      <td>[]</td>\n",
       "      <td>[]</td>\n",
       "    </tr>\n",
       "  </tbody>\n",
       "</table>\n",
       "<p>5 rows × 24 columns</p>\n",
       "</div>"
      ],
      "text/plain": [
       "   Unnamed: 0  entry_id  lead_id lang  n_tokens           project_title  \\\n",
       "0           0    199921    44304   en       145  IMMAP/DFS Burkina Faso   \n",
       "1           1    293791    52163   en       480  IMMAP/DFS Burkina Faso   \n",
       "2           2    169536    40366   en       879  IMMAP/DFS Burkina Faso   \n",
       "3           3    169537    40366   en       642  IMMAP/DFS Burkina Faso   \n",
       "4           4    155848    38493   en       600  IMMAP/DFS Burkina Faso   \n",
       "\n",
       "                         created_at  \\\n",
       "0  2020-11-26 10:42:14.523264+00:00   \n",
       "1  2021-03-29 06:53:04.456578+00:00   \n",
       "2  2020-10-06 21:23:24.022536+00:00   \n",
       "3  2020-10-06 21:23:25.409843+00:00   \n",
       "4  2020-09-08 12:42:54.252017+00:00   \n",
       "\n",
       "                                          document  \\\n",
       "0                                          Unknown   \n",
       "1  https://allafrica.com/stories/202103160182.html   \n",
       "2                                          Unknown   \n",
       "3                                          Unknown   \n",
       "4                                          Unknown   \n",
       "\n",
       "                                    source_title author_title  ...  \\\n",
       "0  United Nations High Commissioner for Refugees      Unknown  ...   \n",
       "1                                      AllAfrica      Unknown  ...   \n",
       "2                                      Reliefweb      Unknown  ...   \n",
       "3                                      Reliefweb      Unknown  ...   \n",
       "4                                   UNHCR Portal      Unknown  ...   \n",
       "\n",
       "                  pillars_2d  \\\n",
       "0                         []   \n",
       "1                         []   \n",
       "2                ['At Risk']   \n",
       "3                         []   \n",
       "4  ['Capacities & Response']   \n",
       "\n",
       "                                       subpillars_1d  \\\n",
       "0           ['Displacement->Type/Numbers/Movements']   \n",
       "1       ['Context->Environment', 'Context->Economy']   \n",
       "2  ['Casualties->Dead', 'Context->Security & Stab...   \n",
       "3  ['Displacement->Type/Numbers/Movements', 'Disp...   \n",
       "4  ['Information And Communication->Communication...   \n",
       "\n",
       "                                       subpillars_2d displaced non_displaced  \\\n",
       "0                                                 []   ['Idp']            []   \n",
       "1                                                 []        []            []   \n",
       "2              ['At Risk->Risk And Vulnerabilities']        []            []   \n",
       "3                                                 []        []            []   \n",
       "4  ['Capacities & Response->International Response']   ['Idp']      ['Host']   \n",
       "\n",
       "                         affected severity                               age  \\\n",
       "0                   ['Displaced']       []                                []   \n",
       "1                              []       []                                []   \n",
       "2                              []       []                                []   \n",
       "3                   ['Displaced']       []  ['<18 Years', '18-59 Years Old']   \n",
       "4  ['Non Displaced', 'Displaced']       []                                []   \n",
       "\n",
       "              gender specific_needs_groups  \n",
       "0                 []                    []  \n",
       "1                 []                    []  \n",
       "2                 []                    []  \n",
       "3  ['All', 'Female']                    []  \n",
       "4                 []                    []  \n",
       "\n",
       "[5 rows x 24 columns]"
      ]
     },
     "execution_count": 312,
     "metadata": {},
     "output_type": "execute_result"
    }
   ],
   "source": [
    "import pandas as pd\n",
    "\n",
    "df = pd.read_csv('data/processed/nlp.csv')\n",
    "print(f\"Shape: {df.shape}\")\n",
    "df.head()\n"
   ]
  },
  {
   "cell_type": "code",
   "execution_count": 313,
   "id": "b4d7f37c",
   "metadata": {},
   "outputs": [
    {
     "name": "stdout",
     "output_type": "stream",
     "text": [
      "<class 'pandas.core.frame.DataFrame'>\n",
      "RangeIndex: 76466 entries, 0 to 76465\n",
      "Data columns (total 24 columns):\n",
      " #   Column                 Non-Null Count  Dtype \n",
      "---  ------                 --------------  ----- \n",
      " 0   Unnamed: 0             76466 non-null  int64 \n",
      " 1   entry_id               76466 non-null  int64 \n",
      " 2   lead_id                76466 non-null  int64 \n",
      " 3   lang                   76466 non-null  object\n",
      " 4   n_tokens               76466 non-null  int64 \n",
      " 5   project_title          76466 non-null  object\n",
      " 6   created_at             76466 non-null  object\n",
      " 7   document               76466 non-null  object\n",
      " 8   source_title           76466 non-null  object\n",
      " 9   author_title           76466 non-null  object\n",
      " 10  excerpt                76466 non-null  object\n",
      " 11  geo_location           76466 non-null  object\n",
      " 12  sectors                76466 non-null  object\n",
      " 13  pillars_1d             76466 non-null  object\n",
      " 14  pillars_2d             76466 non-null  object\n",
      " 15  subpillars_1d          76466 non-null  object\n",
      " 16  subpillars_2d          76466 non-null  object\n",
      " 17  displaced              76466 non-null  object\n",
      " 18  non_displaced          76466 non-null  object\n",
      " 19  affected               76466 non-null  object\n",
      " 20  severity               76466 non-null  object\n",
      " 21  age                    76466 non-null  object\n",
      " 22  gender                 76466 non-null  object\n",
      " 23  specific_needs_groups  76466 non-null  object\n",
      "dtypes: int64(4), object(20)\n",
      "memory usage: 14.0+ MB\n"
     ]
    }
   ],
   "source": [
    "df.info()"
   ]
  },
  {
   "cell_type": "code",
   "execution_count": 314,
   "id": "12c4c57d",
   "metadata": {},
   "outputs": [
    {
     "data": {
      "text/plain": [
       "Unnamed: 0               0\n",
       "entry_id                 0\n",
       "lead_id                  0\n",
       "lang                     0\n",
       "n_tokens                 0\n",
       "project_title            0\n",
       "created_at               0\n",
       "document                 0\n",
       "source_title             0\n",
       "author_title             0\n",
       "excerpt                  0\n",
       "geo_location             0\n",
       "sectors                  0\n",
       "pillars_1d               0\n",
       "pillars_2d               0\n",
       "subpillars_1d            0\n",
       "subpillars_2d            0\n",
       "displaced                0\n",
       "non_displaced            0\n",
       "affected                 0\n",
       "severity                 0\n",
       "age                      0\n",
       "gender                   0\n",
       "specific_needs_groups    0\n",
       "dtype: int64"
      ]
     },
     "execution_count": 314,
     "metadata": {},
     "output_type": "execute_result"
    }
   ],
   "source": [
    "df.isnull().sum()"
   ]
  },
  {
   "cell_type": "code",
   "execution_count": 315,
   "id": "90085428",
   "metadata": {},
   "outputs": [
    {
     "name": "stdout",
     "output_type": "stream",
     "text": [
      "Columns: ['Unnamed: 0', 'entry_id', 'lead_id', 'lang', 'n_tokens', 'project_title', 'created_at', 'document', 'source_title', 'author_title', 'excerpt', 'geo_location', 'sectors', 'pillars_1d', 'pillars_2d', 'subpillars_1d', 'subpillars_2d', 'displaced', 'non_displaced', 'affected', 'severity', 'age', 'gender', 'specific_needs_groups']\n",
      "Target column not found. Please confirm the label column name.\n"
     ]
    }
   ],
   "source": [
    "# Check the first few rows\n",
    "df.sample(5)\n",
    "\n",
    "# Show column names\n",
    "print(\"Columns:\", df.columns.tolist())\n",
    "\n",
    "# Let's look at class distribution (assuming label column is named 'label')\n",
    "if 'label' in df.columns or 'target' in df.columns:\n",
    "    target_col = 'label' if 'label' in df.columns else 'target'\n",
    "    print(df[target_col].value_counts())\n",
    "else:\n",
    "    print(\"Target column not found. Please confirm the label column name.\")\n"
   ]
  },
  {
   "cell_type": "code",
   "execution_count": 316,
   "id": "81df6fd4",
   "metadata": {},
   "outputs": [
    {
     "name": "stdout",
     "output_type": "stream",
     "text": [
      "All column names:\n",
      "['Unnamed: 0', 'entry_id', 'lead_id', 'lang', 'n_tokens', 'project_title', 'created_at', 'document', 'source_title', 'author_title', 'excerpt', 'geo_location', 'sectors', 'pillars_1d', 'pillars_2d', 'subpillars_1d', 'subpillars_2d', 'displaced', 'non_displaced', 'affected', 'severity', 'age', 'gender', 'specific_needs_groups']\n"
     ]
    }
   ],
   "source": [
    "print(\"All column names:\")\n",
    "print(df.columns.tolist())"
   ]
  },
  {
   "cell_type": "markdown",
   "id": "15bbfe02",
   "metadata": {},
   "source": [
    "## Step 2: Feature Engineering\n",
    "To prepare the data for natural language modeling, we engineered and extracted several features from the text.\n",
    "\n",
    "### 2.1: Word Count Feature\n",
    "We added a word_count column to capture how long each text excerpt is. This can help identify if length correlates with severity."
   ]
  },
  {
   "cell_type": "code",
   "execution_count": 317,
   "id": "9106440a",
   "metadata": {},
   "outputs": [
    {
     "name": "stdout",
     "output_type": "stream",
     "text": [
      "Index(['Unnamed: 0', 'entry_id', 'lead_id', 'lang', 'n_tokens',\n",
      "       'project_title', 'created_at', 'document', 'source_title',\n",
      "       'author_title', 'excerpt', 'geo_location', 'sectors', 'pillars_1d',\n",
      "       'pillars_2d', 'subpillars_1d', 'subpillars_2d', 'displaced',\n",
      "       'non_displaced', 'affected', 'severity', 'age', 'gender',\n",
      "       'specific_needs_groups', 'excerpt_length'],\n",
      "      dtype='object')\n"
     ]
    },
    {
     "data": {
      "text/html": [
       "<div>\n",
       "<style scoped>\n",
       "    .dataframe tbody tr th:only-of-type {\n",
       "        vertical-align: middle;\n",
       "    }\n",
       "\n",
       "    .dataframe tbody tr th {\n",
       "        vertical-align: top;\n",
       "    }\n",
       "\n",
       "    .dataframe thead th {\n",
       "        text-align: right;\n",
       "    }\n",
       "</style>\n",
       "<table border=\"1\" class=\"dataframe\">\n",
       "  <thead>\n",
       "    <tr style=\"text-align: right;\">\n",
       "      <th></th>\n",
       "      <th>Unnamed: 0</th>\n",
       "      <th>entry_id</th>\n",
       "      <th>lead_id</th>\n",
       "      <th>lang</th>\n",
       "      <th>n_tokens</th>\n",
       "      <th>project_title</th>\n",
       "      <th>created_at</th>\n",
       "      <th>document</th>\n",
       "      <th>source_title</th>\n",
       "      <th>author_title</th>\n",
       "      <th>...</th>\n",
       "      <th>subpillars_1d</th>\n",
       "      <th>subpillars_2d</th>\n",
       "      <th>displaced</th>\n",
       "      <th>non_displaced</th>\n",
       "      <th>affected</th>\n",
       "      <th>severity</th>\n",
       "      <th>age</th>\n",
       "      <th>gender</th>\n",
       "      <th>specific_needs_groups</th>\n",
       "      <th>excerpt_length</th>\n",
       "    </tr>\n",
       "  </thead>\n",
       "  <tbody>\n",
       "    <tr>\n",
       "      <th>0</th>\n",
       "      <td>0</td>\n",
       "      <td>199921</td>\n",
       "      <td>44304</td>\n",
       "      <td>en</td>\n",
       "      <td>145</td>\n",
       "      <td>IMMAP/DFS Burkina Faso</td>\n",
       "      <td>2020-11-26 10:42:14.523264+00:00</td>\n",
       "      <td>Unknown</td>\n",
       "      <td>United Nations High Commissioner for Refugees</td>\n",
       "      <td>Unknown</td>\n",
       "      <td>...</td>\n",
       "      <td>['Displacement-&gt;Type/Numbers/Movements']</td>\n",
       "      <td>[]</td>\n",
       "      <td>['Idp']</td>\n",
       "      <td>[]</td>\n",
       "      <td>['Displaced']</td>\n",
       "      <td>[]</td>\n",
       "      <td>[]</td>\n",
       "      <td>[]</td>\n",
       "      <td>[]</td>\n",
       "      <td>91</td>\n",
       "    </tr>\n",
       "    <tr>\n",
       "      <th>1</th>\n",
       "      <td>1</td>\n",
       "      <td>293791</td>\n",
       "      <td>52163</td>\n",
       "      <td>en</td>\n",
       "      <td>480</td>\n",
       "      <td>IMMAP/DFS Burkina Faso</td>\n",
       "      <td>2021-03-29 06:53:04.456578+00:00</td>\n",
       "      <td>https://allafrica.com/stories/202103160182.html</td>\n",
       "      <td>AllAfrica</td>\n",
       "      <td>Unknown</td>\n",
       "      <td>...</td>\n",
       "      <td>['Context-&gt;Environment', 'Context-&gt;Economy']</td>\n",
       "      <td>[]</td>\n",
       "      <td>[]</td>\n",
       "      <td>[]</td>\n",
       "      <td>[]</td>\n",
       "      <td>[]</td>\n",
       "      <td>[]</td>\n",
       "      <td>[]</td>\n",
       "      <td>[]</td>\n",
       "      <td>288</td>\n",
       "    </tr>\n",
       "    <tr>\n",
       "      <th>2</th>\n",
       "      <td>2</td>\n",
       "      <td>169536</td>\n",
       "      <td>40366</td>\n",
       "      <td>en</td>\n",
       "      <td>879</td>\n",
       "      <td>IMMAP/DFS Burkina Faso</td>\n",
       "      <td>2020-10-06 21:23:24.022536+00:00</td>\n",
       "      <td>Unknown</td>\n",
       "      <td>Reliefweb</td>\n",
       "      <td>Unknown</td>\n",
       "      <td>...</td>\n",
       "      <td>['Casualties-&gt;Dead', 'Context-&gt;Security &amp; Stab...</td>\n",
       "      <td>['At Risk-&gt;Risk And Vulnerabilities']</td>\n",
       "      <td>[]</td>\n",
       "      <td>[]</td>\n",
       "      <td>[]</td>\n",
       "      <td>[]</td>\n",
       "      <td>[]</td>\n",
       "      <td>[]</td>\n",
       "      <td>[]</td>\n",
       "      <td>540</td>\n",
       "    </tr>\n",
       "    <tr>\n",
       "      <th>3</th>\n",
       "      <td>3</td>\n",
       "      <td>169537</td>\n",
       "      <td>40366</td>\n",
       "      <td>en</td>\n",
       "      <td>642</td>\n",
       "      <td>IMMAP/DFS Burkina Faso</td>\n",
       "      <td>2020-10-06 21:23:25.409843+00:00</td>\n",
       "      <td>Unknown</td>\n",
       "      <td>Reliefweb</td>\n",
       "      <td>Unknown</td>\n",
       "      <td>...</td>\n",
       "      <td>['Displacement-&gt;Type/Numbers/Movements', 'Disp...</td>\n",
       "      <td>[]</td>\n",
       "      <td>[]</td>\n",
       "      <td>[]</td>\n",
       "      <td>['Displaced']</td>\n",
       "      <td>[]</td>\n",
       "      <td>['&lt;18 Years', '18-59 Years Old']</td>\n",
       "      <td>['All', 'Female']</td>\n",
       "      <td>[]</td>\n",
       "      <td>421</td>\n",
       "    </tr>\n",
       "    <tr>\n",
       "      <th>4</th>\n",
       "      <td>4</td>\n",
       "      <td>155848</td>\n",
       "      <td>38493</td>\n",
       "      <td>en</td>\n",
       "      <td>600</td>\n",
       "      <td>IMMAP/DFS Burkina Faso</td>\n",
       "      <td>2020-09-08 12:42:54.252017+00:00</td>\n",
       "      <td>Unknown</td>\n",
       "      <td>UNHCR Portal</td>\n",
       "      <td>Unknown</td>\n",
       "      <td>...</td>\n",
       "      <td>['Information And Communication-&gt;Communication...</td>\n",
       "      <td>['Capacities &amp; Response-&gt;International Response']</td>\n",
       "      <td>['Idp']</td>\n",
       "      <td>['Host']</td>\n",
       "      <td>['Non Displaced', 'Displaced']</td>\n",
       "      <td>[]</td>\n",
       "      <td>[]</td>\n",
       "      <td>[]</td>\n",
       "      <td>[]</td>\n",
       "      <td>379</td>\n",
       "    </tr>\n",
       "  </tbody>\n",
       "</table>\n",
       "<p>5 rows × 25 columns</p>\n",
       "</div>"
      ],
      "text/plain": [
       "   Unnamed: 0  entry_id  lead_id lang  n_tokens           project_title  \\\n",
       "0           0    199921    44304   en       145  IMMAP/DFS Burkina Faso   \n",
       "1           1    293791    52163   en       480  IMMAP/DFS Burkina Faso   \n",
       "2           2    169536    40366   en       879  IMMAP/DFS Burkina Faso   \n",
       "3           3    169537    40366   en       642  IMMAP/DFS Burkina Faso   \n",
       "4           4    155848    38493   en       600  IMMAP/DFS Burkina Faso   \n",
       "\n",
       "                         created_at  \\\n",
       "0  2020-11-26 10:42:14.523264+00:00   \n",
       "1  2021-03-29 06:53:04.456578+00:00   \n",
       "2  2020-10-06 21:23:24.022536+00:00   \n",
       "3  2020-10-06 21:23:25.409843+00:00   \n",
       "4  2020-09-08 12:42:54.252017+00:00   \n",
       "\n",
       "                                          document  \\\n",
       "0                                          Unknown   \n",
       "1  https://allafrica.com/stories/202103160182.html   \n",
       "2                                          Unknown   \n",
       "3                                          Unknown   \n",
       "4                                          Unknown   \n",
       "\n",
       "                                    source_title author_title  ...  \\\n",
       "0  United Nations High Commissioner for Refugees      Unknown  ...   \n",
       "1                                      AllAfrica      Unknown  ...   \n",
       "2                                      Reliefweb      Unknown  ...   \n",
       "3                                      Reliefweb      Unknown  ...   \n",
       "4                                   UNHCR Portal      Unknown  ...   \n",
       "\n",
       "                                       subpillars_1d  \\\n",
       "0           ['Displacement->Type/Numbers/Movements']   \n",
       "1       ['Context->Environment', 'Context->Economy']   \n",
       "2  ['Casualties->Dead', 'Context->Security & Stab...   \n",
       "3  ['Displacement->Type/Numbers/Movements', 'Disp...   \n",
       "4  ['Information And Communication->Communication...   \n",
       "\n",
       "                                       subpillars_2d displaced non_displaced  \\\n",
       "0                                                 []   ['Idp']            []   \n",
       "1                                                 []        []            []   \n",
       "2              ['At Risk->Risk And Vulnerabilities']        []            []   \n",
       "3                                                 []        []            []   \n",
       "4  ['Capacities & Response->International Response']   ['Idp']      ['Host']   \n",
       "\n",
       "                         affected severity                               age  \\\n",
       "0                   ['Displaced']       []                                []   \n",
       "1                              []       []                                []   \n",
       "2                              []       []                                []   \n",
       "3                   ['Displaced']       []  ['<18 Years', '18-59 Years Old']   \n",
       "4  ['Non Displaced', 'Displaced']       []                                []   \n",
       "\n",
       "              gender specific_needs_groups excerpt_length  \n",
       "0                 []                    []             91  \n",
       "1                 []                    []            288  \n",
       "2                 []                    []            540  \n",
       "3  ['All', 'Female']                    []            421  \n",
       "4                 []                    []            379  \n",
       "\n",
       "[5 rows x 25 columns]"
      ]
     },
     "execution_count": 317,
     "metadata": {},
     "output_type": "execute_result"
    }
   ],
   "source": [
    "# Add the excerpt_length column\n",
    "df['excerpt_length'] = df['excerpt'].fillna('').apply(len)\n",
    "\n",
    "print(df.columns)\n",
    "df.head()"
   ]
  },
  {
   "cell_type": "code",
   "execution_count": 318,
   "id": "6b071f16",
   "metadata": {},
   "outputs": [
    {
     "data": {
      "text/plain": [
       "array(['ETT assessments iden�fied the following movement triggers: voluntary reloca�on (20%), improved security (11%), involuntary reloca�on (1%), ongoing conflict (5%), military opera�on (6%) and poor living condi�ons (57%).',\n",
       "       '[3rd March 2021, Bangladesh] The total caseload rose to 547,930 with the 614 new cases, according to the Directorate General of Health Services (DGHS).',\n",
       "       'In Uruzgan province, clashes between Afghan National Security Forces (ANSF) and a non-state armed group (NSAG) continued in Dehrawud, Gizab and Tirinkot districts.',\n",
       "       'As of 27 May 2019, a total of 9,432 individuals from Sabon Gari and Azur communities (on the border between Damboa and Biu LGAs) were forcibly displaced by military authorities to Damboa town. Needs assessments confirmed that 8,005 people including highly vulnerable individuals are staying in open areas without shelter . The provision of shelter and WASH facilities for new arrivals remains complicated until aid agencies are able to start construction on a newly designated site for displaced families.',\n",
       "       'Nearly 4,200 people in Libya are currently being held in detention centres (DCs), with 2,450 being of concern to UNHCR.'],\n",
       "      dtype=object)"
      ]
     },
     "execution_count": 318,
     "metadata": {},
     "output_type": "execute_result"
    }
   ],
   "source": [
    "df['excerpt'].sample(5, random_state=1).values"
   ]
  },
  {
   "cell_type": "code",
   "execution_count": 319,
   "id": "34751164",
   "metadata": {},
   "outputs": [
    {
     "data": {
      "text/html": [
       "<div>\n",
       "<style scoped>\n",
       "    .dataframe tbody tr th:only-of-type {\n",
       "        vertical-align: middle;\n",
       "    }\n",
       "\n",
       "    .dataframe tbody tr th {\n",
       "        vertical-align: top;\n",
       "    }\n",
       "\n",
       "    .dataframe thead th {\n",
       "        text-align: right;\n",
       "    }\n",
       "</style>\n",
       "<table border=\"1\" class=\"dataframe\">\n",
       "  <thead>\n",
       "    <tr style=\"text-align: right;\">\n",
       "      <th></th>\n",
       "      <th>excerpt</th>\n",
       "      <th>word_count</th>\n",
       "    </tr>\n",
       "  </thead>\n",
       "  <tbody>\n",
       "    <tr>\n",
       "      <th>2194</th>\n",
       "      <td>A total of 1,209 actors – including local auth...</td>\n",
       "      <td>52</td>\n",
       "    </tr>\n",
       "    <tr>\n",
       "      <th>48645</th>\n",
       "      <td>[IMMEDIATE NEEDS:] Training of Health Personne...</td>\n",
       "      <td>12</td>\n",
       "    </tr>\n",
       "    <tr>\n",
       "      <th>45291</th>\n",
       "      <td>Assessment teams identified 1,032 people displ...</td>\n",
       "      <td>22</td>\n",
       "    </tr>\n",
       "    <tr>\n",
       "      <th>3323</th>\n",
       "      <td>[31st Jan 2021, Bangladesh] With the fresh one...</td>\n",
       "      <td>41</td>\n",
       "    </tr>\n",
       "    <tr>\n",
       "      <th>74806</th>\n",
       "      <td>Migration flows are likely to fall, but the st...</td>\n",
       "      <td>107</td>\n",
       "    </tr>\n",
       "  </tbody>\n",
       "</table>\n",
       "</div>"
      ],
      "text/plain": [
       "                                                 excerpt  word_count\n",
       "2194   A total of 1,209 actors – including local auth...          52\n",
       "48645  [IMMEDIATE NEEDS:] Training of Health Personne...          12\n",
       "45291  Assessment teams identified 1,032 people displ...          22\n",
       "3323   [31st Jan 2021, Bangladesh] With the fresh one...          41\n",
       "74806  Migration flows are likely to fall, but the st...         107"
      ]
     },
     "execution_count": 319,
     "metadata": {},
     "output_type": "execute_result"
    }
   ],
   "source": [
    "# Word Count per Excerpt\n",
    "df['word_count'] = df['excerpt'].apply(lambda x: len(str(x).split()))\n",
    "df[['excerpt', 'word_count']].sample(5, random_state=2)"
   ]
  },
  {
   "cell_type": "code",
   "execution_count": 320,
   "id": "6b53cb01",
   "metadata": {},
   "outputs": [
    {
     "data": {
      "image/png": "[encoded data removed]",
      "text/plain": [
       "<Figure size 800x500 with 1 Axes>"
      ]
     },
     "metadata": {},
     "output_type": "display_data"
    }
   ],
   "source": [
    "# Plot Word Count Distribution\n",
    "import matplotlib.pyplot as plt\n",
    "import seaborn as sns\n",
    "\n",
    "plt.figure(figsize=(8, 5))\n",
    "sns.histplot(df['word_count'], bins=50, kde=True)\n",
    "plt.title('Distribution of Word Count per Excerpt')\n",
    "plt.xlabel('Word Count')\n",
    "plt.ylabel('Number of Excerpts')\n",
    "plt.show()\n"
   ]
  },
  {
   "cell_type": "code",
   "execution_count": 321,
   "id": "a354d946",
   "metadata": {},
   "outputs": [
    {
     "data": {
      "text/plain": [
       "lang\n",
       "en    76466\n",
       "Name: count, dtype: int64"
      ]
     },
     "execution_count": 321,
     "metadata": {},
     "output_type": "execute_result"
    }
   ],
   "source": [
    "# Check Language Column\n",
    "df['lang'].value_counts()"
   ]
  },
  {
   "cell_type": "markdown",
   "id": "66e9247d",
   "metadata": {},
   "source": [
    "### 2.2 Target Distribution\n",
    "\n",
    "Before training any models, we explored the distribution of the target column `severity` to assess class imbalance.\n",
    "\n",
    "Understanding this distribution is critical:\n",
    "- Helps detect whether the dataset is skewed.\n",
    "- Informs the choice of evaluation metrics (e.g., precision-recall if imbalance is high).\n",
    "- Guides model tuning decisions like `class_weight`.\n",
    "\n",
    "We found that most entries fall under:\n",
    "- **\"Severe Issue\"**\n",
    "- **\"Issue Of Concern\"**\n",
    "while only a few are labeled as:\n",
    "- **\"No Issue\"** or **\"Minor Issue\"**\n"
   ]
  },
  {
   "cell_type": "code",
   "execution_count": 322,
   "id": "eb441f39",
   "metadata": {},
   "outputs": [
    {
     "name": "stdout",
     "output_type": "stream",
     "text": [
      "Number of usable text entries: 76466\n",
      "\n",
      "Severity value counts:\n"
     ]
    },
    {
     "data": {
      "text/plain": [
       "severity\n",
       "[]                      57680\n",
       "['Severe Issue']        11037\n",
       "['Issue Of Concern']     4786\n",
       "['Critical Issue']       1936\n",
       "['No Issue']              578\n",
       "['Minor Issue']           449\n",
       "Name: count, dtype: int64"
      ]
     },
     "execution_count": 322,
     "metadata": {},
     "output_type": "execute_result"
    }
   ],
   "source": [
    "# Check how many documents are usable\n",
    "print(\"Number of usable text entries:\", df['document'].notna().sum())\n",
    "\n",
    "# Check severity label distribution\n",
    "print(\"\\nSeverity value counts:\")\n",
    "df['severity'].explode().value_counts(dropna=False)\n"
   ]
  },
  {
   "cell_type": "code",
   "execution_count": 323,
   "id": "07767f24",
   "metadata": {},
   "outputs": [
    {
     "data": {
      "image/png": "[encoded data removed]",
      "text/plain": [
       "<Figure size 1000x500 with 1 Axes>"
      ]
     },
     "metadata": {},
     "output_type": "display_data"
    }
   ],
   "source": [
    "# Prepare the data as a DataFrame for better control\n",
    "severity_counts = df['severity'].value_counts()\n",
    "severity_df = severity_counts.reset_index()\n",
    "severity_df.columns = ['severity', 'count']\n",
    "\n",
    "# Plot\n",
    "plt.figure(figsize=(10, 5))\n",
    "sns.barplot(data=severity_df, x='severity', y='count', hue='severity', palette='viridis', dodge=False, legend=False)\n",
    "plt.title(\"Distribution of Severity Labels\")\n",
    "plt.xlabel(\"Severity Level\")\n",
    "plt.ylabel(\"Count\")\n",
    "plt.xticks(rotation=45)\n",
    "plt.tight_layout()\n",
    "plt.show()"
   ]
  },
  {
   "cell_type": "markdown",
   "id": "e67842f9",
   "metadata": {},
   "source": [
    "This bar plot shows how many samples exist per severity category.\n",
    "\n",
    "**Why this is important:**\n",
    "Knowing the balance or imbalance between classes helps determine:\n",
    "\n",
    "Whether we need to rebalance the dataset (e.g., through oversampling or class weighting).\n",
    "\n",
    "How reliable accuracy will be as a metric.\n",
    "\n",
    "`Class Imbalance:` The dataset is highly imbalanced. Over 76% of the records have no severity label at all (missing/empty). Only a small portion represents high severity like Critical or Severe issues.\n",
    "\n"
   ]
  },
  {
   "cell_type": "markdown",
   "id": "ec173c2a",
   "metadata": {},
   "source": [
    "#### **2.2.1 Target Column Preparation: `severity`****\n",
    "\n",
    "Before we clean our text data, it's important to ensure the target column is ready for modeling. This includes:\n",
    "\n",
    "- Removing rows with missing target values\n",
    "- Exploring the class distribution to check for imbalance\n",
    "- Encoding categorical target labels into numerical form\n",
    "\n",
    "This step ensures our model will learn from clean and consistent label data.\n"
   ]
  },
  {
   "cell_type": "code",
   "execution_count": 324,
   "id": "594cd5db",
   "metadata": {},
   "outputs": [
    {
     "name": "stdout",
     "output_type": "stream",
     "text": [
      "Missing severity labels: 0\n",
      "Remaining samples: 76466\n"
     ]
    }
   ],
   "source": [
    "# Check for missing severity labels\n",
    "missing_targets = df['severity'].isna().sum()\n",
    "print(f\"Missing severity labels: {missing_targets}\")\n",
    "\n",
    "# Drop rows with missing severity\n",
    "df = df.dropna(subset=['severity'])\n",
    "\n",
    "# Confirm cleanup\n",
    "print(f\"Remaining samples: {len(df)}\")"
   ]
  },
  {
   "cell_type": "code",
   "execution_count": 325,
   "id": "47a81750",
   "metadata": {},
   "outputs": [
    {
     "data": {
      "text/html": [
       "<div>\n",
       "<style scoped>\n",
       "    .dataframe tbody tr th:only-of-type {\n",
       "        vertical-align: middle;\n",
       "    }\n",
       "\n",
       "    .dataframe tbody tr th {\n",
       "        vertical-align: top;\n",
       "    }\n",
       "\n",
       "    .dataframe thead th {\n",
       "        text-align: right;\n",
       "    }\n",
       "</style>\n",
       "<table border=\"1\" class=\"dataframe\">\n",
       "  <thead>\n",
       "    <tr style=\"text-align: right;\">\n",
       "      <th></th>\n",
       "      <th>severity</th>\n",
       "      <th>severity_encoded</th>\n",
       "    </tr>\n",
       "  </thead>\n",
       "  <tbody>\n",
       "    <tr>\n",
       "      <th>0</th>\n",
       "      <td>[]</td>\n",
       "      <td>5</td>\n",
       "    </tr>\n",
       "    <tr>\n",
       "      <th>5</th>\n",
       "      <td>['Severe Issue']</td>\n",
       "      <td>4</td>\n",
       "    </tr>\n",
       "    <tr>\n",
       "      <th>8</th>\n",
       "      <td>['Critical Issue']</td>\n",
       "      <td>0</td>\n",
       "    </tr>\n",
       "    <tr>\n",
       "      <th>34</th>\n",
       "      <td>['Issue Of Concern']</td>\n",
       "      <td>1</td>\n",
       "    </tr>\n",
       "    <tr>\n",
       "      <th>561</th>\n",
       "      <td>['Minor Issue']</td>\n",
       "      <td>2</td>\n",
       "    </tr>\n",
       "    <tr>\n",
       "      <th>61914</th>\n",
       "      <td>['No Issue']</td>\n",
       "      <td>3</td>\n",
       "    </tr>\n",
       "  </tbody>\n",
       "</table>\n",
       "</div>"
      ],
      "text/plain": [
       "                   severity  severity_encoded\n",
       "0                        []                 5\n",
       "5          ['Severe Issue']                 4\n",
       "8        ['Critical Issue']                 0\n",
       "34     ['Issue Of Concern']                 1\n",
       "561         ['Minor Issue']                 2\n",
       "61914          ['No Issue']                 3"
      ]
     },
     "execution_count": 325,
     "metadata": {},
     "output_type": "execute_result"
    }
   ],
   "source": [
    "from sklearn.preprocessing import LabelEncoder\n",
    "\n",
    "# Encode severity labels into integers\n",
    "label_encoder = LabelEncoder()\n",
    "df['severity_encoded'] = label_encoder.fit_transform(df['severity'])\n",
    "\n",
    "# Preview encoded values\n",
    "df[['severity', 'severity_encoded']].drop_duplicates()"
   ]
  },
  {
   "cell_type": "code",
   "execution_count": 326,
   "id": "5b578c23",
   "metadata": {},
   "outputs": [],
   "source": [
    "df = pd.read_csv('data/processed/nlp.csv')"
   ]
  },
  {
   "cell_type": "code",
   "execution_count": 328,
   "id": "e8fcf0b9",
   "metadata": {},
   "outputs": [
    {
     "name": "stdout",
     "output_type": "stream",
     "text": [
      "0      [Severe Issue]\n",
      "1      [Severe Issue]\n",
      "2    [Critical Issue]\n",
      "3      [Severe Issue]\n",
      "4      [Severe Issue]\n",
      "Name: severity, dtype: object\n"
     ]
    }
   ],
   "source": [
    "import ast\n",
    "\n",
    "# Safe conversion function\n",
    "def robust_severity_parser(val):\n",
    "    if isinstance(val, list):\n",
    "        return val  # Already a list\n",
    "    if isinstance(val, str):\n",
    "        try:\n",
    "            parsed = ast.literal_eval(val)\n",
    "            if isinstance(parsed, list):\n",
    "                return parsed\n",
    "        except:\n",
    "            return [val]  # Wrap single string in list\n",
    "    return []\n",
    "\n",
    "# Apply to column\n",
    "df['severity'] = df['severity'].apply(robust_severity_parser)\n",
    "\n",
    "# Remove empty lists\n",
    "df = df[df['severity'].apply(lambda x: x != [])].reset_index(drop=True)\n",
    "\n",
    "# Check result\n",
    "print(df['severity'].head())\n"
   ]
  },
  {
   "cell_type": "code",
   "execution_count": 330,
   "id": "618ab690",
   "metadata": {},
   "outputs": [
    {
     "data": {
      "text/plain": [
       "severity\n",
       "Severe Issue        11037\n",
       "Issue Of Concern     4786\n",
       "Critical Issue       1936\n",
       "No Issue              578\n",
       "Minor Issue           449\n",
       "Name: count, dtype: int64"
      ]
     },
     "execution_count": 330,
     "metadata": {},
     "output_type": "execute_result"
    }
   ],
   "source": [
    "df['severity'].apply(lambda x: x[0]).value_counts()\n"
   ]
  },
  {
   "cell_type": "code",
   "execution_count": 339,
   "id": "2debb37f",
   "metadata": {},
   "outputs": [],
   "source": [
    "import pickle\n",
    "\n",
    "# Saving the encoder for later use\n",
    "with open('severity_encoder.pkl', 'wb') as f:\n",
    "    pickle.dump(encoder, f)\n"
   ]
  },
  {
   "cell_type": "code",
   "execution_count": 340,
   "id": "b128a639",
   "metadata": {},
   "outputs": [
    {
     "ename": "MemoryError",
     "evalue": "bad allocation",
     "output_type": "error",
     "traceback": [
      "\u001b[31m---------------------------------------------------------------------------\u001b[39m",
      "\u001b[31mMemoryError\u001b[39m                               Traceback (most recent call last)",
      "\u001b[36mFile \u001b[39m\u001b[32mc:\\Users\\USER\\anaconda3\\envs\\cleanwaterai_env\\Lib\\site-packages\\IPython\\core\\formatters.py:402\u001b[39m, in \u001b[36mBaseFormatter.__call__\u001b[39m\u001b[34m(self, obj)\u001b[39m\n\u001b[32m    400\u001b[39m     \u001b[38;5;28;01mpass\u001b[39;00m\n\u001b[32m    401\u001b[39m \u001b[38;5;28;01melse\u001b[39;00m:\n\u001b[32m--> \u001b[39m\u001b[32m402\u001b[39m     \u001b[38;5;28;01mreturn\u001b[39;00m \u001b[43mprinter\u001b[49m\u001b[43m(\u001b[49m\u001b[43mobj\u001b[49m\u001b[43m)\u001b[49m\n\u001b[32m    403\u001b[39m \u001b[38;5;66;03m# Finally look for special method names\u001b[39;00m\n\u001b[32m    404\u001b[39m method = get_real_method(obj, \u001b[38;5;28mself\u001b[39m.print_method)\n",
      "\u001b[36mFile \u001b[39m\u001b[32mc:\\Users\\USER\\anaconda3\\envs\\cleanwaterai_env\\Lib\\site-packages\\IPython\\core\\pylabtools.py:170\u001b[39m, in \u001b[36mprint_figure\u001b[39m\u001b[34m(fig, fmt, bbox_inches, base64, **kwargs)\u001b[39m\n\u001b[32m    167\u001b[39m     \u001b[38;5;28;01mfrom\u001b[39;00m\u001b[38;5;250m \u001b[39m\u001b[34;01mmatplotlib\u001b[39;00m\u001b[34;01m.\u001b[39;00m\u001b[34;01mbackend_bases\u001b[39;00m\u001b[38;5;250m \u001b[39m\u001b[38;5;28;01mimport\u001b[39;00m FigureCanvasBase\n\u001b[32m    168\u001b[39m     FigureCanvasBase(fig)\n\u001b[32m--> \u001b[39m\u001b[32m170\u001b[39m \u001b[43mfig\u001b[49m\u001b[43m.\u001b[49m\u001b[43mcanvas\u001b[49m\u001b[43m.\u001b[49m\u001b[43mprint_figure\u001b[49m\u001b[43m(\u001b[49m\u001b[43mbytes_io\u001b[49m\u001b[43m,\u001b[49m\u001b[43m \u001b[49m\u001b[43m*\u001b[49m\u001b[43m*\u001b[49m\u001b[43mkw\u001b[49m\u001b[43m)\u001b[49m\n\u001b[32m    171\u001b[39m data = bytes_io.getvalue()\n\u001b[32m    172\u001b[39m \u001b[38;5;28;01mif\u001b[39;00m fmt == \u001b[33m'\u001b[39m\u001b[33msvg\u001b[39m\u001b[33m'\u001b[39m:\n",
      "\u001b[36mFile \u001b[39m\u001b[32mc:\\Users\\USER\\anaconda3\\envs\\cleanwaterai_env\\Lib\\site-packages\\matplotlib\\backend_bases.py:2184\u001b[39m, in \u001b[36mFigureCanvasBase.print_figure\u001b[39m\u001b[34m(self, filename, dpi, facecolor, edgecolor, orientation, format, bbox_inches, pad_inches, bbox_extra_artists, backend, **kwargs)\u001b[39m\n\u001b[32m   2180\u001b[39m \u001b[38;5;28;01mtry\u001b[39;00m:\n\u001b[32m   2181\u001b[39m     \u001b[38;5;66;03m# _get_renderer may change the figure dpi (as vector formats\u001b[39;00m\n\u001b[32m   2182\u001b[39m     \u001b[38;5;66;03m# force the figure dpi to 72), so we need to set it again here.\u001b[39;00m\n\u001b[32m   2183\u001b[39m     \u001b[38;5;28;01mwith\u001b[39;00m cbook._setattr_cm(\u001b[38;5;28mself\u001b[39m.figure, dpi=dpi):\n\u001b[32m-> \u001b[39m\u001b[32m2184\u001b[39m         result = \u001b[43mprint_method\u001b[49m\u001b[43m(\u001b[49m\n\u001b[32m   2185\u001b[39m \u001b[43m            \u001b[49m\u001b[43mfilename\u001b[49m\u001b[43m,\u001b[49m\n\u001b[32m   2186\u001b[39m \u001b[43m            \u001b[49m\u001b[43mfacecolor\u001b[49m\u001b[43m=\u001b[49m\u001b[43mfacecolor\u001b[49m\u001b[43m,\u001b[49m\n\u001b[32m   2187\u001b[39m \u001b[43m            \u001b[49m\u001b[43medgecolor\u001b[49m\u001b[43m=\u001b[49m\u001b[43medgecolor\u001b[49m\u001b[43m,\u001b[49m\n\u001b[32m   2188\u001b[39m \u001b[43m            \u001b[49m\u001b[43morientation\u001b[49m\u001b[43m=\u001b[49m\u001b[43morientation\u001b[49m\u001b[43m,\u001b[49m\n\u001b[32m   2189\u001b[39m \u001b[43m            \u001b[49m\u001b[43mbbox_inches_restore\u001b[49m\u001b[43m=\u001b[49m\u001b[43m_bbox_inches_restore\u001b[49m\u001b[43m,\u001b[49m\n\u001b[32m   2190\u001b[39m \u001b[43m            \u001b[49m\u001b[43m*\u001b[49m\u001b[43m*\u001b[49m\u001b[43mkwargs\u001b[49m\u001b[43m)\u001b[49m\n\u001b[32m   2191\u001b[39m \u001b[38;5;28;01mfinally\u001b[39;00m:\n\u001b[32m   2192\u001b[39m     \u001b[38;5;28;01mif\u001b[39;00m bbox_inches \u001b[38;5;129;01mand\u001b[39;00m restore_bbox:\n",
      "\u001b[36mFile \u001b[39m\u001b[32mc:\\Users\\USER\\anaconda3\\envs\\cleanwaterai_env\\Lib\\site-packages\\matplotlib\\backend_bases.py:2040\u001b[39m, in \u001b[36mFigureCanvasBase._switch_canvas_and_return_print_method.<locals>.<lambda>\u001b[39m\u001b[34m(*args, **kwargs)\u001b[39m\n\u001b[32m   2036\u001b[39m     optional_kws = {  \u001b[38;5;66;03m# Passed by print_figure for other renderers.\u001b[39;00m\n\u001b[32m   2037\u001b[39m         \u001b[33m\"\u001b[39m\u001b[33mdpi\u001b[39m\u001b[33m\"\u001b[39m, \u001b[33m\"\u001b[39m\u001b[33mfacecolor\u001b[39m\u001b[33m\"\u001b[39m, \u001b[33m\"\u001b[39m\u001b[33medgecolor\u001b[39m\u001b[33m\"\u001b[39m, \u001b[33m\"\u001b[39m\u001b[33morientation\u001b[39m\u001b[33m\"\u001b[39m,\n\u001b[32m   2038\u001b[39m         \u001b[33m\"\u001b[39m\u001b[33mbbox_inches_restore\u001b[39m\u001b[33m\"\u001b[39m}\n\u001b[32m   2039\u001b[39m     skip = optional_kws - {*inspect.signature(meth).parameters}\n\u001b[32m-> \u001b[39m\u001b[32m2040\u001b[39m     print_method = functools.wraps(meth)(\u001b[38;5;28;01mlambda\u001b[39;00m *args, **kwargs: \u001b[43mmeth\u001b[49m\u001b[43m(\u001b[49m\n\u001b[32m   2041\u001b[39m \u001b[43m        \u001b[49m\u001b[43m*\u001b[49m\u001b[43margs\u001b[49m\u001b[43m,\u001b[49m\u001b[43m \u001b[49m\u001b[43m*\u001b[49m\u001b[43m*\u001b[49m\u001b[43m{\u001b[49m\u001b[43mk\u001b[49m\u001b[43m:\u001b[49m\u001b[43m \u001b[49m\u001b[43mv\u001b[49m\u001b[43m \u001b[49m\u001b[38;5;28;43;01mfor\u001b[39;49;00m\u001b[43m \u001b[49m\u001b[43mk\u001b[49m\u001b[43m,\u001b[49m\u001b[43m \u001b[49m\u001b[43mv\u001b[49m\u001b[43m \u001b[49m\u001b[38;5;129;43;01min\u001b[39;49;00m\u001b[43m \u001b[49m\u001b[43mkwargs\u001b[49m\u001b[43m.\u001b[49m\u001b[43mitems\u001b[49m\u001b[43m(\u001b[49m\u001b[43m)\u001b[49m\u001b[43m \u001b[49m\u001b[38;5;28;43;01mif\u001b[39;49;00m\u001b[43m \u001b[49m\u001b[43mk\u001b[49m\u001b[43m \u001b[49m\u001b[38;5;129;43;01mnot\u001b[39;49;00m\u001b[43m \u001b[49m\u001b[38;5;129;43;01min\u001b[39;49;00m\u001b[43m \u001b[49m\u001b[43mskip\u001b[49m\u001b[43m}\u001b[49m\u001b[43m)\u001b[49m)\n\u001b[32m   2042\u001b[39m \u001b[38;5;28;01melse\u001b[39;00m:  \u001b[38;5;66;03m# Let third-parties do as they see fit.\u001b[39;00m\n\u001b[32m   2043\u001b[39m     print_method = meth\n",
      "\u001b[36mFile \u001b[39m\u001b[32mc:\\Users\\USER\\anaconda3\\envs\\cleanwaterai_env\\Lib\\site-packages\\matplotlib\\backends\\backend_agg.py:481\u001b[39m, in \u001b[36mFigureCanvasAgg.print_png\u001b[39m\u001b[34m(self, filename_or_obj, metadata, pil_kwargs)\u001b[39m\n\u001b[32m    434\u001b[39m \u001b[38;5;28;01mdef\u001b[39;00m\u001b[38;5;250m \u001b[39m\u001b[34mprint_png\u001b[39m(\u001b[38;5;28mself\u001b[39m, filename_or_obj, *, metadata=\u001b[38;5;28;01mNone\u001b[39;00m, pil_kwargs=\u001b[38;5;28;01mNone\u001b[39;00m):\n\u001b[32m    435\u001b[39m \u001b[38;5;250m    \u001b[39m\u001b[33;03m\"\"\"\u001b[39;00m\n\u001b[32m    436\u001b[39m \u001b[33;03m    Write the figure to a PNG file.\u001b[39;00m\n\u001b[32m    437\u001b[39m \n\u001b[32m   (...)\u001b[39m\u001b[32m    479\u001b[39m \u001b[33;03m        *metadata*, including the default 'Software' key.\u001b[39;00m\n\u001b[32m    480\u001b[39m \u001b[33;03m    \"\"\"\u001b[39;00m\n\u001b[32m--> \u001b[39m\u001b[32m481\u001b[39m     \u001b[38;5;28;43mself\u001b[39;49m\u001b[43m.\u001b[49m\u001b[43m_print_pil\u001b[49m\u001b[43m(\u001b[49m\u001b[43mfilename_or_obj\u001b[49m\u001b[43m,\u001b[49m\u001b[43m \u001b[49m\u001b[33;43m\"\u001b[39;49m\u001b[33;43mpng\u001b[39;49m\u001b[33;43m\"\u001b[39;49m\u001b[43m,\u001b[49m\u001b[43m \u001b[49m\u001b[43mpil_kwargs\u001b[49m\u001b[43m,\u001b[49m\u001b[43m \u001b[49m\u001b[43mmetadata\u001b[49m\u001b[43m)\u001b[49m\n",
      "\u001b[36mFile \u001b[39m\u001b[32mc:\\Users\\USER\\anaconda3\\envs\\cleanwaterai_env\\Lib\\site-packages\\matplotlib\\backends\\backend_agg.py:429\u001b[39m, in \u001b[36mFigureCanvasAgg._print_pil\u001b[39m\u001b[34m(self, filename_or_obj, fmt, pil_kwargs, metadata)\u001b[39m\n\u001b[32m    424\u001b[39m \u001b[38;5;28;01mdef\u001b[39;00m\u001b[38;5;250m \u001b[39m\u001b[34m_print_pil\u001b[39m(\u001b[38;5;28mself\u001b[39m, filename_or_obj, fmt, pil_kwargs, metadata=\u001b[38;5;28;01mNone\u001b[39;00m):\n\u001b[32m    425\u001b[39m \u001b[38;5;250m    \u001b[39m\u001b[33;03m\"\"\"\u001b[39;00m\n\u001b[32m    426\u001b[39m \u001b[33;03m    Draw the canvas, then save it using `.image.imsave` (to which\u001b[39;00m\n\u001b[32m    427\u001b[39m \u001b[33;03m    *pil_kwargs* and *metadata* are forwarded).\u001b[39;00m\n\u001b[32m    428\u001b[39m \u001b[33;03m    \"\"\"\u001b[39;00m\n\u001b[32m--> \u001b[39m\u001b[32m429\u001b[39m     \u001b[43mFigureCanvasAgg\u001b[49m\u001b[43m.\u001b[49m\u001b[43mdraw\u001b[49m\u001b[43m(\u001b[49m\u001b[38;5;28;43mself\u001b[39;49m\u001b[43m)\u001b[49m\n\u001b[32m    430\u001b[39m     mpl.image.imsave(\n\u001b[32m    431\u001b[39m         filename_or_obj, \u001b[38;5;28mself\u001b[39m.buffer_rgba(), \u001b[38;5;28mformat\u001b[39m=fmt, origin=\u001b[33m\"\u001b[39m\u001b[33mupper\u001b[39m\u001b[33m\"\u001b[39m,\n\u001b[32m    432\u001b[39m         dpi=\u001b[38;5;28mself\u001b[39m.figure.dpi, metadata=metadata, pil_kwargs=pil_kwargs)\n",
      "\u001b[36mFile \u001b[39m\u001b[32mc:\\Users\\USER\\anaconda3\\envs\\cleanwaterai_env\\Lib\\site-packages\\matplotlib\\backends\\backend_agg.py:377\u001b[39m, in \u001b[36mFigureCanvasAgg.draw\u001b[39m\u001b[34m(self)\u001b[39m\n\u001b[32m    375\u001b[39m \u001b[38;5;28;01mdef\u001b[39;00m\u001b[38;5;250m \u001b[39m\u001b[34mdraw\u001b[39m(\u001b[38;5;28mself\u001b[39m):\n\u001b[32m    376\u001b[39m     \u001b[38;5;66;03m# docstring inherited\u001b[39;00m\n\u001b[32m--> \u001b[39m\u001b[32m377\u001b[39m     \u001b[38;5;28mself\u001b[39m.renderer = \u001b[38;5;28;43mself\u001b[39;49m\u001b[43m.\u001b[49m\u001b[43mget_renderer\u001b[49m\u001b[43m(\u001b[49m\u001b[43m)\u001b[49m\n\u001b[32m    378\u001b[39m     \u001b[38;5;28mself\u001b[39m.renderer.clear()\n\u001b[32m    379\u001b[39m     \u001b[38;5;66;03m# Acquire a lock on the shared font cache.\u001b[39;00m\n",
      "\u001b[36mFile \u001b[39m\u001b[32mc:\\Users\\USER\\anaconda3\\envs\\cleanwaterai_env\\Lib\\site-packages\\matplotlib\\backends\\backend_agg.py:392\u001b[39m, in \u001b[36mFigureCanvasAgg.get_renderer\u001b[39m\u001b[34m(self)\u001b[39m\n\u001b[32m    390\u001b[39m reuse_renderer = (\u001b[38;5;28mself\u001b[39m._lastKey == key)\n\u001b[32m    391\u001b[39m \u001b[38;5;28;01mif\u001b[39;00m \u001b[38;5;129;01mnot\u001b[39;00m reuse_renderer:\n\u001b[32m--> \u001b[39m\u001b[32m392\u001b[39m     \u001b[38;5;28mself\u001b[39m.renderer = \u001b[43mRendererAgg\u001b[49m\u001b[43m(\u001b[49m\u001b[43mw\u001b[49m\u001b[43m,\u001b[49m\u001b[43m \u001b[49m\u001b[43mh\u001b[49m\u001b[43m,\u001b[49m\u001b[43m \u001b[49m\u001b[38;5;28;43mself\u001b[39;49m\u001b[43m.\u001b[49m\u001b[43mfigure\u001b[49m\u001b[43m.\u001b[49m\u001b[43mdpi\u001b[49m\u001b[43m)\u001b[49m\n\u001b[32m    393\u001b[39m     \u001b[38;5;28mself\u001b[39m._lastKey = key\n\u001b[32m    394\u001b[39m \u001b[38;5;28;01mreturn\u001b[39;00m \u001b[38;5;28mself\u001b[39m.renderer\n",
      "\u001b[36mFile \u001b[39m\u001b[32mc:\\Users\\USER\\anaconda3\\envs\\cleanwaterai_env\\Lib\\site-packages\\matplotlib\\backends\\backend_agg.py:69\u001b[39m, in \u001b[36mRendererAgg.__init__\u001b[39m\u001b[34m(self, width, height, dpi)\u001b[39m\n\u001b[32m     67\u001b[39m \u001b[38;5;28mself\u001b[39m.width = width\n\u001b[32m     68\u001b[39m \u001b[38;5;28mself\u001b[39m.height = height\n\u001b[32m---> \u001b[39m\u001b[32m69\u001b[39m \u001b[38;5;28mself\u001b[39m._renderer = \u001b[43m_RendererAgg\u001b[49m\u001b[43m(\u001b[49m\u001b[38;5;28;43mint\u001b[39;49m\u001b[43m(\u001b[49m\u001b[43mwidth\u001b[49m\u001b[43m)\u001b[49m\u001b[43m,\u001b[49m\u001b[43m \u001b[49m\u001b[38;5;28;43mint\u001b[39;49m\u001b[43m(\u001b[49m\u001b[43mheight\u001b[49m\u001b[43m)\u001b[49m\u001b[43m,\u001b[49m\u001b[43m \u001b[49m\u001b[43mdpi\u001b[49m\u001b[43m)\u001b[49m\n\u001b[32m     70\u001b[39m \u001b[38;5;28mself\u001b[39m._filter_renderers = []\n\u001b[32m     72\u001b[39m \u001b[38;5;28mself\u001b[39m._update_methods()\n",
      "\u001b[31mMemoryError\u001b[39m: bad allocation"
     ]
    },
    {
     "data": {
      "text/plain": [
       "<Figure size 640x480 with 1 Axes>"
      ]
     },
     "metadata": {},
     "output_type": "display_data"
    }
   ],
   "source": [
    "for i, count in enumerate(severity_counts.values):\n",
    "    plt.text(i, count + 50, f'{count}', ha='center', va='bottom')\n"
   ]
  }
 ],
 "metadata": {
  "kernelspec": {
   "display_name": "cleanwaterai_env",
   "language": "python",
   "name": "python3"
  },
  "language_info": {
   "codemirror_mode": {
    "name": "ipython",
    "version": 3
   },
   "file_extension": ".py",
   "mimetype": "text/x-python",
   "name": "python",
   "nbconvert_exporter": "python",
   "pygments_lexer": "ipython3",
   "version": "3.12.11"
  }
 },
 "nbformat": 4,
 "nbformat_minor": 5
}
