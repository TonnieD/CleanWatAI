{
 "cells": [
  {
   "cell_type": "code",
   "execution_count": 1,
   "id": "8c94ae43",
   "metadata": {
    "execution": {
     "iopub.execute_input": "2025-07-26T10:53:57.001852Z",
     "iopub.status.busy": "2025-07-26T10:53:57.001852Z",
     "iopub.status.idle": "2025-07-26T10:53:57.024678Z",
     "shell.execute_reply": "2025-07-26T10:53:57.023668Z"
    }
   },
   "outputs": [],
   "source": [
    "%load_ext autoreload\n",
    "%autoreload 2\n"
   ]
  },
  {
   "cell_type": "code",
   "execution_count": 2,
   "id": "2d968fdd",
   "metadata": {
    "execution": {
     "iopub.execute_input": "2025-07-26T10:53:57.027674Z",
     "iopub.status.busy": "2025-07-26T10:53:57.027674Z",
     "iopub.status.idle": "2025-07-26T10:53:57.043990Z",
     "shell.execute_reply": "2025-07-26T10:53:57.042981Z"
    }
   },
   "outputs": [],
   "source": [
    "# !streamlit run ../app/streamlit_app.py"
   ]
  }
 ],
 "metadata": {
  "kernelspec": {
   "display_name": "base",
   "language": "python",
   "name": "python3"
  },
  "language_info": {
   "codemirror_mode": {
    "name": "ipython",
    "version": 3
   },
   "file_extension": ".py",
   "mimetype": "text/x-python",
   "name": "python",
   "nbconvert_exporter": "python",
   "pygments_lexer": "ipython3",
   "version": "3.12.7"
  }
 },
 "nbformat": 4,
 "nbformat_minor": 5
}
