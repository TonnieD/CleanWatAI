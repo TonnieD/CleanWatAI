{
 "cells": [
  {
   "cell_type": "code",
   "execution_count": null,
   "id": "7d511bab",
   "metadata": {
    "execution": {
     "iopub.execute_input": "2025-07-26T10:53:34.712016Z",
     "iopub.status.busy": "2025-07-26T10:53:34.712016Z",
     "iopub.status.idle": "2025-07-26T10:53:34.734200Z",
     "shell.execute_reply": "2025-07-26T10:53:34.733193Z"
    }
   },
   "outputs": [],
   "source": [
    "%load_ext autoreload\n",
    "%autoreload 2"
   ]
  },
  {
   "cell_type": "code",
   "execution_count": null,
   "id": "5ce2d4eb",
   "metadata": {},
   "outputs": [],
   "source": []
  }
 ],
 "metadata": {
  "language_info": {
   "codemirror_mode": {
    "name": "ipython",
    "version": 3
   },
   "file_extension": ".py",
   "mimetype": "text/x-python",
   "name": "python",
   "nbconvert_exporter": "python",
   "pygments_lexer": "ipython3",
   "version": "3.12.7"
  }
 },
 "nbformat": 4,
 "nbformat_minor": 5
}
